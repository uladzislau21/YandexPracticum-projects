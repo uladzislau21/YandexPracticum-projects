{
 "cells": [
  {
   "cell_type": "markdown",
   "metadata": {},
   "source": [
    "# Определение преспективного тарифа для телеком-компании / Determination of a prospective tariff for a telecom company"
   ]
  },
  {
   "cell_type": "markdown",
   "metadata": {},
   "source": [
    "В данном проекте у нас есть данные 500 пользователей телеком-оператора \"Мегалайн\" (звонки, смс, интернет). Наша цель состоит в том, чтобы используя эти данные, понять какой тариф лучше: Смарт или Ультра. Это поможет спланировать рекламный бюджет.\n",
    "\n",
    "Сперва изучим данные, затем подготовим их для анализа, проведем исследовательский анализ данных, и применим статистический тест для проверки интересующих нас гипотез.\n",
    "\n",
    "----\n",
    "\n",
    "In this project, we have data of 500 users of the Megaline telecom operator (calls, SMS, Internet). Our goal is to use this data to understand which tariff is better: Smart or Ultra. This will help you plan your advertising budget.\n",
    "\n",
    "We first examine the data, then prepare it for analysis, perform an exploratory analysis of the data, and apply a statistical test to test the hypotheses that interest us."
   ]
  },
  {
   "cell_type": "markdown",
   "metadata": {},
   "source": [
    "## Загрузка данных / Data import"
   ]
  },
  {
   "cell_type": "code",
   "execution_count": 2,
   "metadata": {},
   "outputs": [],
   "source": [
    "import pandas as pd\n",
    "import numpy as np\n",
    "import matplotlib.pyplot as plt\n",
    "import scipy.stats as st\n",
    "import random as rd"
   ]
  },
  {
   "cell_type": "markdown",
   "metadata": {},
   "source": [
    "Считаем данные. При считывании сразу переведем колонки с датами в тип ***datetime*** с помощью параметра **parse_dates**.\n",
    "\n",
    "----\n",
    "\n",
    "Import the data. When importing, we immediately convert the columns with dates to the ***datetime*** type using the **parse_dates** parameter."
   ]
  },
  {
   "cell_type": "code",
   "execution_count": 4,
   "metadata": {},
   "outputs": [],
   "source": [
    "try:\n",
    "    calls = pd.read_csv('/datasets/calls.csv', parse_dates=['call_date'])\n",
    "    internet = pd.read_csv('/datasets/internet.csv', parse_dates=['session_date'])\n",
    "    messages = pd.read_csv('/datasets/messages.csv', parse_dates=['message_date'])\n",
    "    tariffs = pd.read_csv('/datasets/tariffs.csv')\n",
    "    users = pd.read_csv('/datasets/users.csv', parse_dates=['reg_date'], index_col=['user_id'])\n",
    "except:\n",
    "    calls = pd.read_csv('/Users/vlad/Documents/Documents Linux/Yandex DS/Projects/YandexPracticum-projects/stat/calls.csv', parse_dates=['call_date'])\n",
    "    internet = pd.read_csv('/Users/vlad/Documents/Documents Linux/Yandex DS/Projects/YandexPracticum-projects/stat/internet.csv', parse_dates=['session_date'])\n",
    "    messages = pd.read_csv('/Users/vlad/Documents/Documents Linux/Yandex DS/Projects/YandexPracticum-projects/stat/messages.csv', parse_dates=['message_date'])\n",
    "    tariffs = pd.read_csv('/Users/vlad/Documents/Documents Linux/Yandex DS/Projects/YandexPracticum-projects/stat/tariffs.csv')\n",
    "    users = pd.read_csv('/Users/vlad/Documents/Documents Linux/Yandex DS/Projects/YandexPracticum-projects/stat/users.csv', parse_dates=['reg_date'], index_col=['user_id'])"
   ]
  },
  {
   "cell_type": "code",
   "execution_count": 5,
   "metadata": {
    "scrolled": true
   },
   "outputs": [
    {
     "name": "stdout",
     "output_type": "stream",
     "text": [
      "<class 'pandas.core.frame.DataFrame'>\n",
      "RangeIndex: 202607 entries, 0 to 202606\n",
      "Data columns (total 4 columns):\n",
      " #   Column     Non-Null Count   Dtype         \n",
      "---  ------     --------------   -----         \n",
      " 0   id         202607 non-null  object        \n",
      " 1   call_date  202607 non-null  datetime64[ns]\n",
      " 2   duration   202607 non-null  float64       \n",
      " 3   user_id    202607 non-null  int64         \n",
      "dtypes: datetime64[ns](1), float64(1), int64(1), object(1)\n",
      "memory usage: 6.2+ MB\n",
      "None\n",
      "\n",
      "<class 'pandas.core.frame.DataFrame'>\n",
      "RangeIndex: 149396 entries, 0 to 149395\n",
      "Data columns (total 5 columns):\n",
      " #   Column        Non-Null Count   Dtype         \n",
      "---  ------        --------------   -----         \n",
      " 0   Unnamed: 0    149396 non-null  int64         \n",
      " 1   id            149396 non-null  object        \n",
      " 2   mb_used       149396 non-null  float64       \n",
      " 3   session_date  149396 non-null  datetime64[ns]\n",
      " 4   user_id       149396 non-null  int64         \n",
      "dtypes: datetime64[ns](1), float64(1), int64(2), object(1)\n",
      "memory usage: 5.7+ MB\n",
      "None\n",
      "\n",
      "<class 'pandas.core.frame.DataFrame'>\n",
      "RangeIndex: 123036 entries, 0 to 123035\n",
      "Data columns (total 3 columns):\n",
      " #   Column        Non-Null Count   Dtype         \n",
      "---  ------        --------------   -----         \n",
      " 0   id            123036 non-null  object        \n",
      " 1   message_date  123036 non-null  datetime64[ns]\n",
      " 2   user_id       123036 non-null  int64         \n",
      "dtypes: datetime64[ns](1), int64(1), object(1)\n",
      "memory usage: 2.8+ MB\n",
      "None\n",
      "\n",
      "<class 'pandas.core.frame.DataFrame'>\n",
      "RangeIndex: 2 entries, 0 to 1\n",
      "Data columns (total 8 columns):\n",
      " #   Column                 Non-Null Count  Dtype \n",
      "---  ------                 --------------  ----- \n",
      " 0   messages_included      2 non-null      int64 \n",
      " 1   mb_per_month_included  2 non-null      int64 \n",
      " 2   minutes_included       2 non-null      int64 \n",
      " 3   rub_monthly_fee        2 non-null      int64 \n",
      " 4   rub_per_gb             2 non-null      int64 \n",
      " 5   rub_per_message        2 non-null      int64 \n",
      " 6   rub_per_minute         2 non-null      int64 \n",
      " 7   tariff_name            2 non-null      object\n",
      "dtypes: int64(7), object(1)\n",
      "memory usage: 256.0+ bytes\n",
      "None\n",
      "\n",
      "<class 'pandas.core.frame.DataFrame'>\n",
      "Int64Index: 500 entries, 1000 to 1499\n",
      "Data columns (total 7 columns):\n",
      " #   Column      Non-Null Count  Dtype         \n",
      "---  ------      --------------  -----         \n",
      " 0   age         500 non-null    int64         \n",
      " 1   churn_date  38 non-null     object        \n",
      " 2   city        500 non-null    object        \n",
      " 3   first_name  500 non-null    object        \n",
      " 4   last_name   500 non-null    object        \n",
      " 5   reg_date    500 non-null    datetime64[ns]\n",
      " 6   tariff      500 non-null    object        \n",
      "dtypes: datetime64[ns](1), int64(1), object(5)\n",
      "memory usage: 31.2+ KB\n",
      "None\n",
      "\n"
     ]
    }
   ],
   "source": [
    "# изучим основную информацию по датасетам через цикл\n",
    "# explore the data in a loop\n",
    "dfs = [calls, internet, messages, tariffs, users]\n",
    "for df in dfs:\n",
    "    print(df.info())\n",
    "    print()"
   ]
  },
  {
   "cell_type": "code",
   "execution_count": 6,
   "metadata": {
    "scrolled": true
   },
   "outputs": [
    {
     "data": {
      "text/html": [
       "<div>\n",
       "<style scoped>\n",
       "    .dataframe tbody tr th:only-of-type {\n",
       "        vertical-align: middle;\n",
       "    }\n",
       "\n",
       "    .dataframe tbody tr th {\n",
       "        vertical-align: top;\n",
       "    }\n",
       "\n",
       "    .dataframe thead th {\n",
       "        text-align: right;\n",
       "    }\n",
       "</style>\n",
       "<table border=\"1\" class=\"dataframe\">\n",
       "  <thead>\n",
       "    <tr style=\"text-align: right;\">\n",
       "      <th></th>\n",
       "      <th>id</th>\n",
       "      <th>call_date</th>\n",
       "      <th>duration</th>\n",
       "      <th>user_id</th>\n",
       "    </tr>\n",
       "  </thead>\n",
       "  <tbody>\n",
       "    <tr>\n",
       "      <th>0</th>\n",
       "      <td>1000_0</td>\n",
       "      <td>2018-07-25</td>\n",
       "      <td>0.00</td>\n",
       "      <td>1000</td>\n",
       "    </tr>\n",
       "    <tr>\n",
       "      <th>1</th>\n",
       "      <td>1000_1</td>\n",
       "      <td>2018-08-17</td>\n",
       "      <td>0.00</td>\n",
       "      <td>1000</td>\n",
       "    </tr>\n",
       "    <tr>\n",
       "      <th>2</th>\n",
       "      <td>1000_2</td>\n",
       "      <td>2018-06-11</td>\n",
       "      <td>2.85</td>\n",
       "      <td>1000</td>\n",
       "    </tr>\n",
       "    <tr>\n",
       "      <th>3</th>\n",
       "      <td>1000_3</td>\n",
       "      <td>2018-09-21</td>\n",
       "      <td>13.80</td>\n",
       "      <td>1000</td>\n",
       "    </tr>\n",
       "    <tr>\n",
       "      <th>4</th>\n",
       "      <td>1000_4</td>\n",
       "      <td>2018-12-15</td>\n",
       "      <td>5.18</td>\n",
       "      <td>1000</td>\n",
       "    </tr>\n",
       "    <tr>\n",
       "      <th>...</th>\n",
       "      <td>...</td>\n",
       "      <td>...</td>\n",
       "      <td>...</td>\n",
       "      <td>...</td>\n",
       "    </tr>\n",
       "    <tr>\n",
       "      <th>202602</th>\n",
       "      <td>1499_215</td>\n",
       "      <td>2018-12-26</td>\n",
       "      <td>0.76</td>\n",
       "      <td>1499</td>\n",
       "    </tr>\n",
       "    <tr>\n",
       "      <th>202603</th>\n",
       "      <td>1499_216</td>\n",
       "      <td>2018-10-18</td>\n",
       "      <td>18.83</td>\n",
       "      <td>1499</td>\n",
       "    </tr>\n",
       "    <tr>\n",
       "      <th>202604</th>\n",
       "      <td>1499_217</td>\n",
       "      <td>2018-11-10</td>\n",
       "      <td>10.81</td>\n",
       "      <td>1499</td>\n",
       "    </tr>\n",
       "    <tr>\n",
       "      <th>202605</th>\n",
       "      <td>1499_218</td>\n",
       "      <td>2018-10-06</td>\n",
       "      <td>4.27</td>\n",
       "      <td>1499</td>\n",
       "    </tr>\n",
       "    <tr>\n",
       "      <th>202606</th>\n",
       "      <td>1499_219</td>\n",
       "      <td>2018-12-14</td>\n",
       "      <td>19.62</td>\n",
       "      <td>1499</td>\n",
       "    </tr>\n",
       "  </tbody>\n",
       "</table>\n",
       "<p>202607 rows × 4 columns</p>\n",
       "</div>"
      ],
      "text/plain": [
       "              id  call_date  duration  user_id\n",
       "0         1000_0 2018-07-25      0.00     1000\n",
       "1         1000_1 2018-08-17      0.00     1000\n",
       "2         1000_2 2018-06-11      2.85     1000\n",
       "3         1000_3 2018-09-21     13.80     1000\n",
       "4         1000_4 2018-12-15      5.18     1000\n",
       "...          ...        ...       ...      ...\n",
       "202602  1499_215 2018-12-26      0.76     1499\n",
       "202603  1499_216 2018-10-18     18.83     1499\n",
       "202604  1499_217 2018-11-10     10.81     1499\n",
       "202605  1499_218 2018-10-06      4.27     1499\n",
       "202606  1499_219 2018-12-14     19.62     1499\n",
       "\n",
       "[202607 rows x 4 columns]"
      ]
     },
     "metadata": {},
     "output_type": "display_data"
    },
    {
     "name": "stdout",
     "output_type": "stream",
     "text": [
      "\n"
     ]
    },
    {
     "data": {
      "text/html": [
       "<div>\n",
       "<style scoped>\n",
       "    .dataframe tbody tr th:only-of-type {\n",
       "        vertical-align: middle;\n",
       "    }\n",
       "\n",
       "    .dataframe tbody tr th {\n",
       "        vertical-align: top;\n",
       "    }\n",
       "\n",
       "    .dataframe thead th {\n",
       "        text-align: right;\n",
       "    }\n",
       "</style>\n",
       "<table border=\"1\" class=\"dataframe\">\n",
       "  <thead>\n",
       "    <tr style=\"text-align: right;\">\n",
       "      <th></th>\n",
       "      <th>Unnamed: 0</th>\n",
       "      <th>id</th>\n",
       "      <th>mb_used</th>\n",
       "      <th>session_date</th>\n",
       "      <th>user_id</th>\n",
       "    </tr>\n",
       "  </thead>\n",
       "  <tbody>\n",
       "    <tr>\n",
       "      <th>0</th>\n",
       "      <td>0</td>\n",
       "      <td>1000_0</td>\n",
       "      <td>112.95</td>\n",
       "      <td>2018-11-25</td>\n",
       "      <td>1000</td>\n",
       "    </tr>\n",
       "    <tr>\n",
       "      <th>1</th>\n",
       "      <td>1</td>\n",
       "      <td>1000_1</td>\n",
       "      <td>1052.81</td>\n",
       "      <td>2018-09-07</td>\n",
       "      <td>1000</td>\n",
       "    </tr>\n",
       "    <tr>\n",
       "      <th>2</th>\n",
       "      <td>2</td>\n",
       "      <td>1000_2</td>\n",
       "      <td>1197.26</td>\n",
       "      <td>2018-06-25</td>\n",
       "      <td>1000</td>\n",
       "    </tr>\n",
       "    <tr>\n",
       "      <th>3</th>\n",
       "      <td>3</td>\n",
       "      <td>1000_3</td>\n",
       "      <td>550.27</td>\n",
       "      <td>2018-08-22</td>\n",
       "      <td>1000</td>\n",
       "    </tr>\n",
       "    <tr>\n",
       "      <th>4</th>\n",
       "      <td>4</td>\n",
       "      <td>1000_4</td>\n",
       "      <td>302.56</td>\n",
       "      <td>2018-09-24</td>\n",
       "      <td>1000</td>\n",
       "    </tr>\n",
       "    <tr>\n",
       "      <th>...</th>\n",
       "      <td>...</td>\n",
       "      <td>...</td>\n",
       "      <td>...</td>\n",
       "      <td>...</td>\n",
       "      <td>...</td>\n",
       "    </tr>\n",
       "    <tr>\n",
       "      <th>149391</th>\n",
       "      <td>149391</td>\n",
       "      <td>1499_152</td>\n",
       "      <td>318.90</td>\n",
       "      <td>2018-10-03</td>\n",
       "      <td>1499</td>\n",
       "    </tr>\n",
       "    <tr>\n",
       "      <th>149392</th>\n",
       "      <td>149392</td>\n",
       "      <td>1499_153</td>\n",
       "      <td>490.13</td>\n",
       "      <td>2018-12-14</td>\n",
       "      <td>1499</td>\n",
       "    </tr>\n",
       "    <tr>\n",
       "      <th>149393</th>\n",
       "      <td>149393</td>\n",
       "      <td>1499_154</td>\n",
       "      <td>0.00</td>\n",
       "      <td>2018-10-27</td>\n",
       "      <td>1499</td>\n",
       "    </tr>\n",
       "    <tr>\n",
       "      <th>149394</th>\n",
       "      <td>149394</td>\n",
       "      <td>1499_155</td>\n",
       "      <td>1246.32</td>\n",
       "      <td>2018-11-26</td>\n",
       "      <td>1499</td>\n",
       "    </tr>\n",
       "    <tr>\n",
       "      <th>149395</th>\n",
       "      <td>149395</td>\n",
       "      <td>1499_156</td>\n",
       "      <td>544.37</td>\n",
       "      <td>2018-10-26</td>\n",
       "      <td>1499</td>\n",
       "    </tr>\n",
       "  </tbody>\n",
       "</table>\n",
       "<p>149396 rows × 5 columns</p>\n",
       "</div>"
      ],
      "text/plain": [
       "        Unnamed: 0        id  mb_used session_date  user_id\n",
       "0                0    1000_0   112.95   2018-11-25     1000\n",
       "1                1    1000_1  1052.81   2018-09-07     1000\n",
       "2                2    1000_2  1197.26   2018-06-25     1000\n",
       "3                3    1000_3   550.27   2018-08-22     1000\n",
       "4                4    1000_4   302.56   2018-09-24     1000\n",
       "...            ...       ...      ...          ...      ...\n",
       "149391      149391  1499_152   318.90   2018-10-03     1499\n",
       "149392      149392  1499_153   490.13   2018-12-14     1499\n",
       "149393      149393  1499_154     0.00   2018-10-27     1499\n",
       "149394      149394  1499_155  1246.32   2018-11-26     1499\n",
       "149395      149395  1499_156   544.37   2018-10-26     1499\n",
       "\n",
       "[149396 rows x 5 columns]"
      ]
     },
     "metadata": {},
     "output_type": "display_data"
    },
    {
     "name": "stdout",
     "output_type": "stream",
     "text": [
      "\n"
     ]
    },
    {
     "data": {
      "text/html": [
       "<div>\n",
       "<style scoped>\n",
       "    .dataframe tbody tr th:only-of-type {\n",
       "        vertical-align: middle;\n",
       "    }\n",
       "\n",
       "    .dataframe tbody tr th {\n",
       "        vertical-align: top;\n",
       "    }\n",
       "\n",
       "    .dataframe thead th {\n",
       "        text-align: right;\n",
       "    }\n",
       "</style>\n",
       "<table border=\"1\" class=\"dataframe\">\n",
       "  <thead>\n",
       "    <tr style=\"text-align: right;\">\n",
       "      <th></th>\n",
       "      <th>id</th>\n",
       "      <th>message_date</th>\n",
       "      <th>user_id</th>\n",
       "    </tr>\n",
       "  </thead>\n",
       "  <tbody>\n",
       "    <tr>\n",
       "      <th>0</th>\n",
       "      <td>1000_0</td>\n",
       "      <td>2018-06-27</td>\n",
       "      <td>1000</td>\n",
       "    </tr>\n",
       "    <tr>\n",
       "      <th>1</th>\n",
       "      <td>1000_1</td>\n",
       "      <td>2018-10-08</td>\n",
       "      <td>1000</td>\n",
       "    </tr>\n",
       "    <tr>\n",
       "      <th>2</th>\n",
       "      <td>1000_2</td>\n",
       "      <td>2018-08-04</td>\n",
       "      <td>1000</td>\n",
       "    </tr>\n",
       "    <tr>\n",
       "      <th>3</th>\n",
       "      <td>1000_3</td>\n",
       "      <td>2018-06-16</td>\n",
       "      <td>1000</td>\n",
       "    </tr>\n",
       "    <tr>\n",
       "      <th>4</th>\n",
       "      <td>1000_4</td>\n",
       "      <td>2018-12-05</td>\n",
       "      <td>1000</td>\n",
       "    </tr>\n",
       "    <tr>\n",
       "      <th>...</th>\n",
       "      <td>...</td>\n",
       "      <td>...</td>\n",
       "      <td>...</td>\n",
       "    </tr>\n",
       "    <tr>\n",
       "      <th>123031</th>\n",
       "      <td>1499_179</td>\n",
       "      <td>2018-12-12</td>\n",
       "      <td>1499</td>\n",
       "    </tr>\n",
       "    <tr>\n",
       "      <th>123032</th>\n",
       "      <td>1499_180</td>\n",
       "      <td>2018-09-28</td>\n",
       "      <td>1499</td>\n",
       "    </tr>\n",
       "    <tr>\n",
       "      <th>123033</th>\n",
       "      <td>1499_181</td>\n",
       "      <td>2018-09-27</td>\n",
       "      <td>1499</td>\n",
       "    </tr>\n",
       "    <tr>\n",
       "      <th>123034</th>\n",
       "      <td>1499_182</td>\n",
       "      <td>2018-11-15</td>\n",
       "      <td>1499</td>\n",
       "    </tr>\n",
       "    <tr>\n",
       "      <th>123035</th>\n",
       "      <td>1499_183</td>\n",
       "      <td>2018-11-16</td>\n",
       "      <td>1499</td>\n",
       "    </tr>\n",
       "  </tbody>\n",
       "</table>\n",
       "<p>123036 rows × 3 columns</p>\n",
       "</div>"
      ],
      "text/plain": [
       "              id message_date  user_id\n",
       "0         1000_0   2018-06-27     1000\n",
       "1         1000_1   2018-10-08     1000\n",
       "2         1000_2   2018-08-04     1000\n",
       "3         1000_3   2018-06-16     1000\n",
       "4         1000_4   2018-12-05     1000\n",
       "...          ...          ...      ...\n",
       "123031  1499_179   2018-12-12     1499\n",
       "123032  1499_180   2018-09-28     1499\n",
       "123033  1499_181   2018-09-27     1499\n",
       "123034  1499_182   2018-11-15     1499\n",
       "123035  1499_183   2018-11-16     1499\n",
       "\n",
       "[123036 rows x 3 columns]"
      ]
     },
     "metadata": {},
     "output_type": "display_data"
    },
    {
     "name": "stdout",
     "output_type": "stream",
     "text": [
      "\n"
     ]
    },
    {
     "data": {
      "text/html": [
       "<div>\n",
       "<style scoped>\n",
       "    .dataframe tbody tr th:only-of-type {\n",
       "        vertical-align: middle;\n",
       "    }\n",
       "\n",
       "    .dataframe tbody tr th {\n",
       "        vertical-align: top;\n",
       "    }\n",
       "\n",
       "    .dataframe thead th {\n",
       "        text-align: right;\n",
       "    }\n",
       "</style>\n",
       "<table border=\"1\" class=\"dataframe\">\n",
       "  <thead>\n",
       "    <tr style=\"text-align: right;\">\n",
       "      <th></th>\n",
       "      <th>messages_included</th>\n",
       "      <th>mb_per_month_included</th>\n",
       "      <th>minutes_included</th>\n",
       "      <th>rub_monthly_fee</th>\n",
       "      <th>rub_per_gb</th>\n",
       "      <th>rub_per_message</th>\n",
       "      <th>rub_per_minute</th>\n",
       "      <th>tariff_name</th>\n",
       "    </tr>\n",
       "  </thead>\n",
       "  <tbody>\n",
       "    <tr>\n",
       "      <th>0</th>\n",
       "      <td>50</td>\n",
       "      <td>15360</td>\n",
       "      <td>500</td>\n",
       "      <td>550</td>\n",
       "      <td>200</td>\n",
       "      <td>3</td>\n",
       "      <td>3</td>\n",
       "      <td>smart</td>\n",
       "    </tr>\n",
       "    <tr>\n",
       "      <th>1</th>\n",
       "      <td>1000</td>\n",
       "      <td>30720</td>\n",
       "      <td>3000</td>\n",
       "      <td>1950</td>\n",
       "      <td>150</td>\n",
       "      <td>1</td>\n",
       "      <td>1</td>\n",
       "      <td>ultra</td>\n",
       "    </tr>\n",
       "  </tbody>\n",
       "</table>\n",
       "</div>"
      ],
      "text/plain": [
       "   messages_included  mb_per_month_included  minutes_included  \\\n",
       "0                 50                  15360               500   \n",
       "1               1000                  30720              3000   \n",
       "\n",
       "   rub_monthly_fee  rub_per_gb  rub_per_message  rub_per_minute tariff_name  \n",
       "0              550         200                3               3       smart  \n",
       "1             1950         150                1               1       ultra  "
      ]
     },
     "metadata": {},
     "output_type": "display_data"
    },
    {
     "name": "stdout",
     "output_type": "stream",
     "text": [
      "\n"
     ]
    },
    {
     "data": {
      "text/html": [
       "<div>\n",
       "<style scoped>\n",
       "    .dataframe tbody tr th:only-of-type {\n",
       "        vertical-align: middle;\n",
       "    }\n",
       "\n",
       "    .dataframe tbody tr th {\n",
       "        vertical-align: top;\n",
       "    }\n",
       "\n",
       "    .dataframe thead th {\n",
       "        text-align: right;\n",
       "    }\n",
       "</style>\n",
       "<table border=\"1\" class=\"dataframe\">\n",
       "  <thead>\n",
       "    <tr style=\"text-align: right;\">\n",
       "      <th></th>\n",
       "      <th>age</th>\n",
       "      <th>churn_date</th>\n",
       "      <th>city</th>\n",
       "      <th>first_name</th>\n",
       "      <th>last_name</th>\n",
       "      <th>reg_date</th>\n",
       "      <th>tariff</th>\n",
       "    </tr>\n",
       "    <tr>\n",
       "      <th>user_id</th>\n",
       "      <th></th>\n",
       "      <th></th>\n",
       "      <th></th>\n",
       "      <th></th>\n",
       "      <th></th>\n",
       "      <th></th>\n",
       "      <th></th>\n",
       "    </tr>\n",
       "  </thead>\n",
       "  <tbody>\n",
       "    <tr>\n",
       "      <th>1000</th>\n",
       "      <td>52</td>\n",
       "      <td>NaN</td>\n",
       "      <td>Краснодар</td>\n",
       "      <td>Рафаил</td>\n",
       "      <td>Верещагин</td>\n",
       "      <td>2018-05-25</td>\n",
       "      <td>ultra</td>\n",
       "    </tr>\n",
       "    <tr>\n",
       "      <th>1001</th>\n",
       "      <td>41</td>\n",
       "      <td>NaN</td>\n",
       "      <td>Москва</td>\n",
       "      <td>Иван</td>\n",
       "      <td>Ежов</td>\n",
       "      <td>2018-11-01</td>\n",
       "      <td>smart</td>\n",
       "    </tr>\n",
       "    <tr>\n",
       "      <th>1002</th>\n",
       "      <td>59</td>\n",
       "      <td>NaN</td>\n",
       "      <td>Стерлитамак</td>\n",
       "      <td>Евгений</td>\n",
       "      <td>Абрамович</td>\n",
       "      <td>2018-06-17</td>\n",
       "      <td>smart</td>\n",
       "    </tr>\n",
       "    <tr>\n",
       "      <th>1003</th>\n",
       "      <td>23</td>\n",
       "      <td>NaN</td>\n",
       "      <td>Москва</td>\n",
       "      <td>Белла</td>\n",
       "      <td>Белякова</td>\n",
       "      <td>2018-08-17</td>\n",
       "      <td>ultra</td>\n",
       "    </tr>\n",
       "    <tr>\n",
       "      <th>1004</th>\n",
       "      <td>68</td>\n",
       "      <td>NaN</td>\n",
       "      <td>Новокузнецк</td>\n",
       "      <td>Татьяна</td>\n",
       "      <td>Авдеенко</td>\n",
       "      <td>2018-05-14</td>\n",
       "      <td>ultra</td>\n",
       "    </tr>\n",
       "    <tr>\n",
       "      <th>...</th>\n",
       "      <td>...</td>\n",
       "      <td>...</td>\n",
       "      <td>...</td>\n",
       "      <td>...</td>\n",
       "      <td>...</td>\n",
       "      <td>...</td>\n",
       "      <td>...</td>\n",
       "    </tr>\n",
       "    <tr>\n",
       "      <th>1495</th>\n",
       "      <td>65</td>\n",
       "      <td>NaN</td>\n",
       "      <td>Иркутск</td>\n",
       "      <td>Авксентий</td>\n",
       "      <td>Фокин</td>\n",
       "      <td>2018-08-28</td>\n",
       "      <td>ultra</td>\n",
       "    </tr>\n",
       "    <tr>\n",
       "      <th>1496</th>\n",
       "      <td>36</td>\n",
       "      <td>NaN</td>\n",
       "      <td>Вологда</td>\n",
       "      <td>Трифон</td>\n",
       "      <td>Блохин</td>\n",
       "      <td>2018-01-27</td>\n",
       "      <td>smart</td>\n",
       "    </tr>\n",
       "    <tr>\n",
       "      <th>1497</th>\n",
       "      <td>32</td>\n",
       "      <td>NaN</td>\n",
       "      <td>Челябинск</td>\n",
       "      <td>Каролина</td>\n",
       "      <td>Агеева</td>\n",
       "      <td>2018-10-09</td>\n",
       "      <td>smart</td>\n",
       "    </tr>\n",
       "    <tr>\n",
       "      <th>1498</th>\n",
       "      <td>68</td>\n",
       "      <td>2018-10-25</td>\n",
       "      <td>Владикавказ</td>\n",
       "      <td>Всеволод</td>\n",
       "      <td>Акимчин</td>\n",
       "      <td>2018-07-19</td>\n",
       "      <td>smart</td>\n",
       "    </tr>\n",
       "    <tr>\n",
       "      <th>1499</th>\n",
       "      <td>35</td>\n",
       "      <td>NaN</td>\n",
       "      <td>Пермь</td>\n",
       "      <td>Гектор</td>\n",
       "      <td>Корнилов</td>\n",
       "      <td>2018-09-27</td>\n",
       "      <td>smart</td>\n",
       "    </tr>\n",
       "  </tbody>\n",
       "</table>\n",
       "<p>500 rows × 7 columns</p>\n",
       "</div>"
      ],
      "text/plain": [
       "         age  churn_date         city first_name  last_name   reg_date tariff\n",
       "user_id                                                                      \n",
       "1000      52         NaN    Краснодар     Рафаил  Верещагин 2018-05-25  ultra\n",
       "1001      41         NaN       Москва       Иван       Ежов 2018-11-01  smart\n",
       "1002      59         NaN  Стерлитамак    Евгений  Абрамович 2018-06-17  smart\n",
       "1003      23         NaN       Москва      Белла   Белякова 2018-08-17  ultra\n",
       "1004      68         NaN  Новокузнецк    Татьяна   Авдеенко 2018-05-14  ultra\n",
       "...      ...         ...          ...        ...        ...        ...    ...\n",
       "1495      65         NaN      Иркутск  Авксентий      Фокин 2018-08-28  ultra\n",
       "1496      36         NaN      Вологда     Трифон     Блохин 2018-01-27  smart\n",
       "1497      32         NaN    Челябинск   Каролина     Агеева 2018-10-09  smart\n",
       "1498      68  2018-10-25  Владикавказ   Всеволод    Акимчин 2018-07-19  smart\n",
       "1499      35         NaN        Пермь     Гектор   Корнилов 2018-09-27  smart\n",
       "\n",
       "[500 rows x 7 columns]"
      ]
     },
     "metadata": {},
     "output_type": "display_data"
    },
    {
     "name": "stdout",
     "output_type": "stream",
     "text": [
      "\n"
     ]
    }
   ],
   "source": [
    "# выведем на экран сами датасеты для изучения\n",
    "# show first rows in each dataset\n",
    "for df in dfs:\n",
    "    display(df)\n",
    "    print()"
   ]
  },
  {
   "cell_type": "code",
   "execution_count": 7,
   "metadata": {
    "scrolled": true
   },
   "outputs": [
    {
     "data": {
      "text/html": [
       "<div>\n",
       "<style scoped>\n",
       "    .dataframe tbody tr th:only-of-type {\n",
       "        vertical-align: middle;\n",
       "    }\n",
       "\n",
       "    .dataframe tbody tr th {\n",
       "        vertical-align: top;\n",
       "    }\n",
       "\n",
       "    .dataframe thead th {\n",
       "        text-align: right;\n",
       "    }\n",
       "</style>\n",
       "<table border=\"1\" class=\"dataframe\">\n",
       "  <thead>\n",
       "    <tr style=\"text-align: right;\">\n",
       "      <th></th>\n",
       "      <th>id</th>\n",
       "      <th>mb_used</th>\n",
       "      <th>session_date</th>\n",
       "      <th>user_id</th>\n",
       "    </tr>\n",
       "  </thead>\n",
       "  <tbody>\n",
       "    <tr>\n",
       "      <th>0</th>\n",
       "      <td>1000_0</td>\n",
       "      <td>112.95</td>\n",
       "      <td>2018-11-25</td>\n",
       "      <td>1000</td>\n",
       "    </tr>\n",
       "    <tr>\n",
       "      <th>1</th>\n",
       "      <td>1000_1</td>\n",
       "      <td>1052.81</td>\n",
       "      <td>2018-09-07</td>\n",
       "      <td>1000</td>\n",
       "    </tr>\n",
       "    <tr>\n",
       "      <th>2</th>\n",
       "      <td>1000_2</td>\n",
       "      <td>1197.26</td>\n",
       "      <td>2018-06-25</td>\n",
       "      <td>1000</td>\n",
       "    </tr>\n",
       "    <tr>\n",
       "      <th>3</th>\n",
       "      <td>1000_3</td>\n",
       "      <td>550.27</td>\n",
       "      <td>2018-08-22</td>\n",
       "      <td>1000</td>\n",
       "    </tr>\n",
       "    <tr>\n",
       "      <th>4</th>\n",
       "      <td>1000_4</td>\n",
       "      <td>302.56</td>\n",
       "      <td>2018-09-24</td>\n",
       "      <td>1000</td>\n",
       "    </tr>\n",
       "    <tr>\n",
       "      <th>...</th>\n",
       "      <td>...</td>\n",
       "      <td>...</td>\n",
       "      <td>...</td>\n",
       "      <td>...</td>\n",
       "    </tr>\n",
       "    <tr>\n",
       "      <th>149391</th>\n",
       "      <td>1499_152</td>\n",
       "      <td>318.90</td>\n",
       "      <td>2018-10-03</td>\n",
       "      <td>1499</td>\n",
       "    </tr>\n",
       "    <tr>\n",
       "      <th>149392</th>\n",
       "      <td>1499_153</td>\n",
       "      <td>490.13</td>\n",
       "      <td>2018-12-14</td>\n",
       "      <td>1499</td>\n",
       "    </tr>\n",
       "    <tr>\n",
       "      <th>149393</th>\n",
       "      <td>1499_154</td>\n",
       "      <td>0.00</td>\n",
       "      <td>2018-10-27</td>\n",
       "      <td>1499</td>\n",
       "    </tr>\n",
       "    <tr>\n",
       "      <th>149394</th>\n",
       "      <td>1499_155</td>\n",
       "      <td>1246.32</td>\n",
       "      <td>2018-11-26</td>\n",
       "      <td>1499</td>\n",
       "    </tr>\n",
       "    <tr>\n",
       "      <th>149395</th>\n",
       "      <td>1499_156</td>\n",
       "      <td>544.37</td>\n",
       "      <td>2018-10-26</td>\n",
       "      <td>1499</td>\n",
       "    </tr>\n",
       "  </tbody>\n",
       "</table>\n",
       "<p>149396 rows × 4 columns</p>\n",
       "</div>"
      ],
      "text/plain": [
       "              id  mb_used session_date  user_id\n",
       "0         1000_0   112.95   2018-11-25     1000\n",
       "1         1000_1  1052.81   2018-09-07     1000\n",
       "2         1000_2  1197.26   2018-06-25     1000\n",
       "3         1000_3   550.27   2018-08-22     1000\n",
       "4         1000_4   302.56   2018-09-24     1000\n",
       "...          ...      ...          ...      ...\n",
       "149391  1499_152   318.90   2018-10-03     1499\n",
       "149392  1499_153   490.13   2018-12-14     1499\n",
       "149393  1499_154     0.00   2018-10-27     1499\n",
       "149394  1499_155  1246.32   2018-11-26     1499\n",
       "149395  1499_156   544.37   2018-10-26     1499\n",
       "\n",
       "[149396 rows x 4 columns]"
      ]
     },
     "execution_count": 7,
     "metadata": {},
     "output_type": "execute_result"
    }
   ],
   "source": [
    "# удалим ненужную колонку с id в датасете internet\n",
    "# delete extra column in internet dataset\n",
    "internet.drop('Unnamed: 0', axis=1, inplace=True)\n",
    "internet"
   ]
  },
  {
   "cell_type": "code",
   "execution_count": 8,
   "metadata": {
    "scrolled": true
   },
   "outputs": [
    {
     "data": {
      "text/html": [
       "<div>\n",
       "<style scoped>\n",
       "    .dataframe tbody tr th:only-of-type {\n",
       "        vertical-align: middle;\n",
       "    }\n",
       "\n",
       "    .dataframe tbody tr th {\n",
       "        vertical-align: top;\n",
       "    }\n",
       "\n",
       "    .dataframe thead th {\n",
       "        text-align: right;\n",
       "    }\n",
       "</style>\n",
       "<table border=\"1\" class=\"dataframe\">\n",
       "  <thead>\n",
       "    <tr style=\"text-align: right;\">\n",
       "      <th></th>\n",
       "      <th>duration</th>\n",
       "      <th>user_id</th>\n",
       "    </tr>\n",
       "  </thead>\n",
       "  <tbody>\n",
       "    <tr>\n",
       "      <th>count</th>\n",
       "      <td>202607.000000</td>\n",
       "      <td>202607.000000</td>\n",
       "    </tr>\n",
       "    <tr>\n",
       "      <th>mean</th>\n",
       "      <td>6.755887</td>\n",
       "      <td>1253.940619</td>\n",
       "    </tr>\n",
       "    <tr>\n",
       "      <th>std</th>\n",
       "      <td>5.843365</td>\n",
       "      <td>144.722751</td>\n",
       "    </tr>\n",
       "    <tr>\n",
       "      <th>min</th>\n",
       "      <td>0.000000</td>\n",
       "      <td>1000.000000</td>\n",
       "    </tr>\n",
       "    <tr>\n",
       "      <th>25%</th>\n",
       "      <td>1.300000</td>\n",
       "      <td>1126.000000</td>\n",
       "    </tr>\n",
       "    <tr>\n",
       "      <th>50%</th>\n",
       "      <td>6.000000</td>\n",
       "      <td>1260.000000</td>\n",
       "    </tr>\n",
       "    <tr>\n",
       "      <th>75%</th>\n",
       "      <td>10.700000</td>\n",
       "      <td>1379.000000</td>\n",
       "    </tr>\n",
       "    <tr>\n",
       "      <th>max</th>\n",
       "      <td>38.000000</td>\n",
       "      <td>1499.000000</td>\n",
       "    </tr>\n",
       "  </tbody>\n",
       "</table>\n",
       "</div>"
      ],
      "text/plain": [
       "            duration        user_id\n",
       "count  202607.000000  202607.000000\n",
       "mean        6.755887    1253.940619\n",
       "std         5.843365     144.722751\n",
       "min         0.000000    1000.000000\n",
       "25%         1.300000    1126.000000\n",
       "50%         6.000000    1260.000000\n",
       "75%        10.700000    1379.000000\n",
       "max        38.000000    1499.000000"
      ]
     },
     "metadata": {},
     "output_type": "display_data"
    },
    {
     "data": {
      "text/html": [
       "<div>\n",
       "<style scoped>\n",
       "    .dataframe tbody tr th:only-of-type {\n",
       "        vertical-align: middle;\n",
       "    }\n",
       "\n",
       "    .dataframe tbody tr th {\n",
       "        vertical-align: top;\n",
       "    }\n",
       "\n",
       "    .dataframe thead th {\n",
       "        text-align: right;\n",
       "    }\n",
       "</style>\n",
       "<table border=\"1\" class=\"dataframe\">\n",
       "  <thead>\n",
       "    <tr style=\"text-align: right;\">\n",
       "      <th></th>\n",
       "      <th>mb_used</th>\n",
       "      <th>user_id</th>\n",
       "    </tr>\n",
       "  </thead>\n",
       "  <tbody>\n",
       "    <tr>\n",
       "      <th>count</th>\n",
       "      <td>149396.000000</td>\n",
       "      <td>149396.000000</td>\n",
       "    </tr>\n",
       "    <tr>\n",
       "      <th>mean</th>\n",
       "      <td>370.192426</td>\n",
       "      <td>1252.099842</td>\n",
       "    </tr>\n",
       "    <tr>\n",
       "      <th>std</th>\n",
       "      <td>278.300951</td>\n",
       "      <td>144.050823</td>\n",
       "    </tr>\n",
       "    <tr>\n",
       "      <th>min</th>\n",
       "      <td>0.000000</td>\n",
       "      <td>1000.000000</td>\n",
       "    </tr>\n",
       "    <tr>\n",
       "      <th>25%</th>\n",
       "      <td>138.187500</td>\n",
       "      <td>1130.000000</td>\n",
       "    </tr>\n",
       "    <tr>\n",
       "      <th>50%</th>\n",
       "      <td>348.015000</td>\n",
       "      <td>1251.000000</td>\n",
       "    </tr>\n",
       "    <tr>\n",
       "      <th>75%</th>\n",
       "      <td>559.552500</td>\n",
       "      <td>1380.000000</td>\n",
       "    </tr>\n",
       "    <tr>\n",
       "      <th>max</th>\n",
       "      <td>1724.830000</td>\n",
       "      <td>1499.000000</td>\n",
       "    </tr>\n",
       "  </tbody>\n",
       "</table>\n",
       "</div>"
      ],
      "text/plain": [
       "             mb_used        user_id\n",
       "count  149396.000000  149396.000000\n",
       "mean      370.192426    1252.099842\n",
       "std       278.300951     144.050823\n",
       "min         0.000000    1000.000000\n",
       "25%       138.187500    1130.000000\n",
       "50%       348.015000    1251.000000\n",
       "75%       559.552500    1380.000000\n",
       "max      1724.830000    1499.000000"
      ]
     },
     "metadata": {},
     "output_type": "display_data"
    },
    {
     "data": {
      "text/html": [
       "<div>\n",
       "<style scoped>\n",
       "    .dataframe tbody tr th:only-of-type {\n",
       "        vertical-align: middle;\n",
       "    }\n",
       "\n",
       "    .dataframe tbody tr th {\n",
       "        vertical-align: top;\n",
       "    }\n",
       "\n",
       "    .dataframe thead th {\n",
       "        text-align: right;\n",
       "    }\n",
       "</style>\n",
       "<table border=\"1\" class=\"dataframe\">\n",
       "  <thead>\n",
       "    <tr style=\"text-align: right;\">\n",
       "      <th></th>\n",
       "      <th>user_id</th>\n",
       "    </tr>\n",
       "  </thead>\n",
       "  <tbody>\n",
       "    <tr>\n",
       "      <th>count</th>\n",
       "      <td>123036.000000</td>\n",
       "    </tr>\n",
       "    <tr>\n",
       "      <th>mean</th>\n",
       "      <td>1256.989410</td>\n",
       "    </tr>\n",
       "    <tr>\n",
       "      <th>std</th>\n",
       "      <td>143.523967</td>\n",
       "    </tr>\n",
       "    <tr>\n",
       "      <th>min</th>\n",
       "      <td>1000.000000</td>\n",
       "    </tr>\n",
       "    <tr>\n",
       "      <th>25%</th>\n",
       "      <td>1134.000000</td>\n",
       "    </tr>\n",
       "    <tr>\n",
       "      <th>50%</th>\n",
       "      <td>1271.000000</td>\n",
       "    </tr>\n",
       "    <tr>\n",
       "      <th>75%</th>\n",
       "      <td>1381.000000</td>\n",
       "    </tr>\n",
       "    <tr>\n",
       "      <th>max</th>\n",
       "      <td>1499.000000</td>\n",
       "    </tr>\n",
       "  </tbody>\n",
       "</table>\n",
       "</div>"
      ],
      "text/plain": [
       "             user_id\n",
       "count  123036.000000\n",
       "mean     1256.989410\n",
       "std       143.523967\n",
       "min      1000.000000\n",
       "25%      1134.000000\n",
       "50%      1271.000000\n",
       "75%      1381.000000\n",
       "max      1499.000000"
      ]
     },
     "metadata": {},
     "output_type": "display_data"
    },
    {
     "data": {
      "text/html": [
       "<div>\n",
       "<style scoped>\n",
       "    .dataframe tbody tr th:only-of-type {\n",
       "        vertical-align: middle;\n",
       "    }\n",
       "\n",
       "    .dataframe tbody tr th {\n",
       "        vertical-align: top;\n",
       "    }\n",
       "\n",
       "    .dataframe thead th {\n",
       "        text-align: right;\n",
       "    }\n",
       "</style>\n",
       "<table border=\"1\" class=\"dataframe\">\n",
       "  <thead>\n",
       "    <tr style=\"text-align: right;\">\n",
       "      <th></th>\n",
       "      <th>messages_included</th>\n",
       "      <th>mb_per_month_included</th>\n",
       "      <th>minutes_included</th>\n",
       "      <th>rub_monthly_fee</th>\n",
       "      <th>rub_per_gb</th>\n",
       "      <th>rub_per_message</th>\n",
       "      <th>rub_per_minute</th>\n",
       "    </tr>\n",
       "  </thead>\n",
       "  <tbody>\n",
       "    <tr>\n",
       "      <th>count</th>\n",
       "      <td>2.000000</td>\n",
       "      <td>2.000000</td>\n",
       "      <td>2.000000</td>\n",
       "      <td>2.000000</td>\n",
       "      <td>2.000000</td>\n",
       "      <td>2.000000</td>\n",
       "      <td>2.000000</td>\n",
       "    </tr>\n",
       "    <tr>\n",
       "      <th>mean</th>\n",
       "      <td>525.000000</td>\n",
       "      <td>23040.000000</td>\n",
       "      <td>1750.000000</td>\n",
       "      <td>1250.000000</td>\n",
       "      <td>175.000000</td>\n",
       "      <td>2.000000</td>\n",
       "      <td>2.000000</td>\n",
       "    </tr>\n",
       "    <tr>\n",
       "      <th>std</th>\n",
       "      <td>671.751442</td>\n",
       "      <td>10861.160159</td>\n",
       "      <td>1767.766953</td>\n",
       "      <td>989.949494</td>\n",
       "      <td>35.355339</td>\n",
       "      <td>1.414214</td>\n",
       "      <td>1.414214</td>\n",
       "    </tr>\n",
       "    <tr>\n",
       "      <th>min</th>\n",
       "      <td>50.000000</td>\n",
       "      <td>15360.000000</td>\n",
       "      <td>500.000000</td>\n",
       "      <td>550.000000</td>\n",
       "      <td>150.000000</td>\n",
       "      <td>1.000000</td>\n",
       "      <td>1.000000</td>\n",
       "    </tr>\n",
       "    <tr>\n",
       "      <th>25%</th>\n",
       "      <td>287.500000</td>\n",
       "      <td>19200.000000</td>\n",
       "      <td>1125.000000</td>\n",
       "      <td>900.000000</td>\n",
       "      <td>162.500000</td>\n",
       "      <td>1.500000</td>\n",
       "      <td>1.500000</td>\n",
       "    </tr>\n",
       "    <tr>\n",
       "      <th>50%</th>\n",
       "      <td>525.000000</td>\n",
       "      <td>23040.000000</td>\n",
       "      <td>1750.000000</td>\n",
       "      <td>1250.000000</td>\n",
       "      <td>175.000000</td>\n",
       "      <td>2.000000</td>\n",
       "      <td>2.000000</td>\n",
       "    </tr>\n",
       "    <tr>\n",
       "      <th>75%</th>\n",
       "      <td>762.500000</td>\n",
       "      <td>26880.000000</td>\n",
       "      <td>2375.000000</td>\n",
       "      <td>1600.000000</td>\n",
       "      <td>187.500000</td>\n",
       "      <td>2.500000</td>\n",
       "      <td>2.500000</td>\n",
       "    </tr>\n",
       "    <tr>\n",
       "      <th>max</th>\n",
       "      <td>1000.000000</td>\n",
       "      <td>30720.000000</td>\n",
       "      <td>3000.000000</td>\n",
       "      <td>1950.000000</td>\n",
       "      <td>200.000000</td>\n",
       "      <td>3.000000</td>\n",
       "      <td>3.000000</td>\n",
       "    </tr>\n",
       "  </tbody>\n",
       "</table>\n",
       "</div>"
      ],
      "text/plain": [
       "       messages_included  mb_per_month_included  minutes_included  \\\n",
       "count           2.000000               2.000000          2.000000   \n",
       "mean          525.000000           23040.000000       1750.000000   \n",
       "std           671.751442           10861.160159       1767.766953   \n",
       "min            50.000000           15360.000000        500.000000   \n",
       "25%           287.500000           19200.000000       1125.000000   \n",
       "50%           525.000000           23040.000000       1750.000000   \n",
       "75%           762.500000           26880.000000       2375.000000   \n",
       "max          1000.000000           30720.000000       3000.000000   \n",
       "\n",
       "       rub_monthly_fee  rub_per_gb  rub_per_message  rub_per_minute  \n",
       "count         2.000000    2.000000         2.000000        2.000000  \n",
       "mean       1250.000000  175.000000         2.000000        2.000000  \n",
       "std         989.949494   35.355339         1.414214        1.414214  \n",
       "min         550.000000  150.000000         1.000000        1.000000  \n",
       "25%         900.000000  162.500000         1.500000        1.500000  \n",
       "50%        1250.000000  175.000000         2.000000        2.000000  \n",
       "75%        1600.000000  187.500000         2.500000        2.500000  \n",
       "max        1950.000000  200.000000         3.000000        3.000000  "
      ]
     },
     "metadata": {},
     "output_type": "display_data"
    },
    {
     "data": {
      "text/html": [
       "<div>\n",
       "<style scoped>\n",
       "    .dataframe tbody tr th:only-of-type {\n",
       "        vertical-align: middle;\n",
       "    }\n",
       "\n",
       "    .dataframe tbody tr th {\n",
       "        vertical-align: top;\n",
       "    }\n",
       "\n",
       "    .dataframe thead th {\n",
       "        text-align: right;\n",
       "    }\n",
       "</style>\n",
       "<table border=\"1\" class=\"dataframe\">\n",
       "  <thead>\n",
       "    <tr style=\"text-align: right;\">\n",
       "      <th></th>\n",
       "      <th>age</th>\n",
       "    </tr>\n",
       "  </thead>\n",
       "  <tbody>\n",
       "    <tr>\n",
       "      <th>count</th>\n",
       "      <td>500.00000</td>\n",
       "    </tr>\n",
       "    <tr>\n",
       "      <th>mean</th>\n",
       "      <td>46.58800</td>\n",
       "    </tr>\n",
       "    <tr>\n",
       "      <th>std</th>\n",
       "      <td>16.66763</td>\n",
       "    </tr>\n",
       "    <tr>\n",
       "      <th>min</th>\n",
       "      <td>18.00000</td>\n",
       "    </tr>\n",
       "    <tr>\n",
       "      <th>25%</th>\n",
       "      <td>32.00000</td>\n",
       "    </tr>\n",
       "    <tr>\n",
       "      <th>50%</th>\n",
       "      <td>46.00000</td>\n",
       "    </tr>\n",
       "    <tr>\n",
       "      <th>75%</th>\n",
       "      <td>62.00000</td>\n",
       "    </tr>\n",
       "    <tr>\n",
       "      <th>max</th>\n",
       "      <td>75.00000</td>\n",
       "    </tr>\n",
       "  </tbody>\n",
       "</table>\n",
       "</div>"
      ],
      "text/plain": [
       "             age\n",
       "count  500.00000\n",
       "mean    46.58800\n",
       "std     16.66763\n",
       "min     18.00000\n",
       "25%     32.00000\n",
       "50%     46.00000\n",
       "75%     62.00000\n",
       "max     75.00000"
      ]
     },
     "metadata": {},
     "output_type": "display_data"
    }
   ],
   "source": [
    "# выведем описательную статистику по датасетам через цикл\n",
    "# show descriptive statistics in a loop\n",
    "for df in dfs:\n",
    "    display(df.describe())"
   ]
  },
  {
   "cell_type": "markdown",
   "metadata": {},
   "source": [
    "### Вывод / Conclusion"
   ]
  },
  {
   "cell_type": "markdown",
   "metadata": {},
   "source": [
    "Данные содержат переменные разных типов (даты, строки, числа). Все колонки, содержащие даты, перевели в соответствующий формат при считывании данных. Колонку, содержащую длительность звонков в датасете **calls** неоходимо округлить до целых минут (в соответствии с правилами оператора) для каждого наблюдения и перевести в тип ***int***.\n",
    "\n",
    "Описательная статистика не выявила аномалий в данных.\n",
    "\n",
    "Пропуски есть только в в колонке **churn_date** датасета **users**. Они обозначают, что тариф действовал на момент выгрузки данных. Можно заменить их значениями-заглушками или не трогать вообще.\n",
    "\n",
    "----\n",
    "\n",
    "The data contains variables of different types (dates, strings, numbers). All columns containing dates were converted to the appropriate format when reading the data. The column containing the duration of calls in the **calls** dataset must be rounded up to whole minutes (according to the operator's rules) for each observation and converted to the ***int*** type.\n",
    "\n",
    "Descriptive statistics revealed no anomalies in the data.\n",
    "\n",
    "There are gaps only in the **churn_date** column of the **users** dataset. They indicate that the tariff was valid at the time of uploading the data. You can replace them with stub values or leave them alone."
   ]
  },
  {
   "cell_type": "markdown",
   "metadata": {},
   "source": [
    "## Подготовка данных / Data preprocessing"
   ]
  },
  {
   "cell_type": "markdown",
   "metadata": {},
   "source": [
    "### Изменение типа переменных / Data type conversion"
   ]
  },
  {
   "cell_type": "markdown",
   "metadata": {},
   "source": [
    "Необходимо округлить минуты звонков в соответствии с правилами оператора и перевести их в тип ***int***.\n",
    "\n",
    "It is necessary to round minutes of calls in accordance with the rules of the operator and convert them to the ***int*** type."
   ]
  },
  {
   "cell_type": "code",
   "execution_count": 9,
   "metadata": {
    "scrolled": true
   },
   "outputs": [
    {
     "name": "stdout",
     "output_type": "stream",
     "text": [
      "<class 'pandas.core.frame.DataFrame'>\n",
      "RangeIndex: 202607 entries, 0 to 202606\n",
      "Data columns (total 4 columns):\n",
      " #   Column     Non-Null Count   Dtype         \n",
      "---  ------     --------------   -----         \n",
      " 0   id         202607 non-null  object        \n",
      " 1   call_date  202607 non-null  datetime64[ns]\n",
      " 2   duration   202607 non-null  int64         \n",
      " 3   user_id    202607 non-null  int64         \n",
      "dtypes: datetime64[ns](1), int64(2), object(1)\n",
      "memory usage: 6.2+ MB\n"
     ]
    }
   ],
   "source": [
    "# округлим продолжительность звонков до целых и переведем в int\n",
    "calls['duration'] = np.ceil(calls['duration']).astype('int')\n",
    "calls.info()"
   ]
  },
  {
   "cell_type": "markdown",
   "metadata": {},
   "source": [
    "### Расчет помесячных показателей на пользователя / Calculate monthly values per user"
   ]
  },
  {
   "cell_type": "markdown",
   "metadata": {},
   "source": [
    "Посчитаем количество звонков и их продолжительность, количесвто смс, и количество интернет траффика для каждого пользователя помесячно.\n",
    "\n",
    "----\n",
    "\n",
    "Let's calculate the number of calls and their duration, the number of SMS, and the amount of Internet traffic for each user on a monthly basis."
   ]
  },
  {
   "cell_type": "code",
   "execution_count": 10,
   "metadata": {},
   "outputs": [
    {
     "data": {
      "text/html": [
       "<div>\n",
       "<style scoped>\n",
       "    .dataframe tbody tr th:only-of-type {\n",
       "        vertical-align: middle;\n",
       "    }\n",
       "\n",
       "    .dataframe tbody tr th {\n",
       "        vertical-align: top;\n",
       "    }\n",
       "\n",
       "    .dataframe thead th {\n",
       "        text-align: right;\n",
       "    }\n",
       "</style>\n",
       "<table border=\"1\" class=\"dataframe\">\n",
       "  <thead>\n",
       "    <tr style=\"text-align: right;\">\n",
       "      <th></th>\n",
       "      <th>user_id</th>\n",
       "      <th>month</th>\n",
       "      <th>n_calls</th>\n",
       "      <th>calls_duration</th>\n",
       "    </tr>\n",
       "  </thead>\n",
       "  <tbody>\n",
       "    <tr>\n",
       "      <th>0</th>\n",
       "      <td>1000</td>\n",
       "      <td>5</td>\n",
       "      <td>22</td>\n",
       "      <td>159</td>\n",
       "    </tr>\n",
       "    <tr>\n",
       "      <th>1</th>\n",
       "      <td>1000</td>\n",
       "      <td>6</td>\n",
       "      <td>43</td>\n",
       "      <td>172</td>\n",
       "    </tr>\n",
       "    <tr>\n",
       "      <th>2</th>\n",
       "      <td>1000</td>\n",
       "      <td>7</td>\n",
       "      <td>47</td>\n",
       "      <td>340</td>\n",
       "    </tr>\n",
       "    <tr>\n",
       "      <th>3</th>\n",
       "      <td>1000</td>\n",
       "      <td>8</td>\n",
       "      <td>52</td>\n",
       "      <td>408</td>\n",
       "    </tr>\n",
       "    <tr>\n",
       "      <th>4</th>\n",
       "      <td>1000</td>\n",
       "      <td>9</td>\n",
       "      <td>58</td>\n",
       "      <td>466</td>\n",
       "    </tr>\n",
       "    <tr>\n",
       "      <th>...</th>\n",
       "      <td>...</td>\n",
       "      <td>...</td>\n",
       "      <td>...</td>\n",
       "      <td>...</td>\n",
       "    </tr>\n",
       "    <tr>\n",
       "      <th>3169</th>\n",
       "      <td>1498</td>\n",
       "      <td>10</td>\n",
       "      <td>41</td>\n",
       "      <td>247</td>\n",
       "    </tr>\n",
       "    <tr>\n",
       "      <th>3170</th>\n",
       "      <td>1499</td>\n",
       "      <td>9</td>\n",
       "      <td>9</td>\n",
       "      <td>70</td>\n",
       "    </tr>\n",
       "    <tr>\n",
       "      <th>3171</th>\n",
       "      <td>1499</td>\n",
       "      <td>10</td>\n",
       "      <td>68</td>\n",
       "      <td>449</td>\n",
       "    </tr>\n",
       "    <tr>\n",
       "      <th>3172</th>\n",
       "      <td>1499</td>\n",
       "      <td>11</td>\n",
       "      <td>74</td>\n",
       "      <td>612</td>\n",
       "    </tr>\n",
       "    <tr>\n",
       "      <th>3173</th>\n",
       "      <td>1499</td>\n",
       "      <td>12</td>\n",
       "      <td>69</td>\n",
       "      <td>492</td>\n",
       "    </tr>\n",
       "  </tbody>\n",
       "</table>\n",
       "<p>3174 rows × 4 columns</p>\n",
       "</div>"
      ],
      "text/plain": [
       "      user_id  month  n_calls  calls_duration\n",
       "0        1000      5       22             159\n",
       "1        1000      6       43             172\n",
       "2        1000      7       47             340\n",
       "3        1000      8       52             408\n",
       "4        1000      9       58             466\n",
       "...       ...    ...      ...             ...\n",
       "3169     1498     10       41             247\n",
       "3170     1499      9        9              70\n",
       "3171     1499     10       68             449\n",
       "3172     1499     11       74             612\n",
       "3173     1499     12       69             492\n",
       "\n",
       "[3174 rows x 4 columns]"
      ]
     },
     "execution_count": 10,
     "metadata": {},
     "output_type": "execute_result"
    }
   ],
   "source": [
    "# количество звонков в месяц на пользователя\n",
    "# amount of calls in a month per user\n",
    "calls['month'] = calls['call_date'].dt.month\n",
    "calls_month = calls.pivot_table(index=['user_id', 'month'], values='duration', aggfunc=['count', 'sum']).reset_index()\n",
    "calls_month.columns = ['user_id', 'month', 'n_calls', 'calls_duration']\n",
    "calls_month"
   ]
  },
  {
   "cell_type": "code",
   "execution_count": 11,
   "metadata": {},
   "outputs": [
    {
     "data": {
      "text/html": [
       "<div>\n",
       "<style scoped>\n",
       "    .dataframe tbody tr th:only-of-type {\n",
       "        vertical-align: middle;\n",
       "    }\n",
       "\n",
       "    .dataframe tbody tr th {\n",
       "        vertical-align: top;\n",
       "    }\n",
       "\n",
       "    .dataframe thead th {\n",
       "        text-align: right;\n",
       "    }\n",
       "</style>\n",
       "<table border=\"1\" class=\"dataframe\">\n",
       "  <thead>\n",
       "    <tr style=\"text-align: right;\">\n",
       "      <th></th>\n",
       "      <th>user_id</th>\n",
       "      <th>month</th>\n",
       "      <th>n_messages</th>\n",
       "    </tr>\n",
       "  </thead>\n",
       "  <tbody>\n",
       "    <tr>\n",
       "      <th>0</th>\n",
       "      <td>1000</td>\n",
       "      <td>5</td>\n",
       "      <td>22</td>\n",
       "    </tr>\n",
       "    <tr>\n",
       "      <th>1</th>\n",
       "      <td>1000</td>\n",
       "      <td>6</td>\n",
       "      <td>60</td>\n",
       "    </tr>\n",
       "    <tr>\n",
       "      <th>2</th>\n",
       "      <td>1000</td>\n",
       "      <td>7</td>\n",
       "      <td>75</td>\n",
       "    </tr>\n",
       "    <tr>\n",
       "      <th>3</th>\n",
       "      <td>1000</td>\n",
       "      <td>8</td>\n",
       "      <td>81</td>\n",
       "    </tr>\n",
       "    <tr>\n",
       "      <th>4</th>\n",
       "      <td>1000</td>\n",
       "      <td>9</td>\n",
       "      <td>57</td>\n",
       "    </tr>\n",
       "    <tr>\n",
       "      <th>...</th>\n",
       "      <td>...</td>\n",
       "      <td>...</td>\n",
       "      <td>...</td>\n",
       "    </tr>\n",
       "    <tr>\n",
       "      <th>2712</th>\n",
       "      <td>1498</td>\n",
       "      <td>10</td>\n",
       "      <td>42</td>\n",
       "    </tr>\n",
       "    <tr>\n",
       "      <th>2713</th>\n",
       "      <td>1499</td>\n",
       "      <td>9</td>\n",
       "      <td>11</td>\n",
       "    </tr>\n",
       "    <tr>\n",
       "      <th>2714</th>\n",
       "      <td>1499</td>\n",
       "      <td>10</td>\n",
       "      <td>48</td>\n",
       "    </tr>\n",
       "    <tr>\n",
       "      <th>2715</th>\n",
       "      <td>1499</td>\n",
       "      <td>11</td>\n",
       "      <td>59</td>\n",
       "    </tr>\n",
       "    <tr>\n",
       "      <th>2716</th>\n",
       "      <td>1499</td>\n",
       "      <td>12</td>\n",
       "      <td>66</td>\n",
       "    </tr>\n",
       "  </tbody>\n",
       "</table>\n",
       "<p>2717 rows × 3 columns</p>\n",
       "</div>"
      ],
      "text/plain": [
       "      user_id  month  n_messages\n",
       "0        1000      5          22\n",
       "1        1000      6          60\n",
       "2        1000      7          75\n",
       "3        1000      8          81\n",
       "4        1000      9          57\n",
       "...       ...    ...         ...\n",
       "2712     1498     10          42\n",
       "2713     1499      9          11\n",
       "2714     1499     10          48\n",
       "2715     1499     11          59\n",
       "2716     1499     12          66\n",
       "\n",
       "[2717 rows x 3 columns]"
      ]
     },
     "execution_count": 11,
     "metadata": {},
     "output_type": "execute_result"
    }
   ],
   "source": [
    "messages['month'] = messages['message_date'].dt.month\n",
    "messages_month = messages.pivot_table(index=['user_id', 'month'], values='id', aggfunc='count').reset_index()\n",
    "messages_month.columns = ['user_id', 'month', 'n_messages']\n",
    "messages_month"
   ]
  },
  {
   "cell_type": "code",
   "execution_count": 12,
   "metadata": {},
   "outputs": [
    {
     "data": {
      "text/html": [
       "<div>\n",
       "<style scoped>\n",
       "    .dataframe tbody tr th:only-of-type {\n",
       "        vertical-align: middle;\n",
       "    }\n",
       "\n",
       "    .dataframe tbody tr th {\n",
       "        vertical-align: top;\n",
       "    }\n",
       "\n",
       "    .dataframe thead th {\n",
       "        text-align: right;\n",
       "    }\n",
       "</style>\n",
       "<table border=\"1\" class=\"dataframe\">\n",
       "  <thead>\n",
       "    <tr style=\"text-align: right;\">\n",
       "      <th></th>\n",
       "      <th>user_id</th>\n",
       "      <th>month</th>\n",
       "      <th>mb_used</th>\n",
       "    </tr>\n",
       "  </thead>\n",
       "  <tbody>\n",
       "    <tr>\n",
       "      <th>0</th>\n",
       "      <td>1000</td>\n",
       "      <td>5</td>\n",
       "      <td>2253.49</td>\n",
       "    </tr>\n",
       "    <tr>\n",
       "      <th>1</th>\n",
       "      <td>1000</td>\n",
       "      <td>6</td>\n",
       "      <td>23233.77</td>\n",
       "    </tr>\n",
       "    <tr>\n",
       "      <th>2</th>\n",
       "      <td>1000</td>\n",
       "      <td>7</td>\n",
       "      <td>14003.64</td>\n",
       "    </tr>\n",
       "    <tr>\n",
       "      <th>3</th>\n",
       "      <td>1000</td>\n",
       "      <td>8</td>\n",
       "      <td>14055.93</td>\n",
       "    </tr>\n",
       "    <tr>\n",
       "      <th>4</th>\n",
       "      <td>1000</td>\n",
       "      <td>9</td>\n",
       "      <td>14568.91</td>\n",
       "    </tr>\n",
       "    <tr>\n",
       "      <th>...</th>\n",
       "      <td>...</td>\n",
       "      <td>...</td>\n",
       "      <td>...</td>\n",
       "    </tr>\n",
       "    <tr>\n",
       "      <th>3198</th>\n",
       "      <td>1498</td>\n",
       "      <td>10</td>\n",
       "      <td>20579.36</td>\n",
       "    </tr>\n",
       "    <tr>\n",
       "      <th>3199</th>\n",
       "      <td>1499</td>\n",
       "      <td>9</td>\n",
       "      <td>1845.75</td>\n",
       "    </tr>\n",
       "    <tr>\n",
       "      <th>3200</th>\n",
       "      <td>1499</td>\n",
       "      <td>10</td>\n",
       "      <td>17788.51</td>\n",
       "    </tr>\n",
       "    <tr>\n",
       "      <th>3201</th>\n",
       "      <td>1499</td>\n",
       "      <td>11</td>\n",
       "      <td>17963.31</td>\n",
       "    </tr>\n",
       "    <tr>\n",
       "      <th>3202</th>\n",
       "      <td>1499</td>\n",
       "      <td>12</td>\n",
       "      <td>13055.58</td>\n",
       "    </tr>\n",
       "  </tbody>\n",
       "</table>\n",
       "<p>3203 rows × 3 columns</p>\n",
       "</div>"
      ],
      "text/plain": [
       "      user_id  month   mb_used\n",
       "0        1000      5   2253.49\n",
       "1        1000      6  23233.77\n",
       "2        1000      7  14003.64\n",
       "3        1000      8  14055.93\n",
       "4        1000      9  14568.91\n",
       "...       ...    ...       ...\n",
       "3198     1498     10  20579.36\n",
       "3199     1499      9   1845.75\n",
       "3200     1499     10  17788.51\n",
       "3201     1499     11  17963.31\n",
       "3202     1499     12  13055.58\n",
       "\n",
       "[3203 rows x 3 columns]"
      ]
     },
     "execution_count": 12,
     "metadata": {},
     "output_type": "execute_result"
    }
   ],
   "source": [
    "internet['month'] = internet['session_date'].dt.month\n",
    "internet_month = internet.pivot_table(index=['user_id', 'month'], values='mb_used', aggfunc='sum').reset_index()\n",
    "internet_month"
   ]
  },
  {
   "cell_type": "markdown",
   "metadata": {},
   "source": [
    "Объединим сводные таблицы в одну и добавим тариф пользователя. В итоге, таблица должна иметь id пользователя, месяц пользования, количество звонков в месяце, продолжительность звонков в месяце, количество сообщений в месяце, количество интернет-траффика в месяце, и тариф пользователя.\n",
    "\n",
    "----\n",
    "\n",
    "Let's combine the pivot tables into one and add the user's tariff. As a result, the table should have the user id, the month of use, the number of calls per month, the duration of calls per month, the number of messages per month, the amount of Internet traffic per month, and the user's tariff."
   ]
  },
  {
   "cell_type": "code",
   "execution_count": 13,
   "metadata": {},
   "outputs": [
    {
     "data": {
      "text/html": [
       "<div>\n",
       "<style scoped>\n",
       "    .dataframe tbody tr th:only-of-type {\n",
       "        vertical-align: middle;\n",
       "    }\n",
       "\n",
       "    .dataframe tbody tr th {\n",
       "        vertical-align: top;\n",
       "    }\n",
       "\n",
       "    .dataframe thead th {\n",
       "        text-align: right;\n",
       "    }\n",
       "</style>\n",
       "<table border=\"1\" class=\"dataframe\">\n",
       "  <thead>\n",
       "    <tr style=\"text-align: right;\">\n",
       "      <th></th>\n",
       "      <th>user_id</th>\n",
       "      <th>month</th>\n",
       "      <th>mb_used</th>\n",
       "    </tr>\n",
       "  </thead>\n",
       "  <tbody>\n",
       "    <tr>\n",
       "      <th>0</th>\n",
       "      <td>1000</td>\n",
       "      <td>5</td>\n",
       "      <td>2253.49</td>\n",
       "    </tr>\n",
       "    <tr>\n",
       "      <th>1</th>\n",
       "      <td>1000</td>\n",
       "      <td>6</td>\n",
       "      <td>23233.77</td>\n",
       "    </tr>\n",
       "    <tr>\n",
       "      <th>2</th>\n",
       "      <td>1000</td>\n",
       "      <td>7</td>\n",
       "      <td>14003.64</td>\n",
       "    </tr>\n",
       "    <tr>\n",
       "      <th>3</th>\n",
       "      <td>1000</td>\n",
       "      <td>8</td>\n",
       "      <td>14055.93</td>\n",
       "    </tr>\n",
       "    <tr>\n",
       "      <th>4</th>\n",
       "      <td>1000</td>\n",
       "      <td>9</td>\n",
       "      <td>14568.91</td>\n",
       "    </tr>\n",
       "    <tr>\n",
       "      <th>...</th>\n",
       "      <td>...</td>\n",
       "      <td>...</td>\n",
       "      <td>...</td>\n",
       "    </tr>\n",
       "    <tr>\n",
       "      <th>3198</th>\n",
       "      <td>1498</td>\n",
       "      <td>10</td>\n",
       "      <td>20579.36</td>\n",
       "    </tr>\n",
       "    <tr>\n",
       "      <th>3199</th>\n",
       "      <td>1499</td>\n",
       "      <td>9</td>\n",
       "      <td>1845.75</td>\n",
       "    </tr>\n",
       "    <tr>\n",
       "      <th>3200</th>\n",
       "      <td>1499</td>\n",
       "      <td>10</td>\n",
       "      <td>17788.51</td>\n",
       "    </tr>\n",
       "    <tr>\n",
       "      <th>3201</th>\n",
       "      <td>1499</td>\n",
       "      <td>11</td>\n",
       "      <td>17963.31</td>\n",
       "    </tr>\n",
       "    <tr>\n",
       "      <th>3202</th>\n",
       "      <td>1499</td>\n",
       "      <td>12</td>\n",
       "      <td>13055.58</td>\n",
       "    </tr>\n",
       "  </tbody>\n",
       "</table>\n",
       "<p>3203 rows × 3 columns</p>\n",
       "</div>"
      ],
      "text/plain": [
       "      user_id  month   mb_used\n",
       "0        1000      5   2253.49\n",
       "1        1000      6  23233.77\n",
       "2        1000      7  14003.64\n",
       "3        1000      8  14055.93\n",
       "4        1000      9  14568.91\n",
       "...       ...    ...       ...\n",
       "3198     1498     10  20579.36\n",
       "3199     1499      9   1845.75\n",
       "3200     1499     10  17788.51\n",
       "3201     1499     11  17963.31\n",
       "3202     1499     12  13055.58\n",
       "\n",
       "[3203 rows x 3 columns]"
      ]
     },
     "execution_count": 13,
     "metadata": {},
     "output_type": "execute_result"
    }
   ],
   "source": [
    "internet_month"
   ]
  },
  {
   "cell_type": "code",
   "execution_count": 14,
   "metadata": {},
   "outputs": [],
   "source": [
    "users_activity_month = (internet_month.merge(calls_month, on=['user_id', 'month'], how='left').\n",
    " merge(messages_month, on=['user_id', 'month'], how='left').\n",
    " merge(users['tariff'], on='user_id')\n",
    ")"
   ]
  },
  {
   "cell_type": "code",
   "execution_count": 15,
   "metadata": {
    "scrolled": true
   },
   "outputs": [
    {
     "data": {
      "text/html": [
       "<div>\n",
       "<style scoped>\n",
       "    .dataframe tbody tr th:only-of-type {\n",
       "        vertical-align: middle;\n",
       "    }\n",
       "\n",
       "    .dataframe tbody tr th {\n",
       "        vertical-align: top;\n",
       "    }\n",
       "\n",
       "    .dataframe thead th {\n",
       "        text-align: right;\n",
       "    }\n",
       "</style>\n",
       "<table border=\"1\" class=\"dataframe\">\n",
       "  <thead>\n",
       "    <tr style=\"text-align: right;\">\n",
       "      <th></th>\n",
       "      <th>user_id</th>\n",
       "      <th>month</th>\n",
       "      <th>mb_used</th>\n",
       "      <th>n_calls</th>\n",
       "      <th>calls_duration</th>\n",
       "      <th>n_messages</th>\n",
       "      <th>tariff</th>\n",
       "    </tr>\n",
       "  </thead>\n",
       "  <tbody>\n",
       "    <tr>\n",
       "      <th>0</th>\n",
       "      <td>1000</td>\n",
       "      <td>5</td>\n",
       "      <td>2253.49</td>\n",
       "      <td>22.0</td>\n",
       "      <td>159.0</td>\n",
       "      <td>22.0</td>\n",
       "      <td>ultra</td>\n",
       "    </tr>\n",
       "    <tr>\n",
       "      <th>1</th>\n",
       "      <td>1000</td>\n",
       "      <td>6</td>\n",
       "      <td>23233.77</td>\n",
       "      <td>43.0</td>\n",
       "      <td>172.0</td>\n",
       "      <td>60.0</td>\n",
       "      <td>ultra</td>\n",
       "    </tr>\n",
       "    <tr>\n",
       "      <th>2</th>\n",
       "      <td>1000</td>\n",
       "      <td>7</td>\n",
       "      <td>14003.64</td>\n",
       "      <td>47.0</td>\n",
       "      <td>340.0</td>\n",
       "      <td>75.0</td>\n",
       "      <td>ultra</td>\n",
       "    </tr>\n",
       "    <tr>\n",
       "      <th>3</th>\n",
       "      <td>1000</td>\n",
       "      <td>8</td>\n",
       "      <td>14055.93</td>\n",
       "      <td>52.0</td>\n",
       "      <td>408.0</td>\n",
       "      <td>81.0</td>\n",
       "      <td>ultra</td>\n",
       "    </tr>\n",
       "    <tr>\n",
       "      <th>4</th>\n",
       "      <td>1000</td>\n",
       "      <td>9</td>\n",
       "      <td>14568.91</td>\n",
       "      <td>58.0</td>\n",
       "      <td>466.0</td>\n",
       "      <td>57.0</td>\n",
       "      <td>ultra</td>\n",
       "    </tr>\n",
       "    <tr>\n",
       "      <th>...</th>\n",
       "      <td>...</td>\n",
       "      <td>...</td>\n",
       "      <td>...</td>\n",
       "      <td>...</td>\n",
       "      <td>...</td>\n",
       "      <td>...</td>\n",
       "      <td>...</td>\n",
       "    </tr>\n",
       "    <tr>\n",
       "      <th>3198</th>\n",
       "      <td>1498</td>\n",
       "      <td>10</td>\n",
       "      <td>20579.36</td>\n",
       "      <td>41.0</td>\n",
       "      <td>247.0</td>\n",
       "      <td>42.0</td>\n",
       "      <td>smart</td>\n",
       "    </tr>\n",
       "    <tr>\n",
       "      <th>3199</th>\n",
       "      <td>1499</td>\n",
       "      <td>9</td>\n",
       "      <td>1845.75</td>\n",
       "      <td>9.0</td>\n",
       "      <td>70.0</td>\n",
       "      <td>11.0</td>\n",
       "      <td>smart</td>\n",
       "    </tr>\n",
       "    <tr>\n",
       "      <th>3200</th>\n",
       "      <td>1499</td>\n",
       "      <td>10</td>\n",
       "      <td>17788.51</td>\n",
       "      <td>68.0</td>\n",
       "      <td>449.0</td>\n",
       "      <td>48.0</td>\n",
       "      <td>smart</td>\n",
       "    </tr>\n",
       "    <tr>\n",
       "      <th>3201</th>\n",
       "      <td>1499</td>\n",
       "      <td>11</td>\n",
       "      <td>17963.31</td>\n",
       "      <td>74.0</td>\n",
       "      <td>612.0</td>\n",
       "      <td>59.0</td>\n",
       "      <td>smart</td>\n",
       "    </tr>\n",
       "    <tr>\n",
       "      <th>3202</th>\n",
       "      <td>1499</td>\n",
       "      <td>12</td>\n",
       "      <td>13055.58</td>\n",
       "      <td>69.0</td>\n",
       "      <td>492.0</td>\n",
       "      <td>66.0</td>\n",
       "      <td>smart</td>\n",
       "    </tr>\n",
       "  </tbody>\n",
       "</table>\n",
       "<p>3203 rows × 7 columns</p>\n",
       "</div>"
      ],
      "text/plain": [
       "      user_id  month   mb_used  n_calls  calls_duration  n_messages tariff\n",
       "0        1000      5   2253.49     22.0           159.0        22.0  ultra\n",
       "1        1000      6  23233.77     43.0           172.0        60.0  ultra\n",
       "2        1000      7  14003.64     47.0           340.0        75.0  ultra\n",
       "3        1000      8  14055.93     52.0           408.0        81.0  ultra\n",
       "4        1000      9  14568.91     58.0           466.0        57.0  ultra\n",
       "...       ...    ...       ...      ...             ...         ...    ...\n",
       "3198     1498     10  20579.36     41.0           247.0        42.0  smart\n",
       "3199     1499      9   1845.75      9.0            70.0        11.0  smart\n",
       "3200     1499     10  17788.51     68.0           449.0        48.0  smart\n",
       "3201     1499     11  17963.31     74.0           612.0        59.0  smart\n",
       "3202     1499     12  13055.58     69.0           492.0        66.0  smart\n",
       "\n",
       "[3203 rows x 7 columns]"
      ]
     },
     "execution_count": 15,
     "metadata": {},
     "output_type": "execute_result"
    }
   ],
   "source": [
    "users_activity_month"
   ]
  },
  {
   "cell_type": "code",
   "execution_count": 16,
   "metadata": {
    "scrolled": false
   },
   "outputs": [
    {
     "data": {
      "text/plain": [
       "user_id             0\n",
       "month               0\n",
       "mb_used             0\n",
       "n_calls            40\n",
       "calls_duration     40\n",
       "n_messages        497\n",
       "tariff              0\n",
       "dtype: int64"
      ]
     },
     "execution_count": 16,
     "metadata": {},
     "output_type": "execute_result"
    }
   ],
   "source": [
    "# проверим пропуски / check missing values\n",
    "users_activity_month.isna().sum()"
   ]
  },
  {
   "cell_type": "markdown",
   "metadata": {},
   "source": [
    "Некоторые пользователи не использовали интернет, не звонили и не отправляли сообщения в какие-то из месяцев. Заменим эти пропуски на 0.\n",
    "\n",
    "----\n",
    "\n",
    "Some users did not use the Internet, did not call or send messages in any of the months. Let's replace these gaps with 0."
   ]
  },
  {
   "cell_type": "code",
   "execution_count": 17,
   "metadata": {},
   "outputs": [],
   "source": [
    "users_activity_month.fillna(0, inplace=True)"
   ]
  },
  {
   "cell_type": "markdown",
   "metadata": {},
   "source": [
    "Посчитаем помесячную выручку на пользователя.\n",
    "\n",
    "Calculate monthly profit per user."
   ]
  },
  {
   "cell_type": "code",
   "execution_count": 18,
   "metadata": {},
   "outputs": [],
   "source": [
    "def month_revenue(row):\n",
    "    if row['tariff'] == 'smart':\n",
    "        min_left_smart = row['calls_duration'] - int(tariffs.query('tariff_name == \"smart\"')['minutes_included'])\n",
    "        messages_left_smart = row['n_messages'] - int(tariffs.query('tariff_name == \"smart\"')['messages_included'])\n",
    "        internet_left_smart = row['mb_used'] - int(tariffs.query('tariff_name == \"smart\"')['mb_per_month_included'])\n",
    "        \n",
    "        if min_left_smart < 0:\n",
    "            min_left_smart = 0\n",
    "        if messages_left_smart < 0:\n",
    "            messages_left_smart = 0\n",
    "        if internet_left_smart < 0:\n",
    "            internet_left_smart = 0\n",
    "        \n",
    "        return ((min_left_smart * int(tariffs.query('tariff_name == \"smart\"')['rub_per_minute'])) +\n",
    "                 (messages_left_smart * int(tariffs.query('tariff_name == \"smart\"')['rub_per_message'])) +\n",
    "                 ((np.ceil(internet_left_smart / 1024)) * int(tariffs.query('tariff_name == \"smart\"')['rub_per_gb'])) +\n",
    "                 (int(tariffs.query('tariff_name == \"smart\"')['rub_monthly_fee']))\n",
    "               )\n",
    "        \n",
    "    else:\n",
    "        min_left_ultra = row['calls_duration'] - int(tariffs.query('tariff_name == \"ultra\"')['minutes_included'])\n",
    "        messages_left_ultra = row['n_messages'] - int(tariffs.query('tariff_name == \"ultra\"')['messages_included'])\n",
    "        internet_left_ultra = row['mb_used'] - int(tariffs.query('tariff_name == \"ultra\"')['mb_per_month_included'])\n",
    "        \n",
    "        if min_left_ultra < 0:\n",
    "            min_left_ultra = 0\n",
    "        if messages_left_ultra < 0:\n",
    "            messages_left_ultra = 0\n",
    "        if internet_left_ultra < 0:\n",
    "            internet_left_ultra = 0\n",
    "        \n",
    "        return ((min_left_ultra * int(tariffs.query('tariff_name == \"ultra\"')['rub_per_minute'])) +\n",
    "                 (messages_left_ultra * int(tariffs.query('tariff_name == \"ultra\"')['rub_per_message'])) +\n",
    "                 ((np.ceil(internet_left_ultra / 1024)) * int(tariffs.query('tariff_name == \"ultra\"')['rub_per_gb'])) +\n",
    "                 (int(tariffs.query('tariff_name == \"ultra\"')['rub_monthly_fee']))\n",
    "               )        "
   ]
  },
  {
   "cell_type": "code",
   "execution_count": 19,
   "metadata": {
    "scrolled": false
   },
   "outputs": [
    {
     "data": {
      "text/html": [
       "<div>\n",
       "<style scoped>\n",
       "    .dataframe tbody tr th:only-of-type {\n",
       "        vertical-align: middle;\n",
       "    }\n",
       "\n",
       "    .dataframe tbody tr th {\n",
       "        vertical-align: top;\n",
       "    }\n",
       "\n",
       "    .dataframe thead th {\n",
       "        text-align: right;\n",
       "    }\n",
       "</style>\n",
       "<table border=\"1\" class=\"dataframe\">\n",
       "  <thead>\n",
       "    <tr style=\"text-align: right;\">\n",
       "      <th></th>\n",
       "      <th>user_id</th>\n",
       "      <th>month</th>\n",
       "      <th>mb_used</th>\n",
       "      <th>n_calls</th>\n",
       "      <th>calls_duration</th>\n",
       "      <th>n_messages</th>\n",
       "      <th>tariff</th>\n",
       "      <th>revenue</th>\n",
       "    </tr>\n",
       "  </thead>\n",
       "  <tbody>\n",
       "    <tr>\n",
       "      <th>0</th>\n",
       "      <td>1000</td>\n",
       "      <td>5</td>\n",
       "      <td>2253.49</td>\n",
       "      <td>22.0</td>\n",
       "      <td>159.0</td>\n",
       "      <td>22.0</td>\n",
       "      <td>ultra</td>\n",
       "      <td>1950.0</td>\n",
       "    </tr>\n",
       "    <tr>\n",
       "      <th>1</th>\n",
       "      <td>1000</td>\n",
       "      <td>6</td>\n",
       "      <td>23233.77</td>\n",
       "      <td>43.0</td>\n",
       "      <td>172.0</td>\n",
       "      <td>60.0</td>\n",
       "      <td>ultra</td>\n",
       "      <td>1950.0</td>\n",
       "    </tr>\n",
       "    <tr>\n",
       "      <th>2</th>\n",
       "      <td>1000</td>\n",
       "      <td>7</td>\n",
       "      <td>14003.64</td>\n",
       "      <td>47.0</td>\n",
       "      <td>340.0</td>\n",
       "      <td>75.0</td>\n",
       "      <td>ultra</td>\n",
       "      <td>1950.0</td>\n",
       "    </tr>\n",
       "    <tr>\n",
       "      <th>3</th>\n",
       "      <td>1000</td>\n",
       "      <td>8</td>\n",
       "      <td>14055.93</td>\n",
       "      <td>52.0</td>\n",
       "      <td>408.0</td>\n",
       "      <td>81.0</td>\n",
       "      <td>ultra</td>\n",
       "      <td>1950.0</td>\n",
       "    </tr>\n",
       "    <tr>\n",
       "      <th>4</th>\n",
       "      <td>1000</td>\n",
       "      <td>9</td>\n",
       "      <td>14568.91</td>\n",
       "      <td>58.0</td>\n",
       "      <td>466.0</td>\n",
       "      <td>57.0</td>\n",
       "      <td>ultra</td>\n",
       "      <td>1950.0</td>\n",
       "    </tr>\n",
       "    <tr>\n",
       "      <th>...</th>\n",
       "      <td>...</td>\n",
       "      <td>...</td>\n",
       "      <td>...</td>\n",
       "      <td>...</td>\n",
       "      <td>...</td>\n",
       "      <td>...</td>\n",
       "      <td>...</td>\n",
       "      <td>...</td>\n",
       "    </tr>\n",
       "    <tr>\n",
       "      <th>3198</th>\n",
       "      <td>1498</td>\n",
       "      <td>10</td>\n",
       "      <td>20579.36</td>\n",
       "      <td>41.0</td>\n",
       "      <td>247.0</td>\n",
       "      <td>42.0</td>\n",
       "      <td>smart</td>\n",
       "      <td>1750.0</td>\n",
       "    </tr>\n",
       "    <tr>\n",
       "      <th>3199</th>\n",
       "      <td>1499</td>\n",
       "      <td>9</td>\n",
       "      <td>1845.75</td>\n",
       "      <td>9.0</td>\n",
       "      <td>70.0</td>\n",
       "      <td>11.0</td>\n",
       "      <td>smart</td>\n",
       "      <td>550.0</td>\n",
       "    </tr>\n",
       "    <tr>\n",
       "      <th>3200</th>\n",
       "      <td>1499</td>\n",
       "      <td>10</td>\n",
       "      <td>17788.51</td>\n",
       "      <td>68.0</td>\n",
       "      <td>449.0</td>\n",
       "      <td>48.0</td>\n",
       "      <td>smart</td>\n",
       "      <td>1150.0</td>\n",
       "    </tr>\n",
       "    <tr>\n",
       "      <th>3201</th>\n",
       "      <td>1499</td>\n",
       "      <td>11</td>\n",
       "      <td>17963.31</td>\n",
       "      <td>74.0</td>\n",
       "      <td>612.0</td>\n",
       "      <td>59.0</td>\n",
       "      <td>smart</td>\n",
       "      <td>1513.0</td>\n",
       "    </tr>\n",
       "    <tr>\n",
       "      <th>3202</th>\n",
       "      <td>1499</td>\n",
       "      <td>12</td>\n",
       "      <td>13055.58</td>\n",
       "      <td>69.0</td>\n",
       "      <td>492.0</td>\n",
       "      <td>66.0</td>\n",
       "      <td>smart</td>\n",
       "      <td>598.0</td>\n",
       "    </tr>\n",
       "  </tbody>\n",
       "</table>\n",
       "<p>3203 rows × 8 columns</p>\n",
       "</div>"
      ],
      "text/plain": [
       "      user_id  month   mb_used  n_calls  calls_duration  n_messages tariff  \\\n",
       "0        1000      5   2253.49     22.0           159.0        22.0  ultra   \n",
       "1        1000      6  23233.77     43.0           172.0        60.0  ultra   \n",
       "2        1000      7  14003.64     47.0           340.0        75.0  ultra   \n",
       "3        1000      8  14055.93     52.0           408.0        81.0  ultra   \n",
       "4        1000      9  14568.91     58.0           466.0        57.0  ultra   \n",
       "...       ...    ...       ...      ...             ...         ...    ...   \n",
       "3198     1498     10  20579.36     41.0           247.0        42.0  smart   \n",
       "3199     1499      9   1845.75      9.0            70.0        11.0  smart   \n",
       "3200     1499     10  17788.51     68.0           449.0        48.0  smart   \n",
       "3201     1499     11  17963.31     74.0           612.0        59.0  smart   \n",
       "3202     1499     12  13055.58     69.0           492.0        66.0  smart   \n",
       "\n",
       "      revenue  \n",
       "0      1950.0  \n",
       "1      1950.0  \n",
       "2      1950.0  \n",
       "3      1950.0  \n",
       "4      1950.0  \n",
       "...       ...  \n",
       "3198   1750.0  \n",
       "3199    550.0  \n",
       "3200   1150.0  \n",
       "3201   1513.0  \n",
       "3202    598.0  \n",
       "\n",
       "[3203 rows x 8 columns]"
      ]
     },
     "execution_count": 19,
     "metadata": {},
     "output_type": "execute_result"
    }
   ],
   "source": [
    "users_activity_month['revenue'] = users_activity_month.apply(month_revenue, axis=1)\n",
    "users_activity_month"
   ]
  },
  {
   "cell_type": "markdown",
   "metadata": {},
   "source": [
    "## Исследование данных / EDA"
   ]
  },
  {
   "cell_type": "markdown",
   "metadata": {},
   "source": [
    "Рассчитаем среднее, дисперсию, и стандартное отклонение для времени звонков, количества смс, использованного интернета помесячной выручки в зависимости от тарифного плана.\n",
    "\n",
    "----\n",
    "\n",
    "Let's calculate the mean, variance, and standard deviation for the call time, the number of SMS, the monthly revenue used by the Internet, depending on the tariff plan."
   ]
  },
  {
   "cell_type": "code",
   "execution_count": 20,
   "metadata": {},
   "outputs": [
    {
     "data": {
      "text/html": [
       "<div>\n",
       "<style scoped>\n",
       "    .dataframe tbody tr th:only-of-type {\n",
       "        vertical-align: middle;\n",
       "    }\n",
       "\n",
       "    .dataframe tbody tr th {\n",
       "        vertical-align: top;\n",
       "    }\n",
       "\n",
       "    .dataframe thead tr th {\n",
       "        text-align: left;\n",
       "    }\n",
       "\n",
       "    .dataframe thead tr:last-of-type th {\n",
       "        text-align: right;\n",
       "    }\n",
       "</style>\n",
       "<table border=\"1\" class=\"dataframe\">\n",
       "  <thead>\n",
       "    <tr>\n",
       "      <th></th>\n",
       "      <th colspan=\"4\" halign=\"left\">mean</th>\n",
       "      <th colspan=\"4\" halign=\"left\">var</th>\n",
       "      <th colspan=\"4\" halign=\"left\">std</th>\n",
       "    </tr>\n",
       "    <tr>\n",
       "      <th></th>\n",
       "      <th>calls_duration</th>\n",
       "      <th>mb_used</th>\n",
       "      <th>n_messages</th>\n",
       "      <th>revenue</th>\n",
       "      <th>calls_duration</th>\n",
       "      <th>mb_used</th>\n",
       "      <th>n_messages</th>\n",
       "      <th>revenue</th>\n",
       "      <th>calls_duration</th>\n",
       "      <th>mb_used</th>\n",
       "      <th>n_messages</th>\n",
       "      <th>revenue</th>\n",
       "    </tr>\n",
       "    <tr>\n",
       "      <th>tariff</th>\n",
       "      <th></th>\n",
       "      <th></th>\n",
       "      <th></th>\n",
       "      <th></th>\n",
       "      <th></th>\n",
       "      <th></th>\n",
       "      <th></th>\n",
       "      <th></th>\n",
       "      <th></th>\n",
       "      <th></th>\n",
       "      <th></th>\n",
       "      <th></th>\n",
       "    </tr>\n",
       "  </thead>\n",
       "  <tbody>\n",
       "    <tr>\n",
       "      <th>smart</th>\n",
       "      <td>418.10</td>\n",
       "      <td>16215.66</td>\n",
       "      <td>33.40</td>\n",
       "      <td>1290.31</td>\n",
       "      <td>36174.76</td>\n",
       "      <td>34359951.68</td>\n",
       "      <td>796.70</td>\n",
       "      <td>669840.48</td>\n",
       "      <td>190.20</td>\n",
       "      <td>5861.74</td>\n",
       "      <td>28.23</td>\n",
       "      <td>818.44</td>\n",
       "    </tr>\n",
       "    <tr>\n",
       "      <th>ultra</th>\n",
       "      <td>529.75</td>\n",
       "      <td>19668.49</td>\n",
       "      <td>49.59</td>\n",
       "      <td>2071.38</td>\n",
       "      <td>100883.82</td>\n",
       "      <td>98864248.95</td>\n",
       "      <td>2301.92</td>\n",
       "      <td>142819.95</td>\n",
       "      <td>317.62</td>\n",
       "      <td>9943.05</td>\n",
       "      <td>47.98</td>\n",
       "      <td>377.92</td>\n",
       "    </tr>\n",
       "  </tbody>\n",
       "</table>\n",
       "</div>"
      ],
      "text/plain": [
       "                 mean                                          var  \\\n",
       "       calls_duration   mb_used n_messages  revenue calls_duration   \n",
       "tariff                                                               \n",
       "smart          418.10  16215.66      33.40  1290.31       36174.76   \n",
       "ultra          529.75  19668.49      49.59  2071.38      100883.82   \n",
       "\n",
       "                                                     std                      \\\n",
       "            mb_used n_messages    revenue calls_duration  mb_used n_messages   \n",
       "tariff                                                                         \n",
       "smart   34359951.68     796.70  669840.48         190.20  5861.74      28.23   \n",
       "ultra   98864248.95    2301.92  142819.95         317.62  9943.05      47.98   \n",
       "\n",
       "                \n",
       "       revenue  \n",
       "tariff          \n",
       "smart   818.44  \n",
       "ultra   377.92  "
      ]
     },
     "execution_count": 20,
     "metadata": {},
     "output_type": "execute_result"
    }
   ],
   "source": [
    "users_statistics = round(users_activity_month.pivot_table(index='tariff',\n",
    "                                                   values=['calls_duration', 'n_messages',\n",
    "                                                          'mb_used', 'revenue'],\n",
    "                                                   aggfunc=['mean', 'var', 'std']\n",
    "                        ),2)\n",
    "users_statistics"
   ]
  },
  {
   "cell_type": "markdown",
   "metadata": {},
   "source": [
    "Построим гистограммы для времени звонков, количества смс и использованного интернета в зависимости от тарифного плана.\n",
    "\n",
    "----\n",
    "\n",
    "Let's build histograms for the time of calls, the number of SMS and the Internet used, depending on the tariff plan."
   ]
  },
  {
   "cell_type": "code",
   "execution_count": 21,
   "metadata": {
    "scrolled": false
   },
   "outputs": [
    {
     "data": {
      "image/png": "[encoded data removed]",
      "text/plain": [
       "<Figure size 1000x700 with 1 Axes>"
      ]
     },
     "metadata": {},
     "output_type": "display_data"
    }
   ],
   "source": [
    "# гистограммы продолжительности звонков\n",
    "# calls duration hist\n",
    "\n",
    "# перенесем данные для разных тарифов в разные датафрэймы\n",
    "smart = users_activity_month.query('tariff == \"smart\"')\n",
    "ultra = users_activity_month.query('tariff == \"ultra\"')\n",
    "\n",
    "# отобразим гистограммы на одном графике\n",
    "plt.figure(figsize=(10,7))\n",
    "plt.hist(smart['calls_duration'], bins=15, alpha=0.5, label='Smart')\n",
    "plt.hist(ultra['calls_duration'], bins=15, alpha=0.6, label='Ultra')\n",
    "plt.legend(loc='upper right')\n",
    "plt.xlabel('Calls duration')\n",
    "plt.ylabel('Count')\n",
    "plt.show()"
   ]
  },
  {
   "cell_type": "markdown",
   "metadata": {},
   "source": [
    "Гистограммы времени разговоров для двух тарифов имеют нормальное распределение. Однако, переменная времени разговоров (непрерывная величина) для тарифа **smart** имеет среднее 394.42 и стандартное отклонение 179.78, а для тарифа **ultra** эти величины составляют 498.77.65 и 299.70 соответственно. Поэтому, гистограмма распределения для одного тарифа узкая, а для другого широкая (больший разброс данных). Делаем вывод, что людям, подключенным к тарифу **smart** требуется в среднем около 400 мин разговоров, для людей, подключенным к тарифу **ultra** - чуть меньше 500 минут.\n",
    "\n",
    "---\n",
    "\n",
    "Talk time histograms for two tariffs have a normal distribution. However, the talk time variable (continuous value) for the **smart** tariff has a mean of 394.42 and a standard deviation of 179.78, while for the **ultra** tariff these values are 498.77.65 and 299.70 respectively. Therefore, the distribution histogram for one tariff is narrow, and for another it is wide (greater data spread). We conclude that people connected to the **smart** tariff need an average of about 400 minutes of calls, for people connected to the **ultra** tariff - a little less than 500 minutes."
   ]
  },
  {
   "cell_type": "code",
   "execution_count": 22,
   "metadata": {},
   "outputs": [
    {
     "data": {
      "image/png": "[encoded data removed]",
      "text/plain": [
       "<Figure size 1000x700 with 1 Axes>"
      ]
     },
     "metadata": {},
     "output_type": "display_data"
    }
   ],
   "source": [
    "# гистограммы количества смс\n",
    "# sms amount hist\n",
    "\n",
    "# отобразим гистограммы на одном графике\n",
    "plt.figure(figsize=(10,7))\n",
    "plt.hist(smart['n_messages'], alpha=0.5, label='Smart')\n",
    "plt.hist(ultra['n_messages'], alpha=0.6, label='Ultra')\n",
    "plt.legend(loc='upper right')\n",
    "plt.xlabel('SMS sent')\n",
    "plt.ylabel('Count')\n",
    "plt.show()"
   ]
  },
  {
   "cell_type": "markdown",
   "metadata": {},
   "source": [
    "Гистограммы для количества отправленных смс имеют Пуассоновское распределение. Это объясняется тем, что количество смс - это дискретная величина. К тому же, события происходят за фиксированное количество времени (количество смс в месяц). Среднее и стандартное отклонение для этой величины 33.40 и 28.23 соответственно для тарифа **smart**, 49.59 и 47.98 соответственно для тарифа **ultra**. В среднем людям, подключенным к тарифу **smart** требуется 33 смс в месяц против 50 смс для людей в тарифе **ultra**.\n",
    "\n",
    "----\n",
    "\n",
    "Histograms for the number of sent SMS have a Poisson distribution. This is because the number of SMS is a discrete value. In addition, events occur for a fixed amount of time (the number of SMS per month). The mean and standard deviation for this value are 33.40 and 28.23 respectively for the **smart** tariff, 49.59 and 47.98 respectively for the **ultra** tariff. On average, people connected to the **smart** plan need 33 sms per month versus 50 sms for people on the **ultra** plan."
   ]
  },
  {
   "cell_type": "code",
   "execution_count": 23,
   "metadata": {},
   "outputs": [
    {
     "data": {
      "image/png": "[encoded data removed]",
      "text/plain": [
       "<Figure size 1000x700 with 1 Axes>"
      ]
     },
     "metadata": {},
     "output_type": "display_data"
    }
   ],
   "source": [
    "# гистограммы использованного интернета\n",
    "# internet usage hist\n",
    "\n",
    "# отобразим гистограммы на одном графике\n",
    "plt.figure(figsize=(10,7))\n",
    "plt.hist(smart['mb_used'], alpha=0.5, label='Smart')\n",
    "plt.hist(ultra['mb_used'], alpha=0.6, label='Ultra')\n",
    "plt.legend(loc='upper right')\n",
    "plt.xlabel('Mb used')\n",
    "plt.ylabel('Count')\n",
    "plt.show()"
   ]
  },
  {
   "cell_type": "markdown",
   "metadata": {},
   "source": [
    "Гистограммы использованных мегабайт имеют нормальное распределение со средними 16215.66\t(**smart**) и 19668.49 (**ultra**), и со стандартными отклонениями 5861.74 (**smart**) и 9943.05 (**ultra**). Пользователи тарифа **ultra** в среднем используют больше интрнета, чем пользователи тарифа **smart**.\n",
    "\n",
    "----\n",
    "\n",
    "The histograms of used megabytes are normally distributed with means 16215.66 (**smart**) and 19668.49 (**ultra**), and with standard deviations 5861.74 (**smart**) and 9943.05 (**ultra**). **ultra** plan users use more internet on average than **smart** plan members."
   ]
  },
  {
   "cell_type": "markdown",
   "metadata": {},
   "source": [
    "По данным, полученным выше, мы можем сделать вывод, что пользователи обоих тарифов не на полную используют возможности по минутам и смс. Пользователи тарифа **smart** немного превышают лимит по интернет-трафику, в отличии от пользователей тарифа **ultra**, которые в среднем недоиспользуют 10 ГБ.\n",
    "\n",
    "----\n",
    "\n",
    "Based on the data obtained above, we can conclude that users of both tariffs do not fully use the opportunities for minutes and SMS. **smart** users are slightly over the Internet traffic limit, unlike **ultra** users who underutilize 10 GB on average."
   ]
  },
  {
   "cell_type": "markdown",
   "metadata": {},
   "source": [
    "## Проверка гипотез / Hypotheses testing"
   ]
  },
  {
   "cell_type": "code",
   "execution_count": 22,
   "metadata": {},
   "outputs": [
    {
     "data": {
      "image/png": "[encoded data removed]",
      "text/plain": [
       "<Figure size 720x504 with 1 Axes>"
      ]
     },
     "metadata": {
      "needs_background": "light"
     },
     "output_type": "display_data"
    }
   ],
   "source": [
    "# гистограммы выручки по тарифам\n",
    "# profit by tariff hist\n",
    "\n",
    "# отобразим гистограммы на одном графике\n",
    "plt.figure(figsize=(10,7))\n",
    "plt.hist(smart['revenue'], bins=15, alpha=0.5, label='Smart')\n",
    "plt.hist(ultra['revenue'], bins=10, alpha=0.6, label='Ultra')\n",
    "plt.legend(loc='upper right')\n",
    "plt.xlabel('Revenue')\n",
    "plt.ylabel('Count')\n",
    "plt.show()"
   ]
  },
  {
   "cell_type": "markdown",
   "metadata": {},
   "source": [
    "***1) Проверим гипотезу о различии средней выручки у двух тарифов.***\n",
    "\n",
    "- **Сформулируем нулевую и альтернативную гипотезы: H<sub>0</sub> и H<sub>a</sub>.**\n",
    "    \n",
    "    H<sub>0</sub>: $\\mu$<sub>1</sub> = $\\mu$<sub>2</sub> (средние выручки пользователей тарифов \"Смарт\" и \"Ультра\" равны)\n",
    "    \n",
    "    H<sub>a</sub>: $\\mu$<sub>1</sub> $\\neq$ $\\mu$<sub>2</sub> (средние выручки пользователей тарифов \"Смарт\" и \"Ультра\" НЕ равны) - двухсторонняя альтернативная гипотеза.\n",
    "    \n",
    "    $\\mu$<sub>1</sub> и $\\mu$<sub>2</sub> - средние выручек двух генеральных совокупностей пользователей тарифов **smart** и **ultra** соответственно\n",
    "    \n",
    "\n",
    "- **Зададим уровню значимости $\\alpha$ значение 0.05.**\n",
    "\n",
    "\n",
    "- **Выберем статистический критерий (случайную величину) для проверки гипотезы.**\n",
    "\n",
    "\n",
    "Критерий Стьюдента (t-критерий). Наши выборки довольно большие, чтобы считать, что выборочное среднее распределно нормально и мы можем апроксимировать нормальное распределение t-распределением.\n",
    "\n",
    "- **Проведем двухвыборочный t-тест.**\n",
    "\n",
    "Используем функцию ttest_ind() из пакета scipy.stats потому, что сравниваем средние двух генеральных совокупностей.\n",
    "\n",
    "\n",
    "- **Сделаем вывод о принятии или об отклонении H<sub>0</sub> в зависимости от значения p-value.**\n",
    "\n",
    "Если p-value > $\\alpha$, то у нас нет оснований отклонить H<sub>0</sub>. В противном случае, H<sub>0</sub> отклоняется и принимается H<sub>a</sub>.\n",
    "\n",
    "-----\n",
    "\n",
    "***1) Let's test the hypothesis about the difference in the average revenue of the two tariffs.***\n",
    "\n",
    "- **Let's formulate the null and alternative hypotheses: H<sub>0</sub> and H<sub>a</sub>.**\n",
    "    \n",
    "     H<sub>0</sub>: $\\mu$<sub>1</sub> = $\\mu$<sub>2</sub> (average revenues of \"Smart\" and \"Ultra\" tariff users are equal)\n",
    "    \n",
    "     H<sub>a</sub>: $\\mu$<sub>1</sub> $\\neq$ $\\mu$<sub>2</sub> (average revenues of Smart and Ultra users NOT equal) is a two-sided alternative hypothesis.\n",
    "    \n",
    "     $\\mu$<sub>1</sub> and $\\mu$<sub>2</sub> - average revenues of two general populations of users of **smart** and **ultra** tariffs, respectively\n",
    "    \n",
    "\n",
    "- **Set the $\\alpha$ significance level to 0.05.**\n",
    "\n",
    "\n",
    "- **Choose a statistical criterion (random value) to test the hypothesis.**\n",
    "\n",
    "\n",
    "Student's test (t-test). Our samples are large enough to assume that the sample mean is distributionally normal and we can approximate the normal distribution with a t-distribution.\n",
    "\n",
    "- **Perform a two-sample t-test.**\n",
    "\n",
    "We use the ttest_ind() function from the scipy.stats package because we are comparing the averages of two populations.\n",
    "\n",
    "\n",
    "- **Make a conclusion about accepting or rejecting H<sub>0</sub> depending on the p-value.**\n",
    "\n",
    "If p-value > $\\alpha$ then we have no reason to reject H<sub>0</sub>. Otherwise, H<sub>0</sub> is rejected and H<sub>a</sub> is accepted."
   ]
  },
  {
   "cell_type": "code",
   "execution_count": 23,
   "metadata": {},
   "outputs": [
    {
     "name": "stdout",
     "output_type": "stream",
     "text": [
      "p-value: 4.19096840440574e-273\n",
      "Отклоняем нулевую гипотезу и принимаем альтернативную. Выручки тарифов различаются.\n"
     ]
    }
   ],
   "source": [
    "# выполним двухвыборочный двусторонний тест\n",
    "alpha = .05\n",
    "p_value = st.ttest_ind(smart['revenue'], ultra['revenue'], equal_var=False)\n",
    "\n",
    "print(f\"p-value: {p_value.pvalue}\")\n",
    "if p_value.pvalue < alpha:\n",
    "    print('Отклоняем нулевую гипотезу и принимаем альтернативную. Выручки тарифов различаются.')\n",
    "else:\n",
    "    print('Отклоняем альтернативную гипотезу и принимаем нулевую. Выручки тарифов НЕ различаются.')"
   ]
  },
  {
   "cell_type": "code",
   "execution_count": 24,
   "metadata": {},
   "outputs": [
    {
     "name": "stdout",
     "output_type": "stream",
     "text": [
      "Выборочное среднее выручки пользователей тарифа \"Смарт\": 1257.28\n",
      "Выборочное среднее выручки пользователей тарифа \"Ультра\": 2071.38\n"
     ]
    }
   ],
   "source": [
    "smart_rev_mean = round(smart['revenue'].mean(), 2)\n",
    "ultra_rev_mean = round(ultra['revenue'].mean(), 2)\n",
    "print(f'Выборочное среднее выручки пользователей тарифа \"Смарт\": {smart_rev_mean}')\n",
    "print(f'Выборочное среднее выручки пользователей тарифа \"Ультра\": {ultra_rev_mean}')"
   ]
  },
  {
   "cell_type": "markdown",
   "metadata": {},
   "source": [
    "При проведении теста задали параметр **equal_var=False**, так как сравниваемые выборки отличаются размером, а также есть различия в поведении у пользователей тарифа **ultra**. Получили значение p-value намного меньше уровня значимости. Это означает, что вероятность получить такие или еще большие значения статистического критерия, при условии, что нулевая гипотеза верна, почти равна нулю.\n",
    "\n",
    "----\n",
    "\n",
    "During the test, the **equal_var=False** parameter was set, since the compared samples differ in size, and there are also differences in the behavior of users of the **ultra** tariff. We got a p-value much less than the significance level. This means that the probability of obtaining such or even greater values of the statistical criterion, provided that the null hypothesis is true, is almost zero."
   ]
  },
  {
   "cell_type": "markdown",
   "metadata": {},
   "source": [
    "***2) Проверим гипотезу о различии средней выручки у пользователей из Москвы и других регионов.***\n",
    "\n",
    "- **Сформулируем нулевую и альтернативную гипотезы: H<sub>0</sub> и H<sub>a</sub>.**\n",
    "    \n",
    "    H<sub>0</sub>: $\\mu$<sub>1</sub> = $\\mu$<sub>2</sub> (средняя выручка пользователей из Москвы равна выручке пользователей из других регионов)\n",
    "    \n",
    "    H<sub>a</sub>: $\\mu$<sub>1</sub> $\\neq$ $\\mu$<sub>2</sub> (средняя выручка пользователей из Москвы НЕ равна выручке пользователей из других регионов) - двухсторонняя альтернативная гипотеза.\n",
    "    \n",
    "    $\\mu$<sub>1</sub> и $\\mu$<sub>2</sub> - средние выручек двух генеральных совокупностей пользователей из Москвы и других регионов соответственно\n",
    "    \n",
    "\n",
    "- **Зададим уровню значимости $\\alpha$ значение 0.05.**\n",
    "\n",
    "\n",
    "- **Выберем статистический критерий (случайную величину) для проверки гипотезы.**\n",
    "\n",
    "\n",
    "Критерий Стьюдента (t-критерий). Наши выборки довольно большие, чтобы считать, что выборочное среднее распределно нормально и мы можем апроксимировать нормальное распределение t-распределением.\n",
    "\n",
    "- **Проведем двухвыборочный t-тест.**\n",
    "\n",
    "Используем функцию ttest_ind() из пакета scipy.stats, потому, что сравниваем средние двух генеральных совокупностей.\n",
    "\n",
    "\n",
    "- **Сделаем вывод о принятии или об отклонении H<sub>0</sub> в зависимости от значения p-value.**\n",
    "\n",
    "Если p-value > $\\alpha$, то у нас нет оснований отклонить H<sub>0</sub>. В противном случае, H<sub>0</sub> отклоняется и принимается H<sub>a</sub>.\n",
    "\n",
    "----\n",
    "\n",
    "***2) Let's test the hypothesis about the difference in average revenue between users from Moscow and other regions.***\n",
    "\n",
    "- **Let's formulate the null and alternative hypotheses: H<sub>0</sub> and H<sub>a</sub>.**\n",
    "    \n",
    "     H<sub>0</sub>: $\\mu$<sub>1</sub> = $\\mu$<sub>2</sub> (the average revenue of users from Moscow is equal to the revenue of users from other regions)\n",
    "    \n",
    "     H<sub>a</sub>: $\\mu$<sub>1</sub> $\\neq$ $\\mu$<sub>2</sub> (the average revenue of users from Moscow is NOT equal to the revenue of users from other regions) is a two-sided alternative hypothesis.\n",
    "    \n",
    "     $\\mu$<sub>1</sub> and $\\mu$<sub>2</sub> - average revenues of two general populations of users from Moscow and other regions, respectively\n",
    "    \n",
    "\n",
    "- **Set the $\\alpha$ significance level to 0.05.**\n",
    "\n",
    "\n",
    "- **Choose a statistical criterion (random value) to test the hypothesis.**\n",
    "\n",
    "\n",
    "Student's test (t-test). Our samples are large enough to assume that the sample mean is distributionally normal and we can approximate the normal distribution with a t-distribution.\n",
    "\n",
    "- **Perform a two-sample t-test.**\n",
    "\n",
    "We use the ttest_ind() function from the scipy.stats package because we are comparing the averages of two populations.\n",
    "\n",
    "\n",
    "- **Make a conclusion about accepting or rejecting H<sub>0</sub> depending on the p-value.**\n",
    "\n",
    "If p-value > $\\alpha$ then we have no reason to reject H<sub>0</sub>. Otherwise, H<sub>0</sub> is rejected and H<sub>a</sub> is accepted."
   ]
  },
  {
   "cell_type": "code",
   "execution_count": 25,
   "metadata": {},
   "outputs": [
    {
     "data": {
      "text/html": [
       "<div>\n",
       "<style scoped>\n",
       "    .dataframe tbody tr th:only-of-type {\n",
       "        vertical-align: middle;\n",
       "    }\n",
       "\n",
       "    .dataframe tbody tr th {\n",
       "        vertical-align: top;\n",
       "    }\n",
       "\n",
       "    .dataframe thead th {\n",
       "        text-align: right;\n",
       "    }\n",
       "</style>\n",
       "<table border=\"1\" class=\"dataframe\">\n",
       "  <thead>\n",
       "    <tr style=\"text-align: right;\">\n",
       "      <th></th>\n",
       "      <th>user_id</th>\n",
       "      <th>month</th>\n",
       "      <th>mb_used</th>\n",
       "      <th>n_calls</th>\n",
       "      <th>calls_duration</th>\n",
       "      <th>n_messages</th>\n",
       "      <th>tariff</th>\n",
       "      <th>revenue</th>\n",
       "      <th>city</th>\n",
       "      <th>city_cat</th>\n",
       "    </tr>\n",
       "  </thead>\n",
       "  <tbody>\n",
       "    <tr>\n",
       "      <td>0</td>\n",
       "      <td>1000</td>\n",
       "      <td>5</td>\n",
       "      <td>2253.49</td>\n",
       "      <td>22.0</td>\n",
       "      <td>149.0</td>\n",
       "      <td>22.0</td>\n",
       "      <td>ultra</td>\n",
       "      <td>1950.0</td>\n",
       "      <td>Краснодар</td>\n",
       "      <td>Другой</td>\n",
       "    </tr>\n",
       "    <tr>\n",
       "      <td>1</td>\n",
       "      <td>1000</td>\n",
       "      <td>6</td>\n",
       "      <td>23233.77</td>\n",
       "      <td>43.0</td>\n",
       "      <td>159.0</td>\n",
       "      <td>60.0</td>\n",
       "      <td>ultra</td>\n",
       "      <td>1950.0</td>\n",
       "      <td>Краснодар</td>\n",
       "      <td>Другой</td>\n",
       "    </tr>\n",
       "    <tr>\n",
       "      <td>2</td>\n",
       "      <td>1000</td>\n",
       "      <td>7</td>\n",
       "      <td>14003.64</td>\n",
       "      <td>47.0</td>\n",
       "      <td>319.0</td>\n",
       "      <td>75.0</td>\n",
       "      <td>ultra</td>\n",
       "      <td>1950.0</td>\n",
       "      <td>Краснодар</td>\n",
       "      <td>Другой</td>\n",
       "    </tr>\n",
       "    <tr>\n",
       "      <td>3</td>\n",
       "      <td>1000</td>\n",
       "      <td>8</td>\n",
       "      <td>14055.93</td>\n",
       "      <td>52.0</td>\n",
       "      <td>391.0</td>\n",
       "      <td>81.0</td>\n",
       "      <td>ultra</td>\n",
       "      <td>1950.0</td>\n",
       "      <td>Краснодар</td>\n",
       "      <td>Другой</td>\n",
       "    </tr>\n",
       "    <tr>\n",
       "      <td>4</td>\n",
       "      <td>1000</td>\n",
       "      <td>9</td>\n",
       "      <td>14568.91</td>\n",
       "      <td>58.0</td>\n",
       "      <td>439.0</td>\n",
       "      <td>57.0</td>\n",
       "      <td>ultra</td>\n",
       "      <td>1950.0</td>\n",
       "      <td>Краснодар</td>\n",
       "      <td>Другой</td>\n",
       "    </tr>\n",
       "    <tr>\n",
       "      <td>...</td>\n",
       "      <td>...</td>\n",
       "      <td>...</td>\n",
       "      <td>...</td>\n",
       "      <td>...</td>\n",
       "      <td>...</td>\n",
       "      <td>...</td>\n",
       "      <td>...</td>\n",
       "      <td>...</td>\n",
       "      <td>...</td>\n",
       "      <td>...</td>\n",
       "    </tr>\n",
       "    <tr>\n",
       "      <td>3198</td>\n",
       "      <td>1498</td>\n",
       "      <td>10</td>\n",
       "      <td>20579.36</td>\n",
       "      <td>41.0</td>\n",
       "      <td>230.0</td>\n",
       "      <td>42.0</td>\n",
       "      <td>smart</td>\n",
       "      <td>1750.0</td>\n",
       "      <td>Владикавказ</td>\n",
       "      <td>Другой</td>\n",
       "    </tr>\n",
       "    <tr>\n",
       "      <td>3199</td>\n",
       "      <td>1499</td>\n",
       "      <td>9</td>\n",
       "      <td>1845.75</td>\n",
       "      <td>9.0</td>\n",
       "      <td>64.0</td>\n",
       "      <td>11.0</td>\n",
       "      <td>smart</td>\n",
       "      <td>550.0</td>\n",
       "      <td>Пермь</td>\n",
       "      <td>Другой</td>\n",
       "    </tr>\n",
       "    <tr>\n",
       "      <td>3200</td>\n",
       "      <td>1499</td>\n",
       "      <td>10</td>\n",
       "      <td>17788.51</td>\n",
       "      <td>68.0</td>\n",
       "      <td>429.0</td>\n",
       "      <td>48.0</td>\n",
       "      <td>smart</td>\n",
       "      <td>1150.0</td>\n",
       "      <td>Пермь</td>\n",
       "      <td>Другой</td>\n",
       "    </tr>\n",
       "    <tr>\n",
       "      <td>3201</td>\n",
       "      <td>1499</td>\n",
       "      <td>11</td>\n",
       "      <td>17963.31</td>\n",
       "      <td>74.0</td>\n",
       "      <td>574.0</td>\n",
       "      <td>59.0</td>\n",
       "      <td>smart</td>\n",
       "      <td>1399.0</td>\n",
       "      <td>Пермь</td>\n",
       "      <td>Другой</td>\n",
       "    </tr>\n",
       "    <tr>\n",
       "      <td>3202</td>\n",
       "      <td>1499</td>\n",
       "      <td>12</td>\n",
       "      <td>13055.58</td>\n",
       "      <td>69.0</td>\n",
       "      <td>467.0</td>\n",
       "      <td>66.0</td>\n",
       "      <td>smart</td>\n",
       "      <td>598.0</td>\n",
       "      <td>Пермь</td>\n",
       "      <td>Другой</td>\n",
       "    </tr>\n",
       "  </tbody>\n",
       "</table>\n",
       "<p>3203 rows × 10 columns</p>\n",
       "</div>"
      ],
      "text/plain": [
       "      user_id  month   mb_used  n_calls  calls_duration  n_messages tariff  \\\n",
       "0        1000      5   2253.49     22.0           149.0        22.0  ultra   \n",
       "1        1000      6  23233.77     43.0           159.0        60.0  ultra   \n",
       "2        1000      7  14003.64     47.0           319.0        75.0  ultra   \n",
       "3        1000      8  14055.93     52.0           391.0        81.0  ultra   \n",
       "4        1000      9  14568.91     58.0           439.0        57.0  ultra   \n",
       "...       ...    ...       ...      ...             ...         ...    ...   \n",
       "3198     1498     10  20579.36     41.0           230.0        42.0  smart   \n",
       "3199     1499      9   1845.75      9.0            64.0        11.0  smart   \n",
       "3200     1499     10  17788.51     68.0           429.0        48.0  smart   \n",
       "3201     1499     11  17963.31     74.0           574.0        59.0  smart   \n",
       "3202     1499     12  13055.58     69.0           467.0        66.0  smart   \n",
       "\n",
       "      revenue         city city_cat  \n",
       "0      1950.0    Краснодар   Другой  \n",
       "1      1950.0    Краснодар   Другой  \n",
       "2      1950.0    Краснодар   Другой  \n",
       "3      1950.0    Краснодар   Другой  \n",
       "4      1950.0    Краснодар   Другой  \n",
       "...       ...          ...      ...  \n",
       "3198   1750.0  Владикавказ   Другой  \n",
       "3199    550.0        Пермь   Другой  \n",
       "3200   1150.0        Пермь   Другой  \n",
       "3201   1399.0        Пермь   Другой  \n",
       "3202    598.0        Пермь   Другой  \n",
       "\n",
       "[3203 rows x 10 columns]"
      ]
     },
     "execution_count": 25,
     "metadata": {},
     "output_type": "execute_result"
    }
   ],
   "source": [
    "# добавим к общей таблице города пользователей\n",
    "users_activity_month = users_activity_month.join(users['city'], on='user_id')\n",
    "\n",
    "# создадим колонку с категорией города (Москва, Другой)\n",
    "def city_assigner(row):\n",
    "    if row['city'] == 'Москва':\n",
    "        return 'Москва'\n",
    "    else:\n",
    "        return 'Другой'\n",
    "    \n",
    "users_activity_month['city_cat'] = users_activity_month.apply(city_assigner, axis=1)\n",
    "users_activity_month"
   ]
  },
  {
   "cell_type": "code",
   "execution_count": 26,
   "metadata": {},
   "outputs": [],
   "source": [
    "#сформируем выборки (Москва vs Другие)\n",
    "\n",
    "from_moscow = users_activity_month.query('city_cat == \"Москва\"')\n",
    "from_another = users_activity_month.query('city_cat == \"Другой\"')"
   ]
  },
  {
   "cell_type": "code",
   "execution_count": 27,
   "metadata": {},
   "outputs": [
    {
     "data": {
      "image/png": "[encoded data removed]",
      "text/plain": [
       "<Figure size 720x504 with 1 Axes>"
      ]
     },
     "metadata": {
      "needs_background": "light"
     },
     "output_type": "display_data"
    }
   ],
   "source": [
    "# гистограммы выручки по городам\n",
    "\n",
    "# отобразим гистограммы на одном графике\n",
    "plt.figure(figsize=(10,7))\n",
    "plt.hist(from_another['revenue'], alpha=0.5, bins=20, label='Another city')\n",
    "plt.hist(from_moscow['revenue'], bins=10, alpha=0.5, label='Moscow')\n",
    "plt.legend(loc='upper right')\n",
    "plt.xlabel('Revenue')\n",
    "plt.ylabel('Count')\n",
    "plt.show()"
   ]
  },
  {
   "cell_type": "code",
   "execution_count": 28,
   "metadata": {},
   "outputs": [
    {
     "name": "stdout",
     "output_type": "stream",
     "text": [
      "p-value: 0.44160456365323286\n",
      "Отклоняем альтернативную гипотезу и принимаем нулевую. Выручки по городам НЕ различаются.\n"
     ]
    }
   ],
   "source": [
    "# выполним двухвыборочный двусторонний тест\n",
    "alpha = .05\n",
    "p_value = st.ttest_ind(from_another['revenue'], from_moscow['revenue'], equal_var=False)\n",
    "\n",
    "print(f\"p-value: {p_value.pvalue}\")\n",
    "if p_value.pvalue < alpha:\n",
    "    print('Отклоняем нулевую гипотезу и принимаем альтернативную. Выручки по городам различаются.')\n",
    "else:\n",
    "    print('Отклоняем альтернативную гипотезу и принимаем нулевую. Выручки по городам НЕ различаются.')"
   ]
  },
  {
   "cell_type": "markdown",
   "metadata": {},
   "source": [
    "## Общий вывод / Conclusion"
   ]
  },
  {
   "cell_type": "markdown",
   "metadata": {},
   "source": [
    "В данном проекте мы работали с данными 500 пользователей телеком-оператора \"Мегалайн\". Целью проекта было установить лучший из двух тарифов.\n",
    "\n",
    "Сначала изучили данные из разный файлов, привели переменные к нужным типам. Ошибок и аномалий в данных обнаружено не было. Далее, пересчитали средние показатели продолжительности звонков, количества смс, интрнет-траффика на пользователя в конкретный месяц. Пересчитанные данные объединили в общую таблицу методом merge(). После этого, расчитали помесячную выручку на клиента, исходя из правил оператора: секунды округляются до минут, а мегабайты до гигабайт. Проверили распределения основных величин и описали их.\n",
    "\n",
    "В ходе проекта было проверено две гипотезы:\n",
    "- средняя выручка пользователей тарифов «Ультра» и «Смарт» различаются. \n",
    "\n",
    "**Вывод:** между выручками тарифов есть статистически значимые различия. Тариф \"Ультра\" приносит в среднем больше денег. Это можно описать тем фактом, что пользователи обоих тарифов в среднем недоиспользуют их лимиты (звонки, смс, иногда интернет). Они платят только абонентскую плату, а она больше в тарифе \"Ультра\".\n",
    "\n",
    "- средняя выручка пользователей из Москвы отличается от выручки пользователей из других регионов.\n",
    "\n",
    "**Вывод:** между выручкой пользователей из Москвы и других городов **НЕТ** статистически значимых различий.\n",
    "\n",
    "Исходя из результатов исследования, можно сделать вывод, что тариф \"Ультра\" лучше по выручке и большую долю рекламного бюджет лучше пустить на него. При этом, рекламный бюджет не должен зависеть от города: нет смысла пускать больший рекламный бюджет на Москву, так как выручка там не отличается от выручки в других регионах.\n",
    "\n",
    "----\n",
    "\n",
    "In this project, we worked with the data of 500 users of the Megaline telecom operator. The aim of the project was to establish the best of the two tariffs.\n",
    "\n",
    "First, we studied the data from different files, brought the variables to the required types. No errors or anomalies were found in the data. Further, we recalculated the average indicators of the duration of calls, the number of SMS, Internet traffic per user in a particular month. The recalculated data was merged into a common table using the merge() method. After that, we calculated the monthly revenue per client, based on the rules of the operator: seconds are rounded to minutes, and megabytes to gigabytes. We checked the distributions of the main quantities and described them.\n",
    "\n",
    "The project tested two hypotheses:\n",
    "- the average revenue of users of the \"Ultra\" and \"Smart\" tariffs differ.\n",
    "\n",
    "**Conclusion:** there are statistically significant differences between tariff revenues. The \"Ultra\" tariff brings more money on average. This can be described by the fact that users of both tariffs on average underuse their limits (calls, sms, sometimes internet). They pay only a monthly fee, and it is more in the \"Ultra\" tariff.\n",
    "\n",
    "- the average revenue of users from Moscow differs from the revenue of users from other regions.\n",
    "\n",
    "**Conclusion:** between the revenue of users from Moscow and other cities **NO** statistically significant differences.\n",
    "\n",
    "Based on the results of the study, we can conclude that the \"Ultra\" tariff is better in terms of revenue and it is better to spend a large share of the advertising budget on it. At the same time, the advertising budget should not depend on the city: there is no point in spending a larger advertising budget on Moscow, since the revenue there does not differ from the revenue in other regions."
   ]
  }
 ],
 "metadata": {
  "ExecuteTimeLog": [
   {
    "duration": 536,
    "start_time": "2022-02-01T05:59:35.910Z"
   },
   {
    "duration": 134,
    "start_time": "2022-02-01T05:59:48.254Z"
   },
   {
    "duration": 148,
    "start_time": "2022-02-01T05:59:52.474Z"
   },
   {
    "duration": 151,
    "start_time": "2022-02-01T06:00:03.982Z"
   },
   {
    "duration": 358,
    "start_time": "2022-02-01T06:01:19.968Z"
   },
   {
    "duration": 20,
    "start_time": "2022-02-01T06:01:28.119Z"
   },
   {
    "duration": 16,
    "start_time": "2022-02-01T06:01:34.021Z"
   },
   {
    "duration": 13,
    "start_time": "2022-02-01T06:01:43.629Z"
   },
   {
    "duration": 6,
    "start_time": "2022-02-01T06:01:55.859Z"
   },
   {
    "duration": 6,
    "start_time": "2022-02-01T06:02:09.231Z"
   },
   {
    "duration": 2,
    "start_time": "2022-02-01T06:03:49.486Z"
   },
   {
    "duration": 47,
    "start_time": "2022-02-01T06:04:01.312Z"
   },
   {
    "duration": 44,
    "start_time": "2022-02-01T06:04:06.239Z"
   },
   {
    "duration": 47,
    "start_time": "2022-02-01T06:06:00.037Z"
   },
   {
    "duration": 45,
    "start_time": "2022-02-01T06:06:15.252Z"
   },
   {
    "duration": 45,
    "start_time": "2022-02-01T06:06:48.370Z"
   },
   {
    "duration": 45,
    "start_time": "2022-02-01T06:08:03.100Z"
   },
   {
    "duration": 8,
    "start_time": "2022-02-01T06:08:06.628Z"
   },
   {
    "duration": 45,
    "start_time": "2022-02-01T06:08:21.768Z"
   },
   {
    "duration": 18,
    "start_time": "2022-02-01T06:09:38.917Z"
   },
   {
    "duration": 38,
    "start_time": "2022-02-01T06:09:45.030Z"
   },
   {
    "duration": 59,
    "start_time": "2022-02-01T06:10:45.608Z"
   },
   {
    "duration": 60,
    "start_time": "2022-02-01T06:10:58.216Z"
   },
   {
    "duration": 68,
    "start_time": "2022-02-01T06:11:05.929Z"
   },
   {
    "duration": 79,
    "start_time": "2022-02-01T06:11:14.175Z"
   },
   {
    "duration": 448,
    "start_time": "2022-02-01T06:20:00.663Z"
   },
   {
    "duration": 39,
    "start_time": "2022-02-01T06:20:03.084Z"
   },
   {
    "duration": 35,
    "start_time": "2022-02-01T06:20:07.719Z"
   },
   {
    "duration": 12,
    "start_time": "2022-02-01T06:21:20.441Z"
   },
   {
    "duration": 403,
    "start_time": "2022-02-01T06:23:50.052Z"
   },
   {
    "duration": 36,
    "start_time": "2022-02-01T06:23:51.786Z"
   },
   {
    "duration": 33,
    "start_time": "2022-02-01T06:23:54.597Z"
   },
   {
    "duration": 37,
    "start_time": "2022-02-01T06:24:01.162Z"
   },
   {
    "duration": 609,
    "start_time": "2022-02-01T06:24:18.319Z"
   },
   {
    "duration": 32,
    "start_time": "2022-02-01T06:24:19.454Z"
   },
   {
    "duration": 547,
    "start_time": "2022-02-01T06:24:27.847Z"
   },
   {
    "duration": 410,
    "start_time": "2022-02-01T06:24:32.641Z"
   },
   {
    "duration": 40,
    "start_time": "2022-02-01T06:24:33.669Z"
   },
   {
    "duration": 42,
    "start_time": "2022-02-01T06:24:34.340Z"
   },
   {
    "duration": 559,
    "start_time": "2022-02-01T06:27:33.042Z"
   },
   {
    "duration": 434,
    "start_time": "2022-02-01T06:29:18.468Z"
   },
   {
    "duration": 5,
    "start_time": "2022-02-01T06:31:16.360Z"
   },
   {
    "duration": 322,
    "start_time": "2022-02-01T06:31:26.340Z"
   },
   {
    "duration": 2,
    "start_time": "2022-02-01T06:31:32.547Z"
   },
   {
    "duration": 409,
    "start_time": "2022-02-01T06:31:33.236Z"
   },
   {
    "duration": 38,
    "start_time": "2022-02-01T06:31:34.002Z"
   },
   {
    "duration": 37,
    "start_time": "2022-02-01T06:31:35.012Z"
   },
   {
    "duration": 13,
    "start_time": "2022-02-01T06:31:40.868Z"
   },
   {
    "duration": 74,
    "start_time": "2022-02-01T06:32:13.876Z"
   },
   {
    "duration": 105,
    "start_time": "2022-02-01T06:32:54.567Z"
   },
   {
    "duration": 370,
    "start_time": "2022-02-01T06:37:14.886Z"
   },
   {
    "duration": 2,
    "start_time": "2022-02-01T06:37:21.581Z"
   },
   {
    "duration": 410,
    "start_time": "2022-02-01T06:37:21.585Z"
   },
   {
    "duration": 35,
    "start_time": "2022-02-01T06:37:21.997Z"
   },
   {
    "duration": 40,
    "start_time": "2022-02-01T06:37:22.033Z"
   },
   {
    "duration": 12,
    "start_time": "2022-02-01T06:37:23.816Z"
   },
   {
    "duration": 36,
    "start_time": "2022-02-01T06:40:00.678Z"
   },
   {
    "duration": 48,
    "start_time": "2022-02-01T06:40:15.182Z"
   },
   {
    "duration": 392,
    "start_time": "2022-02-01T06:48:47.395Z"
   },
   {
    "duration": 37,
    "start_time": "2022-02-01T06:48:49.051Z"
   },
   {
    "duration": 40,
    "start_time": "2022-02-01T06:48:51.359Z"
   },
   {
    "duration": 14,
    "start_time": "2022-02-01T06:48:52.037Z"
   },
   {
    "duration": 75,
    "start_time": "2022-02-01T06:48:52.548Z"
   },
   {
    "duration": 356,
    "start_time": "2022-02-01T07:25:52.081Z"
   },
   {
    "duration": 5,
    "start_time": "2022-02-01T07:26:11.083Z"
   },
   {
    "duration": 5,
    "start_time": "2022-02-01T07:26:16.649Z"
   },
   {
    "duration": 10,
    "start_time": "2022-02-01T07:26:58.192Z"
   },
   {
    "duration": 8,
    "start_time": "2022-02-01T07:27:02.164Z"
   },
   {
    "duration": 8,
    "start_time": "2022-02-01T07:27:05.971Z"
   },
   {
    "duration": 106,
    "start_time": "2022-02-01T07:27:15.404Z"
   },
   {
    "duration": 8,
    "start_time": "2022-02-01T07:27:21.390Z"
   },
   {
    "duration": 7,
    "start_time": "2022-02-01T07:27:25.328Z"
   },
   {
    "duration": 7,
    "start_time": "2022-02-01T07:27:46.594Z"
   },
   {
    "duration": 7,
    "start_time": "2022-02-01T07:27:49.958Z"
   },
   {
    "duration": 7,
    "start_time": "2022-02-01T07:27:52.996Z"
   },
   {
    "duration": 8,
    "start_time": "2022-02-01T07:28:00.192Z"
   },
   {
    "duration": 6,
    "start_time": "2022-02-01T07:28:05.099Z"
   },
   {
    "duration": 8,
    "start_time": "2022-02-01T07:29:47.183Z"
   },
   {
    "duration": 8,
    "start_time": "2022-02-01T07:29:50.455Z"
   },
   {
    "duration": 8,
    "start_time": "2022-02-01T07:29:53.523Z"
   },
   {
    "duration": 8,
    "start_time": "2022-02-01T07:30:06.640Z"
   },
   {
    "duration": 8,
    "start_time": "2022-02-01T07:30:13.101Z"
   },
   {
    "duration": 7,
    "start_time": "2022-02-01T07:30:18.135Z"
   },
   {
    "duration": 7,
    "start_time": "2022-02-01T07:30:21.629Z"
   },
   {
    "duration": 8,
    "start_time": "2022-02-01T07:30:25.700Z"
   },
   {
    "duration": 10,
    "start_time": "2022-02-01T07:30:38.293Z"
   },
   {
    "duration": 5,
    "start_time": "2022-02-01T07:31:39.003Z"
   },
   {
    "duration": 421,
    "start_time": "2022-02-01T07:31:50.210Z"
   },
   {
    "duration": 33,
    "start_time": "2022-02-01T07:31:50.792Z"
   },
   {
    "duration": 36,
    "start_time": "2022-02-01T07:31:51.074Z"
   },
   {
    "duration": 12,
    "start_time": "2022-02-01T07:31:51.320Z"
   },
   {
    "duration": 71,
    "start_time": "2022-02-01T07:31:52.077Z"
   },
   {
    "duration": 49,
    "start_time": "2022-02-01T07:31:54.342Z"
   },
   {
    "duration": 11,
    "start_time": "2022-02-01T07:32:07.184Z"
   },
   {
    "duration": 14,
    "start_time": "2022-02-01T07:32:13.164Z"
   },
   {
    "duration": 13,
    "start_time": "2022-02-01T07:32:24.218Z"
   },
   {
    "duration": 18,
    "start_time": "2022-02-01T07:33:03.454Z"
   },
   {
    "duration": 12,
    "start_time": "2022-02-01T07:33:27.304Z"
   },
   {
    "duration": 6,
    "start_time": "2022-02-01T07:36:21.952Z"
   },
   {
    "duration": 7,
    "start_time": "2022-02-01T07:36:30.666Z"
   },
   {
    "duration": 295,
    "start_time": "2022-02-01T07:37:44.297Z"
   },
   {
    "duration": 357,
    "start_time": "2022-02-01T07:37:48.754Z"
   },
   {
    "duration": 3,
    "start_time": "2022-02-01T07:38:16.406Z"
   },
   {
    "duration": 315,
    "start_time": "2022-02-01T07:38:24.059Z"
   },
   {
    "duration": 305,
    "start_time": "2022-02-01T07:38:31.771Z"
   },
   {
    "duration": 8,
    "start_time": "2022-02-01T07:38:44.980Z"
   },
   {
    "duration": 308,
    "start_time": "2022-02-01T07:38:48.574Z"
   },
   {
    "duration": 60,
    "start_time": "2022-02-01T07:39:33.518Z"
   },
   {
    "duration": 11,
    "start_time": "2022-02-01T07:41:04.950Z"
   },
   {
    "duration": 10,
    "start_time": "2022-02-01T07:41:16.764Z"
   },
   {
    "duration": 84,
    "start_time": "2022-02-01T07:44:21.015Z"
   },
   {
    "duration": 6,
    "start_time": "2022-02-01T07:46:51.540Z"
   },
   {
    "duration": 5,
    "start_time": "2022-02-01T07:46:58.659Z"
   },
   {
    "duration": 298,
    "start_time": "2022-02-01T07:47:41.002Z"
   },
   {
    "duration": 46,
    "start_time": "2022-02-01T07:47:44.882Z"
   },
   {
    "duration": 43,
    "start_time": "2022-02-01T07:48:15.721Z"
   },
   {
    "duration": 44,
    "start_time": "2022-02-01T07:48:25.833Z"
   },
   {
    "duration": 45,
    "start_time": "2022-02-01T08:08:13.779Z"
   },
   {
    "duration": 482,
    "start_time": "2022-02-01T08:17:05.223Z"
   },
   {
    "duration": 27,
    "start_time": "2022-02-01T08:17:07.584Z"
   },
   {
    "duration": 481,
    "start_time": "2022-02-01T08:19:50.197Z"
   },
   {
    "duration": 25,
    "start_time": "2022-02-01T08:19:59.623Z"
   },
   {
    "duration": 36,
    "start_time": "2022-02-01T08:20:35.534Z"
   },
   {
    "duration": 11,
    "start_time": "2022-02-01T08:20:48.923Z"
   },
   {
    "duration": 77,
    "start_time": "2022-02-01T08:20:51.233Z"
   },
   {
    "duration": 3,
    "start_time": "2022-02-01T08:21:10.133Z"
   },
   {
    "duration": 475,
    "start_time": "2022-02-01T08:21:11.647Z"
   },
   {
    "duration": 30,
    "start_time": "2022-02-01T08:21:12.317Z"
   },
   {
    "duration": 314,
    "start_time": "2022-02-01T08:25:04.699Z"
   },
   {
    "duration": 9,
    "start_time": "2022-02-01T08:25:11.761Z"
   },
   {
    "duration": 10,
    "start_time": "2022-02-01T08:41:42.971Z"
   },
   {
    "duration": 8,
    "start_time": "2022-02-01T08:41:59.647Z"
   },
   {
    "duration": 17,
    "start_time": "2022-02-01T08:45:49.762Z"
   },
   {
    "duration": 4,
    "start_time": "2022-02-01T08:47:06.141Z"
   },
   {
    "duration": 7614,
    "start_time": "2022-02-01T08:53:50.911Z"
   },
   {
    "duration": 314,
    "start_time": "2022-02-01T08:54:09.624Z"
   },
   {
    "duration": 25,
    "start_time": "2022-02-01T08:57:05.775Z"
   },
   {
    "duration": 35,
    "start_time": "2022-02-01T08:57:38.957Z"
   },
   {
    "duration": 294,
    "start_time": "2022-02-01T08:59:05.620Z"
   },
   {
    "duration": 6,
    "start_time": "2022-02-01T08:59:10.890Z"
   },
   {
    "duration": 5,
    "start_time": "2022-02-01T08:59:19.104Z"
   },
   {
    "duration": 5,
    "start_time": "2022-02-01T08:59:48.068Z"
   },
   {
    "duration": 302,
    "start_time": "2022-02-01T09:00:46.854Z"
   },
   {
    "duration": 292,
    "start_time": "2022-02-01T09:01:19.155Z"
   },
   {
    "duration": 320,
    "start_time": "2022-02-01T09:02:19.550Z"
   },
   {
    "duration": 339,
    "start_time": "2022-02-01T09:02:23.302Z"
   },
   {
    "duration": 7,
    "start_time": "2022-02-01T09:02:32.419Z"
   },
   {
    "duration": 7,
    "start_time": "2022-02-01T09:02:39.474Z"
   },
   {
    "duration": 7,
    "start_time": "2022-02-01T09:03:20.845Z"
   },
   {
    "duration": 311,
    "start_time": "2022-02-01T09:03:41.544Z"
   },
   {
    "duration": 6,
    "start_time": "2022-02-01T09:03:48.082Z"
   },
   {
    "duration": 8269,
    "start_time": "2022-02-01T09:05:04.848Z"
   },
   {
    "duration": 5,
    "start_time": "2022-02-01T09:05:30.675Z"
   },
   {
    "duration": 6,
    "start_time": "2022-02-01T09:05:49.611Z"
   },
   {
    "duration": 6,
    "start_time": "2022-02-01T09:05:59.883Z"
   },
   {
    "duration": 41,
    "start_time": "2022-02-01T09:06:34.759Z"
   },
   {
    "duration": 30,
    "start_time": "2022-02-01T09:07:18.121Z"
   },
   {
    "duration": 30,
    "start_time": "2022-02-01T09:08:14.845Z"
   },
   {
    "duration": 33,
    "start_time": "2022-02-01T09:08:23.124Z"
   },
   {
    "duration": 21,
    "start_time": "2022-02-01T09:08:42.360Z"
   },
   {
    "duration": 25,
    "start_time": "2022-02-01T09:08:54.443Z"
   },
   {
    "duration": 27,
    "start_time": "2022-02-01T09:08:58.840Z"
   },
   {
    "duration": 5,
    "start_time": "2022-02-01T09:09:26.931Z"
   },
   {
    "duration": 5,
    "start_time": "2022-02-01T09:09:34.390Z"
   },
   {
    "duration": 6,
    "start_time": "2022-02-01T09:10:19.491Z"
   },
   {
    "duration": 8343,
    "start_time": "2022-02-01T09:10:46.933Z"
   },
   {
    "duration": 4,
    "start_time": "2022-02-01T09:10:59.121Z"
   },
   {
    "duration": 8,
    "start_time": "2022-02-01T09:17:10.591Z"
   },
   {
    "duration": 15,
    "start_time": "2022-02-01T09:17:19.063Z"
   },
   {
    "duration": 11,
    "start_time": "2022-02-01T09:17:32.785Z"
   },
   {
    "duration": 12,
    "start_time": "2022-02-01T09:17:38.213Z"
   },
   {
    "duration": 45,
    "start_time": "2022-02-01T09:18:41.843Z"
   },
   {
    "duration": 37,
    "start_time": "2022-02-01T09:18:47.426Z"
   },
   {
    "duration": 422,
    "start_time": "2022-02-01T09:19:25.520Z"
   },
   {
    "duration": 18,
    "start_time": "2022-02-01T09:19:29.847Z"
   },
   {
    "duration": 23,
    "start_time": "2022-02-01T09:19:51.623Z"
   },
   {
    "duration": 411,
    "start_time": "2022-02-01T09:20:42.511Z"
   },
   {
    "duration": 5,
    "start_time": "2022-02-01T09:20:45.269Z"
   },
   {
    "duration": 716,
    "start_time": "2022-02-01T09:21:00.244Z"
   },
   {
    "duration": 315,
    "start_time": "2022-02-01T09:21:09.099Z"
   },
   {
    "duration": 3,
    "start_time": "2022-02-01T09:21:34.883Z"
   },
   {
    "duration": 3,
    "start_time": "2022-02-01T09:21:41.703Z"
   },
   {
    "duration": 300,
    "start_time": "2022-02-01T09:21:49.918Z"
   },
   {
    "duration": 5,
    "start_time": "2022-02-01T09:21:55.635Z"
   },
   {
    "duration": 4,
    "start_time": "2022-02-01T09:23:25.306Z"
   },
   {
    "duration": 5,
    "start_time": "2022-02-01T09:23:54.721Z"
   },
   {
    "duration": 6,
    "start_time": "2022-02-01T09:24:00.613Z"
   },
   {
    "duration": 7,
    "start_time": "2022-02-01T09:24:10.741Z"
   },
   {
    "duration": 5,
    "start_time": "2022-02-01T09:24:22.485Z"
   },
   {
    "duration": 20,
    "start_time": "2022-02-01T09:28:17.744Z"
   },
   {
    "duration": 10,
    "start_time": "2022-02-01T09:28:22.663Z"
   },
   {
    "duration": 3,
    "start_time": "2022-02-01T09:30:45.833Z"
   },
   {
    "duration": 492,
    "start_time": "2022-02-01T09:30:45.838Z"
   },
   {
    "duration": 19,
    "start_time": "2022-02-01T09:30:46.332Z"
   },
   {
    "duration": 34,
    "start_time": "2022-02-01T09:30:46.352Z"
   },
   {
    "duration": 11,
    "start_time": "2022-02-01T09:30:46.387Z"
   },
   {
    "duration": 85,
    "start_time": "2022-02-01T09:30:46.400Z"
   },
   {
    "duration": 8,
    "start_time": "2022-02-01T09:30:46.487Z"
   },
   {
    "duration": 9886,
    "start_time": "2022-02-01T09:30:48.526Z"
   },
   {
    "duration": 314,
    "start_time": "2022-02-01T09:31:01.931Z"
   },
   {
    "duration": 414,
    "start_time": "2022-02-01T09:31:28.362Z"
   },
   {
    "duration": 3,
    "start_time": "2022-02-01T09:31:42.633Z"
   },
   {
    "duration": 417,
    "start_time": "2022-02-01T09:31:43.039Z"
   },
   {
    "duration": 34,
    "start_time": "2022-02-01T09:31:43.458Z"
   },
   {
    "duration": 38,
    "start_time": "2022-02-01T09:31:43.494Z"
   },
   {
    "duration": 16,
    "start_time": "2022-02-01T09:31:43.576Z"
   },
   {
    "duration": 76,
    "start_time": "2022-02-01T09:31:43.766Z"
   },
   {
    "duration": 16,
    "start_time": "2022-02-01T09:31:46.625Z"
   },
   {
    "duration": 70,
    "start_time": "2022-02-01T09:31:54.847Z"
   },
   {
    "duration": 103,
    "start_time": "2022-02-01T09:32:41.201Z"
   },
   {
    "duration": 73,
    "start_time": "2022-02-01T09:32:45.488Z"
   },
   {
    "duration": 54,
    "start_time": "2022-02-01T09:33:08.327Z"
   },
   {
    "duration": 59,
    "start_time": "2022-02-01T09:36:16.844Z"
   },
   {
    "duration": 48,
    "start_time": "2022-02-01T09:53:06.200Z"
   },
   {
    "duration": 9,
    "start_time": "2022-02-01T09:53:15.082Z"
   },
   {
    "duration": 55,
    "start_time": "2022-02-01T09:53:32.616Z"
   },
   {
    "duration": 36,
    "start_time": "2022-02-01T09:56:37.441Z"
   },
   {
    "duration": 2089,
    "start_time": "2022-02-01T09:58:49.832Z"
   },
   {
    "duration": 38,
    "start_time": "2022-02-01T09:59:00.692Z"
   },
   {
    "duration": 37,
    "start_time": "2022-02-01T10:00:23.316Z"
   },
   {
    "duration": 35,
    "start_time": "2022-02-01T10:01:22.192Z"
   },
   {
    "duration": 401,
    "start_time": "2022-02-01T10:48:36.246Z"
   },
   {
    "duration": 38,
    "start_time": "2022-02-01T10:48:38.059Z"
   },
   {
    "duration": 42,
    "start_time": "2022-02-01T10:48:38.292Z"
   },
   {
    "duration": 16,
    "start_time": "2022-02-01T10:48:38.882Z"
   },
   {
    "duration": 72,
    "start_time": "2022-02-01T10:48:39.193Z"
   },
   {
    "duration": 16,
    "start_time": "2022-02-01T10:48:40.734Z"
   },
   {
    "duration": 58,
    "start_time": "2022-02-01T10:48:40.958Z"
   },
   {
    "duration": 38,
    "start_time": "2022-02-01T10:48:41.201Z"
   },
   {
    "duration": 35,
    "start_time": "2022-02-01T10:48:41.473Z"
   },
   {
    "duration": 57,
    "start_time": "2022-02-01T10:50:04.000Z"
   },
   {
    "duration": 10,
    "start_time": "2022-02-01T10:50:24.815Z"
   },
   {
    "duration": 49,
    "start_time": "2022-02-01T10:50:44.670Z"
   },
   {
    "duration": 59,
    "start_time": "2022-02-01T10:50:54.580Z"
   },
   {
    "duration": 3,
    "start_time": "2022-02-01T10:51:08.313Z"
   },
   {
    "duration": 399,
    "start_time": "2022-02-01T10:51:08.318Z"
   },
   {
    "duration": 37,
    "start_time": "2022-02-01T10:51:08.719Z"
   },
   {
    "duration": 39,
    "start_time": "2022-02-01T10:51:08.757Z"
   },
   {
    "duration": 16,
    "start_time": "2022-02-01T10:51:08.798Z"
   },
   {
    "duration": 103,
    "start_time": "2022-02-01T10:51:08.815Z"
   },
   {
    "duration": 18,
    "start_time": "2022-02-01T10:51:08.920Z"
   },
   {
    "duration": 62,
    "start_time": "2022-02-01T10:51:11.570Z"
   },
   {
    "duration": 56,
    "start_time": "2022-02-01T10:51:28.264Z"
   },
   {
    "duration": 57,
    "start_time": "2022-02-01T10:52:01.993Z"
   },
   {
    "duration": 59,
    "start_time": "2022-02-01T10:52:09.133Z"
   },
   {
    "duration": 54,
    "start_time": "2022-02-01T10:52:24.604Z"
   },
   {
    "duration": 9,
    "start_time": "2022-02-01T10:52:31.780Z"
   },
   {
    "duration": 9,
    "start_time": "2022-02-01T10:52:36.682Z"
   },
   {
    "duration": 47,
    "start_time": "2022-02-01T10:52:58.390Z"
   },
   {
    "duration": 1284,
    "start_time": "2022-02-01T10:53:18.168Z"
   },
   {
    "duration": 52,
    "start_time": "2022-02-01T10:53:37.347Z"
   },
   {
    "duration": 59,
    "start_time": "2022-02-01T10:53:52.302Z"
   },
   {
    "duration": 56,
    "start_time": "2022-02-01T10:54:06.920Z"
   },
   {
    "duration": 57,
    "start_time": "2022-02-01T10:54:13.748Z"
   },
   {
    "duration": 53,
    "start_time": "2022-02-01T10:55:04.868Z"
   },
   {
    "duration": 56,
    "start_time": "2022-02-01T10:55:11.779Z"
   },
   {
    "duration": 56,
    "start_time": "2022-02-01T10:55:33.044Z"
   },
   {
    "duration": 40,
    "start_time": "2022-02-01T10:56:01.170Z"
   },
   {
    "duration": 36,
    "start_time": "2022-02-01T10:56:21.380Z"
   },
   {
    "duration": 39,
    "start_time": "2022-02-01T10:56:28.875Z"
   },
   {
    "duration": 36,
    "start_time": "2022-02-01T10:56:39.089Z"
   },
   {
    "duration": 457,
    "start_time": "2022-02-01T10:57:29.600Z"
   },
   {
    "duration": 40,
    "start_time": "2022-02-01T10:57:30.059Z"
   },
   {
    "duration": 38,
    "start_time": "2022-02-01T10:57:30.720Z"
   },
   {
    "duration": 4,
    "start_time": "2022-02-01T10:57:39.196Z"
   },
   {
    "duration": 10,
    "start_time": "2022-02-01T10:57:45.464Z"
   },
   {
    "duration": 8,
    "start_time": "2022-02-01T10:58:23.562Z"
   },
   {
    "duration": 3,
    "start_time": "2022-02-01T11:00:06.400Z"
   },
   {
    "duration": 429,
    "start_time": "2022-02-01T11:00:06.405Z"
   },
   {
    "duration": 32,
    "start_time": "2022-02-01T11:00:06.836Z"
   },
   {
    "duration": 40,
    "start_time": "2022-02-01T11:00:06.870Z"
   },
   {
    "duration": 14,
    "start_time": "2022-02-01T11:00:06.911Z"
   },
   {
    "duration": 93,
    "start_time": "2022-02-01T11:00:06.927Z"
   },
   {
    "duration": 15,
    "start_time": "2022-02-01T11:00:07.022Z"
   },
   {
    "duration": 79,
    "start_time": "2022-02-01T11:00:07.039Z"
   },
   {
    "duration": 40,
    "start_time": "2022-02-01T11:00:07.119Z"
   },
   {
    "duration": 45,
    "start_time": "2022-02-01T11:00:07.161Z"
   },
   {
    "duration": 769,
    "start_time": "2022-02-01T11:00:13.712Z"
   },
   {
    "duration": 6,
    "start_time": "2022-02-01T11:00:19.919Z"
   },
   {
    "duration": 9,
    "start_time": "2022-02-01T11:00:29.420Z"
   },
   {
    "duration": 9,
    "start_time": "2022-02-01T11:00:53.187Z"
   },
   {
    "duration": 38,
    "start_time": "2022-02-01T11:01:47.271Z"
   },
   {
    "duration": 330,
    "start_time": "2022-02-01T11:03:23.823Z"
   },
   {
    "duration": 34,
    "start_time": "2022-02-01T11:03:45.561Z"
   },
   {
    "duration": 99,
    "start_time": "2022-02-01T11:04:52.731Z"
   },
   {
    "duration": 310,
    "start_time": "2022-02-01T11:05:10.418Z"
   },
   {
    "duration": 58,
    "start_time": "2022-02-01T11:05:38.782Z"
   },
   {
    "duration": 53,
    "start_time": "2022-02-01T11:06:06.712Z"
   },
   {
    "duration": 53,
    "start_time": "2022-02-01T11:06:59.246Z"
   },
   {
    "duration": 58,
    "start_time": "2022-02-01T11:07:40.261Z"
   },
   {
    "duration": 1349,
    "start_time": "2022-02-01T11:08:11.360Z"
   },
   {
    "duration": 30,
    "start_time": "2022-02-01T11:08:15.780Z"
   },
   {
    "duration": 39,
    "start_time": "2022-02-01T11:08:26.083Z"
   },
   {
    "duration": 34,
    "start_time": "2022-02-01T11:08:34.567Z"
   },
   {
    "duration": 1317,
    "start_time": "2022-02-01T11:08:43.487Z"
   },
   {
    "duration": 58,
    "start_time": "2022-02-01T11:09:01.857Z"
   },
   {
    "duration": 37,
    "start_time": "2022-02-01T11:09:12.902Z"
   },
   {
    "duration": 13,
    "start_time": "2022-02-01T11:09:31.405Z"
   },
   {
    "duration": 14,
    "start_time": "2022-02-01T11:10:01.341Z"
   },
   {
    "duration": 17,
    "start_time": "2022-02-01T11:11:26.423Z"
   },
   {
    "duration": 9,
    "start_time": "2022-02-01T11:12:37.355Z"
   },
   {
    "duration": 8,
    "start_time": "2022-02-01T11:13:00.405Z"
   },
   {
    "duration": 10,
    "start_time": "2022-02-01T11:13:52.882Z"
   },
   {
    "duration": 9,
    "start_time": "2022-02-01T11:13:58.687Z"
   },
   {
    "duration": 9,
    "start_time": "2022-02-01T11:14:02.707Z"
   },
   {
    "duration": 8,
    "start_time": "2022-02-01T11:14:14.603Z"
   },
   {
    "duration": 313,
    "start_time": "2022-02-01T11:14:53.000Z"
   },
   {
    "duration": 352,
    "start_time": "2022-02-01T11:15:02.759Z"
   },
   {
    "duration": 14,
    "start_time": "2022-02-01T11:15:15.529Z"
   },
   {
    "duration": 13,
    "start_time": "2022-02-01T11:15:29.047Z"
   },
   {
    "duration": 13,
    "start_time": "2022-02-01T11:15:37.088Z"
   },
   {
    "duration": 13,
    "start_time": "2022-02-01T11:15:49.471Z"
   },
   {
    "duration": 14,
    "start_time": "2022-02-01T11:15:58.104Z"
   },
   {
    "duration": 9,
    "start_time": "2022-02-01T11:16:55.392Z"
   },
   {
    "duration": 11,
    "start_time": "2022-02-01T11:17:04.052Z"
   },
   {
    "duration": 6,
    "start_time": "2022-02-01T11:17:36.394Z"
   },
   {
    "duration": 11,
    "start_time": "2022-02-01T11:18:04.386Z"
   },
   {
    "duration": 13,
    "start_time": "2022-02-01T11:18:44.518Z"
   },
   {
    "duration": 9,
    "start_time": "2022-02-01T11:19:35.196Z"
   },
   {
    "duration": 13,
    "start_time": "2022-02-01T11:19:50.996Z"
   },
   {
    "duration": 10,
    "start_time": "2022-02-01T11:19:56.348Z"
   },
   {
    "duration": 9,
    "start_time": "2022-02-01T11:20:04.864Z"
   },
   {
    "duration": 10,
    "start_time": "2022-02-01T11:20:11.434Z"
   },
   {
    "duration": 17,
    "start_time": "2022-02-01T11:20:22.926Z"
   },
   {
    "duration": 10,
    "start_time": "2022-02-01T11:20:28.617Z"
   },
   {
    "duration": 13,
    "start_time": "2022-02-01T11:20:31.973Z"
   },
   {
    "duration": 15,
    "start_time": "2022-02-01T11:20:34.940Z"
   },
   {
    "duration": 14,
    "start_time": "2022-02-01T11:20:37.498Z"
   },
   {
    "duration": 11,
    "start_time": "2022-02-01T11:20:42.180Z"
   },
   {
    "duration": 10,
    "start_time": "2022-02-01T11:20:52.226Z"
   },
   {
    "duration": 105,
    "start_time": "2022-02-01T11:21:53.527Z"
   },
   {
    "duration": 360,
    "start_time": "2022-02-01T11:22:40.306Z"
   },
   {
    "duration": 420,
    "start_time": "2022-02-01T11:22:58.549Z"
   },
   {
    "duration": 2,
    "start_time": "2022-02-01T11:23:04.390Z"
   },
   {
    "duration": 421,
    "start_time": "2022-02-01T11:23:04.394Z"
   },
   {
    "duration": 39,
    "start_time": "2022-02-01T11:23:04.816Z"
   },
   {
    "duration": 40,
    "start_time": "2022-02-01T11:23:04.857Z"
   },
   {
    "duration": 14,
    "start_time": "2022-02-01T11:23:04.899Z"
   },
   {
    "duration": 101,
    "start_time": "2022-02-01T11:23:04.914Z"
   },
   {
    "duration": 15,
    "start_time": "2022-02-01T11:23:05.017Z"
   },
   {
    "duration": 77,
    "start_time": "2022-02-01T11:23:05.034Z"
   },
   {
    "duration": 40,
    "start_time": "2022-02-01T11:23:05.113Z"
   },
   {
    "duration": 48,
    "start_time": "2022-02-01T11:23:05.155Z"
   },
   {
    "duration": 14,
    "start_time": "2022-02-01T11:23:07.790Z"
   },
   {
    "duration": 24,
    "start_time": "2022-02-01T11:23:11.535Z"
   },
   {
    "duration": 322,
    "start_time": "2022-02-01T11:23:30.045Z"
   },
   {
    "duration": 3,
    "start_time": "2022-02-01T11:23:36.418Z"
   },
   {
    "duration": 395,
    "start_time": "2022-02-01T11:23:36.422Z"
   },
   {
    "duration": 41,
    "start_time": "2022-02-01T11:23:36.819Z"
   },
   {
    "duration": 41,
    "start_time": "2022-02-01T11:23:36.862Z"
   },
   {
    "duration": 15,
    "start_time": "2022-02-01T11:23:36.904Z"
   },
   {
    "duration": 103,
    "start_time": "2022-02-01T11:23:36.920Z"
   },
   {
    "duration": 16,
    "start_time": "2022-02-01T11:23:37.025Z"
   },
   {
    "duration": 78,
    "start_time": "2022-02-01T11:23:37.043Z"
   },
   {
    "duration": 39,
    "start_time": "2022-02-01T11:23:37.122Z"
   },
   {
    "duration": 42,
    "start_time": "2022-02-01T11:23:37.163Z"
   },
   {
    "duration": 419,
    "start_time": "2022-02-01T11:24:15.792Z"
   },
   {
    "duration": 3,
    "start_time": "2022-02-01T11:24:24.414Z"
   },
   {
    "duration": 444,
    "start_time": "2022-02-01T11:24:24.418Z"
   },
   {
    "duration": 39,
    "start_time": "2022-02-01T11:24:24.864Z"
   },
   {
    "duration": 41,
    "start_time": "2022-02-01T11:24:24.905Z"
   },
   {
    "duration": 35,
    "start_time": "2022-02-01T11:24:24.948Z"
   },
   {
    "duration": 100,
    "start_time": "2022-02-01T11:24:24.985Z"
   },
   {
    "duration": 16,
    "start_time": "2022-02-01T11:24:25.087Z"
   },
   {
    "duration": 75,
    "start_time": "2022-02-01T11:24:25.105Z"
   },
   {
    "duration": 39,
    "start_time": "2022-02-01T11:24:25.183Z"
   },
   {
    "duration": 51,
    "start_time": "2022-02-01T11:24:25.224Z"
   },
   {
    "duration": 317,
    "start_time": "2022-02-01T11:24:29.539Z"
   },
   {
    "duration": 12,
    "start_time": "2022-02-01T11:24:48.612Z"
   },
   {
    "duration": 12,
    "start_time": "2022-02-01T11:24:51.568Z"
   },
   {
    "duration": 305,
    "start_time": "2022-02-01T11:25:26.716Z"
   },
   {
    "duration": 10,
    "start_time": "2022-02-01T11:25:36.673Z"
   },
   {
    "duration": 10,
    "start_time": "2022-02-01T11:26:20.515Z"
   },
   {
    "duration": 20,
    "start_time": "2022-02-01T11:26:40.392Z"
   },
   {
    "duration": 19,
    "start_time": "2022-02-01T11:26:51.563Z"
   },
   {
    "duration": 18,
    "start_time": "2022-02-01T11:26:56.649Z"
   },
   {
    "duration": 17,
    "start_time": "2022-02-01T11:27:15.652Z"
   },
   {
    "duration": 10,
    "start_time": "2022-02-01T11:27:53.968Z"
   },
   {
    "duration": 12,
    "start_time": "2022-02-01T11:28:59.250Z"
   },
   {
    "duration": 13,
    "start_time": "2022-02-01T11:29:00.364Z"
   },
   {
    "duration": 12,
    "start_time": "2022-02-01T11:29:07.772Z"
   },
   {
    "duration": 13,
    "start_time": "2022-02-01T11:29:08.234Z"
   },
   {
    "duration": 4,
    "start_time": "2022-02-01T11:34:48.260Z"
   },
   {
    "duration": 4,
    "start_time": "2022-02-01T11:35:13.006Z"
   },
   {
    "duration": 2,
    "start_time": "2022-02-01T11:46:44.409Z"
   },
   {
    "duration": 3,
    "start_time": "2022-02-01T11:46:46.673Z"
   },
   {
    "duration": 300,
    "start_time": "2022-02-01T11:50:36.006Z"
   },
   {
    "duration": 358,
    "start_time": "2022-02-01T11:51:06.947Z"
   },
   {
    "duration": 309,
    "start_time": "2022-02-01T11:51:20.205Z"
   },
   {
    "duration": 5,
    "start_time": "2022-02-01T11:51:33.625Z"
   },
   {
    "duration": 3,
    "start_time": "2022-02-01T11:52:38.701Z"
   },
   {
    "duration": 379,
    "start_time": "2022-02-01T11:52:48.641Z"
   },
   {
    "duration": 6,
    "start_time": "2022-02-01T11:52:56.138Z"
   },
   {
    "duration": 324,
    "start_time": "2022-02-01T11:53:00.306Z"
   },
   {
    "duration": 2,
    "start_time": "2022-02-01T11:53:31.135Z"
   },
   {
    "duration": 6,
    "start_time": "2022-02-01T11:53:38.507Z"
   },
   {
    "duration": 17,
    "start_time": "2022-02-01T11:54:03.041Z"
   },
   {
    "duration": 14,
    "start_time": "2022-02-01T11:54:12.168Z"
   },
   {
    "duration": 3,
    "start_time": "2022-02-01T11:54:18.339Z"
   },
   {
    "duration": 394,
    "start_time": "2022-02-01T11:54:18.343Z"
   },
   {
    "duration": 38,
    "start_time": "2022-02-01T11:54:18.739Z"
   },
   {
    "duration": 38,
    "start_time": "2022-02-01T11:54:18.778Z"
   },
   {
    "duration": 13,
    "start_time": "2022-02-01T11:54:18.818Z"
   },
   {
    "duration": 97,
    "start_time": "2022-02-01T11:54:18.832Z"
   },
   {
    "duration": 15,
    "start_time": "2022-02-01T11:54:18.931Z"
   },
   {
    "duration": 76,
    "start_time": "2022-02-01T11:54:18.948Z"
   },
   {
    "duration": 46,
    "start_time": "2022-02-01T11:54:19.026Z"
   },
   {
    "duration": 38,
    "start_time": "2022-02-01T11:54:19.074Z"
   },
   {
    "duration": 13,
    "start_time": "2022-02-01T11:54:19.113Z"
   },
   {
    "duration": 12,
    "start_time": "2022-02-01T11:54:19.127Z"
   },
   {
    "duration": 14,
    "start_time": "2022-02-01T11:54:22.280Z"
   },
   {
    "duration": 15,
    "start_time": "2022-02-01T11:54:30.789Z"
   },
   {
    "duration": 13,
    "start_time": "2022-02-01T11:54:56.988Z"
   },
   {
    "duration": 317,
    "start_time": "2022-02-01T11:55:54.328Z"
   },
   {
    "duration": 13,
    "start_time": "2022-02-01T11:56:04.679Z"
   },
   {
    "duration": 3,
    "start_time": "2022-02-01T11:56:14.932Z"
   },
   {
    "duration": 395,
    "start_time": "2022-02-01T11:56:14.936Z"
   },
   {
    "duration": 37,
    "start_time": "2022-02-01T11:56:15.333Z"
   },
   {
    "duration": 37,
    "start_time": "2022-02-01T11:56:15.371Z"
   },
   {
    "duration": 16,
    "start_time": "2022-02-01T11:56:15.410Z"
   },
   {
    "duration": 105,
    "start_time": "2022-02-01T11:56:15.427Z"
   },
   {
    "duration": 14,
    "start_time": "2022-02-01T11:56:15.534Z"
   },
   {
    "duration": 66,
    "start_time": "2022-02-01T11:56:15.550Z"
   },
   {
    "duration": 37,
    "start_time": "2022-02-01T11:56:15.618Z"
   },
   {
    "duration": 47,
    "start_time": "2022-02-01T11:56:15.656Z"
   },
   {
    "duration": 11,
    "start_time": "2022-02-01T11:56:15.705Z"
   },
   {
    "duration": 11,
    "start_time": "2022-02-01T11:56:15.717Z"
   },
   {
    "duration": 14,
    "start_time": "2022-02-01T11:56:17.279Z"
   },
   {
    "duration": 13,
    "start_time": "2022-02-01T11:56:42.003Z"
   },
   {
    "duration": 2,
    "start_time": "2022-02-01T11:56:46.503Z"
   },
   {
    "duration": 392,
    "start_time": "2022-02-01T11:56:46.507Z"
   },
   {
    "duration": 39,
    "start_time": "2022-02-01T11:56:46.900Z"
   },
   {
    "duration": 38,
    "start_time": "2022-02-01T11:56:46.940Z"
   },
   {
    "duration": 13,
    "start_time": "2022-02-01T11:56:46.980Z"
   },
   {
    "duration": 91,
    "start_time": "2022-02-01T11:56:46.994Z"
   },
   {
    "duration": 16,
    "start_time": "2022-02-01T11:56:47.087Z"
   },
   {
    "duration": 68,
    "start_time": "2022-02-01T11:56:47.105Z"
   },
   {
    "duration": 36,
    "start_time": "2022-02-01T11:56:47.174Z"
   },
   {
    "duration": 34,
    "start_time": "2022-02-01T11:56:47.212Z"
   },
   {
    "duration": 27,
    "start_time": "2022-02-01T11:56:47.248Z"
   },
   {
    "duration": 11,
    "start_time": "2022-02-01T11:56:47.277Z"
   },
   {
    "duration": 14,
    "start_time": "2022-02-01T11:56:49.389Z"
   },
   {
    "duration": 3,
    "start_time": "2022-02-01T11:57:38.753Z"
   },
   {
    "duration": 7,
    "start_time": "2022-02-01T12:48:45.991Z"
   },
   {
    "duration": 2,
    "start_time": "2022-02-01T12:51:32.150Z"
   },
   {
    "duration": 404,
    "start_time": "2022-02-01T12:51:32.154Z"
   },
   {
    "duration": 38,
    "start_time": "2022-02-01T12:51:32.560Z"
   },
   {
    "duration": 42,
    "start_time": "2022-02-01T12:51:32.600Z"
   },
   {
    "duration": 16,
    "start_time": "2022-02-01T12:51:32.671Z"
   },
   {
    "duration": 100,
    "start_time": "2022-02-01T12:51:32.689Z"
   },
   {
    "duration": 14,
    "start_time": "2022-02-01T12:51:32.791Z"
   },
   {
    "duration": 73,
    "start_time": "2022-02-01T12:51:32.807Z"
   },
   {
    "duration": 38,
    "start_time": "2022-02-01T12:51:32.882Z"
   },
   {
    "duration": 50,
    "start_time": "2022-02-01T12:51:32.922Z"
   },
   {
    "duration": 14,
    "start_time": "2022-02-01T12:51:32.974Z"
   },
   {
    "duration": 11,
    "start_time": "2022-02-01T12:51:32.989Z"
   },
   {
    "duration": 105,
    "start_time": "2022-02-01T13:06:44.580Z"
   },
   {
    "duration": 8,
    "start_time": "2022-02-01T13:07:10.552Z"
   },
   {
    "duration": 7,
    "start_time": "2022-02-01T13:07:31.281Z"
   },
   {
    "duration": 7,
    "start_time": "2022-02-01T13:07:43.584Z"
   },
   {
    "duration": 7,
    "start_time": "2022-02-01T13:24:10.546Z"
   },
   {
    "duration": 4285,
    "start_time": "2022-02-01T13:24:35.887Z"
   },
   {
    "duration": 896,
    "start_time": "2022-02-01T13:25:58.899Z"
   },
   {
    "duration": 102,
    "start_time": "2022-02-01T13:27:51.181Z"
   },
   {
    "duration": 115,
    "start_time": "2022-02-01T13:27:59.678Z"
   },
   {
    "duration": 6,
    "start_time": "2022-02-01T13:28:16.217Z"
   },
   {
    "duration": 680,
    "start_time": "2022-02-01T13:28:22.315Z"
   },
   {
    "duration": 4235,
    "start_time": "2022-02-01T13:28:50.936Z"
   },
   {
    "duration": 297,
    "start_time": "2022-02-01T13:30:43.351Z"
   },
   {
    "duration": 4,
    "start_time": "2022-02-01T13:30:46.443Z"
   },
   {
    "duration": 4,
    "start_time": "2022-02-01T13:30:53.882Z"
   },
   {
    "duration": 4,
    "start_time": "2022-02-01T13:31:00.603Z"
   },
   {
    "duration": 4,
    "start_time": "2022-02-01T13:31:09.926Z"
   },
   {
    "duration": 4,
    "start_time": "2022-02-01T13:31:19.126Z"
   },
   {
    "duration": 3,
    "start_time": "2022-02-01T13:31:38.925Z"
   },
   {
    "duration": 403,
    "start_time": "2022-02-01T13:31:38.930Z"
   },
   {
    "duration": 35,
    "start_time": "2022-02-01T13:31:39.335Z"
   },
   {
    "duration": 42,
    "start_time": "2022-02-01T13:31:39.371Z"
   },
   {
    "duration": 15,
    "start_time": "2022-02-01T13:31:39.415Z"
   },
   {
    "duration": 105,
    "start_time": "2022-02-01T13:31:39.432Z"
   },
   {
    "duration": 37,
    "start_time": "2022-02-01T13:31:39.540Z"
   },
   {
    "duration": 93,
    "start_time": "2022-02-01T13:31:39.580Z"
   },
   {
    "duration": 54,
    "start_time": "2022-02-01T13:31:39.675Z"
   },
   {
    "duration": 55,
    "start_time": "2022-02-01T13:31:39.731Z"
   },
   {
    "duration": 12,
    "start_time": "2022-02-01T13:31:39.788Z"
   },
   {
    "duration": 6,
    "start_time": "2022-02-01T13:31:44.924Z"
   },
   {
    "duration": 4274,
    "start_time": "2022-02-01T13:32:10.457Z"
   },
   {
    "duration": 5099,
    "start_time": "2022-02-01T13:32:17.290Z"
   },
   {
    "duration": 4613,
    "start_time": "2022-02-01T13:33:04.667Z"
   },
   {
    "duration": 4899,
    "start_time": "2022-02-01T13:33:13.920Z"
   },
   {
    "duration": 4283,
    "start_time": "2022-02-01T13:33:26.681Z"
   },
   {
    "duration": 5,
    "start_time": "2022-02-01T13:39:33.584Z"
   },
   {
    "duration": 6,
    "start_time": "2022-02-01T13:40:17.121Z"
   },
   {
    "duration": 1998,
    "start_time": "2022-02-01T13:40:40.948Z"
   },
   {
    "duration": 831,
    "start_time": "2022-02-01T13:40:47.662Z"
   },
   {
    "duration": 669,
    "start_time": "2022-02-01T13:40:55.085Z"
   },
   {
    "duration": 307,
    "start_time": "2022-02-01T13:41:19.160Z"
   },
   {
    "duration": 3,
    "start_time": "2022-02-01T13:41:46.580Z"
   },
   {
    "duration": 4,
    "start_time": "2022-02-01T13:41:52.379Z"
   },
   {
    "duration": 5,
    "start_time": "2022-02-01T13:41:56.121Z"
   },
   {
    "duration": 4,
    "start_time": "2022-02-01T13:42:04.225Z"
   },
   {
    "duration": 4,
    "start_time": "2022-02-01T13:44:56.007Z"
   },
   {
    "duration": 4,
    "start_time": "2022-02-01T13:45:05.479Z"
   },
   {
    "duration": 4,
    "start_time": "2022-02-01T13:45:09.954Z"
   },
   {
    "duration": 4500,
    "start_time": "2022-02-01T13:45:49.750Z"
   },
   {
    "duration": 637,
    "start_time": "2022-02-01T13:47:58.720Z"
   },
   {
    "duration": 4477,
    "start_time": "2022-02-01T13:48:05.648Z"
   },
   {
    "duration": 4254,
    "start_time": "2022-02-01T13:48:20.465Z"
   },
   {
    "duration": 11,
    "start_time": "2022-02-01T13:49:32.319Z"
   },
   {
    "duration": 4703,
    "start_time": "2022-02-01T13:49:33.735Z"
   },
   {
    "duration": 8013,
    "start_time": "2022-02-01T13:54:20.019Z"
   },
   {
    "duration": 4,
    "start_time": "2022-02-01T13:54:35.084Z"
   },
   {
    "duration": 4,
    "start_time": "2022-02-01T13:54:48.049Z"
   },
   {
    "duration": 6,
    "start_time": "2022-02-01T13:55:22.034Z"
   },
   {
    "duration": 11,
    "start_time": "2022-02-01T13:55:48.286Z"
   },
   {
    "duration": 1305,
    "start_time": "2022-02-02T06:07:23.281Z"
   },
   {
    "duration": 4,
    "start_time": "2022-02-02T06:08:42.324Z"
   },
   {
    "duration": 575,
    "start_time": "2022-02-02T06:08:47.398Z"
   },
   {
    "duration": 49,
    "start_time": "2022-02-02T06:08:52.138Z"
   },
   {
    "duration": 71,
    "start_time": "2022-02-02T06:09:16.355Z"
   },
   {
    "duration": 24,
    "start_time": "2022-02-02T06:09:17.456Z"
   },
   {
    "duration": 131,
    "start_time": "2022-02-02T06:09:18.234Z"
   },
   {
    "duration": 26,
    "start_time": "2022-02-02T06:09:21.887Z"
   },
   {
    "duration": 107,
    "start_time": "2022-02-02T06:09:28.078Z"
   },
   {
    "duration": 61,
    "start_time": "2022-02-02T06:09:28.880Z"
   },
   {
    "duration": 62,
    "start_time": "2022-02-02T06:09:29.607Z"
   },
   {
    "duration": 20,
    "start_time": "2022-02-02T06:09:30.937Z"
   },
   {
    "duration": 20,
    "start_time": "2022-02-02T06:09:31.640Z"
   },
   {
    "duration": 11,
    "start_time": "2022-02-02T06:09:34.624Z"
   },
   {
    "duration": 21,
    "start_time": "2022-02-02T06:09:44.461Z"
   },
   {
    "duration": 49260,
    "start_time": "2022-02-02T06:09:49.158Z"
   },
   {
    "duration": 432,
    "start_time": "2022-02-02T06:11:07.456Z"
   },
   {
    "duration": 506,
    "start_time": "2022-02-02T06:11:13.132Z"
   },
   {
    "duration": 398,
    "start_time": "2022-02-02T06:11:14.715Z"
   },
   {
    "duration": 403,
    "start_time": "2022-02-02T06:11:57.732Z"
   },
   {
    "duration": 467,
    "start_time": "2022-02-02T06:12:07.201Z"
   },
   {
    "duration": 451,
    "start_time": "2022-02-02T06:12:20.455Z"
   },
   {
    "duration": 430,
    "start_time": "2022-02-02T06:12:25.767Z"
   },
   {
    "duration": 425,
    "start_time": "2022-02-02T06:12:32.887Z"
   },
   {
    "duration": 409,
    "start_time": "2022-02-02T10:21:39.475Z"
   },
   {
    "duration": 1336,
    "start_time": "2022-02-02T10:21:43.604Z"
   },
   {
    "duration": 670,
    "start_time": "2022-02-02T10:21:45.960Z"
   },
   {
    "duration": 51,
    "start_time": "2022-02-02T10:21:47.171Z"
   },
   {
    "duration": 75,
    "start_time": "2022-02-02T10:21:48.204Z"
   },
   {
    "duration": 23,
    "start_time": "2022-02-02T10:21:48.496Z"
   },
   {
    "duration": 129,
    "start_time": "2022-02-02T10:21:48.698Z"
   },
   {
    "duration": 25,
    "start_time": "2022-02-02T10:21:49.930Z"
   },
   {
    "duration": 111,
    "start_time": "2022-02-02T10:21:51.711Z"
   },
   {
    "duration": 62,
    "start_time": "2022-02-02T10:21:52.193Z"
   },
   {
    "duration": 74,
    "start_time": "2022-02-02T10:21:52.871Z"
   },
   {
    "duration": 25,
    "start_time": "2022-02-02T10:21:53.634Z"
   },
   {
    "duration": 24,
    "start_time": "2022-02-02T10:21:54.111Z"
   },
   {
    "duration": 11,
    "start_time": "2022-02-02T10:21:55.491Z"
   },
   {
    "duration": 48079,
    "start_time": "2022-02-02T10:21:56.650Z"
   },
   {
    "duration": 54,
    "start_time": "2022-02-02T10:25:32.267Z"
   },
   {
    "duration": 58,
    "start_time": "2022-02-02T10:26:20.423Z"
   },
   {
    "duration": 70,
    "start_time": "2022-02-02T10:26:25.816Z"
   },
   {
    "duration": 474,
    "start_time": "2022-02-02T10:26:36.823Z"
   },
   {
    "duration": 392,
    "start_time": "2022-02-02T10:26:44.274Z"
   },
   {
    "duration": 540,
    "start_time": "2022-02-02T10:26:56.654Z"
   },
   {
    "duration": 427,
    "start_time": "2022-02-02T10:26:59.442Z"
   },
   {
    "duration": 430,
    "start_time": "2022-02-02T10:27:01.250Z"
   },
   {
    "duration": 71,
    "start_time": "2022-02-02T10:28:15.309Z"
   },
   {
    "duration": 15,
    "start_time": "2022-02-02T10:58:54.061Z"
   },
   {
    "duration": 450,
    "start_time": "2022-02-02T11:08:56.645Z"
   },
   {
    "duration": 730,
    "start_time": "2022-02-02T11:09:24.007Z"
   },
   {
    "duration": 712,
    "start_time": "2022-02-02T11:09:33.084Z"
   },
   {
    "duration": 423,
    "start_time": "2022-02-02T11:09:46.417Z"
   },
   {
    "duration": 454,
    "start_time": "2022-02-02T11:10:04.956Z"
   },
   {
    "duration": 437,
    "start_time": "2022-02-02T11:10:13.280Z"
   },
   {
    "duration": 546,
    "start_time": "2022-02-02T11:10:25.696Z"
   },
   {
    "duration": 400,
    "start_time": "2022-02-02T11:10:33.376Z"
   },
   {
    "duration": 390,
    "start_time": "2022-02-02T12:23:50.628Z"
   },
   {
    "duration": 437,
    "start_time": "2022-02-02T12:23:53.763Z"
   },
   {
    "duration": 404,
    "start_time": "2022-02-02T12:27:00.336Z"
   },
   {
    "duration": 71,
    "start_time": "2022-02-02T12:29:29.420Z"
   },
   {
    "duration": 463,
    "start_time": "2022-02-02T12:29:32.708Z"
   },
   {
    "duration": 22,
    "start_time": "2022-02-02T12:48:04.183Z"
   },
   {
    "duration": 22,
    "start_time": "2022-02-02T12:48:15.237Z"
   },
   {
    "duration": 7,
    "start_time": "2022-02-02T13:14:45.720Z"
   },
   {
    "duration": 6,
    "start_time": "2022-02-02T13:14:57.188Z"
   },
   {
    "duration": 24,
    "start_time": "2022-02-02T13:15:04.859Z"
   },
   {
    "duration": 25,
    "start_time": "2022-02-02T13:16:05.237Z"
   },
   {
    "duration": 998,
    "start_time": "2022-02-02T16:53:47.110Z"
   },
   {
    "duration": 413,
    "start_time": "2022-02-02T16:53:48.109Z"
   },
   {
    "duration": 33,
    "start_time": "2022-02-02T16:53:48.740Z"
   },
   {
    "duration": 54,
    "start_time": "2022-02-02T16:53:49.199Z"
   },
   {
    "duration": 16,
    "start_time": "2022-02-02T16:53:49.458Z"
   },
   {
    "duration": 79,
    "start_time": "2022-02-02T16:53:49.648Z"
   },
   {
    "duration": 18,
    "start_time": "2022-02-02T16:53:50.912Z"
   },
   {
    "duration": 70,
    "start_time": "2022-02-02T16:53:51.584Z"
   },
   {
    "duration": 41,
    "start_time": "2022-02-02T16:53:51.760Z"
   },
   {
    "duration": 41,
    "start_time": "2022-02-02T16:53:51.974Z"
   },
   {
    "duration": 13,
    "start_time": "2022-02-02T16:53:52.369Z"
   },
   {
    "duration": 14,
    "start_time": "2022-02-02T16:53:52.582Z"
   },
   {
    "duration": 7,
    "start_time": "2022-02-02T16:53:53.025Z"
   },
   {
    "duration": 27857,
    "start_time": "2022-02-02T16:53:54.395Z"
   },
   {
    "duration": 35,
    "start_time": "2022-02-02T16:55:59.089Z"
   },
   {
    "duration": 247,
    "start_time": "2022-02-02T16:55:59.396Z"
   },
   {
    "duration": 227,
    "start_time": "2022-02-02T16:55:59.724Z"
   },
   {
    "duration": 233,
    "start_time": "2022-02-02T16:56:00.066Z"
   },
   {
    "duration": 321,
    "start_time": "2022-02-02T16:56:00.768Z"
   },
   {
    "duration": 6,
    "start_time": "2022-02-02T16:56:01.806Z"
   },
   {
    "duration": 15,
    "start_time": "2022-02-02T16:56:51.450Z"
   },
   {
    "duration": 8,
    "start_time": "2022-02-02T16:57:12.214Z"
   },
   {
    "duration": 8,
    "start_time": "2022-02-02T16:57:17.570Z"
   },
   {
    "duration": 8,
    "start_time": "2022-02-02T17:00:11.567Z"
   },
   {
    "duration": 7,
    "start_time": "2022-02-02T17:00:30.726Z"
   },
   {
    "duration": 7,
    "start_time": "2022-02-02T17:00:40.502Z"
   },
   {
    "duration": 7,
    "start_time": "2022-02-02T17:00:48.690Z"
   },
   {
    "duration": 4,
    "start_time": "2022-02-02T17:01:38.219Z"
   },
   {
    "duration": 18,
    "start_time": "2022-02-02T17:01:46.664Z"
   },
   {
    "duration": 6,
    "start_time": "2022-02-02T17:01:58.301Z"
   },
   {
    "duration": 5,
    "start_time": "2022-02-02T17:02:20.403Z"
   },
   {
    "duration": 12,
    "start_time": "2022-02-02T17:02:26.462Z"
   },
   {
    "duration": 36,
    "start_time": "2022-02-02T17:02:41.992Z"
   },
   {
    "duration": 251,
    "start_time": "2022-02-02T17:02:45.920Z"
   },
   {
    "duration": 220,
    "start_time": "2022-02-02T17:02:46.327Z"
   },
   {
    "duration": 222,
    "start_time": "2022-02-02T17:02:47.603Z"
   },
   {
    "duration": 219,
    "start_time": "2022-02-02T17:02:56.043Z"
   },
   {
    "duration": 223,
    "start_time": "2022-02-02T17:03:05.360Z"
   },
   {
    "duration": 241,
    "start_time": "2022-02-02T17:03:15.853Z"
   },
   {
    "duration": 218,
    "start_time": "2022-02-02T17:03:20.099Z"
   },
   {
    "duration": 5,
    "start_time": "2022-02-02T17:03:25.098Z"
   },
   {
    "duration": 1082,
    "start_time": "2022-02-03T08:08:03.052Z"
   },
   {
    "duration": 489,
    "start_time": "2022-02-03T08:08:04.136Z"
   },
   {
    "duration": 39,
    "start_time": "2022-02-03T08:08:04.627Z"
   },
   {
    "duration": 51,
    "start_time": "2022-02-03T08:08:04.668Z"
   },
   {
    "duration": 30,
    "start_time": "2022-02-03T08:08:04.720Z"
   },
   {
    "duration": 113,
    "start_time": "2022-02-03T08:08:04.752Z"
   },
   {
    "duration": 37,
    "start_time": "2022-02-03T08:08:04.867Z"
   },
   {
    "duration": 92,
    "start_time": "2022-02-03T08:08:04.907Z"
   },
   {
    "duration": 51,
    "start_time": "2022-02-03T08:08:05.001Z"
   },
   {
    "duration": 64,
    "start_time": "2022-02-03T08:08:05.054Z"
   },
   {
    "duration": 13,
    "start_time": "2022-02-03T08:08:05.119Z"
   },
   {
    "duration": 18,
    "start_time": "2022-02-03T08:08:05.134Z"
   },
   {
    "duration": 16,
    "start_time": "2022-02-03T08:08:05.153Z"
   },
   {
    "duration": 30004,
    "start_time": "2022-02-03T08:08:05.171Z"
   },
   {
    "duration": 6,
    "start_time": "2022-02-03T08:08:35.176Z"
   },
   {
    "duration": 48,
    "start_time": "2022-02-03T08:08:35.183Z"
   },
   {
    "duration": 327,
    "start_time": "2022-02-03T08:08:35.232Z"
   },
   {
    "duration": 292,
    "start_time": "2022-02-03T08:08:35.561Z"
   },
   {
    "duration": 299,
    "start_time": "2022-02-03T08:08:35.855Z"
   },
   {
    "duration": 282,
    "start_time": "2022-02-03T08:08:36.156Z"
   },
   {
    "duration": 3,
    "start_time": "2022-02-03T08:15:10.566Z"
   },
   {
    "duration": 3,
    "start_time": "2022-02-03T08:17:06.880Z"
   },
   {
    "duration": 4,
    "start_time": "2022-02-03T08:17:09.604Z"
   },
   {
    "duration": 5,
    "start_time": "2022-02-03T08:17:11.362Z"
   },
   {
    "duration": 4,
    "start_time": "2022-02-03T08:17:13.949Z"
   },
   {
    "duration": 4,
    "start_time": "2022-02-03T08:17:15.716Z"
   },
   {
    "duration": 348,
    "start_time": "2022-02-03T08:17:25.335Z"
   },
   {
    "duration": 4,
    "start_time": "2022-02-03T08:20:33.937Z"
   },
   {
    "duration": 319,
    "start_time": "2022-02-03T08:20:56.469Z"
   },
   {
    "duration": 7,
    "start_time": "2022-02-03T08:21:17.373Z"
   },
   {
    "duration": 5,
    "start_time": "2022-02-03T08:21:27.254Z"
   },
   {
    "duration": 6,
    "start_time": "2022-02-03T08:21:30.327Z"
   },
   {
    "duration": 6,
    "start_time": "2022-02-03T08:21:38.783Z"
   },
   {
    "duration": 7,
    "start_time": "2022-02-03T08:21:39.562Z"
   },
   {
    "duration": 7,
    "start_time": "2022-02-03T08:21:43.995Z"
   },
   {
    "duration": 6,
    "start_time": "2022-02-03T08:21:48.539Z"
   },
   {
    "duration": 6,
    "start_time": "2022-02-03T08:21:50.560Z"
   },
   {
    "duration": 6,
    "start_time": "2022-02-03T08:51:24.502Z"
   },
   {
    "duration": 266,
    "start_time": "2022-02-03T08:51:51.642Z"
   },
   {
    "duration": 6,
    "start_time": "2022-02-03T08:52:01.341Z"
   },
   {
    "duration": 7,
    "start_time": "2022-02-03T08:52:15.497Z"
   },
   {
    "duration": 7,
    "start_time": "2022-02-03T08:52:19.887Z"
   },
   {
    "duration": 6,
    "start_time": "2022-02-03T08:52:22.111Z"
   },
   {
    "duration": 6,
    "start_time": "2022-02-03T08:52:24.363Z"
   },
   {
    "duration": 6,
    "start_time": "2022-02-03T08:52:26.819Z"
   },
   {
    "duration": 4,
    "start_time": "2022-02-03T08:52:48.437Z"
   },
   {
    "duration": 266,
    "start_time": "2022-02-03T08:53:16.084Z"
   },
   {
    "duration": 265,
    "start_time": "2022-02-03T08:53:21.489Z"
   },
   {
    "duration": 213,
    "start_time": "2022-02-03T08:53:45.697Z"
   },
   {
    "duration": 6,
    "start_time": "2022-02-03T08:54:22.504Z"
   },
   {
    "duration": 222,
    "start_time": "2022-02-03T08:54:50.766Z"
   },
   {
    "duration": 8,
    "start_time": "2022-02-03T08:55:15.133Z"
   },
   {
    "duration": 7,
    "start_time": "2022-02-03T08:55:18.401Z"
   },
   {
    "duration": 212,
    "start_time": "2022-02-03T08:55:20.527Z"
   },
   {
    "duration": 275,
    "start_time": "2022-02-03T08:55:31.960Z"
   },
   {
    "duration": 311,
    "start_time": "2022-02-03T08:55:44.781Z"
   },
   {
    "duration": 5,
    "start_time": "2022-02-03T08:55:54.660Z"
   },
   {
    "duration": 6,
    "start_time": "2022-02-03T08:55:59.075Z"
   },
   {
    "duration": 232,
    "start_time": "2022-02-03T08:56:01.676Z"
   },
   {
    "duration": 200,
    "start_time": "2022-02-03T08:56:13.433Z"
   },
   {
    "duration": 7,
    "start_time": "2022-02-03T08:56:28.613Z"
   },
   {
    "duration": 7,
    "start_time": "2022-02-03T08:56:31.757Z"
   },
   {
    "duration": 7,
    "start_time": "2022-02-03T08:56:55.162Z"
   },
   {
    "duration": 290,
    "start_time": "2022-02-03T08:57:29.817Z"
   },
   {
    "duration": 7,
    "start_time": "2022-02-03T08:57:33.213Z"
   },
   {
    "duration": 6,
    "start_time": "2022-02-03T08:57:48.947Z"
   },
   {
    "duration": 272,
    "start_time": "2022-02-03T08:58:02.839Z"
   },
   {
    "duration": 277,
    "start_time": "2022-02-03T09:01:40.410Z"
   },
   {
    "duration": 350,
    "start_time": "2022-02-03T09:01:44.853Z"
   },
   {
    "duration": 256,
    "start_time": "2022-02-03T09:01:50.981Z"
   },
   {
    "duration": 289,
    "start_time": "2022-02-03T09:02:04.255Z"
   },
   {
    "duration": 11,
    "start_time": "2022-02-03T09:02:07.899Z"
   },
   {
    "duration": -22,
    "start_time": "2022-02-03T09:02:52.098Z"
   },
   {
    "duration": 4,
    "start_time": "2022-02-03T09:03:01.795Z"
   },
   {
    "duration": 548,
    "start_time": "2022-02-03T09:03:01.806Z"
   },
   {
    "duration": 41,
    "start_time": "2022-02-03T09:03:02.356Z"
   },
   {
    "duration": 55,
    "start_time": "2022-02-03T09:03:02.402Z"
   },
   {
    "duration": 54,
    "start_time": "2022-02-03T09:03:02.458Z"
   },
   {
    "duration": 124,
    "start_time": "2022-02-03T09:03:02.515Z"
   },
   {
    "duration": 20,
    "start_time": "2022-02-03T09:03:02.640Z"
   },
   {
    "duration": 100,
    "start_time": "2022-02-03T09:03:02.662Z"
   },
   {
    "duration": 62,
    "start_time": "2022-02-03T09:03:02.764Z"
   },
   {
    "duration": 45,
    "start_time": "2022-02-03T09:03:02.829Z"
   },
   {
    "duration": 37,
    "start_time": "2022-02-03T09:03:02.877Z"
   },
   {
    "duration": 22,
    "start_time": "2022-02-03T09:03:02.916Z"
   },
   {
    "duration": 22,
    "start_time": "2022-02-03T09:03:02.940Z"
   },
   {
    "duration": 32809,
    "start_time": "2022-02-03T09:03:02.964Z"
   },
   {
    "duration": 7,
    "start_time": "2022-02-03T09:03:35.775Z"
   },
   {
    "duration": 67,
    "start_time": "2022-02-03T09:03:35.784Z"
   },
   {
    "duration": 365,
    "start_time": "2022-02-03T09:03:35.853Z"
   },
   {
    "duration": 307,
    "start_time": "2022-02-03T09:03:36.220Z"
   },
   {
    "duration": 307,
    "start_time": "2022-02-03T09:03:36.528Z"
   },
   {
    "duration": 307,
    "start_time": "2022-02-03T09:03:36.837Z"
   },
   {
    "duration": 7,
    "start_time": "2022-02-03T09:04:39.824Z"
   },
   {
    "duration": 7,
    "start_time": "2022-02-03T09:04:42.887Z"
   },
   {
    "duration": 6,
    "start_time": "2022-02-03T09:04:48.992Z"
   },
   {
    "duration": 229,
    "start_time": "2022-02-03T09:04:52.492Z"
   },
   {
    "duration": 8,
    "start_time": "2022-02-03T09:04:55.685Z"
   },
   {
    "duration": 6828,
    "start_time": "2022-02-03T09:05:19.579Z"
   },
   {
    "duration": 19,
    "start_time": "2022-02-03T09:05:36.061Z"
   },
   {
    "duration": 15,
    "start_time": "2022-02-03T09:05:50.760Z"
   },
   {
    "duration": 6,
    "start_time": "2022-02-03T09:05:55.903Z"
   },
   {
    "duration": 5,
    "start_time": "2022-02-03T09:10:04.868Z"
   },
   {
    "duration": 5,
    "start_time": "2022-02-03T09:10:10.188Z"
   },
   {
    "duration": 287,
    "start_time": "2022-02-03T09:10:31.754Z"
   },
   {
    "duration": 15,
    "start_time": "2022-02-03T09:10:38.146Z"
   },
   {
    "duration": 9,
    "start_time": "2022-02-03T09:11:31.320Z"
   },
   {
    "duration": 7,
    "start_time": "2022-02-03T09:12:37.328Z"
   },
   {
    "duration": 4,
    "start_time": "2022-02-03T09:12:54.284Z"
   },
   {
    "duration": 526,
    "start_time": "2022-02-03T09:12:55.036Z"
   },
   {
    "duration": 61,
    "start_time": "2022-02-03T09:12:55.776Z"
   },
   {
    "duration": 53,
    "start_time": "2022-02-03T09:12:56.014Z"
   },
   {
    "duration": 25,
    "start_time": "2022-02-03T09:12:56.205Z"
   },
   {
    "duration": 115,
    "start_time": "2022-02-03T09:12:56.414Z"
   },
   {
    "duration": 19,
    "start_time": "2022-02-03T09:12:58.669Z"
   },
   {
    "duration": 81,
    "start_time": "2022-02-03T09:12:59.763Z"
   },
   {
    "duration": 67,
    "start_time": "2022-02-03T09:13:00.038Z"
   },
   {
    "duration": 54,
    "start_time": "2022-02-03T09:13:00.382Z"
   },
   {
    "duration": 17,
    "start_time": "2022-02-03T09:13:07.435Z"
   },
   {
    "duration": 15,
    "start_time": "2022-02-03T09:13:14.557Z"
   },
   {
    "duration": 7,
    "start_time": "2022-02-03T09:13:23.386Z"
   },
   {
    "duration": 20,
    "start_time": "2022-02-03T09:13:49.418Z"
   },
   {
    "duration": 10,
    "start_time": "2022-02-03T09:13:53.794Z"
   },
   {
    "duration": 24,
    "start_time": "2022-02-03T09:14:10.805Z"
   },
   {
    "duration": 8,
    "start_time": "2022-02-03T09:14:18.904Z"
   },
   {
    "duration": 8,
    "start_time": "2022-02-03T09:14:25.214Z"
   },
   {
    "duration": 7,
    "start_time": "2022-02-03T09:14:31.317Z"
   },
   {
    "duration": 16981,
    "start_time": "2022-02-03T09:14:32.468Z"
   },
   {
    "duration": 4,
    "start_time": "2022-02-03T09:14:52.104Z"
   },
   {
    "duration": 530,
    "start_time": "2022-02-03T09:14:52.112Z"
   },
   {
    "duration": 49,
    "start_time": "2022-02-03T09:14:52.644Z"
   },
   {
    "duration": 61,
    "start_time": "2022-02-03T09:14:52.695Z"
   },
   {
    "duration": 48,
    "start_time": "2022-02-03T09:14:52.758Z"
   },
   {
    "duration": 128,
    "start_time": "2022-02-03T09:14:52.809Z"
   },
   {
    "duration": 20,
    "start_time": "2022-02-03T09:14:52.938Z"
   },
   {
    "duration": 96,
    "start_time": "2022-02-03T09:14:52.961Z"
   },
   {
    "duration": 66,
    "start_time": "2022-02-03T09:14:53.060Z"
   },
   {
    "duration": 43,
    "start_time": "2022-02-03T09:14:53.128Z"
   },
   {
    "duration": 32,
    "start_time": "2022-02-03T09:14:53.172Z"
   },
   {
    "duration": 19,
    "start_time": "2022-02-03T09:14:53.206Z"
   },
   {
    "duration": 8,
    "start_time": "2022-02-03T09:14:53.227Z"
   },
   {
    "duration": 4,
    "start_time": "2022-02-03T09:14:53.237Z"
   },
   {
    "duration": 9,
    "start_time": "2022-02-03T09:14:53.243Z"
   },
   {
    "duration": 34375,
    "start_time": "2022-02-03T09:14:56.173Z"
   },
   {
    "duration": 8,
    "start_time": "2022-02-03T09:15:40.172Z"
   },
   {
    "duration": 51,
    "start_time": "2022-02-03T09:15:43.066Z"
   },
   {
    "duration": 346,
    "start_time": "2022-02-03T09:15:51.466Z"
   },
   {
    "duration": 310,
    "start_time": "2022-02-03T09:15:54.216Z"
   },
   {
    "duration": 312,
    "start_time": "2022-02-03T09:15:56.626Z"
   },
   {
    "duration": 478,
    "start_time": "2022-02-03T09:16:01.688Z"
   },
   {
    "duration": 7,
    "start_time": "2022-02-03T09:16:12.674Z"
   },
   {
    "duration": 6,
    "start_time": "2022-02-03T09:16:17.238Z"
   },
   {
    "duration": 6,
    "start_time": "2022-02-03T09:16:17.815Z"
   },
   {
    "duration": 22,
    "start_time": "2022-02-03T09:16:42.268Z"
   },
   {
    "duration": 8,
    "start_time": "2022-02-03T09:17:19.420Z"
   },
   {
    "duration": 218,
    "start_time": "2022-02-03T09:17:25.227Z"
   },
   {
    "duration": 248,
    "start_time": "2022-02-03T09:17:31.334Z"
   },
   {
    "duration": 277,
    "start_time": "2022-02-03T09:17:39.770Z"
   },
   {
    "duration": 223,
    "start_time": "2022-02-03T09:17:43.585Z"
   },
   {
    "duration": 263,
    "start_time": "2022-02-03T09:17:48.071Z"
   },
   {
    "duration": 227,
    "start_time": "2022-02-03T09:17:51.068Z"
   },
   {
    "duration": 226,
    "start_time": "2022-02-03T09:17:59.528Z"
   },
   {
    "duration": 237,
    "start_time": "2022-02-03T09:18:04.524Z"
   },
   {
    "duration": 8,
    "start_time": "2022-02-03T09:18:17.896Z"
   },
   {
    "duration": 6,
    "start_time": "2022-02-03T09:18:18.324Z"
   },
   {
    "duration": 251,
    "start_time": "2022-02-03T09:18:19.424Z"
   },
   {
    "duration": 236,
    "start_time": "2022-02-03T09:18:26.414Z"
   },
   {
    "duration": 3,
    "start_time": "2022-02-03T09:19:21.752Z"
   },
   {
    "duration": 496,
    "start_time": "2022-02-03T09:19:22.799Z"
   },
   {
    "duration": 50,
    "start_time": "2022-02-03T09:19:24.654Z"
   },
   {
    "duration": 49,
    "start_time": "2022-02-03T09:19:27.328Z"
   },
   {
    "duration": 26,
    "start_time": "2022-02-03T09:19:30.056Z"
   },
   {
    "duration": 109,
    "start_time": "2022-02-03T09:19:30.962Z"
   },
   {
    "duration": 19,
    "start_time": "2022-02-03T09:19:42.925Z"
   },
   {
    "duration": 3,
    "start_time": "2022-02-03T09:20:28.645Z"
   },
   {
    "duration": 500,
    "start_time": "2022-02-03T09:20:29.025Z"
   },
   {
    "duration": 45,
    "start_time": "2022-02-03T09:20:29.527Z"
   },
   {
    "duration": 55,
    "start_time": "2022-02-03T09:20:29.574Z"
   },
   {
    "duration": 16,
    "start_time": "2022-02-03T09:20:29.631Z"
   },
   {
    "duration": 101,
    "start_time": "2022-02-03T09:20:29.813Z"
   },
   {
    "duration": 241,
    "start_time": "2022-02-03T09:21:15.911Z"
   },
   {
    "duration": 254,
    "start_time": "2022-02-03T09:23:48.953Z"
   },
   {
    "duration": 359,
    "start_time": "2022-02-03T09:23:54.157Z"
   },
   {
    "duration": 290,
    "start_time": "2022-02-03T09:24:04.654Z"
   },
   {
    "duration": 3,
    "start_time": "2022-02-03T09:31:10.830Z"
   },
   {
    "duration": 558,
    "start_time": "2022-02-03T09:31:11.423Z"
   },
   {
    "duration": 44,
    "start_time": "2022-02-03T09:31:11.983Z"
   },
   {
    "duration": 49,
    "start_time": "2022-02-03T09:31:13.163Z"
   },
   {
    "duration": 19,
    "start_time": "2022-02-03T09:31:14.391Z"
   },
   {
    "duration": 94,
    "start_time": "2022-02-03T09:31:16.149Z"
   },
   {
    "duration": 19,
    "start_time": "2022-02-03T09:32:10.134Z"
   },
   {
    "duration": 17,
    "start_time": "2022-02-03T09:33:31.375Z"
   },
   {
    "duration": 12,
    "start_time": "2022-02-03T09:34:39.075Z"
   },
   {
    "duration": 19,
    "start_time": "2022-02-03T09:35:15.677Z"
   },
   {
    "duration": 70,
    "start_time": "2022-02-03T09:35:21.936Z"
   },
   {
    "duration": 14,
    "start_time": "2022-02-03T09:36:08.240Z"
   },
   {
    "duration": 7,
    "start_time": "2022-02-03T09:36:17.729Z"
   },
   {
    "duration": 10,
    "start_time": "2022-02-03T09:36:46.431Z"
   },
   {
    "duration": 10,
    "start_time": "2022-02-03T09:36:54.131Z"
   },
   {
    "duration": 287,
    "start_time": "2022-02-03T09:37:01.430Z"
   },
   {
    "duration": 10,
    "start_time": "2022-02-03T09:37:04.511Z"
   },
   {
    "duration": 68,
    "start_time": "2022-02-03T09:39:20.929Z"
   },
   {
    "duration": 49,
    "start_time": "2022-02-03T09:39:44.367Z"
   },
   {
    "duration": 47,
    "start_time": "2022-02-03T09:39:48.359Z"
   },
   {
    "duration": 16,
    "start_time": "2022-02-03T09:39:52.999Z"
   },
   {
    "duration": 15,
    "start_time": "2022-02-03T09:39:53.679Z"
   },
   {
    "duration": 15,
    "start_time": "2022-02-03T09:40:11.167Z"
   },
   {
    "duration": 6,
    "start_time": "2022-02-03T09:40:13.639Z"
   },
   {
    "duration": 4,
    "start_time": "2022-02-03T09:41:10.972Z"
   },
   {
    "duration": 7,
    "start_time": "2022-02-03T09:41:15.393Z"
   },
   {
    "duration": 32083,
    "start_time": "2022-02-03T09:41:20.564Z"
   },
   {
    "duration": 47,
    "start_time": "2022-02-03T09:42:45.671Z"
   },
   {
    "duration": 19,
    "start_time": "2022-02-03T09:43:42.265Z"
   },
   {
    "duration": 20,
    "start_time": "2022-02-03T09:44:16.225Z"
   },
   {
    "duration": 14,
    "start_time": "2022-02-03T09:44:22.033Z"
   },
   {
    "duration": 12,
    "start_time": "2022-02-03T09:45:57.731Z"
   },
   {
    "duration": 213,
    "start_time": "2022-02-03T09:46:07.271Z"
   },
   {
    "duration": 214,
    "start_time": "2022-02-03T09:46:13.707Z"
   },
   {
    "duration": 213,
    "start_time": "2022-02-03T09:46:19.445Z"
   },
   {
    "duration": 43,
    "start_time": "2022-02-03T09:52:03.992Z"
   },
   {
    "duration": 318,
    "start_time": "2022-02-03T09:52:33.533Z"
   },
   {
    "duration": 290,
    "start_time": "2022-02-03T09:52:41.915Z"
   },
   {
    "duration": 279,
    "start_time": "2022-02-03T09:52:43.933Z"
   },
   {
    "duration": 288,
    "start_time": "2022-02-03T09:52:47.887Z"
   },
   {
    "duration": 313,
    "start_time": "2022-02-03T09:53:02.199Z"
   },
   {
    "duration": 301,
    "start_time": "2022-02-03T09:53:07.970Z"
   },
   {
    "duration": 316,
    "start_time": "2022-02-03T09:53:13.795Z"
   },
   {
    "duration": 300,
    "start_time": "2022-02-03T09:53:17.693Z"
   },
   {
    "duration": 5,
    "start_time": "2022-02-03T10:03:27.187Z"
   },
   {
    "duration": 7,
    "start_time": "2022-02-03T10:03:28.719Z"
   },
   {
    "duration": 6,
    "start_time": "2022-02-03T10:03:29.275Z"
   },
   {
    "duration": -10,
    "start_time": "2022-02-03T10:04:06.698Z"
   },
   {
    "duration": 282,
    "start_time": "2022-02-03T10:04:09.672Z"
   },
   {
    "duration": 263,
    "start_time": "2022-02-03T10:04:18.697Z"
   },
   {
    "duration": 5,
    "start_time": "2022-02-03T10:04:25.559Z"
   },
   {
    "duration": 5,
    "start_time": "2022-02-03T10:04:34.861Z"
   },
   {
    "duration": 6,
    "start_time": "2022-02-03T10:07:07.105Z"
   },
   {
    "duration": 6,
    "start_time": "2022-02-03T11:30:28.801Z"
   },
   {
    "duration": 7,
    "start_time": "2022-02-03T11:30:29.703Z"
   },
   {
    "duration": 320,
    "start_time": "2022-02-03T11:31:18.781Z"
   },
   {
    "duration": 6,
    "start_time": "2022-02-03T11:31:40.657Z"
   },
   {
    "duration": 6,
    "start_time": "2022-02-03T11:31:54.174Z"
   },
   {
    "duration": 4,
    "start_time": "2022-02-03T11:34:39.918Z"
   },
   {
    "duration": 4,
    "start_time": "2022-02-03T11:34:45.276Z"
   },
   {
    "duration": 6,
    "start_time": "2022-02-03T11:36:05.350Z"
   },
   {
    "duration": 7,
    "start_time": "2022-02-03T11:36:07.758Z"
   },
   {
    "duration": 5,
    "start_time": "2022-02-03T11:36:55.982Z"
   },
   {
    "duration": 7,
    "start_time": "2022-02-03T11:36:58.642Z"
   },
   {
    "duration": 278,
    "start_time": "2022-02-03T11:37:35.282Z"
   },
   {
    "duration": 7,
    "start_time": "2022-02-03T11:38:00.816Z"
   },
   {
    "duration": 7,
    "start_time": "2022-02-03T11:38:11.926Z"
   },
   {
    "duration": 222,
    "start_time": "2022-02-03T11:39:02.817Z"
   },
   {
    "duration": 218,
    "start_time": "2022-02-03T11:39:13.814Z"
   },
   {
    "duration": 17,
    "start_time": "2022-02-03T11:48:20.414Z"
   },
   {
    "duration": 366,
    "start_time": "2022-02-03T11:48:44.320Z"
   },
   {
    "duration": 231,
    "start_time": "2022-02-03T11:48:53.590Z"
   },
   {
    "duration": 243,
    "start_time": "2022-02-03T11:48:58.481Z"
   },
   {
    "duration": 399,
    "start_time": "2022-02-03T11:49:03.244Z"
   },
   {
    "duration": 216,
    "start_time": "2022-02-03T11:49:10.363Z"
   },
   {
    "duration": 85,
    "start_time": "2022-02-03T11:49:23.119Z"
   },
   {
    "duration": 12,
    "start_time": "2022-02-03T11:49:47.503Z"
   },
   {
    "duration": 263,
    "start_time": "2022-02-03T11:58:36.124Z"
   },
   {
    "duration": 145,
    "start_time": "2022-02-03T11:58:46.845Z"
   },
   {
    "duration": 304,
    "start_time": "2022-02-03T11:59:20.806Z"
   },
   {
    "duration": 6,
    "start_time": "2022-02-03T11:59:28.531Z"
   },
   {
    "duration": 157,
    "start_time": "2022-02-03T11:59:31.242Z"
   },
   {
    "duration": 6,
    "start_time": "2022-02-03T11:59:42.668Z"
   },
   {
    "duration": 152,
    "start_time": "2022-02-03T11:59:44.232Z"
   },
   {
    "duration": 6,
    "start_time": "2022-02-03T11:59:51.125Z"
   },
   {
    "duration": 150,
    "start_time": "2022-02-03T11:59:52.962Z"
   },
   {
    "duration": 219,
    "start_time": "2022-02-03T12:00:06.890Z"
   },
   {
    "duration": 256,
    "start_time": "2022-02-03T12:00:14.128Z"
   },
   {
    "duration": 4,
    "start_time": "2022-02-03T12:00:28.736Z"
   },
   {
    "duration": 151,
    "start_time": "2022-02-03T12:00:50.364Z"
   },
   {
    "duration": 6,
    "start_time": "2022-02-03T12:01:09.522Z"
   },
   {
    "duration": 169,
    "start_time": "2022-02-03T12:01:11.448Z"
   },
   {
    "duration": 214,
    "start_time": "2022-02-03T12:01:36.142Z"
   },
   {
    "duration": 332,
    "start_time": "2022-02-03T12:01:50.769Z"
   },
   {
    "duration": 4,
    "start_time": "2022-02-03T12:01:53.694Z"
   },
   {
    "duration": 15,
    "start_time": "2022-02-03T12:04:58.488Z"
   },
   {
    "duration": 14,
    "start_time": "2022-02-03T12:05:21.097Z"
   },
   {
    "duration": 15,
    "start_time": "2022-02-03T12:05:23.058Z"
   },
   {
    "duration": 12,
    "start_time": "2022-02-03T12:05:46.296Z"
   },
   {
    "duration": 8,
    "start_time": "2022-02-03T12:05:54.335Z"
   },
   {
    "duration": 9,
    "start_time": "2022-02-03T12:06:12.073Z"
   },
   {
    "duration": 56,
    "start_time": "2022-02-03T12:06:58.057Z"
   },
   {
    "duration": 18,
    "start_time": "2022-02-03T12:06:59.033Z"
   },
   {
    "duration": 13,
    "start_time": "2022-02-03T12:07:19.906Z"
   },
   {
    "duration": 14,
    "start_time": "2022-02-03T12:07:20.189Z"
   },
   {
    "duration": 28,
    "start_time": "2022-02-03T12:08:20.249Z"
   },
   {
    "duration": 24,
    "start_time": "2022-02-03T12:08:32.736Z"
   },
   {
    "duration": 14,
    "start_time": "2022-02-03T12:10:23.815Z"
   },
   {
    "duration": 17,
    "start_time": "2022-02-03T12:10:24.273Z"
   },
   {
    "duration": 7,
    "start_time": "2022-02-03T12:10:35.104Z"
   },
   {
    "duration": 8,
    "start_time": "2022-02-03T12:10:46.519Z"
   },
   {
    "duration": 5,
    "start_time": "2022-02-03T12:10:49.756Z"
   },
   {
    "duration": 8,
    "start_time": "2022-02-03T12:10:51.935Z"
   },
   {
    "duration": 32238,
    "start_time": "2022-02-03T12:10:54.146Z"
   },
   {
    "duration": 42,
    "start_time": "2022-02-03T12:11:30.646Z"
   },
   {
    "duration": 326,
    "start_time": "2022-02-03T12:11:35.891Z"
   },
   {
    "duration": 290,
    "start_time": "2022-02-03T12:11:40.178Z"
   },
   {
    "duration": 293,
    "start_time": "2022-02-03T12:11:44.344Z"
   },
   {
    "duration": 437,
    "start_time": "2022-02-03T12:11:47.808Z"
   },
   {
    "duration": 6,
    "start_time": "2022-02-03T12:12:01.032Z"
   },
   {
    "duration": 5,
    "start_time": "2022-02-03T12:12:01.463Z"
   },
   {
    "duration": 3,
    "start_time": "2022-02-03T12:15:34.600Z"
   },
   {
    "duration": 493,
    "start_time": "2022-02-03T12:15:34.606Z"
   },
   {
    "duration": 44,
    "start_time": "2022-02-03T12:15:35.102Z"
   },
   {
    "duration": 67,
    "start_time": "2022-02-03T12:15:35.148Z"
   },
   {
    "duration": 17,
    "start_time": "2022-02-03T12:15:35.217Z"
   },
   {
    "duration": 123,
    "start_time": "2022-02-03T12:15:35.236Z"
   },
   {
    "duration": 41,
    "start_time": "2022-02-03T12:15:35.362Z"
   },
   {
    "duration": 69,
    "start_time": "2022-02-03T12:15:35.406Z"
   },
   {
    "duration": 60,
    "start_time": "2022-02-03T12:15:35.478Z"
   },
   {
    "duration": 43,
    "start_time": "2022-02-03T12:15:35.540Z"
   },
   {
    "duration": 11,
    "start_time": "2022-02-03T12:15:35.599Z"
   },
   {
    "duration": 19,
    "start_time": "2022-02-03T12:15:35.612Z"
   },
   {
    "duration": 15,
    "start_time": "2022-02-03T12:15:35.633Z"
   },
   {
    "duration": 11,
    "start_time": "2022-02-03T12:15:35.650Z"
   },
   {
    "duration": 29,
    "start_time": "2022-02-03T12:15:35.663Z"
   },
   {
    "duration": 27,
    "start_time": "2022-02-03T12:15:35.694Z"
   },
   {
    "duration": 32889,
    "start_time": "2022-02-03T12:15:35.723Z"
   },
   {
    "duration": 40,
    "start_time": "2022-02-03T12:16:08.614Z"
   },
   {
    "duration": 330,
    "start_time": "2022-02-03T12:16:08.657Z"
   },
   {
    "duration": 300,
    "start_time": "2022-02-03T12:16:08.990Z"
   },
   {
    "duration": 302,
    "start_time": "2022-02-03T12:16:09.297Z"
   },
   {
    "duration": 315,
    "start_time": "2022-02-03T12:16:09.601Z"
   },
   {
    "duration": 6,
    "start_time": "2022-02-03T12:16:09.918Z"
   },
   {
    "duration": 14,
    "start_time": "2022-02-03T12:16:09.926Z"
   },
   {
    "duration": 5,
    "start_time": "2022-02-03T12:20:40.368Z"
   },
   {
    "duration": 4,
    "start_time": "2022-02-03T12:20:48.417Z"
   },
   {
    "duration": 5,
    "start_time": "2022-02-03T12:20:54.935Z"
   },
   {
    "duration": 4,
    "start_time": "2022-02-03T12:21:01.514Z"
   },
   {
    "duration": 4,
    "start_time": "2022-02-03T12:21:12.493Z"
   },
   {
    "duration": 4,
    "start_time": "2022-02-03T12:21:17.305Z"
   },
   {
    "duration": 5,
    "start_time": "2022-02-03T12:21:22.158Z"
   },
   {
    "duration": 4,
    "start_time": "2022-02-03T12:23:39.629Z"
   },
   {
    "duration": 3,
    "start_time": "2022-02-03T12:24:10.421Z"
   },
   {
    "duration": 3,
    "start_time": "2022-02-03T12:24:22.469Z"
   },
   {
    "duration": 3,
    "start_time": "2022-02-03T12:24:51.425Z"
   },
   {
    "duration": 6,
    "start_time": "2022-02-03T12:24:57.585Z"
   },
   {
    "duration": 231,
    "start_time": "2022-02-03T12:25:03.599Z"
   },
   {
    "duration": 232,
    "start_time": "2022-02-03T12:25:14.651Z"
   },
   {
    "duration": 3,
    "start_time": "2022-02-03T12:25:25.190Z"
   },
   {
    "duration": 241,
    "start_time": "2022-02-03T12:25:25.679Z"
   },
   {
    "duration": 3,
    "start_time": "2022-02-03T12:26:09.477Z"
   },
   {
    "duration": 241,
    "start_time": "2022-02-03T12:26:10.065Z"
   },
   {
    "duration": 3,
    "start_time": "2022-02-03T12:26:13.949Z"
   },
   {
    "duration": 249,
    "start_time": "2022-02-03T12:26:14.329Z"
   },
   {
    "duration": 4,
    "start_time": "2022-02-03T12:26:19.035Z"
   },
   {
    "duration": 239,
    "start_time": "2022-02-03T12:26:19.554Z"
   },
   {
    "duration": 216,
    "start_time": "2022-02-03T12:26:25.064Z"
   },
   {
    "duration": 5,
    "start_time": "2022-02-03T12:26:31.041Z"
   },
   {
    "duration": 228,
    "start_time": "2022-02-03T12:26:31.309Z"
   },
   {
    "duration": 5,
    "start_time": "2022-02-03T12:26:42.285Z"
   },
   {
    "duration": 3,
    "start_time": "2022-02-03T12:26:47.183Z"
   },
   {
    "duration": 4,
    "start_time": "2022-02-03T12:26:49.335Z"
   },
   {
    "duration": 4,
    "start_time": "2022-02-03T12:27:27.386Z"
   },
   {
    "duration": 242,
    "start_time": "2022-02-03T12:27:27.791Z"
   },
   {
    "duration": 4,
    "start_time": "2022-02-03T12:27:31.467Z"
   },
   {
    "duration": 221,
    "start_time": "2022-02-03T12:27:32.567Z"
   },
   {
    "duration": 3,
    "start_time": "2022-02-03T12:27:36.866Z"
   },
   {
    "duration": 231,
    "start_time": "2022-02-03T12:27:37.970Z"
   },
   {
    "duration": 3,
    "start_time": "2022-02-03T12:27:50.697Z"
   },
   {
    "duration": 209,
    "start_time": "2022-02-03T12:27:50.702Z"
   },
   {
    "duration": 5,
    "start_time": "2022-02-03T12:30:12.113Z"
   },
   {
    "duration": 631,
    "start_time": "2022-02-03T12:30:13.241Z"
   },
   {
    "duration": 4,
    "start_time": "2022-02-03T12:30:57.879Z"
   },
   {
    "duration": 220,
    "start_time": "2022-02-03T12:30:58.945Z"
   },
   {
    "duration": 4,
    "start_time": "2022-02-03T12:31:04.657Z"
   },
   {
    "duration": 212,
    "start_time": "2022-02-03T12:31:04.943Z"
   },
   {
    "duration": 3,
    "start_time": "2022-02-03T12:31:09.287Z"
   },
   {
    "duration": 206,
    "start_time": "2022-02-03T12:31:09.571Z"
   },
   {
    "duration": 391,
    "start_time": "2022-02-03T12:31:19.964Z"
   },
   {
    "duration": 324,
    "start_time": "2022-02-03T12:31:51.491Z"
   },
   {
    "duration": 152,
    "start_time": "2022-02-03T12:32:13.510Z"
   },
   {
    "duration": 157,
    "start_time": "2022-02-03T12:32:22.013Z"
   },
   {
    "duration": 160,
    "start_time": "2022-02-03T12:32:32.307Z"
   },
   {
    "duration": 506,
    "start_time": "2022-02-03T12:32:51.563Z"
   },
   {
    "duration": 161,
    "start_time": "2022-02-03T12:33:08.277Z"
   },
   {
    "duration": 6,
    "start_time": "2022-02-03T12:41:03.214Z"
   },
   {
    "duration": 167,
    "start_time": "2022-02-03T12:41:05.938Z"
   },
   {
    "duration": 161,
    "start_time": "2022-02-03T12:41:26.134Z"
   },
   {
    "duration": 6,
    "start_time": "2022-02-03T12:42:01.923Z"
   },
   {
    "duration": 159,
    "start_time": "2022-02-03T12:42:04.526Z"
   },
   {
    "duration": 6,
    "start_time": "2022-02-03T12:42:26.632Z"
   },
   {
    "duration": 320,
    "start_time": "2022-02-03T12:42:41.901Z"
   },
   {
    "duration": 171,
    "start_time": "2022-02-03T12:42:47.593Z"
   },
   {
    "duration": 6,
    "start_time": "2022-02-03T12:42:49.974Z"
   },
   {
    "duration": 5,
    "start_time": "2022-02-03T12:42:51.954Z"
   },
   {
    "duration": 164,
    "start_time": "2022-02-03T12:43:03.873Z"
   },
   {
    "duration": 155,
    "start_time": "2022-02-03T12:43:13.441Z"
   },
   {
    "duration": 5,
    "start_time": "2022-02-03T12:43:16.986Z"
   },
   {
    "duration": 1119,
    "start_time": "2022-02-12T11:52:29.381Z"
   },
   {
    "duration": 482,
    "start_time": "2022-02-12T11:52:30.502Z"
   },
   {
    "duration": 41,
    "start_time": "2022-02-12T11:52:30.987Z"
   },
   {
    "duration": 74,
    "start_time": "2022-02-12T11:52:31.030Z"
   },
   {
    "duration": 17,
    "start_time": "2022-02-12T11:52:31.106Z"
   },
   {
    "duration": 117,
    "start_time": "2022-02-12T11:52:31.124Z"
   },
   {
    "duration": 20,
    "start_time": "2022-02-12T11:52:31.242Z"
   },
   {
    "duration": 105,
    "start_time": "2022-02-12T11:52:31.263Z"
   },
   {
    "duration": 57,
    "start_time": "2022-02-12T11:52:31.371Z"
   },
   {
    "duration": 44,
    "start_time": "2022-02-12T11:52:31.430Z"
   },
   {
    "duration": 26,
    "start_time": "2022-02-12T11:52:31.476Z"
   },
   {
    "duration": 15,
    "start_time": "2022-02-12T11:52:31.503Z"
   },
   {
    "duration": 15,
    "start_time": "2022-02-12T11:52:31.519Z"
   },
   {
    "duration": 7,
    "start_time": "2022-02-12T11:52:31.535Z"
   },
   {
    "duration": 4,
    "start_time": "2022-02-12T11:52:31.543Z"
   },
   {
    "duration": 9,
    "start_time": "2022-02-12T11:52:31.549Z"
   },
   {
    "duration": 30433,
    "start_time": "2022-02-12T11:52:31.560Z"
   },
   {
    "duration": 41,
    "start_time": "2022-02-12T11:53:01.995Z"
   },
   {
    "duration": 346,
    "start_time": "2022-02-12T11:53:02.038Z"
   },
   {
    "duration": 312,
    "start_time": "2022-02-12T11:53:02.386Z"
   },
   {
    "duration": 301,
    "start_time": "2022-02-12T11:53:02.700Z"
   },
   {
    "duration": 307,
    "start_time": "2022-02-12T11:53:03.003Z"
   },
   {
    "duration": 5,
    "start_time": "2022-02-12T11:53:03.312Z"
   },
   {
    "duration": 19,
    "start_time": "2022-02-12T11:53:03.319Z"
   },
   {
    "duration": 72,
    "start_time": "2022-02-12T11:53:03.340Z"
   },
   {
    "duration": 8,
    "start_time": "2022-02-12T11:53:03.414Z"
   },
   {
    "duration": 393,
    "start_time": "2022-02-12T11:53:03.426Z"
   },
   {
    "duration": 6,
    "start_time": "2022-02-12T11:53:03.821Z"
   },
   {
    "duration": 4,
    "start_time": "2022-02-12T11:56:42.201Z"
   },
   {
    "duration": 227,
    "start_time": "2022-02-14T17:10:43.696Z"
   },
   {
    "duration": 987,
    "start_time": "2022-02-14T17:11:21.809Z"
   },
   {
    "duration": 435,
    "start_time": "2022-02-14T17:11:23.229Z"
   },
   {
    "duration": 38,
    "start_time": "2022-02-14T17:11:26.229Z"
   },
   {
    "duration": 46,
    "start_time": "2022-02-14T17:11:26.987Z"
   },
   {
    "duration": 16,
    "start_time": "2022-02-14T17:11:27.633Z"
   },
   {
    "duration": 90,
    "start_time": "2022-02-14T17:11:28.275Z"
   },
   {
    "duration": 21,
    "start_time": "2022-02-14T17:11:35.295Z"
   },
   {
    "duration": 233,
    "start_time": "2022-02-14T17:11:41.628Z"
   },
   {
    "duration": 5,
    "start_time": "2022-02-14T17:12:29.112Z"
   },
   {
    "duration": 5,
    "start_time": "2022-02-14T17:12:53.610Z"
   },
   {
    "duration": 5,
    "start_time": "2022-02-14T17:13:42.192Z"
   },
   {
    "duration": 5,
    "start_time": "2022-02-14T17:13:54.981Z"
   },
   {
    "duration": 7,
    "start_time": "2022-02-14T17:14:12.088Z"
   },
   {
    "duration": 5,
    "start_time": "2022-02-14T17:14:25.206Z"
   },
   {
    "duration": 3,
    "start_time": "2022-02-14T17:14:36.617Z"
   },
   {
    "duration": 406,
    "start_time": "2022-02-14T17:14:37.056Z"
   },
   {
    "duration": 35,
    "start_time": "2022-02-14T17:14:37.464Z"
   },
   {
    "duration": 48,
    "start_time": "2022-02-14T17:14:37.605Z"
   },
   {
    "duration": 18,
    "start_time": "2022-02-14T17:14:37.796Z"
   },
   {
    "duration": 84,
    "start_time": "2022-02-14T17:14:38.019Z"
   },
   {
    "duration": 7,
    "start_time": "2022-02-14T17:14:43.215Z"
   },
   {
    "duration": 6,
    "start_time": "2022-02-14T17:14:44.939Z"
   },
   {
    "duration": 3,
    "start_time": "2022-02-14T17:18:35.030Z"
   },
   {
    "duration": 411,
    "start_time": "2022-02-14T17:18:35.038Z"
   },
   {
    "duration": 41,
    "start_time": "2022-02-14T17:18:35.451Z"
   },
   {
    "duration": 43,
    "start_time": "2022-02-14T17:18:35.493Z"
   },
   {
    "duration": 17,
    "start_time": "2022-02-14T17:18:35.538Z"
   },
   {
    "duration": 117,
    "start_time": "2022-02-14T17:18:35.557Z"
   },
   {
    "duration": 183,
    "start_time": "2022-02-14T17:18:43.425Z"
   },
   {
    "duration": 17,
    "start_time": "2022-02-14T17:18:52.542Z"
   },
   {
    "duration": 5,
    "start_time": "2022-02-14T17:19:02.189Z"
   },
   {
    "duration": 74,
    "start_time": "2022-02-14T17:19:47.533Z"
   },
   {
    "duration": 63,
    "start_time": "2022-02-14T17:19:48.354Z"
   },
   {
    "duration": 38,
    "start_time": "2022-02-14T17:19:48.567Z"
   },
   {
    "duration": 10,
    "start_time": "2022-02-14T17:19:49.263Z"
   },
   {
    "duration": 15,
    "start_time": "2022-02-14T17:19:49.493Z"
   },
   {
    "duration": 16,
    "start_time": "2022-02-14T17:19:49.724Z"
   },
   {
    "duration": 7,
    "start_time": "2022-02-14T17:19:50.517Z"
   },
   {
    "duration": 4,
    "start_time": "2022-02-14T17:19:52.563Z"
   },
   {
    "duration": 7,
    "start_time": "2022-02-14T17:19:53.605Z"
   },
   {
    "duration": 29071,
    "start_time": "2022-02-14T17:20:00.327Z"
   }
  ],
  "kernelspec": {
   "display_name": "Python 3 (ipykernel)",
   "language": "python",
   "name": "python3"
  },
  "language_info": {
   "codemirror_mode": {
    "name": "ipython",
    "version": 3
   },
   "file_extension": ".py",
   "mimetype": "text/x-python",
   "name": "python",
   "nbconvert_exporter": "python",
   "pygments_lexer": "ipython3",
   "version": "3.9.13"
  },
  "toc": {
   "base_numbering": 1,
   "nav_menu": {
    "height": "238px",
    "width": "378px"
   },
   "number_sections": true,
   "sideBar": true,
   "skip_h1_title": true,
   "title_cell": "Table of Contents",
   "title_sidebar": "Contents",
   "toc_cell": false,
   "toc_position": {
    "height": "calc(100% - 180px)",
    "left": "10px",
    "top": "150px",
    "width": "294.812px"
   },
   "toc_section_display": true,
   "toc_window_display": false
  }
 },
 "nbformat": 4,
 "nbformat_minor": 2
}
