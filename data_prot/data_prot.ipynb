{
 "cells": [
  {
   "cell_type": "markdown",
   "metadata": {},
   "source": [
    "# Защита персональных данных клиентов / Protection of clients' personal data"
   ]
  },
  {
   "cell_type": "markdown",
   "metadata": {},
   "source": [
    "В данном проекте мы разработаем метод защиты персональных данных клиентов страховой компании. Важная часть проекта будет состоять в преобразовании данных таким образом, чтобы метрика модели машинного обучения не ухудшилась.\n",
    "\n",
    "----\n",
    "\n",
    "In this project, we will develop a method for protecting personal data of clients of an insurance company. An important part of the project will be to transform the data in such a way that the machine learning model's metric does not deteriorate."
   ]
  },
  {
   "cell_type": "markdown",
   "metadata": {},
   "source": [
    "## Загрузка данных / Data import"
   ]
  },
  {
   "cell_type": "code",
   "execution_count": 1,
   "metadata": {},
   "outputs": [],
   "source": [
    "import pandas as pd\n",
    "import numpy as np\n",
    "import dtale\n",
    "from sklearn.linear_model import LinearRegression\n",
    "from sklearn.metrics import r2_score\n",
    "from sklearn.model_selection import cross_validate"
   ]
  },
  {
   "cell_type": "code",
   "execution_count": 2,
   "metadata": {},
   "outputs": [],
   "source": [
    "try:\n",
    "    data = pd.read_csv('/home/uladzislau/Documents/Yandex DS/Projects/Linear Algebra/insurance.csv')\n",
    "except:\n",
    "    data = pd.read_csv('/Users/vlad/Documents/Documents Linux/Yandex DS/Projects/YandexPracticum-projects/data_prot/insurance.csv')"
   ]
  },
  {
   "cell_type": "code",
   "execution_count": 3,
   "metadata": {
    "scrolled": false
   },
   "outputs": [
    {
     "data": {
      "text/html": [
       "\n",
       "        <iframe\n",
       "            width=\"100%\"\n",
       "            height=\"475\"\n",
       "            src=\"http://Uladzislaus-Air.home:40000/dtale/iframe/1\"\n",
       "            frameborder=\"0\"\n",
       "            allowfullscreen\n",
       "            \n",
       "        ></iframe>\n",
       "        "
      ],
      "text/plain": [
       "<IPython.lib.display.IFrame at 0x7fcabe8b2640>"
      ]
     },
     "metadata": {},
     "output_type": "display_data"
    },
    {
     "data": {
      "text/plain": []
     },
     "execution_count": 3,
     "metadata": {},
     "output_type": "execute_result"
    }
   ],
   "source": [
    "dtale.show(data)"
   ]
  },
  {
   "cell_type": "markdown",
   "metadata": {},
   "source": [
    "Данные содержат 5000 наблюдений и 5 признаков. Целевой признак - количество страховых выплат за последние 5 лет.\n",
    "\n",
    "- **Пол** (int) содержит два значения - 1 и 0 (мужской и женский пол). Данные делятся по этому признаку пополам - 2505 наблюдений женского пола, а 2495 - мужского пола. Пропусков в колонке нет. Аномальные значения отсутствуют.\n",
    "\n",
    "- **Возраст** (float) - описывает возраст клиентов страховой компании. Средний возраст - 30.9 лет Медиана - 30 лет. Максимальный возраст - 65 лет, минимальный - 18. Самый распространенный - 19 лет. Пропущенных значений нет. Аномалий тоже нет.\n",
    "\n",
    "- **Зарплата** (float) - описывает доход клиентов. Имеет нормальное распределение. Среднее значение 39916 руб, медиана - 40200 руб. Q3 = 46600  - 25% клиентов получают 46600 руб и выше. Пропусков нет, аномалий нет.\n",
    "\n",
    "- **Члены семьи** (int) - описывает сколько у застрахованного лица есть членов семьи. Распределение следующее: 1 (1814), 0 (1513), 2 (1071), 3 (439), 4 (124), 5 (32), 6 (7). Больших семей мало. Самая распространенная категория - 1 член семьи. Пропусков нет, аномалий тоже.\n",
    "\n",
    "- **Страховые выплаты** (int) - сколько страховых выплат клиенту было за послдение 5 лет. Рспределение выплат такое: 0 (4436), 1 (423), 2 (115), 3 (18), 4 (7), 5 (1). Большинству клиентов не платили страховку в последние 5 лет. Пропусков нет, аномалий нет.\n",
    "\n",
    "Дубликатов в данных нет. Необходимо заменить название колонок и тип колонки **Возраст** на int.\n",
    "\n",
    "-----\n",
    "\n"
   ]
  },
  {
   "cell_type": "code",
   "execution_count": 4,
   "metadata": {},
   "outputs": [
    {
     "data": {
      "text/html": [
       "<div>\n",
       "<style scoped>\n",
       "    .dataframe tbody tr th:only-of-type {\n",
       "        vertical-align: middle;\n",
       "    }\n",
       "\n",
       "    .dataframe tbody tr th {\n",
       "        vertical-align: top;\n",
       "    }\n",
       "\n",
       "    .dataframe thead th {\n",
       "        text-align: right;\n",
       "    }\n",
       "</style>\n",
       "<table border=\"1\" class=\"dataframe\">\n",
       "  <thead>\n",
       "    <tr style=\"text-align: right;\">\n",
       "      <th></th>\n",
       "      <th>sex</th>\n",
       "      <th>age</th>\n",
       "      <th>income</th>\n",
       "      <th>family_members</th>\n",
       "      <th>insurance_payout</th>\n",
       "    </tr>\n",
       "  </thead>\n",
       "  <tbody>\n",
       "    <tr>\n",
       "      <th>0</th>\n",
       "      <td>1</td>\n",
       "      <td>41.0</td>\n",
       "      <td>49600.0</td>\n",
       "      <td>1</td>\n",
       "      <td>0</td>\n",
       "    </tr>\n",
       "    <tr>\n",
       "      <th>1</th>\n",
       "      <td>0</td>\n",
       "      <td>46.0</td>\n",
       "      <td>38000.0</td>\n",
       "      <td>1</td>\n",
       "      <td>1</td>\n",
       "    </tr>\n",
       "    <tr>\n",
       "      <th>2</th>\n",
       "      <td>0</td>\n",
       "      <td>29.0</td>\n",
       "      <td>21000.0</td>\n",
       "      <td>0</td>\n",
       "      <td>0</td>\n",
       "    </tr>\n",
       "    <tr>\n",
       "      <th>3</th>\n",
       "      <td>0</td>\n",
       "      <td>21.0</td>\n",
       "      <td>41700.0</td>\n",
       "      <td>2</td>\n",
       "      <td>0</td>\n",
       "    </tr>\n",
       "    <tr>\n",
       "      <th>4</th>\n",
       "      <td>1</td>\n",
       "      <td>28.0</td>\n",
       "      <td>26100.0</td>\n",
       "      <td>0</td>\n",
       "      <td>0</td>\n",
       "    </tr>\n",
       "  </tbody>\n",
       "</table>\n",
       "</div>"
      ],
      "text/plain": [
       "   sex   age   income  family_members  insurance_payout\n",
       "0    1  41.0  49600.0               1                 0\n",
       "1    0  46.0  38000.0               1                 1\n",
       "2    0  29.0  21000.0               0                 0\n",
       "3    0  21.0  41700.0               2                 0\n",
       "4    1  28.0  26100.0               0                 0"
      ]
     },
     "execution_count": 4,
     "metadata": {},
     "output_type": "execute_result"
    }
   ],
   "source": [
    "# переименуем колонки / rename columns\n",
    "data.columns = ['sex', 'age', 'income', 'family_members', 'insurance_payout']\n",
    "data.head()"
   ]
  },
  {
   "cell_type": "code",
   "execution_count": 5,
   "metadata": {
    "scrolled": true
   },
   "outputs": [
    {
     "name": "stdout",
     "output_type": "stream",
     "text": [
      "<class 'pandas.core.frame.DataFrame'>\n",
      "RangeIndex: 5000 entries, 0 to 4999\n",
      "Data columns (total 5 columns):\n",
      " #   Column            Non-Null Count  Dtype  \n",
      "---  ------            --------------  -----  \n",
      " 0   sex               5000 non-null   int64  \n",
      " 1   age               5000 non-null   int64  \n",
      " 2   income            5000 non-null   float64\n",
      " 3   family_members    5000 non-null   int64  \n",
      " 4   insurance_payout  5000 non-null   int64  \n",
      "dtypes: float64(1), int64(4)\n",
      "memory usage: 195.4 KB\n"
     ]
    }
   ],
   "source": [
    "# заменим тип колонки age на int\n",
    "# change age column type to int\n",
    "data['age'] = data['age'].astype('int')\n",
    "data.info()"
   ]
  },
  {
   "cell_type": "markdown",
   "metadata": {},
   "source": [
    "## Умножение матриц / Matrices multiplication"
   ]
  },
  {
   "cell_type": "markdown",
   "metadata": {},
   "source": [
    "Обозначения / Symbols:\n",
    "\n",
    "- $X$ — матрица признаков (нулевой столбец состоит из единиц) / feature matrix (zero column consists of ones)\n",
    "\n",
    "- $y$ — вектор целевого признака / vector with target values\n",
    "\n",
    "- $P$ — матрица, на которую умножаются признаки / matrix used to multiple features\n",
    "\n",
    "- $w$ — вектор весов линейной регрессии (нулевой элемент равен сдвигу) / vectors with linear regression weights (zero element is bias)"
   ]
  },
  {
   "cell_type": "markdown",
   "metadata": {},
   "source": [
    "Предсказания / Predictions:\n",
    "\n",
    "$$\n",
    "a = Xw\n",
    "$$\n",
    "\n",
    "Задача обучения / Training task:\n",
    "\n",
    "$$\n",
    "w = \\arg\\min_w MSE(Xw, y)\n",
    "$$\n",
    "\n",
    "Формула обучения / Equation for training:\n",
    "\n",
    "$$\n",
    "w = (X^T X)^{-1} X^T y\n",
    "$$"
   ]
  },
  {
   "cell_type": "markdown",
   "metadata": {},
   "source": [
    "**Обоснование / Ratonale:**\n",
    "\n",
    "Пусть у нас есть матрица признаков $X$ размера $mxn$. Также у нас обратимая матрица $P$ размера $nxn$. Результатом умножения $XP$ будет матрица $X_T$ размера $mxn$. То есть при преобразовании матрицы $X$ в $X_T$ ее размер не поменяется.\n",
    "\n",
    "Let us have a feature matrix $X$ of size $mxn$. We also have an invertible matrix $P$ of size $nxn$. The result of the multiplication $XP$ is a matrix $X_T$ of size $mxn$. That is, when the matrix $X$ is converted to $X_T$, its size will not change.\n",
    "\n",
    "- **Пусть / Given**\n",
    "\n",
    "$$\n",
    "X_T = XP\n",
    "$$\n",
    "\n",
    "- **Тогда задача поиска $w$, минимизирующих $MSE$, принимает вид / Then task of $w$ optimization that minimize $MSE$ takes**\n",
    "\n",
    "$$\n",
    "w = ((XP)^T XP)^{-1} (XP)^T y\n",
    "$$\n",
    "\n",
    "- **Преобразуем по свойству транспонирования произведения матриц $(AB)^T = B^TA^T$ и свойству ассоциативности умножения $A(BC) = (AB)C$ / **We transform the product of matrices $(AB)^T = B^TA^T$ by the transposition property and the associativity property of multiplication $A(BC) = (AB)C$****\n",
    "\n",
    "$$\n",
    "w = (P^TX^TXP)^{-1}P^TX^Ty = (P^T(X^TX)P)^{-1}P^TX^Ty = (P^T)^{-1}P^{-1}(X^TX)^{-1}P^TX^Ty\n",
    "$$\n",
    "\n",
    "- **$(P^T)^{-1}P^T = I$ - единичная матрица, сокаращаем и остаемся с / identity matrix leaves us with**\n",
    "\n",
    "$$\n",
    "w = P^{-1}(X^TX)^{-1}X^Ty\n",
    "$$\n",
    "\n",
    "- **Несложно увидеть, что / Easy to see that $(X^TX)^{-1}X^Ty = w$**\n",
    "\n",
    "$$\n",
    "P^{-1}w\n",
    "$$\n",
    "\n",
    "- **Перейдем к предсказаниям / Move to predictions**\n",
    "\n",
    "$$\n",
    "a = XPP^{-1}w\n",
    "$$\n",
    "\n",
    "- **По свойству матриц, любая матрица, умноженная на свою обратную матрицу, дает единичную матрицу $AA^{-1}=I$. По итогу, предсказания остались неизменными. Следовательно, качество модели останется неизменным.** / **By the property of matrices, any matrix multiplied by its inverse matrix gives the identity matrix $AA^{-1}=I$. As a result, the predictions remained unchanged. Therefore, the quality of the model will remain unchanged.**\n",
    "$$\n",
    "a = Xw\n",
    "$$"
   ]
  },
  {
   "cell_type": "markdown",
   "metadata": {},
   "source": [
    "Продемонстрируем это с помощью небольших матриц. Пусть $X$ будет матрицей признаков, $P$ - обратимой рандомной матрицей, а $y$ - вектором с целевыми значениями.\n",
    "\n",
    "----\n",
    "\n",
    "Let's demonstrate this using small matrices. Let $X$ be a feature matrix, $P$ be an invertible random matrix, and $y$ be a vector with target values."
   ]
  },
  {
   "cell_type": "code",
   "execution_count": 6,
   "metadata": {},
   "outputs": [],
   "source": [
    "X = np.random.rand(50, 10)\n",
    "\n",
    "P = np.random.rand(10,10)\n",
    "\n",
    "y = np.random.rand(50,1)"
   ]
  },
  {
   "cell_type": "markdown",
   "metadata": {},
   "source": [
    "Получим качество модели на оригинальных признаках ($X$).\n",
    "\n",
    "Let's get the quality of the model on the original features ($X$)."
   ]
  },
  {
   "cell_type": "code",
   "execution_count": 7,
   "metadata": {},
   "outputs": [
    {
     "name": "stdout",
     "output_type": "stream",
     "text": [
      "0.1483733927238\n"
     ]
    }
   ],
   "source": [
    "model = LinearRegression()\n",
    "model.fit(X, y)\n",
    "predictions = model.predict(X)\n",
    "print(r2_score(y, predictions))"
   ]
  },
  {
   "cell_type": "markdown",
   "metadata": {},
   "source": [
    "Получим качество модели на трансформированных признаках ($X_T$).\n",
    "\n",
    "Let's get the quality of the model on the transformed features ($X_T$)."
   ]
  },
  {
   "cell_type": "code",
   "execution_count": 8,
   "metadata": {},
   "outputs": [
    {
     "name": "stdout",
     "output_type": "stream",
     "text": [
      "0.14837339272380023\n"
     ]
    }
   ],
   "source": [
    "X_t = X @ P\n",
    "model.fit(X_t, y)\n",
    "predictions_t = model.predict(X_t)\n",
    "print(r2_score(y, predictions_t))"
   ]
  },
  {
   "cell_type": "markdown",
   "metadata": {},
   "source": [
    "Метрика $R^2$ не отличается.\n",
    "\n",
    "$R^2$ is not changed"
   ]
  },
  {
   "cell_type": "markdown",
   "metadata": {},
   "source": [
    "## Алгоритм преобразования / Transformation algorithm"
   ]
  },
  {
   "cell_type": "markdown",
   "metadata": {},
   "source": [
    "**Алгоритм**\n",
    "\n",
    "1) Получим признаки и целевой признак из данных.\n",
    "\n",
    "2) Обучим линейную регрессию с применением кросс-валидации на **незашифрованной** выборке. В качестве метрики возьмем ($R^2$).\n",
    "\n",
    "3) Преобразуем наши данные с помощью умножения матрицы наших признаков на случайную обратимую матрицу.\n",
    "\n",
    "4) Обучим линейную регрессию с применением кросс-валидаии на **преобразованных** данных и проверим качество модели ($R^2$).\n",
    "\n",
    "----\n",
    "\n",
    "**Algorithm**\n",
    "\n",
    "1) Get the features and the target feature from the data.\n",
    "\n",
    "2) Train linear regression using cross-validation on an **unencrypted** sample. We take ($R^2$) as a metric.\n",
    "\n",
    "3) Let's transform our data by multiplying our feature matrix by a random invertible matrix.\n",
    "\n",
    "4) Train linear regression using cross-validation on **transformed** data and check the quality of the model ($R^2$)."
   ]
  },
  {
   "cell_type": "markdown",
   "metadata": {},
   "source": [
    "**Обоснование**\n",
    "\n",
    "При умножении матрицы с признаками на обратимую квадратную матрицу качество линейной регрессии не меняется, так как остаются такими же. Это было доказано через свойства операций над матрицами и продемонстрировано на небольших случайных матрицах.\n",
    "\n",
    "---\n",
    "\n",
    "**Rationale**\n",
    "\n",
    "When multiplying a matrix with features by an invertible square matrix, the quality of the linear regression does not change, as they remain the same. This has been proven through the properties of matrix operations and demonstrated on small random matrices."
   ]
  },
  {
   "cell_type": "markdown",
   "metadata": {},
   "source": [
    "## Проверка алгоритма / Algorithm check"
   ]
  },
  {
   "cell_type": "markdown",
   "metadata": {},
   "source": [
    "Реализуем вышеописанный алгоритм в коде. Создадим класс LinearRegressionEncrypted, с помощью которого сможем преобразовывать наши данные, а затем обучать и проверять модель на них.\n",
    "\n",
    "----\n",
    "\n",
    "We implement the above algorithm in code. Let's create a LinearRegressionEncrypted class with which we can transform our data, and then train and validate the model on them."
   ]
  },
  {
   "cell_type": "markdown",
   "metadata": {},
   "source": [
    "1) Получим признаки и целевой признак. / Get the target values and features."
   ]
  },
  {
   "cell_type": "code",
   "execution_count": 10,
   "metadata": {},
   "outputs": [
    {
     "name": "stdout",
     "output_type": "stream",
     "text": [
      "(5000, 4)\n",
      "(5000,)\n"
     ]
    }
   ],
   "source": [
    "features = data.drop('insurance_payout', axis=1).values\n",
    "target = data['insurance_payout'].values\n",
    "\n",
    "print(features.shape)\n",
    "print(target.shape)"
   ]
  },
  {
   "cell_type": "markdown",
   "metadata": {},
   "source": [
    "2) Проверим качество линейной регрессии на обычных данных. / Check quality of model on original data"
   ]
  },
  {
   "cell_type": "code",
   "execution_count": 11,
   "metadata": {},
   "outputs": [
    {
     "name": "stdout",
     "output_type": "stream",
     "text": [
      "Метрика качества на обычных данных: 0.42\n",
      "\n",
      "Коэффициенты модели для каждого столбца на этапе кросс-валидации 0:\n",
      " [ 9.29122153e-03  3.53947721e-02 -3.24584981e-08 -9.80961785e-03]\n",
      "\n",
      "Коэффициенты модели для каждого столбца на этапе кросс-валидации 1:\n",
      " [ 9.31420962e-03  3.58969571e-02 -2.02084937e-07 -1.64546140e-02]\n",
      "\n",
      "Коэффициенты модели для каждого столбца на этапе кросс-валидации 2:\n",
      " [ 5.08397777e-03  3.58313648e-02 -2.73176844e-07 -1.45356276e-02]\n",
      "\n"
     ]
    }
   ],
   "source": [
    "model = LinearRegression()\n",
    "\n",
    "cross_val = cross_validate(model, features, target, scoring='r2', cv=3, return_estimator=True)\n",
    "\n",
    "print('Метрика качества на обычных данных:', round(cross_val['test_score'].mean(), 2))\n",
    "print()\n",
    "\n",
    "for i in range(3):\n",
    "    print(f'Коэффициенты модели для каждого столбца на этапе кросс-валидации {i}:\\n', cross_val['estimator'][i].coef_)\n",
    "    print()"
   ]
  },
  {
   "cell_type": "markdown",
   "metadata": {},
   "source": [
    "3) Преобразуем данные умножением матрицы наших признаков на случайную обратимую матрицу. / Transform data multiplying matrix with features by random inverse matrix"
   ]
  },
  {
   "cell_type": "code",
   "execution_count": 12,
   "metadata": {},
   "outputs": [
    {
     "data": {
      "text/plain": [
       "array([[25595.03190371,  7567.15090736,  4402.20136595, 42651.43807714],\n",
       "       [19611.05784882,  5810.76069589,  3378.97037604, 32684.28920561],\n",
       "       [10838.11980681,  3214.28219208,  1868.88246997, 18064.03562591],\n",
       "       ...,\n",
       "       [17491.96016014,  5164.86171457,  3005.18770982, 29146.58313389],\n",
       "       [16874.2461279 ,  4985.25256098,  2900.15666604, 28118.02361324],\n",
       "       [20950.02836199,  6189.07418847,  3601.00074337, 34909.38266369]])"
      ]
     },
     "execution_count": 12,
     "metadata": {},
     "output_type": "execute_result"
    }
   ],
   "source": [
    "t = np.random.rand(4, 4) #квадратная матрица 4х4\n",
    "\n",
    "features_t = features @ t\n",
    "features_t"
   ]
  },
  {
   "cell_type": "markdown",
   "metadata": {},
   "source": [
    "4) Проверим качество модели на преобразованных данных. / Check quality of a model on transformed data."
   ]
  },
  {
   "cell_type": "code",
   "execution_count": 13,
   "metadata": {
    "scrolled": true
   },
   "outputs": [
    {
     "name": "stdout",
     "output_type": "stream",
     "text": [
      "Метрика качества на преобразованных данных: 0.42\n",
      "\n",
      "Коэффициенты модели для каждого столбца на этапе кросс-валидации 0:\n",
      " [ 0.0358041  -0.00332199  0.11672805 -0.0329105 ]\n",
      "\n",
      "Коэффициенты модели для каждого столбца на этапе кросс-валидации 1:\n",
      " [ 0.0392423  -0.01921624  0.15396181 -0.03599672]\n",
      "\n",
      "Коэффициенты модели для каждого столбца на этапе кросс-валидации 2:\n",
      " [ 0.01534616 -0.02219877  0.14918234 -0.02063444]\n",
      "\n"
     ]
    }
   ],
   "source": [
    "cross_val_t = cross_validate(model, features_t, target, scoring='r2', cv=3, return_estimator=True)\n",
    "\n",
    "print('Метрика качества на преобразованных данных:', round(cross_val_t['test_score'].mean(), 2))\n",
    "print()\n",
    "\n",
    "for i in range(3):\n",
    "    print(f'Коэффициенты модели для каждого столбца на этапе кросс-валидации {i}:\\n', cross_val_t['estimator'][i].coef_)\n",
    "    print()"
   ]
  },
  {
   "cell_type": "markdown",
   "metadata": {},
   "source": [
    "## Общий вывод / Conclusion"
   ]
  },
  {
   "cell_type": "markdown",
   "metadata": {},
   "source": [
    "В данном проекте мы разрабатывали алгоритм защиты данных клиентов страховой компании. Целью было преобразовать данные так, чтобы качество линейной регрессии не попоменялось. Это необходимо, чтобы одновременно защитить данные клиентов и использовать их для машинного обучения, чтобы помочь бизнесу.\n",
    "\n",
    "С помощью свойств матричных операций мы математически доказали, что предсказания не отличаются при обучении модели на незашифрованных и зашифрованных данных. Также, мы показали это практически на небольшой матрице рандомных признаков. Метрика осталась неизменной.\n",
    "\n",
    "Цель была достигнута с помощью матричных операций. Мы преобразовали данные путем умножения признаков на обратимую матрицу размера $nxn$. При этом коэффициенты линейной регрессии двух моделей отличаются. Метрика в обоих случаях осталась неизменной.\n",
    "\n",
    "----\n",
    "\n",
    "In this project, we developed an algorithm for protecting the data of clients of an insurance company. The goal was to transform the data so that the quality of the linear regression does not change. This is necessary to both protect customer data and use it for machine learning to help the business.\n",
    "\n",
    "Using the properties of matrix operations, we mathematically proved that the predictions do not differ when training a model on unencrypted and encrypted data. Also, we showed this practically on a small matrix of random features. The metric has remained unchanged.\n",
    "\n",
    "The goal was achieved using matrix operations. We transformed the data by multiplying the features by an $nxn$ reversible matrix. At the same time, the coefficients of linear regression of the two models are different. The metric in both cases remained unchanged."
   ]
  }
 ],
 "metadata": {
  "kernelspec": {
   "display_name": "Python 3 (ipykernel)",
   "language": "python",
   "name": "python3"
  },
  "language_info": {
   "codemirror_mode": {
    "name": "ipython",
    "version": 3
   },
   "file_extension": ".py",
   "mimetype": "text/x-python",
   "name": "python",
   "nbconvert_exporter": "python",
   "pygments_lexer": "ipython3",
   "version": "3.9.13"
  },
  "toc": {
   "base_numbering": 1,
   "nav_menu": {},
   "number_sections": true,
   "sideBar": true,
   "skip_h1_title": true,
   "title_cell": "Содержание",
   "title_sidebar": "Contents",
   "toc_cell": true,
   "toc_position": {},
   "toc_section_display": true,
   "toc_window_display": true
  }
 },
 "nbformat": 4,
 "nbformat_minor": 2
}
