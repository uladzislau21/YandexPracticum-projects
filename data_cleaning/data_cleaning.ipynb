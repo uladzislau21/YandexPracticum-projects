{
 "cells": [
  {
   "cell_type": "markdown",
   "metadata": {},
   "source": [
    "# Исследование надёжности заёмщиков"
   ]
  },
  {
   "cell_type": "markdown",
   "metadata": {},
   "source": [
    "## Знакомство с данными"
   ]
  },
  {
   "cell_type": "code",
   "execution_count": 2,
   "metadata": {},
   "outputs": [],
   "source": [
    "import pandas as pd\n",
    "from pymystem3 import Mystem\n",
    "import seaborn as sb\n",
    "import numpy as np\n",
    "from collections import Counter "
   ]
  },
  {
   "cell_type": "code",
   "execution_count": 3,
   "metadata": {
    "scrolled": true
   },
   "outputs": [],
   "source": [
    "data = pd.read_csv('/Users/vlad/Documents/Documents Linux/Yandex DS/Projects/YandexPracticum-projects/data_cleaning/data.csv')"
   ]
  },
  {
   "cell_type": "markdown",
   "metadata": {},
   "source": [
    "Посмотрим, что из себя представляют данные."
   ]
  },
  {
   "cell_type": "code",
   "execution_count": 9,
   "metadata": {
    "scrolled": false
   },
   "outputs": [
    {
     "name": "stdout",
     "output_type": "stream",
     "text": [
      "<class 'pandas.core.frame.DataFrame'>\n",
      "RangeIndex: 21525 entries, 0 to 21524\n",
      "Data columns (total 12 columns):\n",
      " #   Column            Non-Null Count  Dtype  \n",
      "---  ------            --------------  -----  \n",
      " 0   children          21525 non-null  int64  \n",
      " 1   days_employed     19351 non-null  float64\n",
      " 2   dob_years         21525 non-null  int64  \n",
      " 3   education         21525 non-null  object \n",
      " 4   education_id      21525 non-null  int64  \n",
      " 5   family_status     21525 non-null  object \n",
      " 6   family_status_id  21525 non-null  int64  \n",
      " 7   gender            21525 non-null  object \n",
      " 8   income_type       21525 non-null  object \n",
      " 9   debt              21525 non-null  int64  \n",
      " 10  total_income      19351 non-null  float64\n",
      " 11  purpose           21525 non-null  object \n",
      "dtypes: float64(2), int64(5), object(5)\n",
      "memory usage: 2.0+ MB\n"
     ]
    },
    {
     "data": {
      "text/html": [
       "<div>\n",
       "<style scoped>\n",
       "    .dataframe tbody tr th:only-of-type {\n",
       "        vertical-align: middle;\n",
       "    }\n",
       "\n",
       "    .dataframe tbody tr th {\n",
       "        vertical-align: top;\n",
       "    }\n",
       "\n",
       "    .dataframe thead th {\n",
       "        text-align: right;\n",
       "    }\n",
       "</style>\n",
       "<table border=\"1\" class=\"dataframe\">\n",
       "  <thead>\n",
       "    <tr style=\"text-align: right;\">\n",
       "      <th></th>\n",
       "      <th>children</th>\n",
       "      <th>days_employed</th>\n",
       "      <th>dob_years</th>\n",
       "      <th>education</th>\n",
       "      <th>education_id</th>\n",
       "      <th>family_status</th>\n",
       "      <th>family_status_id</th>\n",
       "      <th>gender</th>\n",
       "      <th>income_type</th>\n",
       "      <th>debt</th>\n",
       "      <th>total_income</th>\n",
       "      <th>purpose</th>\n",
       "    </tr>\n",
       "  </thead>\n",
       "  <tbody>\n",
       "    <tr>\n",
       "      <th>0</th>\n",
       "      <td>1</td>\n",
       "      <td>-8437.673028</td>\n",
       "      <td>42</td>\n",
       "      <td>высшее</td>\n",
       "      <td>0</td>\n",
       "      <td>женат / замужем</td>\n",
       "      <td>0</td>\n",
       "      <td>F</td>\n",
       "      <td>сотрудник</td>\n",
       "      <td>0</td>\n",
       "      <td>253875.639453</td>\n",
       "      <td>покупка жилья</td>\n",
       "    </tr>\n",
       "    <tr>\n",
       "      <th>1</th>\n",
       "      <td>1</td>\n",
       "      <td>-4024.803754</td>\n",
       "      <td>36</td>\n",
       "      <td>среднее</td>\n",
       "      <td>1</td>\n",
       "      <td>женат / замужем</td>\n",
       "      <td>0</td>\n",
       "      <td>F</td>\n",
       "      <td>сотрудник</td>\n",
       "      <td>0</td>\n",
       "      <td>112080.014102</td>\n",
       "      <td>приобретение автомобиля</td>\n",
       "    </tr>\n",
       "    <tr>\n",
       "      <th>2</th>\n",
       "      <td>0</td>\n",
       "      <td>-5623.422610</td>\n",
       "      <td>33</td>\n",
       "      <td>Среднее</td>\n",
       "      <td>1</td>\n",
       "      <td>женат / замужем</td>\n",
       "      <td>0</td>\n",
       "      <td>M</td>\n",
       "      <td>сотрудник</td>\n",
       "      <td>0</td>\n",
       "      <td>145885.952297</td>\n",
       "      <td>покупка жилья</td>\n",
       "    </tr>\n",
       "    <tr>\n",
       "      <th>3</th>\n",
       "      <td>3</td>\n",
       "      <td>-4124.747207</td>\n",
       "      <td>32</td>\n",
       "      <td>среднее</td>\n",
       "      <td>1</td>\n",
       "      <td>женат / замужем</td>\n",
       "      <td>0</td>\n",
       "      <td>M</td>\n",
       "      <td>сотрудник</td>\n",
       "      <td>0</td>\n",
       "      <td>267628.550329</td>\n",
       "      <td>дополнительное образование</td>\n",
       "    </tr>\n",
       "    <tr>\n",
       "      <th>4</th>\n",
       "      <td>0</td>\n",
       "      <td>340266.072047</td>\n",
       "      <td>53</td>\n",
       "      <td>среднее</td>\n",
       "      <td>1</td>\n",
       "      <td>гражданский брак</td>\n",
       "      <td>1</td>\n",
       "      <td>F</td>\n",
       "      <td>пенсионер</td>\n",
       "      <td>0</td>\n",
       "      <td>158616.077870</td>\n",
       "      <td>сыграть свадьбу</td>\n",
       "    </tr>\n",
       "    <tr>\n",
       "      <th>5</th>\n",
       "      <td>0</td>\n",
       "      <td>-926.185831</td>\n",
       "      <td>27</td>\n",
       "      <td>высшее</td>\n",
       "      <td>0</td>\n",
       "      <td>гражданский брак</td>\n",
       "      <td>1</td>\n",
       "      <td>M</td>\n",
       "      <td>компаньон</td>\n",
       "      <td>0</td>\n",
       "      <td>255763.565419</td>\n",
       "      <td>покупка жилья</td>\n",
       "    </tr>\n",
       "    <tr>\n",
       "      <th>6</th>\n",
       "      <td>0</td>\n",
       "      <td>-2879.202052</td>\n",
       "      <td>43</td>\n",
       "      <td>высшее</td>\n",
       "      <td>0</td>\n",
       "      <td>женат / замужем</td>\n",
       "      <td>0</td>\n",
       "      <td>F</td>\n",
       "      <td>компаньон</td>\n",
       "      <td>0</td>\n",
       "      <td>240525.971920</td>\n",
       "      <td>операции с жильем</td>\n",
       "    </tr>\n",
       "    <tr>\n",
       "      <th>7</th>\n",
       "      <td>0</td>\n",
       "      <td>-152.779569</td>\n",
       "      <td>50</td>\n",
       "      <td>СРЕДНЕЕ</td>\n",
       "      <td>1</td>\n",
       "      <td>женат / замужем</td>\n",
       "      <td>0</td>\n",
       "      <td>M</td>\n",
       "      <td>сотрудник</td>\n",
       "      <td>0</td>\n",
       "      <td>135823.934197</td>\n",
       "      <td>образование</td>\n",
       "    </tr>\n",
       "    <tr>\n",
       "      <th>8</th>\n",
       "      <td>2</td>\n",
       "      <td>-6929.865299</td>\n",
       "      <td>35</td>\n",
       "      <td>ВЫСШЕЕ</td>\n",
       "      <td>0</td>\n",
       "      <td>гражданский брак</td>\n",
       "      <td>1</td>\n",
       "      <td>F</td>\n",
       "      <td>сотрудник</td>\n",
       "      <td>0</td>\n",
       "      <td>95856.832424</td>\n",
       "      <td>на проведение свадьбы</td>\n",
       "    </tr>\n",
       "    <tr>\n",
       "      <th>9</th>\n",
       "      <td>0</td>\n",
       "      <td>-2188.756445</td>\n",
       "      <td>41</td>\n",
       "      <td>среднее</td>\n",
       "      <td>1</td>\n",
       "      <td>женат / замужем</td>\n",
       "      <td>0</td>\n",
       "      <td>M</td>\n",
       "      <td>сотрудник</td>\n",
       "      <td>0</td>\n",
       "      <td>144425.938277</td>\n",
       "      <td>покупка жилья для семьи</td>\n",
       "    </tr>\n",
       "  </tbody>\n",
       "</table>\n",
       "</div>"
      ],
      "text/plain": [
       "   children  days_employed  dob_years education  education_id  \\\n",
       "0         1   -8437.673028         42    высшее             0   \n",
       "1         1   -4024.803754         36   среднее             1   \n",
       "2         0   -5623.422610         33   Среднее             1   \n",
       "3         3   -4124.747207         32   среднее             1   \n",
       "4         0  340266.072047         53   среднее             1   \n",
       "5         0    -926.185831         27    высшее             0   \n",
       "6         0   -2879.202052         43    высшее             0   \n",
       "7         0    -152.779569         50   СРЕДНЕЕ             1   \n",
       "8         2   -6929.865299         35    ВЫСШЕЕ             0   \n",
       "9         0   -2188.756445         41   среднее             1   \n",
       "\n",
       "      family_status  family_status_id gender income_type  debt   total_income  \\\n",
       "0   женат / замужем                 0      F   сотрудник     0  253875.639453   \n",
       "1   женат / замужем                 0      F   сотрудник     0  112080.014102   \n",
       "2   женат / замужем                 0      M   сотрудник     0  145885.952297   \n",
       "3   женат / замужем                 0      M   сотрудник     0  267628.550329   \n",
       "4  гражданский брак                 1      F   пенсионер     0  158616.077870   \n",
       "5  гражданский брак                 1      M   компаньон     0  255763.565419   \n",
       "6   женат / замужем                 0      F   компаньон     0  240525.971920   \n",
       "7   женат / замужем                 0      M   сотрудник     0  135823.934197   \n",
       "8  гражданский брак                 1      F   сотрудник     0   95856.832424   \n",
       "9   женат / замужем                 0      M   сотрудник     0  144425.938277   \n",
       "\n",
       "                      purpose  \n",
       "0               покупка жилья  \n",
       "1     приобретение автомобиля  \n",
       "2               покупка жилья  \n",
       "3  дополнительное образование  \n",
       "4             сыграть свадьбу  \n",
       "5               покупка жилья  \n",
       "6           операции с жильем  \n",
       "7                 образование  \n",
       "8       на проведение свадьбы  \n",
       "9     покупка жилья для семьи  "
      ]
     },
     "metadata": {},
     "output_type": "display_data"
    },
    {
     "data": {
      "text/html": [
       "<div>\n",
       "<style scoped>\n",
       "    .dataframe tbody tr th:only-of-type {\n",
       "        vertical-align: middle;\n",
       "    }\n",
       "\n",
       "    .dataframe tbody tr th {\n",
       "        vertical-align: top;\n",
       "    }\n",
       "\n",
       "    .dataframe thead th {\n",
       "        text-align: right;\n",
       "    }\n",
       "</style>\n",
       "<table border=\"1\" class=\"dataframe\">\n",
       "  <thead>\n",
       "    <tr style=\"text-align: right;\">\n",
       "      <th></th>\n",
       "      <th>children</th>\n",
       "      <th>days_employed</th>\n",
       "      <th>dob_years</th>\n",
       "      <th>education_id</th>\n",
       "      <th>family_status_id</th>\n",
       "      <th>debt</th>\n",
       "      <th>total_income</th>\n",
       "    </tr>\n",
       "  </thead>\n",
       "  <tbody>\n",
       "    <tr>\n",
       "      <th>count</th>\n",
       "      <td>21525.000000</td>\n",
       "      <td>19351.000000</td>\n",
       "      <td>21525.000000</td>\n",
       "      <td>21525.000000</td>\n",
       "      <td>21525.000000</td>\n",
       "      <td>21525.000000</td>\n",
       "      <td>1.935100e+04</td>\n",
       "    </tr>\n",
       "    <tr>\n",
       "      <th>mean</th>\n",
       "      <td>0.538908</td>\n",
       "      <td>63046.497661</td>\n",
       "      <td>43.293380</td>\n",
       "      <td>0.817236</td>\n",
       "      <td>0.972544</td>\n",
       "      <td>0.080883</td>\n",
       "      <td>1.674223e+05</td>\n",
       "    </tr>\n",
       "    <tr>\n",
       "      <th>std</th>\n",
       "      <td>1.381587</td>\n",
       "      <td>140827.311974</td>\n",
       "      <td>12.574584</td>\n",
       "      <td>0.548138</td>\n",
       "      <td>1.420324</td>\n",
       "      <td>0.272661</td>\n",
       "      <td>1.029716e+05</td>\n",
       "    </tr>\n",
       "    <tr>\n",
       "      <th>min</th>\n",
       "      <td>-1.000000</td>\n",
       "      <td>-18388.949901</td>\n",
       "      <td>0.000000</td>\n",
       "      <td>0.000000</td>\n",
       "      <td>0.000000</td>\n",
       "      <td>0.000000</td>\n",
       "      <td>2.066726e+04</td>\n",
       "    </tr>\n",
       "    <tr>\n",
       "      <th>25%</th>\n",
       "      <td>0.000000</td>\n",
       "      <td>-2747.423625</td>\n",
       "      <td>33.000000</td>\n",
       "      <td>1.000000</td>\n",
       "      <td>0.000000</td>\n",
       "      <td>0.000000</td>\n",
       "      <td>1.030532e+05</td>\n",
       "    </tr>\n",
       "    <tr>\n",
       "      <th>50%</th>\n",
       "      <td>0.000000</td>\n",
       "      <td>-1203.369529</td>\n",
       "      <td>42.000000</td>\n",
       "      <td>1.000000</td>\n",
       "      <td>0.000000</td>\n",
       "      <td>0.000000</td>\n",
       "      <td>1.450179e+05</td>\n",
       "    </tr>\n",
       "    <tr>\n",
       "      <th>75%</th>\n",
       "      <td>1.000000</td>\n",
       "      <td>-291.095954</td>\n",
       "      <td>53.000000</td>\n",
       "      <td>1.000000</td>\n",
       "      <td>1.000000</td>\n",
       "      <td>0.000000</td>\n",
       "      <td>2.034351e+05</td>\n",
       "    </tr>\n",
       "    <tr>\n",
       "      <th>max</th>\n",
       "      <td>20.000000</td>\n",
       "      <td>401755.400475</td>\n",
       "      <td>75.000000</td>\n",
       "      <td>4.000000</td>\n",
       "      <td>4.000000</td>\n",
       "      <td>1.000000</td>\n",
       "      <td>2.265604e+06</td>\n",
       "    </tr>\n",
       "  </tbody>\n",
       "</table>\n",
       "</div>"
      ],
      "text/plain": [
       "           children  days_employed     dob_years  education_id  \\\n",
       "count  21525.000000   19351.000000  21525.000000  21525.000000   \n",
       "mean       0.538908   63046.497661     43.293380      0.817236   \n",
       "std        1.381587  140827.311974     12.574584      0.548138   \n",
       "min       -1.000000  -18388.949901      0.000000      0.000000   \n",
       "25%        0.000000   -2747.423625     33.000000      1.000000   \n",
       "50%        0.000000   -1203.369529     42.000000      1.000000   \n",
       "75%        1.000000    -291.095954     53.000000      1.000000   \n",
       "max       20.000000  401755.400475     75.000000      4.000000   \n",
       "\n",
       "       family_status_id          debt  total_income  \n",
       "count      21525.000000  21525.000000  1.935100e+04  \n",
       "mean           0.972544      0.080883  1.674223e+05  \n",
       "std            1.420324      0.272661  1.029716e+05  \n",
       "min            0.000000      0.000000  2.066726e+04  \n",
       "25%            0.000000      0.000000  1.030532e+05  \n",
       "50%            0.000000      0.000000  1.450179e+05  \n",
       "75%            1.000000      0.000000  2.034351e+05  \n",
       "max            4.000000      1.000000  2.265604e+06  "
      ]
     },
     "metadata": {},
     "output_type": "display_data"
    },
    {
     "data": {
      "text/html": [
       "<div>\n",
       "<style scoped>\n",
       "    .dataframe tbody tr th:only-of-type {\n",
       "        vertical-align: middle;\n",
       "    }\n",
       "\n",
       "    .dataframe tbody tr th {\n",
       "        vertical-align: top;\n",
       "    }\n",
       "\n",
       "    .dataframe thead th {\n",
       "        text-align: right;\n",
       "    }\n",
       "</style>\n",
       "<table border=\"1\" class=\"dataframe\">\n",
       "  <thead>\n",
       "    <tr style=\"text-align: right;\">\n",
       "      <th></th>\n",
       "      <th>education</th>\n",
       "      <th>family_status</th>\n",
       "      <th>gender</th>\n",
       "      <th>income_type</th>\n",
       "      <th>purpose</th>\n",
       "    </tr>\n",
       "  </thead>\n",
       "  <tbody>\n",
       "    <tr>\n",
       "      <th>count</th>\n",
       "      <td>21525</td>\n",
       "      <td>21525</td>\n",
       "      <td>21525</td>\n",
       "      <td>21525</td>\n",
       "      <td>21525</td>\n",
       "    </tr>\n",
       "    <tr>\n",
       "      <th>unique</th>\n",
       "      <td>15</td>\n",
       "      <td>5</td>\n",
       "      <td>3</td>\n",
       "      <td>8</td>\n",
       "      <td>38</td>\n",
       "    </tr>\n",
       "    <tr>\n",
       "      <th>top</th>\n",
       "      <td>среднее</td>\n",
       "      <td>женат / замужем</td>\n",
       "      <td>F</td>\n",
       "      <td>сотрудник</td>\n",
       "      <td>свадьба</td>\n",
       "    </tr>\n",
       "    <tr>\n",
       "      <th>freq</th>\n",
       "      <td>13750</td>\n",
       "      <td>12380</td>\n",
       "      <td>14236</td>\n",
       "      <td>11119</td>\n",
       "      <td>797</td>\n",
       "    </tr>\n",
       "  </tbody>\n",
       "</table>\n",
       "</div>"
      ],
      "text/plain": [
       "       education    family_status gender income_type  purpose\n",
       "count      21525            21525  21525       21525    21525\n",
       "unique        15                5      3           8       38\n",
       "top      среднее  женат / замужем      F   сотрудник  свадьба\n",
       "freq       13750            12380  14236       11119      797"
      ]
     },
     "execution_count": 9,
     "metadata": {},
     "output_type": "execute_result"
    }
   ],
   "source": [
    "data.info()\n",
    "display(data.head(10))\n",
    "# статистика по численным переменным\n",
    "display(data.describe())\n",
    "# статистика по категориальным переменным\n",
    "data.describe(include=['object'])"
   ]
  },
  {
   "cell_type": "markdown",
   "metadata": {},
   "source": [
    "Проверим находятся ли пропуски в колонках `days_employed` и `total_income` в одних и тех же наблюдениях."
   ]
  },
  {
   "cell_type": "code",
   "execution_count": 13,
   "metadata": {},
   "outputs": [
    {
     "data": {
      "text/plain": [
       "array([nan])"
      ]
     },
     "execution_count": 13,
     "metadata": {},
     "output_type": "execute_result"
    }
   ],
   "source": [
    "data[data['total_income'].isna()]['days_employed'].unique()"
   ]
  },
  {
   "cell_type": "markdown",
   "metadata": {},
   "source": [
    "### Вывод"
   ]
  },
  {
   "cell_type": "markdown",
   "metadata": {},
   "source": [
    "Наши данные описывают клиентов банка.\n",
    "\n",
    "* Названия колонок соответствуют стандарту. В данных есть две колонки с пропусками: `days_employed` и `total_income`. Количество пропусков совпадает. Эти пропуски находятся в одних и тех же наблюдениях.\n",
    "\n",
    "* Помимо пропусков в данных наблюдаются аномальные значения. Например, в колонке `days_employed` есть отрицательные значения и аномально большие значения. Некоторые наблюдения имеют значение `children` -1 и 20. \n",
    "\n",
    "* В колонке `education`, `family_status`, `gender`, и `purpose` есть неявные дубликаты."
   ]
  },
  {
   "cell_type": "markdown",
   "metadata": {},
   "source": [
    "## Предобработка данных"
   ]
  },
  {
   "cell_type": "markdown",
   "metadata": {},
   "source": [
    "### Обработка пропусков"
   ]
  },
  {
   "cell_type": "markdown",
   "metadata": {},
   "source": [
    "Проверим сколько пропусков есть в каждой колонке:"
   ]
  },
  {
   "cell_type": "code",
   "execution_count": 12,
   "metadata": {},
   "outputs": [
    {
     "data": {
      "text/plain": [
       "children               0\n",
       "days_employed       2174\n",
       "dob_years              0\n",
       "education              0\n",
       "education_id           0\n",
       "family_status          0\n",
       "family_status_id       0\n",
       "gender                 0\n",
       "income_type            0\n",
       "debt                   0\n",
       "total_income        2174\n",
       "purpose                0\n",
       "dtype: int64"
      ]
     },
     "execution_count": 12,
     "metadata": {},
     "output_type": "execute_result"
    }
   ],
   "source": [
    "data.isna().sum()"
   ]
  },
  {
   "cell_type": "markdown",
   "metadata": {},
   "source": [
    "Одна из потенциальных причин наличия пропусков - неправильная выгрузка данных банком. Можно запросить корректные данные у банка, но это невозможно в нашем случае. Возможно, клиенты банка не указали стаж работы и месячный доход при получении кредита (хотя, это странно). Восстанавливать пропуски по среднему или медианному значению в этом случае некорректно, так как они скорее всего не будут отражать реальную картину. У кого-то зарплата 300к, а у кого-то 50к, в среднем 175к. С трудовым стажем картина другая. Там имеются отрицательные значения. Скорее всего, произошла ошибка при выгрузке данных. Можно заменить отрицательные значения на положительные."
   ]
  },
  {
   "cell_type": "code",
   "execution_count": 14,
   "metadata": {},
   "outputs": [],
   "source": [
    "#Изменим отрицательные значения опыта работы на положительные\n",
    "data['days_employed'] = data['days_employed'].abs()"
   ]
  },
  {
   "cell_type": "markdown",
   "metadata": {},
   "source": [
    "Пропуски в общем заработке можно извлечь из типа заработка. Сгруппируем значения по типу заработка и рассчитаем медиану и среднее."
   ]
  },
  {
   "cell_type": "code",
   "execution_count": 16,
   "metadata": {},
   "outputs": [
    {
     "data": {
      "text/plain": [
       "income_type\n",
       "безработный        131339.751676\n",
       "в декрете           53829.130729\n",
       "госслужащий        170898.309923\n",
       "компаньон          202417.461462\n",
       "пенсионер          137127.465690\n",
       "предприниматель    499163.144947\n",
       "сотрудник          161380.260488\n",
       "студент             98201.625314\n",
       "Name: total_income, dtype: float64"
      ]
     },
     "metadata": {},
     "output_type": "display_data"
    },
    {
     "data": {
      "text/plain": [
       "income_type\n",
       "безработный        131339.751676\n",
       "в декрете           53829.130729\n",
       "госслужащий        150447.935283\n",
       "компаньон          172357.950966\n",
       "пенсионер          118514.486412\n",
       "предприниматель    499163.144947\n",
       "сотрудник          142594.396847\n",
       "студент             98201.625314\n",
       "Name: total_income, dtype: float64"
      ]
     },
     "execution_count": 16,
     "metadata": {},
     "output_type": "execute_result"
    }
   ],
   "source": [
    "#Проверим медиану и среднее\n",
    "display(data.groupby('income_type')['total_income'].mean())\n",
    "median_income = data.groupby('income_type')['total_income'].median()\n",
    "median_income"
   ]
  },
  {
   "cell_type": "markdown",
   "metadata": {},
   "source": [
    "<div class=\"alert alert-info\"> <b>Вопрос от студента:</b> Как обработать пропуски в колонке со стажем работы? Как я писал позже в проекте, там есть аномалии, потому что стаж, переведенный в года, составляет у некоторых несколько тысяч лет."
   ]
  },
  {
   "cell_type": "markdown",
   "metadata": {},
   "source": [
    "<div class=\"alert alert-success\">\n",
    "<b>Комментарий ревьюера v2✔️:</b>\n",
    "\n",
    "Здесь нет единого верного решения. Я бы сначала решил проблему с аномальными значениями, а потом делал заполнение пропусков. \n",
    "    \n",
    "А вот то, как решать эту проблему, зависит от твоих предположений о причинах этих самых аномальных значений.\n",
    "</div>"
   ]
  },
  {
   "cell_type": "markdown",
   "metadata": {},
   "source": [
    "Как мы видим, соотношение сохраняется."
   ]
  },
  {
   "cell_type": "markdown",
   "metadata": {},
   "source": [
    "Проверим сохраняется ли соотношение различных катеогрий у 'семейного положения':"
   ]
  },
  {
   "cell_type": "code",
   "execution_count": 10,
   "metadata": {},
   "outputs": [
    {
     "name": "stdout",
     "output_type": "stream",
     "text": [
      "женат / замужем          57.514518\n",
      "гражданский брак         19.405343\n",
      "Не женат / не замужем    13.068525\n",
      "в разводе                 5.551684\n",
      "вдовец / вдова            4.459930\n",
      "Name: family_status, dtype: float64\n"
     ]
    },
    {
     "data": {
      "text/plain": [
       "женат / замужем          57.514518\n",
       "гражданский брак         19.405343\n",
       "Не женат / не замужем    13.068525\n",
       "в разводе                 5.551684\n",
       "вдовец / вдова            4.459930\n",
       "Name: family_status, dtype: float64"
      ]
     },
     "execution_count": 10,
     "metadata": {},
     "output_type": "execute_result"
    }
   ],
   "source": [
    "print(data['family_status'].value_counts() / data.shape[0] * 100)\n",
    "data['family_status'].value_counts() / data.shape[0] * 100"
   ]
  },
  {
   "cell_type": "markdown",
   "metadata": {},
   "source": [
    "<div class=\"alert alert-success\">\n",
    "<b>Комментарий ревьюера ✔️:</b>\n",
    "    \n",
    "А то, что распределение всех данных и данных с пропусками совпадает, скорее намекает на случайность пропусков. </div>"
   ]
  },
  {
   "cell_type": "markdown",
   "metadata": {},
   "source": [
    "Здесь также нет изменений. Можем использовать таблицу с удаленными пропусками (**data_no_na**)."
   ]
  },
  {
   "cell_type": "markdown",
   "metadata": {},
   "source": [
    "Помимо явных пропусков есть еще неявные пропуски. Например, в колонке **dob_years** у некоторых наблюдений стоит 0, что невозможно. Здесь можно произвести заполнение пропусков средним или медианой. Однако, стоит проверить совпадают ли они. Для расчет медианы и среднего делали группировку по типу заработка (**income_type**) и семейному положению (**family_status**) так как эти переменные хорошо отражают возраст:"
   ]
  },
  {
   "cell_type": "code",
   "execution_count": 11,
   "metadata": {},
   "outputs": [
    {
     "data": {
      "text/plain": [
       "(income_type      family_status        \n",
       " безработный      гражданский брак         45.000000\n",
       "                  женат / замужем          31.000000\n",
       " в декрете        женат / замужем          39.000000\n",
       " госслужащий      Не женат / не замужем    36.317073\n",
       "                  в разводе                41.604938\n",
       "                  вдовец / вдова           53.222222\n",
       "                  гражданский брак         40.706107\n",
       "                  женат / замужем          40.686880\n",
       " компаньон        Не женат / не замужем    35.439206\n",
       "                  в разводе                43.058824\n",
       "                  вдовец / вдова           51.422680\n",
       "                  гражданский брак         38.501969\n",
       "                  женат / замужем          40.594333\n",
       " пенсионер        Не женат / не замужем    58.744318\n",
       "                  в разводе                58.305936\n",
       "                  вдовец / вдова           60.600372\n",
       "                  гражданский брак         58.653030\n",
       "                  женат / замужем          58.929564\n",
       " предприниматель  гражданский брак         27.000000\n",
       "                  женат / замужем          58.000000\n",
       " сотрудник        Не женат / не замужем    35.377852\n",
       "                  в разводе                42.605136\n",
       "                  вдовец / вдова           50.953571\n",
       "                  гражданский брак         39.075995\n",
       "                  женат / замужем          40.350439\n",
       " студент          Не женат / не замужем    22.000000\n",
       " Name: dob_years, dtype: float64,\n",
       " income_type      family_status        \n",
       " безработный      гражданский брак         45\n",
       "                  женат / замужем          31\n",
       " в декрете        женат / замужем          39\n",
       " госслужащий      Не женат / не замужем    34\n",
       "                  в разводе                42\n",
       "                  вдовец / вдова           53\n",
       "                  гражданский брак         41\n",
       "                  женат / замужем          40\n",
       " компаньон        Не женат / не замужем    32\n",
       "                  в разводе                43\n",
       "                  вдовец / вдова           53\n",
       "                  гражданский брак         38\n",
       "                  женат / замужем          40\n",
       " пенсионер        Не женат / не замужем    60\n",
       "                  в разводе                60\n",
       "                  вдовец / вдова           61\n",
       "                  гражданский брак         59\n",
       "                  женат / замужем          59\n",
       " предприниматель  гражданский брак         27\n",
       "                  женат / замужем          58\n",
       " сотрудник        Не женат / не замужем    33\n",
       "                  в разводе                43\n",
       "                  вдовец / вдова           51\n",
       "                  гражданский брак         39\n",
       "                  женат / замужем          40\n",
       " студент          Не женат / не замужем    22\n",
       " Name: dob_years, dtype: int64)"
      ]
     },
     "execution_count": 11,
     "metadata": {},
     "output_type": "execute_result"
    }
   ],
   "source": [
    "mean_age = data.groupby(['income_type', 'family_status'])['dob_years'].mean()\n",
    "median_age = data.groupby(['income_type', 'family_status'])['dob_years'].median()\n",
    "mean_age, median_age"
   ]
  },
  {
   "cell_type": "markdown",
   "metadata": {},
   "source": [
    "Видим что средние и медианые значения совпадают. Заполним ячейки колонки **dob_years** со значениями 0 средним в заисимости от типа дохода и семейного положения:"
   ]
  },
  {
   "cell_type": "code",
   "execution_count": 12,
   "metadata": {},
   "outputs": [
    {
     "data": {
      "text/plain": [
       "children               0\n",
       "days_employed       2174\n",
       "dob_years              0\n",
       "education              0\n",
       "education_id           0\n",
       "family_status          0\n",
       "family_status_id       0\n",
       "gender                 0\n",
       "income_type            0\n",
       "debt                   0\n",
       "total_income           0\n",
       "purpose                0\n",
       "dtype: int64"
      ]
     },
     "execution_count": 12,
     "metadata": {},
     "output_type": "execute_result"
    }
   ],
   "source": [
    "#Поместил старый код в кавычки\n",
    "\"\"\"\n",
    "print('Количество наблюдений со значениями 0 в dob_years до замены:', data_no_na[data_no_na['dob_years'] == 0]['dob_years'].count())\n",
    "\n",
    "for category in mean_age.index:\n",
    "    for row in range(data_no_na.shape[0]):\n",
    "        if data_no_na.loc[row, 'income_type'] == category[0] and data_no_na.loc[row, 'family_status'] == category[1]:\n",
    "            data_no_na.loc[row, 'dob_years'] = mean_age[category[0]][category[1]]\n",
    "            \n",
    "print('Количество наблюдений со значениями 0 в dob_years после замены на средние значения:', data_no_na[data_no_na['dob_years'] == 0]['dob_years'].count())\"\"\"\n",
    "\n",
    "#Новый код\n",
    "#Заменим 0 на NaN\n",
    "data['dob_years'].replace(0, np.nan, inplace=True)\n",
    "#Произведем замену пропусков\n",
    "data['dob_years'] = data.groupby(['income_type', 'family_status'])['dob_years'].apply(lambda x: x.fillna(x.mean()))\n",
    "#Проверим замену\n",
    "data.isna().sum()"
   ]
  },
  {
   "cell_type": "markdown",
   "metadata": {},
   "source": [
    "<div class=\"alert alert-success\">\n",
    "<b>Комментарий ревьюера ✔️:</b>\n",
    "    \n",
    "Отлично, что не заменяешь все пропуски на общую медиану!\n",
    "\n",
    "Очень хорошо, что ты пытаешься ставить гипотезы о возможных причинах проблем с данными.</div>\n",
    "\n",
    "<div class=\"alert alert-danger\">\n",
    "<s><b>Комментарий ревьюера ❌:</b>\n",
    "    \n",
    "Плохо проходиться по датафрейму циклом. Очень неоптимально. Работает долго.\n",
    "\n",
    "Я советую подумать над другим решением. Например, использовать `fillna()` для заполнения пропусков для заемщиков целой категории сразу. Или можешь придумать другое решение.</s></div>"
   ]
  },
  {
   "cell_type": "markdown",
   "metadata": {},
   "source": [
    "<div class=\"alert alert-info\"> <b>Комментарий студента:</b> Заменил цикл на fillna совместно с apply. Работает быстрее.</div>\n",
    "\n",
    "<div class=\"alert alert-success\">\n",
    "<b>Комментарий ревьюера v2✔️:</b>\n",
    "\n",
    "Хорошо.\n",
    "    \n",
    "Но, на самом деле, можно оптимизировать. Ты сейчас побновляешь полностью весь столбец по сути. А можно просто заполнить ТОЛЬКо пропуски.\n",
    "</div>"
   ]
  },
  {
   "cell_type": "markdown",
   "metadata": {},
   "source": [
    "Код сработал и произвел замены значений. В целом, пропуски в возрасте не влияют на наше исследование. Проверим что происходит с неявными пропусками в других колонках:"
   ]
  },
  {
   "cell_type": "code",
   "execution_count": 13,
   "metadata": {},
   "outputs": [
    {
     "name": "stdout",
     "output_type": "stream",
     "text": [
      "F      14236\n",
      "M       7288\n",
      "XNA        1\n",
      "Name: gender, dtype: int64\n"
     ]
    },
    {
     "data": {
      "text/html": [
       "<div>\n",
       "<style scoped>\n",
       "    .dataframe tbody tr th:only-of-type {\n",
       "        vertical-align: middle;\n",
       "    }\n",
       "\n",
       "    .dataframe tbody tr th {\n",
       "        vertical-align: top;\n",
       "    }\n",
       "\n",
       "    .dataframe thead th {\n",
       "        text-align: right;\n",
       "    }\n",
       "</style>\n",
       "<table border=\"1\" class=\"dataframe\">\n",
       "  <thead>\n",
       "    <tr style=\"text-align: right;\">\n",
       "      <th></th>\n",
       "      <th>children</th>\n",
       "      <th>days_employed</th>\n",
       "      <th>dob_years</th>\n",
       "      <th>education</th>\n",
       "      <th>education_id</th>\n",
       "      <th>family_status</th>\n",
       "      <th>family_status_id</th>\n",
       "      <th>gender</th>\n",
       "      <th>income_type</th>\n",
       "      <th>debt</th>\n",
       "      <th>total_income</th>\n",
       "      <th>purpose</th>\n",
       "    </tr>\n",
       "  </thead>\n",
       "  <tbody>\n",
       "    <tr>\n",
       "      <td>10701</td>\n",
       "      <td>0</td>\n",
       "      <td>2358.600502</td>\n",
       "      <td>24.0</td>\n",
       "      <td>неоконченное высшее</td>\n",
       "      <td>2</td>\n",
       "      <td>гражданский брак</td>\n",
       "      <td>1</td>\n",
       "      <td>XNA</td>\n",
       "      <td>компаньон</td>\n",
       "      <td>0</td>\n",
       "      <td>203905.157261</td>\n",
       "      <td>покупка недвижимости</td>\n",
       "    </tr>\n",
       "  </tbody>\n",
       "</table>\n",
       "</div>"
      ],
      "text/plain": [
       "       children  days_employed  dob_years            education  education_id  \\\n",
       "10701         0    2358.600502       24.0  неоконченное высшее             2   \n",
       "\n",
       "          family_status  family_status_id gender income_type  debt  \\\n",
       "10701  гражданский брак                 1    XNA   компаньон     0   \n",
       "\n",
       "        total_income               purpose  \n",
       "10701  203905.157261  покупка недвижимости  "
      ]
     },
     "execution_count": 13,
     "metadata": {},
     "output_type": "execute_result"
    }
   ],
   "source": [
    "print(data['gender'].value_counts())\n",
    "data[data['gender'] == 'XNA']"
   ]
  },
  {
   "cell_type": "markdown",
   "metadata": {},
   "source": [
    "В колонке **gender** есть одно наблюдений со значением 'XNA'. Странные аномалии происходят и в колонке **children**. Там есть значения -1 и 20. Если 20 еще можно понять (любят люди развлекаться), то как интерпретировать значение -1, не может быть -1 ребенок. Скорее всего произошла ошибка при выгрузке данных. Заменим значение с -1 на 1. Остальные колонки не вызывают подозрений. Можно переходить к замене типа данных."
   ]
  },
  {
   "cell_type": "code",
   "execution_count": 14,
   "metadata": {},
   "outputs": [],
   "source": [
    "#Метод abs() возвращает пинятое значение по модулю\n",
    "data['children'] = data['children'].abs()\n",
    "(data['children'].value_counts())\n",
    "data = data[data['gender'] != 'XNA']"
   ]
  },
  {
   "cell_type": "markdown",
   "metadata": {},
   "source": [
    "**Вывод**"
   ]
  },
  {
   "cell_type": "markdown",
   "metadata": {},
   "source": [
    "В данных наблюдаются явные (NaN) и неявные пропуски как в категориальных, так и в численных переменных. Пропуски в колонке **total_income** заменили на медиану по категориям из **income_type**. Пропуски в колонке **dob_years** (обозначены как 0) заменили на средние значения (~ совпадают с медианой) в срезах по семейному положение и типу заработка, хотя для проверки гипотез эта замена не играет роли. Один пропуск в колонке **gender** удалили. В колонке **children** заменили значение -1 на 1."
   ]
  },
  {
   "cell_type": "markdown",
   "metadata": {},
   "source": [
    "<div class=\"alert alert-success\">\n",
    "<b>Комментарий ревьюера ✔️:</b>\n",
    "    \n",
    "Хорошее решение.</div>"
   ]
  },
  {
   "cell_type": "markdown",
   "metadata": {},
   "source": [
    "### Замена типа данных"
   ]
  },
  {
   "cell_type": "markdown",
   "metadata": {},
   "source": [
    "Проверим тип данных во всех переменных:"
   ]
  },
  {
   "cell_type": "code",
   "execution_count": 15,
   "metadata": {},
   "outputs": [
    {
     "name": "stdout",
     "output_type": "stream",
     "text": [
      "<class 'pandas.core.frame.DataFrame'>\n",
      "Int64Index: 21524 entries, 0 to 21524\n",
      "Data columns (total 12 columns):\n",
      "children            21524 non-null int64\n",
      "days_employed       19350 non-null float64\n",
      "dob_years           21524 non-null float64\n",
      "education           21524 non-null object\n",
      "education_id        21524 non-null int64\n",
      "family_status       21524 non-null object\n",
      "family_status_id    21524 non-null int64\n",
      "gender              21524 non-null object\n",
      "income_type         21524 non-null object\n",
      "debt                21524 non-null int64\n",
      "total_income        21524 non-null float64\n",
      "purpose             21524 non-null object\n",
      "dtypes: float64(3), int64(4), object(5)\n",
      "memory usage: 2.1+ MB\n"
     ]
    }
   ],
   "source": [
    "data.info()"
   ]
  },
  {
   "cell_type": "markdown",
   "metadata": {},
   "source": [
    "В данных есть 4 колонки типа **int64**, 3 колонки типа **float64**, и 5 колонок типа **object**. Заменим числовые данные на целочисленный тип, где необходимо:"
   ]
  },
  {
   "cell_type": "markdown",
   "metadata": {},
   "source": [
    "Колонки и так находятся в численном типе, но нам нужен конкретно **int**, поэтому лучше воспользоваться методом **astype('int')**:"
   ]
  },
  {
   "cell_type": "code",
   "execution_count": 16,
   "metadata": {
    "scrolled": true
   },
   "outputs": [
    {
     "name": "stdout",
     "output_type": "stream",
     "text": [
      "<class 'pandas.core.frame.DataFrame'>\n",
      "Int64Index: 21524 entries, 0 to 21524\n",
      "Data columns (total 12 columns):\n",
      "children            21524 non-null int64\n",
      "days_employed       19350 non-null float64\n",
      "dob_years           21524 non-null int64\n",
      "education           21524 non-null object\n",
      "education_id        21524 non-null int64\n",
      "family_status       21524 non-null object\n",
      "family_status_id    21524 non-null int64\n",
      "gender              21524 non-null object\n",
      "income_type         21524 non-null object\n",
      "debt                21524 non-null int64\n",
      "total_income        21524 non-null int64\n",
      "purpose             21524 non-null object\n",
      "dtypes: float64(1), int64(6), object(5)\n",
      "memory usage: 2.1+ MB\n"
     ]
    }
   ],
   "source": [
    "#Колонку days_employed игнорирую, так как не произвел замены пропусков там\n",
    "columns_to_change = ['dob_years', 'total_income']\n",
    "for col in columns_to_change:\n",
    "    data[col] = data[col].astype('int')\n",
    "data.info()"
   ]
  },
  {
   "cell_type": "markdown",
   "metadata": {},
   "source": [
    "Изменение типа произошло успешно. Остальные переменные находятся в правильных форматах. Можно переходить к обработке дубликатов."
   ]
  },
  {
   "cell_type": "markdown",
   "metadata": {},
   "source": [
    "**Вывод**"
   ]
  },
  {
   "cell_type": "markdown",
   "metadata": {},
   "source": [
    "Было 3 колонки в формате вщественных чисел. Изменение их типа произвели с помощью метода **astype()**, так как функция **to_numeric()** автоматически определяет тип формата числа (вещественное или целое), к которому приводить число, а нам нужен конкретный формат."
   ]
  },
  {
   "cell_type": "markdown",
   "metadata": {},
   "source": [
    "<div class=\"alert alert-success\">\n",
    "<b>Комментарий ревьюера ✔️:</b>\n",
    "    \n",
    "Использование метода `astype()` — хорошее оптимальное решение для нашей задачи. Копейки вряд ли повлияют на наше исследование.\n",
    "\n",
    "А решение с `to_numeric()` можно удалить, раз оно не подходит.</div>"
   ]
  },
  {
   "cell_type": "markdown",
   "metadata": {},
   "source": [
    "### Обработка дубликатов"
   ]
  },
  {
   "cell_type": "markdown",
   "metadata": {},
   "source": [
    "Посчитаем явные дубликаты:"
   ]
  },
  {
   "cell_type": "code",
   "execution_count": 17,
   "metadata": {},
   "outputs": [
    {
     "data": {
      "text/plain": [
       "54"
      ]
     },
     "execution_count": 17,
     "metadata": {},
     "output_type": "execute_result"
    }
   ],
   "source": [
    "data.duplicated().sum()"
   ]
  },
  {
   "cell_type": "markdown",
   "metadata": {},
   "source": [
    "Есть 54 дубликата. Проверим их:"
   ]
  },
  {
   "cell_type": "code",
   "execution_count": 18,
   "metadata": {},
   "outputs": [
    {
     "data": {
      "text/html": [
       "<div>\n",
       "<style scoped>\n",
       "    .dataframe tbody tr th:only-of-type {\n",
       "        vertical-align: middle;\n",
       "    }\n",
       "\n",
       "    .dataframe tbody tr th {\n",
       "        vertical-align: top;\n",
       "    }\n",
       "\n",
       "    .dataframe thead th {\n",
       "        text-align: right;\n",
       "    }\n",
       "</style>\n",
       "<table border=\"1\" class=\"dataframe\">\n",
       "  <thead>\n",
       "    <tr style=\"text-align: right;\">\n",
       "      <th></th>\n",
       "      <th>children</th>\n",
       "      <th>days_employed</th>\n",
       "      <th>dob_years</th>\n",
       "      <th>education</th>\n",
       "      <th>education_id</th>\n",
       "      <th>family_status</th>\n",
       "      <th>family_status_id</th>\n",
       "      <th>gender</th>\n",
       "      <th>income_type</th>\n",
       "      <th>debt</th>\n",
       "      <th>total_income</th>\n",
       "      <th>purpose</th>\n",
       "    </tr>\n",
       "  </thead>\n",
       "  <tbody>\n",
       "    <tr>\n",
       "      <td>2849</td>\n",
       "      <td>0</td>\n",
       "      <td>NaN</td>\n",
       "      <td>41</td>\n",
       "      <td>среднее</td>\n",
       "      <td>1</td>\n",
       "      <td>женат / замужем</td>\n",
       "      <td>0</td>\n",
       "      <td>F</td>\n",
       "      <td>сотрудник</td>\n",
       "      <td>0</td>\n",
       "      <td>142594</td>\n",
       "      <td>покупка жилья для семьи</td>\n",
       "    </tr>\n",
       "    <tr>\n",
       "      <td>4182</td>\n",
       "      <td>1</td>\n",
       "      <td>NaN</td>\n",
       "      <td>34</td>\n",
       "      <td>ВЫСШЕЕ</td>\n",
       "      <td>0</td>\n",
       "      <td>гражданский брак</td>\n",
       "      <td>1</td>\n",
       "      <td>F</td>\n",
       "      <td>сотрудник</td>\n",
       "      <td>0</td>\n",
       "      <td>142594</td>\n",
       "      <td>свадьба</td>\n",
       "    </tr>\n",
       "    <tr>\n",
       "      <td>4851</td>\n",
       "      <td>0</td>\n",
       "      <td>NaN</td>\n",
       "      <td>60</td>\n",
       "      <td>среднее</td>\n",
       "      <td>1</td>\n",
       "      <td>гражданский брак</td>\n",
       "      <td>1</td>\n",
       "      <td>F</td>\n",
       "      <td>пенсионер</td>\n",
       "      <td>0</td>\n",
       "      <td>118514</td>\n",
       "      <td>свадьба</td>\n",
       "    </tr>\n",
       "    <tr>\n",
       "      <td>5557</td>\n",
       "      <td>0</td>\n",
       "      <td>NaN</td>\n",
       "      <td>58</td>\n",
       "      <td>среднее</td>\n",
       "      <td>1</td>\n",
       "      <td>гражданский брак</td>\n",
       "      <td>1</td>\n",
       "      <td>F</td>\n",
       "      <td>пенсионер</td>\n",
       "      <td>0</td>\n",
       "      <td>118514</td>\n",
       "      <td>сыграть свадьбу</td>\n",
       "    </tr>\n",
       "    <tr>\n",
       "      <td>7808</td>\n",
       "      <td>0</td>\n",
       "      <td>NaN</td>\n",
       "      <td>57</td>\n",
       "      <td>среднее</td>\n",
       "      <td>1</td>\n",
       "      <td>гражданский брак</td>\n",
       "      <td>1</td>\n",
       "      <td>F</td>\n",
       "      <td>пенсионер</td>\n",
       "      <td>0</td>\n",
       "      <td>118514</td>\n",
       "      <td>на проведение свадьбы</td>\n",
       "    </tr>\n",
       "    <tr>\n",
       "      <td>8583</td>\n",
       "      <td>0</td>\n",
       "      <td>NaN</td>\n",
       "      <td>58</td>\n",
       "      <td>высшее</td>\n",
       "      <td>0</td>\n",
       "      <td>Не женат / не замужем</td>\n",
       "      <td>4</td>\n",
       "      <td>F</td>\n",
       "      <td>пенсионер</td>\n",
       "      <td>0</td>\n",
       "      <td>118514</td>\n",
       "      <td>дополнительное образование</td>\n",
       "    </tr>\n",
       "    <tr>\n",
       "      <td>9238</td>\n",
       "      <td>2</td>\n",
       "      <td>NaN</td>\n",
       "      <td>34</td>\n",
       "      <td>среднее</td>\n",
       "      <td>1</td>\n",
       "      <td>женат / замужем</td>\n",
       "      <td>0</td>\n",
       "      <td>F</td>\n",
       "      <td>сотрудник</td>\n",
       "      <td>0</td>\n",
       "      <td>142594</td>\n",
       "      <td>покупка жилья для сдачи</td>\n",
       "    </tr>\n",
       "    <tr>\n",
       "      <td>9528</td>\n",
       "      <td>0</td>\n",
       "      <td>NaN</td>\n",
       "      <td>66</td>\n",
       "      <td>среднее</td>\n",
       "      <td>1</td>\n",
       "      <td>вдовец / вдова</td>\n",
       "      <td>2</td>\n",
       "      <td>F</td>\n",
       "      <td>пенсионер</td>\n",
       "      <td>0</td>\n",
       "      <td>118514</td>\n",
       "      <td>операции со своей недвижимостью</td>\n",
       "    </tr>\n",
       "    <tr>\n",
       "      <td>9627</td>\n",
       "      <td>0</td>\n",
       "      <td>NaN</td>\n",
       "      <td>56</td>\n",
       "      <td>среднее</td>\n",
       "      <td>1</td>\n",
       "      <td>женат / замужем</td>\n",
       "      <td>0</td>\n",
       "      <td>F</td>\n",
       "      <td>пенсионер</td>\n",
       "      <td>0</td>\n",
       "      <td>118514</td>\n",
       "      <td>операции со своей недвижимостью</td>\n",
       "    </tr>\n",
       "    <tr>\n",
       "      <td>10462</td>\n",
       "      <td>0</td>\n",
       "      <td>NaN</td>\n",
       "      <td>62</td>\n",
       "      <td>среднее</td>\n",
       "      <td>1</td>\n",
       "      <td>женат / замужем</td>\n",
       "      <td>0</td>\n",
       "      <td>F</td>\n",
       "      <td>пенсионер</td>\n",
       "      <td>0</td>\n",
       "      <td>118514</td>\n",
       "      <td>покупка коммерческой недвижимости</td>\n",
       "    </tr>\n",
       "    <tr>\n",
       "      <td>10697</td>\n",
       "      <td>0</td>\n",
       "      <td>NaN</td>\n",
       "      <td>40</td>\n",
       "      <td>среднее</td>\n",
       "      <td>1</td>\n",
       "      <td>гражданский брак</td>\n",
       "      <td>1</td>\n",
       "      <td>F</td>\n",
       "      <td>компаньон</td>\n",
       "      <td>0</td>\n",
       "      <td>172357</td>\n",
       "      <td>сыграть свадьбу</td>\n",
       "    </tr>\n",
       "    <tr>\n",
       "      <td>10864</td>\n",
       "      <td>0</td>\n",
       "      <td>NaN</td>\n",
       "      <td>62</td>\n",
       "      <td>среднее</td>\n",
       "      <td>1</td>\n",
       "      <td>женат / замужем</td>\n",
       "      <td>0</td>\n",
       "      <td>F</td>\n",
       "      <td>пенсионер</td>\n",
       "      <td>0</td>\n",
       "      <td>118514</td>\n",
       "      <td>ремонт жилью</td>\n",
       "    </tr>\n",
       "    <tr>\n",
       "      <td>10994</td>\n",
       "      <td>0</td>\n",
       "      <td>NaN</td>\n",
       "      <td>62</td>\n",
       "      <td>среднее</td>\n",
       "      <td>1</td>\n",
       "      <td>женат / замужем</td>\n",
       "      <td>0</td>\n",
       "      <td>F</td>\n",
       "      <td>пенсионер</td>\n",
       "      <td>0</td>\n",
       "      <td>118514</td>\n",
       "      <td>ремонт жилью</td>\n",
       "    </tr>\n",
       "    <tr>\n",
       "      <td>11791</td>\n",
       "      <td>0</td>\n",
       "      <td>NaN</td>\n",
       "      <td>47</td>\n",
       "      <td>среднее</td>\n",
       "      <td>1</td>\n",
       "      <td>женат / замужем</td>\n",
       "      <td>0</td>\n",
       "      <td>F</td>\n",
       "      <td>сотрудник</td>\n",
       "      <td>0</td>\n",
       "      <td>142594</td>\n",
       "      <td>строительство недвижимости</td>\n",
       "    </tr>\n",
       "    <tr>\n",
       "      <td>12373</td>\n",
       "      <td>0</td>\n",
       "      <td>NaN</td>\n",
       "      <td>58</td>\n",
       "      <td>среднее</td>\n",
       "      <td>1</td>\n",
       "      <td>женат / замужем</td>\n",
       "      <td>0</td>\n",
       "      <td>M</td>\n",
       "      <td>сотрудник</td>\n",
       "      <td>0</td>\n",
       "      <td>142594</td>\n",
       "      <td>покупка недвижимости</td>\n",
       "    </tr>\n",
       "    <tr>\n",
       "      <td>12375</td>\n",
       "      <td>1</td>\n",
       "      <td>NaN</td>\n",
       "      <td>37</td>\n",
       "      <td>среднее</td>\n",
       "      <td>1</td>\n",
       "      <td>женат / замужем</td>\n",
       "      <td>0</td>\n",
       "      <td>F</td>\n",
       "      <td>сотрудник</td>\n",
       "      <td>0</td>\n",
       "      <td>142594</td>\n",
       "      <td>покупка недвижимости</td>\n",
       "    </tr>\n",
       "    <tr>\n",
       "      <td>12736</td>\n",
       "      <td>0</td>\n",
       "      <td>NaN</td>\n",
       "      <td>59</td>\n",
       "      <td>среднее</td>\n",
       "      <td>1</td>\n",
       "      <td>женат / замужем</td>\n",
       "      <td>0</td>\n",
       "      <td>F</td>\n",
       "      <td>пенсионер</td>\n",
       "      <td>0</td>\n",
       "      <td>118514</td>\n",
       "      <td>заняться образованием</td>\n",
       "    </tr>\n",
       "    <tr>\n",
       "      <td>13025</td>\n",
       "      <td>1</td>\n",
       "      <td>NaN</td>\n",
       "      <td>44</td>\n",
       "      <td>среднее</td>\n",
       "      <td>1</td>\n",
       "      <td>женат / замужем</td>\n",
       "      <td>0</td>\n",
       "      <td>F</td>\n",
       "      <td>сотрудник</td>\n",
       "      <td>0</td>\n",
       "      <td>142594</td>\n",
       "      <td>сделка с подержанным автомобилем</td>\n",
       "    </tr>\n",
       "    <tr>\n",
       "      <td>13639</td>\n",
       "      <td>0</td>\n",
       "      <td>NaN</td>\n",
       "      <td>64</td>\n",
       "      <td>среднее</td>\n",
       "      <td>1</td>\n",
       "      <td>женат / замужем</td>\n",
       "      <td>0</td>\n",
       "      <td>F</td>\n",
       "      <td>пенсионер</td>\n",
       "      <td>0</td>\n",
       "      <td>118514</td>\n",
       "      <td>автомобиль</td>\n",
       "    </tr>\n",
       "    <tr>\n",
       "      <td>13773</td>\n",
       "      <td>0</td>\n",
       "      <td>NaN</td>\n",
       "      <td>35</td>\n",
       "      <td>среднее</td>\n",
       "      <td>1</td>\n",
       "      <td>гражданский брак</td>\n",
       "      <td>1</td>\n",
       "      <td>F</td>\n",
       "      <td>сотрудник</td>\n",
       "      <td>0</td>\n",
       "      <td>142594</td>\n",
       "      <td>сыграть свадьбу</td>\n",
       "    </tr>\n",
       "    <tr>\n",
       "      <td>13878</td>\n",
       "      <td>1</td>\n",
       "      <td>NaN</td>\n",
       "      <td>31</td>\n",
       "      <td>среднее</td>\n",
       "      <td>1</td>\n",
       "      <td>женат / замужем</td>\n",
       "      <td>0</td>\n",
       "      <td>F</td>\n",
       "      <td>компаньон</td>\n",
       "      <td>0</td>\n",
       "      <td>172357</td>\n",
       "      <td>покупка жилья</td>\n",
       "    </tr>\n",
       "    <tr>\n",
       "      <td>13942</td>\n",
       "      <td>0</td>\n",
       "      <td>NaN</td>\n",
       "      <td>44</td>\n",
       "      <td>среднее</td>\n",
       "      <td>1</td>\n",
       "      <td>женат / замужем</td>\n",
       "      <td>0</td>\n",
       "      <td>F</td>\n",
       "      <td>сотрудник</td>\n",
       "      <td>0</td>\n",
       "      <td>142594</td>\n",
       "      <td>приобретение автомобиля</td>\n",
       "    </tr>\n",
       "    <tr>\n",
       "      <td>14432</td>\n",
       "      <td>2</td>\n",
       "      <td>NaN</td>\n",
       "      <td>36</td>\n",
       "      <td>высшее</td>\n",
       "      <td>0</td>\n",
       "      <td>женат / замужем</td>\n",
       "      <td>0</td>\n",
       "      <td>F</td>\n",
       "      <td>госслужащий</td>\n",
       "      <td>0</td>\n",
       "      <td>150447</td>\n",
       "      <td>получение образования</td>\n",
       "    </tr>\n",
       "    <tr>\n",
       "      <td>14832</td>\n",
       "      <td>0</td>\n",
       "      <td>NaN</td>\n",
       "      <td>50</td>\n",
       "      <td>среднее</td>\n",
       "      <td>1</td>\n",
       "      <td>Не женат / не замужем</td>\n",
       "      <td>4</td>\n",
       "      <td>F</td>\n",
       "      <td>сотрудник</td>\n",
       "      <td>0</td>\n",
       "      <td>142594</td>\n",
       "      <td>недвижимость</td>\n",
       "    </tr>\n",
       "    <tr>\n",
       "      <td>15091</td>\n",
       "      <td>0</td>\n",
       "      <td>NaN</td>\n",
       "      <td>58</td>\n",
       "      <td>среднее</td>\n",
       "      <td>1</td>\n",
       "      <td>гражданский брак</td>\n",
       "      <td>1</td>\n",
       "      <td>M</td>\n",
       "      <td>сотрудник</td>\n",
       "      <td>0</td>\n",
       "      <td>142594</td>\n",
       "      <td>на проведение свадьбы</td>\n",
       "    </tr>\n",
       "    <tr>\n",
       "      <td>15188</td>\n",
       "      <td>0</td>\n",
       "      <td>NaN</td>\n",
       "      <td>60</td>\n",
       "      <td>среднее</td>\n",
       "      <td>1</td>\n",
       "      <td>женат / замужем</td>\n",
       "      <td>0</td>\n",
       "      <td>M</td>\n",
       "      <td>сотрудник</td>\n",
       "      <td>0</td>\n",
       "      <td>142594</td>\n",
       "      <td>покупка недвижимости</td>\n",
       "    </tr>\n",
       "    <tr>\n",
       "      <td>15273</td>\n",
       "      <td>0</td>\n",
       "      <td>NaN</td>\n",
       "      <td>57</td>\n",
       "      <td>среднее</td>\n",
       "      <td>1</td>\n",
       "      <td>гражданский брак</td>\n",
       "      <td>1</td>\n",
       "      <td>F</td>\n",
       "      <td>пенсионер</td>\n",
       "      <td>0</td>\n",
       "      <td>118514</td>\n",
       "      <td>свадьба</td>\n",
       "    </tr>\n",
       "    <tr>\n",
       "      <td>16176</td>\n",
       "      <td>0</td>\n",
       "      <td>NaN</td>\n",
       "      <td>47</td>\n",
       "      <td>среднее</td>\n",
       "      <td>1</td>\n",
       "      <td>женат / замужем</td>\n",
       "      <td>0</td>\n",
       "      <td>F</td>\n",
       "      <td>сотрудник</td>\n",
       "      <td>0</td>\n",
       "      <td>142594</td>\n",
       "      <td>ремонт жилью</td>\n",
       "    </tr>\n",
       "    <tr>\n",
       "      <td>16378</td>\n",
       "      <td>0</td>\n",
       "      <td>NaN</td>\n",
       "      <td>46</td>\n",
       "      <td>среднее</td>\n",
       "      <td>1</td>\n",
       "      <td>женат / замужем</td>\n",
       "      <td>0</td>\n",
       "      <td>F</td>\n",
       "      <td>сотрудник</td>\n",
       "      <td>0</td>\n",
       "      <td>142594</td>\n",
       "      <td>высшее образование</td>\n",
       "    </tr>\n",
       "    <tr>\n",
       "      <td>16902</td>\n",
       "      <td>2</td>\n",
       "      <td>NaN</td>\n",
       "      <td>39</td>\n",
       "      <td>среднее</td>\n",
       "      <td>1</td>\n",
       "      <td>гражданский брак</td>\n",
       "      <td>1</td>\n",
       "      <td>F</td>\n",
       "      <td>сотрудник</td>\n",
       "      <td>0</td>\n",
       "      <td>142594</td>\n",
       "      <td>сыграть свадьбу</td>\n",
       "    </tr>\n",
       "    <tr>\n",
       "      <td>16904</td>\n",
       "      <td>1</td>\n",
       "      <td>NaN</td>\n",
       "      <td>32</td>\n",
       "      <td>высшее</td>\n",
       "      <td>0</td>\n",
       "      <td>женат / замужем</td>\n",
       "      <td>0</td>\n",
       "      <td>F</td>\n",
       "      <td>сотрудник</td>\n",
       "      <td>0</td>\n",
       "      <td>142594</td>\n",
       "      <td>на покупку подержанного автомобиля</td>\n",
       "    </tr>\n",
       "    <tr>\n",
       "      <td>17379</td>\n",
       "      <td>0</td>\n",
       "      <td>NaN</td>\n",
       "      <td>54</td>\n",
       "      <td>высшее</td>\n",
       "      <td>0</td>\n",
       "      <td>женат / замужем</td>\n",
       "      <td>0</td>\n",
       "      <td>M</td>\n",
       "      <td>компаньон</td>\n",
       "      <td>0</td>\n",
       "      <td>172357</td>\n",
       "      <td>операции с коммерческой недвижимостью</td>\n",
       "    </tr>\n",
       "    <tr>\n",
       "      <td>17755</td>\n",
       "      <td>1</td>\n",
       "      <td>NaN</td>\n",
       "      <td>43</td>\n",
       "      <td>среднее</td>\n",
       "      <td>1</td>\n",
       "      <td>женат / замужем</td>\n",
       "      <td>0</td>\n",
       "      <td>M</td>\n",
       "      <td>сотрудник</td>\n",
       "      <td>0</td>\n",
       "      <td>142594</td>\n",
       "      <td>заняться образованием</td>\n",
       "    </tr>\n",
       "    <tr>\n",
       "      <td>17774</td>\n",
       "      <td>1</td>\n",
       "      <td>NaN</td>\n",
       "      <td>40</td>\n",
       "      <td>среднее</td>\n",
       "      <td>1</td>\n",
       "      <td>гражданский брак</td>\n",
       "      <td>1</td>\n",
       "      <td>F</td>\n",
       "      <td>компаньон</td>\n",
       "      <td>0</td>\n",
       "      <td>172357</td>\n",
       "      <td>строительство жилой недвижимости</td>\n",
       "    </tr>\n",
       "    <tr>\n",
       "      <td>18328</td>\n",
       "      <td>0</td>\n",
       "      <td>NaN</td>\n",
       "      <td>29</td>\n",
       "      <td>высшее</td>\n",
       "      <td>0</td>\n",
       "      <td>женат / замужем</td>\n",
       "      <td>0</td>\n",
       "      <td>M</td>\n",
       "      <td>сотрудник</td>\n",
       "      <td>0</td>\n",
       "      <td>142594</td>\n",
       "      <td>покупка жилой недвижимости</td>\n",
       "    </tr>\n",
       "    <tr>\n",
       "      <td>18349</td>\n",
       "      <td>1</td>\n",
       "      <td>NaN</td>\n",
       "      <td>30</td>\n",
       "      <td>высшее</td>\n",
       "      <td>0</td>\n",
       "      <td>женат / замужем</td>\n",
       "      <td>0</td>\n",
       "      <td>F</td>\n",
       "      <td>госслужащий</td>\n",
       "      <td>0</td>\n",
       "      <td>150447</td>\n",
       "      <td>покупка жилья для семьи</td>\n",
       "    </tr>\n",
       "    <tr>\n",
       "      <td>18428</td>\n",
       "      <td>0</td>\n",
       "      <td>NaN</td>\n",
       "      <td>64</td>\n",
       "      <td>среднее</td>\n",
       "      <td>1</td>\n",
       "      <td>женат / замужем</td>\n",
       "      <td>0</td>\n",
       "      <td>F</td>\n",
       "      <td>пенсионер</td>\n",
       "      <td>0</td>\n",
       "      <td>118514</td>\n",
       "      <td>жилье</td>\n",
       "    </tr>\n",
       "    <tr>\n",
       "      <td>18521</td>\n",
       "      <td>0</td>\n",
       "      <td>NaN</td>\n",
       "      <td>56</td>\n",
       "      <td>среднее</td>\n",
       "      <td>1</td>\n",
       "      <td>гражданский брак</td>\n",
       "      <td>1</td>\n",
       "      <td>F</td>\n",
       "      <td>сотрудник</td>\n",
       "      <td>0</td>\n",
       "      <td>142594</td>\n",
       "      <td>сыграть свадьбу</td>\n",
       "    </tr>\n",
       "    <tr>\n",
       "      <td>18563</td>\n",
       "      <td>0</td>\n",
       "      <td>NaN</td>\n",
       "      <td>54</td>\n",
       "      <td>среднее</td>\n",
       "      <td>1</td>\n",
       "      <td>женат / замужем</td>\n",
       "      <td>0</td>\n",
       "      <td>F</td>\n",
       "      <td>сотрудник</td>\n",
       "      <td>0</td>\n",
       "      <td>142594</td>\n",
       "      <td>операции со своей недвижимостью</td>\n",
       "    </tr>\n",
       "    <tr>\n",
       "      <td>18755</td>\n",
       "      <td>0</td>\n",
       "      <td>NaN</td>\n",
       "      <td>58</td>\n",
       "      <td>среднее</td>\n",
       "      <td>1</td>\n",
       "      <td>женат / замужем</td>\n",
       "      <td>0</td>\n",
       "      <td>F</td>\n",
       "      <td>пенсионер</td>\n",
       "      <td>0</td>\n",
       "      <td>118514</td>\n",
       "      <td>заняться образованием</td>\n",
       "    </tr>\n",
       "    <tr>\n",
       "      <td>19041</td>\n",
       "      <td>0</td>\n",
       "      <td>NaN</td>\n",
       "      <td>56</td>\n",
       "      <td>среднее</td>\n",
       "      <td>1</td>\n",
       "      <td>гражданский брак</td>\n",
       "      <td>1</td>\n",
       "      <td>F</td>\n",
       "      <td>сотрудник</td>\n",
       "      <td>0</td>\n",
       "      <td>142594</td>\n",
       "      <td>на проведение свадьбы</td>\n",
       "    </tr>\n",
       "    <tr>\n",
       "      <td>19184</td>\n",
       "      <td>0</td>\n",
       "      <td>NaN</td>\n",
       "      <td>46</td>\n",
       "      <td>среднее</td>\n",
       "      <td>1</td>\n",
       "      <td>женат / замужем</td>\n",
       "      <td>0</td>\n",
       "      <td>F</td>\n",
       "      <td>сотрудник</td>\n",
       "      <td>0</td>\n",
       "      <td>142594</td>\n",
       "      <td>свой автомобиль</td>\n",
       "    </tr>\n",
       "    <tr>\n",
       "      <td>19321</td>\n",
       "      <td>0</td>\n",
       "      <td>NaN</td>\n",
       "      <td>23</td>\n",
       "      <td>среднее</td>\n",
       "      <td>1</td>\n",
       "      <td>Не женат / не замужем</td>\n",
       "      <td>4</td>\n",
       "      <td>F</td>\n",
       "      <td>сотрудник</td>\n",
       "      <td>0</td>\n",
       "      <td>142594</td>\n",
       "      <td>сделка с подержанным автомобилем</td>\n",
       "    </tr>\n",
       "    <tr>\n",
       "      <td>19387</td>\n",
       "      <td>0</td>\n",
       "      <td>NaN</td>\n",
       "      <td>38</td>\n",
       "      <td>высшее</td>\n",
       "      <td>0</td>\n",
       "      <td>гражданский брак</td>\n",
       "      <td>1</td>\n",
       "      <td>F</td>\n",
       "      <td>компаньон</td>\n",
       "      <td>0</td>\n",
       "      <td>172357</td>\n",
       "      <td>на проведение свадьбы</td>\n",
       "    </tr>\n",
       "    <tr>\n",
       "      <td>19688</td>\n",
       "      <td>0</td>\n",
       "      <td>NaN</td>\n",
       "      <td>61</td>\n",
       "      <td>среднее</td>\n",
       "      <td>1</td>\n",
       "      <td>женат / замужем</td>\n",
       "      <td>0</td>\n",
       "      <td>F</td>\n",
       "      <td>пенсионер</td>\n",
       "      <td>0</td>\n",
       "      <td>118514</td>\n",
       "      <td>операции с недвижимостью</td>\n",
       "    </tr>\n",
       "    <tr>\n",
       "      <td>19832</td>\n",
       "      <td>0</td>\n",
       "      <td>NaN</td>\n",
       "      <td>48</td>\n",
       "      <td>среднее</td>\n",
       "      <td>1</td>\n",
       "      <td>женат / замужем</td>\n",
       "      <td>0</td>\n",
       "      <td>F</td>\n",
       "      <td>сотрудник</td>\n",
       "      <td>0</td>\n",
       "      <td>142594</td>\n",
       "      <td>ремонт жилью</td>\n",
       "    </tr>\n",
       "    <tr>\n",
       "      <td>19946</td>\n",
       "      <td>0</td>\n",
       "      <td>NaN</td>\n",
       "      <td>57</td>\n",
       "      <td>среднее</td>\n",
       "      <td>1</td>\n",
       "      <td>женат / замужем</td>\n",
       "      <td>0</td>\n",
       "      <td>F</td>\n",
       "      <td>сотрудник</td>\n",
       "      <td>0</td>\n",
       "      <td>142594</td>\n",
       "      <td>сделка с подержанным автомобилем</td>\n",
       "    </tr>\n",
       "    <tr>\n",
       "      <td>20116</td>\n",
       "      <td>0</td>\n",
       "      <td>NaN</td>\n",
       "      <td>57</td>\n",
       "      <td>среднее</td>\n",
       "      <td>1</td>\n",
       "      <td>гражданский брак</td>\n",
       "      <td>1</td>\n",
       "      <td>M</td>\n",
       "      <td>пенсионер</td>\n",
       "      <td>0</td>\n",
       "      <td>118514</td>\n",
       "      <td>свадьба</td>\n",
       "    </tr>\n",
       "    <tr>\n",
       "      <td>20165</td>\n",
       "      <td>0</td>\n",
       "      <td>NaN</td>\n",
       "      <td>42</td>\n",
       "      <td>среднее</td>\n",
       "      <td>1</td>\n",
       "      <td>женат / замужем</td>\n",
       "      <td>0</td>\n",
       "      <td>F</td>\n",
       "      <td>сотрудник</td>\n",
       "      <td>0</td>\n",
       "      <td>142594</td>\n",
       "      <td>покупка жилья для семьи</td>\n",
       "    </tr>\n",
       "    <tr>\n",
       "      <td>20702</td>\n",
       "      <td>0</td>\n",
       "      <td>NaN</td>\n",
       "      <td>64</td>\n",
       "      <td>среднее</td>\n",
       "      <td>1</td>\n",
       "      <td>женат / замужем</td>\n",
       "      <td>0</td>\n",
       "      <td>F</td>\n",
       "      <td>пенсионер</td>\n",
       "      <td>0</td>\n",
       "      <td>118514</td>\n",
       "      <td>дополнительное образование</td>\n",
       "    </tr>\n",
       "    <tr>\n",
       "      <td>21032</td>\n",
       "      <td>0</td>\n",
       "      <td>NaN</td>\n",
       "      <td>60</td>\n",
       "      <td>среднее</td>\n",
       "      <td>1</td>\n",
       "      <td>женат / замужем</td>\n",
       "      <td>0</td>\n",
       "      <td>F</td>\n",
       "      <td>пенсионер</td>\n",
       "      <td>0</td>\n",
       "      <td>118514</td>\n",
       "      <td>заняться образованием</td>\n",
       "    </tr>\n",
       "    <tr>\n",
       "      <td>21132</td>\n",
       "      <td>0</td>\n",
       "      <td>NaN</td>\n",
       "      <td>47</td>\n",
       "      <td>среднее</td>\n",
       "      <td>1</td>\n",
       "      <td>женат / замужем</td>\n",
       "      <td>0</td>\n",
       "      <td>F</td>\n",
       "      <td>сотрудник</td>\n",
       "      <td>0</td>\n",
       "      <td>142594</td>\n",
       "      <td>ремонт жилью</td>\n",
       "    </tr>\n",
       "    <tr>\n",
       "      <td>21281</td>\n",
       "      <td>1</td>\n",
       "      <td>NaN</td>\n",
       "      <td>30</td>\n",
       "      <td>высшее</td>\n",
       "      <td>0</td>\n",
       "      <td>женат / замужем</td>\n",
       "      <td>0</td>\n",
       "      <td>F</td>\n",
       "      <td>сотрудник</td>\n",
       "      <td>0</td>\n",
       "      <td>142594</td>\n",
       "      <td>покупка коммерческой недвижимости</td>\n",
       "    </tr>\n",
       "    <tr>\n",
       "      <td>21415</td>\n",
       "      <td>0</td>\n",
       "      <td>NaN</td>\n",
       "      <td>54</td>\n",
       "      <td>среднее</td>\n",
       "      <td>1</td>\n",
       "      <td>женат / замужем</td>\n",
       "      <td>0</td>\n",
       "      <td>F</td>\n",
       "      <td>пенсионер</td>\n",
       "      <td>0</td>\n",
       "      <td>118514</td>\n",
       "      <td>операции с жильем</td>\n",
       "    </tr>\n",
       "  </tbody>\n",
       "</table>\n",
       "</div>"
      ],
      "text/plain": [
       "       children  days_employed  dob_years education  education_id  \\\n",
       "2849          0            NaN         41   среднее             1   \n",
       "4182          1            NaN         34    ВЫСШЕЕ             0   \n",
       "4851          0            NaN         60   среднее             1   \n",
       "5557          0            NaN         58   среднее             1   \n",
       "7808          0            NaN         57   среднее             1   \n",
       "8583          0            NaN         58    высшее             0   \n",
       "9238          2            NaN         34   среднее             1   \n",
       "9528          0            NaN         66   среднее             1   \n",
       "9627          0            NaN         56   среднее             1   \n",
       "10462         0            NaN         62   среднее             1   \n",
       "10697         0            NaN         40   среднее             1   \n",
       "10864         0            NaN         62   среднее             1   \n",
       "10994         0            NaN         62   среднее             1   \n",
       "11791         0            NaN         47   среднее             1   \n",
       "12373         0            NaN         58   среднее             1   \n",
       "12375         1            NaN         37   среднее             1   \n",
       "12736         0            NaN         59   среднее             1   \n",
       "13025         1            NaN         44   среднее             1   \n",
       "13639         0            NaN         64   среднее             1   \n",
       "13773         0            NaN         35   среднее             1   \n",
       "13878         1            NaN         31   среднее             1   \n",
       "13942         0            NaN         44   среднее             1   \n",
       "14432         2            NaN         36    высшее             0   \n",
       "14832         0            NaN         50   среднее             1   \n",
       "15091         0            NaN         58   среднее             1   \n",
       "15188         0            NaN         60   среднее             1   \n",
       "15273         0            NaN         57   среднее             1   \n",
       "16176         0            NaN         47   среднее             1   \n",
       "16378         0            NaN         46   среднее             1   \n",
       "16902         2            NaN         39   среднее             1   \n",
       "16904         1            NaN         32    высшее             0   \n",
       "17379         0            NaN         54    высшее             0   \n",
       "17755         1            NaN         43   среднее             1   \n",
       "17774         1            NaN         40   среднее             1   \n",
       "18328         0            NaN         29    высшее             0   \n",
       "18349         1            NaN         30    высшее             0   \n",
       "18428         0            NaN         64   среднее             1   \n",
       "18521         0            NaN         56   среднее             1   \n",
       "18563         0            NaN         54   среднее             1   \n",
       "18755         0            NaN         58   среднее             1   \n",
       "19041         0            NaN         56   среднее             1   \n",
       "19184         0            NaN         46   среднее             1   \n",
       "19321         0            NaN         23   среднее             1   \n",
       "19387         0            NaN         38    высшее             0   \n",
       "19688         0            NaN         61   среднее             1   \n",
       "19832         0            NaN         48   среднее             1   \n",
       "19946         0            NaN         57   среднее             1   \n",
       "20116         0            NaN         57   среднее             1   \n",
       "20165         0            NaN         42   среднее             1   \n",
       "20702         0            NaN         64   среднее             1   \n",
       "21032         0            NaN         60   среднее             1   \n",
       "21132         0            NaN         47   среднее             1   \n",
       "21281         1            NaN         30    высшее             0   \n",
       "21415         0            NaN         54   среднее             1   \n",
       "\n",
       "               family_status  family_status_id gender  income_type  debt  \\\n",
       "2849         женат / замужем                 0      F    сотрудник     0   \n",
       "4182        гражданский брак                 1      F    сотрудник     0   \n",
       "4851        гражданский брак                 1      F    пенсионер     0   \n",
       "5557        гражданский брак                 1      F    пенсионер     0   \n",
       "7808        гражданский брак                 1      F    пенсионер     0   \n",
       "8583   Не женат / не замужем                 4      F    пенсионер     0   \n",
       "9238         женат / замужем                 0      F    сотрудник     0   \n",
       "9528          вдовец / вдова                 2      F    пенсионер     0   \n",
       "9627         женат / замужем                 0      F    пенсионер     0   \n",
       "10462        женат / замужем                 0      F    пенсионер     0   \n",
       "10697       гражданский брак                 1      F    компаньон     0   \n",
       "10864        женат / замужем                 0      F    пенсионер     0   \n",
       "10994        женат / замужем                 0      F    пенсионер     0   \n",
       "11791        женат / замужем                 0      F    сотрудник     0   \n",
       "12373        женат / замужем                 0      M    сотрудник     0   \n",
       "12375        женат / замужем                 0      F    сотрудник     0   \n",
       "12736        женат / замужем                 0      F    пенсионер     0   \n",
       "13025        женат / замужем                 0      F    сотрудник     0   \n",
       "13639        женат / замужем                 0      F    пенсионер     0   \n",
       "13773       гражданский брак                 1      F    сотрудник     0   \n",
       "13878        женат / замужем                 0      F    компаньон     0   \n",
       "13942        женат / замужем                 0      F    сотрудник     0   \n",
       "14432        женат / замужем                 0      F  госслужащий     0   \n",
       "14832  Не женат / не замужем                 4      F    сотрудник     0   \n",
       "15091       гражданский брак                 1      M    сотрудник     0   \n",
       "15188        женат / замужем                 0      M    сотрудник     0   \n",
       "15273       гражданский брак                 1      F    пенсионер     0   \n",
       "16176        женат / замужем                 0      F    сотрудник     0   \n",
       "16378        женат / замужем                 0      F    сотрудник     0   \n",
       "16902       гражданский брак                 1      F    сотрудник     0   \n",
       "16904        женат / замужем                 0      F    сотрудник     0   \n",
       "17379        женат / замужем                 0      M    компаньон     0   \n",
       "17755        женат / замужем                 0      M    сотрудник     0   \n",
       "17774       гражданский брак                 1      F    компаньон     0   \n",
       "18328        женат / замужем                 0      M    сотрудник     0   \n",
       "18349        женат / замужем                 0      F  госслужащий     0   \n",
       "18428        женат / замужем                 0      F    пенсионер     0   \n",
       "18521       гражданский брак                 1      F    сотрудник     0   \n",
       "18563        женат / замужем                 0      F    сотрудник     0   \n",
       "18755        женат / замужем                 0      F    пенсионер     0   \n",
       "19041       гражданский брак                 1      F    сотрудник     0   \n",
       "19184        женат / замужем                 0      F    сотрудник     0   \n",
       "19321  Не женат / не замужем                 4      F    сотрудник     0   \n",
       "19387       гражданский брак                 1      F    компаньон     0   \n",
       "19688        женат / замужем                 0      F    пенсионер     0   \n",
       "19832        женат / замужем                 0      F    сотрудник     0   \n",
       "19946        женат / замужем                 0      F    сотрудник     0   \n",
       "20116       гражданский брак                 1      M    пенсионер     0   \n",
       "20165        женат / замужем                 0      F    сотрудник     0   \n",
       "20702        женат / замужем                 0      F    пенсионер     0   \n",
       "21032        женат / замужем                 0      F    пенсионер     0   \n",
       "21132        женат / замужем                 0      F    сотрудник     0   \n",
       "21281        женат / замужем                 0      F    сотрудник     0   \n",
       "21415        женат / замужем                 0      F    пенсионер     0   \n",
       "\n",
       "       total_income                                purpose  \n",
       "2849         142594                покупка жилья для семьи  \n",
       "4182         142594                                свадьба  \n",
       "4851         118514                                свадьба  \n",
       "5557         118514                        сыграть свадьбу  \n",
       "7808         118514                  на проведение свадьбы  \n",
       "8583         118514             дополнительное образование  \n",
       "9238         142594                покупка жилья для сдачи  \n",
       "9528         118514        операции со своей недвижимостью  \n",
       "9627         118514        операции со своей недвижимостью  \n",
       "10462        118514      покупка коммерческой недвижимости  \n",
       "10697        172357                        сыграть свадьбу  \n",
       "10864        118514                           ремонт жилью  \n",
       "10994        118514                           ремонт жилью  \n",
       "11791        142594             строительство недвижимости  \n",
       "12373        142594                   покупка недвижимости  \n",
       "12375        142594                   покупка недвижимости  \n",
       "12736        118514                  заняться образованием  \n",
       "13025        142594       сделка с подержанным автомобилем  \n",
       "13639        118514                             автомобиль  \n",
       "13773        142594                        сыграть свадьбу  \n",
       "13878        172357                          покупка жилья  \n",
       "13942        142594                приобретение автомобиля  \n",
       "14432        150447                  получение образования  \n",
       "14832        142594                           недвижимость  \n",
       "15091        142594                  на проведение свадьбы  \n",
       "15188        142594                   покупка недвижимости  \n",
       "15273        118514                                свадьба  \n",
       "16176        142594                           ремонт жилью  \n",
       "16378        142594                     высшее образование  \n",
       "16902        142594                        сыграть свадьбу  \n",
       "16904        142594     на покупку подержанного автомобиля  \n",
       "17379        172357  операции с коммерческой недвижимостью  \n",
       "17755        142594                  заняться образованием  \n",
       "17774        172357       строительство жилой недвижимости  \n",
       "18328        142594             покупка жилой недвижимости  \n",
       "18349        150447                покупка жилья для семьи  \n",
       "18428        118514                                  жилье  \n",
       "18521        142594                        сыграть свадьбу  \n",
       "18563        142594        операции со своей недвижимостью  \n",
       "18755        118514                  заняться образованием  \n",
       "19041        142594                  на проведение свадьбы  \n",
       "19184        142594                        свой автомобиль  \n",
       "19321        142594       сделка с подержанным автомобилем  \n",
       "19387        172357                  на проведение свадьбы  \n",
       "19688        118514               операции с недвижимостью  \n",
       "19832        142594                           ремонт жилью  \n",
       "19946        142594       сделка с подержанным автомобилем  \n",
       "20116        118514                                свадьба  \n",
       "20165        142594                покупка жилья для семьи  \n",
       "20702        118514             дополнительное образование  \n",
       "21032        118514                  заняться образованием  \n",
       "21132        142594                           ремонт жилью  \n",
       "21281        142594      покупка коммерческой недвижимости  \n",
       "21415        118514                      операции с жильем  "
      ]
     },
     "execution_count": 18,
     "metadata": {},
     "output_type": "execute_result"
    }
   ],
   "source": [
    "data[data.duplicated()]"
   ]
  },
  {
   "cell_type": "markdown",
   "metadata": {},
   "source": [
    "Это явно не дубликаты. Не удаляем."
   ]
  },
  {
   "cell_type": "markdown",
   "metadata": {},
   "source": [
    "Поищем неявные дубликаты:"
   ]
  },
  {
   "cell_type": "code",
   "execution_count": 19,
   "metadata": {},
   "outputs": [
    {
     "data": {
      "text/plain": [
       "среднее                13750\n",
       "высшее                  4718\n",
       "СРЕДНЕЕ                  772\n",
       "Среднее                  711\n",
       "неоконченное высшее      667\n",
       "ВЫСШЕЕ                   274\n",
       "Высшее                   268\n",
       "начальное                250\n",
       "Неоконченное высшее       47\n",
       "НЕОКОНЧЕННОЕ ВЫСШЕЕ       29\n",
       "НАЧАЛЬНОЕ                 17\n",
       "Начальное                 15\n",
       "ученая степень             4\n",
       "УЧЕНАЯ СТЕПЕНЬ             1\n",
       "Ученая степень             1\n",
       "Name: education, dtype: int64"
      ]
     },
     "execution_count": 19,
     "metadata": {},
     "output_type": "execute_result"
    }
   ],
   "source": [
    "data['education'].value_counts()"
   ]
  },
  {
   "cell_type": "markdown",
   "metadata": {},
   "source": [
    "В колонке **education** есть неявные дубликаты. Избавимся от них переведя значения в этой колонке к прописному регистру с помощью метода **str.lower()** и проверим сколько категорий останется, посчитаем сумму наблюдений. Этот метод сработает только если одно и тоже образование записано в разном регистре без ошибок (напр.: ВЫСШЕЕ и Высше посчитались бы как разные категории). В нашем удачном случае все так:"
   ]
  },
  {
   "cell_type": "code",
   "execution_count": 20,
   "metadata": {},
   "outputs": [
    {
     "name": "stdout",
     "output_type": "stream",
     "text": [
      "среднее                15233\n",
      "высшее                  5260\n",
      "неоконченное высшее      743\n",
      "начальное                282\n",
      "ученая степень             6\n",
      "Name: education, dtype: int64\n"
     ]
    },
    {
     "data": {
      "text/plain": [
       "21524"
      ]
     },
     "execution_count": 20,
     "metadata": {},
     "output_type": "execute_result"
    }
   ],
   "source": [
    "data['education'] = data['education'].str.lower()\n",
    "print(data['education'].value_counts())\n",
    "data['education'].count()"
   ]
  },
  {
   "cell_type": "markdown",
   "metadata": {},
   "source": [
    "<div class=\"alert alert-success\">\n",
    "<b>Комментарий ревьюера ✔️:</b> \n",
    "    \n",
    "Замечательно, что ты привел к единому регистру значения образования.\n",
    "</div>\n",
    "\n",
    "<div class=\"alert alert-warning\">\n",
    "<s><b>Комментарий ревьюера ⚠️:</b>\n",
    "    \n",
    "Почему бы для подсчета количества записей не использовать просто метод `count()`?</s></div>"
   ]
  },
  {
   "cell_type": "markdown",
   "metadata": {},
   "source": [
    "<div class=\"alert alert-info\"> <b>Комментарий студента:</b> Испоьзовал count().</div>\n",
    "\n",
    "<div class=\"alert alert-success\">\n",
    "<b>Комментарий ревьюера v2✔️:</b>\n",
    "\n",
    "Так более логично, да.\n",
    "</div>"
   ]
  },
  {
   "cell_type": "markdown",
   "metadata": {},
   "source": [
    "В результате у нас есть 5 категорий образования. Количество наблюдений сохранилось. Проверим неявные дубликаты в колонке **family_status**:"
   ]
  },
  {
   "cell_type": "code",
   "execution_count": 21,
   "metadata": {},
   "outputs": [
    {
     "data": {
      "text/plain": [
       "женат / замужем          12380\n",
       "гражданский брак          4176\n",
       "Не женат / не замужем     2813\n",
       "в разводе                 1195\n",
       "вдовец / вдова             960\n",
       "Name: family_status, dtype: int64"
      ]
     },
     "execution_count": 21,
     "metadata": {},
     "output_type": "execute_result"
    }
   ],
   "source": [
    "data['family_status'].value_counts()"
   ]
  },
  {
   "cell_type": "markdown",
   "metadata": {},
   "source": [
    "Все выглядит хорошо. Следующие колонки **income_type** и **purpose**:"
   ]
  },
  {
   "cell_type": "code",
   "execution_count": 22,
   "metadata": {},
   "outputs": [
    {
     "name": "stdout",
     "output_type": "stream",
     "text": [
      "сотрудник          11119\n",
      "компаньон           5084\n",
      "пенсионер           3856\n",
      "госслужащий         1459\n",
      "безработный            2\n",
      "предприниматель        2\n",
      "студент                1\n",
      "в декрете              1\n",
      "Name: income_type, dtype: int64\n"
     ]
    },
    {
     "data": {
      "text/plain": [
       "свадьба                                   797\n",
       "на проведение свадьбы                     777\n",
       "сыграть свадьбу                           774\n",
       "операции с недвижимостью                  676\n",
       "покупка коммерческой недвижимости         664\n",
       "операции с жильем                         653\n",
       "покупка жилья для сдачи                   653\n",
       "операции с коммерческой недвижимостью     651\n",
       "покупка жилья                             647\n",
       "жилье                                     647\n",
       "покупка жилья для семьи                   641\n",
       "строительство собственной недвижимости    635\n",
       "недвижимость                              634\n",
       "операции со своей недвижимостью           630\n",
       "строительство жилой недвижимости          626\n",
       "покупка недвижимости                      623\n",
       "строительство недвижимости                620\n",
       "покупка своего жилья                      620\n",
       "ремонт жилью                              612\n",
       "покупка жилой недвижимости                607\n",
       "на покупку своего автомобиля              505\n",
       "заняться высшим образованием              496\n",
       "автомобиль                                495\n",
       "сделка с подержанным автомобилем          489\n",
       "свой автомобиль                           480\n",
       "на покупку подержанного автомобиля        479\n",
       "автомобили                                478\n",
       "на покупку автомобиля                     472\n",
       "дополнительное образование                462\n",
       "приобретение автомобиля                   462\n",
       "сделка с автомобилем                      455\n",
       "высшее образование                        453\n",
       "получение дополнительного образования     447\n",
       "образование                               447\n",
       "получение образования                     443\n",
       "профильное образование                    436\n",
       "получение высшего образования             426\n",
       "заняться образованием                     412\n",
       "Name: purpose, dtype: int64"
      ]
     },
     "execution_count": 22,
     "metadata": {},
     "output_type": "execute_result"
    }
   ],
   "source": [
    "print(data['income_type'].value_counts())\n",
    "data['purpose'].value_counts()"
   ]
  },
  {
   "cell_type": "markdown",
   "metadata": {},
   "source": [
    "В колонке **purpose** есть неявные дубликаты, убрать их будет сложно ручными методами. Поэтому, сделаем это на слудеющем шаге в ходе лемматизации."
   ]
  },
  {
   "cell_type": "markdown",
   "metadata": {},
   "source": [
    "**Вывод**"
   ]
  },
  {
   "cell_type": "markdown",
   "metadata": {},
   "source": [
    "Дубликаты в колонке **education** появились, скорее всего, из-за того, что разные люди по-разному записывают свое образование (кто-то заглавными буквами, кто-то только прописными). Также и с колонкой **purpose**, для людей 'сыграть свадьбу' и 'свадьба' имеют один и тот же смысл, но для Data Science то две разные категории."
   ]
  },
  {
   "cell_type": "markdown",
   "metadata": {},
   "source": [
    "<div class=\"alert alert-success\">\n",
    "<b>Комментарий ревьюера ✔️:</b>\n",
    "    \n",
    "Молодец, что рассмотрел все поля!\n",
    "</div>"
   ]
  },
  {
   "cell_type": "markdown",
   "metadata": {},
   "source": [
    "<div class=\"alert alert-warning\">\n",
    "<s><b>Комментарий ревьюера ⚠️:</b>\n",
    "    \n",
    "Общий комментарий к предобработке:\n",
    "\n",
    "Остались кейсы, в которых стаж превосходит возраст. Можно также попытаться исправить эту проблему.</s></div>"
   ]
  },
  {
   "cell_type": "markdown",
   "metadata": {},
   "source": [
    "Попрбуем исправить строки, где стаж превышает возраст:"
   ]
  },
  {
   "cell_type": "code",
   "execution_count": 23,
   "metadata": {},
   "outputs": [
    {
     "name": "stdout",
     "output_type": "stream",
     "text": [
      "пенсионер      3443\n",
      "безработный       2\n",
      "Name: income_type, dtype: int64\n"
     ]
    },
    {
     "data": {
      "text/html": [
       "<div>\n",
       "<style scoped>\n",
       "    .dataframe tbody tr th:only-of-type {\n",
       "        vertical-align: middle;\n",
       "    }\n",
       "\n",
       "    .dataframe tbody tr th {\n",
       "        vertical-align: top;\n",
       "    }\n",
       "\n",
       "    .dataframe thead th {\n",
       "        text-align: right;\n",
       "    }\n",
       "</style>\n",
       "<table border=\"1\" class=\"dataframe\">\n",
       "  <thead>\n",
       "    <tr style=\"text-align: right;\">\n",
       "      <th></th>\n",
       "      <th>children</th>\n",
       "      <th>days_employed</th>\n",
       "      <th>dob_years</th>\n",
       "      <th>education</th>\n",
       "      <th>education_id</th>\n",
       "      <th>family_status</th>\n",
       "      <th>family_status_id</th>\n",
       "      <th>gender</th>\n",
       "      <th>income_type</th>\n",
       "      <th>debt</th>\n",
       "      <th>total_income</th>\n",
       "      <th>purpose</th>\n",
       "    </tr>\n",
       "  </thead>\n",
       "  <tbody>\n",
       "    <tr>\n",
       "      <td>4</td>\n",
       "      <td>0</td>\n",
       "      <td>340266.072047</td>\n",
       "      <td>53</td>\n",
       "      <td>среднее</td>\n",
       "      <td>1</td>\n",
       "      <td>гражданский брак</td>\n",
       "      <td>1</td>\n",
       "      <td>F</td>\n",
       "      <td>пенсионер</td>\n",
       "      <td>0</td>\n",
       "      <td>158616</td>\n",
       "      <td>сыграть свадьбу</td>\n",
       "    </tr>\n",
       "    <tr>\n",
       "      <td>18</td>\n",
       "      <td>0</td>\n",
       "      <td>400281.136913</td>\n",
       "      <td>53</td>\n",
       "      <td>среднее</td>\n",
       "      <td>1</td>\n",
       "      <td>вдовец / вдова</td>\n",
       "      <td>2</td>\n",
       "      <td>F</td>\n",
       "      <td>пенсионер</td>\n",
       "      <td>0</td>\n",
       "      <td>56823</td>\n",
       "      <td>на покупку подержанного автомобиля</td>\n",
       "    </tr>\n",
       "    <tr>\n",
       "      <td>24</td>\n",
       "      <td>1</td>\n",
       "      <td>338551.952911</td>\n",
       "      <td>57</td>\n",
       "      <td>среднее</td>\n",
       "      <td>1</td>\n",
       "      <td>Не женат / не замужем</td>\n",
       "      <td>4</td>\n",
       "      <td>F</td>\n",
       "      <td>пенсионер</td>\n",
       "      <td>0</td>\n",
       "      <td>290547</td>\n",
       "      <td>операции с коммерческой недвижимостью</td>\n",
       "    </tr>\n",
       "    <tr>\n",
       "      <td>25</td>\n",
       "      <td>0</td>\n",
       "      <td>363548.489348</td>\n",
       "      <td>67</td>\n",
       "      <td>среднее</td>\n",
       "      <td>1</td>\n",
       "      <td>женат / замужем</td>\n",
       "      <td>0</td>\n",
       "      <td>M</td>\n",
       "      <td>пенсионер</td>\n",
       "      <td>0</td>\n",
       "      <td>55112</td>\n",
       "      <td>покупка недвижимости</td>\n",
       "    </tr>\n",
       "    <tr>\n",
       "      <td>30</td>\n",
       "      <td>1</td>\n",
       "      <td>335581.668515</td>\n",
       "      <td>62</td>\n",
       "      <td>среднее</td>\n",
       "      <td>1</td>\n",
       "      <td>женат / замужем</td>\n",
       "      <td>0</td>\n",
       "      <td>F</td>\n",
       "      <td>пенсионер</td>\n",
       "      <td>0</td>\n",
       "      <td>171456</td>\n",
       "      <td>операции с коммерческой недвижимостью</td>\n",
       "    </tr>\n",
       "    <tr>\n",
       "      <td>35</td>\n",
       "      <td>0</td>\n",
       "      <td>394021.072184</td>\n",
       "      <td>68</td>\n",
       "      <td>среднее</td>\n",
       "      <td>1</td>\n",
       "      <td>гражданский брак</td>\n",
       "      <td>1</td>\n",
       "      <td>M</td>\n",
       "      <td>пенсионер</td>\n",
       "      <td>0</td>\n",
       "      <td>77805</td>\n",
       "      <td>на проведение свадьбы</td>\n",
       "    </tr>\n",
       "    <tr>\n",
       "      <td>50</td>\n",
       "      <td>0</td>\n",
       "      <td>353731.432338</td>\n",
       "      <td>63</td>\n",
       "      <td>среднее</td>\n",
       "      <td>1</td>\n",
       "      <td>женат / замужем</td>\n",
       "      <td>0</td>\n",
       "      <td>F</td>\n",
       "      <td>пенсионер</td>\n",
       "      <td>0</td>\n",
       "      <td>92342</td>\n",
       "      <td>автомобили</td>\n",
       "    </tr>\n",
       "    <tr>\n",
       "      <td>56</td>\n",
       "      <td>0</td>\n",
       "      <td>370145.087237</td>\n",
       "      <td>64</td>\n",
       "      <td>среднее</td>\n",
       "      <td>1</td>\n",
       "      <td>вдовец / вдова</td>\n",
       "      <td>2</td>\n",
       "      <td>F</td>\n",
       "      <td>пенсионер</td>\n",
       "      <td>0</td>\n",
       "      <td>149141</td>\n",
       "      <td>образование</td>\n",
       "    </tr>\n",
       "    <tr>\n",
       "      <td>71</td>\n",
       "      <td>0</td>\n",
       "      <td>338113.529892</td>\n",
       "      <td>62</td>\n",
       "      <td>среднее</td>\n",
       "      <td>1</td>\n",
       "      <td>женат / замужем</td>\n",
       "      <td>0</td>\n",
       "      <td>F</td>\n",
       "      <td>пенсионер</td>\n",
       "      <td>0</td>\n",
       "      <td>43929</td>\n",
       "      <td>автомобили</td>\n",
       "    </tr>\n",
       "    <tr>\n",
       "      <td>78</td>\n",
       "      <td>0</td>\n",
       "      <td>359722.945074</td>\n",
       "      <td>61</td>\n",
       "      <td>высшее</td>\n",
       "      <td>0</td>\n",
       "      <td>женат / замужем</td>\n",
       "      <td>0</td>\n",
       "      <td>M</td>\n",
       "      <td>пенсионер</td>\n",
       "      <td>0</td>\n",
       "      <td>175127</td>\n",
       "      <td>сделка с автомобилем</td>\n",
       "    </tr>\n",
       "  </tbody>\n",
       "</table>\n",
       "</div>"
      ],
      "text/plain": [
       "    children  days_employed  dob_years education  education_id  \\\n",
       "4          0  340266.072047         53   среднее             1   \n",
       "18         0  400281.136913         53   среднее             1   \n",
       "24         1  338551.952911         57   среднее             1   \n",
       "25         0  363548.489348         67   среднее             1   \n",
       "30         1  335581.668515         62   среднее             1   \n",
       "35         0  394021.072184         68   среднее             1   \n",
       "50         0  353731.432338         63   среднее             1   \n",
       "56         0  370145.087237         64   среднее             1   \n",
       "71         0  338113.529892         62   среднее             1   \n",
       "78         0  359722.945074         61    высшее             0   \n",
       "\n",
       "            family_status  family_status_id gender income_type  debt  \\\n",
       "4        гражданский брак                 1      F   пенсионер     0   \n",
       "18         вдовец / вдова                 2      F   пенсионер     0   \n",
       "24  Не женат / не замужем                 4      F   пенсионер     0   \n",
       "25        женат / замужем                 0      M   пенсионер     0   \n",
       "30        женат / замужем                 0      F   пенсионер     0   \n",
       "35       гражданский брак                 1      M   пенсионер     0   \n",
       "50        женат / замужем                 0      F   пенсионер     0   \n",
       "56         вдовец / вдова                 2      F   пенсионер     0   \n",
       "71        женат / замужем                 0      F   пенсионер     0   \n",
       "78        женат / замужем                 0      M   пенсионер     0   \n",
       "\n",
       "    total_income                                purpose  \n",
       "4         158616                        сыграть свадьбу  \n",
       "18         56823     на покупку подержанного автомобиля  \n",
       "24        290547  операции с коммерческой недвижимостью  \n",
       "25         55112                   покупка недвижимости  \n",
       "30        171456  операции с коммерческой недвижимостью  \n",
       "35         77805                  на проведение свадьбы  \n",
       "50         92342                             автомобили  \n",
       "56        149141                            образование  \n",
       "71         43929                             автомобили  \n",
       "78        175127                   сделка с автомобилем  "
      ]
     },
     "execution_count": 23,
     "metadata": {},
     "output_type": "execute_result"
    }
   ],
   "source": [
    "#Посмотрим на такие строки\n",
    "anomalies = data[(data['days_employed'] / 365) > data['dob_years']]\n",
    "print(anomalies['income_type'].value_counts())\n",
    "anomalies.head(10)"
   ]
  },
  {
   "cell_type": "markdown",
   "metadata": {},
   "source": [
    "<div class=\"alert alert-info\"> <b>Комментарий студента:</b> Видим, что такие значения есть только у безработных (2 наблюдения) и пенсионеров (3443 наблюдения). Это не наталкивает ни на какую мысль. Я принял решение удалить этот столбец из исследования, так как он нам не нужен.</div>\n",
    "\n",
    "<div class=\"alert alert-success\">\n",
    "<b>Комментарий ревьюера v2✔️:</b>\n",
    "\n",
    "Ок.\n",
    "    \n",
    "Это может натолкнуть на мысль, например, что у пенсионеров стаж указан не в днях. Или еще на другие гипотезы.\n",
    "    \n",
    "Можно попробовать ограничить стаж для пенсионеров в соответствии с их возрастом.\n",
    "</div>"
   ]
  },
  {
   "cell_type": "code",
   "execution_count": 24,
   "metadata": {},
   "outputs": [
    {
     "name": "stdout",
     "output_type": "stream",
     "text": [
      "<class 'pandas.core.frame.DataFrame'>\n",
      "Int64Index: 21524 entries, 0 to 21524\n",
      "Data columns (total 11 columns):\n",
      "children            21524 non-null int64\n",
      "dob_years           21524 non-null int64\n",
      "education           21524 non-null object\n",
      "education_id        21524 non-null int64\n",
      "family_status       21524 non-null object\n",
      "family_status_id    21524 non-null int64\n",
      "gender              21524 non-null object\n",
      "income_type         21524 non-null object\n",
      "debt                21524 non-null int64\n",
      "total_income        21524 non-null int64\n",
      "purpose             21524 non-null object\n",
      "dtypes: int64(6), object(5)\n",
      "memory usage: 2.0+ MB\n"
     ]
    }
   ],
   "source": [
    "data = data.drop('days_employed', axis=1)\n",
    "data.info()"
   ]
  },
  {
   "cell_type": "markdown",
   "metadata": {},
   "source": [
    "### Лемматизация"
   ]
  },
  {
   "cell_type": "markdown",
   "metadata": {},
   "source": [
    "Проведем лемматизацию колонки **purpose** и запишем в новую переменную. Далее возьмем предпоследний элемент из каждого листа, именно в этой позиции чаще всего содержаться слова, отражающие цель:"
   ]
  },
  {
   "cell_type": "code",
   "execution_count": 25,
   "metadata": {
    "scrolled": false
   },
   "outputs": [
    {
     "data": {
      "text/plain": [
       "\"\\nm = Mystem()\\npurposes = data_no_na['purpose'].apply(m.lemmatize)\\npurposes_lemm = []\\nfor purpose in purposes:\\n    purposes_lemm.append(purpose[-2])\\n    \\n#Добавим лемматизированные цели в новую колонку в датафрейм\\ndata_no_na['purposes_lemm'] = purposes_lemm\\n\""
      ]
     },
     "execution_count": 25,
     "metadata": {},
     "output_type": "execute_result"
    }
   ],
   "source": [
    "\"\"\"\n",
    "m = Mystem()\n",
    "purposes = data_no_na['purpose'].apply(m.lemmatize)\n",
    "purposes_lemm = []\n",
    "for purpose in purposes:\n",
    "    purposes_lemm.append(purpose[-2])\n",
    "    \n",
    "#Добавим лемматизированные цели в новую колонку в датафрейм\n",
    "data_no_na['purposes_lemm'] = purposes_lemm\n",
    "\"\"\""
   ]
  },
  {
   "cell_type": "markdown",
   "metadata": {},
   "source": [
    "Посмотрим какие категории теперь есть в колонке **purposes_lemm**:"
   ]
  },
  {
   "cell_type": "code",
   "execution_count": 26,
   "metadata": {
    "scrolled": true
   },
   "outputs": [],
   "source": [
    "#data_no_na['purposes_lemm'].value_counts()"
   ]
  },
  {
   "cell_type": "markdown",
   "metadata": {},
   "source": [
    "Появились категории **сдача** и **семья**. Эти названия не отражают реальную цель взятия кредита, поэтому надо разобраться с какими реальными целями ассоциированы эти категории:"
   ]
  },
  {
   "cell_type": "code",
   "execution_count": 27,
   "metadata": {},
   "outputs": [],
   "source": [
    "#for purpose in purposes:\n",
    "    #if 'сдача' in purpose or 'семья' in purpose:\n",
    "        #print(purpose)"
   ]
  },
  {
   "cell_type": "markdown",
   "metadata": {},
   "source": [
    "Как видим, эти категории ассоциированы с покупкой жилья. Также категории **недвижимость** и **жилье** можно объединить в одну категорию **недвижимость** так как иногда люди покупают недвижимость не только для жилья, но и для коммерческих целей:"
   ]
  },
  {
   "cell_type": "code",
   "execution_count": 28,
   "metadata": {},
   "outputs": [],
   "source": [
    "#data_no_na[\"purposes_lemm\"].replace({\"сдача\": \"недвижимость\", \"семья\": \"недвижимость\", \"жилье\": \"недвижимость\"}, inplace=True)\n",
    "        \n",
    "#data_no_na['purposes_lemm'].value_counts()"
   ]
  },
  {
   "cell_type": "markdown",
   "metadata": {},
   "source": [
    "В итоге, получили 4 категории целей. Можно переходить к категоризации."
   ]
  },
  {
   "cell_type": "markdown",
   "metadata": {},
   "source": [
    "**Вывод**"
   ]
  },
  {
   "cell_type": "markdown",
   "metadata": {},
   "source": [
    "Лемматизацию проводили с помощью библиотеки **pymystem3**. Сначала получили список списков с лемматизированными целями. Затем взяли предпоследний элемент из каждого списка и добавили в новую колонку **purposes_lemm**. Таким образом мы смогли удалить большинство повторяющихся значений (напр.: покупка автомобиля и  покупка подержанного автомобиля стали категорией автомобиль). Однако, 1158 значений оказались с неправильной категорией, у некоторых наблюдений в словаре с лемматизированными целями на предпоследнем месте оказались слова \"семья\" и \"сдача\". Мы проверили с какими целями эти слова ассоциированы в оригинальной колонке **purpose**. Этой категорией оказалось жилье. Заменили \"семья\" и \"сдача\" на недвижимость, а также объединили категории **недвижимость** и **жилье**."
   ]
  },
  {
   "cell_type": "markdown",
   "metadata": {},
   "source": [
    "<div class=\"alert alert-danger\">\n",
    "<s><b>Комментарий ревьюера ❌:</b>\n",
    "    \n",
    "Всех этих ручных махинаций с семьей и сдачей можно было избежать.\n",
    "    \n",
    "1. Во-первых, хорошо заранее определиться, на какие категории мы будем разбивать цели. Для этого можно провести лемматизацию ВСЕХ целей, и подсчитать частоту, с которой встречается та или иная лемма. Так мы установим основные леммы.\n",
    "\n",
    "1. Во-вторых, не понятно, почему ты после лемматизации берешь предпоследнее слово. А остальные недостойны? Лучше оставлять все, а потом проверять наличие в них ключевых слов (основных лемм, например), относя к соответствующей категории.</s></div>"
   ]
  },
  {
   "cell_type": "markdown",
   "metadata": {},
   "source": [
    "<div class=\"alert alert-info\"> <b>Комментарий студента:</b> Я изначально хотел сделать лемматизацию таким способом, но мне не совсем понятно как соотнести нелемматизированные цели с леммами. Попробую  сделать еще раз:</div>"
   ]
  },
  {
   "cell_type": "code",
   "execution_count": 29,
   "metadata": {},
   "outputs": [
    {
     "data": {
      "text/plain": [
       "[(' ', 55199),\n",
       " ('недвижимость', 6366),\n",
       " ('покупка', 5911),\n",
       " ('жилье', 4473),\n",
       " ('автомобиль', 4315),\n",
       " ('образование', 4022),\n",
       " ('с', 2924),\n",
       " ('операция', 2610),\n",
       " ('свадьба', 2348),\n",
       " ('свой', 2235)]"
      ]
     },
     "execution_count": 29,
     "metadata": {},
     "output_type": "execute_result"
    }
   ],
   "source": [
    "m = Mystem()\n",
    "#Объединим все цели в одну строку\n",
    "purposes = ' '.join(data['purpose'])\n",
    "#Лемматизируем строку\n",
    "purposes_lemm = m.lemmatize(purposes)\n",
    "#Посчитаем частотность лемм и выведем 10 самых частых\n",
    "lemm_count = Counter(purposes_lemm)\n",
    "lemm_count.most_common(10)"
   ]
  },
  {
   "cell_type": "markdown",
   "metadata": {},
   "source": [
    "После подсчета частотности лемм видим, что можем выделить следующие основные категории: недвижимость, автомобиль, образование, и свадьба. Проведем категоризацию целей в зависимости от встречаемости лемм в них."
   ]
  },
  {
   "cell_type": "code",
   "execution_count": 30,
   "metadata": {},
   "outputs": [
    {
     "data": {
      "text/plain": [
       "недвижимость    10839\n",
       "автомобиль       4315\n",
       "образование      4022\n",
       "свадьба          2348\n",
       "Name: purposes_lemm, dtype: int64"
      ]
     },
     "execution_count": 30,
     "metadata": {},
     "output_type": "execute_result"
    }
   ],
   "source": [
    "def purpose_category(row):\n",
    "    lemm = m.lemmatize(row['purpose'])\n",
    "    if 'недвижимость' in lemm or 'жилье' in lemm:\n",
    "        return 'недвижимость'\n",
    "    if 'автомобиль' in lemm:\n",
    "        return 'автомобиль'\n",
    "    if 'свадьба' in lemm:\n",
    "        return 'свадьба'\n",
    "    if 'образование' in lemm:\n",
    "        return 'образование'\n",
    "    \n",
    "data['purposes_lemm'] = data.apply(purpose_category, axis=1)\n",
    "data['purposes_lemm'].value_counts()"
   ]
  },
  {
   "cell_type": "markdown",
   "metadata": {},
   "source": [
    "<div class=\"alert alert-success\">\n",
    "<b>Комментарий ревьюера v2✔️:</b>\n",
    "\n",
    "Это решение крутое. Ты все сделал верно, так что я не понимаю твой вопрос про нелемматизированные значения.\n",
    "    \n",
    "На всякий случай можно также добавить категорию `другое` на случай, если вдруг не учли все цели или данные поменяются.\n",
    "</div>"
   ]
  },
  {
   "cell_type": "markdown",
   "metadata": {},
   "source": [
    "### Категоризация данных"
   ]
  },
  {
   "cell_type": "markdown",
   "metadata": {},
   "source": [
    "Выделить в отдельные словари можно семейное положение, так как писать такие категории сложно, можно ошибиться в написании:"
   ]
  },
  {
   "cell_type": "code",
   "execution_count": 31,
   "metadata": {},
   "outputs": [
    {
     "data": {
      "text/html": [
       "<div>\n",
       "<style scoped>\n",
       "    .dataframe tbody tr th:only-of-type {\n",
       "        vertical-align: middle;\n",
       "    }\n",
       "\n",
       "    .dataframe tbody tr th {\n",
       "        vertical-align: top;\n",
       "    }\n",
       "\n",
       "    .dataframe thead th {\n",
       "        text-align: right;\n",
       "    }\n",
       "</style>\n",
       "<table border=\"1\" class=\"dataframe\">\n",
       "  <thead>\n",
       "    <tr style=\"text-align: right;\">\n",
       "      <th></th>\n",
       "      <th>family_status_id</th>\n",
       "      <th>family_status</th>\n",
       "    </tr>\n",
       "  </thead>\n",
       "  <tbody>\n",
       "    <tr>\n",
       "      <td>0</td>\n",
       "      <td>0</td>\n",
       "      <td>женат / замужем</td>\n",
       "    </tr>\n",
       "    <tr>\n",
       "      <td>1</td>\n",
       "      <td>1</td>\n",
       "      <td>гражданский брак</td>\n",
       "    </tr>\n",
       "    <tr>\n",
       "      <td>2</td>\n",
       "      <td>2</td>\n",
       "      <td>вдовец / вдова</td>\n",
       "    </tr>\n",
       "    <tr>\n",
       "      <td>3</td>\n",
       "      <td>3</td>\n",
       "      <td>в разводе</td>\n",
       "    </tr>\n",
       "    <tr>\n",
       "      <td>4</td>\n",
       "      <td>4</td>\n",
       "      <td>Не женат / не замужем</td>\n",
       "    </tr>\n",
       "  </tbody>\n",
       "</table>\n",
       "</div>"
      ],
      "text/plain": [
       "   family_status_id          family_status\n",
       "0                 0        женат / замужем\n",
       "1                 1       гражданский брак\n",
       "2                 2         вдовец / вдова\n",
       "3                 3              в разводе\n",
       "4                 4  Не женат / не замужем"
      ]
     },
     "execution_count": 31,
     "metadata": {},
     "output_type": "execute_result"
    }
   ],
   "source": [
    "family_status_dict = data[['family_status_id', 'family_status']]\n",
    "family_status_dict = family_status_dict.drop_duplicates().reset_index(drop=True)\n",
    "data.drop(\"family_status\", axis=1, inplace=True)\n",
    "family_status_dict"
   ]
  },
  {
   "cell_type": "markdown",
   "metadata": {},
   "source": [
    "<div class=\"alert alert-success\">\n",
    "<b>Комментарий ревьюера ✔️:</b>\n",
    "    \n",
    "👍\n",
    "</div>"
   ]
  },
  {
   "cell_type": "markdown",
   "metadata": {},
   "source": [
    "Также можно выделить различные категории зароботка, потому что при проверке гипотез мы не сможем отследить как 19351 значение зароботка по отдельности влияет на возврат кредита, а когда объединяем различные уровни зароботка в категории, становится проще:"
   ]
  },
  {
   "cell_type": "code",
   "execution_count": 32,
   "metadata": {},
   "outputs": [
    {
     "name": "stdout",
     "output_type": "stream",
     "text": [
      "Минимальный зароботок: 20667 в месяц, а максимальный: 2265604 в месяц\n"
     ]
    },
    {
     "data": {
      "text/plain": [
       "среднезарабатывающий    15652\n",
       "хорошозарабатывающий     4843\n",
       "малозарабатывющий         806\n",
       "богатый                   222\n",
       "Name: income_category, dtype: int64"
      ]
     },
     "execution_count": 32,
     "metadata": {},
     "output_type": "execute_result"
    }
   ],
   "source": [
    "#Найдем нижнюю и верхнюю границу заработка\n",
    "min_income = data['total_income'].min()\n",
    "max_income = data['total_income'].max()\n",
    "print(f'Минимальный зароботок: {min_income} в месяц, а максимальный: {max_income} в месяц')\n",
    "\n",
    "#Можно выделить 4 группы заработка: малозарабатывающие, среднезарабатывающие, зарабатывающие хорошо, и богатые\n",
    "def income_classifier(row):\n",
    "    if 20000 < row['total_income'] < 60000:\n",
    "        return 'малозарабатывющий'\n",
    "    if 60001 < row['total_income'] < 200000:\n",
    "        return 'среднезарабатывающий'\n",
    "    if 200001 < row['total_income'] < 500000:\n",
    "        return 'хорошозарабатывающий'\n",
    "    if row['total_income'] > 500000:\n",
    "        return 'богатый'\n",
    "    \n",
    "data['income_category'] = data.apply(income_classifier, axis=1)\n",
    "data['income_category'].value_counts()"
   ]
  },
  {
   "cell_type": "markdown",
   "metadata": {},
   "source": [
    "<div class=\"alert alert-success\">\n",
    "<b>Комментарий ревьюера ✔️:</b>\n",
    "    \n",
    "Здорово!\n",
    "</div>"
   ]
  },
  {
   "cell_type": "markdown",
   "metadata": {},
   "source": [
    "Можно выделить различные группы наблдений в зависимости от количества детей: бездетные, 1-3 ребенка, и многодетные:"
   ]
  },
  {
   "cell_type": "code",
   "execution_count": 33,
   "metadata": {},
   "outputs": [
    {
     "data": {
      "text/html": [
       "<div>\n",
       "<style scoped>\n",
       "    .dataframe tbody tr th:only-of-type {\n",
       "        vertical-align: middle;\n",
       "    }\n",
       "\n",
       "    .dataframe tbody tr th {\n",
       "        vertical-align: top;\n",
       "    }\n",
       "\n",
       "    .dataframe thead th {\n",
       "        text-align: right;\n",
       "    }\n",
       "</style>\n",
       "<table border=\"1\" class=\"dataframe\">\n",
       "  <thead>\n",
       "    <tr style=\"text-align: right;\">\n",
       "      <th></th>\n",
       "      <th>children</th>\n",
       "      <th>dob_years</th>\n",
       "      <th>education</th>\n",
       "      <th>education_id</th>\n",
       "      <th>family_status_id</th>\n",
       "      <th>gender</th>\n",
       "      <th>income_type</th>\n",
       "      <th>debt</th>\n",
       "      <th>total_income</th>\n",
       "      <th>purpose</th>\n",
       "      <th>purposes_lemm</th>\n",
       "      <th>income_category</th>\n",
       "      <th>children_category</th>\n",
       "    </tr>\n",
       "  </thead>\n",
       "  <tbody>\n",
       "    <tr>\n",
       "      <td>0</td>\n",
       "      <td>1</td>\n",
       "      <td>42</td>\n",
       "      <td>высшее</td>\n",
       "      <td>0</td>\n",
       "      <td>0</td>\n",
       "      <td>F</td>\n",
       "      <td>сотрудник</td>\n",
       "      <td>0</td>\n",
       "      <td>253875</td>\n",
       "      <td>покупка жилья</td>\n",
       "      <td>недвижимость</td>\n",
       "      <td>хорошозарабатывающий</td>\n",
       "      <td>малодетные</td>\n",
       "    </tr>\n",
       "    <tr>\n",
       "      <td>1</td>\n",
       "      <td>1</td>\n",
       "      <td>36</td>\n",
       "      <td>среднее</td>\n",
       "      <td>1</td>\n",
       "      <td>0</td>\n",
       "      <td>F</td>\n",
       "      <td>сотрудник</td>\n",
       "      <td>0</td>\n",
       "      <td>112080</td>\n",
       "      <td>приобретение автомобиля</td>\n",
       "      <td>автомобиль</td>\n",
       "      <td>среднезарабатывающий</td>\n",
       "      <td>малодетные</td>\n",
       "    </tr>\n",
       "    <tr>\n",
       "      <td>2</td>\n",
       "      <td>0</td>\n",
       "      <td>33</td>\n",
       "      <td>среднее</td>\n",
       "      <td>1</td>\n",
       "      <td>0</td>\n",
       "      <td>M</td>\n",
       "      <td>сотрудник</td>\n",
       "      <td>0</td>\n",
       "      <td>145885</td>\n",
       "      <td>покупка жилья</td>\n",
       "      <td>недвижимость</td>\n",
       "      <td>среднезарабатывающий</td>\n",
       "      <td>бездетные</td>\n",
       "    </tr>\n",
       "    <tr>\n",
       "      <td>3</td>\n",
       "      <td>3</td>\n",
       "      <td>32</td>\n",
       "      <td>среднее</td>\n",
       "      <td>1</td>\n",
       "      <td>0</td>\n",
       "      <td>M</td>\n",
       "      <td>сотрудник</td>\n",
       "      <td>0</td>\n",
       "      <td>267628</td>\n",
       "      <td>дополнительное образование</td>\n",
       "      <td>образование</td>\n",
       "      <td>хорошозарабатывающий</td>\n",
       "      <td>малодетные</td>\n",
       "    </tr>\n",
       "    <tr>\n",
       "      <td>4</td>\n",
       "      <td>0</td>\n",
       "      <td>53</td>\n",
       "      <td>среднее</td>\n",
       "      <td>1</td>\n",
       "      <td>1</td>\n",
       "      <td>F</td>\n",
       "      <td>пенсионер</td>\n",
       "      <td>0</td>\n",
       "      <td>158616</td>\n",
       "      <td>сыграть свадьбу</td>\n",
       "      <td>свадьба</td>\n",
       "      <td>среднезарабатывающий</td>\n",
       "      <td>бездетные</td>\n",
       "    </tr>\n",
       "    <tr>\n",
       "      <td>...</td>\n",
       "      <td>...</td>\n",
       "      <td>...</td>\n",
       "      <td>...</td>\n",
       "      <td>...</td>\n",
       "      <td>...</td>\n",
       "      <td>...</td>\n",
       "      <td>...</td>\n",
       "      <td>...</td>\n",
       "      <td>...</td>\n",
       "      <td>...</td>\n",
       "      <td>...</td>\n",
       "      <td>...</td>\n",
       "      <td>...</td>\n",
       "    </tr>\n",
       "    <tr>\n",
       "      <td>21520</td>\n",
       "      <td>1</td>\n",
       "      <td>43</td>\n",
       "      <td>среднее</td>\n",
       "      <td>1</td>\n",
       "      <td>1</td>\n",
       "      <td>F</td>\n",
       "      <td>компаньон</td>\n",
       "      <td>0</td>\n",
       "      <td>224791</td>\n",
       "      <td>операции с жильем</td>\n",
       "      <td>недвижимость</td>\n",
       "      <td>хорошозарабатывающий</td>\n",
       "      <td>малодетные</td>\n",
       "    </tr>\n",
       "    <tr>\n",
       "      <td>21521</td>\n",
       "      <td>0</td>\n",
       "      <td>67</td>\n",
       "      <td>среднее</td>\n",
       "      <td>1</td>\n",
       "      <td>0</td>\n",
       "      <td>F</td>\n",
       "      <td>пенсионер</td>\n",
       "      <td>0</td>\n",
       "      <td>155999</td>\n",
       "      <td>сделка с автомобилем</td>\n",
       "      <td>автомобиль</td>\n",
       "      <td>среднезарабатывающий</td>\n",
       "      <td>бездетные</td>\n",
       "    </tr>\n",
       "    <tr>\n",
       "      <td>21522</td>\n",
       "      <td>1</td>\n",
       "      <td>38</td>\n",
       "      <td>среднее</td>\n",
       "      <td>1</td>\n",
       "      <td>1</td>\n",
       "      <td>M</td>\n",
       "      <td>сотрудник</td>\n",
       "      <td>1</td>\n",
       "      <td>89672</td>\n",
       "      <td>недвижимость</td>\n",
       "      <td>недвижимость</td>\n",
       "      <td>среднезарабатывающий</td>\n",
       "      <td>малодетные</td>\n",
       "    </tr>\n",
       "    <tr>\n",
       "      <td>21523</td>\n",
       "      <td>3</td>\n",
       "      <td>38</td>\n",
       "      <td>среднее</td>\n",
       "      <td>1</td>\n",
       "      <td>0</td>\n",
       "      <td>M</td>\n",
       "      <td>сотрудник</td>\n",
       "      <td>1</td>\n",
       "      <td>244093</td>\n",
       "      <td>на покупку своего автомобиля</td>\n",
       "      <td>автомобиль</td>\n",
       "      <td>хорошозарабатывающий</td>\n",
       "      <td>малодетные</td>\n",
       "    </tr>\n",
       "    <tr>\n",
       "      <td>21524</td>\n",
       "      <td>2</td>\n",
       "      <td>40</td>\n",
       "      <td>среднее</td>\n",
       "      <td>1</td>\n",
       "      <td>0</td>\n",
       "      <td>F</td>\n",
       "      <td>сотрудник</td>\n",
       "      <td>0</td>\n",
       "      <td>82047</td>\n",
       "      <td>на покупку автомобиля</td>\n",
       "      <td>автомобиль</td>\n",
       "      <td>среднезарабатывающий</td>\n",
       "      <td>малодетные</td>\n",
       "    </tr>\n",
       "  </tbody>\n",
       "</table>\n",
       "<p>21524 rows × 13 columns</p>\n",
       "</div>"
      ],
      "text/plain": [
       "       children  dob_years education  education_id  family_status_id gender  \\\n",
       "0             1         42    высшее             0                 0      F   \n",
       "1             1         36   среднее             1                 0      F   \n",
       "2             0         33   среднее             1                 0      M   \n",
       "3             3         32   среднее             1                 0      M   \n",
       "4             0         53   среднее             1                 1      F   \n",
       "...         ...        ...       ...           ...               ...    ...   \n",
       "21520         1         43   среднее             1                 1      F   \n",
       "21521         0         67   среднее             1                 0      F   \n",
       "21522         1         38   среднее             1                 1      M   \n",
       "21523         3         38   среднее             1                 0      M   \n",
       "21524         2         40   среднее             1                 0      F   \n",
       "\n",
       "      income_type  debt  total_income                       purpose  \\\n",
       "0       сотрудник     0        253875                 покупка жилья   \n",
       "1       сотрудник     0        112080       приобретение автомобиля   \n",
       "2       сотрудник     0        145885                 покупка жилья   \n",
       "3       сотрудник     0        267628    дополнительное образование   \n",
       "4       пенсионер     0        158616               сыграть свадьбу   \n",
       "...           ...   ...           ...                           ...   \n",
       "21520   компаньон     0        224791             операции с жильем   \n",
       "21521   пенсионер     0        155999          сделка с автомобилем   \n",
       "21522   сотрудник     1         89672                  недвижимость   \n",
       "21523   сотрудник     1        244093  на покупку своего автомобиля   \n",
       "21524   сотрудник     0         82047         на покупку автомобиля   \n",
       "\n",
       "      purposes_lemm       income_category children_category  \n",
       "0      недвижимость  хорошозарабатывающий        малодетные  \n",
       "1        автомобиль  среднезарабатывающий        малодетные  \n",
       "2      недвижимость  среднезарабатывающий         бездетные  \n",
       "3       образование  хорошозарабатывающий        малодетные  \n",
       "4           свадьба  среднезарабатывающий         бездетные  \n",
       "...             ...                   ...               ...  \n",
       "21520  недвижимость  хорошозарабатывающий        малодетные  \n",
       "21521    автомобиль  среднезарабатывающий         бездетные  \n",
       "21522  недвижимость  среднезарабатывающий        малодетные  \n",
       "21523    автомобиль  хорошозарабатывающий        малодетные  \n",
       "21524    автомобиль  среднезарабатывающий        малодетные  \n",
       "\n",
       "[21524 rows x 13 columns]"
      ]
     },
     "execution_count": 33,
     "metadata": {},
     "output_type": "execute_result"
    }
   ],
   "source": [
    "#Создадим функцию, которая будет назначать категорию в зависимости от количества детей\n",
    "def children_category(row):\n",
    "    if row['children'] == 0:\n",
    "        return 'бездетные'\n",
    "    if row['children'] > 3:\n",
    "        return 'многодетные'\n",
    "    if 1 <= row['children'] <= 3:\n",
    "        return 'малодетные'\n",
    "\n",
    "#Присвоим значение категории в новую колонку\n",
    "data['children_category'] = data.apply(children_category, axis=1)\n",
    "data"
   ]
  },
  {
   "cell_type": "markdown",
   "metadata": {},
   "source": [
    "<div class=\"alert alert-success\">\n",
    "<b>Комментарий ревьюера ✔️:</b>\n",
    "    \n",
    "Круто, мне нравится такое разбиение.\n",
    "</div>"
   ]
  },
  {
   "cell_type": "markdown",
   "metadata": {},
   "source": [
    "<div class=\"alert alert-warning\">\n",
    "<s><b>Комментарий ревьюера ⚠️:</b>\n",
    "    \n",
    "Решение верное, но категоризацию семейного положения можно было не проводить. Мне кажется, исходные категории достаточно хорошие.</s></div>"
   ]
  },
  {
   "cell_type": "markdown",
   "metadata": {},
   "source": [
    "<div class=\"alert alert-info\"> <b>Комментарий студента:</b> Удалил код с проведением категоризации семейного положения.</div>\n",
    "\n",
    "<div class=\"alert alert-success\">\n",
    "<b>Комментарий ревьюера v2✔️:</b>\n",
    "\n",
    "👌\n",
    "</div>"
   ]
  },
  {
   "cell_type": "markdown",
   "metadata": {},
   "source": [
    "**Вывод**"
   ]
  },
  {
   "cell_type": "markdown",
   "metadata": {},
   "source": [
    "Классификацию колонки **family_status** проводили по типу, а колонки **total_income** - по уровню зароботка."
   ]
  },
  {
   "cell_type": "markdown",
   "metadata": {},
   "source": [
    "## Шаг 3. Ответьте на вопросы"
   ]
  },
  {
   "cell_type": "markdown",
   "metadata": {},
   "source": [
    "- Есть ли зависимость между наличием детей и возвратом кредита в срок?"
   ]
  },
  {
   "cell_type": "markdown",
   "metadata": {},
   "source": [
    "Чтобы ответить на этот вопрос, необходимо найти процент невозврата кредитов среди семей с различным количеством детей:"
   ]
  },
  {
   "cell_type": "markdown",
   "metadata": {},
   "source": [
    "<div class=\"alert alert-warning\">\n",
    "<s><b>Комментарий ревьюера ⚠️:</b>\n",
    "\n",
    "Некрасивое решение. После группировки можно обойтись без формирования датафрейма. Попробуй так: `data_no_na.groupby('children_category').agg({'debt': 'mean'})`. И вообще советую посмотреть примеры использования <a href=\"https://pandas.pydata.org/docs/reference/api/pandas.core.groupby.DataFrameGroupBy.aggregate.html\">agg()</a>.\n",
    "</s></div>\n",
    "\n",
    "<div class=\"alert alert-success\">\n",
    "<b>Комментарий ревьюера ✔️:</b>\n",
    "\n",
    "1. Можно задать колонке процентный вид и избавиться от умножения на 100, используя стили: `df.style.format({'column_name':'{:.2%}'})`.\n",
    "    \n",
    "2. Иногда для ответов на вопросы мало знать только долю невозврата, нужно еще знать размер выборки. Советую добавить такое поле в твою таблицу (можно задать несколько функций для агрегации).\n",
    "    \n",
    "3. Огромная похвала тебе за визуализацию результатов!\n",
    "</div>"
   ]
  },
  {
   "cell_type": "markdown",
   "metadata": {},
   "source": [
    "<div class=\"alert alert-info\"> <b>Комментарий студента:</b> Использую pivot_table() для ответа на вопросы.</div>"
   ]
  },
  {
   "cell_type": "code",
   "execution_count": 34,
   "metadata": {},
   "outputs": [
    {
     "data": {
      "text/html": [
       "<style  type=\"text/css\" >\n",
       "</style><table id=\"T_87cf4a0a_79c4_11ec_978a_02420a390c33\" ><thead>    <tr>        <th class=\"blank level0\" ></th>        <th class=\"col_heading level0 col0\" >children_category</th>        <th class=\"col_heading level0 col1\" >mean</th>        <th class=\"col_heading level0 col2\" >count</th>    </tr>    <tr>        <th class=\"blank level1\" ></th>        <th class=\"col_heading level1 col0\" ></th>        <th class=\"col_heading level1 col1\" >debt</th>        <th class=\"col_heading level1 col2\" >debt</th>    </tr></thead><tbody>\n",
       "                <tr>\n",
       "                        <th id=\"T_87cf4a0a_79c4_11ec_978a_02420a390c33level0_row0\" class=\"row_heading level0 row0\" >0</th>\n",
       "                        <td id=\"T_87cf4a0a_79c4_11ec_978a_02420a390c33row0_col0\" class=\"data row0 col0\" >бездетные</td>\n",
       "                        <td id=\"T_87cf4a0a_79c4_11ec_978a_02420a390c33row0_col1\" class=\"data row0 col1\" >7.51%</td>\n",
       "                        <td id=\"T_87cf4a0a_79c4_11ec_978a_02420a390c33row0_col2\" class=\"data row0 col2\" >14148</td>\n",
       "            </tr>\n",
       "            <tr>\n",
       "                        <th id=\"T_87cf4a0a_79c4_11ec_978a_02420a390c33level0_row1\" class=\"row_heading level0 row1\" >1</th>\n",
       "                        <td id=\"T_87cf4a0a_79c4_11ec_978a_02420a390c33row1_col0\" class=\"data row1 col0\" >малодетные</td>\n",
       "                        <td id=\"T_87cf4a0a_79c4_11ec_978a_02420a390c33row1_col1\" class=\"data row1 col1\" >9.19%</td>\n",
       "                        <td id=\"T_87cf4a0a_79c4_11ec_978a_02420a390c33row1_col2\" class=\"data row1 col2\" >7250</td>\n",
       "            </tr>\n",
       "            <tr>\n",
       "                        <th id=\"T_87cf4a0a_79c4_11ec_978a_02420a390c33level0_row2\" class=\"row_heading level0 row2\" >2</th>\n",
       "                        <td id=\"T_87cf4a0a_79c4_11ec_978a_02420a390c33row2_col0\" class=\"data row2 col0\" >многодетные</td>\n",
       "                        <td id=\"T_87cf4a0a_79c4_11ec_978a_02420a390c33row2_col1\" class=\"data row2 col1\" >9.52%</td>\n",
       "                        <td id=\"T_87cf4a0a_79c4_11ec_978a_02420a390c33row2_col2\" class=\"data row2 col2\" >126</td>\n",
       "            </tr>\n",
       "    </tbody></table>"
      ],
      "text/plain": [
       "<pandas.io.formats.style.Styler at 0x7f6b4b517510>"
      ]
     },
     "metadata": {},
     "output_type": "display_data"
    },
    {
     "data": {
      "text/plain": [
       "[Text(0, 0.5, 'Ratio of no return'), Text(0.5, 0, 'Children category')]"
      ]
     },
     "execution_count": 34,
     "metadata": {},
     "output_type": "execute_result"
    },
    {
     "data": {
      "image/png": "[encoded data removed]",
      "text/plain": [
       "<Figure size 432x288 with 1 Axes>"
      ]
     },
     "metadata": {
      "needs_background": "light"
     },
     "output_type": "display_data"
    }
   ],
   "source": [
    "by_children_result = data.pivot_table(values='debt',\n",
    "                                      index='children_category',\n",
    "                                      aggfunc=['mean', 'count']).reset_index()\n",
    "\n",
    "display(by_children_result.style.format({('mean', 'debt'):'{:.2%}'}))\n",
    "\n",
    "plot_children = sb.barplot(x='children_category',\n",
    "                           y=('mean', 'debt'),\n",
    "                           data=by_children_result)\n",
    "\n",
    "plot_children.set(xlabel='Children category',\n",
    "                  ylabel='Ratio of no return')"
   ]
  },
  {
   "cell_type": "markdown",
   "metadata": {},
   "source": [
    "<div class=\"alert alert-info\"> <b>Комментарий студента:</b> Что нам даст добавление размера выборки?</div>\n",
    "\n",
    "<div class=\"alert alert-success\">\n",
    "<b>Комментарий ревьюера v2✔️:</b>\n",
    "\n",
    "Отлично!\n",
    "\n",
    "Во-первых, знание размера выборки может дать нам, кто у нас основные заемщики. Об этом мы в том числе можем написать в выводах.\n",
    "    \n",
    "Во-вторых, это может быть показателем того, насколько вообще мы можем доверять полученному результату. Допустим, по проценту невозврата мы получаем, что лучше всего кредиты возвращает некая группа `A`. Но видим, что в ней очень мало заемщиков. Поэтому можем предположить, что полученным результатам не очень следует доверять, выборка нерепрезентативна. Как пример: люди с высшим образованием в наших данных.\n",
    "</div>"
   ]
  },
  {
   "cell_type": "markdown",
   "metadata": {},
   "source": [
    "**Вывод**"
   ]
  },
  {
   "cell_type": "markdown",
   "metadata": {},
   "source": [
    "Как видно из таблицы и графика, количество детей не влияет на возврат кредита. Семьи с разным количеством детей, задерживают возвращение кредита примерно одинаково.Однако, есть небольшая разница, многодетные семьи имеют задолженность чаще. Это можно объяснить тем, что они тратят больше денег на содержание семьи."
   ]
  },
  {
   "cell_type": "markdown",
   "metadata": {},
   "source": [
    "<div class=\"alert alert-success\">\n",
    "<b>Комментарий ревьюера ✔️:</b>\n",
    "\n",
    "Да, ты делаешь верный вывод. В случае, если разница небольшая, можно все равно попробовать описать полученные результаты.\n",
    "</div>\n",
    "\n",
    "<div class=\"alert alert-danger\">\n",
    "<s><b>Комментарий ревьюера ❌:</b>\n",
    "    \n",
    "Прекрасно, что ты умеешь применять метод `groupby()`, но мне нужно убедиться в том, что ты освоил метод `pivot_table()`. Давай получим хотя бы два ответа на вопросы с помощью этого метода?</s></div>\n",
    "\n",
    "<div class=\"alert alert-success\">\n",
    "<b>Комментарий ревьюера v2✔️:</b>\n",
    "\n",
    "Молодец.</div>"
   ]
  },
  {
   "cell_type": "markdown",
   "metadata": {},
   "source": [
    "- Есть ли зависимость между семейным положением и возвратом кредита в срок?"
   ]
  },
  {
   "cell_type": "markdown",
   "metadata": {},
   "source": [
    "Проделаем тоже самое и с семейным положением:"
   ]
  },
  {
   "cell_type": "code",
   "execution_count": 35,
   "metadata": {},
   "outputs": [
    {
     "data": {
      "text/html": [
       "<style  type=\"text/css\" >\n",
       "</style><table id=\"T_87ea65ce_79c4_11ec_978a_02420a390c33\" ><thead>    <tr>        <th class=\"blank level0\" ></th>        <th class=\"col_heading level0 col0\" >family_status_id</th>        <th class=\"col_heading level0 col1\" >mean</th>        <th class=\"col_heading level0 col2\" >count</th>    </tr>    <tr>        <th class=\"blank level1\" ></th>        <th class=\"col_heading level1 col0\" ></th>        <th class=\"col_heading level1 col1\" >debt</th>        <th class=\"col_heading level1 col2\" >debt</th>    </tr></thead><tbody>\n",
       "                <tr>\n",
       "                        <th id=\"T_87ea65ce_79c4_11ec_978a_02420a390c33level0_row0\" class=\"row_heading level0 row0\" >0</th>\n",
       "                        <td id=\"T_87ea65ce_79c4_11ec_978a_02420a390c33row0_col0\" class=\"data row0 col0\" >0</td>\n",
       "                        <td id=\"T_87ea65ce_79c4_11ec_978a_02420a390c33row0_col1\" class=\"data row0 col1\" >7.52%</td>\n",
       "                        <td id=\"T_87ea65ce_79c4_11ec_978a_02420a390c33row0_col2\" class=\"data row0 col2\" >12380</td>\n",
       "            </tr>\n",
       "            <tr>\n",
       "                        <th id=\"T_87ea65ce_79c4_11ec_978a_02420a390c33level0_row1\" class=\"row_heading level0 row1\" >1</th>\n",
       "                        <td id=\"T_87ea65ce_79c4_11ec_978a_02420a390c33row1_col0\" class=\"data row1 col0\" >1</td>\n",
       "                        <td id=\"T_87ea65ce_79c4_11ec_978a_02420a390c33row1_col1\" class=\"data row1 col1\" >9.29%</td>\n",
       "                        <td id=\"T_87ea65ce_79c4_11ec_978a_02420a390c33row1_col2\" class=\"data row1 col2\" >4176</td>\n",
       "            </tr>\n",
       "            <tr>\n",
       "                        <th id=\"T_87ea65ce_79c4_11ec_978a_02420a390c33level0_row2\" class=\"row_heading level0 row2\" >2</th>\n",
       "                        <td id=\"T_87ea65ce_79c4_11ec_978a_02420a390c33row2_col0\" class=\"data row2 col0\" >2</td>\n",
       "                        <td id=\"T_87ea65ce_79c4_11ec_978a_02420a390c33row2_col1\" class=\"data row2 col1\" >6.56%</td>\n",
       "                        <td id=\"T_87ea65ce_79c4_11ec_978a_02420a390c33row2_col2\" class=\"data row2 col2\" >960</td>\n",
       "            </tr>\n",
       "            <tr>\n",
       "                        <th id=\"T_87ea65ce_79c4_11ec_978a_02420a390c33level0_row3\" class=\"row_heading level0 row3\" >3</th>\n",
       "                        <td id=\"T_87ea65ce_79c4_11ec_978a_02420a390c33row3_col0\" class=\"data row3 col0\" >3</td>\n",
       "                        <td id=\"T_87ea65ce_79c4_11ec_978a_02420a390c33row3_col1\" class=\"data row3 col1\" >7.11%</td>\n",
       "                        <td id=\"T_87ea65ce_79c4_11ec_978a_02420a390c33row3_col2\" class=\"data row3 col2\" >1195</td>\n",
       "            </tr>\n",
       "            <tr>\n",
       "                        <th id=\"T_87ea65ce_79c4_11ec_978a_02420a390c33level0_row4\" class=\"row_heading level0 row4\" >4</th>\n",
       "                        <td id=\"T_87ea65ce_79c4_11ec_978a_02420a390c33row4_col0\" class=\"data row4 col0\" >4</td>\n",
       "                        <td id=\"T_87ea65ce_79c4_11ec_978a_02420a390c33row4_col1\" class=\"data row4 col1\" >9.74%</td>\n",
       "                        <td id=\"T_87ea65ce_79c4_11ec_978a_02420a390c33row4_col2\" class=\"data row4 col2\" >2813</td>\n",
       "            </tr>\n",
       "    </tbody></table>"
      ],
      "text/plain": [
       "<pandas.io.formats.style.Styler at 0x7f6b658cd090>"
      ]
     },
     "metadata": {},
     "output_type": "display_data"
    },
    {
     "data": {
      "text/html": [
       "<div>\n",
       "<style scoped>\n",
       "    .dataframe tbody tr th:only-of-type {\n",
       "        vertical-align: middle;\n",
       "    }\n",
       "\n",
       "    .dataframe tbody tr th {\n",
       "        vertical-align: top;\n",
       "    }\n",
       "\n",
       "    .dataframe thead th {\n",
       "        text-align: right;\n",
       "    }\n",
       "</style>\n",
       "<table border=\"1\" class=\"dataframe\">\n",
       "  <thead>\n",
       "    <tr style=\"text-align: right;\">\n",
       "      <th></th>\n",
       "      <th>family_status_id</th>\n",
       "      <th>family_status</th>\n",
       "    </tr>\n",
       "  </thead>\n",
       "  <tbody>\n",
       "    <tr>\n",
       "      <td>0</td>\n",
       "      <td>0</td>\n",
       "      <td>женат / замужем</td>\n",
       "    </tr>\n",
       "    <tr>\n",
       "      <td>1</td>\n",
       "      <td>1</td>\n",
       "      <td>гражданский брак</td>\n",
       "    </tr>\n",
       "    <tr>\n",
       "      <td>2</td>\n",
       "      <td>2</td>\n",
       "      <td>вдовец / вдова</td>\n",
       "    </tr>\n",
       "    <tr>\n",
       "      <td>3</td>\n",
       "      <td>3</td>\n",
       "      <td>в разводе</td>\n",
       "    </tr>\n",
       "    <tr>\n",
       "      <td>4</td>\n",
       "      <td>4</td>\n",
       "      <td>Не женат / не замужем</td>\n",
       "    </tr>\n",
       "  </tbody>\n",
       "</table>\n",
       "</div>"
      ],
      "text/plain": [
       "   family_status_id          family_status\n",
       "0                 0        женат / замужем\n",
       "1                 1       гражданский брак\n",
       "2                 2         вдовец / вдова\n",
       "3                 3              в разводе\n",
       "4                 4  Не женат / не замужем"
      ]
     },
     "execution_count": 35,
     "metadata": {},
     "output_type": "execute_result"
    },
    {
     "data": {
      "image/png": "[encoded data removed]",
      "text/plain": [
       "<Figure size 432x288 with 1 Axes>"
      ]
     },
     "metadata": {
      "needs_background": "light"
     },
     "output_type": "display_data"
    }
   ],
   "source": [
    "by_family_status_result = data.pivot_table(values='debt',\n",
    "                                           index='family_status_id',\n",
    "                                           aggfunc=['mean', 'count']).reset_index()\n",
    "\n",
    "display(by_family_status_result.style.format({('mean', 'debt'):'{:.2%}'}))\n",
    "\n",
    "plot_family_status = sb.barplot(x='family_status_id',\n",
    "                                y=('mean', 'debt'),\n",
    "                                data=by_family_status_result)\n",
    "\n",
    "plot_family_status.set(xlabel='Family_status',\n",
    "                       ylabel='Ratio of no return')\n",
    "family_status_dict"
   ]
  },
  {
   "cell_type": "markdown",
   "metadata": {},
   "source": [
    "**Вывод**"
   ]
  },
  {
   "cell_type": "markdown",
   "metadata": {},
   "source": [
    "Как и в случае с количеством детей, семейное положение не влияет на задолженность по кредиту - люди с различным семейным статусом задерживают выплату кредита одинаково."
   ]
  },
  {
   "cell_type": "markdown",
   "metadata": {},
   "source": [
    "<div class=\"alert alert-success\">\n",
    "<b>Комментарий ревьюера ✔️:</b>\n",
    "\n",
    "Отлично. Здесь тоже можно в выводе все равно попробовать описать полученную разницу, хоть она и совсем небольшая.\n",
    "</div>\n",
    "\n",
    "<div class=\"alert alert-success\">\n",
    "<b>Комментарий ревьюера v2✔️:</b>\n",
    "\n",
    "Для удобства восприятия ты можешь название категорий добавить в сводную таблицу с процентами.</div>"
   ]
  },
  {
   "cell_type": "markdown",
   "metadata": {},
   "source": [
    "- Есть ли зависимость между уровнем дохода и возвратом кредита в срок?"
   ]
  },
  {
   "cell_type": "markdown",
   "metadata": {},
   "source": [
    "Посчитаем процент задолженности в зависимости от уровня зароботка:"
   ]
  },
  {
   "cell_type": "code",
   "execution_count": 36,
   "metadata": {},
   "outputs": [
    {
     "data": {
      "text/html": [
       "<style  type=\"text/css\" >\n",
       "</style><table id=\"T_88095c5e_79c4_11ec_978a_02420a390c33\" ><thead>    <tr>        <th class=\"blank level0\" ></th>        <th class=\"col_heading level0 col0\" >income_category</th>        <th class=\"col_heading level0 col1\" >mean</th>        <th class=\"col_heading level0 col2\" >count</th>    </tr>    <tr>        <th class=\"blank level1\" ></th>        <th class=\"col_heading level1 col0\" ></th>        <th class=\"col_heading level1 col1\" >debt</th>        <th class=\"col_heading level1 col2\" >debt</th>    </tr></thead><tbody>\n",
       "                <tr>\n",
       "                        <th id=\"T_88095c5e_79c4_11ec_978a_02420a390c33level0_row0\" class=\"row_heading level0 row0\" >0</th>\n",
       "                        <td id=\"T_88095c5e_79c4_11ec_978a_02420a390c33row0_col0\" class=\"data row0 col0\" >богатый</td>\n",
       "                        <td id=\"T_88095c5e_79c4_11ec_978a_02420a390c33row0_col1\" class=\"data row0 col1\" >6.31%</td>\n",
       "                        <td id=\"T_88095c5e_79c4_11ec_978a_02420a390c33row0_col2\" class=\"data row0 col2\" >222</td>\n",
       "            </tr>\n",
       "            <tr>\n",
       "                        <th id=\"T_88095c5e_79c4_11ec_978a_02420a390c33level0_row1\" class=\"row_heading level0 row1\" >1</th>\n",
       "                        <td id=\"T_88095c5e_79c4_11ec_978a_02420a390c33row1_col0\" class=\"data row1 col0\" >малозарабатывющий</td>\n",
       "                        <td id=\"T_88095c5e_79c4_11ec_978a_02420a390c33row1_col1\" class=\"data row1 col1\" >6.08%</td>\n",
       "                        <td id=\"T_88095c5e_79c4_11ec_978a_02420a390c33row1_col2\" class=\"data row1 col2\" >806</td>\n",
       "            </tr>\n",
       "            <tr>\n",
       "                        <th id=\"T_88095c5e_79c4_11ec_978a_02420a390c33level0_row2\" class=\"row_heading level0 row2\" >2</th>\n",
       "                        <td id=\"T_88095c5e_79c4_11ec_978a_02420a390c33row2_col0\" class=\"data row2 col0\" >среднезарабатывающий</td>\n",
       "                        <td id=\"T_88095c5e_79c4_11ec_978a_02420a390c33row2_col1\" class=\"data row2 col1\" >8.52%</td>\n",
       "                        <td id=\"T_88095c5e_79c4_11ec_978a_02420a390c33row2_col2\" class=\"data row2 col2\" >15652</td>\n",
       "            </tr>\n",
       "            <tr>\n",
       "                        <th id=\"T_88095c5e_79c4_11ec_978a_02420a390c33level0_row3\" class=\"row_heading level0 row3\" >3</th>\n",
       "                        <td id=\"T_88095c5e_79c4_11ec_978a_02420a390c33row3_col0\" class=\"data row3 col0\" >хорошозарабатывающий</td>\n",
       "                        <td id=\"T_88095c5e_79c4_11ec_978a_02420a390c33row3_col1\" class=\"data row3 col1\" >7.10%</td>\n",
       "                        <td id=\"T_88095c5e_79c4_11ec_978a_02420a390c33row3_col2\" class=\"data row3 col2\" >4843</td>\n",
       "            </tr>\n",
       "    </tbody></table>"
      ],
      "text/plain": [
       "<pandas.io.formats.style.Styler at 0x7f6baf8d7210>"
      ]
     },
     "metadata": {},
     "output_type": "display_data"
    },
    {
     "data": {
      "text/plain": [
       "[Text(0, 0.5, 'Income_category'), Text(0.5, 0, 'Ratio of no return')]"
      ]
     },
     "execution_count": 36,
     "metadata": {},
     "output_type": "execute_result"
    },
    {
     "data": {
      "image/png": "[encoded data removed]",
      "text/plain": [
       "<Figure size 432x288 with 1 Axes>"
      ]
     },
     "metadata": {
      "needs_background": "light"
     },
     "output_type": "display_data"
    }
   ],
   "source": [
    "by_income_result = data.pivot_table(values='debt',\n",
    "                                      index='income_category',\n",
    "                                      aggfunc=['mean', 'count']).reset_index()\n",
    "\n",
    "display(by_income_result.style.format({('mean', 'debt'):'{:.2%}'}))\n",
    "\n",
    "plot_income_category = sb.barplot(x=('mean', 'debt'),\n",
    "                           y='income_category',\n",
    "                           data=by_income_result)\n",
    "\n",
    "plot_income_category.set(xlabel='Ratio of no return',\n",
    "                  ylabel='Income_category')"
   ]
  },
  {
   "cell_type": "markdown",
   "metadata": {},
   "source": [
    "**Вывод**"
   ]
  },
  {
   "cell_type": "markdown",
   "metadata": {},
   "source": [
    "Опять нет никакой зависимости от уровня зароботка и возвратом кредита в срок. Люди с разным достатком имеют одинаковый процент задолженностей. Категория среднезарабатывающих имеет больший процент задолженностей среди других категорий, но они берут больше всех кредитов (15652 кредитов из 21525, это ~73% от всех взятых кредитов)."
   ]
  },
  {
   "cell_type": "markdown",
   "metadata": {},
   "source": [
    "<div class=\"alert alert-success\">\n",
    "<b>Комментарий ревьюера ✔️:</b>\n",
    "\n",
    "Согласен. Здесь тоже можно в выводе все равно попробовать описать полученную разницу. Или сделать какие-нибудь предположения.\n",
    "</div>"
   ]
  },
  {
   "cell_type": "markdown",
   "metadata": {},
   "source": [
    "- Как разные цели кредита влияют на его возврат в срок?"
   ]
  },
  {
   "cell_type": "code",
   "execution_count": 37,
   "metadata": {},
   "outputs": [
    {
     "data": {
      "text/html": [
       "<style  type=\"text/css\" >\n",
       "</style><table id=\"T_88296e86_79c4_11ec_978a_02420a390c33\" ><thead>    <tr>        <th class=\"blank level0\" ></th>        <th class=\"col_heading level0 col0\" >purposes_lemm</th>        <th class=\"col_heading level0 col1\" >mean</th>        <th class=\"col_heading level0 col2\" >count</th>    </tr>    <tr>        <th class=\"blank level1\" ></th>        <th class=\"col_heading level1 col0\" ></th>        <th class=\"col_heading level1 col1\" >debt</th>        <th class=\"col_heading level1 col2\" >debt</th>    </tr></thead><tbody>\n",
       "                <tr>\n",
       "                        <th id=\"T_88296e86_79c4_11ec_978a_02420a390c33level0_row0\" class=\"row_heading level0 row0\" >0</th>\n",
       "                        <td id=\"T_88296e86_79c4_11ec_978a_02420a390c33row0_col0\" class=\"data row0 col0\" >автомобиль</td>\n",
       "                        <td id=\"T_88296e86_79c4_11ec_978a_02420a390c33row0_col1\" class=\"data row0 col1\" >9.34%</td>\n",
       "                        <td id=\"T_88296e86_79c4_11ec_978a_02420a390c33row0_col2\" class=\"data row0 col2\" >4315</td>\n",
       "            </tr>\n",
       "            <tr>\n",
       "                        <th id=\"T_88296e86_79c4_11ec_978a_02420a390c33level0_row1\" class=\"row_heading level0 row1\" >1</th>\n",
       "                        <td id=\"T_88296e86_79c4_11ec_978a_02420a390c33row1_col0\" class=\"data row1 col0\" >недвижимость</td>\n",
       "                        <td id=\"T_88296e86_79c4_11ec_978a_02420a390c33row1_col1\" class=\"data row1 col1\" >7.21%</td>\n",
       "                        <td id=\"T_88296e86_79c4_11ec_978a_02420a390c33row1_col2\" class=\"data row1 col2\" >10839</td>\n",
       "            </tr>\n",
       "            <tr>\n",
       "                        <th id=\"T_88296e86_79c4_11ec_978a_02420a390c33level0_row2\" class=\"row_heading level0 row2\" >2</th>\n",
       "                        <td id=\"T_88296e86_79c4_11ec_978a_02420a390c33row2_col0\" class=\"data row2 col0\" >образование</td>\n",
       "                        <td id=\"T_88296e86_79c4_11ec_978a_02420a390c33row2_col1\" class=\"data row2 col1\" >9.20%</td>\n",
       "                        <td id=\"T_88296e86_79c4_11ec_978a_02420a390c33row2_col2\" class=\"data row2 col2\" >4022</td>\n",
       "            </tr>\n",
       "            <tr>\n",
       "                        <th id=\"T_88296e86_79c4_11ec_978a_02420a390c33level0_row3\" class=\"row_heading level0 row3\" >3</th>\n",
       "                        <td id=\"T_88296e86_79c4_11ec_978a_02420a390c33row3_col0\" class=\"data row3 col0\" >свадьба</td>\n",
       "                        <td id=\"T_88296e86_79c4_11ec_978a_02420a390c33row3_col1\" class=\"data row3 col1\" >7.92%</td>\n",
       "                        <td id=\"T_88296e86_79c4_11ec_978a_02420a390c33row3_col2\" class=\"data row3 col2\" >2348</td>\n",
       "            </tr>\n",
       "    </tbody></table>"
      ],
      "text/plain": [
       "<pandas.io.formats.style.Styler at 0x7f6baf7f8650>"
      ]
     },
     "metadata": {},
     "output_type": "display_data"
    },
    {
     "data": {
      "text/plain": [
       "[Text(0, 0.5, 'Purpose'), Text(0.5, 0, 'Ratio of no return')]"
      ]
     },
     "execution_count": 37,
     "metadata": {},
     "output_type": "execute_result"
    },
    {
     "data": {
      "image/png": "[encoded data removed]",
      "text/plain": [
       "<Figure size 432x288 with 1 Axes>"
      ]
     },
     "metadata": {
      "needs_background": "light"
     },
     "output_type": "display_data"
    }
   ],
   "source": [
    "by_purpose_result = data.pivot_table(values='debt',\n",
    "                                      index='purposes_lemm',\n",
    "                                      aggfunc=['mean', 'count']).reset_index()\n",
    "\n",
    "display(by_purpose_result.style.format({('mean', 'debt'):'{:.2%}'}))\n",
    "\n",
    "plot_purposes = sb.barplot(x=('mean', 'debt'),\n",
    "                           y='purposes_lemm',\n",
    "                           data=by_purpose_result)\n",
    "\n",
    "plot_purposes.set(xlabel='Ratio of no return',\n",
    "                  ylabel='Purpose')"
   ]
  },
  {
   "cell_type": "markdown",
   "metadata": {},
   "source": [
    "**Вывод**"
   ]
  },
  {
   "cell_type": "markdown",
   "metadata": {},
   "source": [
    "Цель кредита не влияет на возврат кредита в срок. Среди всех категорий, кредиты, взятые на автомобили и образование, задалживают чаще."
   ]
  },
  {
   "cell_type": "markdown",
   "metadata": {},
   "source": [
    "<div class=\"alert alert-success\">\n",
    "<b>Комментарий ревьюера ✔️:</b>\n",
    "\n",
    "Верный вывод.\n",
    "    \n",
    "Повторюсь еще раз 😀\n",
    "    \n",
    "Здесь тоже можно в выводе все равно попробовать описать полученную разницу.\n",
    "</div>"
   ]
  },
  {
   "cell_type": "markdown",
   "metadata": {},
   "source": [
    "## Шаг 4. Общий вывод"
   ]
  },
  {
   "cell_type": "markdown",
   "metadata": {},
   "source": [
    "В ходе работы мы изучили данные, которые нам выдал банк и подготовили из к анализу: удалили пропуски, обработали дубликаты, провели категоризацию, а также заменили типы данных.\n",
    "\n",
    "В целом, данные были чистыми, а аномалии легко интерпретировались. Исключение - колонка стажа работы. Стаж указан в днях, но если в среднем в году 247 рабочих дней, то кто-то работает около 1500 лет!!! Может эти данные выражены в часах, но все равно выходит 200 лет рабочий стаж, если брать маскимальное значение по колонке. И таких значений в колонке много. Это не одна аномалия.\n",
    "\n",
    "Было проверено 4 гипотезы:\n",
    "\n",
    "**1. Влияет ли количество детей на задолженность по кредиту**\n",
    "\n",
    "**2. Проверили есть ли зависимость между семейным положением и возвратом кредита в срок**\n",
    "\n",
    "**3. Проверили есть ли зависимость между уровнем дохода и возвратом кредита в срок**\n",
    "\n",
    "**4. Проверили влияет ли цель получения кредита на задолженность**\n",
    "\n",
    "Ни одна из гипотез не подтвердилась.\n",
    "\n",
    "Иногда, один фактор не влиет напрямую, но взаимодействие факторов может влиять на ответ (в нашем случае задержка выплаты кредита). Например, можно было бы проверить как семейное положение и количесвто детей влияет на задолженность по кредиту."
   ]
  },
  {
   "cell_type": "markdown",
   "metadata": {},
   "source": [
    "<div class=\"alert alert-success\">\n",
    "<b>Комментарий ревьюера ✔️:</b>\n",
    "\n",
    "Хороший вывод с кратким описанием поставленной задачи и основыми результатами. Можно внести в вывод конкретики: добавить полученные числовые значения.\n",
    "    \n",
    "Можно дать более подробное описание проблем с данными для технической команды, дать рекомендации по их устранению в будущем.\n",
    "</div>"
   ]
  },
  {
   "cell_type": "markdown",
   "metadata": {},
   "source": [
    "## Чек-лист готовности проекта\n",
    "\n",
    "Поставьте 'x' в выполненных пунктах. Далее нажмите Shift+Enter."
   ]
  },
  {
   "cell_type": "markdown",
   "metadata": {},
   "source": [
    "- [x]  открыт файл;\n",
    "- [x]  файл изучен;\n",
    "- [x]  определены пропущенные значения;\n",
    "- [x]  заполнены пропущенные значения;\n",
    "- [x]  есть пояснение, какие пропущенные значения обнаружены;\n",
    "- [x]  описаны возможные причины появления пропусков в данных;\n",
    "- [x]  объяснено, по какому принципу заполнены пропуски;\n",
    "- [x]  заменен вещественный тип данных на целочисленный;\n",
    "- [x]  есть пояснение, какой метод используется для изменения типа данных и почему;\n",
    "- [x]  удалены дубликаты;\n",
    "- [x]  есть пояснение, какой метод используется для поиска и удаления дубликатов;\n",
    "- [x]  описаны возможные причины появления дубликатов в данных;\n",
    "- [x]  выделены леммы в значениях столбца с целями получения кредита;\n",
    "- [x]  описан процесс лемматизации;\n",
    "- [x]  данные категоризированы;\n",
    "- [x]  есть объяснение принципа категоризации данных;\n",
    "- [x]  есть ответ на вопрос: \"Есть ли зависимость между наличием детей и возвратом кредита в срок?\";\n",
    "- [x]  есть ответ на вопрос: \"Есть ли зависимость между семейным положением и возвратом кредита в срок?\";\n",
    "- [x]  есть ответ на вопрос: \"Есть ли зависимость между уровнем дохода и возвратом кредита в срок?\";\n",
    "- [x]  есть ответ на вопрос: \"Как разные цели кредита влияют на его возврат в срок?\";\n",
    "- [x]  в каждом этапе есть выводы;\n",
    "- [x]  есть общий вывод."
   ]
  },
  {
   "cell_type": "markdown",
   "metadata": {},
   "source": [
    "<div style=\"border:solid green 2px; padding: 20px\">\n",
    "\n",
    "<b>Итоговый комментарий ревьюера</b>\n",
    "\n",
    "Владислав, спасибо за проект! Заметно, что ты хорошо поработал над проектом. Ты освоил базовые приемы предобработки данных, аккуратно и правильно пишешь код, умело применяешь библиотеку pandas. Ты однозначно движешься в верном направлении!\n",
    "    \n",
    "К сожалению, были допущены некоторые ошибки, без исправления которых принять проект я не смогу:\n",
    "<ol>\n",
    "    <li> Удалить 10% данных с пропусками — не самая хорошая идея. лучше попытаться заполнить пропуски;\n",
    "    <li> Реализовано крайне неоптимальное решение для заполнения пропусков в возрасте;\n",
    "    <li> Недостаточно хорошо была проведена лемматизация. Было сделано много лишних действий, которых можно было избежать. Хорошо добавить выделение основных лемм;\n",
    "    <li> Ты ни разу в проекте не использовал метод <i>pivot_table()</i>, но очень хотелось бы узнать, освоил ли ты его. Давай применим его к ответам на несколько вопросов?\n",
    "</ol>\n",
    "    \n",
    "Также попрошу учесть минимум два любых желтых комментария. Остальные — на твое усмотрение: можно поправить сейчас, если есть силы/желание/время, а можно учесть уже в будущих проектах.\n",
    "    \n",
    "Кроме того, можешь задать мне вопросы при повторной отправке проекта, если они у тебя есть.\n",
    "          \n",
    "<br>\n",
    "Буду ждать твою работу на повторное ревью 🙂\n",
    "</div>"
   ]
  },
  {
   "cell_type": "markdown",
   "metadata": {},
   "source": [
    "<div class=\"alert alert-info\"> <b>Комментарий студента:</b> Спасибо за детальное ревью! В общем, все понятно. Есть общий вопрос по редактированию исправлений. Как его оформлять? Например, стоит писать новый код в новых ячейках, оставляя старый или можно править старый код?</div>"
   ]
  },
  {
   "cell_type": "markdown",
   "metadata": {},
   "source": [
    "<div style=\"border:solid green 2px; padding: 20px\">\n",
    "\n",
    "<b>Итоговый комментарий ревьюера v2 </b>\n",
    "\n",
    "Сначала отвечу на вопрос. Идеальный вариант: просто закомментировать старый код (или конкретные строки, если исправление небольшое), чтобы сразу была видна разница. Потом плохой код можно будет просто удалить.\n",
    "    \n",
    "А теперь про сам проект: ты молодец, учел все мои комментарии. Я оставил тебе несколько новых комментариев (c добавлением `v2`). Если тебе все понятно, и нет новых вопросов, я приму проект при следующей отправке.\n",
    "</div>"
   ]
  },
  {
   "cell_type": "markdown",
   "metadata": {},
   "source": [
    "<div class=\"alert alert-info\"> <b>Комментарий студента v2:</b> Еще раз спасибо за ревью!!! Вопросов нет, можно принимать. С Новым годом, желаю счастья и хороших студентов :)</div>"
   ]
  },
  {
   "cell_type": "markdown",
   "metadata": {},
   "source": [
    "<div style=\"border:solid green 2px; padding: 20px\">\n",
    "\n",
    "<b>Итоговый комментарий ревьюера v3 </b>\n",
    "\n",
    "Желаю успехов в будущих проектах 🎄🎄🎄\n",
    "</div>"
   ]
  }
 ],
 "metadata": {
  "ExecuteTimeLog": [
   {
    "duration": 647,
    "start_time": "2021-12-28T13:23:25.765Z"
   },
   {
    "duration": 54,
    "start_time": "2021-12-28T13:23:51.816Z"
   },
   {
    "duration": 55,
    "start_time": "2021-12-28T13:23:55.423Z"
   },
   {
    "duration": 54,
    "start_time": "2021-12-28T13:24:27.404Z"
   },
   {
    "duration": 61,
    "start_time": "2021-12-28T13:25:52.739Z"
   },
   {
    "duration": 66,
    "start_time": "2021-12-28T13:28:43.960Z"
   },
   {
    "duration": 55,
    "start_time": "2021-12-28T13:28:55.797Z"
   },
   {
    "duration": 17,
    "start_time": "2021-12-28T13:29:16.243Z"
   },
   {
    "duration": 10,
    "start_time": "2021-12-28T13:29:24.621Z"
   },
   {
    "duration": 35,
    "start_time": "2021-12-28T13:31:13.012Z"
   },
   {
    "duration": 335,
    "start_time": "2021-12-28T13:31:52.717Z"
   },
   {
    "duration": 18,
    "start_time": "2021-12-28T13:32:05.804Z"
   },
   {
    "duration": 47,
    "start_time": "2021-12-28T13:32:29.919Z"
   },
   {
    "duration": 6,
    "start_time": "2021-12-28T13:32:55.280Z"
   },
   {
    "duration": 19,
    "start_time": "2021-12-28T13:33:08.526Z"
   },
   {
    "duration": 19,
    "start_time": "2021-12-28T13:35:57.226Z"
   },
   {
    "duration": 19,
    "start_time": "2021-12-28T13:36:00.637Z"
   },
   {
    "duration": 26,
    "start_time": "2021-12-28T13:36:03.375Z"
   },
   {
    "duration": 22,
    "start_time": "2021-12-28T13:36:04.186Z"
   },
   {
    "duration": 20,
    "start_time": "2021-12-28T13:36:06.624Z"
   },
   {
    "duration": 23,
    "start_time": "2021-12-28T13:36:46.983Z"
   },
   {
    "duration": 24,
    "start_time": "2021-12-28T13:36:51.561Z"
   },
   {
    "duration": 10,
    "start_time": "2021-12-28T13:37:03.708Z"
   },
   {
    "duration": 23,
    "start_time": "2021-12-28T13:37:09.599Z"
   },
   {
    "duration": 10,
    "start_time": "2021-12-28T13:37:19.405Z"
   },
   {
    "duration": 10,
    "start_time": "2021-12-28T13:40:25.200Z"
   },
   {
    "duration": 10,
    "start_time": "2021-12-28T13:40:27.737Z"
   },
   {
    "duration": 11,
    "start_time": "2021-12-28T13:40:34.319Z"
   },
   {
    "duration": 9,
    "start_time": "2021-12-28T13:40:54.886Z"
   },
   {
    "duration": 58,
    "start_time": "2021-12-28T13:41:03.145Z"
   },
   {
    "duration": 12,
    "start_time": "2021-12-28T13:41:46.266Z"
   },
   {
    "duration": 271,
    "start_time": "2021-12-28T13:43:25.906Z"
   },
   {
    "duration": 13,
    "start_time": "2021-12-28T13:44:27.690Z"
   },
   {
    "duration": 627,
    "start_time": "2021-12-28T13:45:45.409Z"
   },
   {
    "duration": 11,
    "start_time": "2021-12-28T13:46:10.011Z"
   },
   {
    "duration": 12,
    "start_time": "2021-12-28T13:46:16.952Z"
   },
   {
    "duration": 12,
    "start_time": "2021-12-28T13:48:03.557Z"
   },
   {
    "duration": 11,
    "start_time": "2021-12-28T13:48:05.562Z"
   },
   {
    "duration": 12,
    "start_time": "2021-12-28T13:48:55.926Z"
   },
   {
    "duration": 29,
    "start_time": "2021-12-28T13:49:32.060Z"
   },
   {
    "duration": 27,
    "start_time": "2021-12-28T13:50:11.642Z"
   },
   {
    "duration": 22,
    "start_time": "2021-12-28T13:50:39.288Z"
   },
   {
    "duration": 11,
    "start_time": "2021-12-28T13:53:43.946Z"
   },
   {
    "duration": 204,
    "start_time": "2021-12-28T19:24:47.825Z"
   },
   {
    "duration": 584,
    "start_time": "2021-12-28T19:24:54.727Z"
   },
   {
    "duration": 27,
    "start_time": "2021-12-28T19:24:56.610Z"
   },
   {
    "duration": 19,
    "start_time": "2021-12-28T19:25:33.456Z"
   },
   {
    "duration": 20,
    "start_time": "2021-12-28T19:27:26.772Z"
   },
   {
    "duration": 5,
    "start_time": "2021-12-28T19:27:45.526Z"
   },
   {
    "duration": 4,
    "start_time": "2021-12-28T19:27:50.193Z"
   },
   {
    "duration": 442,
    "start_time": "2021-12-28T19:28:03.997Z"
   },
   {
    "duration": 170,
    "start_time": "2021-12-28T19:28:12.355Z"
   },
   {
    "duration": 7,
    "start_time": "2021-12-28T19:28:16.080Z"
   },
   {
    "duration": 4204,
    "start_time": "2021-12-28T19:28:50.973Z"
   },
   {
    "duration": 4619,
    "start_time": "2021-12-28T19:28:55.326Z"
   },
   {
    "duration": 6,
    "start_time": "2021-12-28T19:29:01.567Z"
   },
   {
    "duration": 4627,
    "start_time": "2021-12-28T19:29:48.798Z"
   },
   {
    "duration": 6,
    "start_time": "2021-12-28T19:29:54.319Z"
   },
   {
    "duration": 7,
    "start_time": "2021-12-28T19:30:13.841Z"
   },
   {
    "duration": 6,
    "start_time": "2021-12-28T19:31:18.245Z"
   },
   {
    "duration": -28,
    "start_time": "2021-12-28T19:35:53.983Z"
   },
   {
    "duration": 4,
    "start_time": "2021-12-28T19:35:56.886Z"
   },
   {
    "duration": 4,
    "start_time": "2021-12-28T19:36:04.647Z"
   },
   {
    "duration": 4,
    "start_time": "2021-12-28T19:36:40.002Z"
   },
   {
    "duration": 4,
    "start_time": "2021-12-28T19:36:45.718Z"
   },
   {
    "duration": 7,
    "start_time": "2021-12-28T19:36:59.544Z"
   },
   {
    "duration": 8,
    "start_time": "2021-12-28T19:38:41.311Z"
   },
   {
    "duration": 9,
    "start_time": "2021-12-28T19:38:46.924Z"
   },
   {
    "duration": 8,
    "start_time": "2021-12-28T19:38:55.740Z"
   },
   {
    "duration": 7,
    "start_time": "2021-12-28T19:39:03.540Z"
   },
   {
    "duration": 8,
    "start_time": "2021-12-28T19:42:11.359Z"
   },
   {
    "duration": 9,
    "start_time": "2021-12-28T19:42:46.181Z"
   },
   {
    "duration": 8,
    "start_time": "2021-12-28T19:42:52.237Z"
   },
   {
    "duration": 57,
    "start_time": "2021-12-28T19:44:16.052Z"
   },
   {
    "duration": 17,
    "start_time": "2021-12-28T19:44:22.856Z"
   },
   {
    "duration": 199,
    "start_time": "2021-12-28T19:44:43.414Z"
   },
   {
    "duration": -49,
    "start_time": "2021-12-28T19:44:55.002Z"
   },
   {
    "duration": 198,
    "start_time": "2021-12-28T19:44:57.698Z"
   },
   {
    "duration": 8,
    "start_time": "2021-12-28T19:45:06.615Z"
   },
   {
    "duration": 8,
    "start_time": "2021-12-28T19:45:20.378Z"
   },
   {
    "duration": 175,
    "start_time": "2021-12-28T19:46:57.724Z"
   },
   {
    "duration": 14,
    "start_time": "2021-12-28T19:47:59.775Z"
   },
   {
    "duration": 31,
    "start_time": "2021-12-28T19:48:06.153Z"
   },
   {
    "duration": 20,
    "start_time": "2021-12-28T19:48:24.361Z"
   },
   {
    "duration": 18,
    "start_time": "2021-12-28T19:48:52.937Z"
   },
   {
    "duration": 19,
    "start_time": "2021-12-28T19:49:20.615Z"
   },
   {
    "duration": 26,
    "start_time": "2021-12-28T19:49:34.987Z"
   },
   {
    "duration": 20,
    "start_time": "2021-12-28T19:51:26.089Z"
   },
   {
    "duration": 18,
    "start_time": "2021-12-28T19:51:34.751Z"
   },
   {
    "duration": 20,
    "start_time": "2021-12-28T19:51:59.773Z"
   },
   {
    "duration": 19,
    "start_time": "2021-12-28T19:52:04.817Z"
   },
   {
    "duration": 18,
    "start_time": "2021-12-28T19:52:19.032Z"
   },
   {
    "duration": 20,
    "start_time": "2021-12-28T19:52:24.309Z"
   },
   {
    "duration": 21,
    "start_time": "2021-12-28T19:52:31.147Z"
   },
   {
    "duration": 20,
    "start_time": "2021-12-28T19:52:36.493Z"
   },
   {
    "duration": 21,
    "start_time": "2021-12-28T19:52:40.512Z"
   },
   {
    "duration": 15,
    "start_time": "2021-12-28T19:55:25.937Z"
   },
   {
    "duration": 8,
    "start_time": "2021-12-28T19:55:31.819Z"
   },
   {
    "duration": 7,
    "start_time": "2021-12-28T19:55:55.681Z"
   },
   {
    "duration": 7,
    "start_time": "2021-12-28T19:56:15.303Z"
   },
   {
    "duration": 7,
    "start_time": "2021-12-28T19:56:22.483Z"
   },
   {
    "duration": 6,
    "start_time": "2021-12-28T19:56:39.879Z"
   },
   {
    "duration": 7,
    "start_time": "2021-12-28T19:57:06.228Z"
   },
   {
    "duration": 7,
    "start_time": "2021-12-28T19:57:19.227Z"
   },
   {
    "duration": 10,
    "start_time": "2021-12-28T19:57:36.218Z"
   },
   {
    "duration": 11,
    "start_time": "2021-12-28T19:58:30.211Z"
   },
   {
    "duration": 18,
    "start_time": "2021-12-28T19:58:39.509Z"
   },
   {
    "duration": 17,
    "start_time": "2021-12-28T19:58:45.454Z"
   },
   {
    "duration": 20,
    "start_time": "2021-12-28T19:59:02.765Z"
   },
   {
    "duration": 20,
    "start_time": "2021-12-28T19:59:36.516Z"
   },
   {
    "duration": 13,
    "start_time": "2021-12-28T20:00:26.733Z"
   },
   {
    "duration": 14,
    "start_time": "2021-12-28T20:00:34.764Z"
   },
   {
    "duration": 15,
    "start_time": "2021-12-28T20:00:38.694Z"
   },
   {
    "duration": 15,
    "start_time": "2021-12-28T20:00:52.370Z"
   },
   {
    "duration": 21,
    "start_time": "2021-12-28T20:00:58.991Z"
   },
   {
    "duration": 20,
    "start_time": "2021-12-28T20:01:38.420Z"
   },
   {
    "duration": 6,
    "start_time": "2021-12-28T20:02:15.281Z"
   },
   {
    "duration": 5,
    "start_time": "2021-12-28T20:03:12.025Z"
   },
   {
    "duration": 23,
    "start_time": "2021-12-28T20:03:22.768Z"
   },
   {
    "duration": 17,
    "start_time": "2021-12-28T20:05:09.518Z"
   },
   {
    "duration": 8,
    "start_time": "2021-12-28T20:06:26.027Z"
   },
   {
    "duration": 9,
    "start_time": "2021-12-28T20:06:30.443Z"
   },
   {
    "duration": 6,
    "start_time": "2021-12-28T20:06:47.287Z"
   },
   {
    "duration": 15,
    "start_time": "2021-12-28T20:07:45.213Z"
   },
   {
    "duration": 5,
    "start_time": "2021-12-28T20:15:16.617Z"
   },
   {
    "duration": 6,
    "start_time": "2021-12-28T20:15:20.581Z"
   },
   {
    "duration": 174,
    "start_time": "2021-12-28T20:28:18.245Z"
   },
   {
    "duration": 205,
    "start_time": "2021-12-28T20:28:30.273Z"
   },
   {
    "duration": 174,
    "start_time": "2021-12-28T20:28:40.240Z"
   },
   {
    "duration": 6,
    "start_time": "2021-12-28T20:28:43.312Z"
   },
   {
    "duration": 25,
    "start_time": "2021-12-28T20:29:05.817Z"
   },
   {
    "duration": 26,
    "start_time": "2021-12-28T20:29:42.669Z"
   },
   {
    "duration": 6,
    "start_time": "2021-12-28T20:30:16.261Z"
   },
   {
    "duration": 28,
    "start_time": "2021-12-28T20:30:51.827Z"
   },
   {
    "duration": 19,
    "start_time": "2021-12-28T20:31:20.755Z"
   },
   {
    "duration": 10,
    "start_time": "2021-12-28T20:32:23.823Z"
   },
   {
    "duration": 12,
    "start_time": "2021-12-28T20:33:49.752Z"
   },
   {
    "duration": 11,
    "start_time": "2021-12-28T20:43:13.513Z"
   },
   {
    "duration": 10,
    "start_time": "2021-12-28T20:43:59.624Z"
   },
   {
    "duration": 10,
    "start_time": "2021-12-28T20:44:11.859Z"
   },
   {
    "duration": 7,
    "start_time": "2021-12-28T20:44:24.336Z"
   },
   {
    "duration": 10,
    "start_time": "2021-12-28T20:44:36.890Z"
   },
   {
    "duration": 22,
    "start_time": "2021-12-28T20:45:34.495Z"
   },
   {
    "duration": 18,
    "start_time": "2021-12-28T20:45:40.728Z"
   },
   {
    "duration": 14,
    "start_time": "2021-12-28T20:48:19.516Z"
   },
   {
    "duration": 16,
    "start_time": "2021-12-28T20:50:29.244Z"
   },
   {
    "duration": 12,
    "start_time": "2021-12-28T20:55:45.832Z"
   },
   {
    "duration": 16,
    "start_time": "2021-12-28T20:55:57.629Z"
   },
   {
    "duration": 6,
    "start_time": "2021-12-28T20:56:38.325Z"
   },
   {
    "duration": 4,
    "start_time": "2021-12-28T20:56:42.406Z"
   },
   {
    "duration": 6,
    "start_time": "2021-12-28T20:56:46.882Z"
   },
   {
    "duration": 4,
    "start_time": "2021-12-28T20:56:52.527Z"
   },
   {
    "duration": 6,
    "start_time": "2021-12-28T20:56:54.707Z"
   },
   {
    "duration": 350,
    "start_time": "2021-12-29T05:53:06.715Z"
   },
   {
    "duration": 272,
    "start_time": "2021-12-29T05:53:14.497Z"
   },
   {
    "duration": 88,
    "start_time": "2021-12-29T05:53:20.112Z"
   },
   {
    "duration": 260,
    "start_time": "2021-12-29T05:53:26.455Z"
   },
   {
    "duration": 284,
    "start_time": "2021-12-29T05:53:28.071Z"
   },
   {
    "duration": 277,
    "start_time": "2021-12-29T05:53:35.504Z"
   },
   {
    "duration": 265,
    "start_time": "2021-12-29T05:53:43.203Z"
   },
   {
    "duration": 884,
    "start_time": "2021-12-29T05:53:49.826Z"
   },
   {
    "duration": 41,
    "start_time": "2021-12-29T05:53:50.713Z"
   },
   {
    "duration": 13,
    "start_time": "2021-12-29T05:53:50.768Z"
   },
   {
    "duration": 28,
    "start_time": "2021-12-29T05:53:50.784Z"
   },
   {
    "duration": 54,
    "start_time": "2021-12-29T05:53:50.815Z"
   },
   {
    "duration": 17,
    "start_time": "2021-12-29T05:53:50.871Z"
   },
   {
    "duration": 25,
    "start_time": "2021-12-29T05:53:50.890Z"
   },
   {
    "duration": 8,
    "start_time": "2021-12-29T05:53:53.727Z"
   },
   {
    "duration": 8,
    "start_time": "2021-12-29T05:54:15.512Z"
   },
   {
    "duration": 302,
    "start_time": "2021-12-29T05:54:35.279Z"
   },
   {
    "duration": 716,
    "start_time": "2021-12-29T05:54:39.605Z"
   },
   {
    "duration": 7,
    "start_time": "2021-12-29T05:54:50.348Z"
   },
   {
    "duration": 8,
    "start_time": "2021-12-29T05:55:22.310Z"
   },
   {
    "duration": 10,
    "start_time": "2021-12-29T05:55:40.717Z"
   },
   {
    "duration": 10,
    "start_time": "2021-12-29T05:56:23.507Z"
   },
   {
    "duration": 11,
    "start_time": "2021-12-29T05:56:33.349Z"
   },
   {
    "duration": 290,
    "start_time": "2021-12-29T05:56:53.310Z"
   },
   {
    "duration": 8,
    "start_time": "2021-12-29T05:57:08.129Z"
   },
   {
    "duration": 10,
    "start_time": "2021-12-29T05:57:17.225Z"
   },
   {
    "duration": 12,
    "start_time": "2021-12-29T05:57:21.516Z"
   },
   {
    "duration": 13,
    "start_time": "2021-12-29T05:57:27.802Z"
   },
   {
    "duration": 272,
    "start_time": "2021-12-29T05:57:30.747Z"
   },
   {
    "duration": 10,
    "start_time": "2021-12-29T05:57:45.192Z"
   },
   {
    "duration": 11,
    "start_time": "2021-12-29T05:58:40.070Z"
   },
   {
    "duration": 9,
    "start_time": "2021-12-29T05:58:51.928Z"
   },
   {
    "duration": 9,
    "start_time": "2021-12-29T05:59:05.234Z"
   },
   {
    "duration": 96,
    "start_time": "2021-12-29T05:59:51.544Z"
   },
   {
    "duration": 95,
    "start_time": "2021-12-29T06:00:03.261Z"
   },
   {
    "duration": 82,
    "start_time": "2021-12-29T06:00:06.193Z"
   },
   {
    "duration": 4,
    "start_time": "2021-12-29T06:00:10.845Z"
   },
   {
    "duration": 8,
    "start_time": "2021-12-29T06:03:09.419Z"
   },
   {
    "duration": 50720,
    "start_time": "2021-12-29T06:03:46.846Z"
   },
   {
    "duration": 11,
    "start_time": "2021-12-29T06:05:40.711Z"
   },
   {
    "duration": 11,
    "start_time": "2021-12-29T06:05:47.634Z"
   },
   {
    "duration": 5,
    "start_time": "2021-12-29T06:12:42.271Z"
   },
   {
    "duration": 6,
    "start_time": "2021-12-29T06:12:53.607Z"
   },
   {
    "duration": 5,
    "start_time": "2021-12-29T06:13:00.947Z"
   },
   {
    "duration": 8,
    "start_time": "2021-12-29T06:18:05.748Z"
   },
   {
    "duration": 7,
    "start_time": "2021-12-29T06:18:22.801Z"
   },
   {
    "duration": 551,
    "start_time": "2021-12-29T06:19:19.968Z"
   },
   {
    "duration": 460,
    "start_time": "2021-12-29T06:20:01.153Z"
   },
   {
    "duration": 44,
    "start_time": "2021-12-29T06:20:33.113Z"
   },
   {
    "duration": 43,
    "start_time": "2021-12-29T06:20:45.224Z"
   },
   {
    "duration": 79,
    "start_time": "2021-12-29T06:20:50.636Z"
   },
   {
    "duration": 62,
    "start_time": "2021-12-29T06:21:00.566Z"
   },
   {
    "duration": 43,
    "start_time": "2021-12-29T06:21:32.372Z"
   },
   {
    "duration": 43,
    "start_time": "2021-12-29T06:21:39.323Z"
   },
   {
    "duration": 6794,
    "start_time": "2021-12-29T06:22:04.091Z"
   },
   {
    "duration": -26,
    "start_time": "2021-12-29T06:22:22.832Z"
   },
   {
    "duration": 7157,
    "start_time": "2021-12-29T06:22:29.466Z"
   },
   {
    "duration": 68,
    "start_time": "2021-12-29T06:22:36.935Z"
   },
   {
    "duration": 32,
    "start_time": "2021-12-29T06:22:37.005Z"
   },
   {
    "duration": 34,
    "start_time": "2021-12-29T06:22:37.040Z"
   },
   {
    "duration": 28,
    "start_time": "2021-12-29T06:22:37.077Z"
   },
   {
    "duration": 61,
    "start_time": "2021-12-29T06:22:37.109Z"
   },
   {
    "duration": 18,
    "start_time": "2021-12-29T06:22:37.172Z"
   },
   {
    "duration": 26,
    "start_time": "2021-12-29T06:22:37.193Z"
   },
   {
    "duration": 39,
    "start_time": "2021-12-29T06:22:47.632Z"
   },
   {
    "duration": 38594,
    "start_time": "2021-12-29T06:23:26.392Z"
   },
   {
    "duration": 7,
    "start_time": "2021-12-29T06:29:22.653Z"
   },
   {
    "duration": 9,
    "start_time": "2021-12-29T06:30:41.948Z"
   },
   {
    "duration": 7,
    "start_time": "2021-12-29T06:30:47.118Z"
   },
   {
    "duration": 6,
    "start_time": "2021-12-29T06:33:48.887Z"
   },
   {
    "duration": 6,
    "start_time": "2021-12-29T06:33:54.845Z"
   },
   {
    "duration": 6,
    "start_time": "2021-12-29T06:34:47.299Z"
   },
   {
    "duration": 5,
    "start_time": "2021-12-29T06:35:51.780Z"
   },
   {
    "duration": 308,
    "start_time": "2021-12-29T06:38:55.109Z"
   },
   {
    "duration": 278,
    "start_time": "2021-12-29T06:39:05.914Z"
   },
   {
    "duration": 7356,
    "start_time": "2021-12-29T06:39:11.901Z"
   },
   {
    "duration": 21,
    "start_time": "2021-12-29T06:39:26.508Z"
   },
   {
    "duration": 5,
    "start_time": "2021-12-29T06:39:51.112Z"
   },
   {
    "duration": 455,
    "start_time": "2021-12-29T06:40:25.664Z"
   },
   {
    "duration": 119,
    "start_time": "2021-12-29T06:40:34.533Z"
   },
   {
    "duration": 7166,
    "start_time": "2021-12-29T06:40:49.905Z"
   },
   {
    "duration": 4291,
    "start_time": "2021-12-29T06:42:50.114Z"
   },
   {
    "duration": 6812,
    "start_time": "2021-12-29T06:43:08.919Z"
   },
   {
    "duration": 7856,
    "start_time": "2021-12-29T06:44:57.996Z"
   },
   {
    "duration": 11167,
    "start_time": "2021-12-29T06:45:31.826Z"
   },
   {
    "duration": 63,
    "start_time": "2021-12-29T06:46:05.017Z"
   },
   {
    "duration": 32,
    "start_time": "2021-12-29T06:46:05.083Z"
   },
   {
    "duration": 13,
    "start_time": "2021-12-29T06:46:05.119Z"
   },
   {
    "duration": 65,
    "start_time": "2021-12-29T06:46:05.136Z"
   },
   {
    "duration": 33,
    "start_time": "2021-12-29T06:46:05.205Z"
   },
   {
    "duration": 19,
    "start_time": "2021-12-29T06:46:05.269Z"
   },
   {
    "duration": 32,
    "start_time": "2021-12-29T06:46:05.291Z"
   },
   {
    "duration": 10,
    "start_time": "2021-12-29T06:46:13.977Z"
   },
   {
    "duration": 53490,
    "start_time": "2021-12-29T06:46:19.007Z"
   },
   {
    "duration": 61605,
    "start_time": "2021-12-29T06:48:53.930Z"
   },
   {
    "duration": 9,
    "start_time": "2021-12-29T06:52:40.110Z"
   },
   {
    "duration": 66,
    "start_time": "2021-12-29T06:52:55.669Z"
   },
   {
    "duration": 50,
    "start_time": "2021-12-29T06:52:55.738Z"
   },
   {
    "duration": 14,
    "start_time": "2021-12-29T06:52:55.790Z"
   },
   {
    "duration": 64,
    "start_time": "2021-12-29T06:52:55.807Z"
   },
   {
    "duration": 36,
    "start_time": "2021-12-29T06:52:55.874Z"
   },
   {
    "duration": 19,
    "start_time": "2021-12-29T06:52:55.913Z"
   },
   {
    "duration": 34,
    "start_time": "2021-12-29T06:52:55.966Z"
   },
   {
    "duration": 11,
    "start_time": "2021-12-29T06:52:58.035Z"
   },
   {
    "duration": 8,
    "start_time": "2021-12-29T06:53:27.578Z"
   },
   {
    "duration": 11,
    "start_time": "2021-12-29T06:56:04.628Z"
   },
   {
    "duration": 204352,
    "start_time": "2021-12-29T06:56:50.565Z"
   },
   {
    "duration": 1083,
    "start_time": "2021-12-29T07:02:19.877Z"
   },
   {
    "duration": 101,
    "start_time": "2021-12-29T07:03:07.857Z"
   },
   {
    "duration": 1087,
    "start_time": "2021-12-29T07:03:28.469Z"
   },
   {
    "duration": 304,
    "start_time": "2021-12-29T07:04:57.793Z"
   },
   {
    "duration": 17,
    "start_time": "2021-12-29T07:05:29.641Z"
   },
   {
    "duration": 40,
    "start_time": "2021-12-29T07:05:42.208Z"
   },
   {
    "duration": 36,
    "start_time": "2021-12-29T07:07:00.307Z"
   },
   {
    "duration": 34,
    "start_time": "2021-12-29T07:07:14.255Z"
   },
   {
    "duration": 285,
    "start_time": "2021-12-29T07:09:21.742Z"
   },
   {
    "duration": 8,
    "start_time": "2021-12-29T07:09:41.751Z"
   },
   {
    "duration": 9,
    "start_time": "2021-12-29T07:10:21.421Z"
   },
   {
    "duration": 16,
    "start_time": "2021-12-29T07:10:48.206Z"
   },
   {
    "duration": 350,
    "start_time": "2021-12-29T07:11:14.541Z"
   },
   {
    "duration": 59,
    "start_time": "2021-12-29T07:11:46.670Z"
   },
   {
    "duration": 65,
    "start_time": "2021-12-29T07:12:38.220Z"
   },
   {
    "duration": 41,
    "start_time": "2021-12-29T07:12:38.288Z"
   },
   {
    "duration": 42,
    "start_time": "2021-12-29T07:12:38.331Z"
   },
   {
    "duration": 29,
    "start_time": "2021-12-29T07:12:38.376Z"
   },
   {
    "duration": 62,
    "start_time": "2021-12-29T07:12:38.407Z"
   },
   {
    "duration": 18,
    "start_time": "2021-12-29T07:12:38.471Z"
   },
   {
    "duration": 24,
    "start_time": "2021-12-29T07:12:38.492Z"
   },
   {
    "duration": 42417,
    "start_time": "2021-12-29T07:12:41.900Z"
   },
   {
    "duration": 8,
    "start_time": "2021-12-29T07:13:57.911Z"
   },
   {
    "duration": 89,
    "start_time": "2021-12-29T07:14:09.582Z"
   },
   {
    "duration": 43185,
    "start_time": "2021-12-29T07:14:17.858Z"
   },
   {
    "duration": 30194,
    "start_time": "2021-12-29T07:15:09.186Z"
   },
   {
    "duration": 12,
    "start_time": "2021-12-29T07:15:42.909Z"
   },
   {
    "duration": 10,
    "start_time": "2021-12-29T07:16:05.796Z"
   },
   {
    "duration": 10,
    "start_time": "2021-12-29T07:16:09.470Z"
   },
   {
    "duration": 24,
    "start_time": "2021-12-29T07:16:44.605Z"
   },
   {
    "duration": 23,
    "start_time": "2021-12-29T07:17:40.690Z"
   },
   {
    "duration": 24,
    "start_time": "2021-12-29T07:17:56.940Z"
   },
   {
    "duration": 9,
    "start_time": "2021-12-29T07:19:33.162Z"
   },
   {
    "duration": 7,
    "start_time": "2021-12-29T07:19:37.693Z"
   },
   {
    "duration": 10,
    "start_time": "2021-12-29T07:19:43.410Z"
   },
   {
    "duration": 8,
    "start_time": "2021-12-29T07:20:03.408Z"
   },
   {
    "duration": 23,
    "start_time": "2021-12-29T07:20:06.957Z"
   },
   {
    "duration": 8,
    "start_time": "2021-12-29T07:26:31.765Z"
   },
   {
    "duration": 14,
    "start_time": "2021-12-29T07:36:49.437Z"
   },
   {
    "duration": 355,
    "start_time": "2021-12-29T07:43:04.608Z"
   },
   {
    "duration": 308,
    "start_time": "2021-12-29T07:44:27.426Z"
   },
   {
    "duration": 268,
    "start_time": "2021-12-29T07:44:31.768Z"
   },
   {
    "duration": 302,
    "start_time": "2021-12-29T07:45:36.046Z"
   },
   {
    "duration": 17,
    "start_time": "2021-12-29T07:47:01.842Z"
   },
   {
    "duration": 277,
    "start_time": "2021-12-29T07:49:06.375Z"
   },
   {
    "duration": 26,
    "start_time": "2021-12-29T07:49:49.037Z"
   },
   {
    "duration": 42,
    "start_time": "2021-12-29T07:51:03.958Z"
   },
   {
    "duration": 22,
    "start_time": "2021-12-29T07:58:01.186Z"
   },
   {
    "duration": 24,
    "start_time": "2021-12-29T07:59:06.902Z"
   },
   {
    "duration": 21,
    "start_time": "2021-12-29T07:59:09.945Z"
   },
   {
    "duration": 10,
    "start_time": "2021-12-29T08:00:31.693Z"
   },
   {
    "duration": 291,
    "start_time": "2021-12-29T08:00:52.511Z"
   },
   {
    "duration": 286,
    "start_time": "2021-12-29T08:02:26.559Z"
   },
   {
    "duration": 21,
    "start_time": "2021-12-29T08:03:16.605Z"
   },
   {
    "duration": 20,
    "start_time": "2021-12-29T08:03:31.473Z"
   },
   {
    "duration": 10,
    "start_time": "2021-12-29T08:03:43.999Z"
   },
   {
    "duration": 13,
    "start_time": "2021-12-29T08:03:47.052Z"
   },
   {
    "duration": 19,
    "start_time": "2021-12-29T08:04:10.254Z"
   },
   {
    "duration": 11,
    "start_time": "2021-12-29T08:04:23.762Z"
   },
   {
    "duration": 25,
    "start_time": "2021-12-29T08:08:00.550Z"
   },
   {
    "duration": 27,
    "start_time": "2021-12-29T08:08:46.061Z"
   },
   {
    "duration": 36,
    "start_time": "2021-12-29T08:08:51.727Z"
   },
   {
    "duration": 10,
    "start_time": "2021-12-29T08:11:58.730Z"
   },
   {
    "duration": 9,
    "start_time": "2021-12-29T08:12:10.230Z"
   },
   {
    "duration": 10,
    "start_time": "2021-12-29T08:13:48.352Z"
   },
   {
    "duration": 14,
    "start_time": "2021-12-29T08:15:37.520Z"
   },
   {
    "duration": 16,
    "start_time": "2021-12-29T08:15:44.854Z"
   },
   {
    "duration": 30,
    "start_time": "2021-12-29T08:27:28.166Z"
   },
   {
    "duration": 313,
    "start_time": "2021-12-29T08:28:59.125Z"
   },
   {
    "duration": 325,
    "start_time": "2021-12-29T08:30:09.994Z"
   },
   {
    "duration": 15,
    "start_time": "2021-12-29T08:31:04.146Z"
   },
   {
    "duration": 3755,
    "start_time": "2021-12-29T08:31:15.559Z"
   },
   {
    "duration": 287,
    "start_time": "2021-12-29T08:32:03.940Z"
   },
   {
    "duration": 4390,
    "start_time": "2021-12-29T08:33:59.582Z"
   },
   {
    "duration": 5066,
    "start_time": "2021-12-29T08:35:44.531Z"
   },
   {
    "duration": 4752,
    "start_time": "2021-12-29T08:36:19.785Z"
   },
   {
    "duration": 5447,
    "start_time": "2021-12-29T08:45:56.046Z"
   },
   {
    "duration": 8321,
    "start_time": "2021-12-29T08:46:23.877Z"
   },
   {
    "duration": 8677,
    "start_time": "2021-12-29T08:47:36.929Z"
   },
   {
    "duration": 276,
    "start_time": "2021-12-29T08:49:23.002Z"
   },
   {
    "duration": 307,
    "start_time": "2021-12-29T08:49:29.828Z"
   },
   {
    "duration": 32,
    "start_time": "2021-12-29T08:52:35.015Z"
   },
   {
    "duration": 4723,
    "start_time": "2021-12-29T08:53:39.893Z"
   },
   {
    "duration": 5037,
    "start_time": "2021-12-29T08:54:14.960Z"
   },
   {
    "duration": 4718,
    "start_time": "2021-12-29T09:05:33.789Z"
   },
   {
    "duration": 4450,
    "start_time": "2021-12-29T09:07:19.973Z"
   },
   {
    "duration": 4588,
    "start_time": "2021-12-29T09:09:14.887Z"
   },
   {
    "duration": 302,
    "start_time": "2021-12-29T09:15:18.859Z"
   },
   {
    "duration": 4446,
    "start_time": "2021-12-29T09:16:15.766Z"
   },
   {
    "duration": 4789,
    "start_time": "2021-12-29T09:17:04.167Z"
   },
   {
    "duration": 4872,
    "start_time": "2021-12-29T09:17:31.596Z"
   },
   {
    "duration": 4976,
    "start_time": "2021-12-29T09:17:47.059Z"
   },
   {
    "duration": 8349,
    "start_time": "2021-12-29T09:18:39.224Z"
   },
   {
    "duration": 4896,
    "start_time": "2021-12-29T09:19:50.908Z"
   },
   {
    "duration": 13700,
    "start_time": "2021-12-29T09:20:01.431Z"
   },
   {
    "duration": 11832,
    "start_time": "2021-12-29T09:20:20.679Z"
   },
   {
    "duration": 4389,
    "start_time": "2021-12-29T09:21:20.420Z"
   },
   {
    "duration": 8639,
    "start_time": "2021-12-29T09:22:37.654Z"
   },
   {
    "duration": 4798,
    "start_time": "2021-12-29T09:23:12.272Z"
   },
   {
    "duration": 4725,
    "start_time": "2021-12-29T09:24:38.741Z"
   },
   {
    "duration": 5008,
    "start_time": "2021-12-29T09:26:23.025Z"
   },
   {
    "duration": 4554,
    "start_time": "2021-12-29T09:26:57.341Z"
   },
   {
    "duration": 342,
    "start_time": "2021-12-29T11:29:48.831Z"
   },
   {
    "duration": 839,
    "start_time": "2021-12-29T11:29:51.250Z"
   },
   {
    "duration": 49,
    "start_time": "2021-12-29T11:29:52.740Z"
   },
   {
    "duration": 63,
    "start_time": "2021-12-29T11:29:53.867Z"
   },
   {
    "duration": 64,
    "start_time": "2021-12-29T11:32:11.503Z"
   },
   {
    "duration": 41,
    "start_time": "2021-12-29T11:32:11.569Z"
   },
   {
    "duration": 13,
    "start_time": "2021-12-29T11:32:11.614Z"
   },
   {
    "duration": 57,
    "start_time": "2021-12-29T11:32:11.629Z"
   },
   {
    "duration": 29,
    "start_time": "2021-12-29T11:32:11.688Z"
   },
   {
    "duration": 48,
    "start_time": "2021-12-29T11:32:11.719Z"
   },
   {
    "duration": 23,
    "start_time": "2021-12-29T11:32:11.769Z"
   },
   {
    "duration": 28709,
    "start_time": "2021-12-29T11:32:11.796Z"
   },
   {
    "duration": 24,
    "start_time": "2021-12-29T11:32:40.509Z"
   },
   {
    "duration": 34,
    "start_time": "2021-12-29T11:32:40.536Z"
   },
   {
    "duration": 19,
    "start_time": "2021-12-29T11:32:40.573Z"
   },
   {
    "duration": 15,
    "start_time": "2021-12-29T11:32:40.597Z"
   },
   {
    "duration": 54,
    "start_time": "2021-12-29T11:32:40.615Z"
   },
   {
    "duration": 19,
    "start_time": "2021-12-29T11:32:40.672Z"
   },
   {
    "duration": 9,
    "start_time": "2021-12-29T11:32:40.694Z"
   },
   {
    "duration": 65,
    "start_time": "2021-12-29T11:32:40.706Z"
   },
   {
    "duration": 16,
    "start_time": "2021-12-29T11:32:40.773Z"
   },
   {
    "duration": 20,
    "start_time": "2021-12-29T11:32:40.791Z"
   },
   {
    "duration": 4626,
    "start_time": "2021-12-29T11:32:40.813Z"
   },
   {
    "duration": 4462,
    "start_time": "2021-12-29T11:33:10.844Z"
   },
   {
    "duration": 4464,
    "start_time": "2021-12-29T11:33:39.973Z"
   },
   {
    "duration": 8265,
    "start_time": "2021-12-29T11:38:57.634Z"
   },
   {
    "duration": 1570,
    "start_time": "2021-12-29T11:39:15.458Z"
   },
   {
    "duration": 4519,
    "start_time": "2021-12-29T11:40:56.826Z"
   },
   {
    "duration": 4654,
    "start_time": "2021-12-29T11:41:12.253Z"
   },
   {
    "duration": 4409,
    "start_time": "2021-12-29T11:43:58.547Z"
   },
   {
    "duration": 4366,
    "start_time": "2021-12-29T11:47:36.785Z"
   },
   {
    "duration": 8077,
    "start_time": "2021-12-29T11:48:12.720Z"
   },
   {
    "duration": 4270,
    "start_time": "2021-12-29T12:43:52.574Z"
   },
   {
    "duration": 4546,
    "start_time": "2021-12-29T12:45:00.176Z"
   },
   {
    "duration": 8001,
    "start_time": "2021-12-29T12:45:34.694Z"
   },
   {
    "duration": 4696,
    "start_time": "2021-12-29T12:47:03.557Z"
   },
   {
    "duration": 8139,
    "start_time": "2021-12-29T12:47:19.386Z"
   },
   {
    "duration": 8165,
    "start_time": "2021-12-29T12:47:36.541Z"
   },
   {
    "duration": 4772,
    "start_time": "2021-12-29T12:48:45.670Z"
   },
   {
    "duration": 8616,
    "start_time": "2021-12-29T12:49:07.958Z"
   },
   {
    "duration": 8348,
    "start_time": "2021-12-29T12:49:28.956Z"
   },
   {
    "duration": 8310,
    "start_time": "2021-12-29T12:50:03.174Z"
   },
   {
    "duration": 8866,
    "start_time": "2021-12-29T12:50:25.343Z"
   },
   {
    "duration": 8145,
    "start_time": "2021-12-29T12:50:56.756Z"
   },
   {
    "duration": 7987,
    "start_time": "2021-12-29T12:51:39.438Z"
   },
   {
    "duration": 7932,
    "start_time": "2021-12-29T12:51:48.445Z"
   },
   {
    "duration": 7934,
    "start_time": "2021-12-29T12:51:57.884Z"
   },
   {
    "duration": 9359,
    "start_time": "2021-12-29T12:52:40.107Z"
   },
   {
    "duration": 4631,
    "start_time": "2021-12-29T12:56:31.266Z"
   },
   {
    "duration": 4408,
    "start_time": "2021-12-29T12:56:36.917Z"
   },
   {
    "duration": 4320,
    "start_time": "2021-12-29T12:58:07.892Z"
   },
   {
    "duration": 4466,
    "start_time": "2021-12-29T12:58:40.701Z"
   },
   {
    "duration": 4366,
    "start_time": "2021-12-29T13:00:06.592Z"
   },
   {
    "duration": 4824,
    "start_time": "2021-12-29T13:01:12.976Z"
   },
   {
    "duration": 4539,
    "start_time": "2021-12-29T13:01:46.016Z"
   },
   {
    "duration": 13,
    "start_time": "2021-12-29T13:02:55.244Z"
   },
   {
    "duration": 267,
    "start_time": "2021-12-29T13:07:20.381Z"
   },
   {
    "duration": 230,
    "start_time": "2021-12-29T13:07:32.376Z"
   },
   {
    "duration": 330,
    "start_time": "2021-12-29T13:14:13.353Z"
   },
   {
    "duration": 41,
    "start_time": "2021-12-29T13:14:19.560Z"
   },
   {
    "duration": 19,
    "start_time": "2021-12-29T13:14:50.653Z"
   },
   {
    "duration": 284,
    "start_time": "2021-12-29T13:14:58.722Z"
   },
   {
    "duration": 39,
    "start_time": "2021-12-29T13:15:08.504Z"
   },
   {
    "duration": 18,
    "start_time": "2021-12-29T13:15:23.448Z"
   },
   {
    "duration": 14,
    "start_time": "2021-12-29T13:16:08.481Z"
   },
   {
    "duration": 41,
    "start_time": "2021-12-29T13:16:21.566Z"
   },
   {
    "duration": 21,
    "start_time": "2021-12-29T13:16:39.172Z"
   },
   {
    "duration": 328,
    "start_time": "2021-12-29T13:17:10.612Z"
   },
   {
    "duration": 287,
    "start_time": "2021-12-29T13:18:08.775Z"
   },
   {
    "duration": 1994,
    "start_time": "2021-12-29T13:18:17.944Z"
   },
   {
    "duration": 27,
    "start_time": "2021-12-29T13:19:03.675Z"
   },
   {
    "duration": 32,
    "start_time": "2021-12-29T13:19:18.153Z"
   },
   {
    "duration": 24,
    "start_time": "2021-12-29T13:19:35.330Z"
   },
   {
    "duration": 37,
    "start_time": "2021-12-29T13:20:31.685Z"
   },
   {
    "duration": 71,
    "start_time": "2021-12-29T13:23:01.516Z"
   },
   {
    "duration": 36,
    "start_time": "2021-12-29T13:23:01.590Z"
   },
   {
    "duration": 13,
    "start_time": "2021-12-29T13:23:01.667Z"
   },
   {
    "duration": 43,
    "start_time": "2021-12-29T13:23:01.682Z"
   },
   {
    "duration": 55,
    "start_time": "2021-12-29T13:23:01.727Z"
   },
   {
    "duration": 17,
    "start_time": "2021-12-29T13:23:01.784Z"
   },
   {
    "duration": 65,
    "start_time": "2021-12-29T13:23:01.804Z"
   },
   {
    "duration": 29906,
    "start_time": "2021-12-29T13:23:01.873Z"
   },
   {
    "duration": 24,
    "start_time": "2021-12-29T13:23:31.782Z"
   },
   {
    "duration": 8,
    "start_time": "2021-12-29T13:23:31.809Z"
   },
   {
    "duration": 58,
    "start_time": "2021-12-29T13:23:31.819Z"
   },
   {
    "duration": 19,
    "start_time": "2021-12-29T13:23:31.880Z"
   },
   {
    "duration": 35,
    "start_time": "2021-12-29T13:23:31.902Z"
   },
   {
    "duration": 47,
    "start_time": "2021-12-29T13:23:31.939Z"
   },
   {
    "duration": 11,
    "start_time": "2021-12-29T13:23:31.988Z"
   },
   {
    "duration": 73,
    "start_time": "2021-12-29T13:23:32.002Z"
   },
   {
    "duration": 11,
    "start_time": "2021-12-29T13:23:32.077Z"
   },
   {
    "duration": 27,
    "start_time": "2021-12-29T13:23:32.092Z"
   },
   {
    "duration": 4954,
    "start_time": "2021-12-29T13:23:32.122Z"
   },
   {
    "duration": 15,
    "start_time": "2021-12-29T13:23:37.079Z"
   },
   {
    "duration": 303,
    "start_time": "2021-12-29T13:23:37.097Z"
   },
   {
    "duration": 97,
    "start_time": "2021-12-29T13:23:37.403Z"
   },
   {
    "duration": 80,
    "start_time": "2021-12-29T13:24:10.855Z"
   },
   {
    "duration": 82,
    "start_time": "2021-12-29T13:25:35.663Z"
   },
   {
    "duration": 15,
    "start_time": "2021-12-29T13:26:11.023Z"
   },
   {
    "duration": 1212,
    "start_time": "2021-12-29T13:26:45.759Z"
   },
   {
    "duration": 1154,
    "start_time": "2021-12-29T13:27:04.768Z"
   },
   {
    "duration": 1460,
    "start_time": "2021-12-29T13:27:08.174Z"
   },
   {
    "duration": 771,
    "start_time": "2021-12-29T13:28:11.642Z"
   },
   {
    "duration": 3953,
    "start_time": "2021-12-29T13:28:33.222Z"
   },
   {
    "duration": 723,
    "start_time": "2021-12-29T13:28:38.083Z"
   },
   {
    "duration": 19,
    "start_time": "2021-12-29T13:29:43.261Z"
   },
   {
    "duration": 812,
    "start_time": "2021-12-29T13:30:00.889Z"
   },
   {
    "duration": 3922,
    "start_time": "2021-12-29T13:30:14.497Z"
   },
   {
    "duration": 1532,
    "start_time": "2021-12-29T13:30:38.010Z"
   },
   {
    "duration": 4043,
    "start_time": "2021-12-29T13:38:40.493Z"
   },
   {
    "duration": 824,
    "start_time": "2021-12-29T13:38:50.655Z"
   },
   {
    "duration": -48,
    "start_time": "2021-12-29T13:39:04.869Z"
   },
   {
    "duration": 871,
    "start_time": "2021-12-29T13:39:20.545Z"
   },
   {
    "duration": 809,
    "start_time": "2021-12-29T13:40:25.626Z"
   },
   {
    "duration": 278,
    "start_time": "2021-12-29T13:46:02.853Z"
   },
   {
    "duration": 12,
    "start_time": "2021-12-29T13:46:10.886Z"
   },
   {
    "duration": 69,
    "start_time": "2021-12-29T13:46:20.554Z"
   },
   {
    "duration": 68,
    "start_time": "2021-12-29T13:46:20.626Z"
   },
   {
    "duration": 14,
    "start_time": "2021-12-29T13:46:20.698Z"
   },
   {
    "duration": 66,
    "start_time": "2021-12-29T13:46:20.716Z"
   },
   {
    "duration": 28,
    "start_time": "2021-12-29T13:46:20.785Z"
   },
   {
    "duration": 16,
    "start_time": "2021-12-29T13:46:20.815Z"
   },
   {
    "duration": 69,
    "start_time": "2021-12-29T13:46:20.834Z"
   },
   {
    "duration": 30476,
    "start_time": "2021-12-29T13:46:20.909Z"
   },
   {
    "duration": 24,
    "start_time": "2021-12-29T13:46:51.389Z"
   },
   {
    "duration": 10,
    "start_time": "2021-12-29T13:46:51.415Z"
   },
   {
    "duration": 46,
    "start_time": "2021-12-29T13:46:51.427Z"
   },
   {
    "duration": 27,
    "start_time": "2021-12-29T13:46:51.476Z"
   },
   {
    "duration": 17,
    "start_time": "2021-12-29T13:46:51.506Z"
   },
   {
    "duration": 49,
    "start_time": "2021-12-29T13:46:51.526Z"
   },
   {
    "duration": 11,
    "start_time": "2021-12-29T13:46:51.577Z"
   },
   {
    "duration": 36,
    "start_time": "2021-12-29T13:46:51.591Z"
   },
   {
    "duration": 38,
    "start_time": "2021-12-29T13:46:51.629Z"
   },
   {
    "duration": 15,
    "start_time": "2021-12-29T13:46:51.670Z"
   },
   {
    "duration": 4658,
    "start_time": "2021-12-29T13:46:51.687Z"
   },
   {
    "duration": 23,
    "start_time": "2021-12-29T13:46:56.348Z"
   },
   {
    "duration": 251,
    "start_time": "2021-12-29T13:46:56.374Z"
   },
   {
    "duration": 18,
    "start_time": "2021-12-29T13:47:02.478Z"
   },
   {
    "duration": 18,
    "start_time": "2021-12-29T13:47:09.618Z"
   },
   {
    "duration": 15,
    "start_time": "2021-12-29T13:47:14.164Z"
   },
   {
    "duration": 15,
    "start_time": "2021-12-29T13:47:18.764Z"
   },
   {
    "duration": 696,
    "start_time": "2021-12-29T16:12:27.093Z"
   },
   {
    "duration": 53,
    "start_time": "2021-12-29T16:12:27.792Z"
   },
   {
    "duration": 21,
    "start_time": "2021-12-29T16:12:27.848Z"
   },
   {
    "duration": 28,
    "start_time": "2021-12-29T16:12:27.872Z"
   },
   {
    "duration": 21,
    "start_time": "2021-12-29T16:12:27.903Z"
   },
   {
    "duration": 40,
    "start_time": "2021-12-29T16:12:27.926Z"
   },
   {
    "duration": 19,
    "start_time": "2021-12-29T16:12:27.967Z"
   },
   {
    "duration": 19053,
    "start_time": "2021-12-29T16:12:27.989Z"
   },
   {
    "duration": 28,
    "start_time": "2021-12-29T16:12:47.045Z"
   },
   {
    "duration": 15,
    "start_time": "2021-12-29T16:12:47.075Z"
   },
   {
    "duration": 14,
    "start_time": "2021-12-29T16:12:47.092Z"
   },
   {
    "duration": 12,
    "start_time": "2021-12-29T16:12:47.108Z"
   },
   {
    "duration": 13,
    "start_time": "2021-12-29T16:12:47.121Z"
   },
   {
    "duration": 17,
    "start_time": "2021-12-29T16:12:47.160Z"
   },
   {
    "duration": 10,
    "start_time": "2021-12-29T16:12:47.179Z"
   },
   {
    "duration": 48,
    "start_time": "2021-12-29T16:12:47.190Z"
   },
   {
    "duration": 7,
    "start_time": "2021-12-29T16:12:47.240Z"
   },
   {
    "duration": 19,
    "start_time": "2021-12-29T16:12:47.249Z"
   },
   {
    "duration": 3631,
    "start_time": "2021-12-29T16:12:47.271Z"
   },
   {
    "duration": 9,
    "start_time": "2021-12-29T16:12:50.904Z"
   },
   {
    "duration": 169,
    "start_time": "2021-12-29T16:12:50.914Z"
   },
   {
    "duration": 18,
    "start_time": "2021-12-29T16:12:51.086Z"
   },
   {
    "duration": 9,
    "start_time": "2021-12-29T16:36:29.597Z"
   },
   {
    "duration": 11,
    "start_time": "2021-12-29T16:36:36.038Z"
   },
   {
    "duration": 15,
    "start_time": "2021-12-29T16:37:01.271Z"
   },
   {
    "duration": 10,
    "start_time": "2021-12-29T16:37:57.724Z"
   },
   {
    "duration": 10,
    "start_time": "2021-12-29T16:39:13.113Z"
   },
   {
    "duration": 8,
    "start_time": "2021-12-29T16:39:23.746Z"
   },
   {
    "duration": 10,
    "start_time": "2021-12-29T16:40:06.214Z"
   },
   {
    "duration": 9,
    "start_time": "2021-12-29T16:40:22.730Z"
   },
   {
    "duration": 10,
    "start_time": "2021-12-29T16:41:27.726Z"
   },
   {
    "duration": 14,
    "start_time": "2021-12-29T16:41:34.769Z"
   },
   {
    "duration": 18,
    "start_time": "2021-12-29T16:41:58.576Z"
   },
   {
    "duration": 16,
    "start_time": "2021-12-29T16:46:22.043Z"
   },
   {
    "duration": 12,
    "start_time": "2021-12-29T16:54:07.649Z"
   },
   {
    "duration": 13,
    "start_time": "2021-12-29T16:54:34.958Z"
   },
   {
    "duration": 2,
    "start_time": "2021-12-29T17:35:15.933Z"
   },
   {
    "duration": 5,
    "start_time": "2021-12-29T17:37:14.083Z"
   },
   {
    "duration": 5,
    "start_time": "2021-12-29T17:38:13.168Z"
   },
   {
    "duration": 4,
    "start_time": "2021-12-29T17:38:24.144Z"
   },
   {
    "duration": 97,
    "start_time": "2021-12-29T17:38:56.703Z"
   },
   {
    "duration": 88,
    "start_time": "2021-12-29T17:39:04.473Z"
   },
   {
    "duration": 82,
    "start_time": "2021-12-29T17:39:16.055Z"
   },
   {
    "duration": 4,
    "start_time": "2021-12-29T17:40:25.514Z"
   },
   {
    "duration": 5,
    "start_time": "2021-12-29T17:41:05.121Z"
   },
   {
    "duration": 10,
    "start_time": "2021-12-29T17:47:54.914Z"
   },
   {
    "duration": 563,
    "start_time": "2021-12-29T17:55:01.372Z"
   },
   {
    "duration": 360,
    "start_time": "2021-12-29T17:55:44.570Z"
   },
   {
    "duration": 355,
    "start_time": "2021-12-29T17:56:20.341Z"
   },
   {
    "duration": 614,
    "start_time": "2021-12-29T17:56:39.550Z"
   },
   {
    "duration": 434,
    "start_time": "2021-12-29T17:56:46.941Z"
   },
   {
    "duration": 365,
    "start_time": "2021-12-29T17:57:23.676Z"
   },
   {
    "duration": 420,
    "start_time": "2021-12-29T17:58:07.382Z"
   },
   {
    "duration": 10,
    "start_time": "2021-12-29T18:01:54.878Z"
   },
   {
    "duration": 280,
    "start_time": "2021-12-29T18:02:11.655Z"
   },
   {
    "duration": 350,
    "start_time": "2021-12-29T18:03:06.990Z"
   },
   {
    "duration": 269,
    "start_time": "2021-12-29T18:03:41.224Z"
   },
   {
    "duration": 53,
    "start_time": "2021-12-29T18:04:03.347Z"
   },
   {
    "duration": 21,
    "start_time": "2021-12-29T18:04:03.402Z"
   },
   {
    "duration": 36,
    "start_time": "2021-12-29T18:04:03.425Z"
   },
   {
    "duration": 28,
    "start_time": "2021-12-29T18:04:03.464Z"
   },
   {
    "duration": 27,
    "start_time": "2021-12-29T18:04:03.495Z"
   },
   {
    "duration": 52,
    "start_time": "2021-12-29T18:04:03.524Z"
   },
   {
    "duration": 22,
    "start_time": "2021-12-29T18:04:03.577Z"
   },
   {
    "duration": 27435,
    "start_time": "2021-12-29T18:04:03.601Z"
   },
   {
    "duration": 37,
    "start_time": "2021-12-29T18:04:31.039Z"
   },
   {
    "duration": 28,
    "start_time": "2021-12-29T18:04:31.078Z"
   },
   {
    "duration": 38,
    "start_time": "2021-12-29T18:04:31.108Z"
   },
   {
    "duration": 53,
    "start_time": "2021-12-29T18:04:31.148Z"
   },
   {
    "duration": 38,
    "start_time": "2021-12-29T18:04:31.202Z"
   },
   {
    "duration": 25,
    "start_time": "2021-12-29T18:04:31.242Z"
   },
   {
    "duration": 27,
    "start_time": "2021-12-29T18:04:31.268Z"
   },
   {
    "duration": 39,
    "start_time": "2021-12-29T18:04:31.297Z"
   },
   {
    "duration": 23,
    "start_time": "2021-12-29T18:04:31.338Z"
   },
   {
    "duration": 22,
    "start_time": "2021-12-29T18:04:31.363Z"
   },
   {
    "duration": 3749,
    "start_time": "2021-12-29T18:04:31.387Z"
   },
   {
    "duration": 23,
    "start_time": "2021-12-29T18:04:35.138Z"
   },
   {
    "duration": 211,
    "start_time": "2021-12-29T18:04:35.162Z"
   },
   {
    "duration": 12,
    "start_time": "2021-12-29T18:04:35.375Z"
   },
   {
    "duration": 27,
    "start_time": "2021-12-29T18:04:41.258Z"
   },
   {
    "duration": 26,
    "start_time": "2021-12-29T18:04:46.005Z"
   },
   {
    "duration": 638,
    "start_time": "2021-12-29T18:05:15.061Z"
   },
   {
    "duration": 351,
    "start_time": "2021-12-29T18:05:23.447Z"
   },
   {
    "duration": 402,
    "start_time": "2021-12-29T18:05:40.447Z"
   },
   {
    "duration": 261,
    "start_time": "2021-12-29T18:11:11.862Z"
   },
   {
    "duration": 7,
    "start_time": "2021-12-29T18:11:33.661Z"
   },
   {
    "duration": 5,
    "start_time": "2021-12-29T18:12:03.002Z"
   },
   {
    "duration": 9,
    "start_time": "2021-12-29T18:12:20.977Z"
   },
   {
    "duration": 7,
    "start_time": "2021-12-29T18:12:32.804Z"
   },
   {
    "duration": 23,
    "start_time": "2021-12-29T18:14:07.126Z"
   },
   {
    "duration": 8,
    "start_time": "2021-12-29T18:14:23.096Z"
   },
   {
    "duration": 25,
    "start_time": "2021-12-29T18:14:33.771Z"
   },
   {
    "duration": 8,
    "start_time": "2021-12-29T18:21:46.017Z"
   },
   {
    "duration": 7,
    "start_time": "2021-12-29T18:21:55.028Z"
   },
   {
    "duration": 15,
    "start_time": "2021-12-29T18:22:05.399Z"
   },
   {
    "duration": 8,
    "start_time": "2021-12-29T18:22:29.952Z"
   },
   {
    "duration": 9,
    "start_time": "2021-12-29T18:23:03.556Z"
   },
   {
    "duration": 7,
    "start_time": "2021-12-29T18:23:12.742Z"
   },
   {
    "duration": 8,
    "start_time": "2021-12-29T18:24:36.759Z"
   },
   {
    "duration": 18,
    "start_time": "2021-12-29T18:25:11.801Z"
   },
   {
    "duration": 8,
    "start_time": "2021-12-29T18:25:33.437Z"
   },
   {
    "duration": 7,
    "start_time": "2021-12-29T18:25:47.731Z"
   },
   {
    "duration": 8,
    "start_time": "2021-12-29T18:25:51.377Z"
   },
   {
    "duration": 13,
    "start_time": "2021-12-29T18:26:23.615Z"
   },
   {
    "duration": 6,
    "start_time": "2021-12-29T18:26:44.379Z"
   },
   {
    "duration": 16,
    "start_time": "2021-12-29T18:27:05.256Z"
   },
   {
    "duration": 8,
    "start_time": "2021-12-29T18:28:31.617Z"
   },
   {
    "duration": 266,
    "start_time": "2021-12-29T18:31:28.877Z"
   },
   {
    "duration": 435,
    "start_time": "2021-12-29T18:31:34.445Z"
   },
   {
    "duration": 296,
    "start_time": "2021-12-29T18:31:40.465Z"
   },
   {
    "duration": 7,
    "start_time": "2021-12-29T18:31:52.387Z"
   },
   {
    "duration": 6,
    "start_time": "2021-12-29T18:35:54.472Z"
   },
   {
    "duration": 14,
    "start_time": "2021-12-29T18:36:03.291Z"
   },
   {
    "duration": 11,
    "start_time": "2021-12-29T18:36:45.101Z"
   },
   {
    "duration": 10,
    "start_time": "2021-12-29T18:37:17.581Z"
   },
   {
    "duration": 10,
    "start_time": "2021-12-29T18:37:42.169Z"
   },
   {
    "duration": 13,
    "start_time": "2021-12-29T18:37:49.979Z"
   },
   {
    "duration": 12,
    "start_time": "2021-12-29T18:37:55.920Z"
   },
   {
    "duration": 5,
    "start_time": "2021-12-29T18:43:47.446Z"
   },
   {
    "duration": 9,
    "start_time": "2021-12-29T18:43:57.556Z"
   },
   {
    "duration": 4,
    "start_time": "2021-12-29T18:44:13.920Z"
   },
   {
    "duration": 8,
    "start_time": "2021-12-29T18:44:17.094Z"
   },
   {
    "duration": 8,
    "start_time": "2021-12-29T18:44:23.474Z"
   },
   {
    "duration": 7,
    "start_time": "2021-12-29T18:45:57.011Z"
   },
   {
    "duration": 270,
    "start_time": "2021-12-29T18:48:12.660Z"
   },
   {
    "duration": 295,
    "start_time": "2021-12-29T18:48:36.489Z"
   },
   {
    "duration": 55,
    "start_time": "2021-12-29T18:48:45.343Z"
   },
   {
    "duration": 22,
    "start_time": "2021-12-29T18:48:45.400Z"
   },
   {
    "duration": 9,
    "start_time": "2021-12-29T18:48:45.424Z"
   },
   {
    "duration": 51,
    "start_time": "2021-12-29T18:48:45.434Z"
   },
   {
    "duration": 19,
    "start_time": "2021-12-29T18:48:45.597Z"
   },
   {
    "duration": 14,
    "start_time": "2021-12-29T18:48:45.618Z"
   },
   {
    "duration": 43,
    "start_time": "2021-12-29T18:48:45.634Z"
   },
   {
    "duration": 18523,
    "start_time": "2021-12-29T18:48:45.680Z"
   },
   {
    "duration": 16,
    "start_time": "2021-12-29T18:49:04.205Z"
   },
   {
    "duration": 8,
    "start_time": "2021-12-29T18:49:04.223Z"
   },
   {
    "duration": 33,
    "start_time": "2021-12-29T18:49:04.233Z"
   },
   {
    "duration": 15,
    "start_time": "2021-12-29T18:49:04.268Z"
   },
   {
    "duration": 15,
    "start_time": "2021-12-29T18:49:04.287Z"
   },
   {
    "duration": 57,
    "start_time": "2021-12-29T18:49:04.305Z"
   },
   {
    "duration": 8,
    "start_time": "2021-12-29T18:49:04.365Z"
   },
   {
    "duration": 30,
    "start_time": "2021-12-29T18:49:04.375Z"
   },
   {
    "duration": 7,
    "start_time": "2021-12-29T18:49:04.407Z"
   },
   {
    "duration": 55,
    "start_time": "2021-12-29T18:49:04.415Z"
   },
   {
    "duration": 3468,
    "start_time": "2021-12-29T18:49:04.472Z"
   },
   {
    "duration": 9,
    "start_time": "2021-12-29T18:49:07.942Z"
   },
   {
    "duration": 160,
    "start_time": "2021-12-29T18:49:07.961Z"
   },
   {
    "duration": 46,
    "start_time": "2021-12-29T18:49:08.123Z"
   },
   {
    "duration": 21,
    "start_time": "2021-12-29T18:49:15.511Z"
   },
   {
    "duration": 265,
    "start_time": "2021-12-29T18:49:33.431Z"
   },
   {
    "duration": 59,
    "start_time": "2021-12-29T18:50:05.961Z"
   },
   {
    "duration": 41,
    "start_time": "2021-12-29T18:50:06.022Z"
   },
   {
    "duration": 14,
    "start_time": "2021-12-29T18:50:06.066Z"
   },
   {
    "duration": 19,
    "start_time": "2021-12-29T18:50:06.082Z"
   },
   {
    "duration": 17,
    "start_time": "2021-12-29T18:50:06.102Z"
   },
   {
    "duration": 48,
    "start_time": "2021-12-29T18:50:06.121Z"
   },
   {
    "duration": 26,
    "start_time": "2021-12-29T18:50:06.171Z"
   },
   {
    "duration": 18387,
    "start_time": "2021-12-29T18:50:06.198Z"
   },
   {
    "duration": 17,
    "start_time": "2021-12-29T18:50:24.588Z"
   },
   {
    "duration": 8,
    "start_time": "2021-12-29T18:50:24.607Z"
   },
   {
    "duration": 10,
    "start_time": "2021-12-29T18:50:24.617Z"
   },
   {
    "duration": 19,
    "start_time": "2021-12-29T18:50:24.661Z"
   },
   {
    "duration": 19,
    "start_time": "2021-12-29T18:50:24.683Z"
   },
   {
    "duration": 14,
    "start_time": "2021-12-29T18:50:24.704Z"
   },
   {
    "duration": 41,
    "start_time": "2021-12-29T18:50:24.720Z"
   },
   {
    "duration": 29,
    "start_time": "2021-12-29T18:50:24.764Z"
   },
   {
    "duration": 10,
    "start_time": "2021-12-29T18:50:24.795Z"
   },
   {
    "duration": 54,
    "start_time": "2021-12-29T18:50:24.806Z"
   },
   {
    "duration": 3634,
    "start_time": "2021-12-29T18:50:24.863Z"
   },
   {
    "duration": 11,
    "start_time": "2021-12-29T18:50:28.499Z"
   },
   {
    "duration": 186,
    "start_time": "2021-12-29T18:50:28.512Z"
   },
   {
    "duration": 12,
    "start_time": "2021-12-29T18:50:28.699Z"
   },
   {
    "duration": 20,
    "start_time": "2021-12-29T18:50:32.739Z"
   },
   {
    "duration": 11,
    "start_time": "2021-12-29T18:52:51.537Z"
   },
   {
    "duration": 282,
    "start_time": "2021-12-29T18:55:55.013Z"
   },
   {
    "duration": 323,
    "start_time": "2021-12-29T18:56:37.920Z"
   },
   {
    "duration": 20,
    "start_time": "2021-12-29T18:57:01.680Z"
   },
   {
    "duration": 56,
    "start_time": "2021-12-29T18:57:22.916Z"
   },
   {
    "duration": 26,
    "start_time": "2021-12-29T18:57:22.975Z"
   },
   {
    "duration": 10,
    "start_time": "2021-12-29T18:57:23.003Z"
   },
   {
    "duration": 61,
    "start_time": "2021-12-29T18:57:23.014Z"
   },
   {
    "duration": 19,
    "start_time": "2021-12-29T18:57:23.077Z"
   },
   {
    "duration": 16,
    "start_time": "2021-12-29T18:57:23.098Z"
   },
   {
    "duration": 45,
    "start_time": "2021-12-29T18:57:23.116Z"
   },
   {
    "duration": 18460,
    "start_time": "2021-12-29T18:57:23.165Z"
   },
   {
    "duration": 15,
    "start_time": "2021-12-29T18:57:41.628Z"
   },
   {
    "duration": 7,
    "start_time": "2021-12-29T18:57:41.661Z"
   },
   {
    "duration": 33,
    "start_time": "2021-12-29T18:57:41.670Z"
   },
   {
    "duration": 11,
    "start_time": "2021-12-29T18:57:41.705Z"
   },
   {
    "duration": 13,
    "start_time": "2021-12-29T18:57:41.718Z"
   },
   {
    "duration": 42,
    "start_time": "2021-12-29T18:57:41.732Z"
   },
   {
    "duration": 7,
    "start_time": "2021-12-29T18:57:41.777Z"
   },
   {
    "duration": 27,
    "start_time": "2021-12-29T18:57:41.786Z"
   },
   {
    "duration": 7,
    "start_time": "2021-12-29T18:57:41.814Z"
   },
   {
    "duration": 49,
    "start_time": "2021-12-29T18:57:41.822Z"
   },
   {
    "duration": 3565,
    "start_time": "2021-12-29T18:57:41.873Z"
   },
   {
    "duration": 21,
    "start_time": "2021-12-29T18:57:45.440Z"
   },
   {
    "duration": 163,
    "start_time": "2021-12-29T18:57:45.463Z"
   },
   {
    "duration": 48,
    "start_time": "2021-12-29T18:57:45.627Z"
   },
   {
    "duration": 28,
    "start_time": "2021-12-29T18:57:45.680Z"
   },
   {
    "duration": 582,
    "start_time": "2021-12-29T18:57:45.711Z"
   },
   {
    "duration": 16,
    "start_time": "2021-12-29T18:57:46.295Z"
   },
   {
    "duration": 85,
    "start_time": "2021-12-29T18:57:46.313Z"
   },
   {
    "duration": -56,
    "start_time": "2021-12-29T18:57:46.456Z"
   },
   {
    "duration": 12,
    "start_time": "2021-12-29T18:58:09.892Z"
   },
   {
    "duration": 24,
    "start_time": "2021-12-29T18:58:18.750Z"
   },
   {
    "duration": 9,
    "start_time": "2021-12-29T18:58:40.009Z"
   },
   {
    "duration": 11,
    "start_time": "2021-12-29T19:01:03.012Z"
   },
   {
    "duration": 10,
    "start_time": "2021-12-29T19:02:27.140Z"
   },
   {
    "duration": 15,
    "start_time": "2021-12-29T19:06:17.829Z"
   },
   {
    "duration": 12,
    "start_time": "2021-12-29T19:06:30.542Z"
   },
   {
    "duration": 11,
    "start_time": "2021-12-29T19:06:50.749Z"
   },
   {
    "duration": 14,
    "start_time": "2021-12-29T19:08:41.455Z"
   },
   {
    "duration": 9,
    "start_time": "2021-12-29T19:08:45.094Z"
   },
   {
    "duration": 22,
    "start_time": "2021-12-29T19:12:16.579Z"
   },
   {
    "duration": 66,
    "start_time": "2021-12-29T19:12:40.702Z"
   },
   {
    "duration": 27,
    "start_time": "2021-12-29T19:12:40.771Z"
   },
   {
    "duration": 11,
    "start_time": "2021-12-29T19:12:40.800Z"
   },
   {
    "duration": 18,
    "start_time": "2021-12-29T19:12:40.812Z"
   },
   {
    "duration": 22,
    "start_time": "2021-12-29T19:12:40.861Z"
   },
   {
    "duration": 13,
    "start_time": "2021-12-29T19:12:40.955Z"
   },
   {
    "duration": 29,
    "start_time": "2021-12-29T19:12:40.971Z"
   },
   {
    "duration": 18186,
    "start_time": "2021-12-29T19:12:41.002Z"
   },
   {
    "duration": 18,
    "start_time": "2021-12-29T19:12:59.191Z"
   },
   {
    "duration": 15,
    "start_time": "2021-12-29T19:12:59.211Z"
   },
   {
    "duration": 40,
    "start_time": "2021-12-29T19:12:59.228Z"
   },
   {
    "duration": 24,
    "start_time": "2021-12-29T19:12:59.270Z"
   },
   {
    "duration": 12,
    "start_time": "2021-12-29T19:12:59.296Z"
   },
   {
    "duration": 15,
    "start_time": "2021-12-29T19:12:59.311Z"
   },
   {
    "duration": 35,
    "start_time": "2021-12-29T19:12:59.328Z"
   },
   {
    "duration": 46,
    "start_time": "2021-12-29T19:12:59.365Z"
   },
   {
    "duration": 32,
    "start_time": "2021-12-29T19:12:59.413Z"
   },
   {
    "duration": 42,
    "start_time": "2021-12-29T19:12:59.447Z"
   },
   {
    "duration": 3793,
    "start_time": "2021-12-29T19:12:59.491Z"
   },
   {
    "duration": 11,
    "start_time": "2021-12-29T19:13:03.286Z"
   },
   {
    "duration": 185,
    "start_time": "2021-12-29T19:13:03.299Z"
   },
   {
    "duration": 12,
    "start_time": "2021-12-29T19:13:03.486Z"
   },
   {
    "duration": 18,
    "start_time": "2021-12-29T19:13:03.500Z"
   },
   {
    "duration": 423,
    "start_time": "2021-12-29T19:13:03.520Z"
   },
   {
    "duration": 25,
    "start_time": "2021-12-29T19:13:03.945Z"
   },
   {
    "duration": 15,
    "start_time": "2021-12-29T19:13:03.972Z"
   },
   {
    "duration": 17,
    "start_time": "2021-12-29T19:13:03.989Z"
   },
   {
    "duration": 13,
    "start_time": "2021-12-29T19:13:04.008Z"
   },
   {
    "duration": 23,
    "start_time": "2021-12-29T19:13:14.240Z"
   },
   {
    "duration": 62,
    "start_time": "2021-12-29T19:14:27.039Z"
   },
   {
    "duration": 23,
    "start_time": "2021-12-29T19:14:27.103Z"
   },
   {
    "duration": 9,
    "start_time": "2021-12-29T19:14:27.128Z"
   },
   {
    "duration": 35,
    "start_time": "2021-12-29T19:14:27.140Z"
   },
   {
    "duration": 32,
    "start_time": "2021-12-29T19:14:27.176Z"
   },
   {
    "duration": 13,
    "start_time": "2021-12-29T19:14:27.209Z"
   },
   {
    "duration": 41,
    "start_time": "2021-12-29T19:14:27.224Z"
   },
   {
    "duration": 18675,
    "start_time": "2021-12-29T19:14:27.268Z"
   },
   {
    "duration": 33,
    "start_time": "2021-12-29T19:14:45.945Z"
   },
   {
    "duration": 6,
    "start_time": "2021-12-29T19:14:45.980Z"
   },
   {
    "duration": 12,
    "start_time": "2021-12-29T19:14:45.988Z"
   },
   {
    "duration": 12,
    "start_time": "2021-12-29T19:14:46.002Z"
   },
   {
    "duration": 53,
    "start_time": "2021-12-29T19:14:46.016Z"
   },
   {
    "duration": 17,
    "start_time": "2021-12-29T19:14:46.071Z"
   },
   {
    "duration": 7,
    "start_time": "2021-12-29T19:14:46.090Z"
   },
   {
    "duration": 22,
    "start_time": "2021-12-29T19:14:46.099Z"
   },
   {
    "duration": 44,
    "start_time": "2021-12-29T19:14:46.123Z"
   },
   {
    "duration": 16,
    "start_time": "2021-12-29T19:14:46.169Z"
   },
   {
    "duration": 3639,
    "start_time": "2021-12-29T19:14:46.186Z"
   },
   {
    "duration": 14,
    "start_time": "2021-12-29T19:14:49.827Z"
   },
   {
    "duration": 188,
    "start_time": "2021-12-29T19:14:49.843Z"
   },
   {
    "duration": 15,
    "start_time": "2021-12-29T19:14:50.061Z"
   },
   {
    "duration": 48,
    "start_time": "2021-12-29T19:14:50.081Z"
   },
   {
    "duration": 414,
    "start_time": "2021-12-29T19:14:50.132Z"
   },
   {
    "duration": 28,
    "start_time": "2021-12-29T19:14:50.548Z"
   },
   {
    "duration": 10,
    "start_time": "2021-12-29T19:14:50.579Z"
   },
   {
    "duration": 11,
    "start_time": "2021-12-29T19:14:50.590Z"
   },
   {
    "duration": 11,
    "start_time": "2021-12-29T19:14:50.604Z"
   },
   {
    "duration": 23,
    "start_time": "2021-12-29T19:14:55.834Z"
   },
   {
    "duration": 8,
    "start_time": "2021-12-29T19:15:33.996Z"
   },
   {
    "duration": 8,
    "start_time": "2021-12-29T19:16:17.515Z"
   },
   {
    "duration": 19,
    "start_time": "2021-12-29T19:16:38.277Z"
   },
   {
    "duration": 23,
    "start_time": "2021-12-29T19:16:53.745Z"
   },
   {
    "duration": 9,
    "start_time": "2021-12-29T19:16:58.245Z"
   },
   {
    "duration": 8,
    "start_time": "2021-12-29T19:17:42.515Z"
   },
   {
    "duration": 9,
    "start_time": "2021-12-29T19:18:29.567Z"
   },
   {
    "duration": 12,
    "start_time": "2021-12-29T19:19:43.739Z"
   },
   {
    "duration": 12,
    "start_time": "2021-12-29T19:19:52.562Z"
   },
   {
    "duration": 14,
    "start_time": "2021-12-29T19:19:56.511Z"
   },
   {
    "duration": 5,
    "start_time": "2021-12-29T19:30:47.427Z"
   },
   {
    "duration": 5,
    "start_time": "2021-12-29T19:36:37.466Z"
   },
   {
    "duration": 324,
    "start_time": "2021-12-29T19:42:53.885Z"
   },
   {
    "duration": 394,
    "start_time": "2021-12-29T19:43:03.382Z"
   },
   {
    "duration": 22,
    "start_time": "2021-12-29T19:43:18.394Z"
   },
   {
    "duration": 246,
    "start_time": "2021-12-29T19:44:11.973Z"
   },
   {
    "duration": 249,
    "start_time": "2021-12-29T19:44:22.794Z"
   },
   {
    "duration": 973,
    "start_time": "2021-12-29T19:44:29.899Z"
   },
   {
    "duration": 21,
    "start_time": "2021-12-29T19:44:43.694Z"
   },
   {
    "duration": 4,
    "start_time": "2021-12-29T19:45:04.716Z"
   },
   {
    "duration": 474,
    "start_time": "2021-12-30T08:37:41.760Z"
   },
   {
    "duration": 721,
    "start_time": "2021-12-30T08:37:51.685Z"
   },
   {
    "duration": 27,
    "start_time": "2021-12-30T08:37:52.409Z"
   },
   {
    "duration": 10,
    "start_time": "2021-12-30T08:37:52.438Z"
   },
   {
    "duration": 30,
    "start_time": "2021-12-30T08:37:52.449Z"
   },
   {
    "duration": 26,
    "start_time": "2021-12-30T08:37:52.481Z"
   },
   {
    "duration": 43,
    "start_time": "2021-12-30T08:37:52.508Z"
   },
   {
    "duration": 28,
    "start_time": "2021-12-30T08:37:52.552Z"
   },
   {
    "duration": 17325,
    "start_time": "2021-12-30T08:37:52.583Z"
   },
   {
    "duration": 15,
    "start_time": "2021-12-30T08:38:09.910Z"
   },
   {
    "duration": 22,
    "start_time": "2021-12-30T08:38:09.927Z"
   },
   {
    "duration": 24,
    "start_time": "2021-12-30T08:38:09.951Z"
   },
   {
    "duration": 24,
    "start_time": "2021-12-30T08:38:09.978Z"
   },
   {
    "duration": 17,
    "start_time": "2021-12-30T08:38:10.004Z"
   },
   {
    "duration": 40,
    "start_time": "2021-12-30T08:38:10.022Z"
   },
   {
    "duration": 7,
    "start_time": "2021-12-30T08:38:10.064Z"
   },
   {
    "duration": 24,
    "start_time": "2021-12-30T08:38:10.073Z"
   },
   {
    "duration": 17,
    "start_time": "2021-12-30T08:38:10.099Z"
   },
   {
    "duration": 13,
    "start_time": "2021-12-30T08:38:10.118Z"
   },
   {
    "duration": 3499,
    "start_time": "2021-12-30T08:38:10.133Z"
   },
   {
    "duration": 10,
    "start_time": "2021-12-30T08:38:13.634Z"
   },
   {
    "duration": 175,
    "start_time": "2021-12-30T08:38:13.646Z"
   },
   {
    "duration": 47,
    "start_time": "2021-12-30T08:38:13.823Z"
   },
   {
    "duration": 19,
    "start_time": "2021-12-30T08:38:13.873Z"
   },
   {
    "duration": 380,
    "start_time": "2021-12-30T08:38:13.894Z"
   },
   {
    "duration": 1623,
    "start_time": "2021-12-30T08:38:14.276Z"
   },
   {
    "duration": 538,
    "start_time": "2021-12-30T08:38:15.363Z"
   },
   {
    "duration": 534,
    "start_time": "2021-12-30T08:38:15.368Z"
   },
   {
    "duration": 522,
    "start_time": "2021-12-30T08:38:15.381Z"
   },
   {
    "duration": 519,
    "start_time": "2021-12-30T08:38:15.385Z"
   },
   {
    "duration": 174,
    "start_time": "2021-12-30T08:38:26.712Z"
   },
   {
    "duration": 165,
    "start_time": "2021-12-30T08:39:52.130Z"
   },
   {
    "duration": 159,
    "start_time": "2021-12-30T08:45:11.489Z"
   },
   {
    "duration": 157,
    "start_time": "2021-12-30T08:46:15.246Z"
   },
   {
    "duration": 212,
    "start_time": "2021-12-30T08:46:23.339Z"
   },
   {
    "duration": 154,
    "start_time": "2021-12-30T08:46:27.483Z"
   },
   {
    "duration": 146,
    "start_time": "2021-12-30T08:47:14.734Z"
   },
   {
    "duration": 4,
    "start_time": "2021-12-30T08:52:37.112Z"
   },
   {
    "duration": 166,
    "start_time": "2021-12-30T08:55:06.416Z"
   },
   {
    "duration": 201,
    "start_time": "2021-12-30T08:56:04.795Z"
   },
   {
    "duration": 188,
    "start_time": "2021-12-30T08:56:35.389Z"
   },
   {
    "duration": 9,
    "start_time": "2021-12-30T08:58:17.533Z"
   },
   {
    "duration": 10,
    "start_time": "2021-12-30T08:58:45.108Z"
   },
   {
    "duration": 9,
    "start_time": "2021-12-30T08:59:38.546Z"
   },
   {
    "duration": 9,
    "start_time": "2021-12-30T09:00:41.128Z"
   },
   {
    "duration": 280,
    "start_time": "2021-12-30T09:02:37.357Z"
   },
   {
    "duration": 156,
    "start_time": "2021-12-30T09:02:46.491Z"
   },
   {
    "duration": 82,
    "start_time": "2021-12-30T09:03:05.103Z"
   },
   {
    "duration": 161,
    "start_time": "2021-12-30T09:03:13.844Z"
   },
   {
    "duration": 159,
    "start_time": "2021-12-30T09:03:33.794Z"
   },
   {
    "duration": 156,
    "start_time": "2021-12-30T09:03:54.250Z"
   },
   {
    "duration": 151,
    "start_time": "2021-12-30T09:03:58.809Z"
   },
   {
    "duration": 256,
    "start_time": "2021-12-30T09:09:22.441Z"
   },
   {
    "duration": 10,
    "start_time": "2021-12-30T09:09:27.034Z"
   },
   {
    "duration": 84,
    "start_time": "2021-12-30T09:10:52.991Z"
   },
   {
    "duration": 7,
    "start_time": "2021-12-30T09:11:03.323Z"
   },
   {
    "duration": 13,
    "start_time": "2021-12-30T09:11:16.888Z"
   },
   {
    "duration": 11,
    "start_time": "2021-12-30T09:11:22.454Z"
   },
   {
    "duration": 11,
    "start_time": "2021-12-30T09:13:50.458Z"
   },
   {
    "duration": 13,
    "start_time": "2021-12-30T09:13:56.537Z"
   },
   {
    "duration": 147,
    "start_time": "2021-12-30T09:16:38.688Z"
   },
   {
    "duration": 164,
    "start_time": "2021-12-30T09:16:48.521Z"
   },
   {
    "duration": 10,
    "start_time": "2021-12-30T09:20:26.018Z"
   },
   {
    "duration": 23,
    "start_time": "2021-12-30T09:20:37.796Z"
   },
   {
    "duration": 85,
    "start_time": "2021-12-30T09:21:04.969Z"
   },
   {
    "duration": 10,
    "start_time": "2021-12-30T09:21:08.642Z"
   },
   {
    "duration": 142,
    "start_time": "2021-12-30T09:42:23.321Z"
   },
   {
    "duration": 250,
    "start_time": "2021-12-30T09:42:39.559Z"
   },
   {
    "duration": 174,
    "start_time": "2021-12-30T09:43:00.953Z"
   },
   {
    "duration": 157,
    "start_time": "2021-12-30T09:43:13.759Z"
   },
   {
    "duration": 170,
    "start_time": "2021-12-30T09:57:17.162Z"
   },
   {
    "duration": 174,
    "start_time": "2021-12-30T09:57:32.361Z"
   },
   {
    "duration": 155,
    "start_time": "2021-12-30T09:58:38.986Z"
   },
   {
    "duration": 175,
    "start_time": "2021-12-30T09:59:20.083Z"
   },
   {
    "duration": 163,
    "start_time": "2021-12-30T09:59:30.628Z"
   },
   {
    "duration": 167,
    "start_time": "2021-12-30T09:59:33.439Z"
   },
   {
    "duration": 154,
    "start_time": "2021-12-30T09:59:36.058Z"
   },
   {
    "duration": 157,
    "start_time": "2021-12-30T10:02:42.791Z"
   },
   {
    "duration": 82,
    "start_time": "2021-12-30T10:02:49.912Z"
   },
   {
    "duration": 87,
    "start_time": "2021-12-30T10:02:54.833Z"
   },
   {
    "duration": 191,
    "start_time": "2021-12-30T10:03:00.861Z"
   },
   {
    "duration": 170,
    "start_time": "2021-12-30T10:03:24.139Z"
   },
   {
    "duration": 161,
    "start_time": "2021-12-30T10:03:36.628Z"
   },
   {
    "duration": 191,
    "start_time": "2021-12-30T10:03:49.643Z"
   },
   {
    "duration": 158,
    "start_time": "2021-12-30T10:04:11.430Z"
   },
   {
    "duration": 274,
    "start_time": "2021-12-30T10:06:01.395Z"
   },
   {
    "duration": 181,
    "start_time": "2021-12-30T10:08:50.665Z"
   },
   {
    "duration": 166,
    "start_time": "2021-12-30T10:09:13.983Z"
   },
   {
    "duration": 169,
    "start_time": "2021-12-30T10:09:26.894Z"
   },
   {
    "duration": 170,
    "start_time": "2021-12-30T10:09:34.446Z"
   },
   {
    "duration": 176,
    "start_time": "2021-12-30T10:10:03.607Z"
   },
   {
    "duration": 173,
    "start_time": "2021-12-30T10:10:37.305Z"
   },
   {
    "duration": 177,
    "start_time": "2021-12-30T10:15:15.665Z"
   },
   {
    "duration": 179,
    "start_time": "2021-12-30T10:15:22.954Z"
   },
   {
    "duration": 175,
    "start_time": "2021-12-30T10:16:38.560Z"
   },
   {
    "duration": 190,
    "start_time": "2021-12-30T10:16:49.542Z"
   },
   {
    "duration": 204,
    "start_time": "2021-12-30T10:25:09.364Z"
   },
   {
    "duration": 204,
    "start_time": "2021-12-30T10:25:49.252Z"
   },
   {
    "duration": 199,
    "start_time": "2021-12-30T10:26:11.113Z"
   },
   {
    "duration": 198,
    "start_time": "2021-12-30T10:26:38.709Z"
   },
   {
    "duration": 208,
    "start_time": "2021-12-30T10:27:01.495Z"
   },
   {
    "duration": 187,
    "start_time": "2021-12-30T10:27:05.879Z"
   },
   {
    "duration": 211,
    "start_time": "2021-12-30T10:27:30.394Z"
   },
   {
    "duration": 329,
    "start_time": "2021-12-30T10:27:55.434Z"
   },
   {
    "duration": 259,
    "start_time": "2021-12-30T10:28:13.884Z"
   },
   {
    "duration": 184,
    "start_time": "2021-12-30T10:31:08.382Z"
   },
   {
    "duration": 186,
    "start_time": "2021-12-30T10:31:13.960Z"
   },
   {
    "duration": 200,
    "start_time": "2021-12-30T10:32:30.609Z"
   },
   {
    "duration": 293,
    "start_time": "2021-12-30T10:34:12.631Z"
   },
   {
    "duration": 184,
    "start_time": "2021-12-30T10:36:16.227Z"
   },
   {
    "duration": 176,
    "start_time": "2021-12-30T10:37:24.092Z"
   },
   {
    "duration": 260,
    "start_time": "2021-12-30T10:38:47.051Z"
   },
   {
    "duration": 11,
    "start_time": "2021-12-30T10:39:01.952Z"
   },
   {
    "duration": 273,
    "start_time": "2021-12-30T10:40:28.680Z"
   },
   {
    "duration": 16,
    "start_time": "2021-12-30T10:40:34.344Z"
   },
   {
    "duration": 14,
    "start_time": "2021-12-30T10:41:02.776Z"
   },
   {
    "duration": 18,
    "start_time": "2021-12-30T10:41:16.809Z"
   },
   {
    "duration": 336,
    "start_time": "2021-12-30T10:42:04.621Z"
   },
   {
    "duration": 476,
    "start_time": "2021-12-30T10:42:18.092Z"
   },
   {
    "duration": 15,
    "start_time": "2021-12-30T10:42:30.961Z"
   },
   {
    "duration": 28,
    "start_time": "2021-12-30T10:44:55.525Z"
   },
   {
    "duration": 93,
    "start_time": "2021-12-30T10:45:01.808Z"
   },
   {
    "duration": 320,
    "start_time": "2021-12-30T10:45:05.077Z"
   },
   {
    "duration": 27,
    "start_time": "2021-12-30T10:45:08.341Z"
   },
   {
    "duration": 28,
    "start_time": "2021-12-30T10:45:21.538Z"
   },
   {
    "duration": 33,
    "start_time": "2021-12-30T10:46:21.956Z"
   },
   {
    "duration": 39,
    "start_time": "2021-12-30T10:47:12.864Z"
   },
   {
    "duration": 27,
    "start_time": "2021-12-30T10:48:37.764Z"
   },
   {
    "duration": 30,
    "start_time": "2021-12-30T10:48:56.810Z"
   },
   {
    "duration": 29,
    "start_time": "2021-12-30T10:50:17.068Z"
   },
   {
    "duration": 29,
    "start_time": "2021-12-30T10:51:37.318Z"
   },
   {
    "duration": 3,
    "start_time": "2021-12-30T11:02:03.979Z"
   },
   {
    "duration": 86,
    "start_time": "2021-12-30T11:03:30.637Z"
   },
   {
    "duration": 194,
    "start_time": "2021-12-30T11:03:55.316Z"
   },
   {
    "duration": 315,
    "start_time": "2021-12-30T11:04:02.421Z"
   },
   {
    "duration": 3,
    "start_time": "2021-12-30T11:04:05.084Z"
   },
   {
    "duration": 486,
    "start_time": "2021-12-30T11:04:31.141Z"
   },
   {
    "duration": 505,
    "start_time": "2021-12-30T11:04:42.267Z"
   },
   {
    "duration": 139,
    "start_time": "2021-12-30T11:07:19.073Z"
   },
   {
    "duration": 212,
    "start_time": "2021-12-30T11:08:25.525Z"
   },
   {
    "duration": 168,
    "start_time": "2021-12-30T11:10:03.558Z"
   },
   {
    "duration": 507,
    "start_time": "2021-12-30T11:10:08.799Z"
   },
   {
    "duration": 151,
    "start_time": "2021-12-30T11:10:15.485Z"
   },
   {
    "duration": 87,
    "start_time": "2021-12-30T11:10:45.493Z"
   },
   {
    "duration": 168,
    "start_time": "2021-12-30T11:10:48.800Z"
   },
   {
    "duration": 292,
    "start_time": "2021-12-30T11:11:39.091Z"
   },
   {
    "duration": 461,
    "start_time": "2021-12-30T11:12:15.428Z"
   },
   {
    "duration": 4,
    "start_time": "2021-12-30T11:14:23.236Z"
   },
   {
    "duration": 247,
    "start_time": "2021-12-30T11:15:02.526Z"
   },
   {
    "duration": 274,
    "start_time": "2021-12-30T11:15:06.250Z"
   },
   {
    "duration": 174,
    "start_time": "2021-12-30T11:15:21.177Z"
   },
   {
    "duration": 144,
    "start_time": "2021-12-30T11:16:01.700Z"
   },
   {
    "duration": 259,
    "start_time": "2021-12-30T11:16:16.705Z"
   },
   {
    "duration": 131,
    "start_time": "2021-12-30T11:16:29.159Z"
   },
   {
    "duration": 142,
    "start_time": "2021-12-30T11:16:39.983Z"
   },
   {
    "duration": 27,
    "start_time": "2021-12-30T11:18:26.731Z"
   },
   {
    "duration": 28,
    "start_time": "2021-12-30T11:19:10.583Z"
   },
   {
    "duration": 11,
    "start_time": "2021-12-30T11:20:33.755Z"
   },
   {
    "duration": 12,
    "start_time": "2021-12-30T11:20:45.285Z"
   },
   {
    "duration": 324,
    "start_time": "2021-12-30T11:32:35.989Z"
   },
   {
    "duration": 310,
    "start_time": "2021-12-30T11:32:40.091Z"
   },
   {
    "duration": 882,
    "start_time": "2021-12-31T13:32:46.006Z"
   },
   {
    "duration": 41,
    "start_time": "2021-12-31T13:32:46.891Z"
   },
   {
    "duration": 29,
    "start_time": "2021-12-31T13:32:46.935Z"
   },
   {
    "duration": 27,
    "start_time": "2021-12-31T13:32:46.967Z"
   },
   {
    "duration": 28,
    "start_time": "2021-12-31T13:32:46.997Z"
   },
   {
    "duration": 48,
    "start_time": "2021-12-31T13:32:47.027Z"
   },
   {
    "duration": 24,
    "start_time": "2021-12-31T13:32:47.078Z"
   },
   {
    "duration": 28848,
    "start_time": "2021-12-31T13:32:47.104Z"
   },
   {
    "duration": 27,
    "start_time": "2021-12-31T13:33:15.956Z"
   },
   {
    "duration": 13,
    "start_time": "2021-12-31T13:33:15.986Z"
   },
   {
    "duration": 14,
    "start_time": "2021-12-31T13:33:16.001Z"
   },
   {
    "duration": 52,
    "start_time": "2021-12-31T13:33:16.018Z"
   },
   {
    "duration": 17,
    "start_time": "2021-12-31T13:33:16.073Z"
   },
   {
    "duration": 20,
    "start_time": "2021-12-31T13:33:16.093Z"
   },
   {
    "duration": 9,
    "start_time": "2021-12-31T13:33:16.115Z"
   },
   {
    "duration": 61,
    "start_time": "2021-12-31T13:33:16.127Z"
   },
   {
    "duration": 9,
    "start_time": "2021-12-31T13:33:16.190Z"
   },
   {
    "duration": 16,
    "start_time": "2021-12-31T13:33:16.201Z"
   },
   {
    "duration": 4366,
    "start_time": "2021-12-31T13:33:16.220Z"
   },
   {
    "duration": 15,
    "start_time": "2021-12-31T13:33:20.588Z"
   },
   {
    "duration": 371,
    "start_time": "2021-12-31T13:33:20.606Z"
   },
   {
    "duration": 15,
    "start_time": "2021-12-31T13:33:20.979Z"
   },
   {
    "duration": 29,
    "start_time": "2021-12-31T13:33:20.998Z"
   },
   {
    "duration": 696,
    "start_time": "2021-12-31T13:33:21.030Z"
   },
   {
    "duration": 535,
    "start_time": "2021-12-31T13:33:21.729Z"
   },
   {
    "duration": 477,
    "start_time": "2021-12-31T13:33:22.267Z"
   },
   {
    "duration": 1016,
    "start_time": "2021-12-31T13:33:22.751Z"
   },
   {
    "duration": 249,
    "start_time": "2021-12-31T13:33:23.771Z"
   },
   {
    "duration": 275,
    "start_time": "2021-12-31T13:33:24.023Z"
   },
   {
    "duration": 276,
    "start_time": "2021-12-31T13:33:24.300Z"
   },
   {
    "duration": 825,
    "start_time": "2021-12-31T13:52:53.865Z"
   },
   {
    "duration": 41,
    "start_time": "2021-12-31T13:52:54.693Z"
   },
   {
    "duration": 29,
    "start_time": "2021-12-31T13:52:54.737Z"
   },
   {
    "duration": 28,
    "start_time": "2021-12-31T13:52:54.768Z"
   },
   {
    "duration": 29,
    "start_time": "2021-12-31T13:52:54.798Z"
   },
   {
    "duration": 17,
    "start_time": "2021-12-31T13:52:54.862Z"
   },
   {
    "duration": 25,
    "start_time": "2021-12-31T13:52:54.882Z"
   },
   {
    "duration": 29271,
    "start_time": "2021-12-31T13:53:41.384Z"
   },
   {
    "duration": 8,
    "start_time": "2021-12-31T13:54:30.141Z"
   },
   {
    "duration": 6,
    "start_time": "2021-12-31T13:54:39.237Z"
   },
   {
    "duration": 23,
    "start_time": "2021-12-31T13:56:26.570Z"
   },
   {
    "duration": 12,
    "start_time": "2021-12-31T13:57:38.975Z"
   },
   {
    "duration": 34,
    "start_time": "2021-12-31T13:59:43.365Z"
   },
   {
    "duration": 14,
    "start_time": "2021-12-31T13:59:59.935Z"
   },
   {
    "duration": 15,
    "start_time": "2021-12-31T14:00:49.131Z"
   },
   {
    "duration": 328,
    "start_time": "2021-12-31T14:02:54.917Z"
   },
   {
    "duration": 792,
    "start_time": "2021-12-31T14:02:59.278Z"
   },
   {
    "duration": 41,
    "start_time": "2021-12-31T14:03:00.767Z"
   },
   {
    "duration": 14,
    "start_time": "2021-12-31T14:03:05.091Z"
   },
   {
    "duration": 28,
    "start_time": "2021-12-31T14:03:18.512Z"
   },
   {
    "duration": 28,
    "start_time": "2021-12-31T14:04:01.850Z"
   },
   {
    "duration": 12,
    "start_time": "2021-12-31T14:04:06.253Z"
   },
   {
    "duration": 20,
    "start_time": "2021-12-31T14:04:20.418Z"
   },
   {
    "duration": 15,
    "start_time": "2021-12-31T14:04:23.981Z"
   },
   {
    "duration": 29,
    "start_time": "2021-12-31T14:08:19.819Z"
   },
   {
    "duration": 16,
    "start_time": "2021-12-31T14:11:03.688Z"
   },
   {
    "duration": 23,
    "start_time": "2021-12-31T14:13:22.158Z"
   },
   {
    "duration": 28525,
    "start_time": "2021-12-31T14:15:06.451Z"
   },
   {
    "duration": 24,
    "start_time": "2021-12-31T14:15:48.342Z"
   },
   {
    "duration": 13,
    "start_time": "2021-12-31T14:17:13.002Z"
   },
   {
    "duration": 14,
    "start_time": "2021-12-31T14:17:21.314Z"
   },
   {
    "duration": 48,
    "start_time": "2021-12-31T14:17:34.709Z"
   },
   {
    "duration": 15,
    "start_time": "2021-12-31T14:18:13.140Z"
   },
   {
    "duration": 17,
    "start_time": "2021-12-31T14:18:43.114Z"
   },
   {
    "duration": 18,
    "start_time": "2021-12-31T14:18:49.586Z"
   },
   {
    "duration": 20,
    "start_time": "2021-12-31T14:19:49.510Z"
   },
   {
    "duration": 11,
    "start_time": "2021-12-31T14:19:59.678Z"
   },
   {
    "duration": 28,
    "start_time": "2021-12-31T14:20:34.809Z"
   },
   {
    "duration": 6,
    "start_time": "2021-12-31T14:20:56.133Z"
   },
   {
    "duration": 9,
    "start_time": "2021-12-31T14:22:43.318Z"
   },
   {
    "duration": 15,
    "start_time": "2021-12-31T14:22:48.327Z"
   },
   {
    "duration": 466,
    "start_time": "2021-12-31T14:25:45.198Z"
   },
   {
    "duration": 4280,
    "start_time": "2021-12-31T14:25:53.698Z"
   },
   {
    "duration": 4421,
    "start_time": "2021-12-31T14:26:31.468Z"
   },
   {
    "duration": 4215,
    "start_time": "2021-12-31T14:26:39.752Z"
   },
   {
    "duration": 4134,
    "start_time": "2021-12-31T14:26:56.716Z"
   },
   {
    "duration": 15,
    "start_time": "2021-12-31T14:27:07.336Z"
   },
   {
    "duration": 33,
    "start_time": "2021-12-31T14:27:31.120Z"
   },
   {
    "duration": 39,
    "start_time": "2021-12-31T14:28:13.210Z"
   },
   {
    "duration": 199,
    "start_time": "2021-12-31T14:37:45.002Z"
   },
   {
    "duration": 15,
    "start_time": "2021-12-31T14:37:57.633Z"
   },
   {
    "duration": 20,
    "start_time": "2021-12-31T14:39:30.554Z"
   },
   {
    "duration": 623,
    "start_time": "2021-12-31T14:39:42.312Z"
   },
   {
    "duration": 571,
    "start_time": "2021-12-31T14:41:35.984Z"
   },
   {
    "duration": 487,
    "start_time": "2021-12-31T14:44:32.969Z"
   },
   {
    "duration": 1015,
    "start_time": "2021-12-31T14:47:16.970Z"
   },
   {
    "duration": 10,
    "start_time": "2021-12-31T14:47:39.867Z"
   },
   {
    "duration": 11,
    "start_time": "2021-12-31T14:48:00.128Z"
   },
   {
    "duration": 12,
    "start_time": "2021-12-31T14:48:06.277Z"
   },
   {
    "duration": 13,
    "start_time": "2021-12-31T14:48:57.955Z"
   },
   {
    "duration": 15,
    "start_time": "2021-12-31T14:50:25.281Z"
   },
   {
    "duration": 14,
    "start_time": "2021-12-31T14:52:37.212Z"
   },
   {
    "duration": 1681,
    "start_time": "2021-12-31T14:55:46.593Z"
   },
   {
    "duration": 33,
    "start_time": "2021-12-31T14:56:02.417Z"
   },
   {
    "duration": 235,
    "start_time": "2021-12-31T15:01:31.088Z"
   },
   {
    "duration": 266,
    "start_time": "2021-12-31T15:03:33.360Z"
   },
   {
    "duration": 253,
    "start_time": "2021-12-31T15:05:16.833Z"
   },
   {
    "duration": 32,
    "start_time": "2021-12-31T15:11:26.711Z"
   },
   {
    "duration": 19,
    "start_time": "2021-12-31T15:11:35.197Z"
   },
   {
    "duration": 49,
    "start_time": "2021-12-31T15:11:48.457Z"
   },
   {
    "duration": 31,
    "start_time": "2021-12-31T15:11:55.223Z"
   },
   {
    "duration": 38,
    "start_time": "2021-12-31T15:12:22.364Z"
   },
   {
    "duration": 36,
    "start_time": "2021-12-31T15:12:35.262Z"
   },
   {
    "duration": 831,
    "start_time": "2021-12-31T15:17:24.160Z"
   },
   {
    "duration": 44,
    "start_time": "2021-12-31T15:17:24.993Z"
   },
   {
    "duration": 30,
    "start_time": "2021-12-31T15:17:25.040Z"
   },
   {
    "duration": 28,
    "start_time": "2021-12-31T15:17:25.073Z"
   },
   {
    "duration": 66,
    "start_time": "2021-12-31T15:17:25.103Z"
   },
   {
    "duration": 22,
    "start_time": "2021-12-31T15:17:25.171Z"
   },
   {
    "duration": 28,
    "start_time": "2021-12-31T15:17:25.195Z"
   },
   {
    "duration": 28973,
    "start_time": "2021-12-31T15:17:25.226Z"
   },
   {
    "duration": 33,
    "start_time": "2021-12-31T15:17:54.203Z"
   },
   {
    "duration": 32,
    "start_time": "2021-12-31T15:17:54.239Z"
   },
   {
    "duration": 19,
    "start_time": "2021-12-31T15:17:54.274Z"
   },
   {
    "duration": 22,
    "start_time": "2021-12-31T15:17:54.297Z"
   },
   {
    "duration": 58,
    "start_time": "2021-12-31T15:17:54.322Z"
   },
   {
    "duration": 21,
    "start_time": "2021-12-31T15:17:54.382Z"
   },
   {
    "duration": 10,
    "start_time": "2021-12-31T15:17:54.405Z"
   },
   {
    "duration": 68,
    "start_time": "2021-12-31T15:17:54.418Z"
   },
   {
    "duration": 9,
    "start_time": "2021-12-31T15:17:54.488Z"
   },
   {
    "duration": 24,
    "start_time": "2021-12-31T15:17:54.499Z"
   },
   {
    "duration": 4106,
    "start_time": "2021-12-31T15:17:54.526Z"
   },
   {
    "duration": 13,
    "start_time": "2021-12-31T15:17:58.635Z"
   },
   {
    "duration": 239,
    "start_time": "2021-12-31T15:17:58.650Z"
   },
   {
    "duration": 16,
    "start_time": "2021-12-31T15:17:58.891Z"
   },
   {
    "duration": 64,
    "start_time": "2021-12-31T15:17:58.912Z"
   },
   {
    "duration": 627,
    "start_time": "2021-12-31T15:17:58.978Z"
   },
   {
    "duration": 517,
    "start_time": "2021-12-31T15:17:59.608Z"
   },
   {
    "duration": 471,
    "start_time": "2021-12-31T15:18:00.128Z"
   },
   {
    "duration": 17,
    "start_time": "2021-12-31T15:18:00.602Z"
   },
   {
    "duration": 973,
    "start_time": "2021-12-31T15:18:00.622Z"
   },
   {
    "duration": 709,
    "start_time": "2021-12-31T15:18:01.597Z"
   },
   {
    "duration": 251,
    "start_time": "2021-12-31T15:18:02.308Z"
   },
   {
    "duration": 348,
    "start_time": "2021-12-31T15:18:02.561Z"
   },
   {
    "duration": 338,
    "start_time": "2021-12-31T15:18:02.911Z"
   },
   {
    "duration": 528,
    "start_time": "2022-01-02T08:16:53.354Z"
   },
   {
    "duration": 776,
    "start_time": "2022-01-02T08:17:11.919Z"
   },
   {
    "duration": 64,
    "start_time": "2022-01-02T08:17:14.942Z"
   },
   {
    "duration": 694,
    "start_time": "2022-01-02T08:17:36.427Z"
   },
   {
    "duration": 522,
    "start_time": "2022-01-02T08:35:40.532Z"
   },
   {
    "duration": 428,
    "start_time": "2022-01-02T08:35:48.821Z"
   },
   {
    "duration": 3,
    "start_time": "2022-01-02T08:35:58.705Z"
   },
   {
    "duration": 66,
    "start_time": "2022-01-02T08:36:00.880Z"
   },
   {
    "duration": 39,
    "start_time": "2022-01-02T08:36:07.012Z"
   },
   {
    "duration": 392,
    "start_time": "2022-01-02T08:36:12.193Z"
   },
   {
    "duration": 19,
    "start_time": "2022-01-02T08:36:44.312Z"
   },
   {
    "duration": 46,
    "start_time": "2022-01-02T08:36:49.835Z"
   },
   {
    "duration": 48,
    "start_time": "2022-01-02T08:42:00.674Z"
   },
   {
    "duration": 94,
    "start_time": "2022-01-02T08:42:21.681Z"
   },
   {
    "duration": 69,
    "start_time": "2022-01-02T08:42:34.016Z"
   },
   {
    "duration": 83,
    "start_time": "2022-01-02T08:42:55.070Z"
   },
   {
    "duration": 459,
    "start_time": "2022-01-02T08:43:15.791Z"
   },
   {
    "duration": 10232,
    "start_time": "2022-01-02T08:43:24.253Z"
   },
   {
    "duration": 55,
    "start_time": "2022-01-02T08:44:52.325Z"
   },
   {
    "duration": 81,
    "start_time": "2022-01-02T08:48:00.290Z"
   },
   {
    "duration": 129,
    "start_time": "2022-01-02T08:56:05.118Z"
   },
   {
    "duration": 34,
    "start_time": "2022-01-02T08:56:11.456Z"
   },
   {
    "duration": 9,
    "start_time": "2022-01-02T08:56:30.358Z"
   },
   {
    "duration": 11,
    "start_time": "2022-01-02T08:59:40.810Z"
   },
   {
    "duration": 10,
    "start_time": "2022-01-02T08:59:53.289Z"
   },
   {
    "duration": 26,
    "start_time": "2022-01-02T09:01:56.633Z"
   },
   {
    "duration": 20,
    "start_time": "2022-01-02T09:04:37.390Z"
   },
   {
    "duration": 11,
    "start_time": "2022-01-02T09:05:34.392Z"
   },
   {
    "duration": 16,
    "start_time": "2022-01-02T09:05:50.839Z"
   },
   {
    "duration": 17,
    "start_time": "2022-01-02T09:06:05.846Z"
   },
   {
    "duration": 28,
    "start_time": "2022-01-02T09:11:22.820Z"
   },
   {
    "duration": 25,
    "start_time": "2022-01-02T09:12:15.593Z"
   },
   {
    "duration": 22,
    "start_time": "2022-01-02T09:14:02.059Z"
   },
   {
    "duration": 9,
    "start_time": "2022-01-02T09:14:52.881Z"
   },
   {
    "duration": 9,
    "start_time": "2022-01-02T09:15:01.787Z"
   },
   {
    "duration": 9,
    "start_time": "2022-01-02T09:15:09.725Z"
   },
   {
    "duration": 16,
    "start_time": "2022-01-02T09:15:24.084Z"
   },
   {
    "duration": 456,
    "start_time": "2022-01-02T09:51:08.162Z"
   },
   {
    "duration": 1747,
    "start_time": "2022-01-02T09:51:32.905Z"
   },
   {
    "duration": 1808,
    "start_time": "2022-01-02T09:54:23.171Z"
   },
   {
    "duration": 1580,
    "start_time": "2022-01-02T09:56:05.351Z"
   },
   {
    "duration": 29,
    "start_time": "2022-01-02T10:04:32.855Z"
   },
   {
    "duration": 12,
    "start_time": "2022-01-02T10:16:35.199Z"
   },
   {
    "duration": 15,
    "start_time": "2022-01-02T10:16:45.809Z"
   },
   {
    "duration": 43,
    "start_time": "2022-01-02T10:20:50.788Z"
   },
   {
    "duration": 27,
    "start_time": "2022-01-02T10:21:13.632Z"
   },
   {
    "duration": 46,
    "start_time": "2022-01-02T10:21:35.231Z"
   },
   {
    "duration": 380,
    "start_time": "2022-01-02T10:22:56.894Z"
   },
   {
    "duration": 636,
    "start_time": "2022-01-02T10:23:08.127Z"
   },
   {
    "duration": 3,
    "start_time": "2022-01-02T10:23:23.814Z"
   },
   {
    "duration": 66,
    "start_time": "2022-01-02T10:23:23.820Z"
   },
   {
    "duration": 29,
    "start_time": "2022-01-02T10:23:23.889Z"
   },
   {
    "duration": 98,
    "start_time": "2022-01-02T10:23:23.920Z"
   },
   {
    "duration": 11,
    "start_time": "2022-01-02T10:23:24.020Z"
   },
   {
    "duration": 47,
    "start_time": "2022-01-02T10:23:24.034Z"
   },
   {
    "duration": 8,
    "start_time": "2022-01-02T10:23:24.084Z"
   },
   {
    "duration": 24,
    "start_time": "2022-01-02T10:23:24.095Z"
   },
   {
    "duration": 46,
    "start_time": "2022-01-02T10:23:26.393Z"
   },
   {
    "duration": 411,
    "start_time": "2022-01-02T10:23:57.795Z"
   },
   {
    "duration": 4,
    "start_time": "2022-01-02T10:24:02.583Z"
   },
   {
    "duration": 75,
    "start_time": "2022-01-02T10:24:02.589Z"
   },
   {
    "duration": 30,
    "start_time": "2022-01-02T10:24:02.667Z"
   },
   {
    "duration": 101,
    "start_time": "2022-01-02T10:24:02.700Z"
   },
   {
    "duration": 12,
    "start_time": "2022-01-02T10:24:02.804Z"
   },
   {
    "duration": 51,
    "start_time": "2022-01-02T10:24:02.819Z"
   },
   {
    "duration": 10,
    "start_time": "2022-01-02T10:24:02.873Z"
   },
   {
    "duration": 27,
    "start_time": "2022-01-02T10:24:02.885Z"
   },
   {
    "duration": 2648,
    "start_time": "2022-01-02T10:24:05.302Z"
   },
   {
    "duration": 3,
    "start_time": "2022-01-02T10:24:42.675Z"
   },
   {
    "duration": 71,
    "start_time": "2022-01-02T10:24:42.682Z"
   },
   {
    "duration": 32,
    "start_time": "2022-01-02T10:24:42.756Z"
   },
   {
    "duration": 102,
    "start_time": "2022-01-02T10:24:42.791Z"
   },
   {
    "duration": 15,
    "start_time": "2022-01-02T10:24:42.896Z"
   },
   {
    "duration": 60,
    "start_time": "2022-01-02T10:24:42.914Z"
   },
   {
    "duration": 10,
    "start_time": "2022-01-02T10:24:42.979Z"
   },
   {
    "duration": 28,
    "start_time": "2022-01-02T10:24:42.993Z"
   },
   {
    "duration": 37,
    "start_time": "2022-01-02T10:24:45.451Z"
   },
   {
    "duration": 384,
    "start_time": "2022-01-02T10:27:29.040Z"
   },
   {
    "duration": 43,
    "start_time": "2022-01-02T10:27:34.051Z"
   },
   {
    "duration": 4,
    "start_time": "2022-01-02T10:28:05.594Z"
   },
   {
    "duration": 70,
    "start_time": "2022-01-02T10:28:05.601Z"
   },
   {
    "duration": 32,
    "start_time": "2022-01-02T10:28:05.673Z"
   },
   {
    "duration": 101,
    "start_time": "2022-01-02T10:28:05.707Z"
   },
   {
    "duration": 12,
    "start_time": "2022-01-02T10:28:05.810Z"
   },
   {
    "duration": 50,
    "start_time": "2022-01-02T10:28:05.824Z"
   },
   {
    "duration": 8,
    "start_time": "2022-01-02T10:28:05.877Z"
   },
   {
    "duration": 24,
    "start_time": "2022-01-02T10:28:05.888Z"
   },
   {
    "duration": 2641,
    "start_time": "2022-01-02T10:28:09.028Z"
   },
   {
    "duration": 13,
    "start_time": "2022-01-02T10:33:36.731Z"
   },
   {
    "duration": 13,
    "start_time": "2022-01-02T10:33:54.322Z"
   },
   {
    "duration": 35,
    "start_time": "2022-01-02T10:53:13.661Z"
   },
   {
    "duration": 36,
    "start_time": "2022-01-02T10:53:45.677Z"
   },
   {
    "duration": 63,
    "start_time": "2022-01-02T10:54:33.164Z"
   },
   {
    "duration": 68,
    "start_time": "2022-01-02T10:54:55.928Z"
   },
   {
    "duration": 5,
    "start_time": "2022-01-02T11:02:21.313Z"
   },
   {
    "duration": 4,
    "start_time": "2022-01-02T11:02:26.883Z"
   },
   {
    "duration": 67,
    "start_time": "2022-01-02T11:02:26.889Z"
   },
   {
    "duration": 30,
    "start_time": "2022-01-02T11:02:26.959Z"
   },
   {
    "duration": 99,
    "start_time": "2022-01-02T11:02:26.992Z"
   },
   {
    "duration": 13,
    "start_time": "2022-01-02T11:02:27.094Z"
   },
   {
    "duration": 52,
    "start_time": "2022-01-02T11:02:27.109Z"
   },
   {
    "duration": 9,
    "start_time": "2022-01-02T11:02:27.164Z"
   },
   {
    "duration": 427,
    "start_time": "2022-01-02T11:02:50.212Z"
   },
   {
    "duration": 66,
    "start_time": "2022-01-02T11:03:35.225Z"
   },
   {
    "duration": 4,
    "start_time": "2022-01-02T11:10:43.155Z"
   },
   {
    "duration": 65,
    "start_time": "2022-01-02T11:10:43.162Z"
   },
   {
    "duration": 43,
    "start_time": "2022-01-02T11:10:43.230Z"
   },
   {
    "duration": 93,
    "start_time": "2022-01-02T11:10:43.276Z"
   },
   {
    "duration": 14,
    "start_time": "2022-01-02T11:10:43.373Z"
   },
   {
    "duration": 29,
    "start_time": "2022-01-02T11:10:43.390Z"
   },
   {
    "duration": 10,
    "start_time": "2022-01-02T11:10:43.459Z"
   },
   {
    "duration": 5,
    "start_time": "2022-01-02T11:10:43.473Z"
   },
   {
    "duration": 100,
    "start_time": "2022-01-02T11:10:43.481Z"
   },
   {
    "duration": 17,
    "start_time": "2022-01-02T11:10:43.585Z"
   },
   {
    "duration": 24,
    "start_time": "2022-01-02T11:10:46.512Z"
   },
   {
    "duration": 5,
    "start_time": "2022-01-02T11:11:45.524Z"
   },
   {
    "duration": 439,
    "start_time": "2022-01-02T11:13:59.322Z"
   },
   {
    "duration": 23,
    "start_time": "2022-01-02T11:14:32.601Z"
   },
   {
    "duration": 4,
    "start_time": "2022-01-02T11:14:44.932Z"
   },
   {
    "duration": 68,
    "start_time": "2022-01-02T11:14:44.939Z"
   },
   {
    "duration": 49,
    "start_time": "2022-01-02T11:14:45.010Z"
   },
   {
    "duration": 97,
    "start_time": "2022-01-02T11:14:45.062Z"
   },
   {
    "duration": 12,
    "start_time": "2022-01-02T11:14:45.161Z"
   },
   {
    "duration": 27,
    "start_time": "2022-01-02T11:14:45.176Z"
   },
   {
    "duration": 9,
    "start_time": "2022-01-02T11:14:45.206Z"
   },
   {
    "duration": 43,
    "start_time": "2022-01-02T11:14:45.218Z"
   },
   {
    "duration": 107,
    "start_time": "2022-01-02T11:14:45.265Z"
   },
   {
    "duration": 17,
    "start_time": "2022-01-02T11:14:45.374Z"
   },
   {
    "duration": 26,
    "start_time": "2022-01-02T11:14:45.393Z"
   },
   {
    "duration": 360,
    "start_time": "2022-01-02T11:15:43.895Z"
   },
   {
    "duration": 682,
    "start_time": "2022-01-02T11:15:50.819Z"
   },
   {
    "duration": 385,
    "start_time": "2022-01-02T11:16:04.627Z"
   },
   {
    "duration": 424,
    "start_time": "2022-01-02T11:16:20.731Z"
   },
   {
    "duration": 38,
    "start_time": "2022-01-02T11:16:53.737Z"
   },
   {
    "duration": 9,
    "start_time": "2022-01-02T11:17:10.407Z"
   },
   {
    "duration": 43,
    "start_time": "2022-01-02T11:18:40.752Z"
   },
   {
    "duration": 425,
    "start_time": "2022-01-02T11:19:03.844Z"
   },
   {
    "duration": 28,
    "start_time": "2022-01-02T11:19:08.364Z"
   },
   {
    "duration": 388,
    "start_time": "2022-01-02T11:19:18.531Z"
   },
   {
    "duration": 47,
    "start_time": "2022-01-02T11:27:12.763Z"
   },
   {
    "duration": 9,
    "start_time": "2022-01-02T11:27:33.787Z"
   },
   {
    "duration": 7,
    "start_time": "2022-01-02T11:27:47.301Z"
   },
   {
    "duration": 38,
    "start_time": "2022-01-02T11:27:53.598Z"
   },
   {
    "duration": 20,
    "start_time": "2022-01-02T11:28:45.343Z"
   },
   {
    "duration": 39,
    "start_time": "2022-01-02T11:28:51.781Z"
   },
   {
    "duration": 17,
    "start_time": "2022-01-02T11:29:07.209Z"
   },
   {
    "duration": 374,
    "start_time": "2022-01-02T11:29:22.815Z"
   },
   {
    "duration": 4,
    "start_time": "2022-01-02T11:29:47.516Z"
   },
   {
    "duration": 65,
    "start_time": "2022-01-02T11:29:47.524Z"
   },
   {
    "duration": 30,
    "start_time": "2022-01-02T11:29:47.592Z"
   },
   {
    "duration": 98,
    "start_time": "2022-01-02T11:29:47.624Z"
   },
   {
    "duration": 13,
    "start_time": "2022-01-02T11:29:47.724Z"
   },
   {
    "duration": 47,
    "start_time": "2022-01-02T11:29:47.740Z"
   },
   {
    "duration": 8,
    "start_time": "2022-01-02T11:29:47.789Z"
   },
   {
    "duration": 4,
    "start_time": "2022-01-02T11:29:47.799Z"
   },
   {
    "duration": 102,
    "start_time": "2022-01-02T11:29:47.807Z"
   },
   {
    "duration": 16,
    "start_time": "2022-01-02T11:29:47.912Z"
   },
   {
    "duration": 43,
    "start_time": "2022-01-02T11:29:47.931Z"
   },
   {
    "duration": 443,
    "start_time": "2022-01-02T11:29:53.931Z"
   },
   {
    "duration": 385,
    "start_time": "2022-01-02T11:30:25.916Z"
   },
   {
    "duration": 450,
    "start_time": "2022-01-02T11:30:43.097Z"
   },
   {
    "duration": 554,
    "start_time": "2022-01-02T11:32:00.803Z"
   },
   {
    "duration": 4,
    "start_time": "2022-01-02T11:32:07.157Z"
   },
   {
    "duration": 67,
    "start_time": "2022-01-02T11:32:07.164Z"
   },
   {
    "duration": 47,
    "start_time": "2022-01-02T11:32:07.233Z"
   },
   {
    "duration": 103,
    "start_time": "2022-01-02T11:32:07.283Z"
   },
   {
    "duration": 12,
    "start_time": "2022-01-02T11:32:07.388Z"
   },
   {
    "duration": 28,
    "start_time": "2022-01-02T11:32:07.403Z"
   },
   {
    "duration": 18,
    "start_time": "2022-01-02T11:32:07.461Z"
   },
   {
    "duration": 5,
    "start_time": "2022-01-02T11:32:07.482Z"
   },
   {
    "duration": 97,
    "start_time": "2022-01-02T11:32:07.489Z"
   },
   {
    "duration": 17,
    "start_time": "2022-01-02T11:32:07.588Z"
   },
   {
    "duration": 23,
    "start_time": "2022-01-02T11:32:07.608Z"
   },
   {
    "duration": 370,
    "start_time": "2022-01-02T11:32:22.675Z"
   },
   {
    "duration": 385,
    "start_time": "2022-01-02T11:32:39.449Z"
   },
   {
    "duration": 30,
    "start_time": "2022-01-02T11:33:01.587Z"
   },
   {
    "duration": 58,
    "start_time": "2022-01-02T11:33:06.180Z"
   },
   {
    "duration": 40,
    "start_time": "2022-01-02T11:33:59.360Z"
   },
   {
    "duration": 23,
    "start_time": "2022-01-02T11:35:55.571Z"
   },
   {
    "duration": 396,
    "start_time": "2022-01-02T11:36:22.011Z"
   },
   {
    "duration": 12,
    "start_time": "2022-01-02T11:36:33.385Z"
   },
   {
    "duration": 15,
    "start_time": "2022-01-02T11:36:43.118Z"
   },
   {
    "duration": 17,
    "start_time": "2022-01-02T11:43:29.542Z"
   },
   {
    "duration": 380,
    "start_time": "2022-01-02T11:44:03.784Z"
   },
   {
    "duration": 42,
    "start_time": "2022-01-02T11:46:22.663Z"
   },
   {
    "duration": 43,
    "start_time": "2022-01-02T11:46:34.053Z"
   },
   {
    "duration": 69,
    "start_time": "2022-01-02T11:48:02.724Z"
   },
   {
    "duration": 51,
    "start_time": "2022-01-02T11:51:18.008Z"
   },
   {
    "duration": 41,
    "start_time": "2022-01-02T11:52:28.148Z"
   },
   {
    "duration": 17,
    "start_time": "2022-01-02T11:53:43.207Z"
   },
   {
    "duration": 17,
    "start_time": "2022-01-02T11:54:09.068Z"
   },
   {
    "duration": 19,
    "start_time": "2022-01-02T11:54:51.829Z"
   },
   {
    "duration": 17,
    "start_time": "2022-01-02T11:55:29.855Z"
   },
   {
    "duration": 22,
    "start_time": "2022-01-02T11:55:51.514Z"
   },
   {
    "duration": 35,
    "start_time": "2022-01-02T11:56:06.160Z"
   },
   {
    "duration": 22,
    "start_time": "2022-01-02T11:56:13.281Z"
   },
   {
    "duration": 22,
    "start_time": "2022-01-02T11:56:25.082Z"
   },
   {
    "duration": 50,
    "start_time": "2022-01-02T11:57:05.004Z"
   },
   {
    "duration": 34,
    "start_time": "2022-01-02T11:57:31.249Z"
   },
   {
    "duration": 49,
    "start_time": "2022-01-02T11:58:50.586Z"
   },
   {
    "duration": 53,
    "start_time": "2022-01-02T12:00:08.425Z"
   },
   {
    "duration": 30,
    "start_time": "2022-01-02T12:01:01.331Z"
   },
   {
    "duration": 28,
    "start_time": "2022-01-02T12:01:12.504Z"
   },
   {
    "duration": 39,
    "start_time": "2022-01-02T12:01:23.247Z"
   },
   {
    "duration": 17,
    "start_time": "2022-01-02T12:02:36.893Z"
   },
   {
    "duration": 10,
    "start_time": "2022-01-02T12:02:42.580Z"
   },
   {
    "duration": 30,
    "start_time": "2022-01-02T12:02:54.050Z"
   },
   {
    "duration": 12,
    "start_time": "2022-01-02T12:03:01.484Z"
   },
   {
    "duration": 25,
    "start_time": "2022-01-02T12:03:08.778Z"
   },
   {
    "duration": 48,
    "start_time": "2022-01-02T12:03:22.276Z"
   },
   {
    "duration": 382,
    "start_time": "2022-01-02T12:04:20.793Z"
   },
   {
    "duration": 34,
    "start_time": "2022-01-02T12:04:33.372Z"
   },
   {
    "duration": 34,
    "start_time": "2022-01-02T12:05:28.027Z"
   },
   {
    "duration": 478,
    "start_time": "2022-01-02T12:07:11.618Z"
   },
   {
    "duration": 27,
    "start_time": "2022-01-02T12:07:15.640Z"
   },
   {
    "duration": 25,
    "start_time": "2022-01-02T12:07:30.286Z"
   },
   {
    "duration": 6,
    "start_time": "2022-01-02T12:08:10.818Z"
   },
   {
    "duration": 11,
    "start_time": "2022-01-02T12:08:18.590Z"
   },
   {
    "duration": 22,
    "start_time": "2022-01-02T12:08:27.092Z"
   },
   {
    "duration": 29,
    "start_time": "2022-01-02T12:08:47.159Z"
   },
   {
    "duration": 7,
    "start_time": "2022-01-02T12:09:32.464Z"
   },
   {
    "duration": 12,
    "start_time": "2022-01-02T12:09:54.240Z"
   },
   {
    "duration": 38,
    "start_time": "2022-01-02T12:10:05.639Z"
   },
   {
    "duration": 15,
    "start_time": "2022-01-02T12:11:31.629Z"
   },
   {
    "duration": 37,
    "start_time": "2022-01-02T12:11:42.540Z"
   },
   {
    "duration": 38,
    "start_time": "2022-01-02T12:13:19.432Z"
   },
   {
    "duration": 13,
    "start_time": "2022-01-02T12:13:23.467Z"
   },
   {
    "duration": 12,
    "start_time": "2022-01-02T12:13:30.991Z"
   },
   {
    "duration": 10,
    "start_time": "2022-01-02T12:13:40.399Z"
   },
   {
    "duration": 26,
    "start_time": "2022-01-02T12:13:47.848Z"
   },
   {
    "duration": 4780,
    "start_time": "2022-01-02T12:29:45.659Z"
   },
   {
    "duration": 5,
    "start_time": "2022-01-02T12:29:56.036Z"
   },
   {
    "duration": 78,
    "start_time": "2022-01-02T12:29:56.044Z"
   },
   {
    "duration": 54,
    "start_time": "2022-01-02T12:29:56.126Z"
   },
   {
    "duration": 106,
    "start_time": "2022-01-02T12:29:56.183Z"
   },
   {
    "duration": 13,
    "start_time": "2022-01-02T12:29:56.291Z"
   },
   {
    "duration": 56,
    "start_time": "2022-01-02T12:29:56.306Z"
   },
   {
    "duration": 12,
    "start_time": "2022-01-02T12:29:56.368Z"
   },
   {
    "duration": 6,
    "start_time": "2022-01-02T12:29:56.384Z"
   },
   {
    "duration": 138,
    "start_time": "2022-01-02T12:29:56.393Z"
   },
   {
    "duration": 28,
    "start_time": "2022-01-02T12:29:56.533Z"
   },
   {
    "duration": 24,
    "start_time": "2022-01-02T12:29:56.563Z"
   },
   {
    "duration": 71,
    "start_time": "2022-01-02T12:29:56.590Z"
   },
   {
    "duration": 24,
    "start_time": "2022-01-02T12:29:56.663Z"
   },
   {
    "duration": 14,
    "start_time": "2022-01-02T12:29:56.689Z"
   },
   {
    "duration": 14,
    "start_time": "2022-01-02T12:29:56.705Z"
   },
   {
    "duration": 53,
    "start_time": "2022-01-02T12:29:56.722Z"
   },
   {
    "duration": 24,
    "start_time": "2022-01-02T12:29:56.778Z"
   },
   {
    "duration": 73,
    "start_time": "2022-01-02T12:29:56.805Z"
   },
   {
    "duration": 10,
    "start_time": "2022-01-02T12:29:56.884Z"
   },
   {
    "duration": 25,
    "start_time": "2022-01-02T12:29:56.896Z"
   },
   {
    "duration": 40,
    "start_time": "2022-01-02T12:29:56.923Z"
   },
   {
    "duration": 15,
    "start_time": "2022-01-02T12:29:56.965Z"
   },
   {
    "duration": 25,
    "start_time": "2022-01-02T12:29:56.982Z"
   },
   {
    "duration": 5,
    "start_time": "2022-01-02T12:29:57.010Z"
   },
   {
    "duration": 4,
    "start_time": "2022-01-02T12:29:57.060Z"
   },
   {
    "duration": 4,
    "start_time": "2022-01-02T12:29:57.067Z"
   },
   {
    "duration": 5,
    "start_time": "2022-01-02T12:29:57.074Z"
   },
   {
    "duration": 4811,
    "start_time": "2022-01-02T12:30:01.413Z"
   },
   {
    "duration": 4,
    "start_time": "2022-01-02T12:30:16.040Z"
   },
   {
    "duration": 5138,
    "start_time": "2022-01-02T12:30:23.709Z"
   },
   {
    "duration": 4588,
    "start_time": "2022-01-02T12:31:00.631Z"
   },
   {
    "duration": 8292,
    "start_time": "2022-01-02T12:31:14.229Z"
   },
   {
    "duration": 49,
    "start_time": "2022-01-02T12:33:06.767Z"
   },
   {
    "duration": 29,
    "start_time": "2022-01-02T12:34:50.077Z"
   },
   {
    "duration": 22,
    "start_time": "2022-01-02T12:35:06.843Z"
   },
   {
    "duration": 3537,
    "start_time": "2022-01-02T12:35:45.607Z"
   },
   {
    "duration": 3793,
    "start_time": "2022-01-02T12:35:51.804Z"
   },
   {
    "duration": 3865,
    "start_time": "2022-01-02T12:36:06.497Z"
   },
   {
    "duration": 433,
    "start_time": "2022-01-02T12:41:16.973Z"
   },
   {
    "duration": 22,
    "start_time": "2022-01-02T12:41:40.678Z"
   },
   {
    "duration": 815,
    "start_time": "2022-01-02T12:42:06.717Z"
   },
   {
    "duration": 531,
    "start_time": "2022-01-02T12:42:25.922Z"
   },
   {
    "duration": 400,
    "start_time": "2022-01-02T12:45:15.238Z"
   },
   {
    "duration": 385,
    "start_time": "2022-01-02T12:45:18.226Z"
   },
   {
    "duration": 410,
    "start_time": "2022-01-02T12:45:29.871Z"
   },
   {
    "duration": 19,
    "start_time": "2022-01-02T12:45:34.064Z"
   },
   {
    "duration": 15530,
    "start_time": "2022-01-02T12:45:53.031Z"
   },
   {
    "duration": 15,
    "start_time": "2022-01-02T12:46:45.469Z"
   },
   {
    "duration": 18,
    "start_time": "2022-01-02T12:47:29.144Z"
   },
   {
    "duration": 15767,
    "start_time": "2022-01-02T12:47:55.800Z"
   },
   {
    "duration": 15858,
    "start_time": "2022-01-02T12:48:50.949Z"
   },
   {
    "duration": 4,
    "start_time": "2022-01-02T12:50:53.214Z"
   },
   {
    "duration": 72,
    "start_time": "2022-01-02T12:50:53.221Z"
   },
   {
    "duration": 68,
    "start_time": "2022-01-02T12:50:53.297Z"
   },
   {
    "duration": 146,
    "start_time": "2022-01-02T12:50:53.368Z"
   },
   {
    "duration": 18,
    "start_time": "2022-01-02T12:50:53.517Z"
   },
   {
    "duration": 44,
    "start_time": "2022-01-02T12:50:53.561Z"
   },
   {
    "duration": 12,
    "start_time": "2022-01-02T12:50:53.610Z"
   },
   {
    "duration": 37,
    "start_time": "2022-01-02T12:50:53.625Z"
   },
   {
    "duration": 113,
    "start_time": "2022-01-02T12:50:53.665Z"
   },
   {
    "duration": 23,
    "start_time": "2022-01-02T12:50:53.781Z"
   },
   {
    "duration": 60,
    "start_time": "2022-01-02T12:50:53.807Z"
   },
   {
    "duration": 61,
    "start_time": "2022-01-02T12:50:53.870Z"
   },
   {
    "duration": 55,
    "start_time": "2022-01-02T12:50:53.934Z"
   },
   {
    "duration": 15,
    "start_time": "2022-01-02T12:50:53.992Z"
   },
   {
    "duration": 50,
    "start_time": "2022-01-02T12:50:54.010Z"
   },
   {
    "duration": 25,
    "start_time": "2022-01-02T12:50:54.063Z"
   },
   {
    "duration": 30,
    "start_time": "2022-01-02T12:50:54.091Z"
   },
   {
    "duration": 103,
    "start_time": "2022-01-02T12:50:54.124Z"
   },
   {
    "duration": 27,
    "start_time": "2022-01-02T12:50:54.234Z"
   },
   {
    "duration": 40,
    "start_time": "2022-01-02T12:50:54.265Z"
   },
   {
    "duration": 13,
    "start_time": "2022-01-02T12:50:54.308Z"
   },
   {
    "duration": 46,
    "start_time": "2022-01-02T12:50:54.324Z"
   },
   {
    "duration": 27,
    "start_time": "2022-01-02T12:50:54.373Z"
   },
   {
    "duration": 5,
    "start_time": "2022-01-02T12:50:54.403Z"
   },
   {
    "duration": 4,
    "start_time": "2022-01-02T12:50:54.410Z"
   },
   {
    "duration": 44,
    "start_time": "2022-01-02T12:50:54.417Z"
   },
   {
    "duration": 4,
    "start_time": "2022-01-02T12:50:54.464Z"
   },
   {
    "duration": 4785,
    "start_time": "2022-01-02T12:50:54.470Z"
   },
   {
    "duration": 22,
    "start_time": "2022-01-02T12:50:59.259Z"
   },
   {
    "duration": 751,
    "start_time": "2022-01-02T12:50:59.283Z"
   },
   {
    "duration": 605,
    "start_time": "2022-01-02T12:51:00.037Z"
   },
   {
    "duration": 388,
    "start_time": "2022-01-02T12:51:05.182Z"
   },
   {
    "duration": 22,
    "start_time": "2022-01-02T12:51:15.299Z"
   },
   {
    "duration": 18,
    "start_time": "2022-01-02T12:51:33.457Z"
   },
   {
    "duration": 382,
    "start_time": "2022-01-02T12:54:08.411Z"
   },
   {
    "duration": 388,
    "start_time": "2022-01-02T12:54:54.558Z"
   },
   {
    "duration": 383,
    "start_time": "2022-01-02T12:55:25.983Z"
   },
   {
    "duration": 384,
    "start_time": "2022-01-02T12:55:53.302Z"
   },
   {
    "duration": 13,
    "start_time": "2022-01-02T12:56:25.245Z"
   },
   {
    "duration": 17,
    "start_time": "2022-01-02T12:56:35.189Z"
   },
   {
    "duration": 384,
    "start_time": "2022-01-02T12:59:19.626Z"
   },
   {
    "duration": 380,
    "start_time": "2022-01-02T13:03:13.670Z"
   },
   {
    "duration": 21,
    "start_time": "2022-01-02T13:03:22.006Z"
   },
   {
    "duration": 408,
    "start_time": "2022-01-02T13:03:54.532Z"
   },
   {
    "duration": 434,
    "start_time": "2022-01-02T13:04:00.793Z"
   },
   {
    "duration": 400,
    "start_time": "2022-01-02T13:04:17.403Z"
   },
   {
    "duration": 21,
    "start_time": "2022-01-02T13:04:29.696Z"
   },
   {
    "duration": 45,
    "start_time": "2022-01-02T13:04:41.305Z"
   },
   {
    "duration": 19,
    "start_time": "2022-01-02T13:04:50.005Z"
   },
   {
    "duration": 383,
    "start_time": "2022-01-02T13:05:48.897Z"
   },
   {
    "duration": 18,
    "start_time": "2022-01-02T13:06:27.874Z"
   },
   {
    "duration": 9753,
    "start_time": "2022-01-02T13:06:49.409Z"
   },
   {
    "duration": 440,
    "start_time": "2022-01-02T13:07:23.507Z"
   },
   {
    "duration": 26,
    "start_time": "2022-01-02T13:11:19.361Z"
   },
   {
    "duration": 30,
    "start_time": "2022-01-02T13:11:26.422Z"
   },
   {
    "duration": 359,
    "start_time": "2022-01-03T09:22:40.404Z"
   },
   {
    "duration": 1438,
    "start_time": "2022-01-03T09:22:44.301Z"
   },
   {
    "duration": 65,
    "start_time": "2022-01-03T09:22:45.742Z"
   },
   {
    "duration": 34,
    "start_time": "2022-01-03T09:22:45.810Z"
   },
   {
    "duration": 84,
    "start_time": "2022-01-03T09:22:48.316Z"
   },
   {
    "duration": 10,
    "start_time": "2022-01-03T09:24:04.977Z"
   },
   {
    "duration": 3,
    "start_time": "2022-01-03T09:24:13.497Z"
   },
   {
    "duration": 68,
    "start_time": "2022-01-03T09:24:13.503Z"
   },
   {
    "duration": 31,
    "start_time": "2022-01-03T09:24:13.574Z"
   },
   {
    "duration": 98,
    "start_time": "2022-01-03T09:24:13.608Z"
   },
   {
    "duration": 12,
    "start_time": "2022-01-03T09:24:13.709Z"
   },
   {
    "duration": 55,
    "start_time": "2022-01-03T09:24:13.724Z"
   },
   {
    "duration": 12,
    "start_time": "2022-01-03T09:24:20.031Z"
   },
   {
    "duration": 4,
    "start_time": "2022-01-03T09:34:56.778Z"
   },
   {
    "duration": 68,
    "start_time": "2022-01-03T09:34:56.786Z"
   },
   {
    "duration": 35,
    "start_time": "2022-01-03T09:34:56.857Z"
   },
   {
    "duration": 121,
    "start_time": "2022-01-03T09:34:56.896Z"
   },
   {
    "duration": 15,
    "start_time": "2022-01-03T09:34:57.020Z"
   },
   {
    "duration": 29,
    "start_time": "2022-01-03T09:34:57.063Z"
   },
   {
    "duration": 13,
    "start_time": "2022-01-03T09:34:57.098Z"
   },
   {
    "duration": 4,
    "start_time": "2022-01-03T09:34:57.114Z"
   },
   {
    "duration": 111,
    "start_time": "2022-01-03T09:34:57.120Z"
   },
   {
    "duration": 537,
    "start_time": "2022-01-03T09:34:57.233Z"
   },
   {
    "duration": -5112,
    "start_time": "2022-01-03T09:35:02.885Z"
   },
   {
    "duration": -5116,
    "start_time": "2022-01-03T09:35:02.891Z"
   },
   {
    "duration": -5124,
    "start_time": "2022-01-03T09:35:02.900Z"
   },
   {
    "duration": -5129,
    "start_time": "2022-01-03T09:35:02.907Z"
   },
   {
    "duration": -5149,
    "start_time": "2022-01-03T09:35:02.929Z"
   },
   {
    "duration": -5190,
    "start_time": "2022-01-03T09:35:02.971Z"
   },
   {
    "duration": -5197,
    "start_time": "2022-01-03T09:35:02.980Z"
   },
   {
    "duration": -5203,
    "start_time": "2022-01-03T09:35:02.987Z"
   },
   {
    "duration": -5209,
    "start_time": "2022-01-03T09:35:02.995Z"
   },
   {
    "duration": -5215,
    "start_time": "2022-01-03T09:35:03.003Z"
   },
   {
    "duration": -5222,
    "start_time": "2022-01-03T09:35:03.011Z"
   },
   {
    "duration": -5226,
    "start_time": "2022-01-03T09:35:03.017Z"
   },
   {
    "duration": -5230,
    "start_time": "2022-01-03T09:35:03.022Z"
   },
   {
    "duration": -5233,
    "start_time": "2022-01-03T09:35:03.027Z"
   },
   {
    "duration": -5240,
    "start_time": "2022-01-03T09:35:03.035Z"
   },
   {
    "duration": -5245,
    "start_time": "2022-01-03T09:35:03.041Z"
   },
   {
    "duration": -5248,
    "start_time": "2022-01-03T09:35:03.046Z"
   },
   {
    "duration": 3862,
    "start_time": "2022-01-03T09:35:02.764Z"
   },
   {
    "duration": 5,
    "start_time": "2022-01-03T10:12:05.983Z"
   },
   {
    "duration": 74,
    "start_time": "2022-01-03T10:12:05.991Z"
   },
   {
    "duration": 32,
    "start_time": "2022-01-03T10:12:06.068Z"
   },
   {
    "duration": 114,
    "start_time": "2022-01-03T10:12:06.103Z"
   },
   {
    "duration": 12,
    "start_time": "2022-01-03T10:12:06.220Z"
   },
   {
    "duration": 49,
    "start_time": "2022-01-03T10:12:06.235Z"
   },
   {
    "duration": 10,
    "start_time": "2022-01-03T10:12:06.287Z"
   },
   {
    "duration": 6,
    "start_time": "2022-01-03T10:12:06.300Z"
   },
   {
    "duration": 101,
    "start_time": "2022-01-03T10:12:06.309Z"
   },
   {
    "duration": 335,
    "start_time": "2022-01-03T10:12:06.413Z"
   },
   {
    "duration": -4090,
    "start_time": "2022-01-03T10:12:10.841Z"
   },
   {
    "duration": -4094,
    "start_time": "2022-01-03T10:12:10.847Z"
   },
   {
    "duration": -4099,
    "start_time": "2022-01-03T10:12:10.853Z"
   },
   {
    "duration": -4103,
    "start_time": "2022-01-03T10:12:10.859Z"
   },
   {
    "duration": -4106,
    "start_time": "2022-01-03T10:12:10.863Z"
   },
   {
    "duration": -4165,
    "start_time": "2022-01-03T10:12:10.924Z"
   },
   {
    "duration": -4173,
    "start_time": "2022-01-03T10:12:10.933Z"
   },
   {
    "duration": -4178,
    "start_time": "2022-01-03T10:12:10.939Z"
   },
   {
    "duration": -4180,
    "start_time": "2022-01-03T10:12:10.943Z"
   },
   {
    "duration": -4184,
    "start_time": "2022-01-03T10:12:10.948Z"
   },
   {
    "duration": -4188,
    "start_time": "2022-01-03T10:12:10.953Z"
   },
   {
    "duration": -4192,
    "start_time": "2022-01-03T10:12:10.959Z"
   },
   {
    "duration": -4196,
    "start_time": "2022-01-03T10:12:10.964Z"
   },
   {
    "duration": -4199,
    "start_time": "2022-01-03T10:12:10.969Z"
   },
   {
    "duration": -4204,
    "start_time": "2022-01-03T10:12:10.975Z"
   },
   {
    "duration": -4208,
    "start_time": "2022-01-03T10:12:10.980Z"
   },
   {
    "duration": -4210,
    "start_time": "2022-01-03T10:12:10.984Z"
   },
   {
    "duration": 5524,
    "start_time": "2022-01-03T10:17:05.641Z"
   },
   {
    "duration": 3519,
    "start_time": "2022-01-03T10:17:34.897Z"
   },
   {
    "duration": 5387,
    "start_time": "2022-01-03T10:17:57.566Z"
   },
   {
    "duration": 3828,
    "start_time": "2022-01-03T10:18:15.940Z"
   },
   {
    "duration": 4,
    "start_time": "2022-01-03T10:21:15.280Z"
   },
   {
    "duration": 3444,
    "start_time": "2022-01-03T10:21:24.540Z"
   },
   {
    "duration": 3872,
    "start_time": "2022-01-03T10:22:07.613Z"
   },
   {
    "duration": 5410,
    "start_time": "2022-01-03T10:22:42.078Z"
   },
   {
    "duration": 4,
    "start_time": "2022-01-03T10:23:19.228Z"
   },
   {
    "duration": 4139,
    "start_time": "2022-01-03T10:23:31.111Z"
   },
   {
    "duration": 3934,
    "start_time": "2022-01-03T10:24:13.551Z"
   },
   {
    "duration": 3801,
    "start_time": "2022-01-03T10:24:28.808Z"
   },
   {
    "duration": 3848,
    "start_time": "2022-01-03T10:26:04.216Z"
   },
   {
    "duration": 3818,
    "start_time": "2022-01-03T10:26:48.530Z"
   },
   {
    "duration": 3886,
    "start_time": "2022-01-03T10:27:02.921Z"
   },
   {
    "duration": 5,
    "start_time": "2022-01-03T10:29:55.298Z"
   },
   {
    "duration": 70,
    "start_time": "2022-01-03T10:29:55.306Z"
   },
   {
    "duration": 35,
    "start_time": "2022-01-03T10:29:55.379Z"
   },
   {
    "duration": 110,
    "start_time": "2022-01-03T10:29:55.416Z"
   },
   {
    "duration": 40,
    "start_time": "2022-01-03T10:29:55.529Z"
   },
   {
    "duration": 29,
    "start_time": "2022-01-03T10:29:55.571Z"
   },
   {
    "duration": 9,
    "start_time": "2022-01-03T10:29:55.604Z"
   },
   {
    "duration": 7,
    "start_time": "2022-01-03T10:29:55.616Z"
   },
   {
    "duration": 76,
    "start_time": "2022-01-03T10:29:55.664Z"
   },
   {
    "duration": 299,
    "start_time": "2022-01-03T10:29:55.742Z"
   },
   {
    "duration": -5040,
    "start_time": "2022-01-03T10:30:01.085Z"
   },
   {
    "duration": -5045,
    "start_time": "2022-01-03T10:30:01.092Z"
   },
   {
    "duration": -5082,
    "start_time": "2022-01-03T10:30:01.131Z"
   },
   {
    "duration": -5085,
    "start_time": "2022-01-03T10:30:01.137Z"
   },
   {
    "duration": -5091,
    "start_time": "2022-01-03T10:30:01.145Z"
   },
   {
    "duration": -5094,
    "start_time": "2022-01-03T10:30:01.150Z"
   },
   {
    "duration": -5099,
    "start_time": "2022-01-03T10:30:01.157Z"
   },
   {
    "duration": -5105,
    "start_time": "2022-01-03T10:30:01.165Z"
   },
   {
    "duration": -5104,
    "start_time": "2022-01-03T10:30:01.173Z"
   },
   {
    "duration": -5111,
    "start_time": "2022-01-03T10:30:01.182Z"
   },
   {
    "duration": -5117,
    "start_time": "2022-01-03T10:30:01.191Z"
   },
   {
    "duration": -5166,
    "start_time": "2022-01-03T10:30:01.241Z"
   },
   {
    "duration": -5179,
    "start_time": "2022-01-03T10:30:01.256Z"
   },
   {
    "duration": -5183,
    "start_time": "2022-01-03T10:30:01.262Z"
   },
   {
    "duration": -5187,
    "start_time": "2022-01-03T10:30:01.267Z"
   },
   {
    "duration": -5192,
    "start_time": "2022-01-03T10:30:01.273Z"
   },
   {
    "duration": -5199,
    "start_time": "2022-01-03T10:30:01.282Z"
   },
   {
    "duration": 310,
    "start_time": "2022-01-03T10:34:30.625Z"
   },
   {
    "duration": 33,
    "start_time": "2022-01-03T10:34:45.586Z"
   },
   {
    "duration": 278,
    "start_time": "2022-01-03T10:35:14.531Z"
   },
   {
    "duration": 299,
    "start_time": "2022-01-03T10:35:17.188Z"
   },
   {
    "duration": 4,
    "start_time": "2022-01-03T10:35:24.978Z"
   },
   {
    "duration": 64,
    "start_time": "2022-01-03T10:35:24.985Z"
   },
   {
    "duration": 30,
    "start_time": "2022-01-03T10:35:25.052Z"
   },
   {
    "duration": 102,
    "start_time": "2022-01-03T10:35:25.085Z"
   },
   {
    "duration": 12,
    "start_time": "2022-01-03T10:35:25.189Z"
   },
   {
    "duration": 59,
    "start_time": "2022-01-03T10:35:25.204Z"
   },
   {
    "duration": 10,
    "start_time": "2022-01-03T10:35:25.266Z"
   },
   {
    "duration": 5,
    "start_time": "2022-01-03T10:35:25.279Z"
   },
   {
    "duration": 104,
    "start_time": "2022-01-03T10:35:25.286Z"
   },
   {
    "duration": 291,
    "start_time": "2022-01-03T10:35:25.393Z"
   },
   {
    "duration": -5328,
    "start_time": "2022-01-03T10:35:31.016Z"
   },
   {
    "duration": -5338,
    "start_time": "2022-01-03T10:35:31.028Z"
   },
   {
    "duration": -5341,
    "start_time": "2022-01-03T10:35:31.033Z"
   },
   {
    "duration": -5346,
    "start_time": "2022-01-03T10:35:31.040Z"
   },
   {
    "duration": -5352,
    "start_time": "2022-01-03T10:35:31.048Z"
   },
   {
    "duration": -5368,
    "start_time": "2022-01-03T10:35:31.066Z"
   },
   {
    "duration": -5372,
    "start_time": "2022-01-03T10:35:31.073Z"
   },
   {
    "duration": -5443,
    "start_time": "2022-01-03T10:35:31.146Z"
   },
   {
    "duration": -5445,
    "start_time": "2022-01-03T10:35:31.150Z"
   },
   {
    "duration": -5447,
    "start_time": "2022-01-03T10:35:31.154Z"
   },
   {
    "duration": -5456,
    "start_time": "2022-01-03T10:35:31.165Z"
   },
   {
    "duration": -5458,
    "start_time": "2022-01-03T10:35:31.169Z"
   },
   {
    "duration": -5460,
    "start_time": "2022-01-03T10:35:31.173Z"
   },
   {
    "duration": 21,
    "start_time": "2022-01-03T10:35:29.742Z"
   },
   {
    "duration": 4,
    "start_time": "2022-01-03T10:35:48.880Z"
   },
   {
    "duration": 89,
    "start_time": "2022-01-03T10:35:48.887Z"
   },
   {
    "duration": 30,
    "start_time": "2022-01-03T10:35:48.980Z"
   },
   {
    "duration": 105,
    "start_time": "2022-01-03T10:35:49.013Z"
   },
   {
    "duration": 13,
    "start_time": "2022-01-03T10:35:49.120Z"
   },
   {
    "duration": 51,
    "start_time": "2022-01-03T10:35:49.136Z"
   },
   {
    "duration": 9,
    "start_time": "2022-01-03T10:35:49.190Z"
   },
   {
    "duration": 4,
    "start_time": "2022-01-03T10:35:49.202Z"
   },
   {
    "duration": 113,
    "start_time": "2022-01-03T10:35:49.211Z"
   },
   {
    "duration": 296,
    "start_time": "2022-01-03T10:35:49.327Z"
   },
   {
    "duration": -4944,
    "start_time": "2022-01-03T10:35:54.570Z"
   },
   {
    "duration": -5147,
    "start_time": "2022-01-03T10:35:54.775Z"
   },
   {
    "duration": -5160,
    "start_time": "2022-01-03T10:35:54.790Z"
   },
   {
    "duration": -5241,
    "start_time": "2022-01-03T10:35:54.873Z"
   },
   {
    "duration": -5247,
    "start_time": "2022-01-03T10:35:54.881Z"
   },
   {
    "duration": -5287,
    "start_time": "2022-01-03T10:35:54.922Z"
   },
   {
    "duration": -5307,
    "start_time": "2022-01-03T10:35:54.944Z"
   },
   {
    "duration": -5325,
    "start_time": "2022-01-03T10:35:54.964Z"
   },
   {
    "duration": -5340,
    "start_time": "2022-01-03T10:35:54.980Z"
   },
   {
    "duration": -5375,
    "start_time": "2022-01-03T10:35:55.016Z"
   },
   {
    "duration": -5389,
    "start_time": "2022-01-03T10:35:55.032Z"
   },
   {
    "duration": -5468,
    "start_time": "2022-01-03T10:35:55.112Z"
   },
   {
    "duration": -5481,
    "start_time": "2022-01-03T10:35:55.127Z"
   },
   {
    "duration": 19,
    "start_time": "2022-01-03T10:35:52.395Z"
   },
   {
    "duration": 4,
    "start_time": "2022-01-03T10:36:26.950Z"
   },
   {
    "duration": 64,
    "start_time": "2022-01-03T10:36:26.956Z"
   },
   {
    "duration": 44,
    "start_time": "2022-01-03T10:36:27.023Z"
   },
   {
    "duration": 97,
    "start_time": "2022-01-03T10:36:27.069Z"
   },
   {
    "duration": 14,
    "start_time": "2022-01-03T10:36:27.169Z"
   },
   {
    "duration": 30,
    "start_time": "2022-01-03T10:36:27.186Z"
   },
   {
    "duration": 50,
    "start_time": "2022-01-03T10:36:27.220Z"
   },
   {
    "duration": 6,
    "start_time": "2022-01-03T10:36:27.273Z"
   },
   {
    "duration": 97,
    "start_time": "2022-01-03T10:36:27.282Z"
   },
   {
    "duration": 313,
    "start_time": "2022-01-03T10:36:27.382Z"
   },
   {
    "duration": -4567,
    "start_time": "2022-01-03T10:36:32.265Z"
   },
   {
    "duration": -4603,
    "start_time": "2022-01-03T10:36:32.304Z"
   },
   {
    "duration": -4618,
    "start_time": "2022-01-03T10:36:32.321Z"
   },
   {
    "duration": -4623,
    "start_time": "2022-01-03T10:36:32.329Z"
   },
   {
    "duration": -4629,
    "start_time": "2022-01-03T10:36:32.337Z"
   },
   {
    "duration": 21,
    "start_time": "2022-01-03T10:36:31.038Z"
   },
   {
    "duration": 23,
    "start_time": "2022-01-03T10:36:54.024Z"
   },
   {
    "duration": 52,
    "start_time": "2022-01-03T10:36:56.853Z"
   },
   {
    "duration": 11,
    "start_time": "2022-01-03T10:37:00.748Z"
   },
   {
    "duration": 28,
    "start_time": "2022-01-03T10:37:03.189Z"
   },
   {
    "duration": 10,
    "start_time": "2022-01-03T10:37:07.196Z"
   },
   {
    "duration": 23,
    "start_time": "2022-01-03T10:37:09.147Z"
   },
   {
    "duration": 27,
    "start_time": "2022-01-03T10:37:13.401Z"
   },
   {
    "duration": 18,
    "start_time": "2022-01-03T10:37:17.578Z"
   },
   {
    "duration": 5559,
    "start_time": "2022-01-03T10:47:32.988Z"
   },
   {
    "duration": 5450,
    "start_time": "2022-01-03T10:48:00.766Z"
   },
   {
    "duration": 5226,
    "start_time": "2022-01-03T10:48:48.815Z"
   },
   {
    "duration": 27,
    "start_time": "2022-01-03T10:50:04.393Z"
   },
   {
    "duration": 713,
    "start_time": "2022-01-03T10:50:08.614Z"
   },
   {
    "duration": 620,
    "start_time": "2022-01-03T10:50:15.521Z"
   },
   {
    "duration": 29,
    "start_time": "2022-01-03T10:51:30.210Z"
   },
   {
    "duration": 18,
    "start_time": "2022-01-03T10:52:06.629Z"
   },
   {
    "duration": 39,
    "start_time": "2022-01-03T10:55:47.349Z"
   },
   {
    "duration": 720,
    "start_time": "2022-01-03T10:56:23.088Z"
   },
   {
    "duration": 37,
    "start_time": "2022-01-03T10:56:28.863Z"
   },
   {
    "duration": 34,
    "start_time": "2022-01-03T10:58:30.161Z"
   },
   {
    "duration": 105,
    "start_time": "2022-01-03T10:59:13.980Z"
   },
   {
    "duration": 317,
    "start_time": "2022-01-03T10:59:50.642Z"
   },
   {
    "duration": 329,
    "start_time": "2022-01-03T11:00:38.225Z"
   },
   {
    "duration": 309,
    "start_time": "2022-01-03T11:00:57.964Z"
   },
   {
    "duration": 4,
    "start_time": "2022-01-03T11:02:24.558Z"
   },
   {
    "duration": 66,
    "start_time": "2022-01-03T11:02:24.565Z"
   },
   {
    "duration": 43,
    "start_time": "2022-01-03T11:02:24.634Z"
   },
   {
    "duration": 112,
    "start_time": "2022-01-03T11:02:24.681Z"
   },
   {
    "duration": 12,
    "start_time": "2022-01-03T11:02:24.796Z"
   },
   {
    "duration": 64,
    "start_time": "2022-01-03T11:02:24.811Z"
   },
   {
    "duration": 9,
    "start_time": "2022-01-03T11:02:24.879Z"
   },
   {
    "duration": 5,
    "start_time": "2022-01-03T11:02:24.891Z"
   },
   {
    "duration": 104,
    "start_time": "2022-01-03T11:02:24.899Z"
   },
   {
    "duration": 305,
    "start_time": "2022-01-03T11:02:25.005Z"
   },
   {
    "duration": -4013,
    "start_time": "2022-01-03T11:02:29.327Z"
   },
   {
    "duration": -4018,
    "start_time": "2022-01-03T11:02:29.333Z"
   },
   {
    "duration": -4028,
    "start_time": "2022-01-03T11:02:29.345Z"
   },
   {
    "duration": -4035,
    "start_time": "2022-01-03T11:02:29.353Z"
   },
   {
    "duration": -4042,
    "start_time": "2022-01-03T11:02:29.362Z"
   },
   {
    "duration": -4046,
    "start_time": "2022-01-03T11:02:29.367Z"
   },
   {
    "duration": -4092,
    "start_time": "2022-01-03T11:02:29.415Z"
   },
   {
    "duration": -4097,
    "start_time": "2022-01-03T11:02:29.421Z"
   },
   {
    "duration": -4102,
    "start_time": "2022-01-03T11:02:29.428Z"
   },
   {
    "duration": -4107,
    "start_time": "2022-01-03T11:02:29.434Z"
   },
   {
    "duration": -4111,
    "start_time": "2022-01-03T11:02:29.440Z"
   },
   {
    "duration": -4116,
    "start_time": "2022-01-03T11:02:29.446Z"
   },
   {
    "duration": -4122,
    "start_time": "2022-01-03T11:02:29.454Z"
   },
   {
    "duration": -4128,
    "start_time": "2022-01-03T11:02:29.461Z"
   },
   {
    "duration": -4134,
    "start_time": "2022-01-03T11:02:29.469Z"
   },
   {
    "duration": -4140,
    "start_time": "2022-01-03T11:02:29.476Z"
   },
   {
    "duration": -4146,
    "start_time": "2022-01-03T11:02:29.483Z"
   },
   {
    "duration": -4148,
    "start_time": "2022-01-03T11:02:29.487Z"
   },
   {
    "duration": -4161,
    "start_time": "2022-01-03T11:02:29.501Z"
   },
   {
    "duration": -4164,
    "start_time": "2022-01-03T11:02:29.506Z"
   },
   {
    "duration": -4168,
    "start_time": "2022-01-03T11:02:29.511Z"
   },
   {
    "duration": -4171,
    "start_time": "2022-01-03T11:02:29.516Z"
   },
   {
    "duration": -4176,
    "start_time": "2022-01-03T11:02:29.522Z"
   },
   {
    "duration": 292,
    "start_time": "2022-01-03T11:02:28.292Z"
   },
   {
    "duration": 399,
    "start_time": "2022-01-03T11:02:35.694Z"
   },
   {
    "duration": 4,
    "start_time": "2022-01-03T11:02:43.153Z"
   },
   {
    "duration": 65,
    "start_time": "2022-01-03T11:02:43.160Z"
   },
   {
    "duration": 44,
    "start_time": "2022-01-03T11:02:43.228Z"
   },
   {
    "duration": 113,
    "start_time": "2022-01-03T11:02:43.275Z"
   },
   {
    "duration": 13,
    "start_time": "2022-01-03T11:02:43.391Z"
   },
   {
    "duration": 57,
    "start_time": "2022-01-03T11:02:43.406Z"
   },
   {
    "duration": 10,
    "start_time": "2022-01-03T11:02:43.467Z"
   },
   {
    "duration": 5,
    "start_time": "2022-01-03T11:02:43.480Z"
   },
   {
    "duration": 106,
    "start_time": "2022-01-03T11:02:43.487Z"
   },
   {
    "duration": 302,
    "start_time": "2022-01-03T11:02:43.595Z"
   },
   {
    "duration": -3976,
    "start_time": "2022-01-03T11:02:47.876Z"
   },
   {
    "duration": -4006,
    "start_time": "2022-01-03T11:02:47.907Z"
   },
   {
    "duration": -4013,
    "start_time": "2022-01-03T11:02:47.916Z"
   },
   {
    "duration": -4021,
    "start_time": "2022-01-03T11:02:47.925Z"
   },
   {
    "duration": -4039,
    "start_time": "2022-01-03T11:02:47.944Z"
   },
   {
    "duration": -4046,
    "start_time": "2022-01-03T11:02:47.952Z"
   },
   {
    "duration": -4053,
    "start_time": "2022-01-03T11:02:47.961Z"
   },
   {
    "duration": -4062,
    "start_time": "2022-01-03T11:02:47.971Z"
   },
   {
    "duration": -4069,
    "start_time": "2022-01-03T11:02:47.979Z"
   },
   {
    "duration": -4076,
    "start_time": "2022-01-03T11:02:47.988Z"
   },
   {
    "duration": -4083,
    "start_time": "2022-01-03T11:02:47.996Z"
   },
   {
    "duration": -4091,
    "start_time": "2022-01-03T11:02:48.005Z"
   },
   {
    "duration": -4097,
    "start_time": "2022-01-03T11:02:48.012Z"
   },
   {
    "duration": -4104,
    "start_time": "2022-01-03T11:02:48.020Z"
   },
   {
    "duration": -4112,
    "start_time": "2022-01-03T11:02:48.029Z"
   },
   {
    "duration": -4118,
    "start_time": "2022-01-03T11:02:48.037Z"
   },
   {
    "duration": -4136,
    "start_time": "2022-01-03T11:02:48.056Z"
   },
   {
    "duration": -4202,
    "start_time": "2022-01-03T11:02:48.123Z"
   },
   {
    "duration": -4209,
    "start_time": "2022-01-03T11:02:48.132Z"
   },
   {
    "duration": -4216,
    "start_time": "2022-01-03T11:02:48.140Z"
   },
   {
    "duration": -4224,
    "start_time": "2022-01-03T11:02:48.149Z"
   },
   {
    "duration": -4238,
    "start_time": "2022-01-03T11:02:48.164Z"
   },
   {
    "duration": -4244,
    "start_time": "2022-01-03T11:02:48.172Z"
   },
   {
    "duration": -4250,
    "start_time": "2022-01-03T11:02:48.179Z"
   },
   {
    "duration": -4258,
    "start_time": "2022-01-03T11:02:48.188Z"
   },
   {
    "duration": -4263,
    "start_time": "2022-01-03T11:02:48.194Z"
   },
   {
    "duration": -4269,
    "start_time": "2022-01-03T11:02:48.202Z"
   },
   {
    "duration": 543,
    "start_time": "2022-01-03T11:02:53.375Z"
   },
   {
    "duration": 429,
    "start_time": "2022-01-03T11:03:04.190Z"
   },
   {
    "duration": 35,
    "start_time": "2022-01-03T11:03:13.739Z"
   },
   {
    "duration": 17,
    "start_time": "2022-01-03T11:03:45.557Z"
   },
   {
    "duration": 4,
    "start_time": "2022-01-03T11:03:51.793Z"
   },
   {
    "duration": 61,
    "start_time": "2022-01-03T11:03:51.800Z"
   },
   {
    "duration": 35,
    "start_time": "2022-01-03T11:03:51.864Z"
   },
   {
    "duration": 110,
    "start_time": "2022-01-03T11:03:51.902Z"
   },
   {
    "duration": 12,
    "start_time": "2022-01-03T11:03:52.015Z"
   },
   {
    "duration": 55,
    "start_time": "2022-01-03T11:03:52.030Z"
   },
   {
    "duration": 10,
    "start_time": "2022-01-03T11:03:52.090Z"
   },
   {
    "duration": 11,
    "start_time": "2022-01-03T11:03:52.102Z"
   },
   {
    "duration": 101,
    "start_time": "2022-01-03T11:03:52.115Z"
   },
   {
    "duration": 16,
    "start_time": "2022-01-03T11:03:52.218Z"
   },
   {
    "duration": 288,
    "start_time": "2022-01-03T11:03:52.236Z"
   },
   {
    "duration": -4399,
    "start_time": "2022-01-03T11:03:56.926Z"
   },
   {
    "duration": -4405,
    "start_time": "2022-01-03T11:03:56.934Z"
   },
   {
    "duration": -4412,
    "start_time": "2022-01-03T11:03:56.942Z"
   },
   {
    "duration": -4444,
    "start_time": "2022-01-03T11:03:56.976Z"
   },
   {
    "duration": -4481,
    "start_time": "2022-01-03T11:03:57.014Z"
   },
   {
    "duration": -4487,
    "start_time": "2022-01-03T11:03:57.022Z"
   },
   {
    "duration": -4515,
    "start_time": "2022-01-03T11:03:57.051Z"
   },
   {
    "duration": -4521,
    "start_time": "2022-01-03T11:03:57.058Z"
   },
   {
    "duration": -4524,
    "start_time": "2022-01-03T11:03:57.063Z"
   },
   {
    "duration": -4531,
    "start_time": "2022-01-03T11:03:57.071Z"
   },
   {
    "duration": -4560,
    "start_time": "2022-01-03T11:03:57.102Z"
   },
   {
    "duration": -4612,
    "start_time": "2022-01-03T11:03:57.155Z"
   },
   {
    "duration": -4616,
    "start_time": "2022-01-03T11:03:57.160Z"
   },
   {
    "duration": -4622,
    "start_time": "2022-01-03T11:03:57.168Z"
   },
   {
    "duration": -4629,
    "start_time": "2022-01-03T11:03:57.176Z"
   },
   {
    "duration": -4644,
    "start_time": "2022-01-03T11:03:57.193Z"
   },
   {
    "duration": -4649,
    "start_time": "2022-01-03T11:03:57.199Z"
   },
   {
    "duration": -4681,
    "start_time": "2022-01-03T11:03:57.233Z"
   },
   {
    "duration": -4687,
    "start_time": "2022-01-03T11:03:57.240Z"
   },
   {
    "duration": -4694,
    "start_time": "2022-01-03T11:03:57.248Z"
   },
   {
    "duration": -4715,
    "start_time": "2022-01-03T11:03:57.271Z"
   },
   {
    "duration": -4722,
    "start_time": "2022-01-03T11:03:57.279Z"
   },
   {
    "duration": 24,
    "start_time": "2022-01-03T11:04:26.256Z"
   },
   {
    "duration": 4,
    "start_time": "2022-01-03T11:04:33.178Z"
   },
   {
    "duration": 66,
    "start_time": "2022-01-03T11:04:33.185Z"
   },
   {
    "duration": 30,
    "start_time": "2022-01-03T11:04:33.254Z"
   },
   {
    "duration": 101,
    "start_time": "2022-01-03T11:04:33.287Z"
   },
   {
    "duration": 13,
    "start_time": "2022-01-03T11:04:33.390Z"
   },
   {
    "duration": 61,
    "start_time": "2022-01-03T11:04:33.405Z"
   },
   {
    "duration": 10,
    "start_time": "2022-01-03T11:04:33.470Z"
   },
   {
    "duration": 6,
    "start_time": "2022-01-03T11:04:33.483Z"
   },
   {
    "duration": 108,
    "start_time": "2022-01-03T11:04:33.491Z"
   },
   {
    "duration": 17,
    "start_time": "2022-01-03T11:04:33.602Z"
   },
   {
    "duration": 48,
    "start_time": "2022-01-03T11:04:33.622Z"
   },
   {
    "duration": 44,
    "start_time": "2022-01-03T11:04:33.673Z"
   },
   {
    "duration": 45,
    "start_time": "2022-01-03T11:04:33.720Z"
   },
   {
    "duration": 14,
    "start_time": "2022-01-03T11:04:33.768Z"
   },
   {
    "duration": 14,
    "start_time": "2022-01-03T11:04:33.784Z"
   },
   {
    "duration": 19,
    "start_time": "2022-01-03T11:04:33.801Z"
   },
   {
    "duration": 59,
    "start_time": "2022-01-03T11:04:33.823Z"
   },
   {
    "duration": 49,
    "start_time": "2022-01-03T11:04:33.884Z"
   },
   {
    "duration": 35,
    "start_time": "2022-01-03T11:04:33.937Z"
   },
   {
    "duration": 28,
    "start_time": "2022-01-03T11:04:33.975Z"
   },
   {
    "duration": 14,
    "start_time": "2022-01-03T11:04:34.006Z"
   },
   {
    "duration": 43,
    "start_time": "2022-01-03T11:04:34.022Z"
   },
   {
    "duration": 27,
    "start_time": "2022-01-03T11:04:34.068Z"
   },
   {
    "duration": 20,
    "start_time": "2022-01-03T11:04:34.147Z"
   },
   {
    "duration": 6,
    "start_time": "2022-01-03T11:04:34.171Z"
   },
   {
    "duration": 4,
    "start_time": "2022-01-03T11:04:34.321Z"
   },
   {
    "duration": 5,
    "start_time": "2022-01-03T11:04:34.328Z"
   },
   {
    "duration": 3,
    "start_time": "2022-01-03T11:04:34.337Z"
   },
   {
    "duration": 3968,
    "start_time": "2022-01-03T11:04:34.343Z"
   },
   {
    "duration": 4919,
    "start_time": "2022-01-03T11:04:38.314Z"
   },
   {
    "duration": 39,
    "start_time": "2022-01-03T11:04:43.237Z"
   },
   {
    "duration": 685,
    "start_time": "2022-01-03T11:04:43.279Z"
   },
   {
    "duration": 577,
    "start_time": "2022-01-03T11:04:43.967Z"
   },
   {
    "duration": 29,
    "start_time": "2022-01-03T11:04:52.782Z"
   },
   {
    "duration": 39,
    "start_time": "2022-01-03T11:05:07.494Z"
   },
   {
    "duration": 34,
    "start_time": "2022-01-03T11:05:55.253Z"
   },
   {
    "duration": 36,
    "start_time": "2022-01-03T11:05:58.307Z"
   },
   {
    "duration": 34,
    "start_time": "2022-01-03T11:06:07.690Z"
   },
   {
    "duration": 351,
    "start_time": "2022-01-03T11:07:54.596Z"
   },
   {
    "duration": 36,
    "start_time": "2022-01-03T11:08:13.215Z"
   },
   {
    "duration": 49,
    "start_time": "2022-01-03T11:08:21.670Z"
   },
   {
    "duration": 38,
    "start_time": "2022-01-03T11:08:26.931Z"
   },
   {
    "duration": 482,
    "start_time": "2022-01-03T11:08:37.624Z"
   },
   {
    "duration": 39,
    "start_time": "2022-01-03T11:08:49.532Z"
   },
   {
    "duration": 316,
    "start_time": "2022-01-03T11:08:57.873Z"
   },
   {
    "duration": 40,
    "start_time": "2022-01-03T11:09:03.253Z"
   },
   {
    "duration": 336,
    "start_time": "2022-01-03T11:10:02.200Z"
   },
   {
    "duration": 33,
    "start_time": "2022-01-03T11:12:31.034Z"
   },
   {
    "duration": 46,
    "start_time": "2022-01-03T11:12:36.473Z"
   },
   {
    "duration": 40,
    "start_time": "2022-01-03T11:12:44.030Z"
   },
   {
    "duration": 38,
    "start_time": "2022-01-03T11:14:39.016Z"
   },
   {
    "duration": 411,
    "start_time": "2022-01-03T11:17:14.139Z"
   },
   {
    "duration": 327,
    "start_time": "2022-01-03T11:17:36.360Z"
   },
   {
    "duration": 585,
    "start_time": "2022-01-03T11:18:52.586Z"
   },
   {
    "duration": 557,
    "start_time": "2022-01-03T11:19:20.949Z"
   },
   {
    "duration": 264,
    "start_time": "2022-01-03T11:20:49.270Z"
   },
   {
    "duration": 517,
    "start_time": "2022-01-03T11:21:07.250Z"
   },
   {
    "duration": 265,
    "start_time": "2022-01-03T11:21:11.962Z"
   },
   {
    "duration": 333,
    "start_time": "2022-01-03T11:22:05.222Z"
   },
   {
    "duration": 258,
    "start_time": "2022-01-03T11:22:18.744Z"
   },
   {
    "duration": 556,
    "start_time": "2022-01-03T11:22:58.259Z"
   },
   {
    "duration": 247,
    "start_time": "2022-01-03T11:23:09.408Z"
   },
   {
    "duration": 338,
    "start_time": "2022-01-03T11:30:39.438Z"
   },
   {
    "duration": 329,
    "start_time": "2022-01-03T11:30:52.208Z"
   },
   {
    "duration": 390,
    "start_time": "2022-01-03T11:30:58.800Z"
   },
   {
    "duration": 266,
    "start_time": "2022-01-03T11:31:05.235Z"
   },
   {
    "duration": 322,
    "start_time": "2022-01-03T11:31:19.721Z"
   },
   {
    "duration": 271,
    "start_time": "2022-01-03T11:31:27.014Z"
   },
   {
    "duration": 390,
    "start_time": "2022-01-03T11:32:55.594Z"
   },
   {
    "duration": 297,
    "start_time": "2022-01-03T11:33:18.706Z"
   },
   {
    "duration": 100,
    "start_time": "2022-01-03T11:33:28.861Z"
   },
   {
    "duration": 274,
    "start_time": "2022-01-03T11:33:38.852Z"
   },
   {
    "duration": 716,
    "start_time": "2022-01-03T11:34:09.378Z"
   },
   {
    "duration": 272,
    "start_time": "2022-01-03T11:34:13.379Z"
   },
   {
    "duration": 279,
    "start_time": "2022-01-03T11:34:30.322Z"
   },
   {
    "duration": 278,
    "start_time": "2022-01-03T11:36:44.868Z"
   },
   {
    "duration": 265,
    "start_time": "2022-01-03T11:36:55.332Z"
   },
   {
    "duration": 332,
    "start_time": "2022-01-03T11:37:33.989Z"
   },
   {
    "duration": 36,
    "start_time": "2022-01-03T11:37:47.525Z"
   },
   {
    "duration": 408,
    "start_time": "2022-01-03T11:39:06.191Z"
   },
   {
    "duration": 290,
    "start_time": "2022-01-03T11:39:20.838Z"
   },
   {
    "duration": 338,
    "start_time": "2022-01-03T11:40:01.151Z"
   },
   {
    "duration": 337,
    "start_time": "2022-01-03T11:40:26.826Z"
   },
   {
    "duration": 312,
    "start_time": "2022-01-03T11:41:10.711Z"
   },
   {
    "duration": 299,
    "start_time": "2022-01-03T11:41:31.309Z"
   },
   {
    "duration": 292,
    "start_time": "2022-01-03T11:42:31.080Z"
   },
   {
    "duration": 266,
    "start_time": "2022-01-03T11:42:37.613Z"
   },
   {
    "duration": 313,
    "start_time": "2022-01-03T11:44:27.694Z"
   },
   {
    "duration": 327,
    "start_time": "2022-01-03T11:44:58.371Z"
   },
   {
    "duration": 325,
    "start_time": "2022-01-03T11:45:13.216Z"
   },
   {
    "duration": 306,
    "start_time": "2022-01-03T11:47:00.912Z"
   },
   {
    "duration": 429,
    "start_time": "2022-01-03T11:56:38.977Z"
   },
   {
    "duration": 1498,
    "start_time": "2022-01-03T15:48:53.045Z"
   },
   {
    "duration": 66,
    "start_time": "2022-01-03T15:48:54.546Z"
   },
   {
    "duration": 50,
    "start_time": "2022-01-03T15:48:54.616Z"
   },
   {
    "duration": 106,
    "start_time": "2022-01-03T15:48:54.669Z"
   },
   {
    "duration": 12,
    "start_time": "2022-01-03T15:48:54.777Z"
   },
   {
    "duration": 26,
    "start_time": "2022-01-03T15:48:54.792Z"
   },
   {
    "duration": 40,
    "start_time": "2022-01-03T15:48:54.821Z"
   },
   {
    "duration": 4,
    "start_time": "2022-01-03T15:48:54.864Z"
   },
   {
    "duration": 90,
    "start_time": "2022-01-03T15:48:54.872Z"
   },
   {
    "duration": 19,
    "start_time": "2022-01-03T15:48:54.965Z"
   },
   {
    "duration": 22,
    "start_time": "2022-01-03T15:48:54.987Z"
   },
   {
    "duration": 79,
    "start_time": "2022-01-03T15:48:55.012Z"
   },
   {
    "duration": 25,
    "start_time": "2022-01-03T15:48:55.093Z"
   },
   {
    "duration": 43,
    "start_time": "2022-01-03T15:48:55.121Z"
   },
   {
    "duration": 23,
    "start_time": "2022-01-03T15:48:55.167Z"
   },
   {
    "duration": 27,
    "start_time": "2022-01-03T15:48:55.193Z"
   },
   {
    "duration": 57,
    "start_time": "2022-01-03T15:48:55.223Z"
   },
   {
    "duration": 94,
    "start_time": "2022-01-03T15:48:55.283Z"
   },
   {
    "duration": 14,
    "start_time": "2022-01-03T15:48:55.380Z"
   },
   {
    "duration": 68,
    "start_time": "2022-01-03T15:48:55.397Z"
   },
   {
    "duration": 9,
    "start_time": "2022-01-03T15:48:55.467Z"
   },
   {
    "duration": 14,
    "start_time": "2022-01-03T15:48:55.479Z"
   },
   {
    "duration": 63,
    "start_time": "2022-01-03T15:48:55.496Z"
   },
   {
    "duration": 26,
    "start_time": "2022-01-03T15:48:55.563Z"
   },
   {
    "duration": 6,
    "start_time": "2022-01-03T15:48:55.592Z"
   },
   {
    "duration": 4,
    "start_time": "2022-01-03T15:48:55.602Z"
   },
   {
    "duration": 5,
    "start_time": "2022-01-03T15:48:55.614Z"
   },
   {
    "duration": 4,
    "start_time": "2022-01-03T15:48:55.661Z"
   },
   {
    "duration": 3250,
    "start_time": "2022-01-03T15:48:55.669Z"
   },
   {
    "duration": 6129,
    "start_time": "2022-01-03T15:48:58.923Z"
   },
   {
    "duration": 32,
    "start_time": "2022-01-03T15:49:05.060Z"
   },
   {
    "duration": 1289,
    "start_time": "2022-01-03T15:49:05.096Z"
   },
   {
    "duration": 1180,
    "start_time": "2022-01-03T15:49:06.389Z"
   },
   {
    "duration": 983,
    "start_time": "2022-01-03T15:49:07.571Z"
   },
   {
    "duration": 301,
    "start_time": "2022-01-03T15:49:08.560Z"
   },
   {
    "duration": 318,
    "start_time": "2022-01-03T15:49:08.864Z"
   },
   {
    "duration": 354,
    "start_time": "2022-01-03T15:49:09.185Z"
   },
   {
    "duration": 1455,
    "start_time": "2022-01-03T15:58:05.116Z"
   },
   {
    "duration": 65,
    "start_time": "2022-01-03T15:58:06.573Z"
   },
   {
    "duration": 35,
    "start_time": "2022-01-03T15:58:06.641Z"
   },
   {
    "duration": 98,
    "start_time": "2022-01-03T15:58:06.679Z"
   },
   {
    "duration": 13,
    "start_time": "2022-01-03T15:58:06.779Z"
   },
   {
    "duration": 26,
    "start_time": "2022-01-03T15:58:06.794Z"
   },
   {
    "duration": 39,
    "start_time": "2022-01-03T15:58:06.822Z"
   },
   {
    "duration": 4,
    "start_time": "2022-01-03T15:58:06.864Z"
   },
   {
    "duration": 11,
    "start_time": "2022-01-03T15:58:27.158Z"
   },
   {
    "duration": 35,
    "start_time": "2022-01-03T15:59:28.281Z"
   },
   {
    "duration": 20,
    "start_time": "2022-01-03T15:59:36.220Z"
   },
   {
    "duration": 6,
    "start_time": "2022-01-03T15:59:54.408Z"
   },
   {
    "duration": 21,
    "start_time": "2022-01-03T16:00:08.095Z"
   },
   {
    "duration": 19,
    "start_time": "2022-01-03T16:00:31.217Z"
   },
   {
    "duration": 24,
    "start_time": "2022-01-03T16:01:01.044Z"
   },
   {
    "duration": 71,
    "start_time": "2022-01-03T16:04:38.122Z"
   },
   {
    "duration": 1448,
    "start_time": "2022-01-03T16:30:00.700Z"
   },
   {
    "duration": 65,
    "start_time": "2022-01-03T16:30:02.151Z"
   },
   {
    "duration": 44,
    "start_time": "2022-01-03T16:30:02.219Z"
   },
   {
    "duration": 92,
    "start_time": "2022-01-03T16:30:02.267Z"
   },
   {
    "duration": 12,
    "start_time": "2022-01-03T16:30:02.362Z"
   },
   {
    "duration": 26,
    "start_time": "2022-01-03T16:30:02.376Z"
   },
   {
    "duration": 9,
    "start_time": "2022-01-03T16:30:02.405Z"
   },
   {
    "duration": 42,
    "start_time": "2022-01-03T16:30:02.418Z"
   },
   {
    "duration": 65,
    "start_time": "2022-01-03T16:30:02.463Z"
   },
   {
    "duration": 40,
    "start_time": "2022-01-03T16:30:02.531Z"
   },
   {
    "duration": 23,
    "start_time": "2022-01-03T16:30:02.573Z"
   },
   {
    "duration": 70,
    "start_time": "2022-01-03T16:30:02.598Z"
   },
   {
    "duration": 22,
    "start_time": "2022-01-03T16:30:02.670Z"
   },
   {
    "duration": 16,
    "start_time": "2022-01-03T16:30:02.695Z"
   },
   {
    "duration": 14,
    "start_time": "2022-01-03T16:30:02.713Z"
   },
   {
    "duration": 23,
    "start_time": "2022-01-03T16:30:02.759Z"
   },
   {
    "duration": 23,
    "start_time": "2022-01-03T16:30:02.785Z"
   },
   {
    "duration": 85,
    "start_time": "2022-01-03T16:30:02.811Z"
   },
   {
    "duration": 12,
    "start_time": "2022-01-03T16:30:02.899Z"
   },
   {
    "duration": 72,
    "start_time": "2022-01-03T16:30:02.914Z"
   },
   {
    "duration": 14,
    "start_time": "2022-01-03T16:30:02.989Z"
   },
   {
    "duration": 16,
    "start_time": "2022-01-03T16:30:03.006Z"
   },
   {
    "duration": 57,
    "start_time": "2022-01-03T16:30:03.026Z"
   },
   {
    "duration": 16,
    "start_time": "2022-01-03T16:32:05.719Z"
   },
   {
    "duration": 5,
    "start_time": "2022-01-03T16:32:08.585Z"
   },
   {
    "duration": 3,
    "start_time": "2022-01-03T16:32:15.588Z"
   },
   {
    "duration": 3,
    "start_time": "2022-01-03T16:32:17.080Z"
   },
   {
    "duration": 4,
    "start_time": "2022-01-03T16:32:18.177Z"
   },
   {
    "duration": 3287,
    "start_time": "2022-01-03T16:32:55.180Z"
   },
   {
    "duration": 5549,
    "start_time": "2022-01-03T16:33:52.457Z"
   },
   {
    "duration": 24,
    "start_time": "2022-01-03T16:36:00.221Z"
   },
   {
    "duration": 669,
    "start_time": "2022-01-03T16:36:01.181Z"
   },
   {
    "duration": 544,
    "start_time": "2022-01-03T16:36:05.006Z"
   },
   {
    "duration": 964,
    "start_time": "2022-01-03T16:50:31.880Z"
   },
   {
    "duration": 283,
    "start_time": "2022-01-03T16:58:18.446Z"
   },
   {
    "duration": 314,
    "start_time": "2022-01-03T16:59:51.746Z"
   },
   {
    "duration": 466,
    "start_time": "2022-01-03T16:59:58.313Z"
   },
   {
    "duration": 1477,
    "start_time": "2022-01-03T17:07:51.445Z"
   },
   {
    "duration": 68,
    "start_time": "2022-01-03T17:07:52.925Z"
   },
   {
    "duration": 35,
    "start_time": "2022-01-03T17:07:52.995Z"
   },
   {
    "duration": 91,
    "start_time": "2022-01-03T17:07:53.032Z"
   },
   {
    "duration": 12,
    "start_time": "2022-01-03T17:07:53.125Z"
   },
   {
    "duration": 27,
    "start_time": "2022-01-03T17:07:53.160Z"
   },
   {
    "duration": 10,
    "start_time": "2022-01-03T17:07:53.189Z"
   },
   {
    "duration": 6,
    "start_time": "2022-01-03T17:07:53.201Z"
   },
   {
    "duration": 105,
    "start_time": "2022-01-03T17:07:53.211Z"
   },
   {
    "duration": 25,
    "start_time": "2022-01-03T17:07:53.319Z"
   },
   {
    "duration": 33,
    "start_time": "2022-01-03T17:07:53.347Z"
   },
   {
    "duration": 78,
    "start_time": "2022-01-03T17:07:53.383Z"
   },
   {
    "duration": 25,
    "start_time": "2022-01-03T17:07:53.463Z"
   },
   {
    "duration": 13,
    "start_time": "2022-01-03T17:07:53.491Z"
   },
   {
    "duration": 13,
    "start_time": "2022-01-03T17:07:53.507Z"
   },
   {
    "duration": 52,
    "start_time": "2022-01-03T17:07:53.523Z"
   },
   {
    "duration": 23,
    "start_time": "2022-01-03T17:07:53.577Z"
   },
   {
    "duration": 79,
    "start_time": "2022-01-03T17:07:53.602Z"
   },
   {
    "duration": 11,
    "start_time": "2022-01-03T17:07:53.683Z"
   },
   {
    "duration": 30,
    "start_time": "2022-01-03T17:07:53.697Z"
   },
   {
    "duration": 33,
    "start_time": "2022-01-03T17:07:53.729Z"
   },
   {
    "duration": 16,
    "start_time": "2022-01-03T17:07:53.765Z"
   },
   {
    "duration": 34,
    "start_time": "2022-01-03T17:07:53.784Z"
   },
   {
    "duration": 46,
    "start_time": "2022-01-03T17:07:53.820Z"
   },
   {
    "duration": 9,
    "start_time": "2022-01-03T17:07:53.869Z"
   },
   {
    "duration": 18,
    "start_time": "2022-01-03T17:07:53.880Z"
   },
   {
    "duration": 6,
    "start_time": "2022-01-03T17:07:53.903Z"
   },
   {
    "duration": 9,
    "start_time": "2022-01-03T17:07:53.912Z"
   },
   {
    "duration": 3418,
    "start_time": "2022-01-03T17:07:53.923Z"
   },
   {
    "duration": 4903,
    "start_time": "2022-01-03T17:07:57.343Z"
   },
   {
    "duration": 22,
    "start_time": "2022-01-03T17:08:02.260Z"
   },
   {
    "duration": 648,
    "start_time": "2022-01-03T17:08:02.284Z"
   },
   {
    "duration": 553,
    "start_time": "2022-01-03T17:08:02.934Z"
   },
   {
    "duration": 1358,
    "start_time": "2022-01-03T17:08:03.490Z"
   },
   {
    "duration": 301,
    "start_time": "2022-01-03T17:08:04.851Z"
   },
   {
    "duration": 309,
    "start_time": "2022-01-03T17:08:05.159Z"
   },
   {
    "duration": 372,
    "start_time": "2022-01-03T17:08:05.471Z"
   },
   {
    "duration": 251,
    "start_time": "2022-01-03T23:26:27.351Z"
   },
   {
    "duration": 1138,
    "start_time": "2022-01-03T23:26:31.075Z"
   },
   {
    "duration": 49,
    "start_time": "2022-01-03T23:26:32.214Z"
   },
   {
    "duration": 29,
    "start_time": "2022-01-03T23:26:32.265Z"
   },
   {
    "duration": 53,
    "start_time": "2022-01-03T23:26:32.296Z"
   },
   {
    "duration": 10,
    "start_time": "2022-01-03T23:26:32.351Z"
   },
   {
    "duration": 44,
    "start_time": "2022-01-03T23:26:32.363Z"
   },
   {
    "duration": 7,
    "start_time": "2022-01-03T23:26:35.546Z"
   },
   {
    "duration": 1139,
    "start_time": "2022-01-20T07:42:24.884Z"
   },
   {
    "duration": 51,
    "start_time": "2022-01-20T07:42:26.025Z"
   },
   {
    "duration": 28,
    "start_time": "2022-01-20T07:42:26.078Z"
   },
   {
    "duration": 52,
    "start_time": "2022-01-20T07:42:26.108Z"
   },
   {
    "duration": 37,
    "start_time": "2022-01-20T07:42:26.162Z"
   },
   {
    "duration": 18,
    "start_time": "2022-01-20T07:42:26.200Z"
   },
   {
    "duration": 6,
    "start_time": "2022-01-20T07:42:26.219Z"
   },
   {
    "duration": 4,
    "start_time": "2022-01-20T07:42:26.227Z"
   },
   {
    "duration": 66,
    "start_time": "2022-01-20T07:42:26.233Z"
   },
   {
    "duration": 12,
    "start_time": "2022-01-20T07:42:26.301Z"
   },
   {
    "duration": 15,
    "start_time": "2022-01-20T07:42:26.315Z"
   },
   {
    "duration": 27,
    "start_time": "2022-01-20T07:42:26.332Z"
   },
   {
    "duration": 46,
    "start_time": "2022-01-20T07:42:26.361Z"
   },
   {
    "duration": 15,
    "start_time": "2022-01-20T07:42:26.408Z"
   },
   {
    "duration": 11,
    "start_time": "2022-01-20T07:42:26.425Z"
   },
   {
    "duration": 14,
    "start_time": "2022-01-20T07:42:26.437Z"
   },
   {
    "duration": 15,
    "start_time": "2022-01-20T07:42:26.453Z"
   },
   {
    "duration": 59,
    "start_time": "2022-01-20T07:42:26.469Z"
   },
   {
    "duration": 7,
    "start_time": "2022-01-20T07:42:26.530Z"
   },
   {
    "duration": 19,
    "start_time": "2022-01-20T07:42:26.539Z"
   },
   {
    "duration": 7,
    "start_time": "2022-01-20T07:42:26.560Z"
   },
   {
    "duration": 40,
    "start_time": "2022-01-20T07:42:26.569Z"
   },
   {
    "duration": 17,
    "start_time": "2022-01-20T07:42:26.612Z"
   },
   {
    "duration": 12,
    "start_time": "2022-01-20T07:42:26.631Z"
   },
   {
    "duration": 3,
    "start_time": "2022-01-20T07:42:26.645Z"
   },
   {
    "duration": 4,
    "start_time": "2022-01-20T07:42:26.650Z"
   },
   {
    "duration": 5,
    "start_time": "2022-01-20T07:42:26.655Z"
   },
   {
    "duration": 5,
    "start_time": "2022-01-20T07:42:26.662Z"
   },
   {
    "duration": 2350,
    "start_time": "2022-01-20T07:42:26.698Z"
   },
   {
    "duration": 3722,
    "start_time": "2022-01-20T07:42:29.049Z"
   },
   {
    "duration": 28,
    "start_time": "2022-01-20T07:42:32.773Z"
   },
   {
    "duration": 391,
    "start_time": "2022-01-20T07:42:32.802Z"
   },
   {
    "duration": 325,
    "start_time": "2022-01-20T07:42:33.198Z"
   },
   {
    "duration": 703,
    "start_time": "2022-01-20T07:42:33.524Z"
   },
   {
    "duration": 199,
    "start_time": "2022-01-20T07:42:34.230Z"
   },
   {
    "duration": 210,
    "start_time": "2022-01-20T07:42:34.430Z"
   },
   {
    "duration": 269,
    "start_time": "2022-01-20T07:42:34.642Z"
   },
   {
    "duration": 395,
    "start_time": "2022-01-24T10:07:09.168Z"
   },
   {
    "duration": 370,
    "start_time": "2022-01-24T10:07:15.341Z"
   },
   {
    "duration": 5,
    "start_time": "2022-01-24T10:07:22.589Z"
   },
   {
    "duration": 13,
    "start_time": "2022-01-24T10:07:35.149Z"
   },
   {
    "duration": 1526,
    "start_time": "2022-01-24T10:07:41.933Z"
   },
   {
    "duration": 62,
    "start_time": "2022-01-24T10:07:43.462Z"
   },
   {
    "duration": 32,
    "start_time": "2022-01-24T10:07:48.838Z"
   },
   {
    "duration": 29,
    "start_time": "2022-01-24T10:07:55.407Z"
   },
   {
    "duration": 30,
    "start_time": "2022-01-24T10:08:17.395Z"
   },
   {
    "duration": 65,
    "start_time": "2022-01-24T10:11:13.761Z"
   },
   {
    "duration": 82,
    "start_time": "2022-01-24T10:11:23.160Z"
   }
  ],
  "kernelspec": {
   "display_name": "Python 3 (ipykernel)",
   "language": "python",
   "name": "python3"
  },
  "language_info": {
   "codemirror_mode": {
    "name": "ipython",
    "version": 3
   },
   "file_extension": ".py",
   "mimetype": "text/x-python",
   "name": "python",
   "nbconvert_exporter": "python",
   "pygments_lexer": "ipython3",
   "version": "3.10.7"
  },
  "toc": {
   "base_numbering": 1,
   "nav_menu": {
    "height": "12px",
    "width": "160px"
   },
   "number_sections": true,
   "sideBar": true,
   "skip_h1_title": true,
   "title_cell": "Table of Contents",
   "title_sidebar": "Contents",
   "toc_cell": false,
   "toc_position": {
    "height": "calc(100% - 180px)",
    "left": "10px",
    "top": "150px",
    "width": "221px"
   },
   "toc_section_display": true,
   "toc_window_display": true
  }
 },
 "nbformat": 4,
 "nbformat_minor": 2
}
