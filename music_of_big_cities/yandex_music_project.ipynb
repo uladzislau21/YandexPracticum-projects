{
 "cells": [
  {
   "cell_type": "markdown",
   "metadata": {},
   "source": [
    "# Музыка больших городов / Music of Big Cities"
   ]
  },
  {
   "cell_type": "markdown",
   "metadata": {},
   "source": [
    "Используя данные пользователей сервиса Яндекс.Музыка проверить следующие гипотезы:\n",
    "\n",
    "- Активность пользователей зависит от дня недели и проявляется по-разному в двух городах.\n",
    "\n",
    "- Разные жанры преобладают в двух городах в понедельник утром и в пятницу вечером.\n",
    "\n",
    "- В двух городах слушают разную музыку. Москва - город поп-музыки, Санкт-Петербург - русского рэпа.\n",
    "\n",
    "----\n",
    "\n",
    "Using data from users of the Yandex.Music service, test the following hypotheses:\n",
    "\n",
    "- User activity depends on the day of the week and manifests itself differently in the two cities.\n",
    "\n",
    "- Different genres prevail in the two cities on Monday morning and Friday evening.\n",
    "\n",
    "- In two cities listen to different music. Moscow is the city of pop music, St. Petersburg is the city of Russian rap."
   ]
  },
  {
   "cell_type": "markdown",
   "metadata": {
    "id": "Ml1hmfXC_Zcs"
   },
   "source": [
    "## Загрузка данных / Data import"
   ]
  },
  {
   "cell_type": "code",
   "execution_count": 1,
   "metadata": {
    "id": "AXN7PHPN_Zcs"
   },
   "outputs": [],
   "source": [
    "import pandas as pd"
   ]
  },
  {
   "cell_type": "markdown",
   "metadata": {
    "id": "SG23P8tt_Zcs"
   },
   "source": [
    "Прочитаем файл `yandex_music_project.csv` из папки с проектом и сохраним его в переменной `df`\n",
    "\n",
    "Read the `yandex_music_project.csv` file from the project folder and save it in the `df` variable"
   ]
  },
  {
   "cell_type": "code",
   "execution_count": 2,
   "metadata": {
    "id": "fFVu7vqh_Zct"
   },
   "outputs": [],
   "source": [
    "df = pd.read_csv('/Users/vlad/Documents/Documents Linux/Yandex DS/Projects/music_of_big_cities/yandex_music_project.csv')"
   ]
  },
  {
   "cell_type": "markdown",
   "metadata": {
    "id": "rDoOMd3uTqnZ"
   },
   "source": [
    "Посмотрим на первые 10 строк таблицы\n",
    "\n",
    "Show the head of the table"
   ]
  },
  {
   "cell_type": "code",
   "execution_count": 3,
   "metadata": {
    "id": "oWTVX3gW_Zct"
   },
   "outputs": [
    {
     "data": {
      "text/html": [
       "<div>\n",
       "<style scoped>\n",
       "    .dataframe tbody tr th:only-of-type {\n",
       "        vertical-align: middle;\n",
       "    }\n",
       "\n",
       "    .dataframe tbody tr th {\n",
       "        vertical-align: top;\n",
       "    }\n",
       "\n",
       "    .dataframe thead th {\n",
       "        text-align: right;\n",
       "    }\n",
       "</style>\n",
       "<table border=\"1\" class=\"dataframe\">\n",
       "  <thead>\n",
       "    <tr style=\"text-align: right;\">\n",
       "      <th></th>\n",
       "      <th>userID</th>\n",
       "      <th>Track</th>\n",
       "      <th>artist</th>\n",
       "      <th>genre</th>\n",
       "      <th>City</th>\n",
       "      <th>time</th>\n",
       "      <th>Day</th>\n",
       "    </tr>\n",
       "  </thead>\n",
       "  <tbody>\n",
       "    <tr>\n",
       "      <th>0</th>\n",
       "      <td>FFB692EC</td>\n",
       "      <td>Kamigata To Boots</td>\n",
       "      <td>The Mass Missile</td>\n",
       "      <td>rock</td>\n",
       "      <td>Saint-Petersburg</td>\n",
       "      <td>20:28:33</td>\n",
       "      <td>Wednesday</td>\n",
       "    </tr>\n",
       "    <tr>\n",
       "      <th>1</th>\n",
       "      <td>55204538</td>\n",
       "      <td>Delayed Because of Accident</td>\n",
       "      <td>Andreas Rönnberg</td>\n",
       "      <td>rock</td>\n",
       "      <td>Moscow</td>\n",
       "      <td>14:07:09</td>\n",
       "      <td>Friday</td>\n",
       "    </tr>\n",
       "    <tr>\n",
       "      <th>2</th>\n",
       "      <td>20EC38</td>\n",
       "      <td>Funiculì funiculà</td>\n",
       "      <td>Mario Lanza</td>\n",
       "      <td>pop</td>\n",
       "      <td>Saint-Petersburg</td>\n",
       "      <td>20:58:07</td>\n",
       "      <td>Wednesday</td>\n",
       "    </tr>\n",
       "    <tr>\n",
       "      <th>3</th>\n",
       "      <td>A3DD03C9</td>\n",
       "      <td>Dragons in the Sunset</td>\n",
       "      <td>Fire + Ice</td>\n",
       "      <td>folk</td>\n",
       "      <td>Saint-Petersburg</td>\n",
       "      <td>08:37:09</td>\n",
       "      <td>Monday</td>\n",
       "    </tr>\n",
       "    <tr>\n",
       "      <th>4</th>\n",
       "      <td>E2DC1FAE</td>\n",
       "      <td>Soul People</td>\n",
       "      <td>Space Echo</td>\n",
       "      <td>dance</td>\n",
       "      <td>Moscow</td>\n",
       "      <td>08:34:34</td>\n",
       "      <td>Monday</td>\n",
       "    </tr>\n",
       "    <tr>\n",
       "      <th>5</th>\n",
       "      <td>842029A1</td>\n",
       "      <td>Преданная</td>\n",
       "      <td>IMPERVTOR</td>\n",
       "      <td>rusrap</td>\n",
       "      <td>Saint-Petersburg</td>\n",
       "      <td>13:09:41</td>\n",
       "      <td>Friday</td>\n",
       "    </tr>\n",
       "    <tr>\n",
       "      <th>6</th>\n",
       "      <td>4CB90AA5</td>\n",
       "      <td>True</td>\n",
       "      <td>Roman Messer</td>\n",
       "      <td>dance</td>\n",
       "      <td>Moscow</td>\n",
       "      <td>13:00:07</td>\n",
       "      <td>Wednesday</td>\n",
       "    </tr>\n",
       "    <tr>\n",
       "      <th>7</th>\n",
       "      <td>F03E1C1F</td>\n",
       "      <td>Feeling This Way</td>\n",
       "      <td>Polina Griffith</td>\n",
       "      <td>dance</td>\n",
       "      <td>Moscow</td>\n",
       "      <td>20:47:49</td>\n",
       "      <td>Wednesday</td>\n",
       "    </tr>\n",
       "    <tr>\n",
       "      <th>8</th>\n",
       "      <td>8FA1D3BE</td>\n",
       "      <td>И вновь продолжается бой</td>\n",
       "      <td>NaN</td>\n",
       "      <td>ruspop</td>\n",
       "      <td>Moscow</td>\n",
       "      <td>09:17:40</td>\n",
       "      <td>Friday</td>\n",
       "    </tr>\n",
       "    <tr>\n",
       "      <th>9</th>\n",
       "      <td>E772D5C0</td>\n",
       "      <td>Pessimist</td>\n",
       "      <td>NaN</td>\n",
       "      <td>dance</td>\n",
       "      <td>Saint-Petersburg</td>\n",
       "      <td>21:20:49</td>\n",
       "      <td>Wednesday</td>\n",
       "    </tr>\n",
       "  </tbody>\n",
       "</table>\n",
       "</div>"
      ],
      "text/plain": [
       "     userID                        Track            artist   genre  \\\n",
       "0  FFB692EC            Kamigata To Boots  The Mass Missile    rock   \n",
       "1  55204538  Delayed Because of Accident  Andreas Rönnberg    rock   \n",
       "2    20EC38            Funiculì funiculà       Mario Lanza     pop   \n",
       "3  A3DD03C9        Dragons in the Sunset        Fire + Ice    folk   \n",
       "4  E2DC1FAE                  Soul People        Space Echo   dance   \n",
       "5  842029A1                    Преданная         IMPERVTOR  rusrap   \n",
       "6  4CB90AA5                         True      Roman Messer   dance   \n",
       "7  F03E1C1F             Feeling This Way   Polina Griffith   dance   \n",
       "8  8FA1D3BE     И вновь продолжается бой               NaN  ruspop   \n",
       "9  E772D5C0                    Pessimist               NaN   dance   \n",
       "\n",
       "             City        time        Day  \n",
       "0  Saint-Petersburg  20:28:33  Wednesday  \n",
       "1            Moscow  14:07:09     Friday  \n",
       "2  Saint-Petersburg  20:58:07  Wednesday  \n",
       "3  Saint-Petersburg  08:37:09     Monday  \n",
       "4            Moscow  08:34:34     Monday  \n",
       "5  Saint-Petersburg  13:09:41     Friday  \n",
       "6            Moscow  13:00:07  Wednesday  \n",
       "7            Moscow  20:47:49  Wednesday  \n",
       "8            Moscow  09:17:40     Friday  \n",
       "9  Saint-Petersburg  21:20:49  Wednesday  "
      ]
     },
     "execution_count": 3,
     "metadata": {},
     "output_type": "execute_result"
    }
   ],
   "source": [
    "df.head(10)"
   ]
  },
  {
   "cell_type": "markdown",
   "metadata": {
    "id": "EO73Kwic_Zct"
   },
   "source": [
    "Выведем общую информаицю по датафрэйму\n",
    "\n",
    "Show info of the table"
   ]
  },
  {
   "cell_type": "code",
   "execution_count": 4,
   "metadata": {
    "id": "DSf2kIb-_Zct"
   },
   "outputs": [
    {
     "name": "stdout",
     "output_type": "stream",
     "text": [
      "<class 'pandas.core.frame.DataFrame'>\n",
      "RangeIndex: 65079 entries, 0 to 65078\n",
      "Data columns (total 7 columns):\n",
      " #   Column    Non-Null Count  Dtype \n",
      "---  ------    --------------  ----- \n",
      " 0     userID  65079 non-null  object\n",
      " 1   Track     63848 non-null  object\n",
      " 2   artist    57876 non-null  object\n",
      " 3   genre     63881 non-null  object\n",
      " 4     City    65079 non-null  object\n",
      " 5   time      65079 non-null  object\n",
      " 6   Day       65079 non-null  object\n",
      "dtypes: object(7)\n",
      "memory usage: 3.5+ MB\n"
     ]
    }
   ],
   "source": [
    "df.info()"
   ]
  },
  {
   "cell_type": "markdown",
   "metadata": {},
   "source": [
    "### Описание данных / Data description"
   ]
  },
  {
   "cell_type": "markdown",
   "metadata": {
    "id": "TaQ2Iwbr_Zct"
   },
   "source": [
    "В таблице 7 столбцов и 65079 строк. Все переменные имеют тип `object`.\n",
    "\n",
    "* `userID` — идентификатор пользователя;\n",
    "* `Track` — название трека;  \n",
    "* `artist` — имя исполнителя;\n",
    "* `genre` — название жанра;\n",
    "* `City` — город пользователя;\n",
    "* `time` — время начала прослушивания;\n",
    "* `Day` — день недели.\n",
    "\n",
    "В названиях колонок есть следующие проблемы:\n",
    "1. Строчные буквы сочетаются с прописными.\n",
    "2. Встречаются пробелы.\n",
    "3. Стиль названия колонок не един. Лучше использовать snake_case.\n",
    "\n",
    "В данных есть пропуски, так как количество наблюдений в некоторых колонках меньше общего количества строк.\n",
    "\n",
    "----\n",
    "\n",
    "The table has 7 columns and 65079 rows. All variables are of type `object`.\n",
    "\n",
    "* `userID` - user ID;\n",
    "* `Track` — track name;\n",
    "* `artist` — artist name;\n",
    "* `genre` — genre name;\n",
    "* `City` - user's city;\n",
    "* `time` - start time of listening;\n",
    "* `Day` is the day of the week.\n",
    "\n",
    "Column titles have the following issues:\n",
    "1. Lowercase letters are combined with uppercase.\n",
    "2. There are gaps.\n",
    "3. The style of the column names is not the same. It's better to use snake_case.\n",
    "\n",
    "There are gaps in the data because the number of observations in some columns is less than the total number of rows."
   ]
  },
  {
   "cell_type": "markdown",
   "metadata": {},
   "source": [
    "### Выводы / Conclusion"
   ]
  },
  {
   "cell_type": "markdown",
   "metadata": {
    "id": "MCB6-dXG_Zct"
   },
   "source": [
    "Полученные данные описывают активность пользователей Яндекс.Музыки. Например, мы можем видеть какой пользователь какой трек прослушал, метаданные этого трека, из какого города пользователь, и в какое время дня и день недели он прослушал этот трек.\n",
    "\n",
    "В данных встречаются пропуски, а названия переменных не соответствует общепринятому стилю.\n",
    "\n",
    "Для дальнейшей работы с данными в них необходимо устранить найденые проблемы.\n",
    "\n",
    "---\n",
    "\n",
    "The data obtained describes the activity of Yandex.Music users. For example, we can see which user listened to which track, the metadata of this track, what city the user is from, and at what time of the day and day of the week he listened to this track.\n",
    "\n",
    "There are gaps in the data, and the names of the variables do not correspond to the generally accepted style.\n",
    "\n",
    "For further work with the data in them, it is necessary to eliminate the problems found."
   ]
  },
  {
   "cell_type": "markdown",
   "metadata": {
    "id": "SjYF6Ub9_Zct"
   },
   "source": [
    "## Предобработка данных / Data preprocessing"
   ]
  },
  {
   "cell_type": "markdown",
   "metadata": {},
   "source": [
    "На данном этапе мы исправим проблемы в данных, найденые ранее, а также проверим переменные на наличие дубликатов.\n",
    "\n",
    "In this step, we will fix the problems in the data found earlier, and also check the variables for duplicates."
   ]
  },
  {
   "cell_type": "markdown",
   "metadata": {
    "id": "dIaKXr29_Zct"
   },
   "source": [
    "### Название столбцов / Column names"
   ]
  },
  {
   "cell_type": "code",
   "execution_count": 5,
   "metadata": {
    "id": "oKOTdF_Q_Zct"
   },
   "outputs": [
    {
     "data": {
      "text/plain": [
       "Index(['  userID', 'Track', 'artist', 'genre', '  City  ', 'time', 'Day'], dtype='object')"
      ]
     },
     "execution_count": 5,
     "metadata": {},
     "output_type": "execute_result"
    }
   ],
   "source": [
    "df.columns"
   ]
  },
  {
   "cell_type": "markdown",
   "metadata": {
    "id": "zj5534cv_Zct"
   },
   "source": [
    "Приведем названия колонок к следующему стилю:\n",
    "* несколько слов в названии запишем в «snake_case»,\n",
    "* все символы сделаем строчными,\n",
    "* устраним пробелы.\n",
    "\n",
    "----\n",
    "\n",
    "Let's change the column names to the following style:\n",
    "* write a few words in the title in \"snake_case\",\n",
    "* make all characters lowercase,\n",
    "* Eliminate spaces."
   ]
  },
  {
   "cell_type": "markdown",
   "metadata": {},
   "source": [
    "Для этого используем метод `rename`\n",
    "\n",
    "For that we use `rename` method"
   ]
  },
  {
   "cell_type": "code",
   "execution_count": 6,
   "metadata": {
    "id": "ISlFqs5y_Zct"
   },
   "outputs": [],
   "source": [
    "# переименование столбцов\n",
    "df = df.rename(columns={\n",
    "    \n",
    "    '  userID' : 'user_id',\n",
    "    'Track' : 'track',\n",
    "    '  City  ' : 'city',\n",
    "    'Day' : 'day'\n",
    "})"
   ]
  },
  {
   "cell_type": "markdown",
   "metadata": {
    "id": "1dqbh00J_Zct"
   },
   "source": [
    "Проверим результат.\n",
    "\n",
    "Check the result"
   ]
  },
  {
   "cell_type": "code",
   "execution_count": 7,
   "metadata": {
    "id": "d4NOAmTW_Zct"
   },
   "outputs": [
    {
     "data": {
      "text/plain": [
       "Index(['user_id', 'track', 'artist', 'genre', 'city', 'time', 'day'], dtype='object')"
      ]
     },
     "execution_count": 7,
     "metadata": {},
     "output_type": "execute_result"
    }
   ],
   "source": [
    "df.columns"
   ]
  },
  {
   "cell_type": "markdown",
   "metadata": {
    "id": "5ISfbcfY_Zct"
   },
   "source": [
    "### Пропуски / Missing values"
   ]
  },
  {
   "cell_type": "markdown",
   "metadata": {},
   "source": [
    "Выведем статистику по пропускам\n",
    "\n",
    "Check statistics of missing values"
   ]
  },
  {
   "cell_type": "code",
   "execution_count": 8,
   "metadata": {
    "id": "RskX29qr_Zct"
   },
   "outputs": [
    {
     "data": {
      "text/plain": [
       "user_id       0\n",
       "track      1231\n",
       "artist     7203\n",
       "genre      1198\n",
       "city          0\n",
       "time          0\n",
       "day           0\n",
       "dtype: int64"
      ]
     },
     "execution_count": 8,
     "metadata": {},
     "output_type": "execute_result"
    }
   ],
   "source": [
    "df.isna().sum()"
   ]
  },
  {
   "cell_type": "markdown",
   "metadata": {
    "id": "qubhgnlO_Zct"
   },
   "source": [
    "Пропуски есть в трех колонках: `track`, `artist`, и `genre`.\n",
    "\n",
    "Для того, чтобы эффективно заполнить пропуски, необходимо разобраться в причине их появления. Однако, в данном случае некоторые пропуски можно было бы заполнить без выяснения причины. Например, можно было бы заполнить пропуски в колонке `artist`, если в данном наблюдении есть значения в колонках `track` и `genre`. Но заполнять тысячу с лишним пропусков вручную трудоемкий процесс, а автоматизация такого процесса выходит за рамки такого проекта. В дополнение, пропуски в колонках `artist` и `track` не повлияют на проверку гипотез в данном проекте. Напротив, пропуски в `genre` прямо влияют на результат. Мы можем зполнить пропуски с фиксированным значением `unknown`.\n",
    "\n",
    "----\n",
    "\n",
    "There are gaps in three columns: `track`, `artist`, and `genre`.\n",
    "\n",
    "In order to effectively fill gaps, you need to understand the reason for their occurrence. However, in this case, some of the gaps could be filled without finding out the reason. For example, one could fill in the gaps in the `artist` column if the case has values in the `track` and `genre` columns. But filling in a thousand-odd blanks by hand is a laborious process, and automating such a process is beyond the scope of such a project. In addition, omissions in the `artist` and `track` columns will not affect the hypothesis testing in this project. In contrast, omissions in `genre` directly affect the result. We can fill in the blanks with a fixed value of `unknown`."
   ]
  },
  {
   "cell_type": "code",
   "execution_count": 9,
   "metadata": {
    "id": "KplB5qWs_Zct"
   },
   "outputs": [],
   "source": [
    "columns_to_replace = ['track', 'artist', 'genre']\n",
    "for col in columns_to_replace:\n",
    "    df[col] = df[col].fillna('unknown')"
   ]
  },
  {
   "cell_type": "markdown",
   "metadata": {
    "id": "Ilsm-MZo_Zct"
   },
   "source": [
    "Сделаем проверку заполнения пропусков.\n",
    "\n",
    "Check missing values imputation"
   ]
  },
  {
   "cell_type": "code",
   "execution_count": 10,
   "metadata": {
    "id": "Tq4nYRX4_Zct",
    "scrolled": true
   },
   "outputs": [
    {
     "data": {
      "text/plain": [
       "user_id    0\n",
       "track      0\n",
       "artist     0\n",
       "genre      0\n",
       "city       0\n",
       "time       0\n",
       "day        0\n",
       "dtype: int64"
      ]
     },
     "execution_count": 10,
     "metadata": {},
     "output_type": "execute_result"
    }
   ],
   "source": [
    "df.isna().sum()"
   ]
  },
  {
   "cell_type": "markdown",
   "metadata": {},
   "source": [
    "Пропуски заполнили, переходим к дубликатам.\n",
    "\n",
    "Missing values are imputed. Let's move to duplicates."
   ]
  },
  {
   "cell_type": "markdown",
   "metadata": {
    "id": "BWKRtBJ3_Zct"
   },
   "source": [
    "### Дубликаты / Duplicates"
   ]
  },
  {
   "cell_type": "markdown",
   "metadata": {},
   "source": [
    "Дубликаты могут быть как явными так и неявными. Явные дубликаты представляют из себя дублирование целых строк, а неявные - дублирование значений с разным написанием, например (cat и caT).\n",
    "\n",
    "---\n",
    "\n",
    "Duplicates can be either explicit or implicit. Explicit duplicates are duplicates of entire strings, and implicit ones are duplicates of values with different spellings, for example (cat and catT)."
   ]
  },
  {
   "cell_type": "markdown",
   "metadata": {},
   "source": [
    "Посчитаем явные дубликаты\n",
    "\n",
    "Count explicit duplicates"
   ]
  },
  {
   "cell_type": "code",
   "execution_count": 11,
   "metadata": {
    "id": "36eES_S0_Zct"
   },
   "outputs": [
    {
     "data": {
      "text/plain": [
       "3826"
      ]
     },
     "execution_count": 11,
     "metadata": {},
     "output_type": "execute_result"
    }
   ],
   "source": [
    "df.duplicated().sum()"
   ]
  },
  {
   "cell_type": "markdown",
   "metadata": {
    "id": "Ot25h6XR_Zct"
   },
   "source": [
    "Удалим явные дубликаты с помощью метода `drop_duplicates`\n",
    "\n",
    "Remove explicit duplicates using the `drop_duplicates` method"
   ]
  },
  {
   "cell_type": "code",
   "execution_count": 12,
   "metadata": {
    "id": "exFHq6tt_Zct"
   },
   "outputs": [],
   "source": [
    "df = df.drop_duplicates().reset_index(drop=True)"
   ]
  },
  {
   "cell_type": "markdown",
   "metadata": {
    "id": "Im2YwBEG_Zct"
   },
   "source": [
    "Проверка удаления явных дубликатов\n",
    "\n",
    "Check explicit duplicates removal"
   ]
  },
  {
   "cell_type": "code",
   "execution_count": 13,
   "metadata": {
    "id": "-8PuNWQ0_Zct"
   },
   "outputs": [
    {
     "data": {
      "text/plain": [
       "0"
      ]
     },
     "execution_count": 13,
     "metadata": {},
     "output_type": "execute_result"
    }
   ],
   "source": [
    "df.duplicated().sum()"
   ]
  },
  {
   "cell_type": "markdown",
   "metadata": {},
   "source": [
    "Проверка колонки `genre` на неявные дубликаты\n",
    "\n",
    "Checking the `genre` column for implicit duplicates"
   ]
  },
  {
   "cell_type": "code",
   "execution_count": 15,
   "metadata": {
    "id": "JIUcqzZN_Zct"
   },
   "outputs": [
    {
     "data": {
      "text/plain": [
       "array(['acid', 'acoustic', 'action', 'adult', 'africa', 'afrikaans',\n",
       "       'alternative', 'alternativepunk', 'ambient', 'americana',\n",
       "       'animated', 'anime', 'arabesk', 'arabic', 'arena',\n",
       "       'argentinetango', 'art', 'audiobook', 'author', 'avantgarde',\n",
       "       'axé', 'baile', 'balkan', 'beats', 'bigroom', 'black', 'bluegrass',\n",
       "       'blues', 'bollywood', 'bossa', 'brazilian', 'breakbeat', 'breaks',\n",
       "       'broadway', 'cantautori', 'cantopop', 'canzone', 'caribbean',\n",
       "       'caucasian', 'celtic', 'chamber', 'chanson', 'children', 'chill',\n",
       "       'chinese', 'choral', 'christian', 'christmas', 'classical',\n",
       "       'classicmetal', 'club', 'colombian', 'comedy', 'conjazz',\n",
       "       'contemporary', 'country', 'cuban', 'dance', 'dancehall',\n",
       "       'dancepop', 'dark', 'death', 'deep', 'deutschrock', 'deutschspr',\n",
       "       'dirty', 'disco', 'dnb', 'documentary', 'downbeat', 'downtempo',\n",
       "       'drum', 'dub', 'dubstep', 'eastern', 'easy', 'electronic',\n",
       "       'electropop', 'emo', 'entehno', 'epicmetal', 'estrada', 'ethnic',\n",
       "       'eurofolk', 'european', 'experimental', 'extrememetal', 'fado',\n",
       "       'fairytail', 'film', 'fitness', 'flamenco', 'folk', 'folklore',\n",
       "       'folkmetal', 'folkrock', 'folktronica', 'forró', 'frankreich',\n",
       "       'französisch', 'french', 'funk', 'future', 'gangsta', 'garage',\n",
       "       'german', 'ghazal', 'gitarre', 'glitch', 'gospel', 'gothic',\n",
       "       'grime', 'grunge', 'gypsy', 'handsup', \"hard'n'heavy\", 'hardcore',\n",
       "       'hardstyle', 'hardtechno', 'hip', 'hip-hop', 'hiphop',\n",
       "       'historisch', 'holiday', 'hop', 'horror', 'house', 'hymn', 'idm',\n",
       "       'independent', 'indian', 'indie', 'indipop', 'industrial',\n",
       "       'inspirational', 'instrumental', 'international', 'irish', 'jam',\n",
       "       'japanese', 'jazz', 'jewish', 'jpop', 'jungle', 'k-pop',\n",
       "       'karadeniz', 'karaoke', 'kayokyoku', 'korean', 'laiko', 'latin',\n",
       "       'latino', 'leftfield', 'local', 'lounge', 'loungeelectronic',\n",
       "       'lovers', 'malaysian', 'mandopop', 'marschmusik', 'meditative',\n",
       "       'mediterranean', 'melodic', 'metal', 'metalcore', 'mexican',\n",
       "       'middle', 'minimal', 'miscellaneous', 'modern', 'mood', 'mpb',\n",
       "       'muslim', 'native', 'neoklassik', 'neue', 'new', 'newage',\n",
       "       'newwave', 'nu', 'nujazz', 'numetal', 'oceania', 'old', 'opera',\n",
       "       'orchestral', 'other', 'piano', 'podcasts', 'pop', 'popdance',\n",
       "       'popelectronic', 'popeurodance', 'poprussian', 'post',\n",
       "       'posthardcore', 'postrock', 'power', 'progmetal', 'progressive',\n",
       "       'psychedelic', 'punjabi', 'punk', 'quebecois', 'ragga', 'ram',\n",
       "       'rancheras', 'rap', 'rave', 'reggae', 'reggaeton', 'regional',\n",
       "       'relax', 'religious', 'retro', 'rhythm', 'rnb', 'rnr', 'rock',\n",
       "       'rockabilly', 'rockalternative', 'rockindie', 'rockother',\n",
       "       'romance', 'roots', 'ruspop', 'rusrap', 'rusrock', 'russian',\n",
       "       'salsa', 'samba', 'scenic', 'schlager', 'self', 'sertanejo',\n",
       "       'shanson', 'shoegazing', 'showtunes', 'singer', 'ska', 'skarock',\n",
       "       'slow', 'smooth', 'soft', 'soul', 'soulful', 'sound', 'soundtrack',\n",
       "       'southern', 'specialty', 'speech', 'spiritual', 'sport',\n",
       "       'stonerrock', 'surf', 'swing', 'synthpop', 'synthrock',\n",
       "       'sängerportrait', 'tango', 'tanzorchester', 'taraftar', 'tatar',\n",
       "       'tech', 'techno', 'teen', 'thrash', 'top', 'traditional',\n",
       "       'tradjazz', 'trance', 'tribal', 'trip', 'triphop', 'tropical',\n",
       "       'türk', 'türkçe', 'ukrrock', 'unknown', 'urban', 'uzbek',\n",
       "       'variété', 'vi', 'videogame', 'vocal', 'western', 'world',\n",
       "       'worldbeat', 'ïîï', 'электроника'], dtype=object)"
      ]
     },
     "execution_count": 15,
     "metadata": {},
     "output_type": "execute_result"
    }
   ],
   "source": [
    "df['genre'].sort_values().unique()"
   ]
  },
  {
   "cell_type": "markdown",
   "metadata": {},
   "source": [
    "Проверка показазал, что жанр **hip-hop** записан по-разному: hiphop, hip-hop, и hip. Напишем функцию для замены этих дубликатов.\n",
    "\n",
    "----\n",
    "\n",
    "Checking showed that the **hip-hop** genre is spelled differently: hiphop, hip-hop, and hip. Let's write a function to replace these duplicates."
   ]
  },
  {
   "cell_type": "code",
   "execution_count": 16,
   "metadata": {
    "id": "ErNDkmns_Zct"
   },
   "outputs": [],
   "source": [
    "def replace_wrong_genres(wrong_genres, correct_genre):\n",
    "    for genr in wrong_genres:\n",
    "        df['genre'] = df['genre'].replace(genr, correct_genre)"
   ]
  },
  {
   "cell_type": "code",
   "execution_count": 18,
   "metadata": {
    "id": "YN5i2hpmSo09"
   },
   "outputs": [],
   "source": [
    "wrong_genres = ['hip', 'hop', 'hip-hop']\n",
    "replace_wrong_genres(wrong_genres, 'hiphop')"
   ]
  },
  {
   "cell_type": "markdown",
   "metadata": {
    "id": "zQKF16_RG15m"
   },
   "source": [
    "Убедимся, что замена произошла правильно\n",
    "\n",
    "Chechk if the change is correct"
   ]
  },
  {
   "cell_type": "code",
   "execution_count": 19,
   "metadata": {
    "id": "wvixALnFG15m",
    "scrolled": false
   },
   "outputs": [
    {
     "name": "stdout",
     "output_type": "stream",
     "text": [
      "['acid' 'acoustic' 'action' 'adult' 'africa' 'afrikaans' 'alternative'\n",
      " 'alternativepunk' 'ambient' 'americana' 'animated' 'anime' 'arabesk'\n",
      " 'arabic' 'arena' 'argentinetango' 'art' 'audiobook' 'author' 'avantgarde'\n",
      " 'axé' 'baile' 'balkan' 'beats' 'bigroom' 'black' 'bluegrass' 'blues'\n",
      " 'bollywood' 'bossa' 'brazilian' 'breakbeat' 'breaks' 'broadway'\n",
      " 'cantautori' 'cantopop' 'canzone' 'caribbean' 'caucasian' 'celtic'\n",
      " 'chamber' 'chanson' 'children' 'chill' 'chinese' 'choral' 'christian'\n",
      " 'christmas' 'classical' 'classicmetal' 'club' 'colombian' 'comedy'\n",
      " 'conjazz' 'contemporary' 'country' 'cuban' 'dance' 'dancehall' 'dancepop'\n",
      " 'dark' 'death' 'deep' 'deutschrock' 'deutschspr' 'dirty' 'disco' 'dnb'\n",
      " 'documentary' 'downbeat' 'downtempo' 'drum' 'dub' 'dubstep' 'eastern'\n",
      " 'easy' 'electronic' 'electropop' 'emo' 'entehno' 'epicmetal' 'estrada'\n",
      " 'ethnic' 'eurofolk' 'european' 'experimental' 'extrememetal' 'fado'\n",
      " 'fairytail' 'film' 'fitness' 'flamenco' 'folk' 'folklore' 'folkmetal'\n",
      " 'folkrock' 'folktronica' 'forró' 'frankreich' 'französisch' 'french'\n",
      " 'funk' 'future' 'gangsta' 'garage' 'german' 'ghazal' 'gitarre' 'glitch'\n",
      " 'gospel' 'gothic' 'grime' 'grunge' 'gypsy' 'handsup' \"hard'n'heavy\"\n",
      " 'hardcore' 'hardstyle' 'hardtechno' 'hiphop' 'historisch' 'holiday'\n",
      " 'horror' 'house' 'hymn' 'idm' 'independent' 'indian' 'indie' 'indipop'\n",
      " 'industrial' 'inspirational' 'instrumental' 'international' 'irish' 'jam'\n",
      " 'japanese' 'jazz' 'jewish' 'jpop' 'jungle' 'k-pop' 'karadeniz' 'karaoke'\n",
      " 'kayokyoku' 'korean' 'laiko' 'latin' 'latino' 'leftfield' 'local'\n",
      " 'lounge' 'loungeelectronic' 'lovers' 'malaysian' 'mandopop' 'marschmusik'\n",
      " 'meditative' 'mediterranean' 'melodic' 'metal' 'metalcore' 'mexican'\n",
      " 'middle' 'minimal' 'miscellaneous' 'modern' 'mood' 'mpb' 'muslim'\n",
      " 'native' 'neoklassik' 'neue' 'new' 'newage' 'newwave' 'nu' 'nujazz'\n",
      " 'numetal' 'oceania' 'old' 'opera' 'orchestral' 'other' 'piano' 'podcasts'\n",
      " 'pop' 'popdance' 'popelectronic' 'popeurodance' 'poprussian' 'post'\n",
      " 'posthardcore' 'postrock' 'power' 'progmetal' 'progressive' 'psychedelic'\n",
      " 'punjabi' 'punk' 'quebecois' 'ragga' 'ram' 'rancheras' 'rap' 'rave'\n",
      " 'reggae' 'reggaeton' 'regional' 'relax' 'religious' 'retro' 'rhythm'\n",
      " 'rnb' 'rnr' 'rock' 'rockabilly' 'rockalternative' 'rockindie' 'rockother'\n",
      " 'romance' 'roots' 'ruspop' 'rusrap' 'rusrock' 'russian' 'salsa' 'samba'\n",
      " 'scenic' 'schlager' 'self' 'sertanejo' 'shanson' 'shoegazing' 'showtunes'\n",
      " 'singer' 'ska' 'skarock' 'slow' 'smooth' 'soft' 'soul' 'soulful' 'sound'\n",
      " 'soundtrack' 'southern' 'specialty' 'speech' 'spiritual' 'sport'\n",
      " 'stonerrock' 'surf' 'swing' 'synthpop' 'synthrock' 'sängerportrait'\n",
      " 'tango' 'tanzorchester' 'taraftar' 'tatar' 'tech' 'techno' 'teen'\n",
      " 'thrash' 'top' 'traditional' 'tradjazz' 'trance' 'tribal' 'trip'\n",
      " 'triphop' 'tropical' 'türk' 'türkçe' 'ukrrock' 'unknown' 'urban' 'uzbek'\n",
      " 'variété' 'vi' 'videogame' 'vocal' 'western' 'world' 'worldbeat' 'ïîï'\n",
      " 'электроника']\n"
     ]
    }
   ],
   "source": [
    "# Проверка на неявные дубликаты\n",
    "print(df['genre'].sort_values().unique())"
   ]
  },
  {
   "cell_type": "markdown",
   "metadata": {},
   "source": [
    "### Выводы / Conclusion"
   ]
  },
  {
   "cell_type": "markdown",
   "metadata": {},
   "source": [
    "В данных мы обнаружили пропуски, нестандартные названия колонок, и дубликаты (явные и неявные). Все проблемы перед проверкой гипотез были утсранены.\n",
    "\n",
    "---\n",
    "\n",
    "In the data, we found gaps, non-standard column names, and duplicates (explicit and implicit). All problems before testing hypotheses were eliminated."
   ]
  },
  {
   "cell_type": "markdown",
   "metadata": {
    "id": "WttZHXH0SqKk"
   },
   "source": [
    "## Проверка гипотез / Hypotheses thesting"
   ]
  },
  {
   "cell_type": "markdown",
   "metadata": {
    "id": "Im936VVi_Zcu"
   },
   "source": [
    "### Сравнение поведения пользователей двух столиц / Compare the activity of users from two capitals"
   ]
  },
  {
   "cell_type": "markdown",
   "metadata": {},
   "source": [
    "Первая гипотеза утверждает, что жители Москвы и Санкт-Петербурга имеют разную активность в Яндекс.Музыке.\n",
    "\n",
    "The first hypothesis states that citizens of Moscow and St. Petersburg have different activities in Yandex.Music."
   ]
  },
  {
   "cell_type": "code",
   "execution_count": 21,
   "metadata": {
    "id": "0_Qs96oh_Zcu"
   },
   "outputs": [
    {
     "data": {
      "text/plain": [
       "city\n",
       "Moscow              42741\n",
       "Saint-Petersburg    18512\n",
       "Name: user_id, dtype: int64"
      ]
     },
     "execution_count": 21,
     "metadata": {},
     "output_type": "execute_result"
    }
   ],
   "source": [
    "df.groupby(['city']).count()['user_id']"
   ]
  },
  {
   "cell_type": "markdown",
   "metadata": {
    "id": "dzli3w8o_Zcu"
   },
   "source": [
    "Мы сгруппировали данные по городу и подсчитали количество идентификаторов пользоватей в каждом из них, что соответствует количеству прослушиваний. В Москве прослушиваний больше в 2,3 раза. Однако, в Москве живет больше людей, чем в Санкт-Петербугре, поэтому никаких выводов из этих рассчетов мы сделать не можем.\n",
    "\n",
    "----\n",
    "\n",
    "We grouped the data by city and counted the number of user IDs in each of them, which corresponds to the number of plays. In Moscow, there are 2.3 times more auditions. However, more people live in Moscow than in St. Petersburg, so we cannot draw any conclusions from these calculations."
   ]
  },
  {
   "cell_type": "code",
   "execution_count": 22,
   "metadata": {
    "id": "uZMKjiJz_Zcu"
   },
   "outputs": [
    {
     "data": {
      "text/plain": [
       "day\n",
       "Friday       21840\n",
       "Monday       21354\n",
       "Wednesday    18059\n",
       "Name: user_id, dtype: int64"
      ]
     },
     "execution_count": 22,
     "metadata": {},
     "output_type": "execute_result"
    }
   ],
   "source": [
    "df.groupby(['day']).count()['user_id']"
   ]
  },
  {
   "cell_type": "markdown",
   "metadata": {
    "id": "cC2tNrlL_Zcu"
   },
   "source": [
    "Средняя активность по двум городам в срезе по дням недели не имеет значительных отличий между пятницей и понедельником, тогда как в среду она на 3 тыс меньше. Рассчеты в городах по отдельности могут отличаться.\n",
    "\n",
    "----\n",
    "\n",
    "The average activity in the two cities in terms of days of the week does not differ significantly between Friday and Monday, while on Wednesday it is 3,000 less. Calculations in cities separately may differ."
   ]
  },
  {
   "cell_type": "markdown",
   "metadata": {},
   "source": [
    "Создадим функцию, которая будет делать срез по городу и дню недели и рассчитывать активность слушателей.\n",
    "\n",
    "Let's create a function that will slice by city and day of the week and calculate listener activity."
   ]
  },
  {
   "cell_type": "code",
   "execution_count": 23,
   "metadata": {
    "id": "Nz3GdQB1_Zcu"
   },
   "outputs": [],
   "source": [
    "def number_tracks(day, city):\n",
    "    track_list = df[df['day'] == day]\n",
    "    track_list = track_list[track_list['city'] == city]\n",
    "    track_list_count = track_list['user_id'].count()\n",
    "    return track_list_count"
   ]
  },
  {
   "cell_type": "code",
   "execution_count": 31,
   "metadata": {
    "id": "rJcRATNQ_Zcu"
   },
   "outputs": [
    {
     "data": {
      "text/plain": [
       "15740"
      ]
     },
     "execution_count": 31,
     "metadata": {},
     "output_type": "execute_result"
    }
   ],
   "source": [
    "# Москва по понедельникам\n",
    "mos_mon = number_tracks(day='Monday', city='Moscow')\n",
    "mos_mon"
   ]
  },
  {
   "cell_type": "code",
   "execution_count": 32,
   "metadata": {
    "id": "hq_ncZ5T_Zcu"
   },
   "outputs": [
    {
     "data": {
      "text/plain": [
       "5614"
      ]
     },
     "execution_count": 32,
     "metadata": {},
     "output_type": "execute_result"
    }
   ],
   "source": [
    "# Санкт-Петербург по понедельникам\n",
    "spb_mon = number_tracks(day='Monday', city='Saint-Petersburg')\n",
    "spb_mon"
   ]
  },
  {
   "cell_type": "code",
   "execution_count": 33,
   "metadata": {
    "id": "_NTy2VPU_Zcu"
   },
   "outputs": [
    {
     "data": {
      "text/plain": [
       "11056"
      ]
     },
     "execution_count": 33,
     "metadata": {},
     "output_type": "execute_result"
    }
   ],
   "source": [
    "# Москва по средам\n",
    "mos_wed = number_tracks(day='Wednesday', city='Moscow')\n",
    "mos_wed"
   ]
  },
  {
   "cell_type": "code",
   "execution_count": 37,
   "metadata": {
    "id": "j2y3TAwo_Zcu"
   },
   "outputs": [
    {
     "data": {
      "text/plain": [
       "7003"
      ]
     },
     "execution_count": 37,
     "metadata": {},
     "output_type": "execute_result"
    }
   ],
   "source": [
    "# Санкт-Петербург по средам\n",
    "spb_wed = number_tracks(day='Wednesday', city='Saint-Petersburg')\n",
    "spb_wed"
   ]
  },
  {
   "cell_type": "code",
   "execution_count": 36,
   "metadata": {
    "id": "vYDw5u_K_Zcu"
   },
   "outputs": [
    {
     "data": {
      "text/plain": [
       "15945"
      ]
     },
     "execution_count": 36,
     "metadata": {},
     "output_type": "execute_result"
    }
   ],
   "source": [
    "# Москва по пятницам\n",
    "mos_fri = number_tracks(day='Friday', city='Moscow')\n",
    "mos_fri"
   ]
  },
  {
   "cell_type": "code",
   "execution_count": 35,
   "metadata": {
    "id": "8_yzFtW3_Zcu"
   },
   "outputs": [
    {
     "data": {
      "text/plain": [
       "5895"
      ]
     },
     "execution_count": 35,
     "metadata": {},
     "output_type": "execute_result"
    }
   ],
   "source": [
    "# Санкт-Петербург по пятницам\n",
    "spb_fri = number_tracks(day='Friday', city='Saint-Petersburg')\n",
    "spb_fri"
   ]
  },
  {
   "cell_type": "markdown",
   "metadata": {},
   "source": [
    "Объединим данные в таблицу\n",
    "\n",
    "Unite data in the table"
   ]
  },
  {
   "cell_type": "code",
   "execution_count": 40,
   "metadata": {
    "id": "APAcLpOr_Zcu"
   },
   "outputs": [
    {
     "data": {
      "text/html": [
       "<div>\n",
       "<style scoped>\n",
       "    .dataframe tbody tr th:only-of-type {\n",
       "        vertical-align: middle;\n",
       "    }\n",
       "\n",
       "    .dataframe tbody tr th {\n",
       "        vertical-align: top;\n",
       "    }\n",
       "\n",
       "    .dataframe thead th {\n",
       "        text-align: right;\n",
       "    }\n",
       "</style>\n",
       "<table border=\"1\" class=\"dataframe\">\n",
       "  <thead>\n",
       "    <tr style=\"text-align: right;\">\n",
       "      <th></th>\n",
       "      <th>city</th>\n",
       "      <th>monday</th>\n",
       "      <th>wednesday</th>\n",
       "      <th>friday</th>\n",
       "    </tr>\n",
       "  </thead>\n",
       "  <tbody>\n",
       "    <tr>\n",
       "      <th>0</th>\n",
       "      <td>Moscow</td>\n",
       "      <td>15740</td>\n",
       "      <td>11056</td>\n",
       "      <td>15945</td>\n",
       "    </tr>\n",
       "    <tr>\n",
       "      <th>1</th>\n",
       "      <td>Saint-Petersburg</td>\n",
       "      <td>5614</td>\n",
       "      <td>7003</td>\n",
       "      <td>5895</td>\n",
       "    </tr>\n",
       "  </tbody>\n",
       "</table>\n",
       "</div>"
      ],
      "text/plain": [
       "               city  monday  wednesday  friday\n",
       "0            Moscow   15740      11056   15945\n",
       "1  Saint-Petersburg    5614       7003    5895"
      ]
     },
     "execution_count": 40,
     "metadata": {},
     "output_type": "execute_result"
    }
   ],
   "source": [
    "# Таблица с результатами\n",
    "columns = ['city', 'monday', 'wednesday', 'friday']\n",
    "data = [\n",
    "    ['Moscow', mos_mon, mos_wed, mos_fri],\n",
    "    ['Saint-Petersburg', spb_mon, spb_wed, spb_fri]\n",
    "]\n",
    "results = pd.DataFrame(data = data, columns = columns)\n",
    "results"
   ]
  },
  {
   "cell_type": "markdown",
   "metadata": {
    "id": "-EgPIHYu_Zcu"
   },
   "source": [
    "### Выводы / Conclusions"
   ]
  },
  {
   "cell_type": "markdown",
   "metadata": {},
   "source": [
    "Полученные данные подтверждают первую гипотезу. В Москве музыку слушают больше по понедельникам и пятницам, в то время как в Санкт-Петербурге это среда.\n",
    "\n",
    "----\n",
    "\n",
    "The obtained data confirm the first hypothesis. In Moscow, music is listened to more on Mondays and Fridays, while in St. Petersburg it is Wednesday."
   ]
  },
  {
   "cell_type": "markdown",
   "metadata": {
    "id": "atZAxtq4_Zcu"
   },
   "source": [
    "### Музыка в начале и в конце недели / Music in the start and in the end of the week"
   ]
  },
  {
   "cell_type": "markdown",
   "metadata": {
    "id": "eXrQqXFH_Zcu"
   },
   "source": [
    "Согласно второй гипотезе, утром в понедельник в Москве преобладают одни жанры, а в Петербурге — другие. Так же и вечером пятницы преобладают разные жанры — в зависимости от города.\n",
    "\n",
    "---\n",
    "\n",
    "According to the second hypothesis, on Monday morning certain genres predominate in Moscow, while others dominate in St. Petersburg. Similarly, Friday evenings are dominated by different genres, depending on the city."
   ]
  },
  {
   "cell_type": "markdown",
   "metadata": {},
   "source": [
    "Разделим города на два отдельных датафрэйма\n",
    "\n",
    "Split cities to different dataframes"
   ]
  },
  {
   "cell_type": "code",
   "execution_count": 41,
   "metadata": {
    "id": "qeaFfM_P_Zcu"
   },
   "outputs": [],
   "source": [
    "moscow_general = df[df['city'] == 'Moscow']\n",
    "spb_general = df[df['city'] == 'Saint-Petersburg']"
   ]
  },
  {
   "cell_type": "markdown",
   "metadata": {},
   "source": [
    "Напишем функцию, которая будет на вход принимать датафрэйм, день недели и временной промежуток, и выдавать ТОП10 жанров, которые слушают в данном городе.\n",
    "\n",
    "----\n",
    "\n",
    "Let's write a function that will take a dataframe, a day of the week and a time period as input, and give out the TOP 10 genres that are listened to in this city."
   ]
  },
  {
   "cell_type": "code",
   "execution_count": 43,
   "metadata": {
    "id": "laJT9BYl_Zcu"
   },
   "outputs": [],
   "source": [
    "def genre_weekday(table, day, time1, time2):\n",
    "    genre_df = table[table['day'] == day]\n",
    "    genre_df = genre_df[genre_df['time'] > time1 ]\n",
    "    genre_df = genre_df[genre_df['time'] < time2 ]\n",
    "    genre_df_count = genre_df.groupby('genre')['user_id'].count()\n",
    "    genre_df_sorted = genre_df_count.sort_values(ascending=False)\n",
    "    return genre_df_sorted.head(10)"
   ]
  },
  {
   "cell_type": "code",
   "execution_count": 45,
   "metadata": {
    "id": "yz7itPUQ_Zcu"
   },
   "outputs": [
    {
     "name": "stdout",
     "output_type": "stream",
     "text": [
      "Москва\n"
     ]
    },
    {
     "data": {
      "text/plain": [
       "genre\n",
       "pop            781\n",
       "dance          549\n",
       "electronic     480\n",
       "rock           474\n",
       "hiphop         286\n",
       "ruspop         186\n",
       "world          181\n",
       "rusrap         175\n",
       "alternative    164\n",
       "unknown        161\n",
       "Name: user_id, dtype: int64"
      ]
     },
     "metadata": {},
     "output_type": "display_data"
    },
    {
     "name": "stdout",
     "output_type": "stream",
     "text": [
      "Санкт-Петербург\n"
     ]
    },
    {
     "data": {
      "text/plain": [
       "genre\n",
       "pop            218\n",
       "dance          182\n",
       "rock           162\n",
       "electronic     147\n",
       "hiphop          80\n",
       "ruspop          64\n",
       "alternative     58\n",
       "rusrap          55\n",
       "jazz            44\n",
       "classical       40\n",
       "Name: user_id, dtype: int64"
      ]
     },
     "execution_count": 45,
     "metadata": {},
     "output_type": "execute_result"
    }
   ],
   "source": [
    "# что слушают в городах в понедельник с утра\n",
    "print('Москва')\n",
    "display(genre_weekday(moscow_general, 'Monday', '07:00', '11:00'))\n",
    "\n",
    "print('Санкт-Петербург')\n",
    "genre_weekday(spb_general, 'Monday', '07:00', '11:00')"
   ]
  },
  {
   "cell_type": "code",
   "execution_count": 48,
   "metadata": {
    "id": "EzXVRE1o_Zcu"
   },
   "outputs": [
    {
     "name": "stdout",
     "output_type": "stream",
     "text": [
      "Москва\n"
     ]
    },
    {
     "data": {
      "text/plain": [
       "genre\n",
       "pop            713\n",
       "rock           517\n",
       "dance          495\n",
       "electronic     482\n",
       "hiphop         273\n",
       "world          208\n",
       "ruspop         170\n",
       "alternative    163\n",
       "classical      163\n",
       "rusrap         142\n",
       "Name: user_id, dtype: int64"
      ]
     },
     "metadata": {},
     "output_type": "display_data"
    },
    {
     "name": "stdout",
     "output_type": "stream",
     "text": [
      "Санкт-Петербург\n"
     ]
    },
    {
     "data": {
      "text/plain": [
       "genre\n",
       "pop            256\n",
       "electronic     216\n",
       "rock           216\n",
       "dance          210\n",
       "hiphop          97\n",
       "alternative     63\n",
       "jazz            61\n",
       "classical       60\n",
       "rusrap          59\n",
       "world           54\n",
       "Name: user_id, dtype: int64"
      ]
     },
     "execution_count": 48,
     "metadata": {},
     "output_type": "execute_result"
    }
   ],
   "source": [
    "# что слушают в городах в пятницу вечером\n",
    "print('Москва')\n",
    "display(genre_weekday(moscow_general, 'Friday', '17:00', '23:00'))\n",
    "\n",
    "print('Санкт-Петербург')\n",
    "genre_weekday(spb_general, 'Friday', '17:00', '23:00')"
   ]
  },
  {
   "cell_type": "markdown",
   "metadata": {
    "id": "wrCe4MNX_Zcu"
   },
   "source": [
    "### Выводы / Conclusions"
   ]
  },
  {
   "cell_type": "markdown",
   "metadata": {},
   "source": [
    "В целом, можем сделать вывод, что глобальных отличий в прослушиваемых жанрах нет. Однако, можем наблюдать, что жанр `unknown` занял 10-е место в Москве с утра. Это говорит о том, что количество пропусков значительное и меняет выводы о данных.\n",
    "\n",
    "----\n",
    "\n",
    "Overall, we can conclude that there are no global differences in the genres listened to. However, we can observe that the `unknown` genre took 10th place in Moscow this morning. This suggests that the number of gaps is significant and changes the conclusions about the data."
   ]
  },
  {
   "cell_type": "markdown",
   "metadata": {
    "id": "JolODAqr_Zcu"
   },
   "source": [
    "### Жанровые предпочтения в Москве и Петербурге / Genre preferences in Moscow and St. Petersburg\n",
    "\n",
    "Гипотеза: Петербург — столица рэпа, музыку этого жанра там слушают чаще, чем в Москве.  А Москва — город контрастов, в котором, тем не менее, преобладает поп-музыка.\n",
    "\n",
    "----\n",
    "\n",
    "Hypothesis: St. Petersburg is the capital of rap, the music of this genre is listened to more often than in Moscow. And Moscow is a city of contrasts, which, nevertheless, is dominated by pop music."
   ]
  },
  {
   "cell_type": "markdown",
   "metadata": {},
   "source": [
    "Выведем ТОП10 жанров в Москве\n",
    "\n",
    "TOP10 genres in Moscow"
   ]
  },
  {
   "cell_type": "code",
   "execution_count": 51,
   "metadata": {
    "id": "r19lIPke_Zcu"
   },
   "outputs": [
    {
     "data": {
      "text/plain": [
       "genre\n",
       "pop            5892\n",
       "dance          4435\n",
       "rock           3965\n",
       "electronic     3786\n",
       "hiphop         2096\n",
       "classical      1616\n",
       "world          1432\n",
       "alternative    1379\n",
       "ruspop         1372\n",
       "rusrap         1161\n",
       "Name: genre, dtype: int64"
      ]
     },
     "execution_count": 51,
     "metadata": {},
     "output_type": "execute_result"
    }
   ],
   "source": [
    "moscow_genres = moscow_general.groupby('genre')['genre'].count().sort_values(ascending=False)\n",
    "moscow_genres.head(10)"
   ]
  },
  {
   "cell_type": "markdown",
   "metadata": {},
   "source": [
    "Выведем ТОП10 жанров в Санкт-Петербурге\n",
    "\n",
    "TOP10 genres in St. Petersburg"
   ]
  },
  {
   "cell_type": "code",
   "execution_count": 53,
   "metadata": {
    "id": "gluLIpE7_Zcv"
   },
   "outputs": [
    {
     "data": {
      "text/plain": [
       "genre\n",
       "pop            2431\n",
       "dance          1932\n",
       "rock           1879\n",
       "electronic     1736\n",
       "hiphop          960\n",
       "alternative     649\n",
       "classical       646\n",
       "rusrap          564\n",
       "ruspop          538\n",
       "world           515\n",
       "Name: genre, dtype: int64"
      ]
     },
     "execution_count": 53,
     "metadata": {},
     "output_type": "execute_result"
    }
   ],
   "source": [
    "spb_genres = spb_general.groupby('genre')['genre'].count().sort_values(ascending=False)\n",
    "spb_genres.head(10)"
   ]
  },
  {
   "cell_type": "markdown",
   "metadata": {
    "id": "RY51YJYu_Zcv"
   },
   "source": [
    "### Выводы / Conclusions"
   ]
  },
  {
   "cell_type": "markdown",
   "metadata": {
    "id": "nVhnJEm__Zcv"
   },
   "source": [
    "В Москве действительно преобладает поп-музыка, а вот рэп в обоих городах слушают с почти одинаковой частотой. Таким образом, гипотеза подтвердилась частично.\n",
    "\n",
    "----\n",
    "\n",
    "Pop music really dominates in Moscow, but rap is listened to with almost the same frequency in both cities. Thus, the hypothesis was partially confirmed."
   ]
  },
  {
   "cell_type": "markdown",
   "metadata": {
    "id": "ykKQ0N65_Zcv"
   },
   "source": [
    "## Общие выводы / Conclusions"
   ]
  },
  {
   "cell_type": "markdown",
   "metadata": {},
   "source": [
    "В этом проекте мы работали с данными об активности пользователей Яндекс.Музыки. После изучения данных были устранены такие проблемы, как нестандартные названия колонок, пропуски, и дубликаты.\n",
    "\n",
    "Далее мы проверили три гипотезы:\n",
    "\n",
    "* Пользователи из Москвы и Санкт-Петербурга имеют разную активность.\n",
    "\n",
    "**Гипотеза подтвердилась**. Москва имеет более активных пользователей.\n",
    "\n",
    "* В двух городах слушают разные жанры в понедельник утром и в пятницу вечером.\n",
    "\n",
    "**Не подтвердилась**. Жанры в это время примерно одинаковые в двух городах, однако выводы были искажены значением `unknown`, которым заменили пропуски.\n",
    "\n",
    "* В Москве преобладает поп, а в Санкт-Петербурге - рэп.\n",
    "\n",
    "**Подтвердилась частично**. Поп преобладает в обоих городах, а прослушивание рэпа имеет почти одинаковую частотность.\n",
    "\n",
    "----\n",
    "\n",
    "In this project, we worked with data on the activity of Yandex.Music users. After examining the data, problems such as non-standard column names, gaps, and duplicates were eliminated.\n",
    "\n",
    "Next, we tested three hypotheses:\n",
    "\n",
    "* Users from Moscow and St. Petersburg have different activity.\n",
    "\n",
    "**Hypothesis confirmed**. Moscow has more active users.\n",
    "\n",
    "* The two cities listen to different genres on Monday morning and Friday night.\n",
    "\n",
    "**Not confirmed**. The genres at this time are about the same in the two cities, but the conclusions were distorted by the value `unknown`, which was replaced by gaps.\n",
    "\n",
    "* In Moscow, pop dominates, and in St. Petersburg - rap.\n",
    "\n",
    "**Partially confirmed**. Pop prevails in both cities, and listening to rap has almost the same frequency."
   ]
  }
 ],
 "metadata": {
  "ExecuteTimeLog": [
   {
    "duration": 759,
    "start_time": "2021-12-13T16:31:46.189Z"
   },
   {
    "duration": 194,
    "start_time": "2021-12-13T16:31:50.968Z"
   },
   {
    "duration": 27,
    "start_time": "2021-12-13T16:32:21.821Z"
   },
   {
    "duration": 35,
    "start_time": "2021-12-13T16:32:46.293Z"
   },
   {
    "duration": 5,
    "start_time": "2021-12-13T16:37:02.725Z"
   },
   {
    "duration": 5,
    "start_time": "2021-12-13T16:37:09.747Z"
   },
   {
    "duration": 23,
    "start_time": "2021-12-13T16:39:35.952Z"
   },
   {
    "duration": 4,
    "start_time": "2021-12-13T16:39:49.394Z"
   },
   {
    "duration": 37,
    "start_time": "2021-12-13T16:40:19.321Z"
   },
   {
    "duration": 31,
    "start_time": "2021-12-13T16:40:29.673Z"
   },
   {
    "duration": 4,
    "start_time": "2021-12-13T16:42:15.882Z"
   },
   {
    "duration": 33,
    "start_time": "2021-12-13T16:43:40.149Z"
   },
   {
    "duration": 31,
    "start_time": "2021-12-13T16:43:48.964Z"
   },
   {
    "duration": 22,
    "start_time": "2021-12-13T16:44:25.230Z"
   },
   {
    "duration": 29,
    "start_time": "2021-12-13T16:44:51.813Z"
   },
   {
    "duration": 82,
    "start_time": "2021-12-13T16:45:19.029Z"
   },
   {
    "duration": 75,
    "start_time": "2021-12-13T16:45:23.542Z"
   },
   {
    "duration": 157,
    "start_time": "2021-12-13T16:46:54.674Z"
   },
   {
    "duration": 100,
    "start_time": "2021-12-13T16:47:02.599Z"
   },
   {
    "duration": 87,
    "start_time": "2021-12-13T16:47:17.594Z"
   },
   {
    "duration": 72,
    "start_time": "2021-12-13T16:47:31.556Z"
   },
   {
    "duration": 715,
    "start_time": "2021-12-13T16:49:15.632Z"
   },
   {
    "duration": 389,
    "start_time": "2021-12-13T16:49:44.872Z"
   },
   {
    "duration": 7,
    "start_time": "2021-12-13T16:50:04.617Z"
   },
   {
    "duration": 51,
    "start_time": "2021-12-13T16:50:21.257Z"
   },
   {
    "duration": 53,
    "start_time": "2021-12-13T16:50:34.109Z"
   },
   {
    "duration": 54,
    "start_time": "2021-12-13T16:50:50.427Z"
   },
   {
    "duration": 5,
    "start_time": "2021-12-13T16:58:15.216Z"
   },
   {
    "duration": 3,
    "start_time": "2021-12-13T16:59:21.516Z"
   },
   {
    "duration": 14,
    "start_time": "2021-12-13T17:00:01.750Z"
   },
   {
    "duration": 66,
    "start_time": "2021-12-13T17:00:17.337Z"
   },
   {
    "duration": 45,
    "start_time": "2021-12-13T17:03:35.202Z"
   },
   {
    "duration": 45,
    "start_time": "2021-12-13T17:04:35.926Z"
   },
   {
    "duration": 553,
    "start_time": "2021-12-13T17:06:06.072Z"
   },
   {
    "duration": 67,
    "start_time": "2021-12-13T17:06:17.721Z"
   },
   {
    "duration": 40,
    "start_time": "2021-12-13T17:06:31.644Z"
   },
   {
    "duration": 40,
    "start_time": "2021-12-13T17:07:10.081Z"
   },
   {
    "duration": 59,
    "start_time": "2021-12-13T17:07:28.041Z"
   },
   {
    "duration": 38,
    "start_time": "2021-12-13T17:08:58.229Z"
   },
   {
    "duration": 58,
    "start_time": "2021-12-13T17:09:05.173Z"
   },
   {
    "duration": 5,
    "start_time": "2021-12-13T17:13:47.518Z"
   },
   {
    "duration": 30,
    "start_time": "2021-12-13T17:14:39.715Z"
   },
   {
    "duration": 39,
    "start_time": "2021-12-13T17:15:17.783Z"
   },
   {
    "duration": 5,
    "start_time": "2021-12-13T17:16:10.686Z"
   },
   {
    "duration": 41,
    "start_time": "2021-12-13T17:16:13.183Z"
   },
   {
    "duration": 4,
    "start_time": "2021-12-13T17:16:26.877Z"
   },
   {
    "duration": 38,
    "start_time": "2021-12-13T17:16:28.545Z"
   },
   {
    "duration": 3,
    "start_time": "2021-12-13T17:16:28.634Z"
   },
   {
    "duration": 5,
    "start_time": "2021-12-13T17:16:57.471Z"
   },
   {
    "duration": 33,
    "start_time": "2021-12-13T17:16:59.139Z"
   },
   {
    "duration": 5,
    "start_time": "2021-12-13T17:17:07.258Z"
   },
   {
    "duration": 23,
    "start_time": "2021-12-13T17:17:08.075Z"
   },
   {
    "duration": 40,
    "start_time": "2021-12-13T17:17:14.210Z"
   },
   {
    "duration": 22,
    "start_time": "2021-12-13T17:17:40.031Z"
   },
   {
    "duration": 21,
    "start_time": "2021-12-13T17:18:02.465Z"
   },
   {
    "duration": 26,
    "start_time": "2021-12-13T17:18:11.315Z"
   },
   {
    "duration": 23,
    "start_time": "2021-12-13T17:18:30.263Z"
   },
   {
    "duration": 22,
    "start_time": "2021-12-13T17:18:45.114Z"
   },
   {
    "duration": 4,
    "start_time": "2021-12-13T17:20:00.547Z"
   },
   {
    "duration": 11,
    "start_time": "2021-12-13T17:21:35.198Z"
   },
   {
    "duration": 2165,
    "start_time": "2021-12-13T17:21:46.673Z"
   },
   {
    "duration": 1688,
    "start_time": "2021-12-13T17:22:03.166Z"
   },
   {
    "duration": 12,
    "start_time": "2021-12-13T17:22:23.310Z"
   },
   {
    "duration": 15,
    "start_time": "2021-12-13T17:24:02.251Z"
   },
   {
    "duration": 13,
    "start_time": "2021-12-13T17:24:21.497Z"
   },
   {
    "duration": 5,
    "start_time": "2021-12-13T17:30:25.441Z"
   },
   {
    "duration": 25,
    "start_time": "2021-12-13T17:31:26.049Z"
   },
   {
    "duration": 30,
    "start_time": "2021-12-13T17:32:06.290Z"
   },
   {
    "duration": 23,
    "start_time": "2021-12-13T17:32:32.595Z"
   },
   {
    "duration": 16,
    "start_time": "2021-12-13T17:32:51.483Z"
   },
   {
    "duration": 11,
    "start_time": "2021-12-13T17:35:46.423Z"
   },
   {
    "duration": 18,
    "start_time": "2021-12-13T17:36:16.306Z"
   },
   {
    "duration": 13,
    "start_time": "2021-12-13T17:36:28.110Z"
   },
   {
    "duration": 13,
    "start_time": "2021-12-13T17:36:31.867Z"
   },
   {
    "duration": 5,
    "start_time": "2021-12-13T17:37:06.929Z"
   },
   {
    "duration": 8,
    "start_time": "2021-12-13T17:37:32.323Z"
   },
   {
    "duration": 5,
    "start_time": "2021-12-13T17:37:43.532Z"
   }
  ],
  "colab": {
   "collapsed_sections": [
    "E0vqbgi9ay0H",
    "VUC88oWjTJw2"
   ],
   "name": "yandex_music_project_2021.2.ipynb",
   "provenance": []
  },
  "kernelspec": {
   "display_name": "Python 3 (ipykernel)",
   "language": "python",
   "name": "python3"
  },
  "language_info": {
   "codemirror_mode": {
    "name": "ipython",
    "version": 3
   },
   "file_extension": ".py",
   "mimetype": "text/x-python",
   "name": "python",
   "nbconvert_exporter": "python",
   "pygments_lexer": "ipython3",
   "version": "3.9.13"
  },
  "toc": {
   "base_numbering": 1,
   "nav_menu": {},
   "number_sections": true,
   "sideBar": true,
   "skip_h1_title": true,
   "title_cell": "Table of Contents",
   "title_sidebar": "Contents",
   "toc_cell": false,
   "toc_position": {
    "height": "calc(100% - 180px)",
    "left": "10px",
    "top": "150px",
    "width": "288px"
   },
   "toc_section_display": true,
   "toc_window_display": true
  }
 },
 "nbformat": 4,
 "nbformat_minor": 1
}
