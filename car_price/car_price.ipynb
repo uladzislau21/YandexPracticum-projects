{
 "cells": [
  {
   "cell_type": "markdown",
   "metadata": {},
   "source": [
    "# Определение стоимости автомобилей / Car price prediction"
   ]
  },
  {
   "cell_type": "markdown",
   "metadata": {},
   "source": [
    "По историческим данным автомобилей (технические характеристики, комплектации и цены) обучить модель машинного обучения для предсказания рыночной стоимости автомобиля. Данная модель будет использоваться заказчиком в разрабатываемом приложении для привлечения клиентов.\n",
    "\n",
    "Заказчику важны:\n",
    "\n",
    "- качество предсказания,\n",
    "- скорость предсказания,\n",
    "- время обучения.\n",
    "\n",
    "\n",
    "Based on the historical data of cars (technical specifications, equipment and prices), train a machine learning model to predict the market value of a car. This model will be used by the customer in the application being developed to attract customers.\n",
    "\n",
    "Important for client:\n",
    "\n",
    "- the quality of the prediction,\n",
    "- prediction speed,\n",
    "- training time."
   ]
  },
  {
   "cell_type": "markdown",
   "metadata": {},
   "source": [
    "## Подготовка данных / Data preparation"
   ]
  },
  {
   "cell_type": "code",
   "execution_count": null,
   "metadata": {},
   "outputs": [],
   "source": [
    "# загрузим необходимые библиотеки и/или их элементы\n",
    "\n",
    "import warnings\n",
    "warnings.filterwarnings('once')\n",
    "import pandas as pd\n",
    "import numpy as np\n",
    "#import dtale as dt\n",
    "import seaborn as sb\n",
    "import matplotlib.pyplot as plt\n",
    "from sklearn.preprocessing import StandardScaler\n",
    "from sklearn.model_selection import train_test_split\n",
    "from sklearn.linear_model import LinearRegression\n",
    "from sklearn.metrics import mean_squared_error\n",
    "from sklearn.tree import DecisionTreeRegressor\n",
    "from sklearn.ensemble import RandomForestRegressor\n",
    "from sklearn.model_selection import StratifiedKFold, cross_val_score\n",
    "#from hyperopt import hp, fmin, tpe, Trials, STATUS_OK\n",
    "from functools import partial\n",
    "from lightgbm import LGBMRegressor\n",
    "pd.options.display.float_format = '{:,.2f}'.format\n",
    "import time\n",
    "#from hpsklearn import HyperoptEstimator, random_forest_regressor\n",
    "\n",
    "%matplotlib inline"
   ]
  },
  {
   "cell_type": "code",
   "execution_count": 5,
   "metadata": {},
   "outputs": [],
   "source": [
    "# считаем данные / read the data\n",
    "try:\n",
    "    cars = pd.read_csv('/home/uladzislau/Documents/Yandex DS/Projects/Numerical Analysis/autos.csv')\n",
    "except:\n",
    "    cars = pd.read_csv('/datasets/autos.csv')"
   ]
  },
  {
   "cell_type": "code",
   "execution_count": null,
   "metadata": {
    "scrolled": false
   },
   "outputs": [],
   "source": [
    "dt.show(cars)"
   ]
  },
  {
   "cell_type": "markdown",
   "metadata": {},
   "source": [
    "В данных 354369 наблюдений и 16 признаков.\n",
    "\n",
    "- Колонка **Price** - целевой признак, пропусков нет. Есть аномальные значения цены (0, 1, 2, .....).\n",
    "\n",
    "\n",
    "- Колонка **VehicleType** - обозначает тип кузова машины. Распределение переменной следующее: sedan (91457), small (79831), wagon (65166), bus (28775), convertible (20203), coupe (16163), suv (11996), other (3288). Колонка имеет 10.6% пропусков.\n",
    "\n",
    "\n",
    "- Колонка **RegistrationYear** - год регистрации автомобиля. Пропусков нет. Есть аномальные значения (1111, 3000, 5000, 6000, 9000, все значения больше 2016). Может косвенно сказать о возрасте автомобиля.\n",
    "\n",
    "\n",
    "- Колонка **Gearbox** - тип коробки передач. Содержит 5.6% пропусков. Распределение типов коробок такое: manual (268251), auto (66285).\n",
    "\n",
    "\n",
    "- Колонка **Power** - отражает лошадиные силы автомобиля. Пропусков нет. Есть аномальные значения (0, 20000). Самое распространенное значение - 0 (40225 наблюдений).\n",
    "\n",
    "\n",
    "- Колонка **Model** - модель автомобиля. 5.6% пропусков, 250 уникальных значений. Самой распространенной моделью является Golf (Volkswagen) - 29232 наблюдения. Топ-10 выглядт следующим образом: golf (29232), other (24421), 3er (19761), polo (13066), corsa (12570), astra (10809), passat (10146), a4 (9900), c_klasse (8312), 5er (7868).\n",
    "\n",
    "\n",
    "- Колонка **Kilometer** - пробег автомобиля в км. Пропусков нет. В колонке 13 уникальных значений (скорее всего, люди округляют пробег до целого числа). Распределение пробега выглядит следующим образом: 150000 (238209), 125000 (36454), 100000 (14882), 90000 (11567), 80000 (10047), 70000 (8593), 60000 (7444), 5000 (6397), 50000 (6232), 40000 (4911), 30000 (4436), 20000 (3975), 10000 (1222). Большинство автомобилей имеют пробег 150000 км. Только 25% машин имеют пробег менее 125000 км.\n",
    "\n",
    "\n",
    "- Колонка **RegistrationMonth** - месяц регистрации автомобиля. Пропусков нет. Есть аномальное значение 0, которое имеют большинство наблюдений (37352). В отличии от года регистрации не выглядит значимым для модели.\n",
    "\n",
    "\n",
    "- Колонка **FuelType** - тип топлива. 9.3% пропусков. Распределение признака такое - petrol (216352), gasoline (98720), lpg (5310), cng (565), hybrid (233), other (204), electric (90). LPG - сжиженный углеводородный газ, CNG - компримированный (сжатый) природный газ.\n",
    "\n",
    "\n",
    "- Колонка **Brand** - бренд автомобиля. В таблице присутствуют 40 брендов. Пропусков нет. Топ-10 брендов: volkswagen (77013), opel (39931), bmw (36914), mercedes_benz (32046), audi (29456), ford (25179), renault (17927), peugeot (10998), fiat (9643), seat (6907).\n",
    "\n",
    "\n",
    "- Колонка **NotRepaired** - была ли машина в ремонте. Колонка имеет 20.1% пропусков. Большинство машин не были в ремонте (247161).\n",
    "\n",
    "\n",
    "- Колонка **NumberOfPictures** - количество фотографий автомобиля в объявлении. Все машины имеют 0 фотографий.\n",
    "\n",
    "\n",
    "- Колонка **PostalCode** - почтовый код владельца объявления. Пропусков нет. Как таковая не имеет ценности для обучения моделей, но может быть использована для определения страны продажи автомобиля. Такой признак может быть информативен для модели.\n",
    "\n",
    "Колонки **DateCrawled**, **DateCreated**, и **LastSeen** не имеют ценности для построения моделей, но помогут очистить данные от аномалий.\n",
    "\n",
    "\n",
    "\n",
    "_____\n",
    "\n",
    "\n",
    "\n",
    "There are 354369 observations and 16 features in the data.\n",
    "\n",
    "- Column **Price** - target feature, no gaps. There are abnormal price values (0, 1, 2, .....).\n",
    "\n",
    "\n",
    "- Column **VehicleType** - indicates the type of car body. The distribution of the variable is as follows: sedan (91457), small (79831), wagon (65166), bus (28775), convertible (20203), coupe (16163), suv (11996), other (3288). The column has 10.6% gaps.\n",
    "\n",
    "\n",
    "- Column **RegistrationYear** - year of vehicle registration. There are no passes. There are anomalous values (1111, 3000, 5000, 6000, 9000, all values are greater than 2016). Can indirectly say about the age of the car.\n",
    "\n",
    "\n",
    "- Column **Gearbox** - type of gearbox. Contains 5.6% gaps. The distribution of box types is: manual (268251), auto (66285).\n",
    "\n",
    "\n",
    "- Column **Power** - reflects the horsepower of the car. There are no passes. There are anomalous values (0, 20000). The most common value is 0 (40225 observations).\n",
    "\n",
    "\n",
    "- Column **Model** - car model. 5.6% missing, 250 unique values. The most common model is Golf (Volkswagen) - 29232 observations. The top 10 looks like this: golf (29232), other (24421), 3er (19761), polo (13066), corsa (12570), astra (10809), passat (10146), a4 (9900), c_klasse (8312) ), 5er (7868).\n",
    "\n",
    "\n",
    "- Column **Kilometer** - vehicle mileage in km. There are no passes. There are 13 unique values in the column (most likely, people round the mileage to the nearest whole number). The mileage distribution is as follows: 150000 (238209), 125000 (36454), 100000 (14882), 90000 (11567), 80000 (10047), 70000 (8593), 60000 (7444), 5000 (6397), 50000 (6232) , 40000 (4911), 30000 (4436), 20000 (3975), 10000 (1222). Most cars have a mileage of 150,000 km. Only 25% of cars have mileage less than 125,000 km.\n",
    "\n",
    "\n",
    "- Column **RegistrationMonth** - month of vehicle registration. There are no passes. There is an anomalous value of 0, which most of the observations have (37352). Unlike the year of registration, it does not look significant for the model.\n",
    "\n",
    "\n",
    "- Column **FuelType** - type of fuel. 9.3% misses. The feature distribution is as follows: petrol (216352), gasoline (98720), lpg (5310), cng (565), hybrid (233), other (204), electric (90). LPG - liquefied hydrocarbon gas, CNG - compressed (compressed) natural gas.\n",
    "\n",
    "\n",
    "- Column **Brand** - car brand. There are 40 brands in the table. There are no passes. Top 10 brands: volkswagen (77013), opel (39931), bmw (36914), mercedes_benz (32046), audi (29456), ford (25179), renault (17927), peugeot (10998), fiat (9643), seat (6907).\n",
    "\n",
    "\n",
    "- Column **NotRepaired** - whether the car was under repair. The column has 20.1% gaps. Most of the cars were not under repair (247161).\n",
    "\n",
    "\n",
    "- Column **NumberOfPictures** - the number of photos of the car in the ad. All cars have 0 photos.\n",
    "\n",
    "\n",
    "- Column **PostalCode** - postal code of the ad owner. There are no passes. As such it has no value for model training, but can be used to determine the country of sale of a car. Such a feature can be informative for the model.\n",
    "\n",
    "The **DateCrawled**, **DateCreated**, and **LastSeen** columns are of no value for building models, but will help clean up anomalies from the data."
   ]
  },
  {
   "cell_type": "markdown",
   "metadata": {},
   "source": [
    "Подготовка данных будет включать:\n",
    "- изменение названия колонок,\n",
    "- изменение типов переменных,\n",
    "- заполнение пропусков, либо удаление наблюдений с пропусками,\n",
    "- работа с аномальными значениями,\n",
    "- кодирование категориальных переменных,\n",
    "- стандартизация численных переменных.\n",
    "\n",
    "____\n",
    "\n",
    "Data preparation will include:\n",
    "- change the name of the columns,\n",
    "- changing the types of variables,\n",
    "- filling gaps or deleting observations with gaps,\n",
    "- work with anomalous values,\n",
    "- coding of categorical variables,\n",
    "- standardization of numerical variables."
   ]
  },
  {
   "cell_type": "markdown",
   "metadata": {},
   "source": [
    "### Изменение названия колонок / Column names change"
   ]
  },
  {
   "cell_type": "code",
   "execution_count": 7,
   "metadata": {},
   "outputs": [],
   "source": [
    "cars.columns = ['date_crawled', 'price', 'vehicle_type', 'registration_year', 'gear_box',\n",
    "               'power', 'model', 'kilometer', 'registration_month', 'fuel_type', 'brand',\n",
    "               'not_repaired', 'date_created', 'number_of_pictures', 'postal_code', 'last_seen']"
   ]
  },
  {
   "cell_type": "code",
   "execution_count": 8,
   "metadata": {},
   "outputs": [
    {
     "data": {
      "text/plain": [
       "Index(['date_crawled', 'price', 'vehicle_type', 'registration_year',\n",
       "       'gear_box', 'power', 'model', 'kilometer', 'registration_month',\n",
       "       'fuel_type', 'brand', 'not_repaired', 'date_created',\n",
       "       'number_of_pictures', 'postal_code', 'last_seen'],\n",
       "      dtype='object')"
      ]
     },
     "execution_count": 8,
     "metadata": {},
     "output_type": "execute_result"
    }
   ],
   "source": [
    "cars.columns"
   ]
  },
  {
   "cell_type": "markdown",
   "metadata": {},
   "source": [
    "### Изменение типов переменных / Data type change"
   ]
  },
  {
   "cell_type": "markdown",
   "metadata": {},
   "source": [
    "#### Поменяем формат колонок с датами на datetime / Change data type of dates to datetime type"
   ]
  },
  {
   "cell_type": "code",
   "execution_count": 10,
   "metadata": {
    "scrolled": false
   },
   "outputs": [
    {
     "name": "stdout",
     "output_type": "stream",
     "text": [
      "<class 'pandas.core.frame.DataFrame'>\n",
      "RangeIndex: 354369 entries, 0 to 354368\n",
      "Data columns (total 16 columns):\n",
      " #   Column              Non-Null Count   Dtype         \n",
      "---  ------              --------------   -----         \n",
      " 0   date_crawled        354369 non-null  datetime64[ns]\n",
      " 1   price               354369 non-null  int64         \n",
      " 2   vehicle_type        316879 non-null  object        \n",
      " 3   registration_year   354369 non-null  int64         \n",
      " 4   gear_box            334536 non-null  object        \n",
      " 5   power               354369 non-null  int64         \n",
      " 6   model               334664 non-null  object        \n",
      " 7   kilometer           354369 non-null  int64         \n",
      " 8   registration_month  354369 non-null  int64         \n",
      " 9   fuel_type           321474 non-null  object        \n",
      " 10  brand               354369 non-null  object        \n",
      " 11  not_repaired        283215 non-null  object        \n",
      " 12  date_created        354369 non-null  datetime64[ns]\n",
      " 13  number_of_pictures  354369 non-null  int64         \n",
      " 14  postal_code         354369 non-null  int64         \n",
      " 15  last_seen           354369 non-null  datetime64[ns]\n",
      "dtypes: datetime64[ns](3), int64(7), object(6)\n",
      "memory usage: 43.3+ MB\n"
     ]
    }
   ],
   "source": [
    "dt_columns = ['date_crawled', 'date_created', 'last_seen']\n",
    "\n",
    "for col in dt_columns:\n",
    "    cars[col] = pd.to_datetime(cars[col], format='%Y-%m-%d %H:%M:%S')\n",
    "    cars[col] = cars[col]\n",
    "\n",
    "#cars['registration_year'] = pd.to_datetime(cars['registration_year'], format='%Y', errors='coerce')\n",
    "# некторые значения заменились на NaT, так как они не в диапазоне лет, которые воспринимает функция (1111, 5000,\n",
    "# 7000, и т.д.)\n",
    "\n",
    "cars.info()"
   ]
  },
  {
   "cell_type": "markdown",
   "metadata": {},
   "source": [
    "### Работа с пропусками / Missing values tratment"
   ]
  },
  {
   "cell_type": "markdown",
   "metadata": {},
   "source": [
    "Мы имеем пропуски (их процентное количество) в следующих колонках:\n",
    "\n",
    "Missing values and their percentage are in the following columns:"
   ]
  },
  {
   "cell_type": "code",
   "execution_count": 11,
   "metadata": {},
   "outputs": [
    {
     "data": {
      "text/html": [
       "<div>\n",
       "<style scoped>\n",
       "    .dataframe tbody tr th:only-of-type {\n",
       "        vertical-align: middle;\n",
       "    }\n",
       "\n",
       "    .dataframe tbody tr th {\n",
       "        vertical-align: top;\n",
       "    }\n",
       "\n",
       "    .dataframe thead th {\n",
       "        text-align: right;\n",
       "    }\n",
       "</style>\n",
       "<table border=\"1\" class=\"dataframe\">\n",
       "  <thead>\n",
       "    <tr style=\"text-align: right;\">\n",
       "      <th></th>\n",
       "      <th>Number of NAs</th>\n",
       "      <th>In %</th>\n",
       "    </tr>\n",
       "  </thead>\n",
       "  <tbody>\n",
       "    <tr>\n",
       "      <th>not_repaired</th>\n",
       "      <td>71154</td>\n",
       "      <td>20.08</td>\n",
       "    </tr>\n",
       "    <tr>\n",
       "      <th>vehicle_type</th>\n",
       "      <td>37490</td>\n",
       "      <td>10.58</td>\n",
       "    </tr>\n",
       "    <tr>\n",
       "      <th>fuel_type</th>\n",
       "      <td>32895</td>\n",
       "      <td>9.28</td>\n",
       "    </tr>\n",
       "    <tr>\n",
       "      <th>gear_box</th>\n",
       "      <td>19833</td>\n",
       "      <td>5.60</td>\n",
       "    </tr>\n",
       "    <tr>\n",
       "      <th>model</th>\n",
       "      <td>19705</td>\n",
       "      <td>5.56</td>\n",
       "    </tr>\n",
       "    <tr>\n",
       "      <th>date_crawled</th>\n",
       "      <td>0</td>\n",
       "      <td>0.00</td>\n",
       "    </tr>\n",
       "    <tr>\n",
       "      <th>price</th>\n",
       "      <td>0</td>\n",
       "      <td>0.00</td>\n",
       "    </tr>\n",
       "    <tr>\n",
       "      <th>registration_year</th>\n",
       "      <td>0</td>\n",
       "      <td>0.00</td>\n",
       "    </tr>\n",
       "    <tr>\n",
       "      <th>power</th>\n",
       "      <td>0</td>\n",
       "      <td>0.00</td>\n",
       "    </tr>\n",
       "    <tr>\n",
       "      <th>kilometer</th>\n",
       "      <td>0</td>\n",
       "      <td>0.00</td>\n",
       "    </tr>\n",
       "    <tr>\n",
       "      <th>registration_month</th>\n",
       "      <td>0</td>\n",
       "      <td>0.00</td>\n",
       "    </tr>\n",
       "    <tr>\n",
       "      <th>brand</th>\n",
       "      <td>0</td>\n",
       "      <td>0.00</td>\n",
       "    </tr>\n",
       "    <tr>\n",
       "      <th>date_created</th>\n",
       "      <td>0</td>\n",
       "      <td>0.00</td>\n",
       "    </tr>\n",
       "    <tr>\n",
       "      <th>number_of_pictures</th>\n",
       "      <td>0</td>\n",
       "      <td>0.00</td>\n",
       "    </tr>\n",
       "    <tr>\n",
       "      <th>postal_code</th>\n",
       "      <td>0</td>\n",
       "      <td>0.00</td>\n",
       "    </tr>\n",
       "    <tr>\n",
       "      <th>last_seen</th>\n",
       "      <td>0</td>\n",
       "      <td>0.00</td>\n",
       "    </tr>\n",
       "  </tbody>\n",
       "</table>\n",
       "</div>"
      ],
      "text/plain": [
       "                    Number of NAs  In %\n",
       "not_repaired                71154 20.08\n",
       "vehicle_type                37490 10.58\n",
       "fuel_type                   32895  9.28\n",
       "gear_box                    19833  5.60\n",
       "model                       19705  5.56\n",
       "date_crawled                    0  0.00\n",
       "price                           0  0.00\n",
       "registration_year               0  0.00\n",
       "power                           0  0.00\n",
       "kilometer                       0  0.00\n",
       "registration_month              0  0.00\n",
       "brand                           0  0.00\n",
       "date_created                    0  0.00\n",
       "number_of_pictures              0  0.00\n",
       "postal_code                     0  0.00\n",
       "last_seen                       0  0.00"
      ]
     },
     "execution_count": 11,
     "metadata": {},
     "output_type": "execute_result"
    }
   ],
   "source": [
    "pd.DataFrame(data={\n",
    "    'Number of NAs': cars.isna().sum(),\n",
    "    'In %': round(cars.isna().sum() / len(cars) * 100,2)\n",
    "}).sort_values('Number of NAs', ascending=False)"
   ]
  },
  {
   "cell_type": "markdown",
   "metadata": {},
   "source": [
    "Можем применить вероятности для заполнения пропусков. Т.е заполнять пропуск наиболее вероятным значением. Будем считать вероятности в разбивке.\n",
    "\n",
    "We can use probabilities to fill in the missing values. That is, fill in the missing value with the most probable value. We will consider the probabilities in a grouping."
   ]
  },
  {
   "cell_type": "markdown",
   "metadata": {},
   "source": [
    "#### model"
   ]
  },
  {
   "cell_type": "markdown",
   "metadata": {},
   "source": [
    "Сделаем разбивку по брендам и посмотрим какая модель вероятнее всего.\n",
    "\n",
    "Grouping by brands and check which brand is most probable."
   ]
  },
  {
   "cell_type": "code",
   "execution_count": 13,
   "metadata": {},
   "outputs": [],
   "source": [
    "### Тяжелая функция, НЕ ИСПОЛЬЗОВАТЬ!!!! / Don't use this fucntion, not optimized\n",
    "\n",
    "# создадим функцию, которая будет проходить по брендам,\n",
    "# и призначать им ту модель, которая более всего вероятнее\n",
    "all_brands = cars['brand'].unique()\n",
    "#def model_imputer(row):\n",
    "    #for brand in all_brands:\n",
    "        #if row['brand'] == brand:\n",
    "            #return (model_proba[brand].idxmax())"
   ]
  },
  {
   "cell_type": "code",
   "execution_count": 14,
   "metadata": {},
   "outputs": [],
   "source": [
    "#создаю разметку в формате pd.Series . В индексах брэнды , в значениях самые частые модели\n",
    "model_most_often = cars.groupby('brand')['model'].agg(lambda x: x.value_counts(dropna=False).index[0])\n",
    "\n",
    "# заполняю колонку model на основе колонки brand , используя разметку    \n",
    "cars.loc[cars['model'].isna(), 'model'] = cars.loc[cars['model'].isna(), 'brand'].map(model_most_often) "
   ]
  },
  {
   "cell_type": "markdown",
   "metadata": {},
   "source": [
    "Проверим как заполнились пропуски в колонке **model**.\n",
    "\n",
    "Check for missing values imputing in **model** column."
   ]
  },
  {
   "cell_type": "code",
   "execution_count": 16,
   "metadata": {
    "scrolled": true
   },
   "outputs": [
    {
     "data": {
      "text/plain": [
       "date_crawled              0\n",
       "price                     0\n",
       "vehicle_type          37490\n",
       "registration_year         0\n",
       "gear_box              19833\n",
       "power                     0\n",
       "model                  3374\n",
       "kilometer                 0\n",
       "registration_month        0\n",
       "fuel_type             32895\n",
       "brand                     0\n",
       "not_repaired          71154\n",
       "date_created              0\n",
       "number_of_pictures        0\n",
       "postal_code               0\n",
       "last_seen                 0\n",
       "dtype: int64"
      ]
     },
     "execution_count": 16,
     "metadata": {},
     "output_type": "execute_result"
    }
   ],
   "source": [
    "cars.isna().sum()"
   ]
  },
  {
   "cell_type": "markdown",
   "metadata": {},
   "source": [
    "Количество пропусков в колонке **model** снизилось с 19705 до 3374 (с 5.6% до 0.9%). Странно, что пропуски остались. В колонке **brand** их нет. Проверим каким брендам соответствуют наблюдения с пропускми в колонке **model**.\n",
    "\n",
    "____\n",
    "\n",
    "The number of missing values in the **model** column decreased from 19705 to 3374 (from 5.6% to 0.9%). It's strange that still there are missing values. There are none in the **brand** column. Let's check which brands correspond to observations with missing values in the **model** column."
   ]
  },
  {
   "cell_type": "code",
   "execution_count": 17,
   "metadata": {},
   "outputs": [
    {
     "data": {
      "text/plain": [
       "array(['sonstige_autos'], dtype=object)"
      ]
     },
     "execution_count": 17,
     "metadata": {},
     "output_type": "execute_result"
    }
   ],
   "source": [
    "cars.query('model.isna()')['brand'].unique()"
   ]
  },
  {
   "cell_type": "markdown",
   "metadata": {},
   "source": [
    "Это sonstige_autos (с нем. *sonstige* - другой). Просто другие автомобили. Без бренда, наверно. Странно оставлять такие наблюдения в данных, так как когда человек будет использовать наше приложение, он явно будет знать марку своего авто. 0.9% наблюдений мы можем пожертвовать.\n",
    "\n",
    "___\n",
    "\n",
    "This is sonstige_autos (from German *sonstige* - different). Just different cars. Probably no brand. It is strange to leave such observations in the data, since when a person uses our application, he will obviously know the brand of his car. We can sacrifice 0.9% of observations."
   ]
  },
  {
   "cell_type": "code",
   "execution_count": 18,
   "metadata": {
    "scrolled": true
   },
   "outputs": [],
   "source": [
    "# удалим наблюдения с пропусками в колонке model\n",
    "cars = cars.dropna(subset=['model'])"
   ]
  },
  {
   "cell_type": "code",
   "execution_count": 19,
   "metadata": {
    "scrolled": false
   },
   "outputs": [
    {
     "data": {
      "text/plain": [
       "date_crawled              0\n",
       "price                     0\n",
       "vehicle_type          36449\n",
       "registration_year         0\n",
       "gear_box              18730\n",
       "power                     0\n",
       "model                     0\n",
       "kilometer                 0\n",
       "registration_month        0\n",
       "fuel_type             31791\n",
       "brand                     0\n",
       "not_repaired          69831\n",
       "date_created              0\n",
       "number_of_pictures        0\n",
       "postal_code               0\n",
       "last_seen                 0\n",
       "dtype: int64"
      ]
     },
     "execution_count": 19,
     "metadata": {},
     "output_type": "execute_result"
    }
   ],
   "source": [
    "cars.isna().sum()"
   ]
  },
  {
   "cell_type": "markdown",
   "metadata": {},
   "source": [
    "#### vehicle_type"
   ]
  },
  {
   "cell_type": "markdown",
   "metadata": {},
   "source": [
    "Сделаем разбивку по моделям. Эта переменная с большей точностью отражает тип кузова. Затем посчитаем вероятность встретить ту или иную модель (количество машин определенного кузова в определенной модели делим на общее количество машин это модели).\n",
    "\n",
    "___\n",
    "\n",
    "Let's group by models. This variable more accurately reflects vehicle type. Then we calculate the probability of meeting one or another model (the number of cars of a certain vehicle type in a certain model is divided by the total number of cars of this model)."
   ]
  },
  {
   "cell_type": "code",
   "execution_count": 23,
   "metadata": {},
   "outputs": [],
   "source": [
    "#создаю разметку в формате pd.Series . В индексах модель, в значениях самые частые типы кузовов\n",
    "veh_type_most_often = cars.groupby('model')['vehicle_type'].agg(lambda x: x.value_counts(dropna=False).index[0])\n",
    "\n",
    "# заполняю колонку vehicle_type на основе колонки model , используя разметку    \n",
    "cars.loc[cars['vehicle_type'].isna(), 'vehicle_type'] = cars.loc[cars['vehicle_type'].isna(), 'model'].map(veh_type_most_often) "
   ]
  },
  {
   "cell_type": "markdown",
   "metadata": {},
   "source": [
    "Теперь мы можем обращаться к Series через название модели, а спомощью idxmax() можем узнать какой тип кузва имеет наибольшую вероятность.\n",
    "\n",
    "____\n",
    "\n",
    "Now we can refer to the Series through the name of the model, and with the help of idxmax() we can find out which body type has the highest probability."
   ]
  },
  {
   "cell_type": "markdown",
   "metadata": {},
   "source": [
    "Проверим как заполнились пропуски в колонке **vehicle_type**.\n",
    "\n",
    "___\n",
    "\n",
    "Let's check how the missing values in the **vehicle_type** column are filled."
   ]
  },
  {
   "cell_type": "code",
   "execution_count": 24,
   "metadata": {
    "scrolled": true
   },
   "outputs": [
    {
     "data": {
      "text/plain": [
       "date_crawled              0\n",
       "price                     0\n",
       "vehicle_type             10\n",
       "registration_year         0\n",
       "gear_box              18730\n",
       "power                     0\n",
       "model                     0\n",
       "kilometer                 0\n",
       "registration_month        0\n",
       "fuel_type             31791\n",
       "brand                     0\n",
       "not_repaired          69831\n",
       "date_created              0\n",
       "number_of_pictures        0\n",
       "postal_code               0\n",
       "last_seen                 0\n",
       "dtype: int64"
      ]
     },
     "execution_count": 24,
     "metadata": {},
     "output_type": "execute_result"
    }
   ],
   "source": [
    "cars.isna().sum()"
   ]
  },
  {
   "cell_type": "markdown",
   "metadata": {},
   "source": [
    "Мы снизили количество пропущенных значений в колонке с 37490 до 10 (с 10.6% до 0.003%). Неплохо. Но пропущенные значения всё-таки остались. Предполагаю, что это из-за того, что значения NaN  у типа кузова некоторых моделей больше (отсюда и большая вероятность).\n",
    "\n",
    "____\n",
    "\n",
    "We reduced the number of missing values in the column from 37490 to 10 (from 10.6% to 0.003%). Not bad. But missing values still remain. I assume that this is due to the fact that the NaN values of the vehicle type of some models are larger (hence the high probability)."
   ]
  },
  {
   "cell_type": "code",
   "execution_count": 25,
   "metadata": {
    "scrolled": false
   },
   "outputs": [
    {
     "data": {
      "text/html": [
       "<div>\n",
       "<style scoped>\n",
       "    .dataframe tbody tr th:only-of-type {\n",
       "        vertical-align: middle;\n",
       "    }\n",
       "\n",
       "    .dataframe tbody tr th {\n",
       "        vertical-align: top;\n",
       "    }\n",
       "\n",
       "    .dataframe thead th {\n",
       "        text-align: right;\n",
       "    }\n",
       "</style>\n",
       "<table border=\"1\" class=\"dataframe\">\n",
       "  <thead>\n",
       "    <tr style=\"text-align: right;\">\n",
       "      <th></th>\n",
       "      <th>date_crawled</th>\n",
       "      <th>price</th>\n",
       "      <th>vehicle_type</th>\n",
       "      <th>registration_year</th>\n",
       "      <th>gear_box</th>\n",
       "      <th>power</th>\n",
       "      <th>model</th>\n",
       "      <th>kilometer</th>\n",
       "      <th>registration_month</th>\n",
       "      <th>fuel_type</th>\n",
       "      <th>brand</th>\n",
       "      <th>not_repaired</th>\n",
       "      <th>date_created</th>\n",
       "      <th>number_of_pictures</th>\n",
       "      <th>postal_code</th>\n",
       "      <th>last_seen</th>\n",
       "    </tr>\n",
       "  </thead>\n",
       "  <tbody>\n",
       "    <tr>\n",
       "      <th>3338</th>\n",
       "      <td>2016-04-05 11:50:50</td>\n",
       "      <td>199</td>\n",
       "      <td>NaN</td>\n",
       "      <td>1995</td>\n",
       "      <td>manual</td>\n",
       "      <td>0</td>\n",
       "      <td>samara</td>\n",
       "      <td>100000</td>\n",
       "      <td>0</td>\n",
       "      <td>petrol</td>\n",
       "      <td>lada</td>\n",
       "      <td>NaN</td>\n",
       "      <td>2016-04-05</td>\n",
       "      <td>0</td>\n",
       "      <td>14774</td>\n",
       "      <td>2016-04-05 11:50:50</td>\n",
       "    </tr>\n",
       "    <tr>\n",
       "      <th>26625</th>\n",
       "      <td>2016-04-04 17:54:20</td>\n",
       "      <td>200</td>\n",
       "      <td>NaN</td>\n",
       "      <td>2016</td>\n",
       "      <td>manual</td>\n",
       "      <td>0</td>\n",
       "      <td>samara</td>\n",
       "      <td>150000</td>\n",
       "      <td>0</td>\n",
       "      <td>petrol</td>\n",
       "      <td>lada</td>\n",
       "      <td>NaN</td>\n",
       "      <td>2016-04-04</td>\n",
       "      <td>0</td>\n",
       "      <td>52134</td>\n",
       "      <td>2016-04-04 17:54:20</td>\n",
       "    </tr>\n",
       "    <tr>\n",
       "      <th>69358</th>\n",
       "      <td>2016-03-18 10:38:01</td>\n",
       "      <td>99</td>\n",
       "      <td>NaN</td>\n",
       "      <td>1995</td>\n",
       "      <td>manual</td>\n",
       "      <td>0</td>\n",
       "      <td>samara</td>\n",
       "      <td>125000</td>\n",
       "      <td>0</td>\n",
       "      <td>petrol</td>\n",
       "      <td>lada</td>\n",
       "      <td>NaN</td>\n",
       "      <td>2016-03-18</td>\n",
       "      <td>0</td>\n",
       "      <td>14774</td>\n",
       "      <td>2016-03-18 10:38:01</td>\n",
       "    </tr>\n",
       "    <tr>\n",
       "      <th>75177</th>\n",
       "      <td>2016-03-18 10:46:23</td>\n",
       "      <td>249</td>\n",
       "      <td>NaN</td>\n",
       "      <td>1985</td>\n",
       "      <td>manual</td>\n",
       "      <td>0</td>\n",
       "      <td>samara</td>\n",
       "      <td>125000</td>\n",
       "      <td>0</td>\n",
       "      <td>petrol</td>\n",
       "      <td>lada</td>\n",
       "      <td>NaN</td>\n",
       "      <td>2016-03-18</td>\n",
       "      <td>0</td>\n",
       "      <td>14774</td>\n",
       "      <td>2016-03-21 07:15:19</td>\n",
       "    </tr>\n",
       "    <tr>\n",
       "      <th>279463</th>\n",
       "      <td>2016-03-30 15:39:17</td>\n",
       "      <td>3300</td>\n",
       "      <td>NaN</td>\n",
       "      <td>2017</td>\n",
       "      <td>manual</td>\n",
       "      <td>135</td>\n",
       "      <td>rangerover</td>\n",
       "      <td>150000</td>\n",
       "      <td>2</td>\n",
       "      <td>gasoline</td>\n",
       "      <td>rover</td>\n",
       "      <td>no</td>\n",
       "      <td>2016-03-30</td>\n",
       "      <td>0</td>\n",
       "      <td>15374</td>\n",
       "      <td>2016-04-07 06:15:39</td>\n",
       "    </tr>\n",
       "    <tr>\n",
       "      <th>280216</th>\n",
       "      <td>2016-04-02 10:53:15</td>\n",
       "      <td>0</td>\n",
       "      <td>NaN</td>\n",
       "      <td>1970</td>\n",
       "      <td>NaN</td>\n",
       "      <td>0</td>\n",
       "      <td>serie_1</td>\n",
       "      <td>100000</td>\n",
       "      <td>0</td>\n",
       "      <td>petrol</td>\n",
       "      <td>land_rover</td>\n",
       "      <td>NaN</td>\n",
       "      <td>2016-04-02</td>\n",
       "      <td>0</td>\n",
       "      <td>88634</td>\n",
       "      <td>2016-04-06 09:16:22</td>\n",
       "    </tr>\n",
       "    <tr>\n",
       "      <th>322897</th>\n",
       "      <td>2016-03-19 11:37:23</td>\n",
       "      <td>2100</td>\n",
       "      <td>NaN</td>\n",
       "      <td>2018</td>\n",
       "      <td>manual</td>\n",
       "      <td>0</td>\n",
       "      <td>kalina</td>\n",
       "      <td>150000</td>\n",
       "      <td>0</td>\n",
       "      <td>petrol</td>\n",
       "      <td>lada</td>\n",
       "      <td>NaN</td>\n",
       "      <td>2016-03-19</td>\n",
       "      <td>0</td>\n",
       "      <td>12621</td>\n",
       "      <td>2016-03-21 15:20:00</td>\n",
       "    </tr>\n",
       "    <tr>\n",
       "      <th>328255</th>\n",
       "      <td>2016-03-25 17:47:34</td>\n",
       "      <td>2100</td>\n",
       "      <td>NaN</td>\n",
       "      <td>2018</td>\n",
       "      <td>manual</td>\n",
       "      <td>0</td>\n",
       "      <td>kalina</td>\n",
       "      <td>60000</td>\n",
       "      <td>1</td>\n",
       "      <td>petrol</td>\n",
       "      <td>lada</td>\n",
       "      <td>NaN</td>\n",
       "      <td>2016-03-25</td>\n",
       "      <td>0</td>\n",
       "      <td>12621</td>\n",
       "      <td>2016-04-06 22:47:01</td>\n",
       "    </tr>\n",
       "    <tr>\n",
       "      <th>339010</th>\n",
       "      <td>2016-03-12 19:43:24</td>\n",
       "      <td>2100</td>\n",
       "      <td>NaN</td>\n",
       "      <td>2018</td>\n",
       "      <td>manual</td>\n",
       "      <td>0</td>\n",
       "      <td>kalina</td>\n",
       "      <td>60000</td>\n",
       "      <td>0</td>\n",
       "      <td>petrol</td>\n",
       "      <td>lada</td>\n",
       "      <td>NaN</td>\n",
       "      <td>2016-03-12</td>\n",
       "      <td>0</td>\n",
       "      <td>12621</td>\n",
       "      <td>2016-03-17 22:47:04</td>\n",
       "    </tr>\n",
       "    <tr>\n",
       "      <th>353555</th>\n",
       "      <td>2016-03-07 21:59:03</td>\n",
       "      <td>2199</td>\n",
       "      <td>NaN</td>\n",
       "      <td>2016</td>\n",
       "      <td>manual</td>\n",
       "      <td>0</td>\n",
       "      <td>samara</td>\n",
       "      <td>70000</td>\n",
       "      <td>0</td>\n",
       "      <td>NaN</td>\n",
       "      <td>lada</td>\n",
       "      <td>no</td>\n",
       "      <td>2016-03-07</td>\n",
       "      <td>0</td>\n",
       "      <td>1796</td>\n",
       "      <td>2016-03-08 13:16:48</td>\n",
       "    </tr>\n",
       "  </tbody>\n",
       "</table>\n",
       "</div>"
      ],
      "text/plain": [
       "              date_crawled  price vehicle_type  registration_year gear_box  \\\n",
       "3338   2016-04-05 11:50:50    199          NaN               1995   manual   \n",
       "26625  2016-04-04 17:54:20    200          NaN               2016   manual   \n",
       "69358  2016-03-18 10:38:01     99          NaN               1995   manual   \n",
       "75177  2016-03-18 10:46:23    249          NaN               1985   manual   \n",
       "279463 2016-03-30 15:39:17   3300          NaN               2017   manual   \n",
       "280216 2016-04-02 10:53:15      0          NaN               1970      NaN   \n",
       "322897 2016-03-19 11:37:23   2100          NaN               2018   manual   \n",
       "328255 2016-03-25 17:47:34   2100          NaN               2018   manual   \n",
       "339010 2016-03-12 19:43:24   2100          NaN               2018   manual   \n",
       "353555 2016-03-07 21:59:03   2199          NaN               2016   manual   \n",
       "\n",
       "        power       model  kilometer  registration_month fuel_type  \\\n",
       "3338        0      samara     100000                   0    petrol   \n",
       "26625       0      samara     150000                   0    petrol   \n",
       "69358       0      samara     125000                   0    petrol   \n",
       "75177       0      samara     125000                   0    petrol   \n",
       "279463    135  rangerover     150000                   2  gasoline   \n",
       "280216      0     serie_1     100000                   0    petrol   \n",
       "322897      0      kalina     150000                   0    petrol   \n",
       "328255      0      kalina      60000                   1    petrol   \n",
       "339010      0      kalina      60000                   0    petrol   \n",
       "353555      0      samara      70000                   0       NaN   \n",
       "\n",
       "             brand not_repaired date_created  number_of_pictures  postal_code  \\\n",
       "3338          lada          NaN   2016-04-05                   0        14774   \n",
       "26625         lada          NaN   2016-04-04                   0        52134   \n",
       "69358         lada          NaN   2016-03-18                   0        14774   \n",
       "75177         lada          NaN   2016-03-18                   0        14774   \n",
       "279463       rover           no   2016-03-30                   0        15374   \n",
       "280216  land_rover          NaN   2016-04-02                   0        88634   \n",
       "322897        lada          NaN   2016-03-19                   0        12621   \n",
       "328255        lada          NaN   2016-03-25                   0        12621   \n",
       "339010        lada          NaN   2016-03-12                   0        12621   \n",
       "353555        lada           no   2016-03-07                   0         1796   \n",
       "\n",
       "                 last_seen  \n",
       "3338   2016-04-05 11:50:50  \n",
       "26625  2016-04-04 17:54:20  \n",
       "69358  2016-03-18 10:38:01  \n",
       "75177  2016-03-21 07:15:19  \n",
       "279463 2016-04-07 06:15:39  \n",
       "280216 2016-04-06 09:16:22  \n",
       "322897 2016-03-21 15:20:00  \n",
       "328255 2016-04-06 22:47:01  \n",
       "339010 2016-03-17 22:47:04  \n",
       "353555 2016-03-08 13:16:48  "
      ]
     },
     "execution_count": 25,
     "metadata": {},
     "output_type": "execute_result"
    }
   ],
   "source": [
    "cars.query('vehicle_type.isna()')"
   ]
  },
  {
   "cell_type": "markdown",
   "metadata": {},
   "source": [
    "Lada Samara/Kalina, Rover RangeRover, LandRover Serie_1. Этих наблюдений просто очень мало. Можем считать их как выбросы и удалить.\n",
    "\n",
    "____\n",
    "\n",
    "Lada Samara/Kalina, Rover RangeRover, LandRover Serie_1. There are very few of these observations. We can consider them as outliers and remove them."
   ]
  },
  {
   "cell_type": "code",
   "execution_count": 26,
   "metadata": {
    "scrolled": true
   },
   "outputs": [
    {
     "data": {
      "text/plain": [
       "date_crawled              0\n",
       "price                     0\n",
       "vehicle_type              0\n",
       "registration_year         0\n",
       "gear_box              18729\n",
       "power                     0\n",
       "model                     0\n",
       "kilometer                 0\n",
       "registration_month        0\n",
       "fuel_type             31790\n",
       "brand                     0\n",
       "not_repaired          69823\n",
       "date_created              0\n",
       "number_of_pictures        0\n",
       "postal_code               0\n",
       "last_seen                 0\n",
       "dtype: int64"
      ]
     },
     "execution_count": 26,
     "metadata": {},
     "output_type": "execute_result"
    }
   ],
   "source": [
    "cars = cars.dropna(subset=['vehicle_type'])\n",
    "\n",
    "cars.isna().sum()"
   ]
  },
  {
   "cell_type": "markdown",
   "metadata": {},
   "source": [
    "На данный момент мы разобрались с пропусками в двух из пяти колонках. Посмотрим что в следующих.\n",
    "\n",
    "So far, we have dealt with gaps in two of the five columns. Let's see what's next."
   ]
  },
  {
   "cell_type": "markdown",
   "metadata": {},
   "source": [
    "#### gear_box"
   ]
  },
  {
   "cell_type": "markdown",
   "metadata": {},
   "source": [
    "В этой колонке у нас 5.6% пропусков. Применим старую технику заполнения, посчитаем вероятность встретить ту или иную коробку передач у определенной модели автомобиля.\n",
    "\n",
    "____\n",
    "\n",
    "In this column, we have 5.6% missing values. Let's apply the old filling technique, calculate the probability of meeting one or another gearbox in a certain car model."
   ]
  },
  {
   "cell_type": "code",
   "execution_count": 29,
   "metadata": {
    "scrolled": true
   },
   "outputs": [
    {
     "data": {
      "text/plain": [
       "date_crawled              0\n",
       "price                     0\n",
       "vehicle_type              0\n",
       "registration_year         0\n",
       "gear_box                  0\n",
       "power                     0\n",
       "model                     0\n",
       "kilometer                 0\n",
       "registration_month        0\n",
       "fuel_type             31790\n",
       "brand                     0\n",
       "not_repaired          69823\n",
       "date_created              0\n",
       "number_of_pictures        0\n",
       "postal_code               0\n",
       "last_seen                 0\n",
       "dtype: int64"
      ]
     },
     "execution_count": 29,
     "metadata": {},
     "output_type": "execute_result"
    }
   ],
   "source": [
    "#создаю разметку в формате pd.Series . В индексах модель, в значениях самые частые тип коробки передач\n",
    "gear_box_most_often = cars.groupby('model')['gear_box'].agg(lambda x: x.value_counts(dropna=False).index[0])\n",
    "\n",
    "# заполняю колонку gear_box на основе колонки model, используя разметку    \n",
    "cars.loc[cars['gear_box'].isna(), 'gear_box'] = cars.loc[cars['gear_box'].isna(), 'model'].map(gear_box_most_often) \n",
    "\n",
    "cars.isna().sum()"
   ]
  },
  {
   "cell_type": "markdown",
   "metadata": {},
   "source": [
    "Все пропуски в колонке **gear_box** заполнены. Переходим к следующей колонке.\n",
    "\n",
    "All missing values in **gear_box** column are filled. Let's go to the next column."
   ]
  },
  {
   "cell_type": "markdown",
   "metadata": {},
   "source": [
    "#### fuel_type"
   ]
  },
  {
   "cell_type": "markdown",
   "metadata": {},
   "source": [
    "Колонка содержит 9.3% пропусков.\n",
    "\n",
    "This column contains 9.3% of missing values"
   ]
  },
  {
   "cell_type": "code",
   "execution_count": 30,
   "metadata": {
    "scrolled": false
   },
   "outputs": [
    {
     "data": {
      "text/plain": [
       "brand       model     fuel_type\n",
       "alfa_romeo  145       petrol      0.88\n",
       "                      NaN         0.10\n",
       "                      gasoline    0.02\n",
       "            147       petrol      0.68\n",
       "                      gasoline    0.23\n",
       "                                  ... \n",
       "volvo       v70       cng         0.03\n",
       "            xc_reihe  gasoline    0.87\n",
       "                      petrol      0.09\n",
       "                      NaN         0.02\n",
       "                      lpg         0.01\n",
       "Name: fuel_type, Length: 1273, dtype: float64"
      ]
     },
     "execution_count": 30,
     "metadata": {},
     "output_type": "execute_result"
    }
   ],
   "source": [
    "fuel_type_proba = cars.groupby(['brand', 'model'])['fuel_type'].value_counts(normalize=True, dropna=False)\n",
    "fuel_type_proba"
   ]
  },
  {
   "cell_type": "code",
   "execution_count": 31,
   "metadata": {},
   "outputs": [],
   "source": [
    "def fuel_type_imputer(row):\n",
    "    for brand in all_brands:\n",
    "        if row['brand'] == brand:\n",
    "            return (fuel_type_proba[brand][row['model']].idxmax())"
   ]
  },
  {
   "cell_type": "code",
   "execution_count": 32,
   "metadata": {
    "scrolled": false
   },
   "outputs": [
    {
     "data": {
      "text/plain": [
       "date_crawled              0\n",
       "price                     0\n",
       "vehicle_type              0\n",
       "registration_year         0\n",
       "gear_box                  0\n",
       "power                     0\n",
       "model                     0\n",
       "kilometer                 0\n",
       "registration_month        0\n",
       "fuel_type                 1\n",
       "brand                     0\n",
       "not_repaired          69823\n",
       "date_created              0\n",
       "number_of_pictures        0\n",
       "postal_code               0\n",
       "last_seen                 0\n",
       "dtype: int64"
      ]
     },
     "execution_count": 32,
     "metadata": {},
     "output_type": "execute_result"
    }
   ],
   "source": [
    "# применим функцию fuel_type_imputer\n",
    "cars.loc[cars['fuel_type'].isna(), 'fuel_type'] = cars[cars['fuel_type'].isna()].apply(fuel_type_imputer, axis=1)\n",
    "\n",
    "cars.isna().sum()"
   ]
  },
  {
   "cell_type": "markdown",
   "metadata": {},
   "source": [
    "Остался один пропуск. Посмотрим какое это наблюдение.\n",
    "\n",
    "One missing value is left. Let's subset it."
   ]
  },
  {
   "cell_type": "code",
   "execution_count": 33,
   "metadata": {
    "scrolled": true
   },
   "outputs": [
    {
     "data": {
      "text/html": [
       "<div>\n",
       "<style scoped>\n",
       "    .dataframe tbody tr th:only-of-type {\n",
       "        vertical-align: middle;\n",
       "    }\n",
       "\n",
       "    .dataframe tbody tr th {\n",
       "        vertical-align: top;\n",
       "    }\n",
       "\n",
       "    .dataframe thead th {\n",
       "        text-align: right;\n",
       "    }\n",
       "</style>\n",
       "<table border=\"1\" class=\"dataframe\">\n",
       "  <thead>\n",
       "    <tr style=\"text-align: right;\">\n",
       "      <th></th>\n",
       "      <th>date_crawled</th>\n",
       "      <th>price</th>\n",
       "      <th>vehicle_type</th>\n",
       "      <th>registration_year</th>\n",
       "      <th>gear_box</th>\n",
       "      <th>power</th>\n",
       "      <th>model</th>\n",
       "      <th>kilometer</th>\n",
       "      <th>registration_month</th>\n",
       "      <th>fuel_type</th>\n",
       "      <th>brand</th>\n",
       "      <th>not_repaired</th>\n",
       "      <th>date_created</th>\n",
       "      <th>number_of_pictures</th>\n",
       "      <th>postal_code</th>\n",
       "      <th>last_seen</th>\n",
       "    </tr>\n",
       "  </thead>\n",
       "  <tbody>\n",
       "    <tr>\n",
       "      <th>221324</th>\n",
       "      <td>2016-03-22 19:44:40</td>\n",
       "      <td>0</td>\n",
       "      <td>suv</td>\n",
       "      <td>1999</td>\n",
       "      <td>manual</td>\n",
       "      <td>101</td>\n",
       "      <td>freelander</td>\n",
       "      <td>150000</td>\n",
       "      <td>12</td>\n",
       "      <td>NaN</td>\n",
       "      <td>rover</td>\n",
       "      <td>NaN</td>\n",
       "      <td>2016-03-22</td>\n",
       "      <td>0</td>\n",
       "      <td>26215</td>\n",
       "      <td>2016-04-06 12:16:04</td>\n",
       "    </tr>\n",
       "  </tbody>\n",
       "</table>\n",
       "</div>"
      ],
      "text/plain": [
       "              date_crawled  price vehicle_type  registration_year gear_box  \\\n",
       "221324 2016-03-22 19:44:40      0          suv               1999   manual   \n",
       "\n",
       "        power       model  kilometer  registration_month fuel_type  brand  \\\n",
       "221324    101  freelander     150000                  12       NaN  rover   \n",
       "\n",
       "       not_repaired date_created  number_of_pictures  postal_code  \\\n",
       "221324          NaN   2016-03-22                   0        26215   \n",
       "\n",
       "                 last_seen  \n",
       "221324 2016-04-06 12:16:04  "
      ]
     },
     "execution_count": 33,
     "metadata": {},
     "output_type": "execute_result"
    }
   ],
   "source": [
    "cars.query('fuel_type.isna()')"
   ]
  },
  {
   "cell_type": "markdown",
   "metadata": {},
   "source": [
    "Rover Freelander. Проверим какие вероятности типа топлива.\n",
    "\n",
    "It is Rover Freelander. Check what fuel_type probabilities."
   ]
  },
  {
   "cell_type": "code",
   "execution_count": 34,
   "metadata": {
    "scrolled": true
   },
   "outputs": [
    {
     "data": {
      "text/plain": [
       "fuel_type\n",
       "NaN        0.33\n",
       "gasoline   0.33\n",
       "petrol     0.33\n",
       "Name: fuel_type, dtype: float64"
      ]
     },
     "execution_count": 34,
     "metadata": {},
     "output_type": "execute_result"
    }
   ],
   "source": [
    "fuel_type_proba['rover']['freelander']"
   ]
  },
  {
   "cell_type": "markdown",
   "metadata": {},
   "source": [
    "Все встречающиеся типы топлива у этого автомобиля равновероятны. Бензин встречается чаще всего по всем данным. Этим значением и заполним.\n",
    "\n",
    "____\n",
    "\n",
    "All types of fuel encountered in this car are equally probable. Gasoline is the most common by all accounts. Let's fill it in with this value."
   ]
  },
  {
   "cell_type": "code",
   "execution_count": 35,
   "metadata": {
    "scrolled": true
   },
   "outputs": [
    {
     "data": {
      "text/plain": [
       "date_crawled              0\n",
       "price                     0\n",
       "vehicle_type              0\n",
       "registration_year         0\n",
       "gear_box                  0\n",
       "power                     0\n",
       "model                     0\n",
       "kilometer                 0\n",
       "registration_month        0\n",
       "fuel_type                 0\n",
       "brand                     0\n",
       "not_repaired          69823\n",
       "date_created              0\n",
       "number_of_pictures        0\n",
       "postal_code               0\n",
       "last_seen                 0\n",
       "dtype: int64"
      ]
     },
     "execution_count": 35,
     "metadata": {},
     "output_type": "execute_result"
    }
   ],
   "source": [
    "cars.loc[cars['fuel_type'].isna(), 'fuel_type'] = 'petrol'\n",
    "cars.isna().sum()"
   ]
  },
  {
   "cell_type": "markdown",
   "metadata": {},
   "source": [
    "#### not_repaired"
   ]
  },
  {
   "cell_type": "markdown",
   "metadata": {},
   "source": [
    "Колонка с самым большим количеством пропусков (20.1%). Посмотрим как  год регистрации машины влияет на ремонт.\n",
    "\n",
    "____\n",
    "\n",
    "The column with the most misiing values (20.1%). Let's see how the year of registration of the car affects the repair."
   ]
  },
  {
   "cell_type": "code",
   "execution_count": 36,
   "metadata": {},
   "outputs": [
    {
     "data": {
      "image/png": "[encoded data removed]",
      "text/plain": [
       "<Figure size 1224x1224 with 1 Axes>"
      ]
     },
     "metadata": {
      "needs_background": "light"
     },
     "output_type": "display_data"
    }
   ],
   "source": [
    "plt.figure(figsize=(17,17))\n",
    "sb.countplot(data=cars, y=cars['registration_year'], hue='not_repaired')\n",
    "plt.title('Зависимость ремонта машины от года её регистрации')\n",
    "plt.xlabel('Количество наблюдений')\n",
    "plt.xlabel('Год регистрации автомобиля');"
   ]
  },
  {
   "cell_type": "markdown",
   "metadata": {},
   "source": [
    "Как говорил один философ: \"Ничего не понятно, но очень интересно!\". Как вариант, можно сделать третью группу машин по этому параметру: 'unknown'. Неизвестно, была ли машина в ремонте или нет.\n",
    "\n",
    "___\n",
    "\n",
    "As one philosopher said: \"Nothing is clear, but very interesting!\". Alternatively, you can make a third group of machines by this parameter: 'unknown'. It is unknown if the car was under repair or not."
   ]
  },
  {
   "cell_type": "code",
   "execution_count": 37,
   "metadata": {},
   "outputs": [
    {
     "data": {
      "text/plain": [
       "date_crawled          0\n",
       "price                 0\n",
       "vehicle_type          0\n",
       "registration_year     0\n",
       "gear_box              0\n",
       "power                 0\n",
       "model                 0\n",
       "kilometer             0\n",
       "registration_month    0\n",
       "fuel_type             0\n",
       "brand                 0\n",
       "not_repaired          0\n",
       "date_created          0\n",
       "number_of_pictures    0\n",
       "postal_code           0\n",
       "last_seen             0\n",
       "dtype: int64"
      ]
     },
     "execution_count": 37,
     "metadata": {},
     "output_type": "execute_result"
    }
   ],
   "source": [
    "cars['not_repaired'].fillna(value='unknown', inplace=True)\n",
    "cars.isna().sum()"
   ]
  },
  {
   "cell_type": "markdown",
   "metadata": {},
   "source": [
    "Заполнили все пропуски. Теперь перейдем к обработке аномальных значений.\n",
    "\n",
    "All missing values are filled in, but we still are left with anomal values."
   ]
  },
  {
   "cell_type": "markdown",
   "metadata": {},
   "source": [
    "### Работа с аномальными значениями / Anomal values treatment"
   ]
  },
  {
   "cell_type": "markdown",
   "metadata": {},
   "source": [
    "Мы заметили аномалии в следующих переменных:\n",
    "\n",
    "- price (есть 0, 1, 2, 3, 4, 5 и т.д.). Цена 0 может обозначать, что человек не указал ее в объявлении и она является договорной\n",
    "\n",
    "\n",
    "- registration_year - есть наблюдения, где автомобиль был зарегистрирован позже, чем было выложено/скачано объявление. Это кажется странным. Также есть значения вообще далекие от правды (1111, 9000, 5000, и т.д),\n",
    "\n",
    "\n",
    "- power - имеются как низкие значения 0, 1, 2,..., так и очень высокие (20.000). Предполагаю, что где-то указали лишние цифры на конце. У самого мощного спорткара мощность составляет около 2000 л.с., а у нас в данных нет спорткаров (только если машины с типом кузова coupe). Либо записали мощность без десятичного разделителя (мощность может выражаться действительным числом).\n",
    "\n",
    "____\n",
    "\n",
    "We found anomalies in the following variables:\n",
    "\n",
    "- price (there are 0, 1, 2, 3, 4, 5, etc.). Price 0 may mean that the person did not specify it in the ad and it is negotiable\n",
    "\n",
    "\n",
    "- registration_year - there are observations where the car was registered later than the announcement was posted/downloaded. This seems strange. There are also values that are generally far from the truth (1111, 9000, 5000, etc.),\n",
    "\n",
    "\n",
    "- power - there are both low values 0, 1, 2,... and very high values (20.000). I assume that somewhere they indicated extra numbers at the end. The most powerful sports car has about 2000 hp, and we don't have sports cars in the data (only if the cars are coupe). Or they wrote down the power without a decimal separator (power can be expressed as a real number)."
   ]
  },
  {
   "cell_type": "markdown",
   "metadata": {},
   "source": [
    "#### registration_year"
   ]
  },
  {
   "cell_type": "markdown",
   "metadata": {},
   "source": [
    "Проверим, когда были созданы объявления.\n",
    "\n",
    "Check the creation date of advertisments."
   ]
  },
  {
   "cell_type": "code",
   "execution_count": 39,
   "metadata": {
    "scrolled": true
   },
   "outputs": [
    {
     "data": {
      "text/plain": [
       "array([2016, 2015, 2014])"
      ]
     },
     "execution_count": 39,
     "metadata": {},
     "output_type": "execute_result"
    }
   ],
   "source": [
    "cars['date_created'].dt.year.unique()"
   ]
  },
  {
   "cell_type": "markdown",
   "metadata": {},
   "source": [
    "У нас объявления за период 2014-2016. Проверим есть ли наблюдения, где год регистрации автомобиля превышает год создания объявления.\n",
    "\n",
    "____\n",
    "\n",
    "We have ads for the period 2014-2016. Let's check if there are observations where the year of registration of the car exceeds the year of creation of the ad."
   ]
  },
  {
   "cell_type": "code",
   "execution_count": 40,
   "metadata": {
    "scrolled": false
   },
   "outputs": [
    {
     "data": {
      "text/html": [
       "<div>\n",
       "<style scoped>\n",
       "    .dataframe tbody tr th:only-of-type {\n",
       "        vertical-align: middle;\n",
       "    }\n",
       "\n",
       "    .dataframe tbody tr th {\n",
       "        vertical-align: top;\n",
       "    }\n",
       "\n",
       "    .dataframe thead th {\n",
       "        text-align: right;\n",
       "    }\n",
       "</style>\n",
       "<table border=\"1\" class=\"dataframe\">\n",
       "  <thead>\n",
       "    <tr style=\"text-align: right;\">\n",
       "      <th></th>\n",
       "      <th>date_crawled</th>\n",
       "      <th>price</th>\n",
       "      <th>vehicle_type</th>\n",
       "      <th>registration_year</th>\n",
       "      <th>gear_box</th>\n",
       "      <th>power</th>\n",
       "      <th>model</th>\n",
       "      <th>kilometer</th>\n",
       "      <th>registration_month</th>\n",
       "      <th>fuel_type</th>\n",
       "      <th>brand</th>\n",
       "      <th>not_repaired</th>\n",
       "      <th>date_created</th>\n",
       "      <th>number_of_pictures</th>\n",
       "      <th>postal_code</th>\n",
       "      <th>last_seen</th>\n",
       "    </tr>\n",
       "  </thead>\n",
       "  <tbody>\n",
       "    <tr>\n",
       "      <th>22</th>\n",
       "      <td>2016-03-23 14:52:51</td>\n",
       "      <td>2900</td>\n",
       "      <td>bus</td>\n",
       "      <td>2018</td>\n",
       "      <td>manual</td>\n",
       "      <td>90</td>\n",
       "      <td>meriva</td>\n",
       "      <td>150000</td>\n",
       "      <td>5</td>\n",
       "      <td>petrol</td>\n",
       "      <td>opel</td>\n",
       "      <td>no</td>\n",
       "      <td>2016-03-23</td>\n",
       "      <td>0</td>\n",
       "      <td>49716</td>\n",
       "      <td>2016-03-31 01:16:33</td>\n",
       "    </tr>\n",
       "    <tr>\n",
       "      <th>26</th>\n",
       "      <td>2016-03-10 19:38:18</td>\n",
       "      <td>5555</td>\n",
       "      <td>sedan</td>\n",
       "      <td>2017</td>\n",
       "      <td>manual</td>\n",
       "      <td>125</td>\n",
       "      <td>c4</td>\n",
       "      <td>125000</td>\n",
       "      <td>4</td>\n",
       "      <td>gasoline</td>\n",
       "      <td>citroen</td>\n",
       "      <td>no</td>\n",
       "      <td>2016-03-10</td>\n",
       "      <td>0</td>\n",
       "      <td>31139</td>\n",
       "      <td>2016-03-16 09:16:46</td>\n",
       "    </tr>\n",
       "    <tr>\n",
       "      <th>48</th>\n",
       "      <td>2016-03-25 14:40:12</td>\n",
       "      <td>7750</td>\n",
       "      <td>sedan</td>\n",
       "      <td>2017</td>\n",
       "      <td>manual</td>\n",
       "      <td>80</td>\n",
       "      <td>golf</td>\n",
       "      <td>100000</td>\n",
       "      <td>1</td>\n",
       "      <td>petrol</td>\n",
       "      <td>volkswagen</td>\n",
       "      <td>unknown</td>\n",
       "      <td>2016-03-25</td>\n",
       "      <td>0</td>\n",
       "      <td>48499</td>\n",
       "      <td>2016-03-31 21:47:44</td>\n",
       "    </tr>\n",
       "    <tr>\n",
       "      <th>51</th>\n",
       "      <td>2016-03-07 18:57:08</td>\n",
       "      <td>2000</td>\n",
       "      <td>small</td>\n",
       "      <td>2017</td>\n",
       "      <td>manual</td>\n",
       "      <td>90</td>\n",
       "      <td>punto</td>\n",
       "      <td>150000</td>\n",
       "      <td>11</td>\n",
       "      <td>gasoline</td>\n",
       "      <td>fiat</td>\n",
       "      <td>yes</td>\n",
       "      <td>2016-03-07</td>\n",
       "      <td>0</td>\n",
       "      <td>66115</td>\n",
       "      <td>2016-03-07 18:57:08</td>\n",
       "    </tr>\n",
       "    <tr>\n",
       "      <th>57</th>\n",
       "      <td>2016-03-10 20:53:19</td>\n",
       "      <td>2399</td>\n",
       "      <td>sedan</td>\n",
       "      <td>2018</td>\n",
       "      <td>manual</td>\n",
       "      <td>64</td>\n",
       "      <td>other</td>\n",
       "      <td>125000</td>\n",
       "      <td>3</td>\n",
       "      <td>gasoline</td>\n",
       "      <td>seat</td>\n",
       "      <td>no</td>\n",
       "      <td>2016-03-10</td>\n",
       "      <td>0</td>\n",
       "      <td>33397</td>\n",
       "      <td>2016-03-25 10:17:37</td>\n",
       "    </tr>\n",
       "    <tr>\n",
       "      <th>...</th>\n",
       "      <td>...</td>\n",
       "      <td>...</td>\n",
       "      <td>...</td>\n",
       "      <td>...</td>\n",
       "      <td>...</td>\n",
       "      <td>...</td>\n",
       "      <td>...</td>\n",
       "      <td>...</td>\n",
       "      <td>...</td>\n",
       "      <td>...</td>\n",
       "      <td>...</td>\n",
       "      <td>...</td>\n",
       "      <td>...</td>\n",
       "      <td>...</td>\n",
       "      <td>...</td>\n",
       "      <td>...</td>\n",
       "    </tr>\n",
       "    <tr>\n",
       "      <th>354112</th>\n",
       "      <td>2016-03-11 15:49:51</td>\n",
       "      <td>3600</td>\n",
       "      <td>bus</td>\n",
       "      <td>2017</td>\n",
       "      <td>manual</td>\n",
       "      <td>86</td>\n",
       "      <td>transit</td>\n",
       "      <td>150000</td>\n",
       "      <td>5</td>\n",
       "      <td>gasoline</td>\n",
       "      <td>ford</td>\n",
       "      <td>unknown</td>\n",
       "      <td>2016-03-11</td>\n",
       "      <td>0</td>\n",
       "      <td>32339</td>\n",
       "      <td>2016-03-12 05:45:02</td>\n",
       "    </tr>\n",
       "    <tr>\n",
       "      <th>354140</th>\n",
       "      <td>2016-03-29 16:47:29</td>\n",
       "      <td>1000</td>\n",
       "      <td>wagon</td>\n",
       "      <td>2017</td>\n",
       "      <td>manual</td>\n",
       "      <td>101</td>\n",
       "      <td>a4</td>\n",
       "      <td>150000</td>\n",
       "      <td>9</td>\n",
       "      <td>gasoline</td>\n",
       "      <td>audi</td>\n",
       "      <td>unknown</td>\n",
       "      <td>2016-03-29</td>\n",
       "      <td>0</td>\n",
       "      <td>38315</td>\n",
       "      <td>2016-04-06 02:44:27</td>\n",
       "    </tr>\n",
       "    <tr>\n",
       "      <th>354203</th>\n",
       "      <td>2016-03-17 00:56:26</td>\n",
       "      <td>2140</td>\n",
       "      <td>small</td>\n",
       "      <td>2018</td>\n",
       "      <td>manual</td>\n",
       "      <td>80</td>\n",
       "      <td>fiesta</td>\n",
       "      <td>150000</td>\n",
       "      <td>6</td>\n",
       "      <td>petrol</td>\n",
       "      <td>ford</td>\n",
       "      <td>no</td>\n",
       "      <td>2016-03-17</td>\n",
       "      <td>0</td>\n",
       "      <td>44866</td>\n",
       "      <td>2016-03-29 15:45:04</td>\n",
       "    </tr>\n",
       "    <tr>\n",
       "      <th>354253</th>\n",
       "      <td>2016-03-25 09:37:59</td>\n",
       "      <td>1250</td>\n",
       "      <td>small</td>\n",
       "      <td>2018</td>\n",
       "      <td>manual</td>\n",
       "      <td>0</td>\n",
       "      <td>corsa</td>\n",
       "      <td>150000</td>\n",
       "      <td>0</td>\n",
       "      <td>petrol</td>\n",
       "      <td>opel</td>\n",
       "      <td>unknown</td>\n",
       "      <td>2016-03-25</td>\n",
       "      <td>0</td>\n",
       "      <td>45527</td>\n",
       "      <td>2016-04-06 07:46:13</td>\n",
       "    </tr>\n",
       "    <tr>\n",
       "      <th>354289</th>\n",
       "      <td>2016-03-05 14:55:29</td>\n",
       "      <td>5000</td>\n",
       "      <td>sedan</td>\n",
       "      <td>2017</td>\n",
       "      <td>manual</td>\n",
       "      <td>120</td>\n",
       "      <td>other</td>\n",
       "      <td>150000</td>\n",
       "      <td>7</td>\n",
       "      <td>petrol</td>\n",
       "      <td>citroen</td>\n",
       "      <td>yes</td>\n",
       "      <td>2016-03-05</td>\n",
       "      <td>0</td>\n",
       "      <td>15518</td>\n",
       "      <td>2016-04-05 11:48:09</td>\n",
       "    </tr>\n",
       "  </tbody>\n",
       "</table>\n",
       "<p>14363 rows × 16 columns</p>\n",
       "</div>"
      ],
      "text/plain": [
       "              date_crawled  price vehicle_type  registration_year gear_box  \\\n",
       "22     2016-03-23 14:52:51   2900          bus               2018   manual   \n",
       "26     2016-03-10 19:38:18   5555        sedan               2017   manual   \n",
       "48     2016-03-25 14:40:12   7750        sedan               2017   manual   \n",
       "51     2016-03-07 18:57:08   2000        small               2017   manual   \n",
       "57     2016-03-10 20:53:19   2399        sedan               2018   manual   \n",
       "...                    ...    ...          ...                ...      ...   \n",
       "354112 2016-03-11 15:49:51   3600          bus               2017   manual   \n",
       "354140 2016-03-29 16:47:29   1000        wagon               2017   manual   \n",
       "354203 2016-03-17 00:56:26   2140        small               2018   manual   \n",
       "354253 2016-03-25 09:37:59   1250        small               2018   manual   \n",
       "354289 2016-03-05 14:55:29   5000        sedan               2017   manual   \n",
       "\n",
       "        power    model  kilometer  registration_month fuel_type       brand  \\\n",
       "22         90   meriva     150000                   5    petrol        opel   \n",
       "26        125       c4     125000                   4  gasoline     citroen   \n",
       "48         80     golf     100000                   1    petrol  volkswagen   \n",
       "51         90    punto     150000                  11  gasoline        fiat   \n",
       "57         64    other     125000                   3  gasoline        seat   \n",
       "...       ...      ...        ...                 ...       ...         ...   \n",
       "354112     86  transit     150000                   5  gasoline        ford   \n",
       "354140    101       a4     150000                   9  gasoline        audi   \n",
       "354203     80   fiesta     150000                   6    petrol        ford   \n",
       "354253      0    corsa     150000                   0    petrol        opel   \n",
       "354289    120    other     150000                   7    petrol     citroen   \n",
       "\n",
       "       not_repaired date_created  number_of_pictures  postal_code  \\\n",
       "22               no   2016-03-23                   0        49716   \n",
       "26               no   2016-03-10                   0        31139   \n",
       "48          unknown   2016-03-25                   0        48499   \n",
       "51              yes   2016-03-07                   0        66115   \n",
       "57               no   2016-03-10                   0        33397   \n",
       "...             ...          ...                 ...          ...   \n",
       "354112      unknown   2016-03-11                   0        32339   \n",
       "354140      unknown   2016-03-29                   0        38315   \n",
       "354203           no   2016-03-17                   0        44866   \n",
       "354253      unknown   2016-03-25                   0        45527   \n",
       "354289          yes   2016-03-05                   0        15518   \n",
       "\n",
       "                 last_seen  \n",
       "22     2016-03-31 01:16:33  \n",
       "26     2016-03-16 09:16:46  \n",
       "48     2016-03-31 21:47:44  \n",
       "51     2016-03-07 18:57:08  \n",
       "57     2016-03-25 10:17:37  \n",
       "...                    ...  \n",
       "354112 2016-03-12 05:45:02  \n",
       "354140 2016-04-06 02:44:27  \n",
       "354203 2016-03-29 15:45:04  \n",
       "354253 2016-04-06 07:46:13  \n",
       "354289 2016-04-05 11:48:09  \n",
       "\n",
       "[14363 rows x 16 columns]"
      ]
     },
     "execution_count": 40,
     "metadata": {},
     "output_type": "execute_result"
    }
   ],
   "source": [
    "cars[cars['date_created'].dt.year < cars['registration_year']]"
   ]
  },
  {
   "cell_type": "markdown",
   "metadata": {},
   "source": [
    "Таких наблюдений 14363 (4%). Процент немалый, но придется удалить, имеем дело с очень важным для предсказания признаком.\n",
    "\n",
    "____\n",
    "\n",
    "There are 14363 such observations (4%). The percentage is considerable, but it will have to be removed, we are dealing with a feature that is very important for prediction."
   ]
  },
  {
   "cell_type": "code",
   "execution_count": 41,
   "metadata": {},
   "outputs": [
    {
     "data": {
      "text/plain": [
       "(336622, 16)"
      ]
     },
     "execution_count": 41,
     "metadata": {},
     "output_type": "execute_result"
    }
   ],
   "source": [
    "cars = cars[~(cars['date_created'].dt.year < cars['registration_year'])]\n",
    "cars.shape"
   ]
  },
  {
   "cell_type": "markdown",
   "metadata": {},
   "source": [
    "Теперь необходимо разобраться с неправдоподобными значениями. Посмотрим вообще какие года регистрации есть в данных.\n",
    "\n",
    "____\n",
    "\n",
    "Now we need to deal with implausible values. Let's see what years of registration are in the data."
   ]
  },
  {
   "cell_type": "code",
   "execution_count": 42,
   "metadata": {
    "scrolled": true
   },
   "outputs": [
    {
     "data": {
      "text/plain": [
       "array([1000, 1001, 1039, 1111, 1200, 1234, 1300, 1400, 1500, 1600, 1602,\n",
       "       1688, 1800, 1910, 1919, 1923, 1927, 1928, 1929, 1930, 1931, 1932,\n",
       "       1933, 1934, 1935, 1936, 1937, 1938, 1940, 1941, 1942, 1943, 1945,\n",
       "       1947, 1948, 1949, 1950, 1951, 1952, 1953, 1954, 1955, 1956, 1957,\n",
       "       1958, 1959, 1960, 1961, 1962, 1963, 1964, 1965, 1966, 1967, 1968,\n",
       "       1969, 1970, 1971, 1972, 1973, 1974, 1975, 1976, 1977, 1978, 1979,\n",
       "       1980, 1981, 1982, 1983, 1984, 1985, 1986, 1987, 1988, 1989, 1990,\n",
       "       1991, 1992, 1993, 1994, 1995, 1996, 1997, 1998, 1999, 2000, 2001,\n",
       "       2002, 2003, 2004, 2005, 2006, 2007, 2008, 2009, 2010, 2011, 2012,\n",
       "       2013, 2014, 2015, 2016])"
      ]
     },
     "execution_count": 42,
     "metadata": {},
     "output_type": "execute_result"
    }
   ],
   "source": [
    "cars['registration_year'].sort_values().unique()"
   ]
  },
  {
   "cell_type": "code",
   "execution_count": 45,
   "metadata": {
    "scrolled": false
   },
   "outputs": [
    {
     "data": {
      "image/png": "[encoded data removed]",
      "text/plain": [
       "<Figure size 720x432 with 1 Axes>"
      ]
     },
     "metadata": {
      "needs_background": "light"
     },
     "output_type": "display_data"
    }
   ],
   "source": [
    "plt.figure(figsize=(10,6))\n",
    "\n",
    "plt.hist(cars['registration_year'], bins=200);"
   ]
  },
  {
   "cell_type": "markdown",
   "metadata": {},
   "source": [
    "Видим что слева очень мало значений. Увеличим гистограмму.\n",
    "\n",
    "A few observations are in the left part of the histogram. Let's zoom in hist."
   ]
  },
  {
   "cell_type": "code",
   "execution_count": 46,
   "metadata": {
    "scrolled": false
   },
   "outputs": [
    {
     "data": {
      "image/png": "[encoded data removed]",
      "text/plain": [
       "<Figure size 720x432 with 1 Axes>"
      ]
     },
     "metadata": {
      "needs_background": "light"
     },
     "output_type": "display_data"
    }
   ],
   "source": [
    "plt.figure(figsize=(10,6))\n",
    "\n",
    "plt.hist(cars['registration_year'], bins=200)\n",
    "plt.xlim(1940);"
   ]
  },
  {
   "cell_type": "markdown",
   "metadata": {},
   "source": [
    "Видим, что до 1980 наблюдений очень мало, их даже не видно на гистограмме. Можем взять это за отсечку по году регистрации машины.\n",
    "\n",
    "____\n",
    "\n",
    "We can see that there are very few observations before 1980, they are not even visible on the histogram. We can take this as a cut-off for the year of registration of the car."
   ]
  },
  {
   "cell_type": "code",
   "execution_count": 47,
   "metadata": {},
   "outputs": [
    {
     "data": {
      "text/plain": [
       "array([1980, 1981, 1982, 1983, 1984, 1985, 1986, 1987, 1988, 1989, 1990,\n",
       "       1991, 1992, 1993, 1994, 1995, 1996, 1997, 1998, 1999, 2000, 2001,\n",
       "       2002, 2003, 2004, 2005, 2006, 2007, 2008, 2009, 2010, 2011, 2012,\n",
       "       2013, 2014, 2015, 2016])"
      ]
     },
     "execution_count": 47,
     "metadata": {},
     "output_type": "execute_result"
    }
   ],
   "source": [
    "cars = cars[cars['registration_year'] >= 1980]\n",
    "\n",
    "cars['registration_year'].sort_values().unique()"
   ]
  },
  {
   "cell_type": "markdown",
   "metadata": {},
   "source": [
    "#### power"
   ]
  },
  {
   "cell_type": "markdown",
   "metadata": {},
   "source": [
    "Посмотрим на распределение величины.\n",
    "\n",
    "Let's plot **power** histogram."
   ]
  },
  {
   "cell_type": "code",
   "execution_count": 48,
   "metadata": {
    "scrolled": false
   },
   "outputs": [
    {
     "data": {
      "image/png": "[encoded data removed]",
      "text/plain": [
       "<Figure size 1224x432 with 1 Axes>"
      ]
     },
     "metadata": {
      "needs_background": "light"
     },
     "output_type": "display_data"
    }
   ],
   "source": [
    "plt.figure(figsize=(17,6))\n",
    "plt.hist(x=cars['power'], bins=1000)\n",
    "plt.title('Гистограмма мощности автомобилей')\n",
    "plt.xlabel('Мощность, л.с')\n",
    "plt.ylabel('Количество наблюдений')\n",
    "plt.xlim(0, 1000); # увеличили гистограмму\n",
    "plt.show()"
   ]
  },
  {
   "cell_type": "markdown",
   "metadata": {},
   "source": [
    "Есть как очень маленькие так и очень большие значения.\n",
    "\n",
    "High and low values are observed."
   ]
  },
  {
   "cell_type": "code",
   "execution_count": 49,
   "metadata": {
    "scrolled": true
   },
   "outputs": [
    {
     "data": {
      "text/plain": [
       "array([    0,     1,     2,     3,     4,     5,     6,     7,     8,\n",
       "           9,    10,    11,    12,    13,    14,    15,    16,    17,\n",
       "          18,    19,    20,    21,    22,    23,    24,    25,    26,\n",
       "          27,    28,    29,    30,    31,    32,    33,    34,    35,\n",
       "          36,    37,    38,    39,    40,    41,    42,    43,    44,\n",
       "          45,    46,    47,    48,    49,    50,    51,    52,    53,\n",
       "          54,    55,    56,    57,    58,    59,    60,    61,    62,\n",
       "          63,    64,    65,    66,    67,    68,    69,    70,    71,\n",
       "          72,    73,    74,    75,    76,    77,    78,    79,    80,\n",
       "          81,    82,    83,    84,    85,    86,    87,    88,    89,\n",
       "          90,    91,    92,    93,    94,    95,    96,    97,    98,\n",
       "          99,   100,   101,   102,   103,   104,   105,   106,   107,\n",
       "         108,   109,   110,   111,   112,   113,   114,   115,   116,\n",
       "         117,   118,   119,   120,   121,   122,   123,   124,   125,\n",
       "         126,   127,   128,   129,   130,   131,   132,   133,   134,\n",
       "         135,   136,   137,   138,   139,   140,   141,   142,   143,\n",
       "         144,   145,   146,   147,   148,   149,   150,   151,   152,\n",
       "         153,   154,   155,   156,   157,   158,   159,   160,   161,\n",
       "         162,   163,   164,   165,   166,   167,   168,   169,   170,\n",
       "         171,   172,   173,   174,   175,   176,   177,   178,   179,\n",
       "         180,   181,   182,   183,   184,   185,   186,   187,   188,\n",
       "         189,   190,   191,   192,   193,   194,   195,   196,   197,\n",
       "         198,   199,   200,   201,   202,   203,   204,   205,   206,\n",
       "         207,   208,   209,   210,   211,   212,   213,   214,   215,\n",
       "         216,   217,   218,   219,   220,   221,   222,   223,   224,\n",
       "         225,   226,   227,   228,   229,   230,   231,   232,   233,\n",
       "         234,   235,   236,   237,   238,   239,   240,   241,   242,\n",
       "         243,   244,   245,   246,   247,   248,   249,   250,   251,\n",
       "         252,   253,   254,   255,   256,   257,   258,   259,   260,\n",
       "         261,   262,   264,   265,   266,   267,   268,   269,   270,\n",
       "         271,   272,   273,   274,   275,   276,   277,   278,   279,\n",
       "         280,   281,   282,   283,   284,   285,   286,   287,   288,\n",
       "         289,   290,   292,   293,   294,   295,   296,   297,   298,\n",
       "         299,   300,   301,   303,   304,   305,   306,   307,   308,\n",
       "         309,   310,   311,   313,   314,   315,   316,   317,   318,\n",
       "         320,   321,   322,   323,   324,   325,   326,   327,   328,\n",
       "         329,   330,   331,   332,   333,   334,   335,   336,   337,\n",
       "         338,   339,   340,   341,   343,   344,   345,   346,   347,\n",
       "         348,   349,   350,   351,   352,   353,   354,   355,   356,\n",
       "         357,   358,   360,   361,   362,   363,   364,   365,   367,\n",
       "         368,   370,   371,   374,   375,   376,   377,   379,   380,\n",
       "         381,   382,   385,   386,   387,   388,   390,   392,   394,\n",
       "         396,   398,   399,   400,   401,   405,   408,   409,   411,\n",
       "         416,   420,   421,   426,   428,   430,   431,   435,   440,\n",
       "         445,   449,   450,   454,   457,   459,   460,   475,   476,\n",
       "         485,   487,   489,   490,   500,   504,   505,   507,   508,\n",
       "         510,   514,   515,   517,   519,   520,   521,   525,   530,\n",
       "         540,   541,   544,   550,   551,   553,   560,   572,   574,\n",
       "         579,   580,   584,   585,   599,   600,   601,   602,   603,\n",
       "         604,   606,   610,   612,   620,   640,   645,   650,   651,\n",
       "         671,   682,   685,   696,   700,   702,   703,   732,   743,\n",
       "         750,   751,   754,   771,   776,   800,   805,   850,   851,\n",
       "         871,   900,   902,   903,   907,   909,   923,   950,   952,\n",
       "         953,   960,   998,   999,  1000,  1001,  1002,  1003,  1004,\n",
       "        1005,  1011,  1012,  1016,  1017,  1021,  1024,  1054,  1055,\n",
       "        1056,  1062,  1079,  1082,  1090,  1100,  1102,  1103,  1105,\n",
       "        1111,  1115,  1120,  1149,  1151,  1158,  1160,  1162,  1164,\n",
       "        1199,  1200,  1202,  1221,  1223,  1230,  1239,  1240,  1241,\n",
       "        1250,  1256,  1275,  1288,  1299,  1300,  1312,  1317,  1339,\n",
       "        1360,  1362,  1363,  1367,  1390,  1398,  1399,  1400,  1401,\n",
       "        1403,  1405,  1416,  1432,  1433,  1436,  1500,  1501,  1502,\n",
       "        1503,  1506,  1521,  1548,  1595,  1596,  1597,  1598,  1600,\n",
       "        1625,  1631,  1653,  1659,  1689,  1700,  1701,  1703,  1704,\n",
       "        1707,  1753,  1771,  1779,  1780,  1781,  1783,  1793,  1796,\n",
       "        1799,  1800,  1801,  1870,  1895,  1896,  1900,  1910,  1920,\n",
       "        1922,  1933,  1937,  1968,  1988,  1992,  1993,  1995,  1998,\n",
       "        1999,  2000,  2004,  2005,  2007,  2009,  2016,  2017,  2018,\n",
       "        2172,  2200,  2331,  2340,  2389,  2402,  2461,  2598,  2729,\n",
       "        2789,  2792,  2799,  3199,  3454,  3500,  3750,  4400,  4507,\n",
       "        4700,  5411,  5420,  5575,  5809,  5815,  5867,  6006,  6010,\n",
       "        6011,  6012,  6018,  6045,  6062,  6226,  6512,  6920,  7508,\n",
       "        7511,  7512,  7515,  7518,  7529,  7544,  8011,  8259,  8404,\n",
       "        8500,  9007,  9012,  9013,  9710, 10000, 10110, 10218, 10311,\n",
       "       10317, 10520, 10522, 10710, 10910, 10912, 11011, 11025, 11111,\n",
       "       11509, 11530, 11635, 12012, 12510, 12512, 13616, 13636, 14009,\n",
       "       15001, 15016, 15017, 15020, 15033, 16311, 16312, 17011, 17019,\n",
       "       17410, 17700, 17932, 19208, 19211, 19312, 20000])"
      ]
     },
     "execution_count": 49,
     "metadata": {},
     "output_type": "execute_result"
    }
   ],
   "source": [
    "cars['power'].sort_values().unique()"
   ]
  },
  {
   "cell_type": "markdown",
   "metadata": {},
   "source": [
    "Из гистограммы видно, что количество наблюдений с мощность более 400 л.с. единичны. Можем отбросить наблюдения более 400 л.с. как выбросы. Автомобили с 400 л.с. встречаются почаще.\n",
    "\n",
    "_____\n",
    "\n",
    "It can be seen from the histogram that the number of observations with a power of more than 400 hp. are single. We can discard observations of more than 400 hp. like emissions. Cars with 400 hp meet more frequently."
   ]
  },
  {
   "cell_type": "code",
   "execution_count": 50,
   "metadata": {},
   "outputs": [],
   "source": [
    "cars = cars.query('power <= 400')"
   ]
  },
  {
   "cell_type": "code",
   "execution_count": 51,
   "metadata": {},
   "outputs": [
    {
     "data": {
      "image/png": "[encoded data removed]",
      "text/plain": [
       "<Figure size 1224x432 with 1 Axes>"
      ]
     },
     "metadata": {
      "needs_background": "light"
     },
     "output_type": "display_data"
    }
   ],
   "source": [
    "# гистограмма мощностей ниже 400 л.с\n",
    "plt.figure(figsize=(17,6))\n",
    "sb.histplot(data=cars['power'], bins=50)\n",
    "plt.title('Гистограмма мощности автомобилей (до 400 л.с.)')\n",
    "plt.xlabel('Мощность, л.с')\n",
    "plt.ylabel('Количество наблюдений');"
   ]
  },
  {
   "cell_type": "markdown",
   "metadata": {},
   "source": [
    "С аномальными значениями по типу 0, 1 и т.д. (их много) будем бороться следующим образом: после выполнения предыдущего шага посмотрим на среднее значение мощности у автомобилей такого же бренда, модели, и года выпуска. Затем подставим их вместо аномальных значений. Необходимо только определить нижнюю границу, с которой начинаются неправдоподобно низкие мощности.\n",
    "\n",
    "____\n",
    "\n",
    "With abnormal values like 0, 1, etc. (there are many) we will deal as follows: after completing the previous step, we will look at the average power value for cars of the same brand, model, and year of manufacture. Then we substitute them for the anomalous values. It is only necessary to determine the lower limit from which unbelievably low powers start."
   ]
  },
  {
   "cell_type": "code",
   "execution_count": 52,
   "metadata": {
    "scrolled": false
   },
   "outputs": [
    {
     "data": {
      "text/html": [
       "<div>\n",
       "<style scoped>\n",
       "    .dataframe tbody tr th:only-of-type {\n",
       "        vertical-align: middle;\n",
       "    }\n",
       "\n",
       "    .dataframe tbody tr th {\n",
       "        vertical-align: top;\n",
       "    }\n",
       "\n",
       "    .dataframe thead th {\n",
       "        text-align: right;\n",
       "    }\n",
       "</style>\n",
       "<table border=\"1\" class=\"dataframe\">\n",
       "  <thead>\n",
       "    <tr style=\"text-align: right;\">\n",
       "      <th></th>\n",
       "      <th>date_crawled</th>\n",
       "      <th>price</th>\n",
       "      <th>vehicle_type</th>\n",
       "      <th>registration_year</th>\n",
       "      <th>gear_box</th>\n",
       "      <th>power</th>\n",
       "      <th>model</th>\n",
       "      <th>kilometer</th>\n",
       "      <th>registration_month</th>\n",
       "      <th>fuel_type</th>\n",
       "      <th>brand</th>\n",
       "      <th>not_repaired</th>\n",
       "      <th>date_created</th>\n",
       "      <th>number_of_pictures</th>\n",
       "      <th>postal_code</th>\n",
       "      <th>last_seen</th>\n",
       "    </tr>\n",
       "  </thead>\n",
       "  <tbody>\n",
       "    <tr>\n",
       "      <th>7</th>\n",
       "      <td>2016-03-21 18:54:38</td>\n",
       "      <td>0</td>\n",
       "      <td>sedan</td>\n",
       "      <td>1980</td>\n",
       "      <td>manual</td>\n",
       "      <td>50</td>\n",
       "      <td>other</td>\n",
       "      <td>40000</td>\n",
       "      <td>7</td>\n",
       "      <td>petrol</td>\n",
       "      <td>volkswagen</td>\n",
       "      <td>no</td>\n",
       "      <td>2016-03-21</td>\n",
       "      <td>0</td>\n",
       "      <td>19348</td>\n",
       "      <td>2016-03-25 16:47:58</td>\n",
       "    </tr>\n",
       "    <tr>\n",
       "      <th>23</th>\n",
       "      <td>2016-03-12 19:43:07</td>\n",
       "      <td>450</td>\n",
       "      <td>small</td>\n",
       "      <td>1997</td>\n",
       "      <td>manual</td>\n",
       "      <td>50</td>\n",
       "      <td>arosa</td>\n",
       "      <td>150000</td>\n",
       "      <td>5</td>\n",
       "      <td>petrol</td>\n",
       "      <td>seat</td>\n",
       "      <td>no</td>\n",
       "      <td>2016-03-12</td>\n",
       "      <td>0</td>\n",
       "      <td>9526</td>\n",
       "      <td>2016-03-21 01:46:11</td>\n",
       "    </tr>\n",
       "    <tr>\n",
       "      <th>28</th>\n",
       "      <td>2016-03-09 11:56:38</td>\n",
       "      <td>1990</td>\n",
       "      <td>bus</td>\n",
       "      <td>1981</td>\n",
       "      <td>manual</td>\n",
       "      <td>50</td>\n",
       "      <td>transporter</td>\n",
       "      <td>5000</td>\n",
       "      <td>1</td>\n",
       "      <td>petrol</td>\n",
       "      <td>volkswagen</td>\n",
       "      <td>no</td>\n",
       "      <td>2016-03-09</td>\n",
       "      <td>0</td>\n",
       "      <td>87471</td>\n",
       "      <td>2016-03-10 07:44:33</td>\n",
       "    </tr>\n",
       "    <tr>\n",
       "      <th>72</th>\n",
       "      <td>2016-03-05 16:45:05</td>\n",
       "      <td>750</td>\n",
       "      <td>small</td>\n",
       "      <td>2002</td>\n",
       "      <td>manual</td>\n",
       "      <td>50</td>\n",
       "      <td>fiesta</td>\n",
       "      <td>150000</td>\n",
       "      <td>4</td>\n",
       "      <td>petrol</td>\n",
       "      <td>ford</td>\n",
       "      <td>no</td>\n",
       "      <td>2016-03-05</td>\n",
       "      <td>0</td>\n",
       "      <td>70327</td>\n",
       "      <td>2016-03-11 06:16:00</td>\n",
       "    </tr>\n",
       "    <tr>\n",
       "      <th>193</th>\n",
       "      <td>2016-03-27 12:47:45</td>\n",
       "      <td>1200</td>\n",
       "      <td>coupe</td>\n",
       "      <td>1990</td>\n",
       "      <td>manual</td>\n",
       "      <td>45</td>\n",
       "      <td>golf</td>\n",
       "      <td>150000</td>\n",
       "      <td>0</td>\n",
       "      <td>petrol</td>\n",
       "      <td>volkswagen</td>\n",
       "      <td>unknown</td>\n",
       "      <td>2016-03-27</td>\n",
       "      <td>0</td>\n",
       "      <td>83317</td>\n",
       "      <td>2016-04-07 08:17:08</td>\n",
       "    </tr>\n",
       "    <tr>\n",
       "      <th>...</th>\n",
       "      <td>...</td>\n",
       "      <td>...</td>\n",
       "      <td>...</td>\n",
       "      <td>...</td>\n",
       "      <td>...</td>\n",
       "      <td>...</td>\n",
       "      <td>...</td>\n",
       "      <td>...</td>\n",
       "      <td>...</td>\n",
       "      <td>...</td>\n",
       "      <td>...</td>\n",
       "      <td>...</td>\n",
       "      <td>...</td>\n",
       "      <td>...</td>\n",
       "      <td>...</td>\n",
       "      <td>...</td>\n",
       "    </tr>\n",
       "    <tr>\n",
       "      <th>354223</th>\n",
       "      <td>2016-03-26 08:37:13</td>\n",
       "      <td>200</td>\n",
       "      <td>small</td>\n",
       "      <td>1991</td>\n",
       "      <td>manual</td>\n",
       "      <td>45</td>\n",
       "      <td>polo</td>\n",
       "      <td>150000</td>\n",
       "      <td>1</td>\n",
       "      <td>petrol</td>\n",
       "      <td>volkswagen</td>\n",
       "      <td>yes</td>\n",
       "      <td>2016-03-26</td>\n",
       "      <td>0</td>\n",
       "      <td>27798</td>\n",
       "      <td>2016-03-29 12:16:52</td>\n",
       "    </tr>\n",
       "    <tr>\n",
       "      <th>354266</th>\n",
       "      <td>2016-03-31 16:37:05</td>\n",
       "      <td>399</td>\n",
       "      <td>small</td>\n",
       "      <td>1992</td>\n",
       "      <td>manual</td>\n",
       "      <td>45</td>\n",
       "      <td>polo</td>\n",
       "      <td>150000</td>\n",
       "      <td>4</td>\n",
       "      <td>petrol</td>\n",
       "      <td>volkswagen</td>\n",
       "      <td>unknown</td>\n",
       "      <td>2016-03-31</td>\n",
       "      <td>0</td>\n",
       "      <td>74592</td>\n",
       "      <td>2016-03-31 16:37:05</td>\n",
       "    </tr>\n",
       "    <tr>\n",
       "      <th>354277</th>\n",
       "      <td>2016-03-10 22:55:50</td>\n",
       "      <td>0</td>\n",
       "      <td>small</td>\n",
       "      <td>1999</td>\n",
       "      <td>manual</td>\n",
       "      <td>37</td>\n",
       "      <td>arosa</td>\n",
       "      <td>150000</td>\n",
       "      <td>7</td>\n",
       "      <td>petrol</td>\n",
       "      <td>seat</td>\n",
       "      <td>yes</td>\n",
       "      <td>2016-03-10</td>\n",
       "      <td>0</td>\n",
       "      <td>22559</td>\n",
       "      <td>2016-03-12 23:46:32</td>\n",
       "    </tr>\n",
       "    <tr>\n",
       "      <th>354358</th>\n",
       "      <td>2016-04-04 09:57:12</td>\n",
       "      <td>1490</td>\n",
       "      <td>small</td>\n",
       "      <td>1998</td>\n",
       "      <td>manual</td>\n",
       "      <td>50</td>\n",
       "      <td>lupo</td>\n",
       "      <td>150000</td>\n",
       "      <td>9</td>\n",
       "      <td>petrol</td>\n",
       "      <td>volkswagen</td>\n",
       "      <td>no</td>\n",
       "      <td>2016-04-04</td>\n",
       "      <td>0</td>\n",
       "      <td>48653</td>\n",
       "      <td>2016-04-06 11:17:13</td>\n",
       "    </tr>\n",
       "    <tr>\n",
       "      <th>354360</th>\n",
       "      <td>2016-04-02 20:37:03</td>\n",
       "      <td>3999</td>\n",
       "      <td>wagon</td>\n",
       "      <td>2005</td>\n",
       "      <td>manual</td>\n",
       "      <td>3</td>\n",
       "      <td>3er</td>\n",
       "      <td>150000</td>\n",
       "      <td>5</td>\n",
       "      <td>gasoline</td>\n",
       "      <td>bmw</td>\n",
       "      <td>no</td>\n",
       "      <td>2016-04-02</td>\n",
       "      <td>0</td>\n",
       "      <td>81825</td>\n",
       "      <td>2016-04-06 20:47:12</td>\n",
       "    </tr>\n",
       "  </tbody>\n",
       "</table>\n",
       "<p>9248 rows × 16 columns</p>\n",
       "</div>"
      ],
      "text/plain": [
       "              date_crawled  price vehicle_type  registration_year gear_box  \\\n",
       "7      2016-03-21 18:54:38      0        sedan               1980   manual   \n",
       "23     2016-03-12 19:43:07    450        small               1997   manual   \n",
       "28     2016-03-09 11:56:38   1990          bus               1981   manual   \n",
       "72     2016-03-05 16:45:05    750        small               2002   manual   \n",
       "193    2016-03-27 12:47:45   1200        coupe               1990   manual   \n",
       "...                    ...    ...          ...                ...      ...   \n",
       "354223 2016-03-26 08:37:13    200        small               1991   manual   \n",
       "354266 2016-03-31 16:37:05    399        small               1992   manual   \n",
       "354277 2016-03-10 22:55:50      0        small               1999   manual   \n",
       "354358 2016-04-04 09:57:12   1490        small               1998   manual   \n",
       "354360 2016-04-02 20:37:03   3999        wagon               2005   manual   \n",
       "\n",
       "        power        model  kilometer  registration_month fuel_type  \\\n",
       "7          50        other      40000                   7    petrol   \n",
       "23         50        arosa     150000                   5    petrol   \n",
       "28         50  transporter       5000                   1    petrol   \n",
       "72         50       fiesta     150000                   4    petrol   \n",
       "193        45         golf     150000                   0    petrol   \n",
       "...       ...          ...        ...                 ...       ...   \n",
       "354223     45         polo     150000                   1    petrol   \n",
       "354266     45         polo     150000                   4    petrol   \n",
       "354277     37        arosa     150000                   7    petrol   \n",
       "354358     50         lupo     150000                   9    petrol   \n",
       "354360      3          3er     150000                   5  gasoline   \n",
       "\n",
       "             brand not_repaired date_created  number_of_pictures  postal_code  \\\n",
       "7       volkswagen           no   2016-03-21                   0        19348   \n",
       "23            seat           no   2016-03-12                   0         9526   \n",
       "28      volkswagen           no   2016-03-09                   0        87471   \n",
       "72            ford           no   2016-03-05                   0        70327   \n",
       "193     volkswagen      unknown   2016-03-27                   0        83317   \n",
       "...            ...          ...          ...                 ...          ...   \n",
       "354223  volkswagen          yes   2016-03-26                   0        27798   \n",
       "354266  volkswagen      unknown   2016-03-31                   0        74592   \n",
       "354277        seat          yes   2016-03-10                   0        22559   \n",
       "354358  volkswagen           no   2016-04-04                   0        48653   \n",
       "354360         bmw           no   2016-04-02                   0        81825   \n",
       "\n",
       "                 last_seen  \n",
       "7      2016-03-25 16:47:58  \n",
       "23     2016-03-21 01:46:11  \n",
       "28     2016-03-10 07:44:33  \n",
       "72     2016-03-11 06:16:00  \n",
       "193    2016-04-07 08:17:08  \n",
       "...                    ...  \n",
       "354223 2016-03-29 12:16:52  \n",
       "354266 2016-03-31 16:37:05  \n",
       "354277 2016-03-12 23:46:32  \n",
       "354358 2016-04-06 11:17:13  \n",
       "354360 2016-04-06 20:47:12  \n",
       "\n",
       "[9248 rows x 16 columns]"
      ]
     },
     "execution_count": 52,
     "metadata": {},
     "output_type": "execute_result"
    }
   ],
   "source": [
    "# определим с какого значения начинаются неправдоподобно низкие мощности\n",
    "cars.query('power > 0 & power <= 50')"
   ]
  },
  {
   "cell_type": "markdown",
   "metadata": {},
   "source": [
    "У старых автомобилей обычно меньше мощности. Покажем это на графике.\n",
    "\n",
    "Old cars usually have less power. We can plot it."
   ]
  },
  {
   "cell_type": "code",
   "execution_count": 53,
   "metadata": {},
   "outputs": [
    {
     "data": {
      "image/png": "[encoded data removed]",
      "text/plain": [
       "<Figure size 1224x720 with 1 Axes>"
      ]
     },
     "metadata": {
      "needs_background": "light"
     },
     "output_type": "display_data"
    }
   ],
   "source": [
    "plt.figure(figsize=(17, 10))\n",
    "sb.barplot(data=cars, x=cars['registration_year'], y='power')\n",
    "plt.xticks(rotation = 90)\n",
    "plt.title('Зависимость мощности автомобиля от года регистрации')\n",
    "plt.xlabel('Год регистрации')\n",
    "plt.ylabel('Средняя мощность, л.с.');"
   ]
  },
  {
   "cell_type": "markdown",
   "metadata": {},
   "source": [
    "Судя по данным, начиная все что ниже 15 лошадиных сил выгляди неправдоподобным. Подставим этим значениям среднюю мощность двигателя такого же автомобиля.\n",
    "\n",
    "____\n",
    "\n",
    "Based on the data, starting anything below 15 horsepower seems implausible. Substitute these values for the average engine power of the same car."
   ]
  },
  {
   "cell_type": "markdown",
   "metadata": {},
   "source": [
    "Теперь посчитаем среднюю мощность для каждой модели автомобиля и подставим ее той же модели, которая имеет мощность меньше 15 л.с.\n",
    "\n",
    "____\n",
    "\n",
    "Now we calculate the average power for each car model and substitute it for the same model that has less than 15 hp."
   ]
  },
  {
   "cell_type": "code",
   "execution_count": 57,
   "metadata": {},
   "outputs": [],
   "source": [
    "#создаю разметку в формате pd.Series . В индексах модель, в значениях средняя мощность\n",
    "mean_power_by_model = cars.groupby('model')['power'].agg(lambda x: x.mean())\n",
    "\n",
    "# заполняю колонку gear_box на основе колонки model, используя разметку    \n",
    "cars.loc[cars['power'] < 15, 'power'] = cars.loc[cars['power'] < 15, 'model'].map(mean_power_by_model) "
   ]
  },
  {
   "cell_type": "code",
   "execution_count": 59,
   "metadata": {
    "scrolled": true
   },
   "outputs": [
    {
     "name": "stdout",
     "output_type": "stream",
     "text": [
      "Максимальное значение мощности двигателя: 400.0\n",
      "Минимальное значение мощности двигателя: 0.0\n"
     ]
    }
   ],
   "source": [
    "# проверим минимальное и максимальное значение в колонке\n",
    "print('Максимальное значение мощности двигателя:', cars['power'].max())\n",
    "print('Минимальное значение мощности двигателя:', cars['power'].min())"
   ]
  },
  {
   "cell_type": "markdown",
   "metadata": {},
   "source": [
    "Остались значения мощности двигателя, равные 0. Посмотрим на них.\n",
    "\n",
    "We still have power of 0."
   ]
  },
  {
   "cell_type": "code",
   "execution_count": 61,
   "metadata": {},
   "outputs": [
    {
     "data": {
      "text/html": [
       "<div>\n",
       "<style scoped>\n",
       "    .dataframe tbody tr th:only-of-type {\n",
       "        vertical-align: middle;\n",
       "    }\n",
       "\n",
       "    .dataframe tbody tr th {\n",
       "        vertical-align: top;\n",
       "    }\n",
       "\n",
       "    .dataframe thead th {\n",
       "        text-align: right;\n",
       "    }\n",
       "</style>\n",
       "<table border=\"1\" class=\"dataframe\">\n",
       "  <thead>\n",
       "    <tr style=\"text-align: right;\">\n",
       "      <th></th>\n",
       "      <th>date_crawled</th>\n",
       "      <th>price</th>\n",
       "      <th>vehicle_type</th>\n",
       "      <th>registration_year</th>\n",
       "      <th>gear_box</th>\n",
       "      <th>power</th>\n",
       "      <th>model</th>\n",
       "      <th>kilometer</th>\n",
       "      <th>registration_month</th>\n",
       "      <th>fuel_type</th>\n",
       "      <th>brand</th>\n",
       "      <th>not_repaired</th>\n",
       "      <th>date_created</th>\n",
       "      <th>number_of_pictures</th>\n",
       "      <th>postal_code</th>\n",
       "      <th>last_seen</th>\n",
       "    </tr>\n",
       "  </thead>\n",
       "  <tbody>\n",
       "    <tr>\n",
       "      <th>132006</th>\n",
       "      <td>2016-03-09 16:38:02</td>\n",
       "      <td>0</td>\n",
       "      <td>suv</td>\n",
       "      <td>1980</td>\n",
       "      <td>manual</td>\n",
       "      <td>0.00</td>\n",
       "      <td>serie_3</td>\n",
       "      <td>100000</td>\n",
       "      <td>0</td>\n",
       "      <td>gasoline</td>\n",
       "      <td>land_rover</td>\n",
       "      <td>unknown</td>\n",
       "      <td>2016-03-09</td>\n",
       "      <td>0</td>\n",
       "      <td>44787</td>\n",
       "      <td>2016-04-07 03:46:31</td>\n",
       "    </tr>\n",
       "  </tbody>\n",
       "</table>\n",
       "</div>"
      ],
      "text/plain": [
       "              date_crawled  price vehicle_type  registration_year gear_box  \\\n",
       "132006 2016-03-09 16:38:02      0          suv               1980   manual   \n",
       "\n",
       "        power    model  kilometer  registration_month fuel_type       brand  \\\n",
       "132006   0.00  serie_3     100000                   0  gasoline  land_rover   \n",
       "\n",
       "       not_repaired date_created  number_of_pictures  postal_code  \\\n",
       "132006      unknown   2016-03-09                   0        44787   \n",
       "\n",
       "                 last_seen  \n",
       "132006 2016-04-07 03:46:31  "
      ]
     },
     "execution_count": 61,
     "metadata": {},
     "output_type": "execute_result"
    }
   ],
   "source": [
    "cars.query('power < 15')"
   ]
  },
  {
   "cell_type": "markdown",
   "metadata": {},
   "source": [
    "Такое наблюдение одно. Все из-за того, что такая модель одна в данных, поэтому ее средняя можность 0. Удалим это наблюдение из данных.\n",
    "\n",
    "___\n",
    "\n",
    "There is one such observation. This is because there is only one such model in the data, so its average power is 0. Let's remove this observation from the data."
   ]
  },
  {
   "cell_type": "code",
   "execution_count": 62,
   "metadata": {},
   "outputs": [],
   "source": [
    "cars = cars.query('power > 15')"
   ]
  },
  {
   "cell_type": "markdown",
   "metadata": {},
   "source": [
    "Посмотрим на распределение мощностей еще раз.\n",
    "\n",
    "Plot **power** distribution once again."
   ]
  },
  {
   "cell_type": "code",
   "execution_count": 63,
   "metadata": {},
   "outputs": [
    {
     "data": {
      "image/png": "[encoded data removed]",
      "text/plain": [
       "<Figure size 1224x432 with 1 Axes>"
      ]
     },
     "metadata": {
      "needs_background": "light"
     },
     "output_type": "display_data"
    }
   ],
   "source": [
    "plt.figure(figsize=(17,6))\n",
    "sb.histplot(data=cars['power'], bins=50)\n",
    "plt.title('Гистограмма мощности автомобилей после обработки аномальных значений')\n",
    "plt.xlabel('Мощность, л.с')\n",
    "plt.ylabel('Количество наблюдений');"
   ]
  },
  {
   "cell_type": "markdown",
   "metadata": {},
   "source": [
    "В колонке **power** разобрались с аномальными значениями. Двигаемся дальше.\n",
    "\n",
    "The **power** column has been sorted out with anomalous values. We move on."
   ]
  },
  {
   "cell_type": "markdown",
   "metadata": {},
   "source": [
    "#### price"
   ]
  },
  {
   "cell_type": "markdown",
   "metadata": {},
   "source": [
    "Здесь все сложно. Это целевая колонка. Заменить мы ничего не можем, этим можем исказить нашу модель. Поэтому, мы можем только выделить общую картину по ценам. Затем по выделенным границам убрать аномальные значения.\n",
    "\n",
    "____\n",
    "\n",
    "Everything is complicated here. This is the target column. We cannot replace anything, this can distort our model. Therefore, we can only highlight the big picture in terms of prices. Then, along the selected boundaries, remove anomalous values."
   ]
  },
  {
   "cell_type": "code",
   "execution_count": 71,
   "metadata": {
    "scrolled": false
   },
   "outputs": [
    {
     "data": {
      "image/png": "[encoded data removed]",
      "text/plain": [
       "<Figure size 1224x720 with 1 Axes>"
      ]
     },
     "metadata": {
      "needs_background": "light"
     },
     "output_type": "display_data"
    }
   ],
   "source": [
    "plt.figure(figsize=(17,10))\n",
    "plt.hist(cars['price'], bins=100);"
   ]
  },
  {
   "cell_type": "code",
   "execution_count": 63,
   "metadata": {
    "scrolled": false
   },
   "outputs": [
    {
     "data": {
      "image/png": "[encoded data removed]",
      "text/plain": [
       "<Figure size 1224x720 with 1 Axes>"
      ]
     },
     "metadata": {
      "needs_background": "light"
     },
     "output_type": "display_data"
    }
   ],
   "source": [
    "# посмотрим на аномально большие значения / zoom to high values\n",
    "plt.figure(figsize=(17,10))\n",
    "plt.hist(cars['price'], bins=20)\n",
    "plt.xlim(10000);"
   ]
  },
  {
   "cell_type": "markdown",
   "metadata": {},
   "source": [
    "Гистограмма показывает, что наблюдений с большой ценой довольно много, чтобы построить какие-то закономерности. Сверху отсекать не будем.\n",
    "\n",
    "Значения с ценой 0 можн осразу удалить и оценить нижний порог отсечения.\n",
    "\n",
    "____\n",
    "\n",
    "The histogram shows that there are quite a lot of observations with a large price in order to build some patterns. We will not cut off the top.\n",
    "\n",
    "Values with a cost of 0 can be immediately removed and the lower cutoff value evaluated."
   ]
  },
  {
   "cell_type": "code",
   "execution_count": 64,
   "metadata": {},
   "outputs": [],
   "source": [
    "cars = cars.query('price > 0')"
   ]
  },
  {
   "cell_type": "code",
   "execution_count": 65,
   "metadata": {
    "scrolled": false
   },
   "outputs": [
    {
     "data": {
      "image/png": "[encoded data removed]",
      "text/plain": [
       "<Figure size 1224x720 with 1 Axes>"
      ]
     },
     "metadata": {
      "needs_background": "light"
     },
     "output_type": "display_data"
    }
   ],
   "source": [
    "# посмотрим на аномально большие значения\n",
    "plt.figure(figsize=(17,10))\n",
    "plt.hist(cars['price'], bins=20)\n",
    "plt.xlim(0, 100);"
   ]
  },
  {
   "cell_type": "markdown",
   "metadata": {},
   "source": [
    "Низких цен очень много. Основываясь на данных, начиная с 1 евро есть очень много значений. Конечно, можно было оставить так, у нас же много значений и можно найти какие-то закономерности, но здравый смысл тоже надо оставлять и сопоставлять картину с реальностью. Я не представляю себе как можно купить машину за за цену до 50 евро. Поэтому поставлю отсечку снизу такую.\n",
    "\n",
    "____\n",
    "\n",
    "Lots of low prices. Based on the data, starting from 1 euro there are a lot of values. Of course, we could have left it that way, we have many meanings and some patterns can be found, but common sense should also be left and the picture should be compared with reality. I can't imagine how you can buy a car for a price of up to 50 euros. Therefore, I will put a cut-off at the bottom like this."
   ]
  },
  {
   "cell_type": "code",
   "execution_count": 66,
   "metadata": {},
   "outputs": [],
   "source": [
    "cars = cars.query('price >= 50')"
   ]
  },
  {
   "cell_type": "markdown",
   "metadata": {},
   "source": [
    "Посмотрим на гистограмму распределения еще раз.\n",
    "\n",
    "Plot the price distribution once again."
   ]
  },
  {
   "cell_type": "code",
   "execution_count": 67,
   "metadata": {},
   "outputs": [
    {
     "data": {
      "image/png": "[encoded data removed]",
      "text/plain": [
       "<Figure size 1224x720 with 1 Axes>"
      ]
     },
     "metadata": {
      "needs_background": "light"
     },
     "output_type": "display_data"
    }
   ],
   "source": [
    "plt.figure(figsize=(17,10))\n",
    "plt.hist(cars['price'], bins=20);"
   ]
  },
  {
   "cell_type": "markdown",
   "metadata": {},
   "source": [
    "Теперь надо разобраться со значениями сверху. Дорогой автомобиль будет либо свежим, либо старым (раритетным). Посмотрим на график зависимости цены от года регистрации.\n",
    "\n",
    "___\n",
    "\n",
    "Now we need to deal with the values from above. An expensive car will be either fresh or old (rare). Let's look at the graph of the dependence of the price on the year of registration."
   ]
  },
  {
   "cell_type": "code",
   "execution_count": 73,
   "metadata": {
    "scrolled": false
   },
   "outputs": [
    {
     "data": {
      "image/png": "[encoded data removed]",
      "text/plain": [
       "<Figure size 1224x1224 with 1 Axes>"
      ]
     },
     "metadata": {
      "needs_background": "light"
     },
     "output_type": "display_data"
    }
   ],
   "source": [
    "plt.figure(figsize=(17, 17))\n",
    "sb.barplot(x=cars['registration_year'].sort_values(), y='price', data=cars)\n",
    "plt.xticks(rotation = 90)\n",
    "plt.title('Средняя цена автомобиля в зависимости от года регистрации')\n",
    "plt.xlabel('Год регистрации')\n",
    "plt.ylabel('Средняя цена, евро');"
   ]
  },
  {
   "cell_type": "markdown",
   "metadata": {},
   "source": [
    "График интересный. Видим, что старых автомобилей мало на рынке, поэтому доверительный интервал имеет больший диапазон у этих наблюдений. Также, в 2016 видим аномалию. Из него видно, что средняя цена автомобиля зависит от года регистрации. Можно сказать, что очень старые автомобили стоят дороже (год регистрации так или иначе указывает на возраст автомобиля). Затем с 1980 года автомобиль и не очень старый, и не новый, поэтому цена падает. С примерно 2000 года цены начинают расти, потому что относительно 2016 года, это новые автомобили.\n",
    "\n",
    "Теперь посмотрим какие автомобили у нас в дорогом диапазоне (10-20 тыс. евро), старые или новые.\n",
    "\n",
    "____\n",
    "\n",
    "The plot is interesting. We see that there are few old cars on the market, so the confidence interval has a larger range for these observations. Also, in 2016 we see an anomaly. It shows that the average price of a car depends on the year of registration. We can say that very old cars are more expensive (the year of registration in one way or another indicates the age of the car). Then, since 1980, the car is neither very old nor new, so the price drops. From about 2000, prices begin to rise, because relative to 2016, these are new cars."
   ]
  },
  {
   "cell_type": "markdown",
   "metadata": {},
   "source": [
    "### Кодирование категориальных переменных / Categorical features encoding"
   ]
  },
  {
   "cell_type": "markdown",
   "metadata": {},
   "source": [
    "Следующие переменные являются категориальными:\n",
    "\n",
    "- vehicle_type - можно применить frequency encoding (заполнение частотностью категории),\n",
    "- gear_box - frequency encoding,\n",
    "- model - mean target encoding (заполнение средним таргета по определенной категории),\n",
    "- fuel_type - frequency encoding,\n",
    "- brand - mean target encoding,\n",
    "- not_repaired - frequency_encoding.\n",
    "\n",
    "Таким образом, мы применим frequency encoding к 4 колонкам, а mean target encoding - к 2.\n",
    "\n",
    "Применяем mean target encoding к колонкам **model** и **brand** так как они в первую очередь влияют на цену автомобиля.\n",
    "\n",
    "____\n",
    "\n",
    "The following variables are categorical:\n",
    "\n",
    "- vehicle_type - you can apply frequency encoding (filling in the category frequency),\n",
    "- gear_box - frequency encoding,\n",
    "- model - mean target encoding (filling in the average target for a certain category),\n",
    "- fuel_type - frequency encoding,\n",
    "- brand - mean target encoding,\n",
    "- not_repaired - frequency_encoding.\n",
    "\n",
    "So we will apply frequency encoding to 4 columns and mean target encoding to 2.\n",
    "\n",
    "We apply mean target encoding to the **model** and **brand** columns as they primarily affect the price of the car."
   ]
  },
  {
   "cell_type": "markdown",
   "metadata": {},
   "source": [
    "#### Frequency encoding"
   ]
  },
  {
   "cell_type": "code",
   "execution_count": 76,
   "metadata": {
    "scrolled": false
   },
   "outputs": [
    {
     "name": "stdout",
     "output_type": "stream",
     "text": [
      "96600    96600\n",
      "82692    82692\n",
      "65278    65278\n",
      "29413    29413\n",
      "19330    19330\n",
      "15039    15039\n",
      "11396    11396\n",
      "2722      2722\n",
      "Name: vehicle_type, dtype: int64\n",
      "\n",
      "259891    259891\n",
      "62579      62579\n",
      "Name: gear_box, dtype: int64\n",
      "\n",
      "218848    218848\n",
      "97865      97865\n",
      "4865        4865\n",
      "518          518\n",
      "200          200\n",
      "112          112\n",
      "62            62\n",
      "Name: fuel_type, dtype: int64\n",
      "\n",
      "232970    232970\n",
      "57340      57340\n",
      "32160      32160\n",
      "Name: not_repaired, dtype: int64\n",
      "\n"
     ]
    },
    {
     "data": {
      "text/html": [
       "<div>\n",
       "<style scoped>\n",
       "    .dataframe tbody tr th:only-of-type {\n",
       "        vertical-align: middle;\n",
       "    }\n",
       "\n",
       "    .dataframe tbody tr th {\n",
       "        vertical-align: top;\n",
       "    }\n",
       "\n",
       "    .dataframe thead th {\n",
       "        text-align: right;\n",
       "    }\n",
       "</style>\n",
       "<table border=\"1\" class=\"dataframe\">\n",
       "  <thead>\n",
       "    <tr style=\"text-align: right;\">\n",
       "      <th></th>\n",
       "      <th>date_crawled</th>\n",
       "      <th>price</th>\n",
       "      <th>vehicle_type</th>\n",
       "      <th>registration_year</th>\n",
       "      <th>gear_box</th>\n",
       "      <th>power</th>\n",
       "      <th>model</th>\n",
       "      <th>kilometer</th>\n",
       "      <th>registration_month</th>\n",
       "      <th>fuel_type</th>\n",
       "      <th>brand</th>\n",
       "      <th>not_repaired</th>\n",
       "      <th>date_created</th>\n",
       "      <th>number_of_pictures</th>\n",
       "      <th>postal_code</th>\n",
       "      <th>last_seen</th>\n",
       "    </tr>\n",
       "  </thead>\n",
       "  <tbody>\n",
       "    <tr>\n",
       "      <th>0</th>\n",
       "      <td>2016-03-24 11:52:17</td>\n",
       "      <td>480</td>\n",
       "      <td>96600</td>\n",
       "      <td>1993</td>\n",
       "      <td>259891</td>\n",
       "      <td>93.21</td>\n",
       "      <td>golf</td>\n",
       "      <td>150000</td>\n",
       "      <td>0</td>\n",
       "      <td>218848</td>\n",
       "      <td>volkswagen</td>\n",
       "      <td>57340</td>\n",
       "      <td>2016-03-24</td>\n",
       "      <td>0</td>\n",
       "      <td>70435</td>\n",
       "      <td>2016-04-07 03:16:57</td>\n",
       "    </tr>\n",
       "    <tr>\n",
       "      <th>1</th>\n",
       "      <td>2016-03-24 10:58:45</td>\n",
       "      <td>18300</td>\n",
       "      <td>15039</td>\n",
       "      <td>2011</td>\n",
       "      <td>259891</td>\n",
       "      <td>190.00</td>\n",
       "      <td>a4</td>\n",
       "      <td>125000</td>\n",
       "      <td>5</td>\n",
       "      <td>97865</td>\n",
       "      <td>audi</td>\n",
       "      <td>32160</td>\n",
       "      <td>2016-03-24</td>\n",
       "      <td>0</td>\n",
       "      <td>66954</td>\n",
       "      <td>2016-04-07 01:46:50</td>\n",
       "    </tr>\n",
       "    <tr>\n",
       "      <th>2</th>\n",
       "      <td>2016-03-14 12:52:21</td>\n",
       "      <td>9800</td>\n",
       "      <td>11396</td>\n",
       "      <td>2004</td>\n",
       "      <td>62579</td>\n",
       "      <td>163.00</td>\n",
       "      <td>grand</td>\n",
       "      <td>125000</td>\n",
       "      <td>8</td>\n",
       "      <td>97865</td>\n",
       "      <td>jeep</td>\n",
       "      <td>57340</td>\n",
       "      <td>2016-03-14</td>\n",
       "      <td>0</td>\n",
       "      <td>90480</td>\n",
       "      <td>2016-04-05 12:47:46</td>\n",
       "    </tr>\n",
       "    <tr>\n",
       "      <th>3</th>\n",
       "      <td>2016-03-17 16:54:04</td>\n",
       "      <td>1500</td>\n",
       "      <td>82692</td>\n",
       "      <td>2001</td>\n",
       "      <td>259891</td>\n",
       "      <td>75.00</td>\n",
       "      <td>golf</td>\n",
       "      <td>150000</td>\n",
       "      <td>6</td>\n",
       "      <td>218848</td>\n",
       "      <td>volkswagen</td>\n",
       "      <td>232970</td>\n",
       "      <td>2016-03-17</td>\n",
       "      <td>0</td>\n",
       "      <td>91074</td>\n",
       "      <td>2016-03-17 17:40:17</td>\n",
       "    </tr>\n",
       "    <tr>\n",
       "      <th>4</th>\n",
       "      <td>2016-03-31 17:25:20</td>\n",
       "      <td>3600</td>\n",
       "      <td>82692</td>\n",
       "      <td>2008</td>\n",
       "      <td>259891</td>\n",
       "      <td>69.00</td>\n",
       "      <td>fabia</td>\n",
       "      <td>90000</td>\n",
       "      <td>7</td>\n",
       "      <td>97865</td>\n",
       "      <td>skoda</td>\n",
       "      <td>232970</td>\n",
       "      <td>2016-03-31</td>\n",
       "      <td>0</td>\n",
       "      <td>60437</td>\n",
       "      <td>2016-04-06 10:17:21</td>\n",
       "    </tr>\n",
       "  </tbody>\n",
       "</table>\n",
       "</div>"
      ],
      "text/plain": [
       "         date_crawled  price  vehicle_type  registration_year  gear_box  \\\n",
       "0 2016-03-24 11:52:17    480         96600               1993    259891   \n",
       "1 2016-03-24 10:58:45  18300         15039               2011    259891   \n",
       "2 2016-03-14 12:52:21   9800         11396               2004     62579   \n",
       "3 2016-03-17 16:54:04   1500         82692               2001    259891   \n",
       "4 2016-03-31 17:25:20   3600         82692               2008    259891   \n",
       "\n",
       "   power  model  kilometer  registration_month  fuel_type       brand  \\\n",
       "0  93.21   golf     150000                   0     218848  volkswagen   \n",
       "1 190.00     a4     125000                   5      97865        audi   \n",
       "2 163.00  grand     125000                   8      97865        jeep   \n",
       "3  75.00   golf     150000                   6     218848  volkswagen   \n",
       "4  69.00  fabia      90000                   7      97865       skoda   \n",
       "\n",
       "   not_repaired date_created  number_of_pictures  postal_code  \\\n",
       "0         57340   2016-03-24                   0        70435   \n",
       "1         32160   2016-03-24                   0        66954   \n",
       "2         57340   2016-03-14                   0        90480   \n",
       "3        232970   2016-03-17                   0        91074   \n",
       "4        232970   2016-03-31                   0        60437   \n",
       "\n",
       "            last_seen  \n",
       "0 2016-04-07 03:16:57  \n",
       "1 2016-04-07 01:46:50  \n",
       "2 2016-04-05 12:47:46  \n",
       "3 2016-03-17 17:40:17  \n",
       "4 2016-04-06 10:17:21  "
      ]
     },
     "execution_count": 76,
     "metadata": {},
     "output_type": "execute_result"
    }
   ],
   "source": [
    "cols_to_freq_enc = ['vehicle_type', 'gear_box', 'fuel_type', 'not_repaired']\n",
    "\n",
    "for col in cols_to_freq_enc:\n",
    "    freq = cars[col].value_counts()\n",
    "    cars[col] = cars[col].apply(lambda x: freq[x])\n",
    "    print(cars[col].value_counts()) # выведем количество новых категорий, чтобы проверить правильность заполнения\n",
    "    print()\n",
    "    \n",
    "cars.head()"
   ]
  },
  {
   "cell_type": "markdown",
   "metadata": {},
   "source": [
    "Кодирование категорий их частотами провели верно. Теперь закодируем оставшиеся категориальные переменные методом подсчета среднего целевого признака в определенной категории.\n",
    "\n",
    "___\n",
    "\n",
    "The coding of the categories by their frequencies was carried out correctly. Now we encode the remaining categorical variables by calculating the average target feature in a certain category."
   ]
  },
  {
   "cell_type": "markdown",
   "metadata": {},
   "source": [
    "#### Mean target encoding"
   ]
  },
  {
   "cell_type": "code",
   "execution_count": 77,
   "metadata": {
    "scrolled": false
   },
   "outputs": [
    {
     "data": {
      "text/html": [
       "<div>\n",
       "<style scoped>\n",
       "    .dataframe tbody tr th:only-of-type {\n",
       "        vertical-align: middle;\n",
       "    }\n",
       "\n",
       "    .dataframe tbody tr th {\n",
       "        vertical-align: top;\n",
       "    }\n",
       "\n",
       "    .dataframe thead th {\n",
       "        text-align: right;\n",
       "    }\n",
       "</style>\n",
       "<table border=\"1\" class=\"dataframe\">\n",
       "  <thead>\n",
       "    <tr style=\"text-align: right;\">\n",
       "      <th></th>\n",
       "      <th>date_crawled</th>\n",
       "      <th>price</th>\n",
       "      <th>vehicle_type</th>\n",
       "      <th>registration_year</th>\n",
       "      <th>gear_box</th>\n",
       "      <th>power</th>\n",
       "      <th>model</th>\n",
       "      <th>kilometer</th>\n",
       "      <th>registration_month</th>\n",
       "      <th>fuel_type</th>\n",
       "      <th>brand</th>\n",
       "      <th>not_repaired</th>\n",
       "      <th>date_created</th>\n",
       "      <th>number_of_pictures</th>\n",
       "      <th>postal_code</th>\n",
       "      <th>last_seen</th>\n",
       "    </tr>\n",
       "  </thead>\n",
       "  <tbody>\n",
       "    <tr>\n",
       "      <th>0</th>\n",
       "      <td>2016-03-24 11:52:17</td>\n",
       "      <td>480</td>\n",
       "      <td>96600</td>\n",
       "      <td>1993</td>\n",
       "      <td>259891</td>\n",
       "      <td>93.21</td>\n",
       "      <td>4,201.67</td>\n",
       "      <td>150000</td>\n",
       "      <td>0</td>\n",
       "      <td>218848</td>\n",
       "      <td>4,585.87</td>\n",
       "      <td>57340</td>\n",
       "      <td>2016-03-24</td>\n",
       "      <td>0</td>\n",
       "      <td>70435</td>\n",
       "      <td>2016-04-07 03:16:57</td>\n",
       "    </tr>\n",
       "    <tr>\n",
       "      <th>1</th>\n",
       "      <td>2016-03-24 10:58:45</td>\n",
       "      <td>18300</td>\n",
       "      <td>15039</td>\n",
       "      <td>2011</td>\n",
       "      <td>259891</td>\n",
       "      <td>190.00</td>\n",
       "      <td>5,833.98</td>\n",
       "      <td>125000</td>\n",
       "      <td>5</td>\n",
       "      <td>97865</td>\n",
       "      <td>6,499.48</td>\n",
       "      <td>32160</td>\n",
       "      <td>2016-03-24</td>\n",
       "      <td>0</td>\n",
       "      <td>66954</td>\n",
       "      <td>2016-04-07 01:46:50</td>\n",
       "    </tr>\n",
       "    <tr>\n",
       "      <th>2</th>\n",
       "      <td>2016-03-14 12:52:21</td>\n",
       "      <td>9800</td>\n",
       "      <td>11396</td>\n",
       "      <td>2004</td>\n",
       "      <td>62579</td>\n",
       "      <td>163.00</td>\n",
       "      <td>6,386.00</td>\n",
       "      <td>125000</td>\n",
       "      <td>8</td>\n",
       "      <td>97865</td>\n",
       "      <td>7,204.93</td>\n",
       "      <td>57340</td>\n",
       "      <td>2016-03-14</td>\n",
       "      <td>0</td>\n",
       "      <td>90480</td>\n",
       "      <td>2016-04-05 12:47:46</td>\n",
       "    </tr>\n",
       "    <tr>\n",
       "      <th>3</th>\n",
       "      <td>2016-03-17 16:54:04</td>\n",
       "      <td>1500</td>\n",
       "      <td>82692</td>\n",
       "      <td>2001</td>\n",
       "      <td>259891</td>\n",
       "      <td>75.00</td>\n",
       "      <td>4,201.67</td>\n",
       "      <td>150000</td>\n",
       "      <td>6</td>\n",
       "      <td>218848</td>\n",
       "      <td>4,585.87</td>\n",
       "      <td>232970</td>\n",
       "      <td>2016-03-17</td>\n",
       "      <td>0</td>\n",
       "      <td>91074</td>\n",
       "      <td>2016-03-17 17:40:17</td>\n",
       "    </tr>\n",
       "    <tr>\n",
       "      <th>4</th>\n",
       "      <td>2016-03-31 17:25:20</td>\n",
       "      <td>3600</td>\n",
       "      <td>82692</td>\n",
       "      <td>2008</td>\n",
       "      <td>259891</td>\n",
       "      <td>69.00</td>\n",
       "      <td>4,242.78</td>\n",
       "      <td>90000</td>\n",
       "      <td>7</td>\n",
       "      <td>97865</td>\n",
       "      <td>6,032.81</td>\n",
       "      <td>232970</td>\n",
       "      <td>2016-03-31</td>\n",
       "      <td>0</td>\n",
       "      <td>60437</td>\n",
       "      <td>2016-04-06 10:17:21</td>\n",
       "    </tr>\n",
       "  </tbody>\n",
       "</table>\n",
       "</div>"
      ],
      "text/plain": [
       "         date_crawled  price  vehicle_type  registration_year  gear_box  \\\n",
       "0 2016-03-24 11:52:17    480         96600               1993    259891   \n",
       "1 2016-03-24 10:58:45  18300         15039               2011    259891   \n",
       "2 2016-03-14 12:52:21   9800         11396               2004     62579   \n",
       "3 2016-03-17 16:54:04   1500         82692               2001    259891   \n",
       "4 2016-03-31 17:25:20   3600         82692               2008    259891   \n",
       "\n",
       "   power    model  kilometer  registration_month  fuel_type    brand  \\\n",
       "0  93.21 4,201.67     150000                   0     218848 4,585.87   \n",
       "1 190.00 5,833.98     125000                   5      97865 6,499.48   \n",
       "2 163.00 6,386.00     125000                   8      97865 7,204.93   \n",
       "3  75.00 4,201.67     150000                   6     218848 4,585.87   \n",
       "4  69.00 4,242.78      90000                   7      97865 6,032.81   \n",
       "\n",
       "   not_repaired date_created  number_of_pictures  postal_code  \\\n",
       "0         57340   2016-03-24                   0        70435   \n",
       "1         32160   2016-03-24                   0        66954   \n",
       "2         57340   2016-03-14                   0        90480   \n",
       "3        232970   2016-03-17                   0        91074   \n",
       "4        232970   2016-03-31                   0        60437   \n",
       "\n",
       "            last_seen  \n",
       "0 2016-04-07 03:16:57  \n",
       "1 2016-04-07 01:46:50  \n",
       "2 2016-04-05 12:47:46  \n",
       "3 2016-03-17 17:40:17  \n",
       "4 2016-04-06 10:17:21  "
      ]
     },
     "execution_count": 77,
     "metadata": {},
     "output_type": "execute_result"
    }
   ],
   "source": [
    "cols_to_mean_enc = ['model', 'brand']\n",
    "\n",
    "for col in cols_to_mean_enc:\n",
    "    mean = cars.groupby(col)['price'].mean()\n",
    "    cars[col] = cars[col].apply(lambda x: mean[x])\n",
    "    \n",
    "cars.head()"
   ]
  },
  {
   "cell_type": "markdown",
   "metadata": {},
   "source": [
    "Данные готовы, можно переходить к обучению моделей.\n",
    "\n",
    "Data is ready. We are moving to the model training."
   ]
  },
  {
   "cell_type": "markdown",
   "metadata": {},
   "source": [
    "## Обучение моделей Models training"
   ]
  },
  {
   "cell_type": "markdown",
   "metadata": {},
   "source": [
    "### Выбор признаков / Features selection"
   ]
  },
  {
   "cell_type": "markdown",
   "metadata": {},
   "source": [
    "Для моделей нам не нужны все столбцы в датасете. Выберем, которые наилучше предскажут цену автомобиля.\n",
    "\n",
    "Select features that are the best in price prediction."
   ]
  },
  {
   "cell_type": "code",
   "execution_count": 78,
   "metadata": {},
   "outputs": [
    {
     "data": {
      "text/html": [
       "<div>\n",
       "<style scoped>\n",
       "    .dataframe tbody tr th:only-of-type {\n",
       "        vertical-align: middle;\n",
       "    }\n",
       "\n",
       "    .dataframe tbody tr th {\n",
       "        vertical-align: top;\n",
       "    }\n",
       "\n",
       "    .dataframe thead th {\n",
       "        text-align: right;\n",
       "    }\n",
       "</style>\n",
       "<table border=\"1\" class=\"dataframe\">\n",
       "  <thead>\n",
       "    <tr style=\"text-align: right;\">\n",
       "      <th></th>\n",
       "      <th>price</th>\n",
       "      <th>vehicle_type</th>\n",
       "      <th>registration_year</th>\n",
       "      <th>gear_box</th>\n",
       "      <th>power</th>\n",
       "      <th>model</th>\n",
       "      <th>kilometer</th>\n",
       "      <th>fuel_type</th>\n",
       "      <th>brand</th>\n",
       "      <th>not_repaired</th>\n",
       "    </tr>\n",
       "  </thead>\n",
       "  <tbody>\n",
       "    <tr>\n",
       "      <th>0</th>\n",
       "      <td>480</td>\n",
       "      <td>96600</td>\n",
       "      <td>1993</td>\n",
       "      <td>259891</td>\n",
       "      <td>93.21</td>\n",
       "      <td>4,201.67</td>\n",
       "      <td>150000</td>\n",
       "      <td>218848</td>\n",
       "      <td>4,585.87</td>\n",
       "      <td>57340</td>\n",
       "    </tr>\n",
       "    <tr>\n",
       "      <th>1</th>\n",
       "      <td>18300</td>\n",
       "      <td>15039</td>\n",
       "      <td>2011</td>\n",
       "      <td>259891</td>\n",
       "      <td>190.00</td>\n",
       "      <td>5,833.98</td>\n",
       "      <td>125000</td>\n",
       "      <td>97865</td>\n",
       "      <td>6,499.48</td>\n",
       "      <td>32160</td>\n",
       "    </tr>\n",
       "    <tr>\n",
       "      <th>2</th>\n",
       "      <td>9800</td>\n",
       "      <td>11396</td>\n",
       "      <td>2004</td>\n",
       "      <td>62579</td>\n",
       "      <td>163.00</td>\n",
       "      <td>6,386.00</td>\n",
       "      <td>125000</td>\n",
       "      <td>97865</td>\n",
       "      <td>7,204.93</td>\n",
       "      <td>57340</td>\n",
       "    </tr>\n",
       "    <tr>\n",
       "      <th>3</th>\n",
       "      <td>1500</td>\n",
       "      <td>82692</td>\n",
       "      <td>2001</td>\n",
       "      <td>259891</td>\n",
       "      <td>75.00</td>\n",
       "      <td>4,201.67</td>\n",
       "      <td>150000</td>\n",
       "      <td>218848</td>\n",
       "      <td>4,585.87</td>\n",
       "      <td>232970</td>\n",
       "    </tr>\n",
       "    <tr>\n",
       "      <th>4</th>\n",
       "      <td>3600</td>\n",
       "      <td>82692</td>\n",
       "      <td>2008</td>\n",
       "      <td>259891</td>\n",
       "      <td>69.00</td>\n",
       "      <td>4,242.78</td>\n",
       "      <td>90000</td>\n",
       "      <td>97865</td>\n",
       "      <td>6,032.81</td>\n",
       "      <td>232970</td>\n",
       "    </tr>\n",
       "  </tbody>\n",
       "</table>\n",
       "</div>"
      ],
      "text/plain": [
       "   price  vehicle_type  registration_year  gear_box  power    model  \\\n",
       "0    480         96600               1993    259891  93.21 4,201.67   \n",
       "1  18300         15039               2011    259891 190.00 5,833.98   \n",
       "2   9800         11396               2004     62579 163.00 6,386.00   \n",
       "3   1500         82692               2001    259891  75.00 4,201.67   \n",
       "4   3600         82692               2008    259891  69.00 4,242.78   \n",
       "\n",
       "   kilometer  fuel_type    brand  not_repaired  \n",
       "0     150000     218848 4,585.87         57340  \n",
       "1     125000      97865 6,499.48         32160  \n",
       "2     125000      97865 7,204.93         57340  \n",
       "3     150000     218848 4,585.87        232970  \n",
       "4      90000      97865 6,032.81        232970  "
      ]
     },
     "execution_count": 78,
     "metadata": {},
     "output_type": "execute_result"
    }
   ],
   "source": [
    "cars_ml = cars[['price', 'vehicle_type', 'registration_year', 'gear_box', 'power', 'model', 'kilometer',\n",
    "               'fuel_type', 'brand', 'not_repaired']]\n",
    "\n",
    "cars_ml.head()"
   ]
  },
  {
   "cell_type": "code",
   "execution_count": 79,
   "metadata": {
    "scrolled": true
   },
   "outputs": [
    {
     "name": "stdout",
     "output_type": "stream",
     "text": [
      "<class 'pandas.core.frame.DataFrame'>\n",
      "Int64Index: 322470 entries, 0 to 354368\n",
      "Data columns (total 10 columns):\n",
      " #   Column             Non-Null Count   Dtype  \n",
      "---  ------             --------------   -----  \n",
      " 0   price              322470 non-null  int64  \n",
      " 1   vehicle_type       322470 non-null  int64  \n",
      " 2   registration_year  322470 non-null  int64  \n",
      " 3   gear_box           322470 non-null  int64  \n",
      " 4   power              322470 non-null  float64\n",
      " 5   model              322470 non-null  float64\n",
      " 6   kilometer          322470 non-null  int64  \n",
      " 7   fuel_type          322470 non-null  int64  \n",
      " 8   brand              322470 non-null  float64\n",
      " 9   not_repaired       322470 non-null  int64  \n",
      "dtypes: float64(3), int64(7)\n",
      "memory usage: 27.1 MB\n"
     ]
    }
   ],
   "source": [
    "cars_ml.info()"
   ]
  },
  {
   "cell_type": "markdown",
   "metadata": {},
   "source": [
    "### Создание обучающей и тестовой выборок / Train/test split"
   ]
  },
  {
   "cell_type": "code",
   "execution_count": 81,
   "metadata": {
    "scrolled": false
   },
   "outputs": [
    {
     "name": "stdout",
     "output_type": "stream",
     "text": [
      "Размер выборки с признаками: (322470, 9)\n",
      "Размер выборки с таргетом: (322470,)\n"
     ]
    }
   ],
   "source": [
    "# разделим признаки и таргет\n",
    "features = cars_ml.drop('price', axis=1)\n",
    "target = cars_ml['price']\n",
    "\n",
    "print('Размер выборки с признаками:', features.shape)\n",
    "print('Размер выборки с таргетом:', target.shape)"
   ]
  },
  {
   "cell_type": "markdown",
   "metadata": {},
   "source": [
    "Стандартизируем все численные переменные, чтобы для моделей они были равнозначными, а также для обучения моделей алгоритмом градиентного спуска (со стандартизированными переменными он обучается быстрее).\n",
    "\n",
    "____\n",
    "\n",
    "We standardize all numerical variables so that they are equivalent for models, as well as for training models with the gradient descent algorithm (it learns faster with standardized variables)."
   ]
  },
  {
   "cell_type": "code",
   "execution_count": 82,
   "metadata": {},
   "outputs": [
    {
     "data": {
      "text/html": [
       "<div>\n",
       "<style scoped>\n",
       "    .dataframe tbody tr th:only-of-type {\n",
       "        vertical-align: middle;\n",
       "    }\n",
       "\n",
       "    .dataframe tbody tr th {\n",
       "        vertical-align: top;\n",
       "    }\n",
       "\n",
       "    .dataframe thead th {\n",
       "        text-align: right;\n",
       "    }\n",
       "</style>\n",
       "<table border=\"1\" class=\"dataframe\">\n",
       "  <thead>\n",
       "    <tr style=\"text-align: right;\">\n",
       "      <th></th>\n",
       "      <th>vehicle_type</th>\n",
       "      <th>registration_year</th>\n",
       "      <th>gear_box</th>\n",
       "      <th>power</th>\n",
       "      <th>model</th>\n",
       "      <th>kilometer</th>\n",
       "      <th>fuel_type</th>\n",
       "      <th>brand</th>\n",
       "      <th>not_repaired</th>\n",
       "    </tr>\n",
       "  </thead>\n",
       "  <tbody>\n",
       "    <tr>\n",
       "      <th>0</th>\n",
       "      <td>0.96</td>\n",
       "      <td>-1.66</td>\n",
       "      <td>0.49</td>\n",
       "      <td>-0.49</td>\n",
       "      <td>-0.16</td>\n",
       "      <td>0.57</td>\n",
       "      <td>0.67</td>\n",
       "      <td>-0.00</td>\n",
       "      <td>-1.50</td>\n",
       "    </tr>\n",
       "    <tr>\n",
       "      <th>1</th>\n",
       "      <td>-1.82</td>\n",
       "      <td>1.34</td>\n",
       "      <td>0.49</td>\n",
       "      <td>1.40</td>\n",
       "      <td>0.51</td>\n",
       "      <td>-0.11</td>\n",
       "      <td>-1.34</td>\n",
       "      <td>1.27</td>\n",
       "      <td>-1.80</td>\n",
       "    </tr>\n",
       "    <tr>\n",
       "      <th>2</th>\n",
       "      <td>-1.94</td>\n",
       "      <td>0.18</td>\n",
       "      <td>-2.04</td>\n",
       "      <td>0.87</td>\n",
       "      <td>0.74</td>\n",
       "      <td>-0.11</td>\n",
       "      <td>-1.34</td>\n",
       "      <td>1.73</td>\n",
       "      <td>-1.50</td>\n",
       "    </tr>\n",
       "    <tr>\n",
       "      <th>3</th>\n",
       "      <td>0.49</td>\n",
       "      <td>-0.32</td>\n",
       "      <td>0.49</td>\n",
       "      <td>-0.85</td>\n",
       "      <td>-0.16</td>\n",
       "      <td>0.57</td>\n",
       "      <td>0.67</td>\n",
       "      <td>-0.00</td>\n",
       "      <td>0.62</td>\n",
       "    </tr>\n",
       "    <tr>\n",
       "      <th>4</th>\n",
       "      <td>0.49</td>\n",
       "      <td>0.84</td>\n",
       "      <td>0.49</td>\n",
       "      <td>-0.96</td>\n",
       "      <td>-0.14</td>\n",
       "      <td>-1.06</td>\n",
       "      <td>-1.34</td>\n",
       "      <td>0.96</td>\n",
       "      <td>0.62</td>\n",
       "    </tr>\n",
       "  </tbody>\n",
       "</table>\n",
       "</div>"
      ],
      "text/plain": [
       "   vehicle_type  registration_year  gear_box  power  model  kilometer  \\\n",
       "0          0.96              -1.66      0.49  -0.49  -0.16       0.57   \n",
       "1         -1.82               1.34      0.49   1.40   0.51      -0.11   \n",
       "2         -1.94               0.18     -2.04   0.87   0.74      -0.11   \n",
       "3          0.49              -0.32      0.49  -0.85  -0.16       0.57   \n",
       "4          0.49               0.84      0.49  -0.96  -0.14      -1.06   \n",
       "\n",
       "   fuel_type  brand  not_repaired  \n",
       "0       0.67  -0.00         -1.50  \n",
       "1      -1.34   1.27         -1.80  \n",
       "2      -1.34   1.73         -1.50  \n",
       "3       0.67  -0.00          0.62  \n",
       "4      -1.34   0.96          0.62  "
      ]
     },
     "execution_count": 82,
     "metadata": {},
     "output_type": "execute_result"
    }
   ],
   "source": [
    "scaler = StandardScaler()\n",
    "features_scaled = pd.DataFrame(scaler.fit_transform(X=features, y=target), columns=features.columns)\n",
    "features_scaled.head()"
   ]
  },
  {
   "cell_type": "code",
   "execution_count": 83,
   "metadata": {},
   "outputs": [
    {
     "name": "stdout",
     "output_type": "stream",
     "text": [
      "Размер обучающей выборки с признаками: (225729, 9)\n",
      "Размер тестовой выборки с признаками: (96741, 9)\n",
      "Размер обучающей выборки с таргетом: (225729,)\n",
      "Размер тестовой выборки с таргетом: (96741,)\n"
     ]
    }
   ],
   "source": [
    "# разделим на обучающую и тестовую выборки\n",
    "\n",
    "train_features, test_features, train_target, test_target = train_test_split(features_scaled, target,\n",
    "                                                                           test_size=0.3, random_state=1)\n",
    "\n",
    "print('Размер обучающей выборки с признаками:', train_features.shape)\n",
    "print('Размер тестовой выборки с признаками:', test_features.shape)\n",
    "print('Размер обучающей выборки с таргетом:', train_target.shape)\n",
    "print('Размер тестовой выборки с таргетом:', test_target.shape)"
   ]
  },
  {
   "cell_type": "markdown",
   "metadata": {},
   "source": [
    "### Простая линейная регрессия / Linear regression"
   ]
  },
  {
   "cell_type": "markdown",
   "metadata": {},
   "source": [
    "Начнем с простой модели, чтобы получить базовую точность и с ней сравнивать остальные модели.\n",
    "\n",
    "____\n",
    "\n",
    "Let's start with a simple model to get a baseline accuracy and compare other models against it."
   ]
  },
  {
   "cell_type": "code",
   "execution_count": 84,
   "metadata": {},
   "outputs": [],
   "source": [
    "folds = StratifiedKFold(n_splits=5,  shuffle=True, random_state=1) "
   ]
  },
  {
   "cell_type": "code",
   "execution_count": 85,
   "metadata": {
    "scrolled": false
   },
   "outputs": [
    {
     "name": "stdout",
     "output_type": "stream",
     "text": [
      "RMSE линейной регрессии (кросс-валидация, k=5): 2658.71\n"
     ]
    }
   ],
   "source": [
    "model_lr = LinearRegression()\n",
    "\n",
    "cv_score_lr = abs(cross_val_score(model_lr, train_features,\n",
    "                                  train_target, cv=folds,\n",
    "                                  scoring='neg_root_mean_squared_error').mean())\n",
    "\n",
    "print('RMSE линейной регрессии (кросс-валидация, k=5):', round(cv_score_lr, 2))"
   ]
  },
  {
   "cell_type": "markdown",
   "metadata": {},
   "source": [
    "Простая модель линейной регрессии выдаёт RMSE 2658.71 предсказании цены автомобиля.\n",
    "\n",
    "____\n",
    "\n",
    "A simple linear regression model yields an RMSE of 2658.71 predicting the price of a car."
   ]
  },
  {
   "cell_type": "markdown",
   "metadata": {},
   "source": [
    "### Дерево решений / Decision Tree"
   ]
  },
  {
   "cell_type": "markdown",
   "metadata": {},
   "source": [
    "#### Неоптимизированное дерево решений / Basic decision tree"
   ]
  },
  {
   "cell_type": "code",
   "execution_count": 86,
   "metadata": {},
   "outputs": [
    {
     "name": "stdout",
     "output_type": "stream",
     "text": [
      "RMSE НЕОПТИМИЗИРОВАННОГО дерева решений (кросс-валидация, k=5): 1874.99\n"
     ]
    }
   ],
   "source": [
    "dt_model_base = DecisionTreeRegressor(random_state=1)\n",
    "\n",
    "cv_score_dt_base = abs(cross_val_score(dt_model_base, train_features,\n",
    "                                  train_target, cv=folds,\n",
    "                                  scoring='neg_root_mean_squared_error').mean())\n",
    "\n",
    "print('RMSE НЕОПТИМИЗИРОВАННОГО дерева решений (кросс-валидация, k=5):', round(cv_score_dt_base, 2))"
   ]
  },
  {
   "cell_type": "markdown",
   "metadata": {},
   "source": [
    "Дерево решений без оптимизированных гиперпараметров выдает метрику RMSE при кросс-валидации 1874.99, работает лучше, чем простая линейная регрессия.\n",
    "\n",
    "____\n",
    "\n",
    "A decision tree without optimized hyperparameters yields a cross-validation RMSE metric of 1874.99, performs better than simple linear regression."
   ]
  },
  {
   "cell_type": "markdown",
   "metadata": {},
   "source": [
    "#### Оптимизированное дерево решений / Optimized decision tree"
   ]
  },
  {
   "cell_type": "markdown",
   "metadata": {},
   "source": [
    "Деревья решений и случайные леса долго оптимизируются, поэтому будем использовать библиотеку **hyperopt**.\n",
    "\n",
    "Decision trees and random forests take a long time to optimize, so we will use the **hyperopt** library."
   ]
  },
  {
   "cell_type": "code",
   "execution_count": 87,
   "metadata": {},
   "outputs": [],
   "source": [
    "# зададим пространство поиска\n",
    "params_dt = {\n",
    "                'max_depth': hp.randint('max_depth', 3, 15),\n",
    "                'min_samples_leaf': hp.randint('min_samples_leaf', 1, 20),\n",
    "                'max_leaf_nodes': hp.randint('max_leaf_nodes', 6, 100)\n",
    "                }"
   ]
  },
  {
   "cell_type": "code",
   "execution_count": 88,
   "metadata": {},
   "outputs": [],
   "source": [
    "def objective(params, pipeline,  X_train, y_train):\n",
    "    \"\"\"\n",
    "    Кросс-валидация с текущими гиперпараметрами\n",
    "\n",
    "    :params: гиперпараметры\n",
    "    :pipeline: модель\n",
    "    :X_train: матрица признаков\n",
    "    :y_train: вектор меток объектов\n",
    "    :return: средняя точность на кросс-валидации\n",
    "    \"\"\" \n",
    "\n",
    "    # задаём модели требуемые параметры    \n",
    "    pipeline.set_params(**params)\n",
    "\n",
    "    # задаём параметры кросс-валидации (стратифицированная 10-фолдовая с перемешиванием)\n",
    "    skf = StratifiedKFold(n_splits=5, shuffle=True, random_state=1)\n",
    "\n",
    "    # проводим кросс-валидацию  \n",
    "    score = cross_val_score(estimator=pipeline, X=X_train, y=y_train, \n",
    "                            scoring='neg_root_mean_squared_error', cv=skf, n_jobs=-1, error_score='raise')\n",
    "\n",
    "    # возвращаем результаты, которые записываются в Trials()\n",
    "    return   {'loss': -score.mean(), 'params': params, 'status': STATUS_OK}"
   ]
  },
  {
   "cell_type": "code",
   "execution_count": 89,
   "metadata": {
    "scrolled": true
   },
   "outputs": [
    {
     "name": "stdout",
     "output_type": "stream",
     "text": [
      "  0%|          | 0/100 [00:00<?, ?trial/s, best loss=?]"
     ]
    },
    {
     "name": "stderr",
     "output_type": "stream",
     "text": [
      "2022-06-04 11:34:52,999 - INFO     - build_posterior_wrapper took 0.001629 seconds\n",
      "2022-06-04 11:34:53,003 - INFO     - TPE using 0 trials\n"
     ]
    },
    {
     "name": "stdout",
     "output_type": "stream",
     "text": [
      "  1%|          | 1/100 [00:05<08:16,  5.02s/trial, best loss: 2159.0379381627017]"
     ]
    },
    {
     "name": "stderr",
     "output_type": "stream",
     "text": [
      "2022-06-04 11:34:58,022 - INFO     - build_posterior_wrapper took 0.002922 seconds\n",
      "2022-06-04 11:34:58,024 - INFO     - TPE using 1/1 trials with best loss 2159.037938\n"
     ]
    },
    {
     "name": "stdout",
     "output_type": "stream",
     "text": [
      "  2%|▏         | 2/100 [00:06<05:02,  3.08s/trial, best loss: 2159.0379381627017]"
     ]
    },
    {
     "name": "stderr",
     "output_type": "stream",
     "text": [
      "2022-06-04 11:34:59,750 - INFO     - build_posterior_wrapper took 0.002246 seconds\n",
      "2022-06-04 11:34:59,752 - INFO     - TPE using 2/2 trials with best loss 2159.037938\n"
     ]
    },
    {
     "name": "stdout",
     "output_type": "stream",
     "text": [
      "  3%|▎         | 3/100 [00:08<04:00,  2.48s/trial, best loss: 2159.0379381627017]"
     ]
    },
    {
     "name": "stderr",
     "output_type": "stream",
     "text": [
      "2022-06-04 11:35:01,516 - INFO     - build_posterior_wrapper took 0.002055 seconds\n",
      "2022-06-04 11:35:01,518 - INFO     - TPE using 3/3 trials with best loss 2159.037938\n"
     ]
    },
    {
     "name": "stdout",
     "output_type": "stream",
     "text": [
      "  4%|▍         | 4/100 [00:10<03:51,  2.41s/trial, best loss: 2075.2792980667637]"
     ]
    },
    {
     "name": "stderr",
     "output_type": "stream",
     "text": [
      "2022-06-04 11:35:03,808 - INFO     - build_posterior_wrapper took 0.003014 seconds\n",
      "2022-06-04 11:35:03,809 - INFO     - TPE using 4/4 trials with best loss 2075.279298\n"
     ]
    },
    {
     "name": "stdout",
     "output_type": "stream",
     "text": [
      "  5%|▌         | 5/100 [00:12<03:37,  2.29s/trial, best loss: 2075.2792980667637]"
     ]
    },
    {
     "name": "stderr",
     "output_type": "stream",
     "text": [
      "2022-06-04 11:35:05,896 - INFO     - build_posterior_wrapper took 0.001251 seconds\n",
      "2022-06-04 11:35:05,897 - INFO     - TPE using 5/5 trials with best loss 2075.279298\n"
     ]
    },
    {
     "name": "stdout",
     "output_type": "stream",
     "text": [
      "  6%|▌         | 6/100 [00:14<03:17,  2.11s/trial, best loss: 2075.2792980667637]"
     ]
    },
    {
     "name": "stderr",
     "output_type": "stream",
     "text": [
      "2022-06-04 11:35:07,642 - INFO     - build_posterior_wrapper took 0.001909 seconds\n",
      "2022-06-04 11:35:07,643 - INFO     - TPE using 6/6 trials with best loss 2075.279298\n"
     ]
    },
    {
     "name": "stdout",
     "output_type": "stream",
     "text": [
      "  7%|▋         | 7/100 [00:17<03:29,  2.25s/trial, best loss: 2075.2792980667637]"
     ]
    },
    {
     "name": "stderr",
     "output_type": "stream",
     "text": [
      "2022-06-04 11:35:10,182 - INFO     - build_posterior_wrapper took 0.001706 seconds\n",
      "2022-06-04 11:35:10,183 - INFO     - TPE using 7/7 trials with best loss 2075.279298\n"
     ]
    },
    {
     "name": "stdout",
     "output_type": "stream",
     "text": [
      "  8%|▊         | 8/100 [00:19<03:15,  2.12s/trial, best loss: 2075.2792980667637]"
     ]
    },
    {
     "name": "stderr",
     "output_type": "stream",
     "text": [
      "2022-06-04 11:35:12,041 - INFO     - build_posterior_wrapper took 0.001652 seconds\n",
      "2022-06-04 11:35:12,042 - INFO     - TPE using 8/8 trials with best loss 2075.279298\n"
     ]
    },
    {
     "name": "stdout",
     "output_type": "stream",
     "text": [
      "  9%|▉         | 9/100 [00:21<03:19,  2.20s/trial, best loss: 2075.2792980667637]"
     ]
    },
    {
     "name": "stderr",
     "output_type": "stream",
     "text": [
      "2022-06-04 11:35:14,393 - INFO     - build_posterior_wrapper took 0.000801 seconds\n",
      "2022-06-04 11:35:14,394 - INFO     - TPE using 9/9 trials with best loss 2075.279298\n"
     ]
    },
    {
     "name": "stdout",
     "output_type": "stream",
     "text": [
      " 10%|█         | 10/100 [00:23<03:20,  2.23s/trial, best loss: 2075.2792980667637]"
     ]
    },
    {
     "name": "stderr",
     "output_type": "stream",
     "text": [
      "2022-06-04 11:35:16,684 - INFO     - build_posterior_wrapper took 0.000993 seconds\n",
      "2022-06-04 11:35:16,686 - INFO     - TPE using 10/10 trials with best loss 2075.279298\n"
     ]
    },
    {
     "name": "stdout",
     "output_type": "stream",
     "text": [
      " 11%|█         | 11/100 [00:25<03:10,  2.14s/trial, best loss: 2075.2792980667637]"
     ]
    },
    {
     "name": "stderr",
     "output_type": "stream",
     "text": [
      "2022-06-04 11:35:18,646 - INFO     - build_posterior_wrapper took 0.001266 seconds\n",
      "2022-06-04 11:35:18,647 - INFO     - TPE using 11/11 trials with best loss 2075.279298\n"
     ]
    },
    {
     "name": "stdout",
     "output_type": "stream",
     "text": [
      " 12%|█▏        | 12/100 [00:27<02:58,  2.02s/trial, best loss: 2075.2792980667637]"
     ]
    },
    {
     "name": "stderr",
     "output_type": "stream",
     "text": [
      "2022-06-04 11:35:20,394 - INFO     - build_posterior_wrapper took 0.002352 seconds\n",
      "2022-06-04 11:35:20,396 - INFO     - TPE using 12/12 trials with best loss 2075.279298\n"
     ]
    },
    {
     "name": "stdout",
     "output_type": "stream",
     "text": [
      " 13%|█▎        | 13/100 [00:29<02:57,  2.04s/trial, best loss: 2075.2792980667637]"
     ]
    },
    {
     "name": "stderr",
     "output_type": "stream",
     "text": [
      "2022-06-04 11:35:22,485 - INFO     - build_posterior_wrapper took 0.001420 seconds\n",
      "2022-06-04 11:35:22,487 - INFO     - TPE using 13/13 trials with best loss 2075.279298\n"
     ]
    },
    {
     "name": "stdout",
     "output_type": "stream",
     "text": [
      " 14%|█▍        | 14/100 [00:31<02:57,  2.07s/trial, best loss: 2075.2792980667637]"
     ]
    },
    {
     "name": "stderr",
     "output_type": "stream",
     "text": [
      "2022-06-04 11:35:24,612 - INFO     - build_posterior_wrapper took 0.001896 seconds\n",
      "2022-06-04 11:35:24,614 - INFO     - TPE using 14/14 trials with best loss 2075.279298\n"
     ]
    },
    {
     "name": "stdout",
     "output_type": "stream",
     "text": [
      " 15%|█▌        | 15/100 [00:33<02:49,  1.99s/trial, best loss: 2075.2792980667637]"
     ]
    },
    {
     "name": "stderr",
     "output_type": "stream",
     "text": [
      "2022-06-04 11:35:26,435 - INFO     - build_posterior_wrapper took 0.001726 seconds\n",
      "2022-06-04 11:35:26,437 - INFO     - TPE using 15/15 trials with best loss 2075.279298\n"
     ]
    },
    {
     "name": "stdout",
     "output_type": "stream",
     "text": [
      " 16%|█▌        | 16/100 [00:35<02:41,  1.92s/trial, best loss: 2075.2792980667637]"
     ]
    },
    {
     "name": "stderr",
     "output_type": "stream",
     "text": [
      "2022-06-04 11:35:28,184 - INFO     - build_posterior_wrapper took 0.003721 seconds\n",
      "2022-06-04 11:35:28,185 - INFO     - TPE using 16/16 trials with best loss 2075.279298\n"
     ]
    },
    {
     "name": "stdout",
     "output_type": "stream",
     "text": [
      " 17%|█▋        | 17/100 [00:37<02:48,  2.04s/trial, best loss: 2075.2792980667637]"
     ]
    },
    {
     "name": "stderr",
     "output_type": "stream",
     "text": [
      "2022-06-04 11:35:30,484 - INFO     - build_posterior_wrapper took 0.001670 seconds\n",
      "2022-06-04 11:35:30,486 - INFO     - TPE using 17/17 trials with best loss 2075.279298\n"
     ]
    },
    {
     "name": "stdout",
     "output_type": "stream",
     "text": [
      " 18%|█▊        | 18/100 [00:39<02:38,  1.93s/trial, best loss: 2075.2792980667637]"
     ]
    },
    {
     "name": "stderr",
     "output_type": "stream",
     "text": [
      "2022-06-04 11:35:32,179 - INFO     - build_posterior_wrapper took 0.002956 seconds\n",
      "2022-06-04 11:35:32,181 - INFO     - TPE using 18/18 trials with best loss 2075.279298\n"
     ]
    },
    {
     "name": "stdout",
     "output_type": "stream",
     "text": [
      " 19%|█▉        | 19/100 [00:40<02:27,  1.82s/trial, best loss: 2075.2792980667637]"
     ]
    },
    {
     "name": "stderr",
     "output_type": "stream",
     "text": [
      "2022-06-04 11:35:33,751 - INFO     - build_posterior_wrapper took 0.002107 seconds\n",
      "2022-06-04 11:35:33,752 - INFO     - TPE using 19/19 trials with best loss 2075.279298\n"
     ]
    },
    {
     "name": "stdout",
     "output_type": "stream",
     "text": [
      " 20%|██        | 20/100 [00:42<02:27,  1.84s/trial, best loss: 2075.2792980667637]"
     ]
    },
    {
     "name": "stderr",
     "output_type": "stream",
     "text": [
      "2022-06-04 11:35:35,622 - INFO     - build_posterior_wrapper took 0.002168 seconds\n",
      "2022-06-04 11:35:35,623 - INFO     - TPE using 20/20 trials with best loss 2075.279298\n"
     ]
    },
    {
     "name": "stdout",
     "output_type": "stream",
     "text": [
      " 21%|██        | 21/100 [00:44<02:24,  1.83s/trial, best loss: 2075.2792980667637]"
     ]
    },
    {
     "name": "stderr",
     "output_type": "stream",
     "text": [
      "2022-06-04 11:35:37,447 - INFO     - build_posterior_wrapper took 0.002281 seconds\n",
      "2022-06-04 11:35:37,449 - INFO     - TPE using 21/21 trials with best loss 2075.279298\n"
     ]
    },
    {
     "name": "stdout",
     "output_type": "stream",
     "text": [
      " 22%|██▏       | 22/100 [00:46<02:28,  1.90s/trial, best loss: 2075.2792980667637]"
     ]
    },
    {
     "name": "stderr",
     "output_type": "stream",
     "text": [
      "2022-06-04 11:35:39,496 - INFO     - build_posterior_wrapper took 0.002133 seconds\n",
      "2022-06-04 11:35:39,499 - INFO     - TPE using 22/22 trials with best loss 2075.279298\n"
     ]
    },
    {
     "name": "stdout",
     "output_type": "stream",
     "text": [
      " 23%|██▎       | 23/100 [00:48<02:33,  2.00s/trial, best loss: 2075.2792980667637]"
     ]
    },
    {
     "name": "stderr",
     "output_type": "stream",
     "text": [
      "2022-06-04 11:35:41,717 - INFO     - build_posterior_wrapper took 0.001236 seconds\n",
      "2022-06-04 11:35:41,719 - INFO     - TPE using 23/23 trials with best loss 2075.279298\n"
     ]
    },
    {
     "name": "stdout",
     "output_type": "stream",
     "text": [
      " 24%|██▍       | 24/100 [00:50<02:33,  2.02s/trial, best loss: 2075.2792980667637]"
     ]
    },
    {
     "name": "stderr",
     "output_type": "stream",
     "text": [
      "2022-06-04 11:35:43,806 - INFO     - build_posterior_wrapper took 0.001359 seconds\n",
      "2022-06-04 11:35:43,807 - INFO     - TPE using 24/24 trials with best loss 2075.279298\n"
     ]
    },
    {
     "name": "stdout",
     "output_type": "stream",
     "text": [
      " 25%|██▌       | 25/100 [00:53<02:38,  2.11s/trial, best loss: 2045.8890163033404]"
     ]
    },
    {
     "name": "stderr",
     "output_type": "stream",
     "text": [
      "2022-06-04 11:35:46,126 - INFO     - build_posterior_wrapper took 0.002182 seconds\n",
      "2022-06-04 11:35:46,129 - INFO     - TPE using 25/25 trials with best loss 2045.889016\n"
     ]
    },
    {
     "name": "stdout",
     "output_type": "stream",
     "text": [
      " 26%|██▌       | 26/100 [00:55<02:33,  2.08s/trial, best loss: 2045.8890163033404]"
     ]
    },
    {
     "name": "stderr",
     "output_type": "stream",
     "text": [
      "2022-06-04 11:35:48,128 - INFO     - build_posterior_wrapper took 0.001516 seconds\n",
      "2022-06-04 11:35:48,130 - INFO     - TPE using 26/26 trials with best loss 2045.889016\n"
     ]
    },
    {
     "name": "stdout",
     "output_type": "stream",
     "text": [
      " 27%|██▋       | 27/100 [00:57<02:32,  2.08s/trial, best loss: 2045.8890163033404]"
     ]
    },
    {
     "name": "stderr",
     "output_type": "stream",
     "text": [
      "2022-06-04 11:35:50,225 - INFO     - build_posterior_wrapper took 0.002603 seconds\n",
      "2022-06-04 11:35:50,227 - INFO     - TPE using 27/27 trials with best loss 2045.889016\n"
     ]
    },
    {
     "name": "stdout",
     "output_type": "stream",
     "text": [
      " 28%|██▊       | 28/100 [00:59<02:34,  2.14s/trial, best loss: 2045.8890163033404]"
     ]
    },
    {
     "name": "stderr",
     "output_type": "stream",
     "text": [
      "2022-06-04 11:35:52,498 - INFO     - build_posterior_wrapper took 0.001856 seconds\n",
      "2022-06-04 11:35:52,501 - INFO     - TPE using 28/28 trials with best loss 2045.889016\n"
     ]
    },
    {
     "name": "stdout",
     "output_type": "stream",
     "text": [
      " 29%|██▉       | 29/100 [01:01<02:26,  2.06s/trial, best loss: 2045.8890163033404]"
     ]
    },
    {
     "name": "stderr",
     "output_type": "stream",
     "text": [
      "2022-06-04 11:35:54,386 - INFO     - build_posterior_wrapper took 0.002700 seconds\n",
      "2022-06-04 11:35:54,388 - INFO     - TPE using 29/29 trials with best loss 2045.889016\n"
     ]
    },
    {
     "name": "stdout",
     "output_type": "stream",
     "text": [
      " 30%|███       | 30/100 [01:03<02:26,  2.10s/trial, best loss: 2045.8890163033404]"
     ]
    },
    {
     "name": "stderr",
     "output_type": "stream",
     "text": [
      "2022-06-04 11:35:56,568 - INFO     - build_posterior_wrapper took 0.002880 seconds\n",
      "2022-06-04 11:35:56,570 - INFO     - TPE using 30/30 trials with best loss 2045.889016\n"
     ]
    },
    {
     "name": "stdout",
     "output_type": "stream",
     "text": [
      " 31%|███       | 31/100 [01:05<02:24,  2.09s/trial, best loss: 2045.8890163033404]"
     ]
    },
    {
     "name": "stderr",
     "output_type": "stream",
     "text": [
      "2022-06-04 11:35:58,644 - INFO     - build_posterior_wrapper took 0.001364 seconds\n",
      "2022-06-04 11:35:58,645 - INFO     - TPE using 31/31 trials with best loss 2045.889016\n"
     ]
    },
    {
     "name": "stdout",
     "output_type": "stream",
     "text": [
      " 32%|███▏      | 32/100 [01:07<02:23,  2.10s/trial, best loss: 2045.8890163033404]"
     ]
    },
    {
     "name": "stderr",
     "output_type": "stream",
     "text": [
      "2022-06-04 11:36:00,775 - INFO     - build_posterior_wrapper took 0.001979 seconds\n",
      "2022-06-04 11:36:00,777 - INFO     - TPE using 32/32 trials with best loss 2045.889016\n"
     ]
    },
    {
     "name": "stdout",
     "output_type": "stream",
     "text": [
      " 33%|███▎      | 33/100 [01:10<02:23,  2.15s/trial, best loss: 2045.8010485642158]"
     ]
    },
    {
     "name": "stderr",
     "output_type": "stream",
     "text": [
      "2022-06-04 11:36:03,022 - INFO     - build_posterior_wrapper took 0.001917 seconds\n",
      "2022-06-04 11:36:03,023 - INFO     - TPE using 33/33 trials with best loss 2045.801049\n"
     ]
    },
    {
     "name": "stdout",
     "output_type": "stream",
     "text": [
      " 34%|███▍      | 34/100 [01:12<02:18,  2.10s/trial, best loss: 2045.8010485642158]"
     ]
    },
    {
     "name": "stderr",
     "output_type": "stream",
     "text": [
      "2022-06-04 11:36:05,009 - INFO     - build_posterior_wrapper took 0.001085 seconds\n",
      "2022-06-04 11:36:05,011 - INFO     - TPE using 34/34 trials with best loss 2045.801049\n"
     ]
    },
    {
     "name": "stdout",
     "output_type": "stream",
     "text": [
      " 35%|███▌      | 35/100 [01:14<02:19,  2.14s/trial, best loss: 2045.8010485642158]"
     ]
    },
    {
     "name": "stderr",
     "output_type": "stream",
     "text": [
      "2022-06-04 11:36:07,249 - INFO     - build_posterior_wrapper took 0.001369 seconds\n",
      "2022-06-04 11:36:07,250 - INFO     - TPE using 35/35 trials with best loss 2045.801049\n"
     ]
    },
    {
     "name": "stdout",
     "output_type": "stream",
     "text": [
      " 36%|███▌      | 36/100 [01:16<02:14,  2.11s/trial, best loss: 2045.8010485642158]"
     ]
    },
    {
     "name": "stderr",
     "output_type": "stream",
     "text": [
      "2022-06-04 11:36:09,276 - INFO     - build_posterior_wrapper took 0.002343 seconds\n",
      "2022-06-04 11:36:09,278 - INFO     - TPE using 36/36 trials with best loss 2045.801049\n"
     ]
    },
    {
     "name": "stdout",
     "output_type": "stream",
     "text": [
      " 37%|███▋      | 37/100 [01:18<02:07,  2.03s/trial, best loss: 2045.8010485642158]"
     ]
    },
    {
     "name": "stderr",
     "output_type": "stream",
     "text": [
      "2022-06-04 11:36:11,132 - INFO     - build_posterior_wrapper took 0.001887 seconds\n",
      "2022-06-04 11:36:11,134 - INFO     - TPE using 37/37 trials with best loss 2045.801049\n"
     ]
    },
    {
     "name": "stdout",
     "output_type": "stream",
     "text": [
      " 38%|███▊      | 38/100 [01:19<02:01,  1.96s/trial, best loss: 2045.8010485642158]"
     ]
    },
    {
     "name": "stderr",
     "output_type": "stream",
     "text": [
      "2022-06-04 11:36:12,920 - INFO     - build_posterior_wrapper took 0.002311 seconds\n",
      "2022-06-04 11:36:12,921 - INFO     - TPE using 38/38 trials with best loss 2045.801049\n"
     ]
    },
    {
     "name": "stdout",
     "output_type": "stream",
     "text": [
      " 39%|███▉      | 39/100 [01:22<02:02,  2.01s/trial, best loss: 2045.8010485642158]"
     ]
    },
    {
     "name": "stderr",
     "output_type": "stream",
     "text": [
      "2022-06-04 11:36:15,065 - INFO     - build_posterior_wrapper took 0.001786 seconds\n",
      "2022-06-04 11:36:15,066 - INFO     - TPE using 39/39 trials with best loss 2045.801049\n"
     ]
    },
    {
     "name": "stdout",
     "output_type": "stream",
     "text": [
      " 40%|████      | 40/100 [01:24<02:01,  2.03s/trial, best loss: 2045.8010485642158]"
     ]
    },
    {
     "name": "stderr",
     "output_type": "stream",
     "text": [
      "2022-06-04 11:36:17,132 - INFO     - build_posterior_wrapper took 0.001144 seconds\n",
      "2022-06-04 11:36:17,133 - INFO     - TPE using 40/40 trials with best loss 2045.801049\n"
     ]
    },
    {
     "name": "stdout",
     "output_type": "stream",
     "text": [
      " 41%|████      | 41/100 [01:26<02:02,  2.08s/trial, best loss: 2045.8010485642158]"
     ]
    },
    {
     "name": "stderr",
     "output_type": "stream",
     "text": [
      "2022-06-04 11:36:19,312 - INFO     - build_posterior_wrapper took 0.001572 seconds\n",
      "2022-06-04 11:36:19,314 - INFO     - TPE using 41/41 trials with best loss 2045.801049\n"
     ]
    },
    {
     "name": "stdout",
     "output_type": "stream",
     "text": [
      " 42%|████▏     | 42/100 [01:28<01:56,  2.01s/trial, best loss: 2045.8010485642158]"
     ]
    },
    {
     "name": "stderr",
     "output_type": "stream",
     "text": [
      "2022-06-04 11:36:21,159 - INFO     - build_posterior_wrapper took 0.002697 seconds\n",
      "2022-06-04 11:36:21,161 - INFO     - TPE using 42/42 trials with best loss 2045.801049\n"
     ]
    },
    {
     "name": "stdout",
     "output_type": "stream",
     "text": [
      " 43%|████▎     | 43/100 [01:30<01:53,  1.99s/trial, best loss: 2045.8010485642158]"
     ]
    },
    {
     "name": "stderr",
     "output_type": "stream",
     "text": [
      "2022-06-04 11:36:23,127 - INFO     - build_posterior_wrapper took 0.002934 seconds\n",
      "2022-06-04 11:36:23,130 - INFO     - TPE using 43/43 trials with best loss 2045.801049\n"
     ]
    },
    {
     "name": "stdout",
     "output_type": "stream",
     "text": [
      " 44%|████▍     | 44/100 [01:32<01:55,  2.06s/trial, best loss: 2045.8010485642158]"
     ]
    },
    {
     "name": "stderr",
     "output_type": "stream",
     "text": [
      "2022-06-04 11:36:25,337 - INFO     - build_posterior_wrapper took 0.002368 seconds\n",
      "2022-06-04 11:36:25,339 - INFO     - TPE using 44/44 trials with best loss 2045.801049\n"
     ]
    },
    {
     "name": "stdout",
     "output_type": "stream",
     "text": [
      " 45%|████▌     | 45/100 [01:34<01:52,  2.05s/trial, best loss: 2045.8010485642158]"
     ]
    },
    {
     "name": "stderr",
     "output_type": "stream",
     "text": [
      "2022-06-04 11:36:27,356 - INFO     - build_posterior_wrapper took 0.003005 seconds\n",
      "2022-06-04 11:36:27,358 - INFO     - TPE using 45/45 trials with best loss 2045.801049\n"
     ]
    },
    {
     "name": "stdout",
     "output_type": "stream",
     "text": [
      " 46%|████▌     | 46/100 [01:36<01:51,  2.07s/trial, best loss: 2045.8010485642158]"
     ]
    },
    {
     "name": "stderr",
     "output_type": "stream",
     "text": [
      "2022-06-04 11:36:29,472 - INFO     - build_posterior_wrapper took 0.001483 seconds\n",
      "2022-06-04 11:36:29,473 - INFO     - TPE using 46/46 trials with best loss 2045.801049\n"
     ]
    },
    {
     "name": "stdout",
     "output_type": "stream",
     "text": [
      " 47%|████▋     | 47/100 [01:38<01:46,  2.01s/trial, best loss: 2045.8010485642158]"
     ]
    },
    {
     "name": "stderr",
     "output_type": "stream",
     "text": [
      "2022-06-04 11:36:31,350 - INFO     - build_posterior_wrapper took 0.002242 seconds\n",
      "2022-06-04 11:36:31,352 - INFO     - TPE using 47/47 trials with best loss 2045.801049\n"
     ]
    },
    {
     "name": "stdout",
     "output_type": "stream",
     "text": [
      " 48%|████▊     | 48/100 [01:40<01:47,  2.06s/trial, best loss: 2045.8010485642158]"
     ]
    },
    {
     "name": "stderr",
     "output_type": "stream",
     "text": [
      "2022-06-04 11:36:33,523 - INFO     - build_posterior_wrapper took 0.001759 seconds\n",
      "2022-06-04 11:36:33,525 - INFO     - TPE using 48/48 trials with best loss 2045.801049\n"
     ]
    },
    {
     "name": "stdout",
     "output_type": "stream",
     "text": [
      " 49%|████▉     | 49/100 [01:42<01:42,  2.01s/trial, best loss: 2045.8010485642158]"
     ]
    },
    {
     "name": "stderr",
     "output_type": "stream",
     "text": [
      "2022-06-04 11:36:35,401 - INFO     - build_posterior_wrapper took 0.001062 seconds\n",
      "2022-06-04 11:36:35,403 - INFO     - TPE using 49/49 trials with best loss 2045.801049\n"
     ]
    },
    {
     "name": "stdout",
     "output_type": "stream",
     "text": [
      " 50%|█████     | 50/100 [01:44<01:40,  2.00s/trial, best loss: 2045.8010485642158]"
     ]
    },
    {
     "name": "stderr",
     "output_type": "stream",
     "text": [
      "2022-06-04 11:36:37,394 - INFO     - build_posterior_wrapper took 0.002864 seconds\n",
      "2022-06-04 11:36:37,396 - INFO     - TPE using 50/50 trials with best loss 2045.801049\n"
     ]
    },
    {
     "name": "stdout",
     "output_type": "stream",
     "text": [
      " 51%|█████     | 51/100 [01:46<01:33,  1.92s/trial, best loss: 2045.8010485642158]"
     ]
    },
    {
     "name": "stderr",
     "output_type": "stream",
     "text": [
      "2022-06-04 11:36:39,112 - INFO     - build_posterior_wrapper took 0.002566 seconds\n",
      "2022-06-04 11:36:39,114 - INFO     - TPE using 51/51 trials with best loss 2045.801049\n"
     ]
    },
    {
     "name": "stdout",
     "output_type": "stream",
     "text": [
      " 52%|█████▏    | 52/100 [01:48<01:33,  1.95s/trial, best loss: 2045.8010485642158]"
     ]
    },
    {
     "name": "stderr",
     "output_type": "stream",
     "text": [
      "2022-06-04 11:36:41,124 - INFO     - build_posterior_wrapper took 0.002715 seconds\n",
      "2022-06-04 11:36:41,126 - INFO     - TPE using 52/52 trials with best loss 2045.801049\n"
     ]
    },
    {
     "name": "stdout",
     "output_type": "stream",
     "text": [
      " 53%|█████▎    | 53/100 [01:50<01:37,  2.07s/trial, best loss: 2045.8010485642158]"
     ]
    },
    {
     "name": "stderr",
     "output_type": "stream",
     "text": [
      "2022-06-04 11:36:43,472 - INFO     - build_posterior_wrapper took 0.002859 seconds\n",
      "2022-06-04 11:36:43,473 - INFO     - TPE using 53/53 trials with best loss 2045.801049\n"
     ]
    },
    {
     "name": "stdout",
     "output_type": "stream",
     "text": [
      " 54%|█████▍    | 54/100 [01:52<01:28,  1.93s/trial, best loss: 2045.8010485642158]"
     ]
    },
    {
     "name": "stderr",
     "output_type": "stream",
     "text": [
      "2022-06-04 11:36:45,068 - INFO     - build_posterior_wrapper took 0.001246 seconds\n",
      "2022-06-04 11:36:45,071 - INFO     - TPE using 54/54 trials with best loss 2045.801049\n"
     ]
    },
    {
     "name": "stdout",
     "output_type": "stream",
     "text": [
      " 55%|█████▌    | 55/100 [01:53<01:22,  1.84s/trial, best loss: 2045.8010485642158]"
     ]
    },
    {
     "name": "stderr",
     "output_type": "stream",
     "text": [
      "2022-06-04 11:36:46,708 - INFO     - build_posterior_wrapper took 0.002154 seconds\n",
      "2022-06-04 11:36:46,710 - INFO     - TPE using 55/55 trials with best loss 2045.801049\n"
     ]
    },
    {
     "name": "stdout",
     "output_type": "stream",
     "text": [
      " 56%|█████▌    | 56/100 [01:55<01:25,  1.93s/trial, best loss: 2045.8010485642158]"
     ]
    },
    {
     "name": "stderr",
     "output_type": "stream",
     "text": [
      "2022-06-04 11:36:48,858 - INFO     - build_posterior_wrapper took 0.002226 seconds\n",
      "2022-06-04 11:36:48,860 - INFO     - TPE using 56/56 trials with best loss 2045.801049\n"
     ]
    },
    {
     "name": "stdout",
     "output_type": "stream",
     "text": [
      " 57%|█████▋    | 57/100 [01:57<01:24,  1.96s/trial, best loss: 2045.8010485642158]"
     ]
    },
    {
     "name": "stderr",
     "output_type": "stream",
     "text": [
      "2022-06-04 11:36:50,868 - INFO     - build_posterior_wrapper took 0.001979 seconds\n",
      "2022-06-04 11:36:50,870 - INFO     - TPE using 57/57 trials with best loss 2045.801049\n"
     ]
    },
    {
     "name": "stdout",
     "output_type": "stream",
     "text": [
      " 58%|█████▊    | 58/100 [01:59<01:23,  2.00s/trial, best loss: 2045.8010485642158]"
     ]
    },
    {
     "name": "stderr",
     "output_type": "stream",
     "text": [
      "2022-06-04 11:36:52,970 - INFO     - build_posterior_wrapper took 0.001777 seconds\n",
      "2022-06-04 11:36:52,972 - INFO     - TPE using 58/58 trials with best loss 2045.801049\n"
     ]
    },
    {
     "name": "stdout",
     "output_type": "stream",
     "text": [
      " 59%|█████▉    | 59/100 [02:01<01:19,  1.94s/trial, best loss: 2045.8010485642158]"
     ]
    },
    {
     "name": "stderr",
     "output_type": "stream",
     "text": [
      "2022-06-04 11:36:54,759 - INFO     - build_posterior_wrapper took 0.001809 seconds\n",
      "2022-06-04 11:36:54,762 - INFO     - TPE using 59/59 trials with best loss 2045.801049\n"
     ]
    },
    {
     "name": "stdout",
     "output_type": "stream",
     "text": [
      " 60%|██████    | 60/100 [02:03<01:20,  2.02s/trial, best loss: 2045.8010485642158]"
     ]
    },
    {
     "name": "stderr",
     "output_type": "stream",
     "text": [
      "2022-06-04 11:36:56,986 - INFO     - build_posterior_wrapper took 0.001975 seconds\n",
      "2022-06-04 11:36:56,989 - INFO     - TPE using 60/60 trials with best loss 2045.801049\n"
     ]
    },
    {
     "name": "stdout",
     "output_type": "stream",
     "text": [
      " 61%|██████    | 61/100 [02:06<01:21,  2.10s/trial, best loss: 2045.8010485642158]"
     ]
    },
    {
     "name": "stderr",
     "output_type": "stream",
     "text": [
      "2022-06-04 11:36:59,248 - INFO     - build_posterior_wrapper took 0.001695 seconds\n",
      "2022-06-04 11:36:59,250 - INFO     - TPE using 61/61 trials with best loss 2045.801049\n"
     ]
    },
    {
     "name": "stdout",
     "output_type": "stream",
     "text": [
      " 62%|██████▏   | 62/100 [02:07<01:13,  1.92s/trial, best loss: 2045.8010485642158]"
     ]
    },
    {
     "name": "stderr",
     "output_type": "stream",
     "text": [
      "2022-06-04 11:37:00,763 - INFO     - build_posterior_wrapper took 0.001567 seconds\n",
      "2022-06-04 11:37:00,764 - INFO     - TPE using 62/62 trials with best loss 2045.801049\n"
     ]
    },
    {
     "name": "stdout",
     "output_type": "stream",
     "text": [
      " 63%|██████▎   | 63/100 [02:09<01:08,  1.84s/trial, best loss: 2045.8010485642158]"
     ]
    },
    {
     "name": "stderr",
     "output_type": "stream",
     "text": [
      "2022-06-04 11:37:02,420 - INFO     - build_posterior_wrapper took 0.001563 seconds\n",
      "2022-06-04 11:37:02,421 - INFO     - TPE using 63/63 trials with best loss 2045.801049\n"
     ]
    },
    {
     "name": "stdout",
     "output_type": "stream",
     "text": [
      " 64%|██████▍   | 64/100 [02:11<01:03,  1.77s/trial, best loss: 2045.8010485642158]"
     ]
    },
    {
     "name": "stderr",
     "output_type": "stream",
     "text": [
      "2022-06-04 11:37:04,020 - INFO     - build_posterior_wrapper took 0.002589 seconds\n",
      "2022-06-04 11:37:04,022 - INFO     - TPE using 64/64 trials with best loss 2045.801049\n"
     ]
    },
    {
     "name": "stdout",
     "output_type": "stream",
     "text": [
      " 65%|██████▌   | 65/100 [02:12<01:03,  1.82s/trial, best loss: 2045.8010485642158]"
     ]
    },
    {
     "name": "stderr",
     "output_type": "stream",
     "text": [
      "2022-06-04 11:37:05,974 - INFO     - build_posterior_wrapper took 0.002421 seconds\n",
      "2022-06-04 11:37:05,976 - INFO     - TPE using 65/65 trials with best loss 2045.801049\n"
     ]
    },
    {
     "name": "stdout",
     "output_type": "stream",
     "text": [
      " 66%|██████▌   | 66/100 [02:15<01:07,  1.97s/trial, best loss: 2045.8010485642158]"
     ]
    },
    {
     "name": "stderr",
     "output_type": "stream",
     "text": [
      "2022-06-04 11:37:08,286 - INFO     - build_posterior_wrapper took 0.002027 seconds\n",
      "2022-06-04 11:37:08,287 - INFO     - TPE using 66/66 trials with best loss 2045.801049\n"
     ]
    },
    {
     "name": "stdout",
     "output_type": "stream",
     "text": [
      " 67%|██████▋   | 67/100 [02:17<01:08,  2.06s/trial, best loss: 2045.8010485642158]"
     ]
    },
    {
     "name": "stderr",
     "output_type": "stream",
     "text": [
      "2022-06-04 11:37:10,565 - INFO     - build_posterior_wrapper took 0.002259 seconds\n",
      "2022-06-04 11:37:10,567 - INFO     - TPE using 67/67 trials with best loss 2045.801049\n"
     ]
    },
    {
     "name": "stdout",
     "output_type": "stream",
     "text": [
      " 68%|██████▊   | 68/100 [02:19<01:05,  2.05s/trial, best loss: 2045.8010485642158]"
     ]
    },
    {
     "name": "stderr",
     "output_type": "stream",
     "text": [
      "2022-06-04 11:37:12,585 - INFO     - build_posterior_wrapper took 0.001587 seconds\n",
      "2022-06-04 11:37:12,587 - INFO     - TPE using 68/68 trials with best loss 2045.801049\n"
     ]
    },
    {
     "name": "stdout",
     "output_type": "stream",
     "text": [
      " 69%|██████▉   | 69/100 [02:21<01:02,  2.01s/trial, best loss: 2045.8010485642158]"
     ]
    },
    {
     "name": "stderr",
     "output_type": "stream",
     "text": [
      "2022-06-04 11:37:14,516 - INFO     - build_posterior_wrapper took 0.001657 seconds\n",
      "2022-06-04 11:37:14,518 - INFO     - TPE using 69/69 trials with best loss 2045.801049\n"
     ]
    },
    {
     "name": "stdout",
     "output_type": "stream",
     "text": [
      " 70%|███████   | 70/100 [02:23<00:58,  1.94s/trial, best loss: 2045.8010485642158]"
     ]
    },
    {
     "name": "stderr",
     "output_type": "stream",
     "text": [
      "2022-06-04 11:37:16,294 - INFO     - build_posterior_wrapper took 0.001857 seconds\n",
      "2022-06-04 11:37:16,296 - INFO     - TPE using 70/70 trials with best loss 2045.801049\n"
     ]
    },
    {
     "name": "stdout",
     "output_type": "stream",
     "text": [
      " 71%|███████   | 71/100 [02:25<00:56,  1.95s/trial, best loss: 2045.8010485642158]"
     ]
    },
    {
     "name": "stderr",
     "output_type": "stream",
     "text": [
      "2022-06-04 11:37:18,271 - INFO     - build_posterior_wrapper took 0.002242 seconds\n",
      "2022-06-04 11:37:18,273 - INFO     - TPE using 71/71 trials with best loss 2045.801049\n"
     ]
    },
    {
     "name": "stdout",
     "output_type": "stream",
     "text": [
      " 72%|███████▏  | 72/100 [02:27<00:53,  1.92s/trial, best loss: 2045.8010485642158]"
     ]
    },
    {
     "name": "stderr",
     "output_type": "stream",
     "text": [
      "2022-06-04 11:37:20,117 - INFO     - build_posterior_wrapper took 0.001744 seconds\n",
      "2022-06-04 11:37:20,118 - INFO     - TPE using 72/72 trials with best loss 2045.801049\n"
     ]
    },
    {
     "name": "stdout",
     "output_type": "stream",
     "text": [
      " 73%|███████▎  | 73/100 [02:29<00:52,  1.96s/trial, best loss: 2045.8010485642158]"
     ]
    },
    {
     "name": "stderr",
     "output_type": "stream",
     "text": [
      "2022-06-04 11:37:22,152 - INFO     - build_posterior_wrapper took 0.002280 seconds\n",
      "2022-06-04 11:37:22,155 - INFO     - TPE using 73/73 trials with best loss 2045.801049\n"
     ]
    },
    {
     "name": "stdout",
     "output_type": "stream",
     "text": [
      " 74%|███████▍  | 74/100 [02:31<00:50,  1.94s/trial, best loss: 2045.8010485642158]"
     ]
    },
    {
     "name": "stderr",
     "output_type": "stream",
     "text": [
      "2022-06-04 11:37:24,048 - INFO     - build_posterior_wrapper took 0.001241 seconds\n",
      "2022-06-04 11:37:24,050 - INFO     - TPE using 74/74 trials with best loss 2045.801049\n"
     ]
    },
    {
     "name": "stdout",
     "output_type": "stream",
     "text": [
      " 75%|███████▌  | 75/100 [02:32<00:47,  1.88s/trial, best loss: 2045.8010485642158]"
     ]
    },
    {
     "name": "stderr",
     "output_type": "stream",
     "text": [
      "2022-06-04 11:37:25,794 - INFO     - build_posterior_wrapper took 0.001568 seconds\n",
      "2022-06-04 11:37:25,797 - INFO     - TPE using 75/75 trials with best loss 2045.801049\n"
     ]
    },
    {
     "name": "stdout",
     "output_type": "stream",
     "text": [
      " 76%|███████▌  | 76/100 [02:34<00:47,  1.96s/trial, best loss: 2045.8010485642158]"
     ]
    },
    {
     "name": "stderr",
     "output_type": "stream",
     "text": [
      "2022-06-04 11:37:27,936 - INFO     - build_posterior_wrapper took 0.002208 seconds\n",
      "2022-06-04 11:37:27,937 - INFO     - TPE using 76/76 trials with best loss 2045.801049\n"
     ]
    },
    {
     "name": "stdout",
     "output_type": "stream",
     "text": [
      " 77%|███████▋  | 77/100 [02:37<00:47,  2.04s/trial, best loss: 2045.8010485642158]"
     ]
    },
    {
     "name": "stderr",
     "output_type": "stream",
     "text": [
      "2022-06-04 11:37:30,177 - INFO     - build_posterior_wrapper took 0.001906 seconds\n",
      "2022-06-04 11:37:30,179 - INFO     - TPE using 77/77 trials with best loss 2045.801049\n"
     ]
    },
    {
     "name": "stdout",
     "output_type": "stream",
     "text": [
      " 78%|███████▊  | 78/100 [02:38<00:42,  1.95s/trial, best loss: 2045.8010485642158]"
     ]
    },
    {
     "name": "stderr",
     "output_type": "stream",
     "text": [
      "2022-06-04 11:37:31,917 - INFO     - build_posterior_wrapper took 0.001782 seconds\n",
      "2022-06-04 11:37:31,919 - INFO     - TPE using 78/78 trials with best loss 2045.801049\n"
     ]
    },
    {
     "name": "stdout",
     "output_type": "stream",
     "text": [
      " 79%|███████▉  | 79/100 [02:41<00:42,  2.02s/trial, best loss: 2045.8010485642158]"
     ]
    },
    {
     "name": "stderr",
     "output_type": "stream",
     "text": [
      "2022-06-04 11:37:34,110 - INFO     - build_posterior_wrapper took 0.003068 seconds\n",
      "2022-06-04 11:37:34,112 - INFO     - TPE using 79/79 trials with best loss 2045.801049\n"
     ]
    },
    {
     "name": "stdout",
     "output_type": "stream",
     "text": [
      " 80%|████████  | 80/100 [02:43<00:41,  2.06s/trial, best loss: 2045.8010485642158]"
     ]
    },
    {
     "name": "stderr",
     "output_type": "stream",
     "text": [
      "2022-06-04 11:37:36,254 - INFO     - build_posterior_wrapper took 0.001628 seconds\n",
      "2022-06-04 11:37:36,256 - INFO     - TPE using 80/80 trials with best loss 2045.801049\n"
     ]
    },
    {
     "name": "stdout",
     "output_type": "stream",
     "text": [
      " 81%|████████  | 81/100 [02:45<00:38,  2.05s/trial, best loss: 2045.8010485642158]"
     ]
    },
    {
     "name": "stderr",
     "output_type": "stream",
     "text": [
      "2022-06-04 11:37:38,276 - INFO     - build_posterior_wrapper took 0.001982 seconds\n",
      "2022-06-04 11:37:38,278 - INFO     - TPE using 81/81 trials with best loss 2045.801049\n"
     ]
    },
    {
     "name": "stdout",
     "output_type": "stream",
     "text": [
      " 82%|████████▏ | 82/100 [02:46<00:34,  1.92s/trial, best loss: 2045.8010485642158]"
     ]
    },
    {
     "name": "stderr",
     "output_type": "stream",
     "text": [
      "2022-06-04 11:37:39,897 - INFO     - build_posterior_wrapper took 0.002290 seconds\n",
      "2022-06-04 11:37:39,900 - INFO     - TPE using 82/82 trials with best loss 2045.801049\n"
     ]
    },
    {
     "name": "stdout",
     "output_type": "stream",
     "text": [
      " 83%|████████▎ | 83/100 [02:48<00:31,  1.85s/trial, best loss: 2045.8010485642158]"
     ]
    },
    {
     "name": "stderr",
     "output_type": "stream",
     "text": [
      "2022-06-04 11:37:41,575 - INFO     - build_posterior_wrapper took 0.002060 seconds\n",
      "2022-06-04 11:37:41,578 - INFO     - TPE using 83/83 trials with best loss 2045.801049\n"
     ]
    },
    {
     "name": "stdout",
     "output_type": "stream",
     "text": [
      " 84%|████████▍ | 84/100 [02:50<00:31,  1.97s/trial, best loss: 2045.8010485642158]"
     ]
    },
    {
     "name": "stderr",
     "output_type": "stream",
     "text": [
      "2022-06-04 11:37:43,815 - INFO     - build_posterior_wrapper took 0.001399 seconds\n",
      "2022-06-04 11:37:43,817 - INFO     - TPE using 84/84 trials with best loss 2045.801049\n"
     ]
    },
    {
     "name": "stdout",
     "output_type": "stream",
     "text": [
      " 85%|████████▌ | 85/100 [02:52<00:28,  1.91s/trial, best loss: 2045.8010485642158]"
     ]
    },
    {
     "name": "stderr",
     "output_type": "stream",
     "text": [
      "2022-06-04 11:37:45,602 - INFO     - build_posterior_wrapper took 0.001985 seconds\n",
      "2022-06-04 11:37:45,604 - INFO     - TPE using 85/85 trials with best loss 2045.801049\n"
     ]
    },
    {
     "name": "stdout",
     "output_type": "stream",
     "text": [
      " 86%|████████▌ | 86/100 [02:54<00:27,  1.96s/trial, best loss: 2045.8010485642158]"
     ]
    },
    {
     "name": "stderr",
     "output_type": "stream",
     "text": [
      "2022-06-04 11:37:47,670 - INFO     - build_posterior_wrapper took 0.001308 seconds\n",
      "2022-06-04 11:37:47,671 - INFO     - TPE using 86/86 trials with best loss 2045.801049\n"
     ]
    },
    {
     "name": "stdout",
     "output_type": "stream",
     "text": [
      " 87%|████████▋ | 87/100 [02:56<00:25,  1.98s/trial, best loss: 2045.8010485642158]"
     ]
    },
    {
     "name": "stderr",
     "output_type": "stream",
     "text": [
      "2022-06-04 11:37:49,708 - INFO     - build_posterior_wrapper took 0.002057 seconds\n",
      "2022-06-04 11:37:49,711 - INFO     - TPE using 87/87 trials with best loss 2045.801049\n"
     ]
    },
    {
     "name": "stdout",
     "output_type": "stream",
     "text": [
      " 88%|████████▊ | 88/100 [02:58<00:24,  2.02s/trial, best loss: 2045.8010485642158]"
     ]
    },
    {
     "name": "stderr",
     "output_type": "stream",
     "text": [
      "2022-06-04 11:37:51,807 - INFO     - build_posterior_wrapper took 0.001290 seconds\n",
      "2022-06-04 11:37:51,808 - INFO     - TPE using 88/88 trials with best loss 2045.801049\n"
     ]
    },
    {
     "name": "stdout",
     "output_type": "stream",
     "text": [
      " 89%|████████▉ | 89/100 [03:00<00:22,  2.06s/trial, best loss: 2045.8010485642158]"
     ]
    },
    {
     "name": "stderr",
     "output_type": "stream",
     "text": [
      "2022-06-04 11:37:53,978 - INFO     - build_posterior_wrapper took 0.001796 seconds\n",
      "2022-06-04 11:37:53,982 - INFO     - TPE using 89/89 trials with best loss 2045.801049\n"
     ]
    },
    {
     "name": "stdout",
     "output_type": "stream",
     "text": [
      " 90%|█████████ | 90/100 [03:02<00:20,  2.02s/trial, best loss: 2045.8010485642158]"
     ]
    },
    {
     "name": "stderr",
     "output_type": "stream",
     "text": [
      "2022-06-04 11:37:55,888 - INFO     - build_posterior_wrapper took 0.001818 seconds\n",
      "2022-06-04 11:37:55,890 - INFO     - TPE using 90/90 trials with best loss 2045.801049\n"
     ]
    },
    {
     "name": "stdout",
     "output_type": "stream",
     "text": [
      " 91%|█████████ | 91/100 [03:05<00:18,  2.07s/trial, best loss: 2045.8010485642158]"
     ]
    },
    {
     "name": "stderr",
     "output_type": "stream",
     "text": [
      "2022-06-04 11:37:58,081 - INFO     - build_posterior_wrapper took 0.001210 seconds\n",
      "2022-06-04 11:37:58,082 - INFO     - TPE using 91/91 trials with best loss 2045.801049\n"
     ]
    },
    {
     "name": "stdout",
     "output_type": "stream",
     "text": [
      " 92%|█████████▏| 92/100 [03:07<00:16,  2.12s/trial, best loss: 2043.956337720058] "
     ]
    },
    {
     "name": "stderr",
     "output_type": "stream",
     "text": [
      "2022-06-04 11:38:00,303 - INFO     - build_posterior_wrapper took 0.001039 seconds\n",
      "2022-06-04 11:38:00,304 - INFO     - TPE using 92/92 trials with best loss 2043.956338\n"
     ]
    },
    {
     "name": "stdout",
     "output_type": "stream",
     "text": [
      " 93%|█████████▎| 93/100 [03:09<00:15,  2.16s/trial, best loss: 2043.956337720058]"
     ]
    },
    {
     "name": "stderr",
     "output_type": "stream",
     "text": [
      "2022-06-04 11:38:02,552 - INFO     - build_posterior_wrapper took 0.001879 seconds\n",
      "2022-06-04 11:38:02,554 - INFO     - TPE using 93/93 trials with best loss 2043.956338\n"
     ]
    },
    {
     "name": "stdout",
     "output_type": "stream",
     "text": [
      " 94%|█████████▍| 94/100 [03:11<00:12,  2.14s/trial, best loss: 2043.956337720058]"
     ]
    },
    {
     "name": "stderr",
     "output_type": "stream",
     "text": [
      "2022-06-04 11:38:04,666 - INFO     - build_posterior_wrapper took 0.002780 seconds\n",
      "2022-06-04 11:38:04,667 - INFO     - TPE using 94/94 trials with best loss 2043.956338\n"
     ]
    },
    {
     "name": "stdout",
     "output_type": "stream",
     "text": [
      " 95%|█████████▌| 95/100 [03:13<00:10,  2.19s/trial, best loss: 2043.956337720058]"
     ]
    },
    {
     "name": "stderr",
     "output_type": "stream",
     "text": [
      "2022-06-04 11:38:06,967 - INFO     - build_posterior_wrapper took 0.001766 seconds\n",
      "2022-06-04 11:38:06,970 - INFO     - TPE using 95/95 trials with best loss 2043.956338\n"
     ]
    },
    {
     "name": "stdout",
     "output_type": "stream",
     "text": [
      " 96%|█████████▌| 96/100 [03:16<00:08,  2.19s/trial, best loss: 2043.956337720058]"
     ]
    },
    {
     "name": "stderr",
     "output_type": "stream",
     "text": [
      "2022-06-04 11:38:09,156 - INFO     - build_posterior_wrapper took 0.002769 seconds\n",
      "2022-06-04 11:38:09,157 - INFO     - TPE using 96/96 trials with best loss 2043.956338\n"
     ]
    },
    {
     "name": "stdout",
     "output_type": "stream",
     "text": [
      " 97%|█████████▋| 97/100 [03:18<00:06,  2.22s/trial, best loss: 2043.956337720058]"
     ]
    },
    {
     "name": "stderr",
     "output_type": "stream",
     "text": [
      "2022-06-04 11:38:11,460 - INFO     - build_posterior_wrapper took 0.001044 seconds\n",
      "2022-06-04 11:38:11,461 - INFO     - TPE using 97/97 trials with best loss 2043.956338\n"
     ]
    },
    {
     "name": "stdout",
     "output_type": "stream",
     "text": [
      " 98%|█████████▊| 98/100 [03:20<00:04,  2.22s/trial, best loss: 2043.956337720058]"
     ]
    },
    {
     "name": "stderr",
     "output_type": "stream",
     "text": [
      "2022-06-04 11:38:13,666 - INFO     - build_posterior_wrapper took 0.002400 seconds\n",
      "2022-06-04 11:38:13,669 - INFO     - TPE using 98/98 trials with best loss 2043.956338\n"
     ]
    },
    {
     "name": "stdout",
     "output_type": "stream",
     "text": [
      " 99%|█████████▉| 99/100 [03:22<00:02,  2.21s/trial, best loss: 2043.956337720058]"
     ]
    },
    {
     "name": "stderr",
     "output_type": "stream",
     "text": [
      "2022-06-04 11:38:15,858 - INFO     - build_posterior_wrapper took 0.001756 seconds\n",
      "2022-06-04 11:38:15,860 - INFO     - TPE using 99/99 trials with best loss 2043.956338\n"
     ]
    },
    {
     "name": "stdout",
     "output_type": "stream",
     "text": [
      "100%|██████████| 100/100 [03:25<00:00,  2.05s/trial, best loss: 2043.956337720058]\n"
     ]
    }
   ],
   "source": [
    "# запускаем hyperopt\n",
    "trials_dt = Trials()\n",
    "best_dt = fmin( \n",
    "          # функция для оптимизации  \n",
    "            fn=partial(objective, pipeline=dt_model_base, X_train=train_features, y_train=train_target),\n",
    "          # пространство поиска гиперпараметров  \n",
    "            space=params_dt,\n",
    "          # алгоритм поиска\n",
    "            algo=tpe.suggest,\n",
    "          # число итераций \n",
    "          # (можно ещё указать и время поиска) \n",
    "            max_evals=100,\n",
    "          # куда сохранять историю поиска\n",
    "            trials=trials_dt,\n",
    "          # random state\n",
    "            rstate=np.random.default_rng(1),\n",
    "          # progressbar\n",
    "            show_progressbar=True\n",
    "        )"
   ]
  },
  {
   "cell_type": "code",
   "execution_count": 92,
   "metadata": {},
   "outputs": [
    {
     "name": "stdout",
     "output_type": "stream",
     "text": [
      "Гиперпараметры для лучшего дерева решений: {'max_depth': 10, 'max_leaf_nodes': 99, 'min_samples_leaf': 2}\n"
     ]
    }
   ],
   "source": [
    "# запишем новую оптимизированную модель дерева решений\n",
    "dt_model_opt = DecisionTreeRegressor(**best_dt, random_state=1)\n",
    "print('Гиперпараметры для лучшего дерева решений:', best_dt)"
   ]
  },
  {
   "cell_type": "code",
   "execution_count": 93,
   "metadata": {},
   "outputs": [],
   "source": [
    "# напишем функцию для отображения результата оптимизации в виде датафрэйма\n",
    "def df_results(hp_results):\n",
    "    \"\"\"\n",
    "    Отображаем результаты hyperopt в формате DataFrame \n",
    "\n",
    "    :hp_results: результаты hyperop\n",
    "    :return: pandas DataFrame\n",
    "    \"\"\" \n",
    "\n",
    "    results = pd.DataFrame([{**x, **x['params']} for x in  hp_results])\n",
    "    results.drop(labels=['status', 'params'], axis=1, inplace=True)\n",
    "    results.sort_values(by=['loss'], ascending=False, inplace=True)\n",
    "    return results"
   ]
  },
  {
   "cell_type": "code",
   "execution_count": 94,
   "metadata": {},
   "outputs": [
    {
     "data": {
      "text/html": [
       "<div>\n",
       "<style scoped>\n",
       "    .dataframe tbody tr th:only-of-type {\n",
       "        vertical-align: middle;\n",
       "    }\n",
       "\n",
       "    .dataframe tbody tr th {\n",
       "        vertical-align: top;\n",
       "    }\n",
       "\n",
       "    .dataframe thead th {\n",
       "        text-align: right;\n",
       "    }\n",
       "</style>\n",
       "<table border=\"1\" class=\"dataframe\">\n",
       "  <thead>\n",
       "    <tr style=\"text-align: right;\">\n",
       "      <th></th>\n",
       "      <th>loss</th>\n",
       "      <th>max_depth</th>\n",
       "      <th>max_leaf_nodes</th>\n",
       "      <th>min_samples_leaf</th>\n",
       "    </tr>\n",
       "  </thead>\n",
       "  <tbody>\n",
       "    <tr>\n",
       "      <th>74</th>\n",
       "      <td>2,939.34</td>\n",
       "      <td>13</td>\n",
       "      <td>6</td>\n",
       "      <td>15</td>\n",
       "    </tr>\n",
       "    <tr>\n",
       "      <th>63</th>\n",
       "      <td>2,866.93</td>\n",
       "      <td>5</td>\n",
       "      <td>7</td>\n",
       "      <td>10</td>\n",
       "    </tr>\n",
       "    <tr>\n",
       "      <th>9</th>\n",
       "      <td>2,839.16</td>\n",
       "      <td>3</td>\n",
       "      <td>93</td>\n",
       "      <td>11</td>\n",
       "    </tr>\n",
       "    <tr>\n",
       "      <th>81</th>\n",
       "      <td>2,839.16</td>\n",
       "      <td>3</td>\n",
       "      <td>8</td>\n",
       "      <td>7</td>\n",
       "    </tr>\n",
       "    <tr>\n",
       "      <th>18</th>\n",
       "      <td>2,839.16</td>\n",
       "      <td>3</td>\n",
       "      <td>69</td>\n",
       "      <td>2</td>\n",
       "    </tr>\n",
       "    <tr>\n",
       "      <th>...</th>\n",
       "      <td>...</td>\n",
       "      <td>...</td>\n",
       "      <td>...</td>\n",
       "      <td>...</td>\n",
       "    </tr>\n",
       "    <tr>\n",
       "      <th>91</th>\n",
       "      <td>2,043.96</td>\n",
       "      <td>10</td>\n",
       "      <td>99</td>\n",
       "      <td>2</td>\n",
       "    </tr>\n",
       "    <tr>\n",
       "      <th>95</th>\n",
       "      <td>2,043.96</td>\n",
       "      <td>10</td>\n",
       "      <td>99</td>\n",
       "      <td>2</td>\n",
       "    </tr>\n",
       "    <tr>\n",
       "      <th>97</th>\n",
       "      <td>2,043.96</td>\n",
       "      <td>10</td>\n",
       "      <td>99</td>\n",
       "      <td>2</td>\n",
       "    </tr>\n",
       "    <tr>\n",
       "      <th>98</th>\n",
       "      <td>2,043.96</td>\n",
       "      <td>10</td>\n",
       "      <td>99</td>\n",
       "      <td>2</td>\n",
       "    </tr>\n",
       "    <tr>\n",
       "      <th>99</th>\n",
       "      <td>2,043.96</td>\n",
       "      <td>10</td>\n",
       "      <td>99</td>\n",
       "      <td>2</td>\n",
       "    </tr>\n",
       "  </tbody>\n",
       "</table>\n",
       "<p>100 rows × 4 columns</p>\n",
       "</div>"
      ],
      "text/plain": [
       "       loss  max_depth  max_leaf_nodes  min_samples_leaf\n",
       "74 2,939.34         13               6                15\n",
       "63 2,866.93          5               7                10\n",
       "9  2,839.16          3              93                11\n",
       "81 2,839.16          3               8                 7\n",
       "18 2,839.16          3              69                 2\n",
       "..      ...        ...             ...               ...\n",
       "91 2,043.96         10              99                 2\n",
       "95 2,043.96         10              99                 2\n",
       "97 2,043.96         10              99                 2\n",
       "98 2,043.96         10              99                 2\n",
       "99 2,043.96         10              99                 2\n",
       "\n",
       "[100 rows x 4 columns]"
      ]
     },
     "execution_count": 94,
     "metadata": {},
     "output_type": "execute_result"
    }
   ],
   "source": [
    "dt_opt_results = df_results(trials_dt.results)\n",
    "dt_opt_results"
   ]
  },
  {
   "cell_type": "code",
   "execution_count": 96,
   "metadata": {},
   "outputs": [
    {
     "name": "stdout",
     "output_type": "stream",
     "text": [
      "RMSE ОПТИМИЗИРОВАННОГО дерева решений: 2043.96\n"
     ]
    }
   ],
   "source": [
    "print('RMSE ОПТИМИЗИРОВАННОГО дерева решений:', round(dt_opt_results['loss'].min(), 2))"
   ]
  },
  {
   "cell_type": "markdown",
   "metadata": {},
   "source": [
    "Дерево решений с гиперпараметрами max_depth=9, min_samples_leaf=12, max_leaf_nodes=98 выдает наименьшее RMSE равное 2043.96. Оптимизацией гиперпараметров мы ухудшили метрику RMSE.\n",
    "\n",
    "____\n",
    "\n",
    "A decision tree with hyperparameters max_depth=9, min_samples_leaf=12, max_leaf_nodes=98 gives the smallest RMSE equal to 2043.96. By optimizing hyperparameters, we worsened the RMSE metric."
   ]
  },
  {
   "cell_type": "markdown",
   "metadata": {},
   "source": [
    "### Случайный лес / Random forest"
   ]
  },
  {
   "cell_type": "markdown",
   "metadata": {},
   "source": [
    "#### Неоптимизированный случайный лес / Basic random forest"
   ]
  },
  {
   "cell_type": "code",
   "execution_count": 97,
   "metadata": {},
   "outputs": [
    {
     "name": "stdout",
     "output_type": "stream",
     "text": [
      "RMSE НЕОПТИМИЗИРОВАННОГО случайного леса (кросс-валидация, k=5): 1545.24\n"
     ]
    }
   ],
   "source": [
    "rf_model_base = RandomForestRegressor(random_state=1)\n",
    "\n",
    "cv_score_rf_base = abs(cross_val_score(rf_model_base, train_features,\n",
    "                                  train_target, cv=folds,\n",
    "                                  scoring='neg_root_mean_squared_error').mean())\n",
    "\n",
    "print('RMSE НЕОПТИМИЗИРОВАННОГО случайного леса (кросс-валидация, k=5):', round(cv_score_rf_base, 2))"
   ]
  },
  {
   "cell_type": "markdown",
   "metadata": {},
   "source": [
    "Неоптимизированный случайный лес выдает результат еще лучше, снизив метрику RMSE до 1545.24 (7,8%).\n",
    "\n",
    "The unoptimized random forest performs even better, dropping the RMSE metric to 1545.24 (7.8%)."
   ]
  },
  {
   "cell_type": "markdown",
   "metadata": {},
   "source": [
    "#### Оптимизированный случайный лес / Optimized random forest"
   ]
  },
  {
   "cell_type": "code",
   "execution_count": 98,
   "metadata": {},
   "outputs": [
    {
     "name": "stdout",
     "output_type": "stream",
     "text": [
      "  0%|          | 0/20 [00:00<?, ?trial/s, best loss=?]"
     ]
    },
    {
     "name": "stderr",
     "output_type": "stream",
     "text": [
      "2022-06-04 11:44:25,495 - INFO     - build_posterior_wrapper took 0.001831 seconds\n",
      "2022-06-04 11:44:25,496 - INFO     - TPE using 0 trials\n"
     ]
    },
    {
     "name": "stdout",
     "output_type": "stream",
     "text": [
      "  5%|▌         | 1/20 [02:13<42:17, 133.53s/trial, best loss: 2128.6295969410103]"
     ]
    },
    {
     "name": "stderr",
     "output_type": "stream",
     "text": [
      "2022-06-04 11:46:39,023 - INFO     - build_posterior_wrapper took 0.001420 seconds\n",
      "2022-06-04 11:46:39,025 - INFO     - TPE using 1/1 trials with best loss 2128.629597\n"
     ]
    },
    {
     "name": "stdout",
     "output_type": "stream",
     "text": [
      " 10%|█         | 2/20 [03:18<27:56, 93.12s/trial, best loss: 2128.6295969410103] "
     ]
    },
    {
     "name": "stderr",
     "output_type": "stream",
     "text": [
      "2022-06-04 11:47:43,866 - INFO     - build_posterior_wrapper took 0.003183 seconds\n",
      "2022-06-04 11:47:43,868 - INFO     - TPE using 2/2 trials with best loss 2128.629597\n"
     ]
    },
    {
     "name": "stdout",
     "output_type": "stream",
     "text": [
      " 15%|█▌        | 3/20 [03:40<17:11, 60.65s/trial, best loss: 2128.6295969410103]"
     ]
    },
    {
     "name": "stderr",
     "output_type": "stream",
     "text": [
      "2022-06-04 11:48:05,879 - INFO     - build_posterior_wrapper took 0.002227 seconds\n",
      "2022-06-04 11:48:05,882 - INFO     - TPE using 3/3 trials with best loss 2128.629597\n"
     ]
    },
    {
     "name": "stdout",
     "output_type": "stream",
     "text": [
      " 20%|██        | 4/20 [11:48<1:01:08, 229.28s/trial, best loss: 2033.4741996018759]"
     ]
    },
    {
     "name": "stderr",
     "output_type": "stream",
     "text": [
      "2022-06-04 11:56:13,669 - INFO     - build_posterior_wrapper took 0.001846 seconds\n",
      "2022-06-04 11:56:13,671 - INFO     - TPE using 4/4 trials with best loss 2033.474200\n"
     ]
    },
    {
     "name": "stdout",
     "output_type": "stream",
     "text": [
      " 25%|██▌       | 5/20 [19:52<1:20:19, 321.27s/trial, best loss: 2033.4741996018759]"
     ]
    },
    {
     "name": "stderr",
     "output_type": "stream",
     "text": [
      "2022-06-04 12:04:18,045 - INFO     - build_posterior_wrapper took 0.004282 seconds\n",
      "2022-06-04 12:04:18,047 - INFO     - TPE using 5/5 trials with best loss 2033.474200\n"
     ]
    },
    {
     "name": "stdout",
     "output_type": "stream",
     "text": [
      " 30%|███       | 6/20 [21:48<58:41, 251.53s/trial, best loss: 2033.4741996018759]  "
     ]
    },
    {
     "name": "stderr",
     "output_type": "stream",
     "text": [
      "2022-06-04 12:06:14,192 - INFO     - build_posterior_wrapper took 0.003690 seconds\n",
      "2022-06-04 12:06:14,193 - INFO     - TPE using 6/6 trials with best loss 2033.474200\n"
     ]
    },
    {
     "name": "stdout",
     "output_type": "stream",
     "text": [
      " 35%|███▌      | 7/20 [27:28<1:00:45, 280.41s/trial, best loss: 1995.038828762142]"
     ]
    },
    {
     "name": "stderr",
     "output_type": "stream",
     "text": [
      "2022-06-04 12:11:54,075 - INFO     - build_posterior_wrapper took 0.001112 seconds\n",
      "2022-06-04 12:11:54,076 - INFO     - TPE using 7/7 trials with best loss 1995.038829\n"
     ]
    },
    {
     "name": "stdout",
     "output_type": "stream",
     "text": [
      " 40%|████      | 8/20 [29:57<47:43, 238.63s/trial, best loss: 1995.038828762142]  "
     ]
    },
    {
     "name": "stderr",
     "output_type": "stream",
     "text": [
      "2022-06-04 12:14:23,236 - INFO     - build_posterior_wrapper took 0.001877 seconds\n",
      "2022-06-04 12:14:23,238 - INFO     - TPE using 8/8 trials with best loss 1995.038829\n"
     ]
    },
    {
     "name": "stdout",
     "output_type": "stream",
     "text": [
      " 45%|████▌     | 9/20 [32:05<37:23, 203.96s/trial, best loss: 1995.038828762142]"
     ]
    },
    {
     "name": "stderr",
     "output_type": "stream",
     "text": [
      "2022-06-04 12:16:30,964 - INFO     - build_posterior_wrapper took 0.003262 seconds\n",
      "2022-06-04 12:16:30,965 - INFO     - TPE using 9/9 trials with best loss 1995.038829\n"
     ]
    },
    {
     "name": "stdout",
     "output_type": "stream",
     "text": [
      " 50%|█████     | 10/20 [34:34<31:10, 187.03s/trial, best loss: 1995.038828762142]"
     ]
    },
    {
     "name": "stderr",
     "output_type": "stream",
     "text": [
      "2022-06-04 12:19:00,075 - INFO     - build_posterior_wrapper took 0.002864 seconds\n",
      "2022-06-04 12:19:00,077 - INFO     - TPE using 10/10 trials with best loss 1995.038829\n"
     ]
    },
    {
     "name": "stdout",
     "output_type": "stream",
     "text": [
      " 55%|█████▌    | 11/20 [34:42<19:50, 132.26s/trial, best loss: 1995.038828762142]"
     ]
    },
    {
     "name": "stderr",
     "output_type": "stream",
     "text": [
      "2022-06-04 12:19:08,146 - INFO     - build_posterior_wrapper took 0.003443 seconds\n",
      "2022-06-04 12:19:08,148 - INFO     - TPE using 11/11 trials with best loss 1995.038829\n"
     ]
    },
    {
     "name": "stdout",
     "output_type": "stream",
     "text": [
      " 60%|██████    | 12/20 [34:57<12:51, 96.44s/trial, best loss: 1995.038828762142] "
     ]
    },
    {
     "name": "stderr",
     "output_type": "stream",
     "text": [
      "2022-06-04 12:19:22,657 - INFO     - build_posterior_wrapper took 0.002963 seconds\n",
      "2022-06-04 12:19:22,658 - INFO     - TPE using 12/12 trials with best loss 1995.038829\n"
     ]
    },
    {
     "name": "stdout",
     "output_type": "stream",
     "text": [
      " 65%|██████▌   | 13/20 [40:58<20:35, 176.57s/trial, best loss: 1995.038828762142]"
     ]
    },
    {
     "name": "stderr",
     "output_type": "stream",
     "text": [
      "2022-06-04 12:25:23,605 - INFO     - build_posterior_wrapper took 0.002844 seconds\n",
      "2022-06-04 12:25:23,607 - INFO     - TPE using 13/13 trials with best loss 1995.038829\n"
     ]
    },
    {
     "name": "stdout",
     "output_type": "stream",
     "text": [
      " 70%|███████   | 14/20 [42:25<14:58, 149.70s/trial, best loss: 1995.038828762142]"
     ]
    },
    {
     "name": "stderr",
     "output_type": "stream",
     "text": [
      "2022-06-04 12:26:51,223 - INFO     - build_posterior_wrapper took 0.003971 seconds\n",
      "2022-06-04 12:26:51,227 - INFO     - TPE using 14/14 trials with best loss 1995.038829\n"
     ]
    },
    {
     "name": "stdout",
     "output_type": "stream",
     "text": [
      "Executing shutdown due to inactivity...\n"
     ]
    },
    {
     "name": "stderr",
     "output_type": "stream",
     "text": [
      "2022-06-04 12:30:09,205 - INFO     - Executing shutdown due to inactivity...\n"
     ]
    },
    {
     "name": "stdout",
     "output_type": "stream",
     "text": [
      "Executing shutdown...\n"
     ]
    },
    {
     "name": "stderr",
     "output_type": "stream",
     "text": [
      "2022-06-04 12:30:09,225 - INFO     - Executing shutdown...\n"
     ]
    },
    {
     "name": "stdout",
     "output_type": "stream",
     "text": [
      " 75%|███████▌  | 15/20 [46:18<14:33, 174.76s/trial, best loss: 1995.038828762142]"
     ]
    },
    {
     "name": "stderr",
     "output_type": "stream",
     "text": [
      "2022-06-04 12:30:44,056 - INFO     - build_posterior_wrapper took 0.002254 seconds\n",
      "2022-06-04 12:30:44,058 - INFO     - TPE using 15/15 trials with best loss 1995.038829\n"
     ]
    },
    {
     "name": "stdout",
     "output_type": "stream",
     "text": [
      " 80%|████████  | 16/20 [50:38<13:22, 200.55s/trial, best loss: 1995.038828762142]"
     ]
    },
    {
     "name": "stderr",
     "output_type": "stream",
     "text": [
      "2022-06-04 12:35:04,496 - INFO     - build_posterior_wrapper took 0.003609 seconds\n",
      "2022-06-04 12:35:04,498 - INFO     - TPE using 16/16 trials with best loss 1995.038829\n"
     ]
    },
    {
     "name": "stdout",
     "output_type": "stream",
     "text": [
      " 85%|████████▌ | 17/20 [54:09<10:11, 203.68s/trial, best loss: 1995.038828762142]"
     ]
    },
    {
     "name": "stderr",
     "output_type": "stream",
     "text": [
      "2022-06-04 12:38:35,445 - INFO     - build_posterior_wrapper took 0.002369 seconds\n",
      "2022-06-04 12:38:35,447 - INFO     - TPE using 17/17 trials with best loss 1995.038829\n"
     ]
    },
    {
     "name": "stdout",
     "output_type": "stream",
     "text": [
      " 90%|█████████ | 18/20 [59:30<07:57, 238.75s/trial, best loss: 1995.038828762142]"
     ]
    },
    {
     "name": "stderr",
     "output_type": "stream",
     "text": [
      "2022-06-04 12:43:55,835 - INFO     - build_posterior_wrapper took 0.003182 seconds\n",
      "2022-06-04 12:43:55,837 - INFO     - TPE using 18/18 trials with best loss 1995.038829\n"
     ]
    },
    {
     "name": "stdout",
     "output_type": "stream",
     "text": [
      " 95%|█████████▌| 19/20 [59:48<02:52, 172.46s/trial, best loss: 1995.038828762142]"
     ]
    },
    {
     "name": "stderr",
     "output_type": "stream",
     "text": [
      "2022-06-04 12:44:13,876 - INFO     - build_posterior_wrapper took 0.002508 seconds\n",
      "2022-06-04 12:44:13,878 - INFO     - TPE using 19/19 trials with best loss 1995.038829\n"
     ]
    },
    {
     "name": "stdout",
     "output_type": "stream",
     "text": [
      "100%|██████████| 20/20 [1:03:57<00:00, 191.90s/trial, best loss: 1995.038828762142]\n"
     ]
    }
   ],
   "source": [
    "# зададим пространство интересуемых параметров\n",
    "params_rf = {\n",
    "        'n_estimators': hp.randint('n_estimators', 10, 600),\n",
    "        'min_samples_leaf': hp.randint('min_samples_leaf', 1, 20),\n",
    "        'max_depth': hp.randint('max_depth', 3, 15),\n",
    "        'max_leaf_nodes': hp.randint('max_leaf_nodes', 6, 100)\n",
    "        }\n",
    "        \n",
    "# запускаем hyperopt\n",
    "trials_rf = Trials()\n",
    "best_rf = fmin( \n",
    "          # функция для оптимизации  \n",
    "            fn=partial(objective, pipeline=rf_model_base, X_train=train_features, y_train=train_target),\n",
    "          # пространство поиска гиперпараметров  \n",
    "            space=params_rf,\n",
    "          # алгоритм поиска\n",
    "            algo=tpe.suggest,\n",
    "          # число итераций \n",
    "          # (можно ещё указать и время поиска) \n",
    "            max_evals=20,\n",
    "          # куда сохранять историю поиска\n",
    "            trials=trials_rf,\n",
    "          # random state\n",
    "            rstate=np.random.default_rng(1),\n",
    "          # progressbar\n",
    "            show_progressbar=True\n",
    "        )"
   ]
  },
  {
   "cell_type": "code",
   "execution_count": 102,
   "metadata": {},
   "outputs": [
    {
     "name": "stdout",
     "output_type": "stream",
     "text": [
      "Гиперпараметры для лучшего случайного леса: {'max_depth': 8, 'max_leaf_nodes': 88, 'min_samples_leaf': 12, 'n_estimators': 411}\n"
     ]
    }
   ],
   "source": [
    "# запишем новую оптимизированную модель случайного леса\n",
    "rf_model_opt = RandomForestRegressor(**best_rf, random_state=1)\n",
    "print('Гиперпараметры для лучшего случайного леса:', best_rf)"
   ]
  },
  {
   "cell_type": "code",
   "execution_count": 103,
   "metadata": {},
   "outputs": [
    {
     "data": {
      "text/html": [
       "<div>\n",
       "<style scoped>\n",
       "    .dataframe tbody tr th:only-of-type {\n",
       "        vertical-align: middle;\n",
       "    }\n",
       "\n",
       "    .dataframe tbody tr th {\n",
       "        vertical-align: top;\n",
       "    }\n",
       "\n",
       "    .dataframe thead th {\n",
       "        text-align: right;\n",
       "    }\n",
       "</style>\n",
       "<table border=\"1\" class=\"dataframe\">\n",
       "  <thead>\n",
       "    <tr style=\"text-align: right;\">\n",
       "      <th></th>\n",
       "      <th>loss</th>\n",
       "      <th>max_depth</th>\n",
       "      <th>max_leaf_nodes</th>\n",
       "      <th>min_samples_leaf</th>\n",
       "      <th>n_estimators</th>\n",
       "    </tr>\n",
       "  </thead>\n",
       "  <tbody>\n",
       "    <tr>\n",
       "      <th>11</th>\n",
       "      <td>2,899.87</td>\n",
       "      <td>13</td>\n",
       "      <td>6</td>\n",
       "      <td>10</td>\n",
       "      <td>38</td>\n",
       "    </tr>\n",
       "    <tr>\n",
       "      <th>5</th>\n",
       "      <td>2,808.11</td>\n",
       "      <td>13</td>\n",
       "      <td>7</td>\n",
       "      <td>12</td>\n",
       "      <td>293</td>\n",
       "    </tr>\n",
       "    <tr>\n",
       "      <th>18</th>\n",
       "      <td>2,806.92</td>\n",
       "      <td>13</td>\n",
       "      <td>7</td>\n",
       "      <td>13</td>\n",
       "      <td>47</td>\n",
       "    </tr>\n",
       "    <tr>\n",
       "      <th>9</th>\n",
       "      <td>2,676.19</td>\n",
       "      <td>9</td>\n",
       "      <td>9</td>\n",
       "      <td>18</td>\n",
       "      <td>349</td>\n",
       "    </tr>\n",
       "    <tr>\n",
       "      <th>2</th>\n",
       "      <td>2,672.12</td>\n",
       "      <td>13</td>\n",
       "      <td>9</td>\n",
       "      <td>17</td>\n",
       "      <td>36</td>\n",
       "    </tr>\n",
       "    <tr>\n",
       "      <th>1</th>\n",
       "      <td>2,505.95</td>\n",
       "      <td>11</td>\n",
       "      <td>13</td>\n",
       "      <td>17</td>\n",
       "      <td>107</td>\n",
       "    </tr>\n",
       "    <tr>\n",
       "      <th>7</th>\n",
       "      <td>2,470.10</td>\n",
       "      <td>10</td>\n",
       "      <td>14</td>\n",
       "      <td>7</td>\n",
       "      <td>275</td>\n",
       "    </tr>\n",
       "    <tr>\n",
       "      <th>16</th>\n",
       "      <td>2,441.38</td>\n",
       "      <td>4</td>\n",
       "      <td>72</td>\n",
       "      <td>11</td>\n",
       "      <td>475</td>\n",
       "    </tr>\n",
       "    <tr>\n",
       "      <th>10</th>\n",
       "      <td>2,367.98</td>\n",
       "      <td>8</td>\n",
       "      <td>18</td>\n",
       "      <td>14</td>\n",
       "      <td>13</td>\n",
       "    </tr>\n",
       "    <tr>\n",
       "      <th>15</th>\n",
       "      <td>2,330.00</td>\n",
       "      <td>11</td>\n",
       "      <td>20</td>\n",
       "      <td>4</td>\n",
       "      <td>464</td>\n",
       "    </tr>\n",
       "    <tr>\n",
       "      <th>17</th>\n",
       "      <td>2,315.89</td>\n",
       "      <td>11</td>\n",
       "      <td>21</td>\n",
       "      <td>13</td>\n",
       "      <td>561</td>\n",
       "    </tr>\n",
       "    <tr>\n",
       "      <th>8</th>\n",
       "      <td>2,141.70</td>\n",
       "      <td>10</td>\n",
       "      <td>41</td>\n",
       "      <td>12</td>\n",
       "      <td>185</td>\n",
       "    </tr>\n",
       "    <tr>\n",
       "      <th>0</th>\n",
       "      <td>2,128.63</td>\n",
       "      <td>7</td>\n",
       "      <td>44</td>\n",
       "      <td>10</td>\n",
       "      <td>164</td>\n",
       "    </tr>\n",
       "    <tr>\n",
       "      <th>12</th>\n",
       "      <td>2,041.63</td>\n",
       "      <td>14</td>\n",
       "      <td>68</td>\n",
       "      <td>8</td>\n",
       "      <td>496</td>\n",
       "    </tr>\n",
       "    <tr>\n",
       "      <th>4</th>\n",
       "      <td>2,041.60</td>\n",
       "      <td>10</td>\n",
       "      <td>68</td>\n",
       "      <td>4</td>\n",
       "      <td>512</td>\n",
       "    </tr>\n",
       "    <tr>\n",
       "      <th>3</th>\n",
       "      <td>2,033.47</td>\n",
       "      <td>12</td>\n",
       "      <td>71</td>\n",
       "      <td>16</td>\n",
       "      <td>538</td>\n",
       "    </tr>\n",
       "    <tr>\n",
       "      <th>14</th>\n",
       "      <td>2,017.85</td>\n",
       "      <td>13</td>\n",
       "      <td>77</td>\n",
       "      <td>3</td>\n",
       "      <td>313</td>\n",
       "    </tr>\n",
       "    <tr>\n",
       "      <th>13</th>\n",
       "      <td>2,013.08</td>\n",
       "      <td>9</td>\n",
       "      <td>79</td>\n",
       "      <td>12</td>\n",
       "      <td>128</td>\n",
       "    </tr>\n",
       "    <tr>\n",
       "      <th>19</th>\n",
       "      <td>2,010.08</td>\n",
       "      <td>8</td>\n",
       "      <td>81</td>\n",
       "      <td>3</td>\n",
       "      <td>333</td>\n",
       "    </tr>\n",
       "    <tr>\n",
       "      <th>6</th>\n",
       "      <td>1,995.04</td>\n",
       "      <td>8</td>\n",
       "      <td>88</td>\n",
       "      <td>12</td>\n",
       "      <td>411</td>\n",
       "    </tr>\n",
       "  </tbody>\n",
       "</table>\n",
       "</div>"
      ],
      "text/plain": [
       "       loss  max_depth  max_leaf_nodes  min_samples_leaf  n_estimators\n",
       "11 2,899.87         13               6                10            38\n",
       "5  2,808.11         13               7                12           293\n",
       "18 2,806.92         13               7                13            47\n",
       "9  2,676.19          9               9                18           349\n",
       "2  2,672.12         13               9                17            36\n",
       "1  2,505.95         11              13                17           107\n",
       "7  2,470.10         10              14                 7           275\n",
       "16 2,441.38          4              72                11           475\n",
       "10 2,367.98          8              18                14            13\n",
       "15 2,330.00         11              20                 4           464\n",
       "17 2,315.89         11              21                13           561\n",
       "8  2,141.70         10              41                12           185\n",
       "0  2,128.63          7              44                10           164\n",
       "12 2,041.63         14              68                 8           496\n",
       "4  2,041.60         10              68                 4           512\n",
       "3  2,033.47         12              71                16           538\n",
       "14 2,017.85         13              77                 3           313\n",
       "13 2,013.08          9              79                12           128\n",
       "19 2,010.08          8              81                 3           333\n",
       "6  1,995.04          8              88                12           411"
      ]
     },
     "execution_count": 103,
     "metadata": {},
     "output_type": "execute_result"
    }
   ],
   "source": [
    "rf_opt_results = df_results(trials_rf.results)\n",
    "rf_opt_results"
   ]
  },
  {
   "cell_type": "code",
   "execution_count": 104,
   "metadata": {},
   "outputs": [
    {
     "name": "stdout",
     "output_type": "stream",
     "text": [
      "RMSE ОПТИМИЗИРОВАННОГО случайного леса: 1995.04\n"
     ]
    }
   ],
   "source": [
    "print('RMSE ОПТИМИЗИРОВАННОГО случайного леса:', round(rf_opt_results['loss'].min(), 2))"
   ]
  },
  {
   "cell_type": "markdown",
   "metadata": {},
   "source": [
    "По результатам оптимизации гиперпараметров случайного леса, оптимизированный СЛ работает хуже, чем неоптимизированный. RMSE = 1995.04.\n",
    "\n",
    "____\n",
    "\n",
    "According to the results of optimization of random forest hyperparameters, the optimized random forest performs worse than the non-optimized one. RMSE = 1995.04."
   ]
  },
  {
   "cell_type": "markdown",
   "metadata": {},
   "source": [
    "### LightGBM (градиентный бустинг)"
   ]
  },
  {
   "cell_type": "markdown",
   "metadata": {},
   "source": [
    "#### Неоптимизированный градиентный бустинг / Basic gradient boosting"
   ]
  },
  {
   "cell_type": "markdown",
   "metadata": {},
   "source": [
    "Для начала посмотрим как работает на данных базовая модель.\n",
    "\n",
    "Performance of the basic model."
   ]
  },
  {
   "cell_type": "code",
   "execution_count": 105,
   "metadata": {},
   "outputs": [
    {
     "name": "stdout",
     "output_type": "stream",
     "text": [
      "RMSE НЕОПТИМИЗИРОВАННОГО градиентного бустинга (кросс-валидация, k=5): 1619.44\n"
     ]
    }
   ],
   "source": [
    "gb_model_base = LGBMRegressor(random_state=1)\n",
    "\n",
    "cv_score_gb_base = abs(cross_val_score(gb_model_base, train_features,\n",
    "                                  train_target, cv=folds,\n",
    "                                  scoring='neg_root_mean_squared_error').mean())\n",
    "\n",
    "print('RMSE НЕОПТИМИЗИРОВАННОГО градиентного бустинга (кросс-валидация, k=5):', round(cv_score_gb_base, 2))"
   ]
  },
  {
   "cell_type": "markdown",
   "metadata": {},
   "source": [
    "Работает лучше, чем оптимизированный случайный лес, но хуже, чем неоптимизированный случайный лес. Проведем оптимизацию гипрепараметров градиентного бустинга.\n",
    "\n",
    "____\n",
    "\n",
    "Works better than optimized random forest, but worse than non-optimized random forest. Let us optimize the gradient boosting hyperparameters."
   ]
  },
  {
   "cell_type": "markdown",
   "metadata": {},
   "source": [
    "#### Оптимизированный градиентный бустинг / Optimized gradient boosting"
   ]
  },
  {
   "cell_type": "markdown",
   "metadata": {},
   "source": [
    "Используем библиотеку hyperopt, чтобы оптимизировать гиперпараметры GB.\n",
    "\n",
    "Use hyperopt library to optimise gradient boosting hyperparameters"
   ]
  },
  {
   "cell_type": "code",
   "execution_count": 107,
   "metadata": {},
   "outputs": [
    {
     "name": "stdout",
     "output_type": "stream",
     "text": [
      "  0%|          | 0/20 [00:00<?, ?trial/s, best loss=?]"
     ]
    },
    {
     "name": "stderr",
     "output_type": "stream",
     "text": [
      "2022-06-04 12:54:45,243 - INFO     - build_posterior_wrapper took 0.001925 seconds\n",
      "2022-06-04 12:54:45,245 - INFO     - TPE using 0 trials\n"
     ]
    },
    {
     "name": "stdout",
     "output_type": "stream",
     "text": [
      "  5%|▌         | 1/20 [00:09<03:06,  9.83s/trial, best loss: 1593.6761596811818]"
     ]
    },
    {
     "name": "stderr",
     "output_type": "stream",
     "text": [
      "2022-06-04 12:54:55,078 - INFO     - build_posterior_wrapper took 0.003441 seconds\n",
      "2022-06-04 12:54:55,080 - INFO     - TPE using 1/1 trials with best loss 1593.676160\n"
     ]
    },
    {
     "name": "stdout",
     "output_type": "stream",
     "text": [
      " 10%|█         | 2/20 [00:15<02:12,  7.37s/trial, best loss: 1585.7452273696658]"
     ]
    },
    {
     "name": "stderr",
     "output_type": "stream",
     "text": [
      "2022-06-04 12:55:00,725 - INFO     - build_posterior_wrapper took 0.002484 seconds\n",
      "2022-06-04 12:55:00,729 - INFO     - TPE using 2/2 trials with best loss 1585.745227\n"
     ]
    },
    {
     "name": "stdout",
     "output_type": "stream",
     "text": [
      " 15%|█▌        | 3/20 [00:18<01:34,  5.57s/trial, best loss: 1585.7452273696658]"
     ]
    },
    {
     "name": "stderr",
     "output_type": "stream",
     "text": [
      "2022-06-04 12:55:04,150 - INFO     - build_posterior_wrapper took 0.002155 seconds\n",
      "2022-06-04 12:55:04,151 - INFO     - TPE using 3/3 trials with best loss 1585.745227\n"
     ]
    },
    {
     "name": "stdout",
     "output_type": "stream",
     "text": [
      " 20%|██        | 4/20 [00:35<02:39,  9.98s/trial, best loss: 1504.0639874047706]"
     ]
    },
    {
     "name": "stderr",
     "output_type": "stream",
     "text": [
      "2022-06-04 12:55:20,894 - INFO     - build_posterior_wrapper took 0.002470 seconds\n",
      "2022-06-04 12:55:20,896 - INFO     - TPE using 4/4 trials with best loss 1504.063987\n"
     ]
    },
    {
     "name": "stdout",
     "output_type": "stream",
     "text": [
      " 25%|██▌       | 5/20 [00:54<03:16, 13.07s/trial, best loss: 1504.0639874047706]"
     ]
    },
    {
     "name": "stderr",
     "output_type": "stream",
     "text": [
      "2022-06-04 12:55:39,446 - INFO     - build_posterior_wrapper took 0.001772 seconds\n",
      "2022-06-04 12:55:39,448 - INFO     - TPE using 5/5 trials with best loss 1504.063987\n"
     ]
    },
    {
     "name": "stdout",
     "output_type": "stream",
     "text": [
      " 30%|███       | 6/20 [01:04<02:47, 11.98s/trial, best loss: 1504.0639874047706]"
     ]
    },
    {
     "name": "stderr",
     "output_type": "stream",
     "text": [
      "2022-06-04 12:55:49,305 - INFO     - build_posterior_wrapper took 0.001533 seconds\n",
      "2022-06-04 12:55:49,307 - INFO     - TPE using 6/6 trials with best loss 1504.063987\n"
     ]
    },
    {
     "name": "stdout",
     "output_type": "stream",
     "text": [
      " 35%|███▌      | 7/20 [01:17<02:43, 12.58s/trial, best loss: 1504.0639874047706]"
     ]
    },
    {
     "name": "stderr",
     "output_type": "stream",
     "text": [
      "2022-06-04 12:56:03,112 - INFO     - build_posterior_wrapper took 0.003430 seconds\n",
      "2022-06-04 12:56:03,114 - INFO     - TPE using 7/7 trials with best loss 1504.063987\n"
     ]
    },
    {
     "name": "stdout",
     "output_type": "stream",
     "text": [
      " 40%|████      | 8/20 [01:28<02:23, 11.93s/trial, best loss: 1504.0639874047706]"
     ]
    },
    {
     "name": "stderr",
     "output_type": "stream",
     "text": [
      "2022-06-04 12:56:13,642 - INFO     - build_posterior_wrapper took 0.002134 seconds\n",
      "2022-06-04 12:56:13,644 - INFO     - TPE using 8/8 trials with best loss 1504.063987\n"
     ]
    },
    {
     "name": "stdout",
     "output_type": "stream",
     "text": [
      " 45%|████▌     | 9/20 [01:36<01:57, 10.67s/trial, best loss: 1504.0639874047706]"
     ]
    },
    {
     "name": "stderr",
     "output_type": "stream",
     "text": [
      "2022-06-04 12:56:21,560 - INFO     - build_posterior_wrapper took 0.001599 seconds\n",
      "2022-06-04 12:56:21,562 - INFO     - TPE using 9/9 trials with best loss 1504.063987\n"
     ]
    },
    {
     "name": "stdout",
     "output_type": "stream",
     "text": [
      " 50%|█████     | 10/20 [01:48<01:50, 11.07s/trial, best loss: 1504.0639874047706]"
     ]
    },
    {
     "name": "stderr",
     "output_type": "stream",
     "text": [
      "2022-06-04 12:56:33,518 - INFO     - build_posterior_wrapper took 0.004288 seconds\n",
      "2022-06-04 12:56:33,520 - INFO     - TPE using 10/10 trials with best loss 1504.063987\n"
     ]
    },
    {
     "name": "stdout",
     "output_type": "stream",
     "text": [
      " 55%|█████▌    | 11/20 [01:51<01:17,  8.58s/trial, best loss: 1504.0639874047706]"
     ]
    },
    {
     "name": "stderr",
     "output_type": "stream",
     "text": [
      "2022-06-04 12:56:36,441 - INFO     - build_posterior_wrapper took 0.002409 seconds\n",
      "2022-06-04 12:56:36,442 - INFO     - TPE using 11/11 trials with best loss 1504.063987\n"
     ]
    },
    {
     "name": "stdout",
     "output_type": "stream",
     "text": [
      " 60%|██████    | 12/20 [01:54<00:56,  7.01s/trial, best loss: 1504.0639874047706]"
     ]
    },
    {
     "name": "stderr",
     "output_type": "stream",
     "text": [
      "2022-06-04 12:56:39,870 - INFO     - build_posterior_wrapper took 0.001566 seconds\n",
      "2022-06-04 12:56:39,872 - INFO     - TPE using 12/12 trials with best loss 1504.063987\n"
     ]
    },
    {
     "name": "stdout",
     "output_type": "stream",
     "text": [
      " 65%|██████▌   | 13/20 [02:10<01:07,  9.64s/trial, best loss: 1504.0639874047706]"
     ]
    },
    {
     "name": "stderr",
     "output_type": "stream",
     "text": [
      "2022-06-04 12:56:55,556 - INFO     - build_posterior_wrapper took 0.002583 seconds\n",
      "2022-06-04 12:56:55,558 - INFO     - TPE using 13/13 trials with best loss 1504.063987\n"
     ]
    },
    {
     "name": "stdout",
     "output_type": "stream",
     "text": [
      " 70%|███████   | 14/20 [02:16<00:51,  8.58s/trial, best loss: 1504.0639874047706]"
     ]
    },
    {
     "name": "stderr",
     "output_type": "stream",
     "text": [
      "2022-06-04 12:57:01,678 - INFO     - build_posterior_wrapper took 0.002439 seconds\n",
      "2022-06-04 12:57:01,680 - INFO     - TPE using 14/14 trials with best loss 1504.063987\n"
     ]
    },
    {
     "name": "stdout",
     "output_type": "stream",
     "text": [
      " 75%|███████▌  | 15/20 [02:27<00:46,  9.34s/trial, best loss: 1504.0639874047706]"
     ]
    },
    {
     "name": "stderr",
     "output_type": "stream",
     "text": [
      "2022-06-04 12:57:12,792 - INFO     - build_posterior_wrapper took 0.002774 seconds\n",
      "2022-06-04 12:57:12,794 - INFO     - TPE using 15/15 trials with best loss 1504.063987\n"
     ]
    },
    {
     "name": "stdout",
     "output_type": "stream",
     "text": [
      " 80%|████████  | 16/20 [02:43<00:45, 11.32s/trial, best loss: 1504.0639874047706]"
     ]
    },
    {
     "name": "stderr",
     "output_type": "stream",
     "text": [
      "2022-06-04 12:57:28,710 - INFO     - build_posterior_wrapper took 0.003003 seconds\n",
      "2022-06-04 12:57:28,713 - INFO     - TPE using 16/16 trials with best loss 1504.063987\n"
     ]
    },
    {
     "name": "stdout",
     "output_type": "stream",
     "text": [
      " 85%|████████▌ | 17/20 [03:02<00:40, 13.53s/trial, best loss: 1504.0639874047706]"
     ]
    },
    {
     "name": "stderr",
     "output_type": "stream",
     "text": [
      "2022-06-04 12:57:47,371 - INFO     - build_posterior_wrapper took 0.003323 seconds\n",
      "2022-06-04 12:57:47,373 - INFO     - TPE using 17/17 trials with best loss 1504.063987\n"
     ]
    },
    {
     "name": "stdout",
     "output_type": "stream",
     "text": [
      " 90%|█████████ | 18/20 [03:19<00:29, 14.59s/trial, best loss: 1504.0639874047706]"
     ]
    },
    {
     "name": "stderr",
     "output_type": "stream",
     "text": [
      "2022-06-04 12:58:04,441 - INFO     - build_posterior_wrapper took 0.003197 seconds\n",
      "2022-06-04 12:58:04,443 - INFO     - TPE using 18/18 trials with best loss 1504.063987\n"
     ]
    },
    {
     "name": "stdout",
     "output_type": "stream",
     "text": [
      " 95%|█████████▌| 19/20 [03:22<00:11, 11.26s/trial, best loss: 1504.0639874047706]"
     ]
    },
    {
     "name": "stderr",
     "output_type": "stream",
     "text": [
      "2022-06-04 12:58:07,935 - INFO     - build_posterior_wrapper took 0.002015 seconds\n",
      "2022-06-04 12:58:07,936 - INFO     - TPE using 19/19 trials with best loss 1504.063987\n"
     ]
    },
    {
     "name": "stdout",
     "output_type": "stream",
     "text": [
      "100%|██████████| 20/20 [03:33<00:00, 10.68s/trial, best loss: 1504.0639874047706]\n",
      "Гиперпараметры для лучшего градиентого бустинга: {'learning_rate': 0.24236052479655218, 'max_depth': 12, 'n_estimators': 448}\n"
     ]
    }
   ],
   "source": [
    "# зададим пространство интересуемых параметров\n",
    "params_gb = {\n",
    "        'n_estimators': hp.randint('n_estimators', 10, 500),\n",
    "        'max_depth':  hp.randint('max_depth', 3, 15),\n",
    "        'learning_rate': hp.uniform('learning_rate', 0.01, 0.3)\n",
    "        }\n",
    "  \n",
    "  \n",
    "# запускаем hyperopt\n",
    "trials_gb = Trials()\n",
    "best_gb = fmin( \n",
    "          # функция для оптимизации  \n",
    "            fn=partial(partial(objective, pipeline=gb_model_base, X_train=train_features, y_train=train_target)),\n",
    "          # пространство поиска гиперпараметров  \n",
    "            space=params_gb,\n",
    "          # алгоритм поиска\n",
    "            algo=tpe.suggest,\n",
    "          # число итераций \n",
    "          # (можно ещё указать и время поиска) \n",
    "            max_evals=20,\n",
    "          # куда сохранять историю поиска\n",
    "            trials=trials_gb,\n",
    "          # random state\n",
    "            rstate=np.random.default_rng(1),\n",
    "          # progressbar\n",
    "            show_progressbar=True\n",
    "        )\n",
    "\n",
    "# запишем новую оптимизированную модель градиентного бустинга\n",
    "gb_model_opt = LGBMRegressor(**best_gb, random_state=1)\n",
    "print('Гиперпараметры для лучшего градиентого бустинга:', best_gb)"
   ]
  },
  {
   "cell_type": "code",
   "execution_count": 108,
   "metadata": {},
   "outputs": [
    {
     "name": "stdout",
     "output_type": "stream",
     "text": [
      "Гиперпараметры для лучшего градиентого бустинга: {'learning_rate': 0.24236052479655218, 'max_depth': 12, 'n_estimators': 448}\n"
     ]
    }
   ],
   "source": [
    "# запишем новую оптимизированную модель градиентного бустинга\n",
    "gb_model_opt = LGBMRegressor(**best_gb, random_state=1)\n",
    "print('Гиперпараметры для лучшего градиентого бустинга:', best_gb)"
   ]
  },
  {
   "cell_type": "code",
   "execution_count": 109,
   "metadata": {},
   "outputs": [
    {
     "data": {
      "text/html": [
       "<div>\n",
       "<style scoped>\n",
       "    .dataframe tbody tr th:only-of-type {\n",
       "        vertical-align: middle;\n",
       "    }\n",
       "\n",
       "    .dataframe tbody tr th {\n",
       "        vertical-align: top;\n",
       "    }\n",
       "\n",
       "    .dataframe thead th {\n",
       "        text-align: right;\n",
       "    }\n",
       "</style>\n",
       "<table border=\"1\" class=\"dataframe\">\n",
       "  <thead>\n",
       "    <tr style=\"text-align: right;\">\n",
       "      <th></th>\n",
       "      <th>loss</th>\n",
       "      <th>learning_rate</th>\n",
       "      <th>max_depth</th>\n",
       "      <th>n_estimators</th>\n",
       "    </tr>\n",
       "  </thead>\n",
       "  <tbody>\n",
       "    <tr>\n",
       "      <th>10</th>\n",
       "      <td>2,002.67</td>\n",
       "      <td>0.15</td>\n",
       "      <td>11</td>\n",
       "      <td>12</td>\n",
       "    </tr>\n",
       "    <tr>\n",
       "      <th>2</th>\n",
       "      <td>1,654.12</td>\n",
       "      <td>0.26</td>\n",
       "      <td>13</td>\n",
       "      <td>31</td>\n",
       "    </tr>\n",
       "    <tr>\n",
       "      <th>11</th>\n",
       "      <td>1,649.10</td>\n",
       "      <td>0.28</td>\n",
       "      <td>9</td>\n",
       "      <td>33</td>\n",
       "    </tr>\n",
       "    <tr>\n",
       "      <th>18</th>\n",
       "      <td>1,636.70</td>\n",
       "      <td>0.26</td>\n",
       "      <td>11</td>\n",
       "      <td>40</td>\n",
       "    </tr>\n",
       "    <tr>\n",
       "      <th>19</th>\n",
       "      <td>1,610.74</td>\n",
       "      <td>0.15</td>\n",
       "      <td>4</td>\n",
       "      <td>278</td>\n",
       "    </tr>\n",
       "    <tr>\n",
       "      <th>0</th>\n",
       "      <td>1,593.68</td>\n",
       "      <td>0.11</td>\n",
       "      <td>9</td>\n",
       "      <td>137</td>\n",
       "    </tr>\n",
       "    <tr>\n",
       "      <th>14</th>\n",
       "      <td>1,593.36</td>\n",
       "      <td>0.26</td>\n",
       "      <td>4</td>\n",
       "      <td>261</td>\n",
       "    </tr>\n",
       "    <tr>\n",
       "      <th>1</th>\n",
       "      <td>1,585.75</td>\n",
       "      <td>0.21</td>\n",
       "      <td>13</td>\n",
       "      <td>90</td>\n",
       "    </tr>\n",
       "    <tr>\n",
       "      <th>13</th>\n",
       "      <td>1,583.79</td>\n",
       "      <td>0.17</td>\n",
       "      <td>10</td>\n",
       "      <td>108</td>\n",
       "    </tr>\n",
       "    <tr>\n",
       "      <th>16</th>\n",
       "      <td>1,582.19</td>\n",
       "      <td>0.04</td>\n",
       "      <td>9</td>\n",
       "      <td>396</td>\n",
       "    </tr>\n",
       "    <tr>\n",
       "      <th>8</th>\n",
       "      <td>1,557.56</td>\n",
       "      <td>0.18</td>\n",
       "      <td>10</td>\n",
       "      <td>155</td>\n",
       "    </tr>\n",
       "    <tr>\n",
       "      <th>4</th>\n",
       "      <td>1,543.59</td>\n",
       "      <td>0.18</td>\n",
       "      <td>5</td>\n",
       "      <td>426</td>\n",
       "    </tr>\n",
       "    <tr>\n",
       "      <th>7</th>\n",
       "      <td>1,539.48</td>\n",
       "      <td>0.20</td>\n",
       "      <td>7</td>\n",
       "      <td>230</td>\n",
       "    </tr>\n",
       "    <tr>\n",
       "      <th>15</th>\n",
       "      <td>1,538.76</td>\n",
       "      <td>0.22</td>\n",
       "      <td>5</td>\n",
       "      <td>387</td>\n",
       "    </tr>\n",
       "    <tr>\n",
       "      <th>6</th>\n",
       "      <td>1,529.70</td>\n",
       "      <td>0.13</td>\n",
       "      <td>10</td>\n",
       "      <td>343</td>\n",
       "    </tr>\n",
       "    <tr>\n",
       "      <th>9</th>\n",
       "      <td>1,527.61</td>\n",
       "      <td>0.17</td>\n",
       "      <td>14</td>\n",
       "      <td>292</td>\n",
       "    </tr>\n",
       "    <tr>\n",
       "      <th>5</th>\n",
       "      <td>1,525.38</td>\n",
       "      <td>0.27</td>\n",
       "      <td>10</td>\n",
       "      <td>245</td>\n",
       "    </tr>\n",
       "    <tr>\n",
       "      <th>12</th>\n",
       "      <td>1,511.19</td>\n",
       "      <td>0.29</td>\n",
       "      <td>8</td>\n",
       "      <td>413</td>\n",
       "    </tr>\n",
       "    <tr>\n",
       "      <th>17</th>\n",
       "      <td>1,505.81</td>\n",
       "      <td>0.20</td>\n",
       "      <td>10</td>\n",
       "      <td>467</td>\n",
       "    </tr>\n",
       "    <tr>\n",
       "      <th>3</th>\n",
       "      <td>1,504.06</td>\n",
       "      <td>0.24</td>\n",
       "      <td>12</td>\n",
       "      <td>448</td>\n",
       "    </tr>\n",
       "  </tbody>\n",
       "</table>\n",
       "</div>"
      ],
      "text/plain": [
       "       loss  learning_rate  max_depth  n_estimators\n",
       "10 2,002.67           0.15         11            12\n",
       "2  1,654.12           0.26         13            31\n",
       "11 1,649.10           0.28          9            33\n",
       "18 1,636.70           0.26         11            40\n",
       "19 1,610.74           0.15          4           278\n",
       "0  1,593.68           0.11          9           137\n",
       "14 1,593.36           0.26          4           261\n",
       "1  1,585.75           0.21         13            90\n",
       "13 1,583.79           0.17         10           108\n",
       "16 1,582.19           0.04          9           396\n",
       "8  1,557.56           0.18         10           155\n",
       "4  1,543.59           0.18          5           426\n",
       "7  1,539.48           0.20          7           230\n",
       "15 1,538.76           0.22          5           387\n",
       "6  1,529.70           0.13         10           343\n",
       "9  1,527.61           0.17         14           292\n",
       "5  1,525.38           0.27         10           245\n",
       "12 1,511.19           0.29          8           413\n",
       "17 1,505.81           0.20         10           467\n",
       "3  1,504.06           0.24         12           448"
      ]
     },
     "execution_count": 109,
     "metadata": {},
     "output_type": "execute_result"
    }
   ],
   "source": [
    "gb_opt_results = df_results(trials_gb.results)\n",
    "gb_opt_results"
   ]
  },
  {
   "cell_type": "code",
   "execution_count": 110,
   "metadata": {},
   "outputs": [
    {
     "name": "stdout",
     "output_type": "stream",
     "text": [
      "RMSE ОПТИМИЗИРОВАННОГО градиентого бустинга: 1504.06\n"
     ]
    }
   ],
   "source": [
    "print('RMSE ОПТИМИЗИРОВАННОГО градиентого бустинга:', round(gb_opt_results['loss'].min(), 2))"
   ]
  },
  {
   "cell_type": "markdown",
   "metadata": {},
   "source": [
    "У нас есть модель, которая работает лучше других. Улучшили метрику RMSE градиентным бустингом до RMSE = 1538.5.\n",
    "\n",
    "We have a model that works better than others. We improved the RMSE metric by gradient boosting to RMSE = 1538.5."
   ]
  },
  {
   "cell_type": "markdown",
   "metadata": {},
   "source": [
    "## Анализ моделей / Model evaluation"
   ]
  },
  {
   "cell_type": "markdown",
   "metadata": {},
   "source": [
    "У нас есть несколько оптимизированных моделей. Посмотрим на их скорость обучения и точность предсказания на тестовой выборке. Также мы сравним метрику RMSE на валидационной и тестовой выборках, чтобы исключить переобучение при подборе параметров.\n",
    "\n",
    "____\n",
    "\n",
    "We have several optimized models. Let's look at their learning rate and prediction accuracy on the test set. We will also compare the RMSE metric on the validation and test sets to avoid overfitting when fitting parameters."
   ]
  },
  {
   "cell_type": "code",
   "execution_count": 111,
   "metadata": {},
   "outputs": [
    {
     "name": "stdout",
     "output_type": "stream",
     "text": [
      "Вычисления для LinearRegression()\n",
      "Вычисления для DecisionTreeRegressor(max_depth=10, max_leaf_nodes=99, min_samples_leaf=2,\n",
      "                      random_state=1)\n",
      "Вычисления для RandomForestRegressor(max_depth=8, max_leaf_nodes=88, min_samples_leaf=12,\n",
      "                      n_estimators=411, random_state=1)\n",
      "Вычисления для LGBMRegressor(learning_rate=0.24236052479655218, max_depth=12, n_estimators=448,\n",
      "              random_state=1)\n"
     ]
    }
   ],
   "source": [
    "# создадим списки моделей для проверки\n",
    "# создадим списки для записи времени исполнения кода и RMSE на тестовой выборке\n",
    "models_to_check_time = [model_lr, dt_model_opt, rf_model_opt, gb_model_opt]\n",
    "fit_times = []\n",
    "pred_times = []\n",
    "test_scores = []\n",
    "\n",
    "for model in models_to_check_time:\n",
    "    \n",
    "    print('Вычисления для', model)\n",
    "\n",
    "    # время обучения модели\n",
    "    start_time_fit = time.time()\n",
    "    model.fit(train_features, train_target)\n",
    "    end_time_fit = time.time()\n",
    "    fit_times.append(end_time_fit - start_time_fit)\n",
    "\n",
    "    #время предсказания\n",
    "    start_time_pred = time.time()\n",
    "    pred = model.predict(test_features)\n",
    "    end_time_pred = time.time()\n",
    "    pred_times.append(end_time_pred - start_time_pred)\n",
    "\n",
    "    # запишем RMSE на тестовой выборке\n",
    "    test_scores.append(np.sqrt(mean_squared_error(test_target, pred)))"
   ]
  },
  {
   "cell_type": "markdown",
   "metadata": {},
   "source": [
    "Создадим таблицу, где подведем итоги анализа моделей.\n",
    "\n",
    "LR - линейная регрессия;\n",
    "ODT - optimized decision tree;\n",
    "ORF - optimized random forest;\n",
    "OGB - optimized gradient boosting;\n",
    "\n",
    "____\n",
    "\n",
    "Let's create a table where we summarize the analysis of models.\n",
    "\n",
    "LR - linear regression;\n",
    "\n",
    "ODT - optimized decision tree;\n",
    "\n",
    "ORF - optimized random forest;\n",
    "\n",
    "OGB - optimized gradient boosting;"
   ]
  },
  {
   "cell_type": "code",
   "execution_count": 121,
   "metadata": {},
   "outputs": [
    {
     "data": {
      "text/html": [
       "<div>\n",
       "<style scoped>\n",
       "    .dataframe tbody tr th:only-of-type {\n",
       "        vertical-align: middle;\n",
       "    }\n",
       "\n",
       "    .dataframe tbody tr th {\n",
       "        vertical-align: top;\n",
       "    }\n",
       "\n",
       "    .dataframe thead th {\n",
       "        text-align: right;\n",
       "    }\n",
       "</style>\n",
       "<table border=\"1\" class=\"dataframe\">\n",
       "  <thead>\n",
       "    <tr style=\"text-align: right;\">\n",
       "      <th></th>\n",
       "      <th>Время обучения, s</th>\n",
       "      <th>Время предсказания, s</th>\n",
       "      <th>RMSE_valid</th>\n",
       "      <th>RMSE_test</th>\n",
       "      <th>RMSE difference, %</th>\n",
       "    </tr>\n",
       "  </thead>\n",
       "  <tbody>\n",
       "    <tr>\n",
       "      <th>LR</th>\n",
       "      <td>0.14</td>\n",
       "      <td>0.02</td>\n",
       "      <td>2,658.71</td>\n",
       "      <td>2,655.31</td>\n",
       "      <td>-0.13</td>\n",
       "    </tr>\n",
       "    <tr>\n",
       "      <th>ODT</th>\n",
       "      <td>0.80</td>\n",
       "      <td>0.01</td>\n",
       "      <td>2,043.96</td>\n",
       "      <td>2,059.19</td>\n",
       "      <td>0.74</td>\n",
       "    </tr>\n",
       "    <tr>\n",
       "      <th>ORF</th>\n",
       "      <td>128.24</td>\n",
       "      <td>2.05</td>\n",
       "      <td>1,995.04</td>\n",
       "      <td>2,003.53</td>\n",
       "      <td>0.42</td>\n",
       "    </tr>\n",
       "    <tr>\n",
       "      <th>OGB</th>\n",
       "      <td>3.83</td>\n",
       "      <td>0.87</td>\n",
       "      <td>1,504.06</td>\n",
       "      <td>1,510.17</td>\n",
       "      <td>0.40</td>\n",
       "    </tr>\n",
       "  </tbody>\n",
       "</table>\n",
       "</div>"
      ],
      "text/plain": [
       "     Время обучения, s  Время предсказания, s  RMSE_valid  RMSE_test  \\\n",
       "LR                0.14                   0.02    2,658.71   2,655.31   \n",
       "ODT               0.80                   0.01    2,043.96   2,059.19   \n",
       "ORF             128.24                   2.05    1,995.04   2,003.53   \n",
       "OGB               3.83                   0.87    1,504.06   1,510.17   \n",
       "\n",
       "     RMSE difference, %  \n",
       "LR                -0.13  \n",
       "ODT                0.74  \n",
       "ORF                0.42  \n",
       "OGB                0.40  "
      ]
     },
     "execution_count": 121,
     "metadata": {},
     "output_type": "execute_result"
    }
   ],
   "source": [
    "models_result = pd.DataFrame({\n",
    "            'Время обучения / Training time, s': fit_times,\n",
    "\n",
    "            'Время предсказания / Prediction time, s': pred_times,\n",
    "\n",
    "            'RMSE_valid': [cv_score_lr,\n",
    "            dt_opt_results['loss'].min(),\n",
    "            rf_opt_results['loss'].min(),\n",
    "            gb_opt_results['loss'].min()],\n",
    "\n",
    "            'RMSE_test': test_scores,\n",
    "            }, index=['LR', 'ODT', 'ORF', 'OGB'])\n",
    "\n",
    "models_result['RMSE difference, %'] = (test_scores - models_result['RMSE_valid']) / test_scores * 100\n",
    "models_result"
   ]
  },
  {
   "cell_type": "markdown",
   "metadata": {},
   "source": [
    "Можно видеть, что модели с **большим bias** тратят меньше времени на обучение и предсказание. Среди таких моделей - **линейная регрессия, оптимизированное дерево решений**\n",
    "\n",
    "Модель случайного леса тратит больше двух минут наобучение, но быстро предсказывает. Однако, ее RMSE не отличается от предыдущих моделей.\n",
    "\n",
    "Самый лучший результата показала модель градиентого бустинга, которая быстро обучается и предсказывает, и также имеет RMSE намного ниже других моделей.\n",
    "\n",
    "____\n",
    "\n",
    "It can be seen that models with **large bias** spend less time training and predicting. Among such models are **linear regression, optimized decision tree**\n",
    "\n",
    "The random forest model takes more than two minutes to train, but predicts quickly. However, its RMSE is no different from previous models.\n",
    "\n",
    "The Gradient Boosting model showed the best result, which learns and predicts quickly, and also has an RMSE much lower than other models."
   ]
  },
  {
   "cell_type": "markdown",
   "metadata": {},
   "source": [
    "## Общий вывод / Final report"
   ]
  },
  {
   "cell_type": "markdown",
   "metadata": {},
   "source": [
    "В этом проекте мы строили различные модели для предсказания рыночной цены автомобиля. Затем мы проверяли модели на скорость обучения и предсказания, а также на точность.\n",
    "\n",
    "Данные были очень \"грязными\". Много пропусков (51,1% наблюдений), аномальные значения. На предобработку и исследование данных ушло 2 недели.\n",
    "\n",
    "После предобработки данных и их изучения были построены несколько моделей регрессии для предсказания цены автомобиля.\n",
    "\n",
    "При оптимизации гиперпараметров, ни одна модель не переобучилась на валидационных данных. Между RMSE_valid и RMSE_test нет разницы более, чем 0.74%.\n",
    "\n",
    "Из всех моделей, только модель градиентого бустинга показала результаты, отвечающие требованиям заказчика: быстрая скорость обучения (3.83 сек), быстрая скорость предсказания (0.87 сек), высокая точность (RMSE_test = 1510.17)"
   ]
  }
 ],
 "metadata": {
  "ExecuteTimeLog": [
   {
    "duration": 8,
    "start_time": "2022-06-02T11:30:04.996Z"
   },
   {
    "duration": 880,
    "start_time": "2022-06-02T11:31:27.905Z"
   },
   {
    "duration": 0,
    "start_time": "2022-06-02T11:31:28.789Z"
   },
   {
    "duration": 0,
    "start_time": "2022-06-02T11:31:28.790Z"
   },
   {
    "duration": 0,
    "start_time": "2022-06-02T11:31:28.791Z"
   },
   {
    "duration": 0,
    "start_time": "2022-06-02T11:31:28.792Z"
   },
   {
    "duration": 0,
    "start_time": "2022-06-02T11:31:28.793Z"
   },
   {
    "duration": 0,
    "start_time": "2022-06-02T11:31:28.794Z"
   },
   {
    "duration": 0,
    "start_time": "2022-06-02T11:31:28.795Z"
   },
   {
    "duration": 0,
    "start_time": "2022-06-02T11:31:28.797Z"
   },
   {
    "duration": 0,
    "start_time": "2022-06-02T11:31:28.798Z"
   },
   {
    "duration": 0,
    "start_time": "2022-06-02T11:31:28.799Z"
   },
   {
    "duration": 0,
    "start_time": "2022-06-02T11:31:28.800Z"
   },
   {
    "duration": 0,
    "start_time": "2022-06-02T11:31:28.801Z"
   },
   {
    "duration": 0,
    "start_time": "2022-06-02T11:31:28.802Z"
   },
   {
    "duration": 0,
    "start_time": "2022-06-02T11:31:28.803Z"
   },
   {
    "duration": 0,
    "start_time": "2022-06-02T11:31:28.804Z"
   },
   {
    "duration": 0,
    "start_time": "2022-06-02T11:31:28.805Z"
   },
   {
    "duration": 0,
    "start_time": "2022-06-02T11:31:28.806Z"
   },
   {
    "duration": 0,
    "start_time": "2022-06-02T11:31:28.807Z"
   },
   {
    "duration": 1,
    "start_time": "2022-06-02T11:31:28.808Z"
   },
   {
    "duration": 0,
    "start_time": "2022-06-02T11:31:28.810Z"
   },
   {
    "duration": 0,
    "start_time": "2022-06-02T11:31:28.811Z"
   },
   {
    "duration": 0,
    "start_time": "2022-06-02T11:31:28.812Z"
   },
   {
    "duration": 0,
    "start_time": "2022-06-02T11:31:28.813Z"
   },
   {
    "duration": 0,
    "start_time": "2022-06-02T11:31:28.814Z"
   },
   {
    "duration": 0,
    "start_time": "2022-06-02T11:31:28.852Z"
   },
   {
    "duration": 0,
    "start_time": "2022-06-02T11:31:28.853Z"
   },
   {
    "duration": 0,
    "start_time": "2022-06-02T11:31:28.854Z"
   },
   {
    "duration": 0,
    "start_time": "2022-06-02T11:31:28.855Z"
   },
   {
    "duration": 0,
    "start_time": "2022-06-02T11:31:28.856Z"
   },
   {
    "duration": 0,
    "start_time": "2022-06-02T11:31:28.857Z"
   },
   {
    "duration": 0,
    "start_time": "2022-06-02T11:31:28.858Z"
   },
   {
    "duration": 0,
    "start_time": "2022-06-02T11:31:28.860Z"
   },
   {
    "duration": 0,
    "start_time": "2022-06-02T11:31:28.861Z"
   },
   {
    "duration": 0,
    "start_time": "2022-06-02T11:31:28.862Z"
   },
   {
    "duration": 0,
    "start_time": "2022-06-02T11:31:28.863Z"
   },
   {
    "duration": 0,
    "start_time": "2022-06-02T11:31:28.864Z"
   },
   {
    "duration": 0,
    "start_time": "2022-06-02T11:31:28.865Z"
   },
   {
    "duration": 0,
    "start_time": "2022-06-02T11:31:28.866Z"
   },
   {
    "duration": 0,
    "start_time": "2022-06-02T11:31:28.867Z"
   },
   {
    "duration": 0,
    "start_time": "2022-06-02T11:31:28.868Z"
   },
   {
    "duration": 0,
    "start_time": "2022-06-02T11:31:28.869Z"
   },
   {
    "duration": 0,
    "start_time": "2022-06-02T11:31:28.870Z"
   },
   {
    "duration": 0,
    "start_time": "2022-06-02T11:31:28.873Z"
   },
   {
    "duration": 0,
    "start_time": "2022-06-02T11:31:28.874Z"
   },
   {
    "duration": 0,
    "start_time": "2022-06-02T11:31:28.875Z"
   },
   {
    "duration": 0,
    "start_time": "2022-06-02T11:31:28.876Z"
   },
   {
    "duration": 0,
    "start_time": "2022-06-02T11:31:28.876Z"
   },
   {
    "duration": 0,
    "start_time": "2022-06-02T11:31:28.878Z"
   },
   {
    "duration": 0,
    "start_time": "2022-06-02T11:31:28.879Z"
   },
   {
    "duration": 0,
    "start_time": "2022-06-02T11:31:28.880Z"
   },
   {
    "duration": 0,
    "start_time": "2022-06-02T11:31:28.881Z"
   },
   {
    "duration": 0,
    "start_time": "2022-06-02T11:31:28.882Z"
   },
   {
    "duration": 0,
    "start_time": "2022-06-02T11:31:28.883Z"
   },
   {
    "duration": 0,
    "start_time": "2022-06-02T11:31:28.884Z"
   },
   {
    "duration": 0,
    "start_time": "2022-06-02T11:31:28.885Z"
   },
   {
    "duration": 0,
    "start_time": "2022-06-02T11:31:28.886Z"
   },
   {
    "duration": 0,
    "start_time": "2022-06-02T11:31:28.887Z"
   },
   {
    "duration": 0,
    "start_time": "2022-06-02T11:31:28.888Z"
   },
   {
    "duration": 0,
    "start_time": "2022-06-02T11:31:28.951Z"
   },
   {
    "duration": 0,
    "start_time": "2022-06-02T11:31:28.953Z"
   },
   {
    "duration": 0,
    "start_time": "2022-06-02T11:31:28.954Z"
   },
   {
    "duration": 0,
    "start_time": "2022-06-02T11:31:28.955Z"
   },
   {
    "duration": 0,
    "start_time": "2022-06-02T11:31:28.956Z"
   },
   {
    "duration": 0,
    "start_time": "2022-06-02T11:31:28.958Z"
   },
   {
    "duration": 0,
    "start_time": "2022-06-02T11:31:28.959Z"
   },
   {
    "duration": 0,
    "start_time": "2022-06-02T11:31:28.960Z"
   },
   {
    "duration": 0,
    "start_time": "2022-06-02T11:31:28.961Z"
   },
   {
    "duration": 0,
    "start_time": "2022-06-02T11:31:28.962Z"
   },
   {
    "duration": 0,
    "start_time": "2022-06-02T11:31:28.963Z"
   },
   {
    "duration": 0,
    "start_time": "2022-06-02T11:31:28.964Z"
   },
   {
    "duration": 0,
    "start_time": "2022-06-02T11:31:28.965Z"
   },
   {
    "duration": 0,
    "start_time": "2022-06-02T11:31:28.967Z"
   },
   {
    "duration": 0,
    "start_time": "2022-06-02T11:31:28.968Z"
   },
   {
    "duration": 0,
    "start_time": "2022-06-02T11:31:28.969Z"
   },
   {
    "duration": 0,
    "start_time": "2022-06-02T11:31:28.970Z"
   },
   {
    "duration": 0,
    "start_time": "2022-06-02T11:31:28.971Z"
   },
   {
    "duration": 0,
    "start_time": "2022-06-02T11:31:28.972Z"
   },
   {
    "duration": 0,
    "start_time": "2022-06-02T11:31:28.973Z"
   },
   {
    "duration": 0,
    "start_time": "2022-06-02T11:31:28.973Z"
   },
   {
    "duration": 0,
    "start_time": "2022-06-02T11:31:28.974Z"
   },
   {
    "duration": 0,
    "start_time": "2022-06-02T11:31:28.975Z"
   },
   {
    "duration": 0,
    "start_time": "2022-06-02T11:31:28.976Z"
   },
   {
    "duration": 0,
    "start_time": "2022-06-02T11:31:28.977Z"
   },
   {
    "duration": 0,
    "start_time": "2022-06-02T11:31:28.979Z"
   },
   {
    "duration": 0,
    "start_time": "2022-06-02T11:31:28.979Z"
   },
   {
    "duration": 0,
    "start_time": "2022-06-02T11:31:28.980Z"
   },
   {
    "duration": 0,
    "start_time": "2022-06-02T11:31:28.981Z"
   },
   {
    "duration": 0,
    "start_time": "2022-06-02T11:31:28.982Z"
   },
   {
    "duration": 0,
    "start_time": "2022-06-02T11:31:28.984Z"
   },
   {
    "duration": 0,
    "start_time": "2022-06-02T11:31:28.985Z"
   },
   {
    "duration": 0,
    "start_time": "2022-06-02T11:31:28.986Z"
   },
   {
    "duration": 0,
    "start_time": "2022-06-02T11:31:28.987Z"
   },
   {
    "duration": 0,
    "start_time": "2022-06-02T11:31:28.988Z"
   },
   {
    "duration": 0,
    "start_time": "2022-06-02T11:31:29.052Z"
   },
   {
    "duration": 0,
    "start_time": "2022-06-02T11:31:29.053Z"
   },
   {
    "duration": 0,
    "start_time": "2022-06-02T11:31:29.054Z"
   },
   {
    "duration": 0,
    "start_time": "2022-06-02T11:31:29.055Z"
   },
   {
    "duration": 0,
    "start_time": "2022-06-02T11:31:29.056Z"
   },
   {
    "duration": 0,
    "start_time": "2022-06-02T11:31:29.058Z"
   },
   {
    "duration": 0,
    "start_time": "2022-06-02T11:31:29.059Z"
   },
   {
    "duration": 0,
    "start_time": "2022-06-02T11:31:29.060Z"
   },
   {
    "duration": 18838,
    "start_time": "2022-06-02T11:33:55.873Z"
   },
   {
    "duration": 2085,
    "start_time": "2022-06-02T11:34:21.258Z"
   },
   {
    "duration": 3594,
    "start_time": "2022-06-02T11:34:50.009Z"
   },
   {
    "duration": 186,
    "start_time": "2022-06-02T11:34:59.776Z"
   },
   {
    "duration": 8,
    "start_time": "2022-06-02T11:35:45.033Z"
   },
   {
    "duration": 1081,
    "start_time": "2022-06-02T11:35:45.043Z"
   },
   {
    "duration": 2017,
    "start_time": "2022-06-02T11:35:46.126Z"
   },
   {
    "duration": 4,
    "start_time": "2022-06-02T11:35:48.145Z"
   },
   {
    "duration": 16,
    "start_time": "2022-06-02T11:35:48.151Z"
   },
   {
    "duration": 119,
    "start_time": "2022-06-02T11:35:48.168Z"
   },
   {
    "duration": 327,
    "start_time": "2022-06-02T11:35:48.289Z"
   },
   {
    "duration": 90,
    "start_time": "2022-06-02T11:35:48.618Z"
   },
   {
    "duration": 22,
    "start_time": "2022-06-02T11:35:48.710Z"
   },
   {
    "duration": 7388,
    "start_time": "2022-06-02T11:35:48.734Z"
   },
   {
    "duration": 74,
    "start_time": "2022-06-02T11:35:56.125Z"
   },
   {
    "duration": 21,
    "start_time": "2022-06-02T11:35:56.201Z"
   },
   {
    "duration": 61,
    "start_time": "2022-06-02T11:35:56.224Z"
   },
   {
    "duration": 76,
    "start_time": "2022-06-02T11:35:56.288Z"
   },
   {
    "duration": 91,
    "start_time": "2022-06-02T11:35:56.366Z"
   },
   {
    "duration": 22,
    "start_time": "2022-06-02T11:35:56.459Z"
   },
   {
    "duration": 14037,
    "start_time": "2022-06-02T11:35:56.482Z"
   },
   {
    "duration": 69,
    "start_time": "2022-06-02T11:36:10.521Z"
   },
   {
    "duration": 30,
    "start_time": "2022-06-02T11:36:10.592Z"
   },
   {
    "duration": 38,
    "start_time": "2022-06-02T11:36:10.623Z"
   },
   {
    "duration": 0,
    "start_time": "2022-06-02T11:36:10.665Z"
   },
   {
    "duration": 0,
    "start_time": "2022-06-02T11:36:10.666Z"
   },
   {
    "duration": 0,
    "start_time": "2022-06-02T11:36:10.667Z"
   },
   {
    "duration": 0,
    "start_time": "2022-06-02T11:36:10.669Z"
   },
   {
    "duration": 0,
    "start_time": "2022-06-02T11:36:10.671Z"
   },
   {
    "duration": 0,
    "start_time": "2022-06-02T11:36:10.672Z"
   },
   {
    "duration": 0,
    "start_time": "2022-06-02T11:36:10.672Z"
   },
   {
    "duration": 0,
    "start_time": "2022-06-02T11:36:10.673Z"
   },
   {
    "duration": 0,
    "start_time": "2022-06-02T11:36:10.674Z"
   },
   {
    "duration": 0,
    "start_time": "2022-06-02T11:36:10.675Z"
   },
   {
    "duration": 0,
    "start_time": "2022-06-02T11:36:10.676Z"
   },
   {
    "duration": 0,
    "start_time": "2022-06-02T11:36:10.677Z"
   },
   {
    "duration": 0,
    "start_time": "2022-06-02T11:36:10.678Z"
   },
   {
    "duration": 0,
    "start_time": "2022-06-02T11:36:10.679Z"
   },
   {
    "duration": 0,
    "start_time": "2022-06-02T11:36:10.680Z"
   },
   {
    "duration": 0,
    "start_time": "2022-06-02T11:36:10.681Z"
   },
   {
    "duration": 0,
    "start_time": "2022-06-02T11:36:10.682Z"
   },
   {
    "duration": 0,
    "start_time": "2022-06-02T11:36:10.684Z"
   },
   {
    "duration": 0,
    "start_time": "2022-06-02T11:36:10.685Z"
   },
   {
    "duration": 0,
    "start_time": "2022-06-02T11:36:10.686Z"
   },
   {
    "duration": 0,
    "start_time": "2022-06-02T11:36:10.687Z"
   },
   {
    "duration": 0,
    "start_time": "2022-06-02T11:36:10.688Z"
   },
   {
    "duration": 0,
    "start_time": "2022-06-02T11:36:10.689Z"
   },
   {
    "duration": 0,
    "start_time": "2022-06-02T11:36:10.690Z"
   },
   {
    "duration": 0,
    "start_time": "2022-06-02T11:36:10.692Z"
   },
   {
    "duration": 0,
    "start_time": "2022-06-02T11:36:10.693Z"
   },
   {
    "duration": 0,
    "start_time": "2022-06-02T11:36:10.694Z"
   },
   {
    "duration": 0,
    "start_time": "2022-06-02T11:36:10.695Z"
   },
   {
    "duration": 0,
    "start_time": "2022-06-02T11:36:10.752Z"
   },
   {
    "duration": 0,
    "start_time": "2022-06-02T11:36:10.754Z"
   },
   {
    "duration": 0,
    "start_time": "2022-06-02T11:36:10.755Z"
   },
   {
    "duration": 0,
    "start_time": "2022-06-02T11:36:10.756Z"
   },
   {
    "duration": 0,
    "start_time": "2022-06-02T11:36:10.757Z"
   },
   {
    "duration": 0,
    "start_time": "2022-06-02T11:36:10.758Z"
   },
   {
    "duration": 0,
    "start_time": "2022-06-02T11:36:10.759Z"
   },
   {
    "duration": 0,
    "start_time": "2022-06-02T11:36:10.760Z"
   },
   {
    "duration": 0,
    "start_time": "2022-06-02T11:36:10.761Z"
   },
   {
    "duration": 0,
    "start_time": "2022-06-02T11:36:10.762Z"
   },
   {
    "duration": 0,
    "start_time": "2022-06-02T11:36:10.763Z"
   },
   {
    "duration": 0,
    "start_time": "2022-06-02T11:36:10.764Z"
   },
   {
    "duration": 0,
    "start_time": "2022-06-02T11:36:10.765Z"
   },
   {
    "duration": 0,
    "start_time": "2022-06-02T11:36:10.766Z"
   },
   {
    "duration": 0,
    "start_time": "2022-06-02T11:36:10.767Z"
   },
   {
    "duration": 0,
    "start_time": "2022-06-02T11:36:10.768Z"
   },
   {
    "duration": 0,
    "start_time": "2022-06-02T11:36:10.769Z"
   },
   {
    "duration": 0,
    "start_time": "2022-06-02T11:36:10.770Z"
   },
   {
    "duration": 0,
    "start_time": "2022-06-02T11:36:10.771Z"
   },
   {
    "duration": 0,
    "start_time": "2022-06-02T11:36:10.772Z"
   },
   {
    "duration": 0,
    "start_time": "2022-06-02T11:36:10.773Z"
   },
   {
    "duration": 0,
    "start_time": "2022-06-02T11:36:10.774Z"
   },
   {
    "duration": 0,
    "start_time": "2022-06-02T11:36:10.775Z"
   },
   {
    "duration": 0,
    "start_time": "2022-06-02T11:36:10.776Z"
   },
   {
    "duration": 0,
    "start_time": "2022-06-02T11:36:10.777Z"
   },
   {
    "duration": 0,
    "start_time": "2022-06-02T11:36:10.778Z"
   },
   {
    "duration": 0,
    "start_time": "2022-06-02T11:36:10.778Z"
   },
   {
    "duration": 0,
    "start_time": "2022-06-02T11:36:10.779Z"
   },
   {
    "duration": 0,
    "start_time": "2022-06-02T11:36:10.780Z"
   },
   {
    "duration": 0,
    "start_time": "2022-06-02T11:36:10.781Z"
   },
   {
    "duration": 0,
    "start_time": "2022-06-02T11:36:10.781Z"
   },
   {
    "duration": 0,
    "start_time": "2022-06-02T11:36:10.782Z"
   },
   {
    "duration": 0,
    "start_time": "2022-06-02T11:36:10.783Z"
   },
   {
    "duration": 0,
    "start_time": "2022-06-02T11:36:10.784Z"
   },
   {
    "duration": 1,
    "start_time": "2022-06-02T11:36:10.785Z"
   },
   {
    "duration": 0,
    "start_time": "2022-06-02T11:36:10.787Z"
   },
   {
    "duration": 0,
    "start_time": "2022-06-02T11:36:10.787Z"
   },
   {
    "duration": 0,
    "start_time": "2022-06-02T11:36:10.852Z"
   },
   {
    "duration": 0,
    "start_time": "2022-06-02T11:36:10.854Z"
   },
   {
    "duration": 0,
    "start_time": "2022-06-02T11:36:10.855Z"
   },
   {
    "duration": 0,
    "start_time": "2022-06-02T11:36:10.856Z"
   },
   {
    "duration": 0,
    "start_time": "2022-06-02T11:36:10.857Z"
   },
   {
    "duration": 0,
    "start_time": "2022-06-02T11:36:10.858Z"
   },
   {
    "duration": 0,
    "start_time": "2022-06-02T11:36:10.859Z"
   },
   {
    "duration": 0,
    "start_time": "2022-06-02T11:36:10.860Z"
   },
   {
    "duration": 0,
    "start_time": "2022-06-02T11:36:10.862Z"
   },
   {
    "duration": 0,
    "start_time": "2022-06-02T11:36:10.863Z"
   },
   {
    "duration": 1,
    "start_time": "2022-06-02T11:36:10.863Z"
   },
   {
    "duration": 0,
    "start_time": "2022-06-02T11:36:10.865Z"
   },
   {
    "duration": 0,
    "start_time": "2022-06-02T11:36:10.866Z"
   },
   {
    "duration": 0,
    "start_time": "2022-06-02T11:36:10.867Z"
   },
   {
    "duration": 0,
    "start_time": "2022-06-02T11:36:10.868Z"
   },
   {
    "duration": 0,
    "start_time": "2022-06-02T11:36:10.869Z"
   },
   {
    "duration": 0,
    "start_time": "2022-06-02T11:36:10.870Z"
   },
   {
    "duration": 13466,
    "start_time": "2022-06-02T11:38:27.612Z"
   },
   {
    "duration": 16,
    "start_time": "2022-06-02T11:51:40.578Z"
   },
   {
    "duration": 48,
    "start_time": "2022-06-02T11:53:25.523Z"
   },
   {
    "duration": 38,
    "start_time": "2022-06-02T11:53:31.221Z"
   },
   {
    "duration": 4,
    "start_time": "2022-06-02T11:53:42.973Z"
   },
   {
    "duration": 2,
    "start_time": "2022-06-02T11:54:24.696Z"
   },
   {
    "duration": 7,
    "start_time": "2022-06-02T11:54:24.701Z"
   },
   {
    "duration": 9,
    "start_time": "2022-06-02T11:54:24.709Z"
   },
   {
    "duration": 778,
    "start_time": "2022-06-02T11:54:24.719Z"
   },
   {
    "duration": 1893,
    "start_time": "2022-06-02T11:54:25.499Z"
   },
   {
    "duration": 2,
    "start_time": "2022-06-02T11:54:27.394Z"
   },
   {
    "duration": 6,
    "start_time": "2022-06-02T11:54:40.239Z"
   },
   {
    "duration": 47,
    "start_time": "2022-06-02T11:57:10.020Z"
   },
   {
    "duration": 300,
    "start_time": "2022-06-02T11:58:20.804Z"
   },
   {
    "duration": 20,
    "start_time": "2022-06-02T12:10:05.720Z"
   },
   {
    "duration": 5857,
    "start_time": "2022-06-02T12:10:14.103Z"
   },
   {
    "duration": 65,
    "start_time": "2022-06-02T12:10:27.844Z"
   },
   {
    "duration": 168,
    "start_time": "2022-06-02T12:30:02.081Z"
   },
   {
    "duration": 408,
    "start_time": "2022-06-02T12:45:29.412Z"
   },
   {
    "duration": 3,
    "start_time": "2022-06-02T12:46:08.631Z"
   },
   {
    "duration": 475,
    "start_time": "2022-06-02T12:46:35.475Z"
   },
   {
    "duration": 73,
    "start_time": "2022-06-02T12:48:04.024Z"
   },
   {
    "duration": 9,
    "start_time": "2022-06-02T12:48:10.977Z"
   },
   {
    "duration": 43,
    "start_time": "2022-06-02T12:52:36.992Z"
   },
   {
    "duration": 14,
    "start_time": "2022-06-02T12:53:39.046Z"
   },
   {
    "duration": 28,
    "start_time": "2022-06-02T12:53:58.014Z"
   },
   {
    "duration": 15,
    "start_time": "2022-06-02T12:54:29.719Z"
   },
   {
    "duration": 28,
    "start_time": "2022-06-02T12:56:04.901Z"
   },
   {
    "duration": 30,
    "start_time": "2022-06-02T12:58:30.266Z"
   },
   {
    "duration": 16,
    "start_time": "2022-06-02T12:58:43.377Z"
   },
   {
    "duration": 14,
    "start_time": "2022-06-02T12:58:56.022Z"
   },
   {
    "duration": 8,
    "start_time": "2022-06-02T12:59:27.790Z"
   },
   {
    "duration": 4,
    "start_time": "2022-06-02T12:59:37.112Z"
   },
   {
    "duration": 73,
    "start_time": "2022-06-02T13:00:07.674Z"
   },
   {
    "duration": 17,
    "start_time": "2022-06-02T13:00:17.265Z"
   },
   {
    "duration": 17,
    "start_time": "2022-06-02T13:00:31.203Z"
   },
   {
    "duration": 73,
    "start_time": "2022-06-02T13:01:13.595Z"
   },
   {
    "duration": 16,
    "start_time": "2022-06-02T13:01:18.271Z"
   },
   {
    "duration": 111,
    "start_time": "2022-06-02T13:14:15.681Z"
   },
   {
    "duration": 17,
    "start_time": "2022-06-02T13:14:17.780Z"
   },
   {
    "duration": 15159,
    "start_time": "2022-06-02T13:14:19.810Z"
   },
   {
    "duration": 17,
    "start_time": "2022-06-02T13:40:15.158Z"
   },
   {
    "duration": 98,
    "start_time": "2022-06-02T13:40:49.436Z"
   },
   {
    "duration": 78,
    "start_time": "2022-06-02T13:51:21.271Z"
   },
   {
    "duration": 3,
    "start_time": "2022-06-02T13:51:24.880Z"
   },
   {
    "duration": 7344,
    "start_time": "2022-06-02T13:51:28.613Z"
   },
   {
    "duration": 109,
    "start_time": "2022-06-02T14:03:22.432Z"
   },
   {
    "duration": 3,
    "start_time": "2022-06-02T14:03:24.275Z"
   },
   {
    "duration": 610,
    "start_time": "2022-06-02T14:03:24.857Z"
   },
   {
    "duration": 4,
    "start_time": "2022-06-02T14:05:17.417Z"
   },
   {
    "duration": 5,
    "start_time": "2022-06-02T14:05:17.423Z"
   },
   {
    "duration": 1893,
    "start_time": "2022-06-02T14:05:17.429Z"
   },
   {
    "duration": 741,
    "start_time": "2022-06-02T14:05:19.324Z"
   },
   {
    "duration": 1942,
    "start_time": "2022-06-02T14:05:20.067Z"
   },
   {
    "duration": 3,
    "start_time": "2022-06-02T14:05:22.010Z"
   },
   {
    "duration": 27,
    "start_time": "2022-06-02T14:05:22.015Z"
   },
   {
    "duration": 133,
    "start_time": "2022-06-02T14:05:22.043Z"
   },
   {
    "duration": 323,
    "start_time": "2022-06-02T14:05:22.178Z"
   },
   {
    "duration": 102,
    "start_time": "2022-06-02T14:05:22.505Z"
   },
   {
    "duration": 22,
    "start_time": "2022-06-02T14:05:22.609Z"
   },
   {
    "duration": 5779,
    "start_time": "2022-06-02T14:05:22.633Z"
   },
   {
    "duration": 73,
    "start_time": "2022-06-02T14:05:28.413Z"
   },
   {
    "duration": 21,
    "start_time": "2022-06-02T14:05:28.488Z"
   },
   {
    "duration": 63,
    "start_time": "2022-06-02T14:05:28.510Z"
   },
   {
    "duration": 78,
    "start_time": "2022-06-02T14:05:28.574Z"
   },
   {
    "duration": 98,
    "start_time": "2022-06-02T14:05:28.654Z"
   },
   {
    "duration": 21,
    "start_time": "2022-06-02T14:05:28.754Z"
   },
   {
    "duration": 13753,
    "start_time": "2022-06-02T14:05:28.777Z"
   },
   {
    "duration": 78,
    "start_time": "2022-06-02T14:05:42.532Z"
   },
   {
    "duration": 40,
    "start_time": "2022-06-02T14:05:42.612Z"
   },
   {
    "duration": 109,
    "start_time": "2022-06-02T14:05:42.654Z"
   },
   {
    "duration": 90,
    "start_time": "2022-06-02T14:05:42.764Z"
   },
   {
    "duration": 3,
    "start_time": "2022-06-02T14:05:42.855Z"
   },
   {
    "duration": 7140,
    "start_time": "2022-06-02T14:05:42.861Z"
   },
   {
    "duration": 127,
    "start_time": "2022-06-02T14:05:50.002Z"
   },
   {
    "duration": 3,
    "start_time": "2022-06-02T14:05:50.131Z"
   },
   {
    "duration": 16257,
    "start_time": "2022-06-02T14:05:53.630Z"
   },
   {
    "duration": 28,
    "start_time": "2022-06-02T14:06:22.604Z"
   },
   {
    "duration": 7,
    "start_time": "2022-06-02T14:06:24.155Z"
   },
   {
    "duration": 81,
    "start_time": "2022-06-02T14:06:46.536Z"
   },
   {
    "duration": 1022,
    "start_time": "2022-06-02T14:07:08.562Z"
   },
   {
    "duration": 1080,
    "start_time": "2022-06-02T14:07:41.256Z"
   },
   {
    "duration": 1207,
    "start_time": "2022-06-02T14:07:50.714Z"
   },
   {
    "duration": 1041,
    "start_time": "2022-06-02T14:08:28.607Z"
   },
   {
    "duration": 1081,
    "start_time": "2022-06-02T14:08:39.712Z"
   },
   {
    "duration": 1269,
    "start_time": "2022-06-02T14:08:46.611Z"
   },
   {
    "duration": 1013,
    "start_time": "2022-06-02T14:09:49.839Z"
   },
   {
    "duration": 1250,
    "start_time": "2022-06-02T14:10:09.186Z"
   },
   {
    "duration": 80,
    "start_time": "2022-06-02T14:15:18.662Z"
   },
   {
    "duration": 104,
    "start_time": "2022-06-02T14:15:21.016Z"
   },
   {
    "duration": 33,
    "start_time": "2022-06-02T14:15:24.680Z"
   },
   {
    "duration": 83,
    "start_time": "2022-06-02T14:15:33.336Z"
   },
   {
    "duration": 87,
    "start_time": "2022-06-02T14:18:37.626Z"
   },
   {
    "duration": 63,
    "start_time": "2022-06-02T14:18:45.328Z"
   },
   {
    "duration": 36,
    "start_time": "2022-06-02T14:19:02.571Z"
   },
   {
    "duration": 55,
    "start_time": "2022-06-02T14:19:23.740Z"
   },
   {
    "duration": 89,
    "start_time": "2022-06-02T14:19:57.706Z"
   },
   {
    "duration": 54,
    "start_time": "2022-06-02T14:19:58.433Z"
   },
   {
    "duration": 1104,
    "start_time": "2022-06-02T14:37:34.610Z"
   },
   {
    "duration": 32,
    "start_time": "2022-06-02T14:38:55.770Z"
   },
   {
    "duration": 17,
    "start_time": "2022-06-02T14:39:58.005Z"
   },
   {
    "duration": 957,
    "start_time": "2022-06-02T14:40:31.095Z"
   },
   {
    "duration": 1001,
    "start_time": "2022-06-02T14:40:41.192Z"
   },
   {
    "duration": 1900,
    "start_time": "2022-06-02T14:42:30.898Z"
   },
   {
    "duration": 23095,
    "start_time": "2022-06-02T19:05:53.906Z"
   },
   {
    "duration": 4540,
    "start_time": "2022-06-02T19:06:17.004Z"
   },
   {
    "duration": 2960,
    "start_time": "2022-06-02T19:06:21.547Z"
   },
   {
    "duration": 1327,
    "start_time": "2022-06-02T19:06:24.509Z"
   },
   {
    "duration": 2509,
    "start_time": "2022-06-02T19:06:25.839Z"
   },
   {
    "duration": 5,
    "start_time": "2022-06-02T19:06:28.350Z"
   },
   {
    "duration": 17,
    "start_time": "2022-06-02T19:06:28.356Z"
   },
   {
    "duration": 146,
    "start_time": "2022-06-02T19:06:28.375Z"
   },
   {
    "duration": 383,
    "start_time": "2022-06-02T19:06:28.526Z"
   },
   {
    "duration": 121,
    "start_time": "2022-06-02T19:06:28.911Z"
   },
   {
    "duration": 29,
    "start_time": "2022-06-02T19:06:29.034Z"
   },
   {
    "duration": 6378,
    "start_time": "2022-06-02T19:06:29.065Z"
   },
   {
    "duration": 85,
    "start_time": "2022-06-02T19:06:35.444Z"
   },
   {
    "duration": 34,
    "start_time": "2022-06-02T19:06:35.532Z"
   },
   {
    "duration": 74,
    "start_time": "2022-06-02T19:06:35.567Z"
   },
   {
    "duration": 139,
    "start_time": "2022-06-02T19:06:35.646Z"
   },
   {
    "duration": 96,
    "start_time": "2022-06-02T19:06:35.787Z"
   },
   {
    "duration": 23,
    "start_time": "2022-06-02T19:06:35.885Z"
   },
   {
    "duration": 15880,
    "start_time": "2022-06-02T19:06:35.911Z"
   },
   {
    "duration": 98,
    "start_time": "2022-06-02T19:06:51.792Z"
   },
   {
    "duration": 43,
    "start_time": "2022-06-02T19:06:51.892Z"
   },
   {
    "duration": 203,
    "start_time": "2022-06-02T19:06:51.945Z"
   },
   {
    "duration": 123,
    "start_time": "2022-06-02T19:06:52.150Z"
   },
   {
    "duration": 2,
    "start_time": "2022-06-02T19:06:52.275Z"
   },
   {
    "duration": 8122,
    "start_time": "2022-06-02T19:06:52.281Z"
   },
   {
    "duration": 140,
    "start_time": "2022-06-02T19:07:00.405Z"
   },
   {
    "duration": 4,
    "start_time": "2022-06-02T19:07:00.547Z"
   },
   {
    "duration": 17224,
    "start_time": "2022-06-02T19:07:00.553Z"
   },
   {
    "duration": 58,
    "start_time": "2022-06-02T19:07:17.779Z"
   },
   {
    "duration": 7,
    "start_time": "2022-06-02T19:07:17.841Z"
   },
   {
    "duration": 159,
    "start_time": "2022-06-02T19:07:17.851Z"
   },
   {
    "duration": 2788,
    "start_time": "2022-06-02T19:07:18.011Z"
   },
   {
    "duration": 105,
    "start_time": "2022-06-02T19:07:20.801Z"
   },
   {
    "duration": 124,
    "start_time": "2022-06-02T19:07:20.908Z"
   },
   {
    "duration": 33,
    "start_time": "2022-06-02T19:07:21.039Z"
   },
   {
    "duration": 92,
    "start_time": "2022-06-02T19:07:21.073Z"
   },
   {
    "duration": 101,
    "start_time": "2022-06-02T19:07:21.167Z"
   },
   {
    "duration": 71,
    "start_time": "2022-06-02T19:07:21.270Z"
   },
   {
    "duration": 39,
    "start_time": "2022-06-02T19:07:21.343Z"
   },
   {
    "duration": 77,
    "start_time": "2022-06-02T19:07:21.383Z"
   },
   {
    "duration": 102,
    "start_time": "2022-06-02T19:07:21.464Z"
   },
   {
    "duration": 76,
    "start_time": "2022-06-02T19:07:21.568Z"
   },
   {
    "duration": 1499,
    "start_time": "2022-06-02T19:07:37.055Z"
   },
   {
    "duration": 37,
    "start_time": "2022-06-02T19:07:44.475Z"
   },
   {
    "duration": 39,
    "start_time": "2022-06-02T19:07:47.071Z"
   },
   {
    "duration": 415,
    "start_time": "2022-06-02T19:07:49.047Z"
   },
   {
    "duration": 39,
    "start_time": "2022-06-02T19:07:50.647Z"
   },
   {
    "duration": 5604,
    "start_time": "2022-06-02T19:07:51.795Z"
   },
   {
    "duration": 49,
    "start_time": "2022-06-02T19:09:53.819Z"
   },
   {
    "duration": 43,
    "start_time": "2022-06-02T19:11:00.827Z"
   },
   {
    "duration": 17,
    "start_time": "2022-06-02T19:11:02.931Z"
   },
   {
    "duration": 3,
    "start_time": "2022-06-02T19:11:09.914Z"
   },
   {
    "duration": 10692,
    "start_time": "2022-06-02T19:15:35.220Z"
   },
   {
    "duration": 14,
    "start_time": "2022-06-02T19:15:45.914Z"
   },
   {
    "duration": 22,
    "start_time": "2022-06-02T19:15:49.436Z"
   },
   {
    "duration": 20,
    "start_time": "2022-06-02T19:16:24.139Z"
   },
   {
    "duration": 45,
    "start_time": "2022-06-02T19:17:57.836Z"
   },
   {
    "duration": 439,
    "start_time": "2022-06-02T19:17:59.448Z"
   },
   {
    "duration": 61,
    "start_time": "2022-06-02T19:32:37.701Z"
   },
   {
    "duration": 4,
    "start_time": "2022-06-02T19:32:38.396Z"
   },
   {
    "duration": 9125,
    "start_time": "2022-06-02T19:32:38.918Z"
   },
   {
    "duration": 426,
    "start_time": "2022-06-02T19:32:48.046Z"
   },
   {
    "duration": 441,
    "start_time": "2022-06-02T19:32:53.043Z"
   },
   {
    "duration": 5043,
    "start_time": "2022-06-02T19:32:53.725Z"
   },
   {
    "duration": 1698,
    "start_time": "2022-06-02T19:32:58.771Z"
   },
   {
    "duration": 4082,
    "start_time": "2022-06-02T19:42:08.480Z"
   },
   {
    "duration": 2069,
    "start_time": "2022-06-02T19:42:12.564Z"
   },
   {
    "duration": 43,
    "start_time": "2022-06-02T19:50:09.262Z"
   },
   {
    "duration": 17,
    "start_time": "2022-06-02T19:50:10.103Z"
   },
   {
    "duration": 79,
    "start_time": "2022-06-02T19:50:11.461Z"
   },
   {
    "duration": 29,
    "start_time": "2022-06-02T19:50:22.730Z"
   },
   {
    "duration": 127,
    "start_time": "2022-06-02T20:06:56.763Z"
   },
   {
    "duration": 106,
    "start_time": "2022-06-02T20:07:03.093Z"
   },
   {
    "duration": 52,
    "start_time": "2022-06-02T20:07:05.268Z"
   },
   {
    "duration": 2340,
    "start_time": "2022-06-02T20:07:18.294Z"
   },
   {
    "duration": 8910,
    "start_time": "2022-06-02T20:17:35.211Z"
   },
   {
    "duration": 4,
    "start_time": "2022-06-02T20:17:59.255Z"
   },
   {
    "duration": 7,
    "start_time": "2022-06-02T20:18:09.967Z"
   },
   {
    "duration": 424063,
    "start_time": "2022-06-02T20:18:13.092Z"
   },
   {
    "duration": 3,
    "start_time": "2022-06-02T20:39:04.239Z"
   },
   {
    "duration": 4,
    "start_time": "2022-06-02T20:41:46.368Z"
   },
   {
    "duration": 14,
    "start_time": "2022-06-02T20:41:48.597Z"
   },
   {
    "duration": 5,
    "start_time": "2022-06-02T20:41:54.742Z"
   },
   {
    "duration": 69,
    "start_time": "2022-06-02T20:46:45.977Z"
   },
   {
    "duration": 44,
    "start_time": "2022-06-02T21:06:40.963Z"
   },
   {
    "duration": 170,
    "start_time": "2022-06-02T21:14:05.770Z"
   },
   {
    "duration": 2,
    "start_time": "2022-06-02T21:14:42.994Z"
   },
   {
    "duration": 887,
    "start_time": "2022-06-02T21:14:44.163Z"
   },
   {
    "duration": 3,
    "start_time": "2022-06-02T21:17:40.097Z"
   },
   {
    "duration": 745,
    "start_time": "2022-06-02T21:17:50.722Z"
   },
   {
    "duration": 3,
    "start_time": "2022-06-02T21:18:01.445Z"
   },
   {
    "duration": 61876,
    "start_time": "2022-06-02T21:18:04.440Z"
   },
   {
    "duration": 3,
    "start_time": "2022-06-02T21:20:24.481Z"
   },
   {
    "duration": 4622,
    "start_time": "2022-06-02T21:20:25.492Z"
   },
   {
    "duration": 3,
    "start_time": "2022-06-02T21:21:49.395Z"
   },
   {
    "duration": 359432,
    "start_time": "2022-06-02T21:21:49.923Z"
   },
   {
    "duration": 4,
    "start_time": "2022-06-02T21:27:49.357Z"
   },
   {
    "duration": 502396,
    "start_time": "2022-06-02T21:27:49.362Z"
   },
   {
    "duration": 0,
    "start_time": "2022-06-02T21:36:11.760Z"
   },
   {
    "duration": 0,
    "start_time": "2022-06-02T21:36:11.762Z"
   },
   {
    "duration": 14,
    "start_time": "2022-06-02T21:36:16.337Z"
   },
   {
    "duration": 3,
    "start_time": "2022-06-02T21:36:53.936Z"
   },
   {
    "duration": 207187,
    "start_time": "2022-06-02T21:36:54.440Z"
   },
   {
    "duration": 13,
    "start_time": "2022-06-02T21:40:29.179Z"
   },
   {
    "duration": 529,
    "start_time": "2022-06-03T09:02:42.350Z"
   },
   {
    "duration": 19803,
    "start_time": "2022-06-03T09:02:48.158Z"
   },
   {
    "duration": 7688,
    "start_time": "2022-06-03T09:03:07.964Z"
   },
   {
    "duration": 2463,
    "start_time": "2022-06-03T09:04:01.001Z"
   },
   {
    "duration": 2938,
    "start_time": "2022-06-03T09:04:08.299Z"
   },
   {
    "duration": 3460,
    "start_time": "2022-06-03T09:04:13.932Z"
   },
   {
    "duration": 42,
    "start_time": "2022-06-03T09:05:53.932Z"
   },
   {
    "duration": 3,
    "start_time": "2022-06-03T09:06:08.085Z"
   },
   {
    "duration": 5,
    "start_time": "2022-06-03T09:06:09.545Z"
   },
   {
    "duration": 7,
    "start_time": "2022-06-03T09:08:01.045Z"
   },
   {
    "duration": 957,
    "start_time": "2022-06-03T09:08:01.884Z"
   },
   {
    "duration": 2497,
    "start_time": "2022-06-03T09:08:03.657Z"
   },
   {
    "duration": 4,
    "start_time": "2022-06-03T09:08:06.544Z"
   },
   {
    "duration": 5,
    "start_time": "2022-06-03T09:08:07.701Z"
   },
   {
    "duration": 2,
    "start_time": "2022-06-03T09:08:14.114Z"
   },
   {
    "duration": 310,
    "start_time": "2022-06-03T09:10:04.895Z"
   },
   {
    "duration": 34,
    "start_time": "2022-06-03T09:10:20.707Z"
   },
   {
    "duration": 172,
    "start_time": "2022-06-03T09:10:22.955Z"
   },
   {
    "duration": 57,
    "start_time": "2022-06-03T09:10:39.193Z"
   },
   {
    "duration": 7,
    "start_time": "2022-06-03T09:10:52.051Z"
   },
   {
    "duration": 755,
    "start_time": "2022-06-03T09:10:52.718Z"
   },
   {
    "duration": 2074,
    "start_time": "2022-06-03T09:10:53.992Z"
   },
   {
    "duration": 3,
    "start_time": "2022-06-03T09:10:57.488Z"
   },
   {
    "duration": 4,
    "start_time": "2022-06-03T09:10:58.779Z"
   },
   {
    "duration": 2,
    "start_time": "2022-06-03T09:11:01.466Z"
   },
   {
    "duration": 328,
    "start_time": "2022-06-03T09:11:06.230Z"
   },
   {
    "duration": 34,
    "start_time": "2022-06-03T09:11:10.905Z"
   },
   {
    "duration": 88,
    "start_time": "2022-06-03T09:11:13.483Z"
   },
   {
    "duration": 49,
    "start_time": "2022-06-03T09:11:29.263Z"
   },
   {
    "duration": 2,
    "start_time": "2022-06-03T09:12:18.219Z"
   },
   {
    "duration": 11,
    "start_time": "2022-06-03T09:12:18.222Z"
   },
   {
    "duration": 7,
    "start_time": "2022-06-03T09:12:18.239Z"
   },
   {
    "duration": 845,
    "start_time": "2022-06-03T09:12:18.248Z"
   },
   {
    "duration": 2103,
    "start_time": "2022-06-03T09:12:19.095Z"
   },
   {
    "duration": 3,
    "start_time": "2022-06-03T09:12:21.199Z"
   },
   {
    "duration": 14,
    "start_time": "2022-06-03T09:12:21.204Z"
   },
   {
    "duration": 9,
    "start_time": "2022-06-03T09:12:21.219Z"
   },
   {
    "duration": 302,
    "start_time": "2022-06-03T09:12:21.230Z"
   },
   {
    "duration": 36,
    "start_time": "2022-06-03T09:13:04.619Z"
   },
   {
    "duration": 56,
    "start_time": "2022-06-03T09:13:09.840Z"
   },
   {
    "duration": 2,
    "start_time": "2022-06-03T09:17:17.490Z"
   },
   {
    "duration": 2,
    "start_time": "2022-06-03T09:17:18.708Z"
   },
   {
    "duration": 7,
    "start_time": "2022-06-03T09:17:19.718Z"
   },
   {
    "duration": 766,
    "start_time": "2022-06-03T09:17:24.009Z"
   },
   {
    "duration": 2110,
    "start_time": "2022-06-03T09:17:26.041Z"
   },
   {
    "duration": 3,
    "start_time": "2022-06-03T09:17:33.342Z"
   },
   {
    "duration": 4,
    "start_time": "2022-06-03T09:17:40.708Z"
   },
   {
    "duration": 3,
    "start_time": "2022-06-03T09:17:42.992Z"
   },
   {
    "duration": 12,
    "start_time": "2022-06-03T09:23:47.399Z"
   },
   {
    "duration": 11,
    "start_time": "2022-06-03T09:23:52.090Z"
   },
   {
    "duration": 117,
    "start_time": "2022-06-03T09:23:55.253Z"
   },
   {
    "duration": 162,
    "start_time": "2022-06-03T09:25:34.647Z"
   },
   {
    "duration": 13,
    "start_time": "2022-06-03T09:25:42.424Z"
   },
   {
    "duration": 13,
    "start_time": "2022-06-03T09:26:25.047Z"
   },
   {
    "duration": 17,
    "start_time": "2022-06-03T09:26:35.550Z"
   },
   {
    "duration": 4,
    "start_time": "2022-06-03T09:26:45.399Z"
   },
   {
    "duration": 12,
    "start_time": "2022-06-03T09:26:47.493Z"
   },
   {
    "duration": 287,
    "start_time": "2022-06-03T09:26:53.348Z"
   },
   {
    "duration": 285,
    "start_time": "2022-06-03T09:27:06.218Z"
   },
   {
    "duration": 261,
    "start_time": "2022-06-03T09:28:01.391Z"
   },
   {
    "duration": 260,
    "start_time": "2022-06-03T09:28:24.465Z"
   },
   {
    "duration": 267,
    "start_time": "2022-06-03T09:28:32.064Z"
   },
   {
    "duration": 244,
    "start_time": "2022-06-03T09:28:35.964Z"
   },
   {
    "duration": 249,
    "start_time": "2022-06-03T09:29:02.396Z"
   },
   {
    "duration": 118,
    "start_time": "2022-06-03T09:29:12.238Z"
   },
   {
    "duration": 255,
    "start_time": "2022-06-03T09:29:31.597Z"
   },
   {
    "duration": 107,
    "start_time": "2022-06-03T09:31:06.408Z"
   },
   {
    "duration": 5,
    "start_time": "2022-06-03T09:31:18.324Z"
   },
   {
    "duration": 5,
    "start_time": "2022-06-03T09:33:47.301Z"
   },
   {
    "duration": 26,
    "start_time": "2022-06-03T09:34:28.764Z"
   },
   {
    "duration": 104,
    "start_time": "2022-06-03T09:34:49.507Z"
   },
   {
    "duration": 25,
    "start_time": "2022-06-03T09:35:00.503Z"
   },
   {
    "duration": 8321,
    "start_time": "2022-06-03T09:35:09.366Z"
   },
   {
    "duration": 152,
    "start_time": "2022-06-03T09:35:22.097Z"
   },
   {
    "duration": 3,
    "start_time": "2022-06-03T09:36:05.827Z"
   },
   {
    "duration": 7,
    "start_time": "2022-06-03T09:36:05.832Z"
   },
   {
    "duration": 9,
    "start_time": "2022-06-03T09:36:05.859Z"
   },
   {
    "duration": 855,
    "start_time": "2022-06-03T09:36:05.871Z"
   },
   {
    "duration": 2473,
    "start_time": "2022-06-03T09:36:06.728Z"
   },
   {
    "duration": 4,
    "start_time": "2022-06-03T09:36:09.203Z"
   },
   {
    "duration": 10,
    "start_time": "2022-06-03T09:36:09.208Z"
   },
   {
    "duration": 6,
    "start_time": "2022-06-03T09:36:09.219Z"
   },
   {
    "duration": 373,
    "start_time": "2022-06-03T09:36:09.226Z"
   },
   {
    "duration": 198,
    "start_time": "2022-06-03T09:36:09.601Z"
   },
   {
    "duration": 115,
    "start_time": "2022-06-03T09:36:09.802Z"
   },
   {
    "duration": 4,
    "start_time": "2022-06-03T09:36:09.918Z"
   },
   {
    "duration": 141,
    "start_time": "2022-06-03T09:36:16.324Z"
   },
   {
    "duration": 96,
    "start_time": "2022-06-03T09:36:20.169Z"
   },
   {
    "duration": 3,
    "start_time": "2022-06-03T09:38:15.200Z"
   },
   {
    "duration": 93,
    "start_time": "2022-06-03T09:38:16.064Z"
   },
   {
    "duration": 29,
    "start_time": "2022-06-03T09:40:16.778Z"
   },
   {
    "duration": 67,
    "start_time": "2022-06-03T09:40:23.562Z"
   },
   {
    "duration": 92,
    "start_time": "2022-06-03T09:40:24.024Z"
   },
   {
    "duration": 514,
    "start_time": "2022-06-03T09:44:55.939Z"
   },
   {
    "duration": 646,
    "start_time": "2022-06-03T09:45:42.681Z"
   },
   {
    "duration": 6,
    "start_time": "2022-06-03T09:45:48.869Z"
   },
   {
    "duration": 7,
    "start_time": "2022-06-03T09:45:48.877Z"
   },
   {
    "duration": 9,
    "start_time": "2022-06-03T09:45:48.887Z"
   },
   {
    "duration": 855,
    "start_time": "2022-06-03T09:45:48.898Z"
   },
   {
    "duration": 2561,
    "start_time": "2022-06-03T09:45:49.756Z"
   },
   {
    "duration": 4,
    "start_time": "2022-06-03T09:45:52.319Z"
   },
   {
    "duration": 52,
    "start_time": "2022-06-03T09:45:52.325Z"
   },
   {
    "duration": 16,
    "start_time": "2022-06-03T09:45:52.379Z"
   },
   {
    "duration": 425,
    "start_time": "2022-06-03T09:45:52.396Z"
   },
   {
    "duration": 232,
    "start_time": "2022-06-03T09:45:52.823Z"
   },
   {
    "duration": 111,
    "start_time": "2022-06-03T09:45:53.058Z"
   },
   {
    "duration": 5,
    "start_time": "2022-06-03T09:45:53.170Z"
   },
   {
    "duration": 193,
    "start_time": "2022-06-03T09:45:53.178Z"
   },
   {
    "duration": 6,
    "start_time": "2022-06-03T09:45:53.372Z"
   },
   {
    "duration": 133,
    "start_time": "2022-06-03T09:45:53.379Z"
   },
   {
    "duration": 45,
    "start_time": "2022-06-03T09:45:53.514Z"
   },
   {
    "duration": 51,
    "start_time": "2022-06-03T09:45:53.564Z"
   },
   {
    "duration": 107,
    "start_time": "2022-06-03T09:45:53.617Z"
   },
   {
    "duration": 3,
    "start_time": "2022-06-03T09:45:53.726Z"
   },
   {
    "duration": 14,
    "start_time": "2022-06-03T09:45:53.731Z"
   },
   {
    "duration": 42,
    "start_time": "2022-06-03T09:45:53.749Z"
   },
   {
    "duration": 586,
    "start_time": "2022-06-03T09:45:54.907Z"
   },
   {
    "duration": 673,
    "start_time": "2022-06-03T09:46:12.977Z"
   },
   {
    "duration": 111,
    "start_time": "2022-06-03T09:46:49.667Z"
   },
   {
    "duration": 238,
    "start_time": "2022-06-03T09:47:55.126Z"
   },
   {
    "duration": 40,
    "start_time": "2022-06-03T09:48:05.014Z"
   },
   {
    "duration": 816,
    "start_time": "2022-06-03T09:48:16.593Z"
   },
   {
    "duration": 59,
    "start_time": "2022-06-03T09:48:22.728Z"
   },
   {
    "duration": 781,
    "start_time": "2022-06-03T09:48:33.186Z"
   },
   {
    "duration": 245,
    "start_time": "2022-06-03T09:48:42.117Z"
   },
   {
    "duration": 5,
    "start_time": "2022-06-03T09:49:29.767Z"
   },
   {
    "duration": 3,
    "start_time": "2022-06-03T09:49:29.779Z"
   },
   {
    "duration": 12,
    "start_time": "2022-06-03T09:49:29.785Z"
   },
   {
    "duration": 862,
    "start_time": "2022-06-03T09:49:29.798Z"
   },
   {
    "duration": 2556,
    "start_time": "2022-06-03T09:49:30.662Z"
   },
   {
    "duration": 3,
    "start_time": "2022-06-03T09:49:33.220Z"
   },
   {
    "duration": 50,
    "start_time": "2022-06-03T09:49:33.225Z"
   },
   {
    "duration": 7,
    "start_time": "2022-06-03T09:49:33.277Z"
   },
   {
    "duration": 375,
    "start_time": "2022-06-03T09:49:33.286Z"
   },
   {
    "duration": 189,
    "start_time": "2022-06-03T09:49:33.666Z"
   },
   {
    "duration": 111,
    "start_time": "2022-06-03T09:49:33.857Z"
   },
   {
    "duration": 3,
    "start_time": "2022-06-03T09:49:33.970Z"
   },
   {
    "duration": 152,
    "start_time": "2022-06-03T09:49:33.975Z"
   },
   {
    "duration": 2,
    "start_time": "2022-06-03T09:49:34.128Z"
   },
   {
    "duration": 129,
    "start_time": "2022-06-03T09:49:34.132Z"
   },
   {
    "duration": 28,
    "start_time": "2022-06-03T09:49:34.266Z"
   },
   {
    "duration": 41,
    "start_time": "2022-06-03T09:49:34.296Z"
   },
   {
    "duration": 129,
    "start_time": "2022-06-03T09:49:34.339Z"
   },
   {
    "duration": 2,
    "start_time": "2022-06-03T09:49:34.472Z"
   },
   {
    "duration": 8,
    "start_time": "2022-06-03T09:49:34.475Z"
   },
   {
    "duration": 11,
    "start_time": "2022-06-03T09:49:34.485Z"
   },
   {
    "duration": 196,
    "start_time": "2022-06-03T09:49:39.569Z"
   },
   {
    "duration": 206,
    "start_time": "2022-06-03T09:51:16.012Z"
   },
   {
    "duration": 83,
    "start_time": "2022-06-03T09:51:19.478Z"
   },
   {
    "duration": 3,
    "start_time": "2022-06-03T09:51:54.638Z"
   },
   {
    "duration": 5,
    "start_time": "2022-06-03T09:51:54.644Z"
   },
   {
    "duration": 10,
    "start_time": "2022-06-03T09:51:54.658Z"
   },
   {
    "duration": 828,
    "start_time": "2022-06-03T09:51:54.670Z"
   },
   {
    "duration": 2161,
    "start_time": "2022-06-03T09:51:55.500Z"
   },
   {
    "duration": 3,
    "start_time": "2022-06-03T09:51:57.663Z"
   },
   {
    "duration": 9,
    "start_time": "2022-06-03T09:51:57.669Z"
   },
   {
    "duration": 9,
    "start_time": "2022-06-03T09:51:57.679Z"
   },
   {
    "duration": 421,
    "start_time": "2022-06-03T09:51:57.690Z"
   },
   {
    "duration": 201,
    "start_time": "2022-06-03T09:51:58.116Z"
   },
   {
    "duration": 107,
    "start_time": "2022-06-03T09:51:58.318Z"
   },
   {
    "duration": 2,
    "start_time": "2022-06-03T09:51:58.427Z"
   },
   {
    "duration": 145,
    "start_time": "2022-06-03T09:51:58.443Z"
   },
   {
    "duration": 3,
    "start_time": "2022-06-03T09:51:58.590Z"
   },
   {
    "duration": 126,
    "start_time": "2022-06-03T09:51:58.594Z"
   },
   {
    "duration": 42,
    "start_time": "2022-06-03T09:51:58.722Z"
   },
   {
    "duration": 47,
    "start_time": "2022-06-03T09:51:58.766Z"
   },
   {
    "duration": 115,
    "start_time": "2022-06-03T09:51:58.815Z"
   },
   {
    "duration": 2,
    "start_time": "2022-06-03T09:51:58.941Z"
   },
   {
    "duration": 61,
    "start_time": "2022-06-03T09:51:58.945Z"
   },
   {
    "duration": 57,
    "start_time": "2022-06-03T09:51:59.008Z"
   },
   {
    "duration": 279,
    "start_time": "2022-06-03T09:52:01.703Z"
   },
   {
    "duration": 102,
    "start_time": "2022-06-03T09:52:03.517Z"
   },
   {
    "duration": 3,
    "start_time": "2022-06-03T09:53:25.281Z"
   },
   {
    "duration": 23,
    "start_time": "2022-06-03T09:53:25.285Z"
   },
   {
    "duration": 19,
    "start_time": "2022-06-03T09:53:25.310Z"
   },
   {
    "duration": 828,
    "start_time": "2022-06-03T09:53:25.331Z"
   },
   {
    "duration": 2245,
    "start_time": "2022-06-03T09:53:26.161Z"
   },
   {
    "duration": 3,
    "start_time": "2022-06-03T09:53:28.408Z"
   },
   {
    "duration": 8,
    "start_time": "2022-06-03T09:53:28.413Z"
   },
   {
    "duration": 19,
    "start_time": "2022-06-03T09:53:28.423Z"
   },
   {
    "duration": 336,
    "start_time": "2022-06-03T09:53:28.444Z"
   },
   {
    "duration": 175,
    "start_time": "2022-06-03T09:53:28.782Z"
   },
   {
    "duration": 104,
    "start_time": "2022-06-03T09:53:28.958Z"
   },
   {
    "duration": 4,
    "start_time": "2022-06-03T09:53:29.064Z"
   },
   {
    "duration": 140,
    "start_time": "2022-06-03T09:53:29.069Z"
   },
   {
    "duration": 3,
    "start_time": "2022-06-03T09:53:29.212Z"
   },
   {
    "duration": 107,
    "start_time": "2022-06-03T09:53:29.216Z"
   },
   {
    "duration": 42,
    "start_time": "2022-06-03T09:53:29.325Z"
   },
   {
    "duration": 42,
    "start_time": "2022-06-03T09:53:29.369Z"
   },
   {
    "duration": 103,
    "start_time": "2022-06-03T09:53:29.413Z"
   },
   {
    "duration": 3,
    "start_time": "2022-06-03T09:53:29.518Z"
   },
   {
    "duration": 5,
    "start_time": "2022-06-03T09:53:29.523Z"
   },
   {
    "duration": 13,
    "start_time": "2022-06-03T09:53:29.530Z"
   },
   {
    "duration": 231,
    "start_time": "2022-06-03T09:53:31.484Z"
   },
   {
    "duration": 85,
    "start_time": "2022-06-03T09:53:33.516Z"
   },
   {
    "duration": 31,
    "start_time": "2022-06-03T09:53:45.478Z"
   },
   {
    "duration": 76,
    "start_time": "2022-06-03T09:54:52.095Z"
   },
   {
    "duration": 119,
    "start_time": "2022-06-03T09:55:05.533Z"
   },
   {
    "duration": 2,
    "start_time": "2022-06-03T09:56:15.464Z"
   },
   {
    "duration": 2,
    "start_time": "2022-06-03T09:56:19.688Z"
   },
   {
    "duration": 336,
    "start_time": "2022-06-03T09:58:00.350Z"
   },
   {
    "duration": 3,
    "start_time": "2022-06-03T09:59:06.030Z"
   },
   {
    "duration": 2,
    "start_time": "2022-06-03T09:59:07.752Z"
   },
   {
    "duration": 3,
    "start_time": "2022-06-03T09:59:26.747Z"
   },
   {
    "duration": 3,
    "start_time": "2022-06-03T10:00:41.611Z"
   },
   {
    "duration": 289,
    "start_time": "2022-06-03T10:02:46.658Z"
   },
   {
    "duration": 154,
    "start_time": "2022-06-03T10:03:08.035Z"
   },
   {
    "duration": 2,
    "start_time": "2022-06-03T10:03:21.281Z"
   },
   {
    "duration": 2,
    "start_time": "2022-06-03T10:04:09.078Z"
   },
   {
    "duration": 6,
    "start_time": "2022-06-03T10:04:09.082Z"
   },
   {
    "duration": 21,
    "start_time": "2022-06-03T10:04:09.090Z"
   },
   {
    "duration": 823,
    "start_time": "2022-06-03T10:04:09.112Z"
   },
   {
    "duration": 2596,
    "start_time": "2022-06-03T10:04:09.937Z"
   },
   {
    "duration": 18,
    "start_time": "2022-06-03T10:04:12.534Z"
   },
   {
    "duration": 9,
    "start_time": "2022-06-03T10:04:12.555Z"
   },
   {
    "duration": 20,
    "start_time": "2022-06-03T10:04:12.565Z"
   },
   {
    "duration": 336,
    "start_time": "2022-06-03T10:04:12.586Z"
   },
   {
    "duration": 194,
    "start_time": "2022-06-03T10:04:12.924Z"
   },
   {
    "duration": 2,
    "start_time": "2022-06-03T10:04:13.119Z"
   },
   {
    "duration": 36,
    "start_time": "2022-06-03T10:04:13.122Z"
   },
   {
    "duration": 142,
    "start_time": "2022-06-03T10:04:13.159Z"
   },
   {
    "duration": 1,
    "start_time": "2022-06-03T10:04:13.303Z"
   },
   {
    "duration": 106,
    "start_time": "2022-06-03T10:04:13.307Z"
   },
   {
    "duration": 36,
    "start_time": "2022-06-03T10:04:13.415Z"
   },
   {
    "duration": 43,
    "start_time": "2022-06-03T10:04:13.453Z"
   },
   {
    "duration": 93,
    "start_time": "2022-06-03T10:04:13.498Z"
   },
   {
    "duration": 3,
    "start_time": "2022-06-03T10:04:13.593Z"
   },
   {
    "duration": 9,
    "start_time": "2022-06-03T10:04:13.598Z"
   },
   {
    "duration": 13,
    "start_time": "2022-06-03T10:04:13.608Z"
   },
   {
    "duration": 244,
    "start_time": "2022-06-03T10:04:13.623Z"
   },
   {
    "duration": 95,
    "start_time": "2022-06-03T10:04:13.869Z"
   },
   {
    "duration": 30,
    "start_time": "2022-06-03T10:04:13.966Z"
   },
   {
    "duration": 157,
    "start_time": "2022-06-03T10:04:13.997Z"
   },
   {
    "duration": 2,
    "start_time": "2022-06-03T10:04:14.156Z"
   },
   {
    "duration": 13,
    "start_time": "2022-06-03T10:04:14.160Z"
   },
   {
    "duration": 361,
    "start_time": "2022-06-03T10:04:14.175Z"
   },
   {
    "duration": 6,
    "start_time": "2022-06-03T10:04:14.538Z"
   },
   {
    "duration": 18,
    "start_time": "2022-06-03T10:04:14.545Z"
   },
   {
    "duration": 274,
    "start_time": "2022-06-03T10:04:16.784Z"
   },
   {
    "duration": 260,
    "start_time": "2022-06-03T10:04:56.804Z"
   },
   {
    "duration": 120,
    "start_time": "2022-06-03T10:05:59.943Z"
   },
   {
    "duration": 3,
    "start_time": "2022-06-03T10:06:01.587Z"
   },
   {
    "duration": 17721,
    "start_time": "2022-06-03T10:06:02.717Z"
   },
   {
    "duration": 32,
    "start_time": "2022-06-03T10:06:20.440Z"
   },
   {
    "duration": 7,
    "start_time": "2022-06-03T10:06:37.828Z"
   },
   {
    "duration": 100,
    "start_time": "2022-06-03T10:06:39.753Z"
   },
   {
    "duration": 18,
    "start_time": "2022-06-03T10:06:48.398Z"
   },
   {
    "duration": 3102,
    "start_time": "2022-06-03T10:06:59.893Z"
   },
   {
    "duration": 98,
    "start_time": "2022-06-03T10:07:18.482Z"
   },
   {
    "duration": 3,
    "start_time": "2022-06-03T10:08:37.948Z"
   },
   {
    "duration": 39,
    "start_time": "2022-06-03T10:08:55.414Z"
   },
   {
    "duration": 53,
    "start_time": "2022-06-03T10:08:57.016Z"
   },
   {
    "duration": 53,
    "start_time": "2022-06-03T10:09:46.109Z"
   },
   {
    "duration": 14,
    "start_time": "2022-06-03T10:09:49.698Z"
   },
   {
    "duration": 30,
    "start_time": "2022-06-03T10:09:59.596Z"
   },
   {
    "duration": 41,
    "start_time": "2022-06-03T10:10:05.942Z"
   },
   {
    "duration": 2,
    "start_time": "2022-06-03T10:10:14.508Z"
   },
   {
    "duration": 2,
    "start_time": "2022-06-03T10:10:34.950Z"
   },
   {
    "duration": 38,
    "start_time": "2022-06-03T10:11:25.362Z"
   },
   {
    "duration": 16,
    "start_time": "2022-06-03T10:12:18.234Z"
   },
   {
    "duration": 14,
    "start_time": "2022-06-03T10:12:23.159Z"
   },
   {
    "duration": 28,
    "start_time": "2022-06-03T10:12:27.625Z"
   },
   {
    "duration": 2,
    "start_time": "2022-06-03T10:12:43.202Z"
   },
   {
    "duration": 13,
    "start_time": "2022-06-03T10:12:47.062Z"
   },
   {
    "duration": 33,
    "start_time": "2022-06-03T10:12:54.981Z"
   },
   {
    "duration": 2,
    "start_time": "2022-06-03T10:13:31.513Z"
   },
   {
    "duration": 8,
    "start_time": "2022-06-03T10:13:31.519Z"
   },
   {
    "duration": 10,
    "start_time": "2022-06-03T10:13:31.529Z"
   },
   {
    "duration": 789,
    "start_time": "2022-06-03T10:13:31.541Z"
   },
   {
    "duration": 2040,
    "start_time": "2022-06-03T10:13:32.332Z"
   },
   {
    "duration": 3,
    "start_time": "2022-06-03T10:13:34.374Z"
   },
   {
    "duration": 11,
    "start_time": "2022-06-03T10:13:34.378Z"
   },
   {
    "duration": 6,
    "start_time": "2022-06-03T10:13:34.390Z"
   },
   {
    "duration": 332,
    "start_time": "2022-06-03T10:13:34.398Z"
   },
   {
    "duration": 166,
    "start_time": "2022-06-03T10:13:34.732Z"
   },
   {
    "duration": 2,
    "start_time": "2022-06-03T10:13:34.900Z"
   },
   {
    "duration": 6,
    "start_time": "2022-06-03T10:13:34.903Z"
   },
   {
    "duration": 150,
    "start_time": "2022-06-03T10:13:34.911Z"
   },
   {
    "duration": 2,
    "start_time": "2022-06-03T10:13:35.063Z"
   },
   {
    "duration": 115,
    "start_time": "2022-06-03T10:13:35.067Z"
   },
   {
    "duration": 30,
    "start_time": "2022-06-03T10:13:35.183Z"
   },
   {
    "duration": 59,
    "start_time": "2022-06-03T10:13:35.214Z"
   },
   {
    "duration": 90,
    "start_time": "2022-06-03T10:13:35.275Z"
   },
   {
    "duration": 2,
    "start_time": "2022-06-03T10:13:35.367Z"
   },
   {
    "duration": 13,
    "start_time": "2022-06-03T10:13:35.370Z"
   },
   {
    "duration": 11,
    "start_time": "2022-06-03T10:13:35.384Z"
   },
   {
    "duration": 226,
    "start_time": "2022-06-03T10:13:35.397Z"
   },
   {
    "duration": 87,
    "start_time": "2022-06-03T10:13:35.625Z"
   },
   {
    "duration": 40,
    "start_time": "2022-06-03T10:13:35.714Z"
   },
   {
    "duration": 128,
    "start_time": "2022-06-03T10:13:35.756Z"
   },
   {
    "duration": 2,
    "start_time": "2022-06-03T10:13:35.886Z"
   },
   {
    "duration": 6,
    "start_time": "2022-06-03T10:13:35.889Z"
   },
   {
    "duration": 311,
    "start_time": "2022-06-03T10:13:35.897Z"
   },
   {
    "duration": 125,
    "start_time": "2022-06-03T10:13:36.210Z"
   },
   {
    "duration": 5,
    "start_time": "2022-06-03T10:13:36.336Z"
   },
   {
    "duration": 17070,
    "start_time": "2022-06-03T10:13:36.345Z"
   },
   {
    "duration": 41,
    "start_time": "2022-06-03T10:13:53.417Z"
   },
   {
    "duration": 5,
    "start_time": "2022-06-03T10:13:53.460Z"
   },
   {
    "duration": 114,
    "start_time": "2022-06-03T10:13:53.467Z"
   },
   {
    "duration": 3141,
    "start_time": "2022-06-03T10:13:53.583Z"
   },
   {
    "duration": 100,
    "start_time": "2022-06-03T10:13:56.726Z"
   },
   {
    "duration": 14,
    "start_time": "2022-06-03T10:13:56.828Z"
   },
   {
    "duration": 33,
    "start_time": "2022-06-03T10:13:58.879Z"
   },
   {
    "duration": 56,
    "start_time": "2022-06-03T10:14:00.281Z"
   },
   {
    "duration": 58,
    "start_time": "2022-06-03T10:14:17.563Z"
   },
   {
    "duration": 30,
    "start_time": "2022-06-03T10:14:25.289Z"
   },
   {
    "duration": 3,
    "start_time": "2022-06-03T10:14:28.725Z"
   },
   {
    "duration": 3,
    "start_time": "2022-06-03T10:14:37.979Z"
   },
   {
    "duration": 4,
    "start_time": "2022-06-03T10:14:59.917Z"
   },
   {
    "duration": 19,
    "start_time": "2022-06-03T10:15:07.026Z"
   },
   {
    "duration": 7335,
    "start_time": "2022-06-03T10:15:16.665Z"
   },
   {
    "duration": 7,
    "start_time": "2022-06-03T10:15:26.798Z"
   },
   {
    "duration": 7095,
    "start_time": "2022-06-03T10:15:36.822Z"
   },
   {
    "duration": 7714,
    "start_time": "2022-06-03T10:16:19.854Z"
   },
   {
    "duration": 7684,
    "start_time": "2022-06-03T10:16:47.582Z"
   },
   {
    "duration": 827,
    "start_time": "2022-06-03T10:17:19.866Z"
   },
   {
    "duration": 329,
    "start_time": "2022-06-03T10:17:26.402Z"
   },
   {
    "duration": 276,
    "start_time": "2022-06-03T10:17:35.057Z"
   },
   {
    "duration": 327,
    "start_time": "2022-06-03T10:17:47.953Z"
   },
   {
    "duration": 285,
    "start_time": "2022-06-03T10:18:54.083Z"
   },
   {
    "duration": 291,
    "start_time": "2022-06-03T10:19:00.584Z"
   },
   {
    "duration": 279,
    "start_time": "2022-06-03T10:19:05.929Z"
   },
   {
    "duration": 312,
    "start_time": "2022-06-03T10:19:37.626Z"
   },
   {
    "duration": 326,
    "start_time": "2022-06-03T10:19:54.957Z"
   },
   {
    "duration": 342,
    "start_time": "2022-06-03T10:20:01.915Z"
   },
   {
    "duration": 403,
    "start_time": "2022-06-03T10:20:12.442Z"
   },
   {
    "duration": 600,
    "start_time": "2022-06-03T10:20:17.783Z"
   },
   {
    "duration": 764,
    "start_time": "2022-06-03T10:20:22.927Z"
   },
   {
    "duration": 442,
    "start_time": "2022-06-03T10:21:06.138Z"
   },
   {
    "duration": 405,
    "start_time": "2022-06-03T10:21:19.086Z"
   },
   {
    "duration": 389,
    "start_time": "2022-06-03T10:21:49.884Z"
   },
   {
    "duration": 43,
    "start_time": "2022-06-03T10:22:19.610Z"
   },
   {
    "duration": 406,
    "start_time": "2022-06-03T10:27:23.070Z"
   },
   {
    "duration": 424,
    "start_time": "2022-06-03T10:27:29.499Z"
   },
   {
    "duration": 435,
    "start_time": "2022-06-03T10:27:37.506Z"
   },
   {
    "duration": 801,
    "start_time": "2022-06-03T10:27:44.862Z"
   },
   {
    "duration": 410,
    "start_time": "2022-06-03T10:27:53.256Z"
   },
   {
    "duration": 410,
    "start_time": "2022-06-03T10:27:58.517Z"
   },
   {
    "duration": 35,
    "start_time": "2022-06-03T10:29:06.490Z"
   },
   {
    "duration": 53,
    "start_time": "2022-06-03T10:29:55.406Z"
   },
   {
    "duration": 1398,
    "start_time": "2022-06-03T10:30:09.111Z"
   },
   {
    "duration": 31,
    "start_time": "2022-06-03T10:30:13.290Z"
   },
   {
    "duration": 28,
    "start_time": "2022-06-03T10:30:15.694Z"
   },
   {
    "duration": 463,
    "start_time": "2022-06-03T10:30:16.464Z"
   },
   {
    "duration": 39,
    "start_time": "2022-06-03T10:30:38.312Z"
   },
   {
    "duration": 26,
    "start_time": "2022-06-03T10:30:43.531Z"
   },
   {
    "duration": 5373,
    "start_time": "2022-06-03T10:30:48.689Z"
   },
   {
    "duration": 41,
    "start_time": "2022-06-03T10:31:18.202Z"
   },
   {
    "duration": 2,
    "start_time": "2022-06-03T10:32:25.226Z"
   },
   {
    "duration": 2,
    "start_time": "2022-06-03T10:32:35.947Z"
   },
   {
    "duration": 2,
    "start_time": "2022-06-03T10:32:42.452Z"
   },
   {
    "duration": 3,
    "start_time": "2022-06-03T10:32:53.024Z"
   },
   {
    "duration": 66,
    "start_time": "2022-06-03T10:34:12.330Z"
   },
   {
    "duration": 316,
    "start_time": "2022-06-03T10:34:20.890Z"
   },
   {
    "duration": 49,
    "start_time": "2022-06-03T10:34:28.531Z"
   },
   {
    "duration": 2,
    "start_time": "2022-06-03T10:36:37.793Z"
   },
   {
    "duration": 13,
    "start_time": "2022-06-03T10:36:37.797Z"
   },
   {
    "duration": 32,
    "start_time": "2022-06-03T10:36:37.811Z"
   },
   {
    "duration": 831,
    "start_time": "2022-06-03T10:36:37.845Z"
   },
   {
    "duration": 2034,
    "start_time": "2022-06-03T10:36:38.677Z"
   },
   {
    "duration": 3,
    "start_time": "2022-06-03T10:36:40.713Z"
   },
   {
    "duration": 31,
    "start_time": "2022-06-03T10:36:40.718Z"
   },
   {
    "duration": 27,
    "start_time": "2022-06-03T10:36:40.751Z"
   },
   {
    "duration": 319,
    "start_time": "2022-06-03T10:36:40.781Z"
   },
   {
    "duration": 172,
    "start_time": "2022-06-03T10:36:41.101Z"
   },
   {
    "duration": 3,
    "start_time": "2022-06-03T10:36:41.275Z"
   },
   {
    "duration": 23,
    "start_time": "2022-06-03T10:36:41.280Z"
   },
   {
    "duration": 145,
    "start_time": "2022-06-03T10:36:41.305Z"
   },
   {
    "duration": 3,
    "start_time": "2022-06-03T10:36:41.451Z"
   },
   {
    "duration": 115,
    "start_time": "2022-06-03T10:36:41.455Z"
   },
   {
    "duration": 27,
    "start_time": "2022-06-03T10:36:41.572Z"
   },
   {
    "duration": 52,
    "start_time": "2022-06-03T10:36:41.601Z"
   },
   {
    "duration": 89,
    "start_time": "2022-06-03T10:36:41.655Z"
   },
   {
    "duration": 2,
    "start_time": "2022-06-03T10:36:41.746Z"
   },
   {
    "duration": 37,
    "start_time": "2022-06-03T10:36:41.750Z"
   },
   {
    "duration": 26,
    "start_time": "2022-06-03T10:36:41.789Z"
   },
   {
    "duration": 241,
    "start_time": "2022-06-03T10:36:41.817Z"
   },
   {
    "duration": 87,
    "start_time": "2022-06-03T10:36:42.060Z"
   },
   {
    "duration": 31,
    "start_time": "2022-06-03T10:36:42.150Z"
   },
   {
    "duration": 136,
    "start_time": "2022-06-03T10:36:42.183Z"
   },
   {
    "duration": 3,
    "start_time": "2022-06-03T10:36:42.320Z"
   },
   {
    "duration": 17,
    "start_time": "2022-06-03T10:36:42.324Z"
   },
   {
    "duration": 301,
    "start_time": "2022-06-03T10:36:42.343Z"
   },
   {
    "duration": 121,
    "start_time": "2022-06-03T10:36:42.646Z"
   },
   {
    "duration": 3,
    "start_time": "2022-06-03T10:36:42.768Z"
   },
   {
    "duration": 17177,
    "start_time": "2022-06-03T10:36:42.773Z"
   },
   {
    "duration": 26,
    "start_time": "2022-06-03T10:36:59.952Z"
   },
   {
    "duration": 6,
    "start_time": "2022-06-03T10:36:59.979Z"
   },
   {
    "duration": 114,
    "start_time": "2022-06-03T10:36:59.986Z"
   },
   {
    "duration": 3193,
    "start_time": "2022-06-03T10:37:00.102Z"
   },
   {
    "duration": 102,
    "start_time": "2022-06-03T10:37:03.296Z"
   },
   {
    "duration": 2,
    "start_time": "2022-06-03T10:37:03.400Z"
   },
   {
    "duration": 48,
    "start_time": "2022-06-03T10:37:03.403Z"
   },
   {
    "duration": 57,
    "start_time": "2022-06-03T10:37:03.453Z"
   },
   {
    "duration": 69,
    "start_time": "2022-06-03T10:37:03.511Z"
   },
   {
    "duration": 30,
    "start_time": "2022-06-03T10:37:03.581Z"
   },
   {
    "duration": 2,
    "start_time": "2022-06-03T10:37:03.613Z"
   },
   {
    "duration": 6,
    "start_time": "2022-06-03T10:37:03.616Z"
   },
   {
    "duration": 724,
    "start_time": "2022-06-03T10:37:03.640Z"
   },
   {
    "duration": 437,
    "start_time": "2022-06-03T10:37:04.366Z"
   },
   {
    "duration": 56,
    "start_time": "2022-06-03T10:37:04.805Z"
   },
   {
    "duration": 1302,
    "start_time": "2022-06-03T10:37:04.863Z"
   },
   {
    "duration": 31,
    "start_time": "2022-06-03T10:37:06.167Z"
   },
   {
    "duration": 41,
    "start_time": "2022-06-03T10:37:06.200Z"
   },
   {
    "duration": 431,
    "start_time": "2022-06-03T10:37:06.243Z"
   },
   {
    "duration": 30,
    "start_time": "2022-06-03T10:37:06.676Z"
   },
   {
    "duration": 4622,
    "start_time": "2022-06-03T10:37:06.707Z"
   },
   {
    "duration": 3,
    "start_time": "2022-06-03T10:37:11.331Z"
   },
   {
    "duration": 3,
    "start_time": "2022-06-03T10:37:11.341Z"
   },
   {
    "duration": 24,
    "start_time": "2022-06-03T10:37:11.345Z"
   },
   {
    "duration": 61,
    "start_time": "2022-06-03T10:37:12.696Z"
   },
   {
    "duration": 3,
    "start_time": "2022-06-03T10:37:14.845Z"
   },
   {
    "duration": 7,
    "start_time": "2022-06-03T10:37:15.789Z"
   },
   {
    "duration": 16,
    "start_time": "2022-06-03T10:37:23.305Z"
   },
   {
    "duration": 2,
    "start_time": "2022-06-03T10:38:20.526Z"
   },
   {
    "duration": 16,
    "start_time": "2022-06-03T10:38:39.025Z"
   },
   {
    "duration": 31,
    "start_time": "2022-06-03T10:38:55.197Z"
   },
   {
    "duration": 405,
    "start_time": "2022-06-03T10:38:56.810Z"
   },
   {
    "duration": 2,
    "start_time": "2022-06-03T10:42:34.246Z"
   },
   {
    "duration": 2,
    "start_time": "2022-06-03T10:42:52.806Z"
   },
   {
    "duration": 445,
    "start_time": "2022-06-03T10:42:54.798Z"
   },
   {
    "duration": 833,
    "start_time": "2022-06-03T10:43:11.316Z"
   },
   {
    "duration": 450,
    "start_time": "2022-06-03T10:43:16.464Z"
   },
   {
    "duration": 2,
    "start_time": "2022-06-03T10:43:36.294Z"
   },
   {
    "duration": 399,
    "start_time": "2022-06-03T10:45:27.020Z"
   },
   {
    "duration": 3,
    "start_time": "2022-06-03T10:47:18.430Z"
   },
   {
    "duration": 2,
    "start_time": "2022-06-03T10:47:25.776Z"
   },
   {
    "duration": 19,
    "start_time": "2022-06-03T10:47:29.249Z"
   },
   {
    "duration": 4814,
    "start_time": "2022-06-03T10:47:34.789Z"
   },
   {
    "duration": 2,
    "start_time": "2022-06-03T10:48:21.698Z"
   },
   {
    "duration": 12,
    "start_time": "2022-06-03T10:48:21.702Z"
   },
   {
    "duration": 10,
    "start_time": "2022-06-03T10:48:21.716Z"
   },
   {
    "duration": 808,
    "start_time": "2022-06-03T10:48:21.727Z"
   },
   {
    "duration": 2166,
    "start_time": "2022-06-03T10:48:22.537Z"
   },
   {
    "duration": 3,
    "start_time": "2022-06-03T10:48:24.705Z"
   },
   {
    "duration": 12,
    "start_time": "2022-06-03T10:48:24.710Z"
   },
   {
    "duration": 9,
    "start_time": "2022-06-03T10:48:24.724Z"
   },
   {
    "duration": 340,
    "start_time": "2022-06-03T10:48:24.734Z"
   },
   {
    "duration": 180,
    "start_time": "2022-06-03T10:48:25.076Z"
   },
   {
    "duration": 2,
    "start_time": "2022-06-03T10:48:25.260Z"
   },
   {
    "duration": 8,
    "start_time": "2022-06-03T10:48:25.264Z"
   },
   {
    "duration": 132,
    "start_time": "2022-06-03T10:48:25.274Z"
   },
   {
    "duration": 2,
    "start_time": "2022-06-03T10:48:25.408Z"
   },
   {
    "duration": 105,
    "start_time": "2022-06-03T10:48:25.412Z"
   },
   {
    "duration": 40,
    "start_time": "2022-06-03T10:48:25.519Z"
   },
   {
    "duration": 57,
    "start_time": "2022-06-03T10:48:25.561Z"
   },
   {
    "duration": 117,
    "start_time": "2022-06-03T10:48:25.620Z"
   },
   {
    "duration": 3,
    "start_time": "2022-06-03T10:48:25.739Z"
   },
   {
    "duration": 6,
    "start_time": "2022-06-03T10:48:25.744Z"
   },
   {
    "duration": 23,
    "start_time": "2022-06-03T10:48:25.752Z"
   },
   {
    "duration": 258,
    "start_time": "2022-06-03T10:48:25.777Z"
   },
   {
    "duration": 116,
    "start_time": "2022-06-03T10:48:26.037Z"
   },
   {
    "duration": 35,
    "start_time": "2022-06-03T10:48:26.155Z"
   },
   {
    "duration": 160,
    "start_time": "2022-06-03T10:48:26.192Z"
   },
   {
    "duration": 3,
    "start_time": "2022-06-03T10:48:26.353Z"
   },
   {
    "duration": 9,
    "start_time": "2022-06-03T10:48:26.357Z"
   },
   {
    "duration": 343,
    "start_time": "2022-06-03T10:48:26.367Z"
   },
   {
    "duration": 141,
    "start_time": "2022-06-03T10:48:26.714Z"
   },
   {
    "duration": 3,
    "start_time": "2022-06-03T10:48:26.857Z"
   },
   {
    "duration": 17600,
    "start_time": "2022-06-03T10:48:26.862Z"
   },
   {
    "duration": 29,
    "start_time": "2022-06-03T10:48:44.464Z"
   },
   {
    "duration": 5,
    "start_time": "2022-06-03T10:48:44.495Z"
   },
   {
    "duration": 126,
    "start_time": "2022-06-03T10:48:44.501Z"
   },
   {
    "duration": 3677,
    "start_time": "2022-06-03T10:48:44.629Z"
   },
   {
    "duration": 109,
    "start_time": "2022-06-03T10:48:48.307Z"
   },
   {
    "duration": 2,
    "start_time": "2022-06-03T10:48:48.418Z"
   },
   {
    "duration": 53,
    "start_time": "2022-06-03T10:48:48.421Z"
   },
   {
    "duration": 66,
    "start_time": "2022-06-03T10:48:48.476Z"
   },
   {
    "duration": 58,
    "start_time": "2022-06-03T10:48:48.544Z"
   },
   {
    "duration": 48,
    "start_time": "2022-06-03T10:48:48.604Z"
   },
   {
    "duration": 2,
    "start_time": "2022-06-03T10:48:48.654Z"
   },
   {
    "duration": 9,
    "start_time": "2022-06-03T10:48:48.657Z"
   },
   {
    "duration": 444,
    "start_time": "2022-06-03T10:48:48.668Z"
   },
   {
    "duration": 445,
    "start_time": "2022-06-03T10:48:49.113Z"
   },
   {
    "duration": 52,
    "start_time": "2022-06-03T10:48:49.559Z"
   },
   {
    "duration": 1493,
    "start_time": "2022-06-03T10:48:49.613Z"
   },
   {
    "duration": 39,
    "start_time": "2022-06-03T10:48:51.108Z"
   },
   {
    "duration": 29,
    "start_time": "2022-06-03T10:48:51.149Z"
   },
   {
    "duration": 447,
    "start_time": "2022-06-03T10:48:51.181Z"
   },
   {
    "duration": 45,
    "start_time": "2022-06-03T10:48:51.630Z"
   },
   {
    "duration": 5054,
    "start_time": "2022-06-03T10:48:51.676Z"
   },
   {
    "duration": 3,
    "start_time": "2022-06-03T10:48:56.732Z"
   },
   {
    "duration": 23,
    "start_time": "2022-06-03T10:48:56.742Z"
   },
   {
    "duration": 17,
    "start_time": "2022-06-03T10:48:56.767Z"
   },
   {
    "duration": 88,
    "start_time": "2022-06-03T10:48:56.786Z"
   },
   {
    "duration": 2,
    "start_time": "2022-06-03T10:48:56.876Z"
   },
   {
    "duration": 20,
    "start_time": "2022-06-03T10:48:56.880Z"
   },
   {
    "duration": 6,
    "start_time": "2022-06-03T10:48:56.902Z"
   },
   {
    "duration": 21,
    "start_time": "2022-06-03T10:48:56.910Z"
   },
   {
    "duration": 30,
    "start_time": "2022-06-03T10:48:56.933Z"
   },
   {
    "duration": 424,
    "start_time": "2022-06-03T10:48:56.965Z"
   },
   {
    "duration": 461,
    "start_time": "2022-06-03T10:50:04.010Z"
   },
   {
    "duration": 570,
    "start_time": "2022-06-03T10:52:22.788Z"
   },
   {
    "duration": 177,
    "start_time": "2022-06-03T10:53:20.301Z"
   },
   {
    "duration": 312,
    "start_time": "2022-06-03T10:53:27.389Z"
   },
   {
    "duration": 339,
    "start_time": "2022-06-03T10:53:30.930Z"
   },
   {
    "duration": 430,
    "start_time": "2022-06-03T10:53:46.981Z"
   },
   {
    "duration": 236,
    "start_time": "2022-06-03T10:53:50.507Z"
   },
   {
    "duration": 212,
    "start_time": "2022-06-03T10:53:57.778Z"
   },
   {
    "duration": 188,
    "start_time": "2022-06-03T10:54:04.090Z"
   },
   {
    "duration": 238,
    "start_time": "2022-06-03T10:54:07.711Z"
   },
   {
    "duration": 230,
    "start_time": "2022-06-03T10:54:17.063Z"
   },
   {
    "duration": 258,
    "start_time": "2022-06-03T10:54:34.821Z"
   },
   {
    "duration": 199,
    "start_time": "2022-06-03T10:54:41.812Z"
   },
   {
    "duration": 200,
    "start_time": "2022-06-03T10:54:46.896Z"
   },
   {
    "duration": 273,
    "start_time": "2022-06-03T10:54:57.731Z"
   },
   {
    "duration": 228,
    "start_time": "2022-06-03T10:55:06.541Z"
   },
   {
    "duration": 215,
    "start_time": "2022-06-03T10:55:50.326Z"
   },
   {
    "duration": 222,
    "start_time": "2022-06-03T10:55:54.448Z"
   },
   {
    "duration": 651,
    "start_time": "2022-06-03T10:56:08.305Z"
   },
   {
    "duration": 217,
    "start_time": "2022-06-03T10:56:15.809Z"
   },
   {
    "duration": 30,
    "start_time": "2022-06-03T10:56:39.603Z"
   },
   {
    "duration": 206,
    "start_time": "2022-06-03T10:57:37.105Z"
   },
   {
    "duration": 61,
    "start_time": "2022-06-03T10:58:41.450Z"
   },
   {
    "duration": 2,
    "start_time": "2022-06-03T10:58:49.502Z"
   },
   {
    "duration": 10,
    "start_time": "2022-06-03T10:58:49.508Z"
   },
   {
    "duration": 3290,
    "start_time": "2022-06-03T10:58:49.521Z"
   },
   {
    "duration": 2776,
    "start_time": "2022-06-03T10:58:52.813Z"
   },
   {
    "duration": 2328,
    "start_time": "2022-06-03T10:58:55.592Z"
   },
   {
    "duration": 4,
    "start_time": "2022-06-03T10:58:57.921Z"
   },
   {
    "duration": 9,
    "start_time": "2022-06-03T10:58:57.927Z"
   },
   {
    "duration": 11,
    "start_time": "2022-06-03T10:58:57.938Z"
   },
   {
    "duration": 361,
    "start_time": "2022-06-03T10:58:57.951Z"
   },
   {
    "duration": 187,
    "start_time": "2022-06-03T10:58:58.314Z"
   },
   {
    "duration": 2,
    "start_time": "2022-06-03T10:58:58.504Z"
   },
   {
    "duration": 10,
    "start_time": "2022-06-03T10:58:58.508Z"
   },
   {
    "duration": 138,
    "start_time": "2022-06-03T10:58:58.519Z"
   },
   {
    "duration": 3,
    "start_time": "2022-06-03T10:58:58.659Z"
   },
   {
    "duration": 97,
    "start_time": "2022-06-03T10:58:58.663Z"
   },
   {
    "duration": 29,
    "start_time": "2022-06-03T10:58:58.761Z"
   },
   {
    "duration": 77,
    "start_time": "2022-06-03T10:58:58.792Z"
   },
   {
    "duration": 94,
    "start_time": "2022-06-03T10:58:58.871Z"
   },
   {
    "duration": 2,
    "start_time": "2022-06-03T10:58:58.967Z"
   },
   {
    "duration": 8,
    "start_time": "2022-06-03T10:58:58.970Z"
   },
   {
    "duration": 7,
    "start_time": "2022-06-03T10:58:58.979Z"
   },
   {
    "duration": 239,
    "start_time": "2022-06-03T10:58:58.988Z"
   },
   {
    "duration": 86,
    "start_time": "2022-06-03T10:58:59.228Z"
   },
   {
    "duration": 41,
    "start_time": "2022-06-03T10:58:59.316Z"
   },
   {
    "duration": 142,
    "start_time": "2022-06-03T10:58:59.358Z"
   },
   {
    "duration": 3,
    "start_time": "2022-06-03T10:58:59.501Z"
   },
   {
    "duration": 8,
    "start_time": "2022-06-03T10:58:59.505Z"
   },
   {
    "duration": 310,
    "start_time": "2022-06-03T10:58:59.515Z"
   },
   {
    "duration": 127,
    "start_time": "2022-06-03T10:58:59.829Z"
   },
   {
    "duration": 3,
    "start_time": "2022-06-03T10:58:59.958Z"
   },
   {
    "duration": 535,
    "start_time": "2022-06-03T10:58:59.962Z"
   },
   {
    "duration": 0,
    "start_time": "2022-06-03T10:59:00.499Z"
   },
   {
    "duration": 0,
    "start_time": "2022-06-03T10:59:00.500Z"
   },
   {
    "duration": 0,
    "start_time": "2022-06-03T10:59:00.501Z"
   },
   {
    "duration": 0,
    "start_time": "2022-06-03T10:59:00.502Z"
   },
   {
    "duration": 0,
    "start_time": "2022-06-03T10:59:00.503Z"
   },
   {
    "duration": 0,
    "start_time": "2022-06-03T10:59:00.504Z"
   },
   {
    "duration": 0,
    "start_time": "2022-06-03T10:59:00.505Z"
   },
   {
    "duration": 0,
    "start_time": "2022-06-03T10:59:00.506Z"
   },
   {
    "duration": 0,
    "start_time": "2022-06-03T10:59:00.507Z"
   },
   {
    "duration": 0,
    "start_time": "2022-06-03T10:59:00.509Z"
   },
   {
    "duration": 0,
    "start_time": "2022-06-03T10:59:00.510Z"
   },
   {
    "duration": 0,
    "start_time": "2022-06-03T10:59:00.511Z"
   },
   {
    "duration": 0,
    "start_time": "2022-06-03T10:59:00.512Z"
   },
   {
    "duration": 0,
    "start_time": "2022-06-03T10:59:00.513Z"
   },
   {
    "duration": 0,
    "start_time": "2022-06-03T10:59:00.541Z"
   },
   {
    "duration": 0,
    "start_time": "2022-06-03T10:59:00.542Z"
   },
   {
    "duration": 0,
    "start_time": "2022-06-03T10:59:00.544Z"
   },
   {
    "duration": 0,
    "start_time": "2022-06-03T10:59:00.545Z"
   },
   {
    "duration": 0,
    "start_time": "2022-06-03T10:59:00.546Z"
   },
   {
    "duration": 0,
    "start_time": "2022-06-03T10:59:00.547Z"
   },
   {
    "duration": 0,
    "start_time": "2022-06-03T10:59:00.548Z"
   },
   {
    "duration": 0,
    "start_time": "2022-06-03T10:59:00.549Z"
   },
   {
    "duration": 0,
    "start_time": "2022-06-03T10:59:00.550Z"
   },
   {
    "duration": 0,
    "start_time": "2022-06-03T10:59:00.551Z"
   },
   {
    "duration": 0,
    "start_time": "2022-06-03T10:59:00.552Z"
   },
   {
    "duration": 0,
    "start_time": "2022-06-03T10:59:00.553Z"
   },
   {
    "duration": 0,
    "start_time": "2022-06-03T10:59:00.555Z"
   },
   {
    "duration": 0,
    "start_time": "2022-06-03T10:59:00.556Z"
   },
   {
    "duration": 0,
    "start_time": "2022-06-03T10:59:00.557Z"
   },
   {
    "duration": 0,
    "start_time": "2022-06-03T10:59:00.558Z"
   },
   {
    "duration": 0,
    "start_time": "2022-06-03T10:59:00.559Z"
   },
   {
    "duration": 0,
    "start_time": "2022-06-03T10:59:00.560Z"
   },
   {
    "duration": 2,
    "start_time": "2022-06-03T11:00:22.706Z"
   },
   {
    "duration": 9,
    "start_time": "2022-06-03T11:00:22.710Z"
   },
   {
    "duration": 10,
    "start_time": "2022-06-03T11:00:22.721Z"
   },
   {
    "duration": 842,
    "start_time": "2022-06-03T11:00:22.732Z"
   },
   {
    "duration": 2114,
    "start_time": "2022-06-03T11:00:23.576Z"
   },
   {
    "duration": 4,
    "start_time": "2022-06-03T11:00:25.692Z"
   },
   {
    "duration": 25,
    "start_time": "2022-06-03T11:00:25.697Z"
   },
   {
    "duration": 11,
    "start_time": "2022-06-03T11:00:25.723Z"
   },
   {
    "duration": 328,
    "start_time": "2022-06-03T11:00:25.736Z"
   },
   {
    "duration": 185,
    "start_time": "2022-06-03T11:00:26.066Z"
   },
   {
    "duration": 3,
    "start_time": "2022-06-03T11:00:26.252Z"
   },
   {
    "duration": 31,
    "start_time": "2022-06-03T11:00:26.256Z"
   },
   {
    "duration": 137,
    "start_time": "2022-06-03T11:00:26.289Z"
   },
   {
    "duration": 3,
    "start_time": "2022-06-03T11:00:26.429Z"
   },
   {
    "duration": 116,
    "start_time": "2022-06-03T11:00:26.434Z"
   },
   {
    "duration": 30,
    "start_time": "2022-06-03T11:00:26.552Z"
   },
   {
    "duration": 65,
    "start_time": "2022-06-03T11:00:26.584Z"
   },
   {
    "duration": 92,
    "start_time": "2022-06-03T11:00:26.651Z"
   },
   {
    "duration": 2,
    "start_time": "2022-06-03T11:00:26.745Z"
   },
   {
    "duration": 19,
    "start_time": "2022-06-03T11:00:26.749Z"
   },
   {
    "duration": 20,
    "start_time": "2022-06-03T11:00:26.769Z"
   },
   {
    "duration": 223,
    "start_time": "2022-06-03T11:00:26.790Z"
   },
   {
    "duration": 88,
    "start_time": "2022-06-03T11:00:27.015Z"
   },
   {
    "duration": 41,
    "start_time": "2022-06-03T11:00:27.105Z"
   },
   {
    "duration": 136,
    "start_time": "2022-06-03T11:00:27.148Z"
   },
   {
    "duration": 2,
    "start_time": "2022-06-03T11:00:27.286Z"
   },
   {
    "duration": 10,
    "start_time": "2022-06-03T11:00:27.290Z"
   },
   {
    "duration": 311,
    "start_time": "2022-06-03T11:00:27.302Z"
   },
   {
    "duration": 127,
    "start_time": "2022-06-03T11:00:27.615Z"
   },
   {
    "duration": 3,
    "start_time": "2022-06-03T11:00:27.743Z"
   },
   {
    "duration": 18080,
    "start_time": "2022-06-03T11:00:27.748Z"
   },
   {
    "duration": 35,
    "start_time": "2022-06-03T11:00:45.831Z"
   },
   {
    "duration": 7,
    "start_time": "2022-06-03T11:00:45.868Z"
   },
   {
    "duration": 131,
    "start_time": "2022-06-03T11:00:45.877Z"
   },
   {
    "duration": 3555,
    "start_time": "2022-06-03T11:00:46.011Z"
   },
   {
    "duration": 116,
    "start_time": "2022-06-03T11:00:49.568Z"
   },
   {
    "duration": 2,
    "start_time": "2022-06-03T11:00:49.686Z"
   },
   {
    "duration": 41,
    "start_time": "2022-06-03T11:00:49.690Z"
   },
   {
    "duration": 61,
    "start_time": "2022-06-03T11:00:49.733Z"
   },
   {
    "duration": 70,
    "start_time": "2022-06-03T11:00:49.796Z"
   },
   {
    "duration": 30,
    "start_time": "2022-06-03T11:00:49.870Z"
   },
   {
    "duration": 3,
    "start_time": "2022-06-03T11:00:49.902Z"
   },
   {
    "duration": 5,
    "start_time": "2022-06-03T11:00:49.906Z"
   },
   {
    "duration": 452,
    "start_time": "2022-06-03T11:00:49.913Z"
   },
   {
    "duration": 448,
    "start_time": "2022-06-03T11:00:50.367Z"
   },
   {
    "duration": 57,
    "start_time": "2022-06-03T11:00:50.817Z"
   },
   {
    "duration": 1544,
    "start_time": "2022-06-03T11:00:50.876Z"
   },
   {
    "duration": 40,
    "start_time": "2022-06-03T11:00:52.422Z"
   },
   {
    "duration": 29,
    "start_time": "2022-06-03T11:00:52.463Z"
   },
   {
    "duration": 437,
    "start_time": "2022-06-03T11:00:52.494Z"
   },
   {
    "duration": 38,
    "start_time": "2022-06-03T11:00:52.933Z"
   },
   {
    "duration": 4891,
    "start_time": "2022-06-03T11:00:52.974Z"
   },
   {
    "duration": 3,
    "start_time": "2022-06-03T11:00:57.867Z"
   },
   {
    "duration": 14,
    "start_time": "2022-06-03T11:00:57.872Z"
   },
   {
    "duration": 25,
    "start_time": "2022-06-03T11:00:57.888Z"
   },
   {
    "duration": 107,
    "start_time": "2022-06-03T11:00:57.916Z"
   },
   {
    "duration": 3,
    "start_time": "2022-06-03T11:00:58.025Z"
   },
   {
    "duration": 51,
    "start_time": "2022-06-03T11:00:58.030Z"
   },
   {
    "duration": 18,
    "start_time": "2022-06-03T11:00:58.083Z"
   },
   {
    "duration": 51,
    "start_time": "2022-06-03T11:00:58.103Z"
   },
   {
    "duration": 32,
    "start_time": "2022-06-03T11:00:58.156Z"
   },
   {
    "duration": 441,
    "start_time": "2022-06-03T11:00:58.190Z"
   },
   {
    "duration": 224,
    "start_time": "2022-06-03T11:01:02.431Z"
   },
   {
    "duration": 3,
    "start_time": "2022-06-03T11:01:29.125Z"
   },
   {
    "duration": 16,
    "start_time": "2022-06-03T11:01:29.130Z"
   },
   {
    "duration": 3643,
    "start_time": "2022-06-03T11:01:29.148Z"
   },
   {
    "duration": 2787,
    "start_time": "2022-06-03T11:01:32.793Z"
   },
   {
    "duration": 2414,
    "start_time": "2022-06-03T11:01:35.582Z"
   },
   {
    "duration": 4,
    "start_time": "2022-06-03T11:01:37.998Z"
   },
   {
    "duration": 15,
    "start_time": "2022-06-03T11:01:38.004Z"
   },
   {
    "duration": 24,
    "start_time": "2022-06-03T11:01:38.021Z"
   },
   {
    "duration": 365,
    "start_time": "2022-06-03T11:01:38.048Z"
   },
   {
    "duration": 195,
    "start_time": "2022-06-03T11:01:38.416Z"
   },
   {
    "duration": 2,
    "start_time": "2022-06-03T11:01:38.614Z"
   },
   {
    "duration": 32,
    "start_time": "2022-06-03T11:01:38.618Z"
   },
   {
    "duration": 132,
    "start_time": "2022-06-03T11:01:38.652Z"
   },
   {
    "duration": 3,
    "start_time": "2022-06-03T11:01:38.786Z"
   },
   {
    "duration": 100,
    "start_time": "2022-06-03T11:01:38.790Z"
   },
   {
    "duration": 27,
    "start_time": "2022-06-03T11:01:38.892Z"
   },
   {
    "duration": 66,
    "start_time": "2022-06-03T11:01:38.921Z"
   },
   {
    "duration": 98,
    "start_time": "2022-06-03T11:01:38.989Z"
   },
   {
    "duration": 2,
    "start_time": "2022-06-03T11:01:39.088Z"
   },
   {
    "duration": 6,
    "start_time": "2022-06-03T11:01:39.092Z"
   },
   {
    "duration": 7,
    "start_time": "2022-06-03T11:01:39.099Z"
   },
   {
    "duration": 242,
    "start_time": "2022-06-03T11:01:39.108Z"
   },
   {
    "duration": 90,
    "start_time": "2022-06-03T11:01:39.352Z"
   },
   {
    "duration": 31,
    "start_time": "2022-06-03T11:01:39.444Z"
   },
   {
    "duration": 150,
    "start_time": "2022-06-03T11:01:39.479Z"
   },
   {
    "duration": 3,
    "start_time": "2022-06-03T11:01:39.631Z"
   },
   {
    "duration": 10,
    "start_time": "2022-06-03T11:01:39.635Z"
   },
   {
    "duration": 308,
    "start_time": "2022-06-03T11:01:39.647Z"
   },
   {
    "duration": 134,
    "start_time": "2022-06-03T11:01:39.957Z"
   },
   {
    "duration": 4,
    "start_time": "2022-06-03T11:01:40.093Z"
   },
   {
    "duration": 16803,
    "start_time": "2022-06-03T11:01:40.098Z"
   },
   {
    "duration": 39,
    "start_time": "2022-06-03T11:01:56.903Z"
   },
   {
    "duration": 5,
    "start_time": "2022-06-03T11:01:56.944Z"
   },
   {
    "duration": 121,
    "start_time": "2022-06-03T11:01:56.951Z"
   },
   {
    "duration": 3407,
    "start_time": "2022-06-03T11:01:57.074Z"
   },
   {
    "duration": 122,
    "start_time": "2022-06-03T11:02:00.483Z"
   },
   {
    "duration": 3,
    "start_time": "2022-06-03T11:02:00.606Z"
   },
   {
    "duration": 60,
    "start_time": "2022-06-03T11:02:00.611Z"
   },
   {
    "duration": 59,
    "start_time": "2022-06-03T11:02:00.673Z"
   },
   {
    "duration": 67,
    "start_time": "2022-06-03T11:02:00.734Z"
   },
   {
    "duration": 45,
    "start_time": "2022-06-03T11:02:00.803Z"
   },
   {
    "duration": 3,
    "start_time": "2022-06-03T11:02:00.850Z"
   },
   {
    "duration": 11,
    "start_time": "2022-06-03T11:02:00.855Z"
   },
   {
    "duration": 444,
    "start_time": "2022-06-03T11:02:00.868Z"
   },
   {
    "duration": 449,
    "start_time": "2022-06-03T11:02:01.313Z"
   },
   {
    "duration": 54,
    "start_time": "2022-06-03T11:02:01.763Z"
   },
   {
    "duration": 1525,
    "start_time": "2022-06-03T11:02:01.818Z"
   },
   {
    "duration": 35,
    "start_time": "2022-06-03T11:02:03.345Z"
   },
   {
    "duration": 31,
    "start_time": "2022-06-03T11:02:03.381Z"
   },
   {
    "duration": 602,
    "start_time": "2022-06-03T11:02:03.413Z"
   },
   {
    "duration": 37,
    "start_time": "2022-06-03T11:02:04.017Z"
   },
   {
    "duration": 4789,
    "start_time": "2022-06-03T11:02:04.055Z"
   },
   {
    "duration": 3,
    "start_time": "2022-06-03T11:02:08.846Z"
   },
   {
    "duration": 6,
    "start_time": "2022-06-03T11:02:08.851Z"
   },
   {
    "duration": 7,
    "start_time": "2022-06-03T11:02:08.858Z"
   },
   {
    "duration": 94,
    "start_time": "2022-06-03T11:02:08.867Z"
   },
   {
    "duration": 3,
    "start_time": "2022-06-03T11:02:08.963Z"
   },
   {
    "duration": 8,
    "start_time": "2022-06-03T11:02:08.968Z"
   },
   {
    "duration": 3,
    "start_time": "2022-06-03T11:02:08.978Z"
   },
   {
    "duration": 20,
    "start_time": "2022-06-03T11:02:08.983Z"
   },
   {
    "duration": 66,
    "start_time": "2022-06-03T11:02:09.005Z"
   },
   {
    "duration": 411,
    "start_time": "2022-06-03T11:02:09.073Z"
   },
   {
    "duration": 216,
    "start_time": "2022-06-03T11:02:09.485Z"
   },
   {
    "duration": 306,
    "start_time": "2022-06-03T11:02:11.240Z"
   },
   {
    "duration": 29,
    "start_time": "2022-06-03T11:02:41.305Z"
   },
   {
    "duration": 209,
    "start_time": "2022-06-03T11:02:58.509Z"
   },
   {
    "duration": 207,
    "start_time": "2022-06-03T11:03:11.878Z"
   },
   {
    "duration": 233,
    "start_time": "2022-06-03T11:03:25.971Z"
   },
   {
    "duration": 225,
    "start_time": "2022-06-03T11:04:00.927Z"
   },
   {
    "duration": 386,
    "start_time": "2022-06-03T11:04:12.082Z"
   },
   {
    "duration": 258,
    "start_time": "2022-06-03T11:04:20.963Z"
   },
   {
    "duration": 228,
    "start_time": "2022-06-03T11:04:30.689Z"
   },
   {
    "duration": 218,
    "start_time": "2022-06-03T11:04:39.504Z"
   },
   {
    "duration": 233,
    "start_time": "2022-06-03T11:04:43.678Z"
   },
   {
    "duration": 223,
    "start_time": "2022-06-03T11:09:45.228Z"
   },
   {
    "duration": 205,
    "start_time": "2022-06-03T11:10:25.381Z"
   },
   {
    "duration": 215,
    "start_time": "2022-06-03T11:13:11.804Z"
   },
   {
    "duration": 204,
    "start_time": "2022-06-03T11:14:38.289Z"
   },
   {
    "duration": 264,
    "start_time": "2022-06-03T11:15:13.451Z"
   },
   {
    "duration": 238,
    "start_time": "2022-06-03T11:15:25.353Z"
   },
   {
    "duration": 387,
    "start_time": "2022-06-03T11:15:38.398Z"
   },
   {
    "duration": 206,
    "start_time": "2022-06-03T11:15:44.321Z"
   },
   {
    "duration": 223,
    "start_time": "2022-06-03T11:15:55.190Z"
   },
   {
    "duration": 222,
    "start_time": "2022-06-03T11:16:00.355Z"
   },
   {
    "duration": 261,
    "start_time": "2022-06-03T11:16:08.175Z"
   },
   {
    "duration": 290,
    "start_time": "2022-06-03T11:16:13.327Z"
   },
   {
    "duration": 316,
    "start_time": "2022-06-03T11:16:18.130Z"
   },
   {
    "duration": 282,
    "start_time": "2022-06-03T11:16:33.378Z"
   },
   {
    "duration": 688,
    "start_time": "2022-06-03T11:16:39.482Z"
   },
   {
    "duration": 667,
    "start_time": "2022-06-03T11:16:42.789Z"
   },
   {
    "duration": 213,
    "start_time": "2022-06-03T11:16:57.447Z"
   },
   {
    "duration": 215,
    "start_time": "2022-06-03T11:17:04.178Z"
   },
   {
    "duration": 372,
    "start_time": "2022-06-03T11:17:06.866Z"
   },
   {
    "duration": 228,
    "start_time": "2022-06-03T11:17:11.838Z"
   },
   {
    "duration": 206,
    "start_time": "2022-06-03T11:17:26.677Z"
   },
   {
    "duration": 230,
    "start_time": "2022-06-03T11:17:33.889Z"
   },
   {
    "duration": 229,
    "start_time": "2022-06-03T11:17:36.598Z"
   },
   {
    "duration": 214,
    "start_time": "2022-06-03T11:17:40.057Z"
   },
   {
    "duration": 244,
    "start_time": "2022-06-03T11:17:43.134Z"
   },
   {
    "duration": 48,
    "start_time": "2022-06-03T11:19:04.888Z"
   },
   {
    "duration": 207,
    "start_time": "2022-06-03T11:19:05.524Z"
   },
   {
    "duration": 249,
    "start_time": "2022-06-03T11:19:12.916Z"
   },
   {
    "duration": 262,
    "start_time": "2022-06-03T11:19:24.969Z"
   },
   {
    "duration": 253,
    "start_time": "2022-06-03T11:19:30.759Z"
   },
   {
    "duration": 411,
    "start_time": "2022-06-03T11:19:45.097Z"
   },
   {
    "duration": 747,
    "start_time": "2022-06-03T11:19:48.515Z"
   },
   {
    "duration": 682,
    "start_time": "2022-06-03T11:20:23.833Z"
   },
   {
    "duration": 903,
    "start_time": "2022-06-03T11:20:39.158Z"
   },
   {
    "duration": 745,
    "start_time": "2022-06-03T11:20:45.581Z"
   },
   {
    "duration": 1873,
    "start_time": "2022-06-03T11:21:13.741Z"
   },
   {
    "duration": 2006,
    "start_time": "2022-06-03T11:21:24.749Z"
   },
   {
    "duration": 3702,
    "start_time": "2022-06-03T11:21:37.462Z"
   },
   {
    "duration": 2844,
    "start_time": "2022-06-03T11:22:05.137Z"
   },
   {
    "duration": 2869,
    "start_time": "2022-06-03T11:22:24.998Z"
   },
   {
    "duration": 2682,
    "start_time": "2022-06-03T11:22:32.435Z"
   },
   {
    "duration": 1351,
    "start_time": "2022-06-03T11:23:27.398Z"
   },
   {
    "duration": 221,
    "start_time": "2022-06-03T11:23:31.333Z"
   },
   {
    "duration": 942,
    "start_time": "2022-06-03T11:23:34.965Z"
   },
   {
    "duration": 1100,
    "start_time": "2022-06-03T11:23:51.182Z"
   },
   {
    "duration": 1081,
    "start_time": "2022-06-03T11:24:09.709Z"
   },
   {
    "duration": 986,
    "start_time": "2022-06-03T11:24:27.453Z"
   },
   {
    "duration": 1069,
    "start_time": "2022-06-03T11:24:48.900Z"
   },
   {
    "duration": 779,
    "start_time": "2022-06-03T11:26:05.457Z"
   },
   {
    "duration": 684,
    "start_time": "2022-06-03T11:26:15.691Z"
   },
   {
    "duration": 478,
    "start_time": "2022-06-03T11:26:21.017Z"
   },
   {
    "duration": 54,
    "start_time": "2022-06-03T11:26:25.219Z"
   },
   {
    "duration": 413,
    "start_time": "2022-06-03T11:26:29.227Z"
   },
   {
    "duration": 367,
    "start_time": "2022-06-03T11:26:32.307Z"
   },
   {
    "duration": 493,
    "start_time": "2022-06-03T11:26:37.967Z"
   },
   {
    "duration": 600,
    "start_time": "2022-06-03T11:26:42.136Z"
   },
   {
    "duration": 630,
    "start_time": "2022-06-03T11:26:46.190Z"
   },
   {
    "duration": 410,
    "start_time": "2022-06-03T11:26:49.711Z"
   },
   {
    "duration": 474,
    "start_time": "2022-06-03T11:26:52.768Z"
   },
   {
    "duration": 509,
    "start_time": "2022-06-03T11:27:06.419Z"
   },
   {
    "duration": 654,
    "start_time": "2022-06-03T11:27:10.358Z"
   },
   {
    "duration": 558,
    "start_time": "2022-06-03T11:27:14.218Z"
   },
   {
    "duration": 654,
    "start_time": "2022-06-03T11:27:32.721Z"
   },
   {
    "duration": 370,
    "start_time": "2022-06-03T11:27:44.358Z"
   },
   {
    "duration": 532,
    "start_time": "2022-06-03T11:28:01.285Z"
   },
   {
    "duration": 5,
    "start_time": "2022-06-03T11:28:30.471Z"
   },
   {
    "duration": 28,
    "start_time": "2022-06-03T11:28:30.477Z"
   },
   {
    "duration": 11,
    "start_time": "2022-06-03T11:28:30.507Z"
   },
   {
    "duration": 943,
    "start_time": "2022-06-03T11:28:30.520Z"
   },
   {
    "duration": 2360,
    "start_time": "2022-06-03T11:28:31.466Z"
   },
   {
    "duration": 15,
    "start_time": "2022-06-03T11:28:33.828Z"
   },
   {
    "duration": 21,
    "start_time": "2022-06-03T11:28:33.845Z"
   },
   {
    "duration": 8,
    "start_time": "2022-06-03T11:28:33.868Z"
   },
   {
    "duration": 333,
    "start_time": "2022-06-03T11:28:33.877Z"
   },
   {
    "duration": 197,
    "start_time": "2022-06-03T11:28:34.212Z"
   },
   {
    "duration": 3,
    "start_time": "2022-06-03T11:28:34.412Z"
   },
   {
    "duration": 43,
    "start_time": "2022-06-03T11:28:34.416Z"
   },
   {
    "duration": 143,
    "start_time": "2022-06-03T11:28:34.461Z"
   },
   {
    "duration": 3,
    "start_time": "2022-06-03T11:28:34.606Z"
   },
   {
    "duration": 111,
    "start_time": "2022-06-03T11:28:34.612Z"
   },
   {
    "duration": 41,
    "start_time": "2022-06-03T11:28:34.725Z"
   },
   {
    "duration": 49,
    "start_time": "2022-06-03T11:28:34.768Z"
   },
   {
    "duration": 119,
    "start_time": "2022-06-03T11:28:34.819Z"
   },
   {
    "duration": 2,
    "start_time": "2022-06-03T11:28:34.941Z"
   },
   {
    "duration": 24,
    "start_time": "2022-06-03T11:28:34.945Z"
   },
   {
    "duration": 6,
    "start_time": "2022-06-03T11:28:34.971Z"
   },
   {
    "duration": 282,
    "start_time": "2022-06-03T11:28:34.979Z"
   },
   {
    "duration": 105,
    "start_time": "2022-06-03T11:28:35.264Z"
   },
   {
    "duration": 31,
    "start_time": "2022-06-03T11:28:35.371Z"
   },
   {
    "duration": 153,
    "start_time": "2022-06-03T11:28:35.404Z"
   },
   {
    "duration": 3,
    "start_time": "2022-06-03T11:28:35.559Z"
   },
   {
    "duration": 5,
    "start_time": "2022-06-03T11:28:35.564Z"
   },
   {
    "duration": 323,
    "start_time": "2022-06-03T11:28:35.570Z"
   },
   {
    "duration": 133,
    "start_time": "2022-06-03T11:28:35.897Z"
   },
   {
    "duration": 3,
    "start_time": "2022-06-03T11:28:36.031Z"
   },
   {
    "duration": 19217,
    "start_time": "2022-06-03T11:28:36.041Z"
   },
   {
    "duration": 29,
    "start_time": "2022-06-03T11:28:55.260Z"
   },
   {
    "duration": 6,
    "start_time": "2022-06-03T11:28:55.291Z"
   },
   {
    "duration": 124,
    "start_time": "2022-06-03T11:28:55.299Z"
   },
   {
    "duration": 3485,
    "start_time": "2022-06-03T11:28:55.425Z"
   },
   {
    "duration": 117,
    "start_time": "2022-06-03T11:28:58.912Z"
   },
   {
    "duration": 20,
    "start_time": "2022-06-03T11:28:59.031Z"
   },
   {
    "duration": 42,
    "start_time": "2022-06-03T11:28:59.057Z"
   },
   {
    "duration": 66,
    "start_time": "2022-06-03T11:28:59.101Z"
   },
   {
    "duration": 85,
    "start_time": "2022-06-03T11:28:59.169Z"
   },
   {
    "duration": 30,
    "start_time": "2022-06-03T11:28:59.259Z"
   },
   {
    "duration": 3,
    "start_time": "2022-06-03T11:28:59.291Z"
   },
   {
    "duration": 5,
    "start_time": "2022-06-03T11:28:59.295Z"
   },
   {
    "duration": 590,
    "start_time": "2022-06-03T11:28:59.302Z"
   },
   {
    "duration": 447,
    "start_time": "2022-06-03T11:28:59.893Z"
   },
   {
    "duration": 55,
    "start_time": "2022-06-03T11:29:00.351Z"
   },
   {
    "duration": 1653,
    "start_time": "2022-06-03T11:29:00.408Z"
   },
   {
    "duration": 36,
    "start_time": "2022-06-03T11:29:02.063Z"
   },
   {
    "duration": 51,
    "start_time": "2022-06-03T11:29:02.101Z"
   },
   {
    "duration": 440,
    "start_time": "2022-06-03T11:29:02.153Z"
   },
   {
    "duration": 33,
    "start_time": "2022-06-03T11:29:02.595Z"
   },
   {
    "duration": 5080,
    "start_time": "2022-06-03T11:29:02.640Z"
   },
   {
    "duration": 2,
    "start_time": "2022-06-03T11:29:07.722Z"
   },
   {
    "duration": 55,
    "start_time": "2022-06-03T11:29:07.726Z"
   },
   {
    "duration": 47,
    "start_time": "2022-06-03T11:29:07.783Z"
   },
   {
    "duration": 137,
    "start_time": "2022-06-03T11:29:07.832Z"
   },
   {
    "duration": 3,
    "start_time": "2022-06-03T11:29:07.971Z"
   },
   {
    "duration": 43,
    "start_time": "2022-06-03T11:29:07.981Z"
   },
   {
    "duration": 46,
    "start_time": "2022-06-03T11:29:08.027Z"
   },
   {
    "duration": 50,
    "start_time": "2022-06-03T11:29:08.075Z"
   },
   {
    "duration": 64,
    "start_time": "2022-06-03T11:29:08.127Z"
   },
   {
    "duration": 467,
    "start_time": "2022-06-03T11:29:08.193Z"
   },
   {
    "duration": 595,
    "start_time": "2022-06-03T11:29:14.472Z"
   },
   {
    "duration": 403,
    "start_time": "2022-06-03T11:29:34.691Z"
   },
   {
    "duration": 481,
    "start_time": "2022-06-03T11:30:08.438Z"
   },
   {
    "duration": 388,
    "start_time": "2022-06-03T11:30:14.534Z"
   },
   {
    "duration": 374,
    "start_time": "2022-06-03T11:30:35.207Z"
   },
   {
    "duration": 396,
    "start_time": "2022-06-03T11:30:42.286Z"
   },
   {
    "duration": 578,
    "start_time": "2022-06-03T11:36:17.406Z"
   },
   {
    "duration": 333,
    "start_time": "2022-06-03T11:36:23.933Z"
   },
   {
    "duration": 373,
    "start_time": "2022-06-03T11:36:29.701Z"
   },
   {
    "duration": 493,
    "start_time": "2022-06-03T11:36:33.588Z"
   },
   {
    "duration": 269,
    "start_time": "2022-06-03T11:36:39.065Z"
   },
   {
    "duration": 263,
    "start_time": "2022-06-03T11:36:41.709Z"
   },
   {
    "duration": 228,
    "start_time": "2022-06-03T11:36:56.102Z"
   },
   {
    "duration": 1889,
    "start_time": "2022-06-03T11:40:39.953Z"
   },
   {
    "duration": 251,
    "start_time": "2022-06-03T11:40:50.311Z"
   },
   {
    "duration": 228,
    "start_time": "2022-06-03T11:40:54.101Z"
   },
   {
    "duration": 13,
    "start_time": "2022-06-03T11:48:06.380Z"
   },
   {
    "duration": 4,
    "start_time": "2022-06-03T11:48:10.288Z"
   },
   {
    "duration": 12,
    "start_time": "2022-06-03T11:48:14.672Z"
   },
   {
    "duration": 12,
    "start_time": "2022-06-03T11:48:23.570Z"
   },
   {
    "duration": 13,
    "start_time": "2022-06-03T11:48:30.198Z"
   },
   {
    "duration": 5,
    "start_time": "2022-06-03T11:48:34.005Z"
   },
   {
    "duration": 5,
    "start_time": "2022-06-03T11:50:22.256Z"
   },
   {
    "duration": 505,
    "start_time": "2022-06-03T11:50:31.633Z"
   },
   {
    "duration": 254,
    "start_time": "2022-06-03T11:50:57.426Z"
   },
   {
    "duration": 255,
    "start_time": "2022-06-03T11:51:07.681Z"
   },
   {
    "duration": 240,
    "start_time": "2022-06-03T11:51:53.460Z"
   },
   {
    "duration": 38,
    "start_time": "2022-06-03T11:52:20.906Z"
   },
   {
    "duration": 39,
    "start_time": "2022-06-03T11:52:52.128Z"
   },
   {
    "duration": 243,
    "start_time": "2022-06-03T11:53:26.217Z"
   },
   {
    "duration": 29,
    "start_time": "2022-06-03T11:55:10.272Z"
   },
   {
    "duration": 14,
    "start_time": "2022-06-03T11:55:45.700Z"
   },
   {
    "duration": 226,
    "start_time": "2022-06-03T11:55:49.231Z"
   },
   {
    "duration": 242,
    "start_time": "2022-06-03T11:56:01.571Z"
   },
   {
    "duration": 241,
    "start_time": "2022-06-03T11:56:07.484Z"
   },
   {
    "duration": 241,
    "start_time": "2022-06-03T11:56:30.068Z"
   },
   {
    "duration": 235,
    "start_time": "2022-06-03T11:56:50.656Z"
   },
   {
    "duration": 242,
    "start_time": "2022-06-03T11:56:58.953Z"
   },
   {
    "duration": 225,
    "start_time": "2022-06-03T11:57:13.554Z"
   },
   {
    "duration": 41,
    "start_time": "2022-06-03T12:00:34.229Z"
   },
   {
    "duration": 238,
    "start_time": "2022-06-03T12:01:19.100Z"
   },
   {
    "duration": 5096,
    "start_time": "2022-06-03T12:01:42.258Z"
   },
   {
    "duration": 28,
    "start_time": "2022-06-03T12:02:58.230Z"
   },
   {
    "duration": 1534,
    "start_time": "2022-06-03T12:03:08.784Z"
   },
   {
    "duration": 2,
    "start_time": "2022-06-03T12:05:08.871Z"
   },
   {
    "duration": 3,
    "start_time": "2022-06-03T12:05:09.085Z"
   },
   {
    "duration": 6,
    "start_time": "2022-06-03T12:05:09.929Z"
   },
   {
    "duration": 839,
    "start_time": "2022-06-03T12:05:10.371Z"
   },
   {
    "duration": 2323,
    "start_time": "2022-06-03T12:05:11.827Z"
   },
   {
    "duration": 4,
    "start_time": "2022-06-03T12:05:15.169Z"
   },
   {
    "duration": 4,
    "start_time": "2022-06-03T12:05:15.787Z"
   },
   {
    "duration": 2,
    "start_time": "2022-06-03T12:05:16.911Z"
   },
   {
    "duration": 357,
    "start_time": "2022-06-03T12:05:18.255Z"
   },
   {
    "duration": 197,
    "start_time": "2022-06-03T12:05:20.533Z"
   },
   {
    "duration": 3,
    "start_time": "2022-06-03T12:05:22.735Z"
   },
   {
    "duration": 24,
    "start_time": "2022-06-03T12:05:23.158Z"
   },
   {
    "duration": 142,
    "start_time": "2022-06-03T12:05:23.525Z"
   },
   {
    "duration": 3,
    "start_time": "2022-06-03T12:05:24.885Z"
   },
   {
    "duration": 92,
    "start_time": "2022-06-03T12:05:25.467Z"
   },
   {
    "duration": 40,
    "start_time": "2022-06-03T12:05:26.538Z"
   },
   {
    "duration": 48,
    "start_time": "2022-06-03T12:05:28.055Z"
   },
   {
    "duration": 94,
    "start_time": "2022-06-03T12:05:28.330Z"
   },
   {
    "duration": 2,
    "start_time": "2022-06-03T12:05:29.176Z"
   },
   {
    "duration": 3,
    "start_time": "2022-06-03T12:05:30.312Z"
   },
   {
    "duration": 9,
    "start_time": "2022-06-03T12:05:30.586Z"
   },
   {
    "duration": 236,
    "start_time": "2022-06-03T12:05:30.856Z"
   },
   {
    "duration": 95,
    "start_time": "2022-06-03T12:05:31.211Z"
   },
   {
    "duration": 40,
    "start_time": "2022-06-03T12:05:31.525Z"
   },
   {
    "duration": 131,
    "start_time": "2022-06-03T12:05:32.215Z"
   },
   {
    "duration": 3,
    "start_time": "2022-06-03T12:05:32.960Z"
   },
   {
    "duration": 3,
    "start_time": "2022-06-03T12:05:33.129Z"
   },
   {
    "duration": 321,
    "start_time": "2022-06-03T12:05:33.305Z"
   },
   {
    "duration": 130,
    "start_time": "2022-06-03T12:05:34.067Z"
   },
   {
    "duration": 3,
    "start_time": "2022-06-03T12:05:34.254Z"
   },
   {
    "duration": 19658,
    "start_time": "2022-06-03T12:05:34.420Z"
   },
   {
    "duration": 28,
    "start_time": "2022-06-03T12:05:54.080Z"
   },
   {
    "duration": 5,
    "start_time": "2022-06-03T12:05:54.110Z"
   },
   {
    "duration": 142,
    "start_time": "2022-06-03T12:05:54.117Z"
   },
   {
    "duration": 3530,
    "start_time": "2022-06-03T12:05:54.261Z"
   },
   {
    "duration": 153,
    "start_time": "2022-06-03T12:05:57.796Z"
   },
   {
    "duration": 2760,
    "start_time": "2022-06-03T12:06:00.475Z"
   },
   {
    "duration": 3,
    "start_time": "2022-06-03T12:09:00.635Z"
   },
   {
    "duration": 3,
    "start_time": "2022-06-03T12:09:54.721Z"
   },
   {
    "duration": 2,
    "start_time": "2022-06-03T12:09:54.736Z"
   },
   {
    "duration": 6,
    "start_time": "2022-06-03T12:09:54.763Z"
   },
   {
    "duration": 880,
    "start_time": "2022-06-03T12:09:54.771Z"
   },
   {
    "duration": 2461,
    "start_time": "2022-06-03T12:09:55.653Z"
   },
   {
    "duration": 4,
    "start_time": "2022-06-03T12:09:58.119Z"
   },
   {
    "duration": 22,
    "start_time": "2022-06-03T12:09:58.124Z"
   },
   {
    "duration": 24,
    "start_time": "2022-06-03T12:09:58.150Z"
   },
   {
    "duration": 340,
    "start_time": "2022-06-03T12:09:58.177Z"
   },
   {
    "duration": 237,
    "start_time": "2022-06-03T12:09:58.519Z"
   },
   {
    "duration": 2,
    "start_time": "2022-06-03T12:09:58.759Z"
   },
   {
    "duration": 26,
    "start_time": "2022-06-03T12:09:58.763Z"
   },
   {
    "duration": 140,
    "start_time": "2022-06-03T12:09:58.791Z"
   },
   {
    "duration": 10,
    "start_time": "2022-06-03T12:09:58.933Z"
   },
   {
    "duration": 120,
    "start_time": "2022-06-03T12:09:58.956Z"
   },
   {
    "duration": 36,
    "start_time": "2022-06-03T12:09:59.078Z"
   },
   {
    "duration": 70,
    "start_time": "2022-06-03T12:09:59.116Z"
   },
   {
    "duration": 94,
    "start_time": "2022-06-03T12:09:59.188Z"
   },
   {
    "duration": 2,
    "start_time": "2022-06-03T12:09:59.284Z"
   },
   {
    "duration": 8,
    "start_time": "2022-06-03T12:09:59.288Z"
   },
   {
    "duration": 6,
    "start_time": "2022-06-03T12:09:59.297Z"
   },
   {
    "duration": 251,
    "start_time": "2022-06-03T12:09:59.305Z"
   },
   {
    "duration": 91,
    "start_time": "2022-06-03T12:09:59.559Z"
   },
   {
    "duration": 54,
    "start_time": "2022-06-03T12:09:59.661Z"
   },
   {
    "duration": 174,
    "start_time": "2022-06-03T12:09:59.718Z"
   },
   {
    "duration": 2,
    "start_time": "2022-06-03T12:09:59.898Z"
   },
   {
    "duration": 8,
    "start_time": "2022-06-03T12:09:59.902Z"
   },
   {
    "duration": 380,
    "start_time": "2022-06-03T12:09:59.912Z"
   },
   {
    "duration": 138,
    "start_time": "2022-06-03T12:10:00.294Z"
   },
   {
    "duration": 11,
    "start_time": "2022-06-03T12:10:00.434Z"
   },
   {
    "duration": 19626,
    "start_time": "2022-06-03T12:10:00.446Z"
   },
   {
    "duration": 32,
    "start_time": "2022-06-03T12:10:20.074Z"
   },
   {
    "duration": 11,
    "start_time": "2022-06-03T12:10:20.108Z"
   },
   {
    "duration": 154,
    "start_time": "2022-06-03T12:10:20.121Z"
   },
   {
    "duration": 4838,
    "start_time": "2022-06-03T12:10:20.277Z"
   },
   {
    "duration": 117,
    "start_time": "2022-06-03T12:10:25.117Z"
   },
   {
    "duration": 10,
    "start_time": "2022-06-03T12:10:25.246Z"
   },
   {
    "duration": 54,
    "start_time": "2022-06-03T12:10:25.258Z"
   },
   {
    "duration": 61,
    "start_time": "2022-06-03T12:10:25.314Z"
   },
   {
    "duration": 65,
    "start_time": "2022-06-03T12:10:25.377Z"
   },
   {
    "duration": 34,
    "start_time": "2022-06-03T12:10:25.444Z"
   },
   {
    "duration": 3,
    "start_time": "2022-06-03T12:10:25.479Z"
   },
   {
    "duration": 11,
    "start_time": "2022-06-03T12:10:25.484Z"
   },
   {
    "duration": 473,
    "start_time": "2022-06-03T12:10:25.497Z"
   },
   {
    "duration": 456,
    "start_time": "2022-06-03T12:10:25.972Z"
   },
   {
    "duration": 70,
    "start_time": "2022-06-03T12:10:26.431Z"
   },
   {
    "duration": 2075,
    "start_time": "2022-06-03T12:10:26.503Z"
   },
   {
    "duration": 94,
    "start_time": "2022-06-03T12:10:28.581Z"
   },
   {
    "duration": 89,
    "start_time": "2022-06-03T12:10:28.677Z"
   },
   {
    "duration": 1092,
    "start_time": "2022-06-03T12:10:28.768Z"
   },
   {
    "duration": 100,
    "start_time": "2022-06-03T12:10:29.863Z"
   },
   {
    "duration": 4172,
    "start_time": "2022-06-03T12:10:29.965Z"
   },
   {
    "duration": 9,
    "start_time": "2022-06-03T12:10:34.139Z"
   },
   {
    "duration": 19,
    "start_time": "2022-06-03T12:10:34.156Z"
   },
   {
    "duration": 10,
    "start_time": "2022-06-03T12:10:34.178Z"
   },
   {
    "duration": 82,
    "start_time": "2022-06-03T12:10:34.190Z"
   },
   {
    "duration": 4,
    "start_time": "2022-06-03T12:10:34.274Z"
   },
   {
    "duration": 13,
    "start_time": "2022-06-03T12:10:34.280Z"
   },
   {
    "duration": 3,
    "start_time": "2022-06-03T12:10:34.296Z"
   },
   {
    "duration": 43,
    "start_time": "2022-06-03T12:10:34.302Z"
   },
   {
    "duration": 33,
    "start_time": "2022-06-03T12:10:34.347Z"
   },
   {
    "duration": 0,
    "start_time": "2022-06-03T12:10:34.382Z"
   },
   {
    "duration": 0,
    "start_time": "2022-06-03T12:10:34.385Z"
   },
   {
    "duration": 0,
    "start_time": "2022-06-03T12:10:34.386Z"
   },
   {
    "duration": 0,
    "start_time": "2022-06-03T12:10:34.387Z"
   },
   {
    "duration": 0,
    "start_time": "2022-06-03T12:10:34.390Z"
   },
   {
    "duration": 0,
    "start_time": "2022-06-03T12:10:34.392Z"
   },
   {
    "duration": 0,
    "start_time": "2022-06-03T12:10:34.393Z"
   },
   {
    "duration": 0,
    "start_time": "2022-06-03T12:10:34.395Z"
   },
   {
    "duration": 0,
    "start_time": "2022-06-03T12:10:34.397Z"
   },
   {
    "duration": 0,
    "start_time": "2022-06-03T12:10:34.398Z"
   },
   {
    "duration": 0,
    "start_time": "2022-06-03T12:10:34.400Z"
   },
   {
    "duration": 0,
    "start_time": "2022-06-03T12:10:34.402Z"
   },
   {
    "duration": 0,
    "start_time": "2022-06-03T12:10:34.403Z"
   },
   {
    "duration": 0,
    "start_time": "2022-06-03T12:10:34.448Z"
   },
   {
    "duration": 0,
    "start_time": "2022-06-03T12:10:34.449Z"
   },
   {
    "duration": 7,
    "start_time": "2022-06-03T12:11:57.228Z"
   },
   {
    "duration": 320,
    "start_time": "2022-06-03T12:11:58.790Z"
   },
   {
    "duration": 2,
    "start_time": "2022-06-03T12:12:15.322Z"
   },
   {
    "duration": 7,
    "start_time": "2022-06-03T12:12:15.329Z"
   },
   {
    "duration": 10,
    "start_time": "2022-06-03T12:12:15.339Z"
   },
   {
    "duration": 894,
    "start_time": "2022-06-03T12:12:15.361Z"
   },
   {
    "duration": 2765,
    "start_time": "2022-06-03T12:12:16.257Z"
   },
   {
    "duration": 3,
    "start_time": "2022-06-03T12:12:19.024Z"
   },
   {
    "duration": 16,
    "start_time": "2022-06-03T12:12:19.042Z"
   },
   {
    "duration": 6,
    "start_time": "2022-06-03T12:12:19.061Z"
   },
   {
    "duration": 353,
    "start_time": "2022-06-03T12:12:19.070Z"
   },
   {
    "duration": 210,
    "start_time": "2022-06-03T12:12:19.425Z"
   },
   {
    "duration": 11,
    "start_time": "2022-06-03T12:12:19.636Z"
   },
   {
    "duration": 27,
    "start_time": "2022-06-03T12:12:19.659Z"
   },
   {
    "duration": 173,
    "start_time": "2022-06-03T12:12:19.688Z"
   },
   {
    "duration": 3,
    "start_time": "2022-06-03T12:12:19.865Z"
   },
   {
    "duration": 112,
    "start_time": "2022-06-03T12:12:19.869Z"
   },
   {
    "duration": 28,
    "start_time": "2022-06-03T12:12:19.983Z"
   },
   {
    "duration": 67,
    "start_time": "2022-06-03T12:12:20.015Z"
   },
   {
    "duration": 103,
    "start_time": "2022-06-03T12:12:20.084Z"
   },
   {
    "duration": 2,
    "start_time": "2022-06-03T12:12:20.189Z"
   },
   {
    "duration": 6,
    "start_time": "2022-06-03T12:12:20.193Z"
   },
   {
    "duration": 21,
    "start_time": "2022-06-03T12:12:20.201Z"
   },
   {
    "duration": 245,
    "start_time": "2022-06-03T12:12:20.224Z"
   },
   {
    "duration": 117,
    "start_time": "2022-06-03T12:12:20.471Z"
   },
   {
    "duration": 35,
    "start_time": "2022-06-03T12:12:20.590Z"
   },
   {
    "duration": 169,
    "start_time": "2022-06-03T12:12:20.642Z"
   },
   {
    "duration": 3,
    "start_time": "2022-06-03T12:12:20.813Z"
   },
   {
    "duration": 10,
    "start_time": "2022-06-03T12:12:20.817Z"
   },
   {
    "duration": 380,
    "start_time": "2022-06-03T12:12:20.829Z"
   },
   {
    "duration": 149,
    "start_time": "2022-06-03T12:12:21.211Z"
   },
   {
    "duration": 7,
    "start_time": "2022-06-03T12:12:21.365Z"
   },
   {
    "duration": 19884,
    "start_time": "2022-06-03T12:12:21.376Z"
   },
   {
    "duration": 30,
    "start_time": "2022-06-03T12:12:41.262Z"
   },
   {
    "duration": 6,
    "start_time": "2022-06-03T12:12:41.294Z"
   },
   {
    "duration": 133,
    "start_time": "2022-06-03T12:12:41.302Z"
   },
   {
    "duration": 3572,
    "start_time": "2022-06-03T12:12:41.442Z"
   },
   {
    "duration": 137,
    "start_time": "2022-06-03T12:12:45.016Z"
   },
   {
    "duration": 6,
    "start_time": "2022-06-03T12:12:45.154Z"
   },
   {
    "duration": 80,
    "start_time": "2022-06-03T12:12:45.162Z"
   },
   {
    "duration": 61,
    "start_time": "2022-06-03T12:12:45.251Z"
   },
   {
    "duration": 70,
    "start_time": "2022-06-03T12:12:45.314Z"
   },
   {
    "duration": 33,
    "start_time": "2022-06-03T12:12:45.386Z"
   },
   {
    "duration": 23,
    "start_time": "2022-06-03T12:12:45.421Z"
   },
   {
    "duration": 42,
    "start_time": "2022-06-03T12:12:45.446Z"
   },
   {
    "duration": 636,
    "start_time": "2022-06-03T12:12:45.492Z"
   },
   {
    "duration": 533,
    "start_time": "2022-06-03T12:12:46.129Z"
   },
   {
    "duration": 53,
    "start_time": "2022-06-03T12:12:46.664Z"
   },
   {
    "duration": 1850,
    "start_time": "2022-06-03T12:12:46.720Z"
   },
   {
    "duration": 50,
    "start_time": "2022-06-03T12:12:48.573Z"
   },
   {
    "duration": 50,
    "start_time": "2022-06-03T12:12:48.625Z"
   },
   {
    "duration": 462,
    "start_time": "2022-06-03T12:12:48.677Z"
   },
   {
    "duration": 45,
    "start_time": "2022-06-03T12:12:49.144Z"
   },
   {
    "duration": 3638,
    "start_time": "2022-06-03T12:12:49.191Z"
   },
   {
    "duration": 13,
    "start_time": "2022-06-03T12:12:52.832Z"
   },
   {
    "duration": 10,
    "start_time": "2022-06-03T12:12:52.856Z"
   },
   {
    "duration": 5,
    "start_time": "2022-06-03T12:12:52.869Z"
   },
   {
    "duration": 71,
    "start_time": "2022-06-03T12:12:52.877Z"
   },
   {
    "duration": 8,
    "start_time": "2022-06-03T12:12:52.955Z"
   },
   {
    "duration": 23,
    "start_time": "2022-06-03T12:12:52.965Z"
   },
   {
    "duration": 4,
    "start_time": "2022-06-03T12:12:52.990Z"
   },
   {
    "duration": 24,
    "start_time": "2022-06-03T12:12:52.996Z"
   },
   {
    "duration": 45,
    "start_time": "2022-06-03T12:13:17.906Z"
   },
   {
    "duration": 458,
    "start_time": "2022-06-03T12:13:19.215Z"
   },
   {
    "duration": 4,
    "start_time": "2022-06-03T12:13:24.533Z"
   },
   {
    "duration": 268,
    "start_time": "2022-06-03T12:13:26.707Z"
   },
   {
    "duration": 487,
    "start_time": "2022-06-03T12:13:28.412Z"
   },
   {
    "duration": 38,
    "start_time": "2022-06-03T12:13:31.290Z"
   },
   {
    "duration": 224,
    "start_time": "2022-06-03T12:13:33.189Z"
   },
   {
    "duration": 41,
    "start_time": "2022-06-03T12:13:35.932Z"
   },
   {
    "duration": 264,
    "start_time": "2022-06-03T12:13:38.258Z"
   },
   {
    "duration": 3,
    "start_time": "2022-06-03T12:13:40.789Z"
   },
   {
    "duration": 4,
    "start_time": "2022-06-03T12:13:41.225Z"
   },
   {
    "duration": 2,
    "start_time": "2022-06-03T12:13:42.158Z"
   },
   {
    "duration": 2,
    "start_time": "2022-06-03T12:13:43.469Z"
   },
   {
    "duration": 3793,
    "start_time": "2022-06-03T12:13:45.391Z"
   },
   {
    "duration": 8,
    "start_time": "2022-06-03T12:14:50.483Z"
   },
   {
    "duration": 33,
    "start_time": "2022-06-03T12:14:55.806Z"
   },
   {
    "duration": 12,
    "start_time": "2022-06-03T12:15:02.406Z"
   },
   {
    "duration": 41,
    "start_time": "2022-06-03T12:15:09.018Z"
   },
   {
    "duration": 39,
    "start_time": "2022-06-03T12:16:30.223Z"
   },
   {
    "duration": 48,
    "start_time": "2022-06-03T12:16:37.114Z"
   },
   {
    "duration": 45,
    "start_time": "2022-06-03T12:16:50.608Z"
   },
   {
    "duration": 5,
    "start_time": "2022-06-03T12:17:56.257Z"
   },
   {
    "duration": 2,
    "start_time": "2022-06-03T12:22:06.218Z"
   },
   {
    "duration": 4442,
    "start_time": "2022-06-03T12:23:02.593Z"
   },
   {
    "duration": 2141,
    "start_time": "2022-06-03T12:24:15.657Z"
   },
   {
    "duration": 34,
    "start_time": "2022-06-03T12:24:24.746Z"
   },
   {
    "duration": 16,
    "start_time": "2022-06-03T12:24:25.878Z"
   },
   {
    "duration": 19,
    "start_time": "2022-06-03T12:24:58.690Z"
   },
   {
    "duration": 5,
    "start_time": "2022-06-03T12:24:59.991Z"
   },
   {
    "duration": 10,
    "start_time": "2022-06-03T12:25:03.698Z"
   },
   {
    "duration": 85,
    "start_time": "2022-06-03T12:27:12.227Z"
   },
   {
    "duration": 26,
    "start_time": "2022-06-03T12:29:40.930Z"
   },
   {
    "duration": 137,
    "start_time": "2022-06-03T12:29:47.925Z"
   },
   {
    "duration": 83,
    "start_time": "2022-06-03T12:29:50.112Z"
   },
   {
    "duration": 2343,
    "start_time": "2022-06-03T12:30:06.733Z"
   },
   {
    "duration": 68,
    "start_time": "2022-06-03T12:33:00.414Z"
   },
   {
    "duration": 11,
    "start_time": "2022-06-03T12:34:00.685Z"
   },
   {
    "duration": 21,
    "start_time": "2022-06-03T12:40:37.322Z"
   },
   {
    "duration": 5,
    "start_time": "2022-06-03T12:45:16.642Z"
   },
   {
    "duration": 1637,
    "start_time": "2022-06-03T12:45:18.865Z"
   },
   {
    "duration": 1571,
    "start_time": "2022-06-03T12:45:23.777Z"
   },
   {
    "duration": 4412,
    "start_time": "2022-06-03T12:47:48.164Z"
   },
   {
    "duration": 4,
    "start_time": "2022-06-03T12:50:12.020Z"
   },
   {
    "duration": 7,
    "start_time": "2022-06-03T12:50:54.901Z"
   },
   {
    "duration": 56,
    "start_time": "2022-06-03T12:51:23.044Z"
   },
   {
    "duration": 13,
    "start_time": "2022-06-03T12:51:38.838Z"
   },
   {
    "duration": 251533,
    "start_time": "2022-06-03T12:51:39.481Z"
   },
   {
    "duration": 7,
    "start_time": "2022-06-03T12:58:06.540Z"
   },
   {
    "duration": 4,
    "start_time": "2022-06-03T12:58:10.982Z"
   },
   {
    "duration": 16,
    "start_time": "2022-06-03T12:58:11.760Z"
   },
   {
    "duration": 5,
    "start_time": "2022-06-03T12:58:14.322Z"
   },
   {
    "duration": 258852,
    "start_time": "2022-06-03T13:00:54.026Z"
   },
   {
    "duration": 4,
    "start_time": "2022-06-03T13:10:01.016Z"
   },
   {
    "duration": 7,
    "start_time": "2022-06-03T13:10:06.654Z"
   },
   {
    "duration": 204897,
    "start_time": "2022-06-03T13:10:08.414Z"
   },
   {
    "duration": 4,
    "start_time": "2022-06-03T13:13:33.313Z"
   },
   {
    "duration": 35,
    "start_time": "2022-06-03T13:13:33.318Z"
   },
   {
    "duration": 26,
    "start_time": "2022-06-03T13:13:33.366Z"
   },
   {
    "duration": 5,
    "start_time": "2022-06-03T13:13:33.394Z"
   },
   {
    "duration": 61,
    "start_time": "2022-06-03T13:18:21.624Z"
   },
   {
    "duration": 38,
    "start_time": "2022-06-03T13:18:51.059Z"
   },
   {
    "duration": 8748,
    "start_time": "2022-06-03T13:19:09.572Z"
   },
   {
    "duration": 46,
    "start_time": "2022-06-03T13:19:37.223Z"
   },
   {
    "duration": 2685119,
    "start_time": "2022-06-03T13:20:55.654Z"
   },
   {
    "duration": 3,
    "start_time": "2022-06-03T14:05:40.776Z"
   },
   {
    "duration": 48,
    "start_time": "2022-06-03T14:05:40.781Z"
   },
   {
    "duration": 58,
    "start_time": "2022-06-03T14:05:40.831Z"
   },
   {
    "duration": 5,
    "start_time": "2022-06-03T14:06:16.701Z"
   },
   {
    "duration": 17,
    "start_time": "2022-06-03T14:06:17.787Z"
   },
   {
    "duration": 8,
    "start_time": "2022-06-03T14:06:18.559Z"
   },
   {
    "duration": 1642043,
    "start_time": "2022-06-03T14:08:11.830Z"
   },
   {
    "duration": 369501,
    "start_time": "2022-06-03T14:35:39.878Z"
   },
   {
    "duration": 121673,
    "start_time": "2022-06-03T14:41:50.807Z"
   },
   {
    "duration": 530,
    "start_time": "2022-06-04T20:33:57.307Z"
   },
   {
    "duration": 1353,
    "start_time": "2022-06-04T20:34:11.782Z"
   },
   {
    "duration": 49,
    "start_time": "2022-06-04T20:34:24.746Z"
   },
   {
    "duration": 12,
    "start_time": "2022-06-04T20:34:39.916Z"
   },
   {
    "duration": 18,
    "start_time": "2022-06-04T20:34:44.257Z"
   },
   {
    "duration": 1338,
    "start_time": "2022-06-04T20:35:07.883Z"
   },
   {
    "duration": 4,
    "start_time": "2022-06-04T20:35:12.890Z"
   },
   {
    "duration": 35,
    "start_time": "2022-06-04T20:36:02.219Z"
   },
   {
    "duration": 409,
    "start_time": "2022-06-04T20:36:17.483Z"
   },
   {
    "duration": 12,
    "start_time": "2022-06-04T20:36:24.550Z"
   },
   {
    "duration": 10,
    "start_time": "2022-06-04T20:36:28.239Z"
   },
   {
    "duration": 10,
    "start_time": "2022-06-04T20:36:39.411Z"
   },
   {
    "duration": 45,
    "start_time": "2022-06-04T20:36:44.103Z"
   },
   {
    "duration": 51,
    "start_time": "2022-06-04T20:36:58.046Z"
   },
   {
    "duration": 30,
    "start_time": "2022-06-04T20:42:10.186Z"
   },
   {
    "duration": 46,
    "start_time": "2022-06-04T20:44:20.643Z"
   },
   {
    "duration": 61,
    "start_time": "2022-06-04T20:53:35.451Z"
   },
   {
    "duration": 64,
    "start_time": "2022-06-04T21:01:30.822Z"
   },
   {
    "duration": 64,
    "start_time": "2022-06-04T21:01:38.620Z"
   },
   {
    "duration": 30,
    "start_time": "2022-06-04T21:01:46.885Z"
   },
   {
    "duration": 49,
    "start_time": "2022-06-04T21:03:52.684Z"
   },
   {
    "duration": 59,
    "start_time": "2022-06-04T21:05:08.371Z"
   },
   {
    "duration": 245,
    "start_time": "2022-06-04T21:07:57.536Z"
   },
   {
    "duration": 221,
    "start_time": "2022-06-04T21:08:03.772Z"
   },
   {
    "duration": 315,
    "start_time": "2022-06-04T21:09:10.252Z"
   },
   {
    "duration": 297,
    "start_time": "2022-06-04T21:09:23.581Z"
   },
   {
    "duration": 333,
    "start_time": "2022-06-04T21:09:36.119Z"
   },
   {
    "duration": 388,
    "start_time": "2022-06-04T21:09:45.645Z"
   },
   {
    "duration": 227,
    "start_time": "2022-06-04T21:11:53.876Z"
   },
   {
    "duration": 348,
    "start_time": "2022-06-04T21:20:44.451Z"
   },
   {
    "duration": 315,
    "start_time": "2022-06-04T21:20:50.288Z"
   },
   {
    "duration": 227,
    "start_time": "2022-06-04T21:21:11.099Z"
   },
   {
    "duration": 47,
    "start_time": "2022-06-04T22:29:52.935Z"
   },
   {
    "duration": 4,
    "start_time": "2022-06-05T07:44:30.641Z"
   },
   {
    "duration": 3,
    "start_time": "2022-06-05T07:44:31.152Z"
   },
   {
    "duration": 3,
    "start_time": "2022-06-05T07:44:32.204Z"
   },
   {
    "duration": 1525,
    "start_time": "2022-06-05T07:44:33.378Z"
   },
   {
    "duration": 1072,
    "start_time": "2022-06-05T07:44:34.905Z"
   },
   {
    "duration": 115,
    "start_time": "2022-06-05T07:44:40.078Z"
   },
   {
    "duration": 4,
    "start_time": "2022-06-05T07:44:45.778Z"
   },
   {
    "duration": 5,
    "start_time": "2022-06-05T07:44:46.701Z"
   },
   {
    "duration": 2,
    "start_time": "2022-06-05T07:44:47.847Z"
   },
   {
    "duration": 391,
    "start_time": "2022-06-05T07:44:49.504Z"
   },
   {
    "duration": 155,
    "start_time": "2022-06-05T07:44:51.048Z"
   },
   {
    "duration": 2,
    "start_time": "2022-06-05T07:44:52.257Z"
   },
   {
    "duration": 23,
    "start_time": "2022-06-05T07:44:52.448Z"
   },
   {
    "duration": 109,
    "start_time": "2022-06-05T07:44:52.632Z"
   },
   {
    "duration": 3,
    "start_time": "2022-06-05T07:44:53.428Z"
   },
   {
    "duration": 111,
    "start_time": "2022-06-05T07:44:53.847Z"
   },
   {
    "duration": 29,
    "start_time": "2022-06-05T07:44:54.258Z"
   },
   {
    "duration": 64,
    "start_time": "2022-06-05T07:44:55.043Z"
   },
   {
    "duration": 76,
    "start_time": "2022-06-05T07:44:55.285Z"
   },
   {
    "duration": 3,
    "start_time": "2022-06-05T07:44:55.888Z"
   },
   {
    "duration": 3,
    "start_time": "2022-06-05T07:44:56.258Z"
   },
   {
    "duration": 3,
    "start_time": "2022-06-05T07:44:56.484Z"
   },
   {
    "duration": 239,
    "start_time": "2022-06-05T07:44:56.695Z"
   },
   {
    "duration": 76,
    "start_time": "2022-06-05T07:44:57.328Z"
   },
   {
    "duration": 30,
    "start_time": "2022-06-05T07:44:57.719Z"
   },
   {
    "duration": 124,
    "start_time": "2022-06-05T07:44:58.557Z"
   },
   {
    "duration": 3,
    "start_time": "2022-06-05T07:44:59.379Z"
   },
   {
    "duration": 2,
    "start_time": "2022-06-05T07:44:59.579Z"
   },
   {
    "duration": 289,
    "start_time": "2022-06-05T07:44:59.779Z"
   },
   {
    "duration": 112,
    "start_time": "2022-06-05T07:45:00.636Z"
   },
   {
    "duration": 3,
    "start_time": "2022-06-05T07:45:00.804Z"
   },
   {
    "duration": 16018,
    "start_time": "2022-06-05T07:45:01.027Z"
   },
   {
    "duration": 27,
    "start_time": "2022-06-05T07:45:17.047Z"
   },
   {
    "duration": 7,
    "start_time": "2022-06-05T07:45:17.076Z"
   },
   {
    "duration": 143,
    "start_time": "2022-06-05T07:45:17.085Z"
   },
   {
    "duration": 2468,
    "start_time": "2022-06-05T07:45:17.229Z"
   },
   {
    "duration": 106,
    "start_time": "2022-06-05T07:45:19.698Z"
   },
   {
    "duration": 3,
    "start_time": "2022-06-05T07:45:19.807Z"
   },
   {
    "duration": 42,
    "start_time": "2022-06-05T07:45:19.812Z"
   },
   {
    "duration": 52,
    "start_time": "2022-06-05T07:45:19.855Z"
   },
   {
    "duration": 76,
    "start_time": "2022-06-05T07:45:19.928Z"
   },
   {
    "duration": 54,
    "start_time": "2022-06-05T07:45:20.006Z"
   },
   {
    "duration": 3,
    "start_time": "2022-06-05T07:45:20.062Z"
   },
   {
    "duration": 9,
    "start_time": "2022-06-05T07:45:20.066Z"
   },
   {
    "duration": 485,
    "start_time": "2022-06-05T07:45:20.076Z"
   },
   {
    "duration": 422,
    "start_time": "2022-06-05T07:45:20.563Z"
   },
   {
    "duration": 61,
    "start_time": "2022-06-05T07:45:20.987Z"
   },
   {
    "duration": 1417,
    "start_time": "2022-06-05T07:45:22.476Z"
   },
   {
    "duration": 51,
    "start_time": "2022-06-05T07:45:23.896Z"
   },
   {
    "duration": 31,
    "start_time": "2022-06-05T07:45:23.949Z"
   },
   {
    "duration": 352,
    "start_time": "2022-06-05T07:45:23.982Z"
   },
   {
    "duration": 31,
    "start_time": "2022-06-05T07:45:24.578Z"
   },
   {
    "duration": 3051,
    "start_time": "2022-06-05T07:45:25.415Z"
   },
   {
    "duration": 2,
    "start_time": "2022-06-05T07:45:28.468Z"
   },
   {
    "duration": 9,
    "start_time": "2022-06-05T07:45:28.472Z"
   },
   {
    "duration": 6,
    "start_time": "2022-06-05T07:45:28.483Z"
   },
   {
    "duration": 94,
    "start_time": "2022-06-05T07:45:28.490Z"
   },
   {
    "duration": 2,
    "start_time": "2022-06-05T07:45:28.586Z"
   },
   {
    "duration": 7,
    "start_time": "2022-06-05T07:45:28.638Z"
   },
   {
    "duration": 2,
    "start_time": "2022-06-05T07:45:29.247Z"
   },
   {
    "duration": 21,
    "start_time": "2022-06-05T07:45:35.281Z"
   },
   {
    "duration": 27,
    "start_time": "2022-06-05T07:45:39.131Z"
   },
   {
    "duration": 474,
    "start_time": "2022-06-05T07:45:41.451Z"
   },
   {
    "duration": 4,
    "start_time": "2022-06-05T07:45:48.753Z"
   },
   {
    "duration": 444,
    "start_time": "2022-06-05T07:47:52.781Z"
   },
   {
    "duration": 378,
    "start_time": "2022-06-05T07:47:58.155Z"
   },
   {
    "duration": 518,
    "start_time": "2022-06-05T07:48:04.023Z"
   },
   {
    "duration": 319,
    "start_time": "2022-06-05T07:48:36.897Z"
   },
   {
    "duration": 1359,
    "start_time": "2022-06-05T07:48:49.656Z"
   },
   {
    "duration": 508,
    "start_time": "2022-06-05T07:48:55.195Z"
   },
   {
    "duration": 273,
    "start_time": "2022-06-05T07:49:49.733Z"
   },
   {
    "duration": 27,
    "start_time": "2022-06-05T07:54:48.411Z"
   }
  ],
  "interpreter": {
   "hash": "916dbcbb3f70747c44a77c7bcd40155683ae19c65e1c03b4aa3499c5328201f1"
  },
  "kernelspec": {
   "display_name": "Python 3 (ipykernel)",
   "language": "python",
   "name": "python3"
  },
  "language_info": {
   "codemirror_mode": {
    "name": "ipython",
    "version": 3
   },
   "file_extension": ".py",
   "mimetype": "text/x-python",
   "name": "python",
   "nbconvert_exporter": "python",
   "pygments_lexer": "ipython3",
   "version": "3.9.13"
  },
  "toc": {
   "base_numbering": 1,
   "nav_menu": {},
   "number_sections": true,
   "sideBar": true,
   "skip_h1_title": true,
   "title_cell": "Table of Contents",
   "title_sidebar": "Contents",
   "toc_cell": false,
   "toc_position": {
    "height": "calc(100% - 180px)",
    "left": "10px",
    "top": "150px",
    "width": "357.047px"
   },
   "toc_section_display": true,
   "toc_window_display": true
  }
 },
 "nbformat": 4,
 "nbformat_minor": 2
}
